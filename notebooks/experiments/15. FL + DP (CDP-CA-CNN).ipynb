{
 "cells": [
  {
   "cell_type": "markdown",
   "id": "202ce149",
   "metadata": {},
   "source": [
    "# Central Differential Privacy (Client-Side Clipping)"
   ]
  },
  {
   "cell_type": "markdown",
   "metadata": {},
   "source": [
    "Central Differential Privacy (Client-Side Clipping) is a setup where the clipping of model updates happens on each client before sending the updates to the central server. After collecting all the clipped updates, the server aggregates them and adds noise centrally to enforce differential privacy.\n",
    "\n",
    "In this setup:\n",
    "\n",
    "- Clipping happens locally on the client — helping reduce the influence of outlier updates early.\n",
    "\n",
    "- Noise is added by the server — simplifying coordination of privacy guarantees.\n",
    "\n",
    "The specific strategy used here is:\n",
    "\n",
    "## CNN: DifferentialPrivacyClientSideAdaptiveClipping\n",
    "\n",
    "This strategy uses adaptive gradient clipping on the client side, allowing each client to dynamically adjust its clipping norm based on recent gradient statistics. Rather than enforcing a fixed global threshold, clients estimate suitable clipping bounds (e.g., via moving averages of gradient norms) to better match the scale of their local updates. This makes the differential privacy mechanism more data-aware, potentially improving model utility while still maintaining rigorous privacy guarantees during federated aggregation.\n",
    "\n",
    "<br><p>\n",
    "\n",
    "----"
   ]
  },
  {
   "cell_type": "code",
   "execution_count": 1,
   "id": "4f949af1",
   "metadata": {},
   "outputs": [
    {
     "name": "stdout",
     "output_type": "stream",
     "text": [
      "Python implementation: CPython\n",
      "Python version       : 3.12.10\n",
      "IPython version      : 9.1.0\n",
      "\n",
      "torch: 2.6.0\n",
      "flwr : 1.18.0\n",
      "\n"
     ]
    }
   ],
   "source": [
    "%load_ext autoreload\n",
    "%load_ext watermark\n",
    "    \n",
    "%autoreload 2\n",
    "%watermark --python -p torch,flwr"
   ]
  },
  {
   "cell_type": "markdown",
   "id": "dd8bd74e",
   "metadata": {},
   "source": [
    "--------\n",
    "\n",
    "## Loading Dependencies"
   ]
  },
  {
   "cell_type": "code",
   "execution_count": null,
   "metadata": {},
   "outputs": [],
   "source": [
    "import os\n",
    "import sys\n",
    "sys.path.append(\"../..\")\n",
    "\n",
    "import ray\n",
    "import time\n",
    "\n",
    "import torch.nn as nn\n",
    "from torchvision.models import resnet18, ResNet18_Weights\n",
    "\n",
    "from logging import ERROR\n",
    "\n",
    "from flwr.common import ndarrays_to_parameters, Context \n",
    "from flwr.client import Client, ClientApp\n",
    "from flwr.client.mod import adaptiveclipping_mod\n",
    "from flwr.server import ServerApp, ServerConfig, ServerAppComponents\n",
    "from flwr.server.strategy import DifferentialPrivacyClientSideAdaptiveClipping, FedAvg\n",
    "from flwr.simulation import run_simulation\n",
    "\n",
    "from src.config import ExperimentName\n",
    "from src.paths import RAY_LOG_DIR\n",
    "from src.FL_client import MedicalImageClient\n",
    "from src.FL_server import weighted_average, build_evaluate_fn\n",
    "from src.local_utility import load_yaml_config, set_device, prepare_FL_dataset, get_weights\n",
    "\n",
    "from src.tracker import reset_base_memory_csv"
   ]
  },
  {
   "cell_type": "code",
   "execution_count": null,
   "id": "2fb8e9b6",
   "metadata": {},
   "outputs": [],
   "source": [
    "# Replace with appropritate values\n",
    "\n",
    "data_name_ = 'alzheimer' #\"skin_lesions\" #\n",
    "base_type_ = \"CNN\"           \n",
    "exp_name_ = \"CDP-CA\"\n",
    "num_labels_ = 4\n",
    "experiment_name_ = ExperimentName.FL_CDP_CA_CNN"
   ]
  },
  {
   "cell_type": "code",
   "execution_count": null,
   "id": "4f4bdd76",
   "metadata": {},
   "outputs": [],
   "source": [
    "DEVICE = set_device()\n",
    "reset_base_memory_csv() \n",
    "\n",
    "fed_config = load_yaml_config(key=\"experiments\", item_name=experiment_name_)\n",
    "client_dataloaders = prepare_FL_dataset(exp_name= exp_name_, data_name=data_name_, base_type=base_type_, augment_data=True)"
   ]
  },
  {
   "cell_type": "code",
   "execution_count": null,
   "id": "7a5c5ed9",
   "metadata": {},
   "outputs": [],
   "source": [
    "def client_fn(context: Context) -> Client:\n",
    "    \"\"\"\n",
    "    Creates and initializes a federated learning client.\n",
    "\n",
    "    This function initializes a client in the federated learning setup by \n",
    "    assigning a unique partitioned dataset and a machine learning model \n",
    "    for training and validation.\n",
    "\n",
    "    Args:\n",
    "        context (Context): The execution context containing client-specific configurations.\n",
    "\n",
    "    Returns:\n",
    "        Client: A configured federated learning client ready to participate in training.\n",
    "    \"\"\"\n",
    "    partition_id = int(context.node_config[\"partition-id\"]) #<--- Get the client partition ID\n",
    "    \n",
    "    model = resnet18(weights=ResNet18_Weights.IMAGENET1K_V1)\n",
    "    model.fc = nn.Linear(in_features=model.fc.in_features, out_features=num_labels_)\n",
    "\n",
    "    # Assign partitioned client dataset\n",
    "    train_loader, val_loader, test_loader = client_dataloaders[partition_id]\n",
    "    \n",
    "    return MedicalImageClient(model, train_loader, val_loader, exp_name=exp_name_, data_name = data_name_, base_type=base_type_, client_id=partition_id).to_client()\n",
    "\n",
    "client = ClientApp(client_fn, mods=[adaptiveclipping_mod])"
   ]
  },
  {
   "cell_type": "code",
   "execution_count": null,
   "id": "408af63b",
   "metadata": {},
   "outputs": [],
   "source": [
    "def server_fn(context: Context):\n",
    "    \"\"\"\n",
    "    Creates and configures the federated learning server using the FedAvg strategy.\n",
    "\n",
    "    This function initializes the federated learning server with a FedAvg strategy,\n",
    "    specifying the parameters for client participation in training and evaluation,\n",
    "    the global model evaluation function, and the metric aggregation function.\n",
    "\n",
    "    Args:\n",
    "        context (Context): The execution context for the federated learning server.\n",
    "\n",
    "    Returns:\n",
    "        ServerAppComponents: A configured server application with the defined strategy\n",
    "        and server settings.\n",
    "    \"\"\"\n",
    "    model = resnet18(weights=ResNet18_Weights.IMAGENET1K_V1)\n",
    "    model.fc = nn.Linear(in_features=model.fc.in_features, out_features=num_labels_)\n",
    "    params = ndarrays_to_parameters(get_weights(model))\n",
    "    \n",
    "    # Create FedAvg strategy\n",
    "    strategy = FedAvg(\n",
    "        fraction_fit=1.0,                 #<--- Sample 100% of available clients for training\n",
    "        fraction_evaluate=1.0,            #<--- Sample 100% of available clients for evaluation\n",
    "        initial_parameters=params,        #<--- Initial model parameters\n",
    "        evaluate_fn=build_evaluate_fn(    #<--- Global evaluation function\n",
    "            exp_name = exp_name_, \n",
    "            base_type = base_type_,\n",
    "            data_name=data_name_, \n",
    "            experiment_item=experiment_name_, \n",
    "            num_labels=num_labels_\n",
    "            ),\n",
    "        evaluate_metrics_aggregation_fn=weighted_average,  #<-- pass the metric aggregation function\n",
    "    )\n",
    "    \n",
    "    # Wrap the strategy with the DifferentialPrivacyServerSideAdaptiveClipping wrapper\n",
    "    dp_strategy = DifferentialPrivacyClientSideAdaptiveClipping(\n",
    "        strategy= strategy,\n",
    "        noise_multiplier = 0.09,\n",
    "        num_sampled_clients = fed_config.get(\"num_clients\"),\n",
    "        initial_clipping_norm = 400.0,\n",
    "        target_clipped_quantile= 0.1,\n",
    "        clip_norm_lr = 0.2,\n",
    "        clipped_count_stddev= fed_config.get(\"num_clients\")/20\n",
    "        )\n",
    "    \n",
    "    # Configure the server with the specified number of federated rounds\n",
    "    sever_config = ServerConfig(num_rounds=fed_config['num_rounds'])\n",
    "    \n",
    "    return ServerAppComponents(strategy = dp_strategy, config = sever_config)\n",
    "\n",
    "# Wrap the server function in a ServerApp, and instantiate it\n",
    "server = ServerApp(server_fn = server_fn) "
   ]
  },
  {
   "cell_type": "code",
   "execution_count": 6,
   "id": "75302144",
   "metadata": {},
   "outputs": [],
   "source": [
    "backend_setup = {\n",
    "    \"init_args\": {\n",
    "        \"logging_level\": ERROR, \n",
    "        \"log_to_driver\": fed_config.get(\"log_to_driver\")\n",
    "    },\n",
    "    \"client_resources\": {\n",
    "        \"num_cpus\": fed_config.get(\"num_cpus\"), \n",
    "        \"num_gpus\": fed_config.get(\"num_gpus\")            \n",
    "    },\n",
    "}\n",
    "\n",
    "# When running on GPU, assign an entire GPU for each client\n",
    "if DEVICE == \"cuda\": \n",
    "    backend_setup[\"client_resources\"] = {\"num_cpus\": 1, \"num_gpus\": 1.0}"
   ]
  },
  {
   "cell_type": "markdown",
   "id": "3ffc9bf5",
   "metadata": {},
   "source": [
    "--- \n",
    "\n",
    "## Initiate the Simulation \n",
    "\n",
    "Initiate the simulation by passing the server and client apps, and specify the number of supernodes that will be selected on every round. "
   ]
  },
  {
   "cell_type": "code",
   "execution_count": null,
   "id": "9584855c",
   "metadata": {},
   "outputs": [
    {
     "name": "stderr",
     "output_type": "stream",
     "text": [
      "2025-05-07 18:32:09,076\tINFO worker.py:1771 -- Started a local Ray instance.\n",
      "2025-05-07 18:32:09,502\tINFO packaging.py:530 -- Creating a file package for local directory '/home/emeka/PrivacyBench'.\n",
      "2025-05-07 18:32:10,053\tINFO packaging.py:358 -- Pushing file package 'gcs://_ray_pkg_47d9d5f5f048748b.zip' (18.59MiB) to Ray cluster...\n",
      "2025-05-07 18:32:10,113\tINFO packaging.py:371 -- Successfully pushed file package 'gcs://_ray_pkg_47d9d5f5f048748b.zip'.\n",
      "2025-05-07 18:32:11,311 - DEBUG - Asyncio event loop already running.\n",
      "\u001b[92mINFO \u001b[0m:      Starting Flower ServerApp, config: num_rounds=5, no round_timeout\n",
      "\u001b[92mINFO \u001b[0m:      \n",
      "\u001b[92mINFO \u001b[0m:      [INIT]\n",
      "\u001b[92mINFO \u001b[0m:      Using initial global parameters provided by strategy\n",
      "\u001b[92mINFO \u001b[0m:      Starting evaluation of initial global parameters\n",
      "[codecarbon WARNING @ 18:32:11] Multiple instances of codecarbon are allowed to run at the same time.\n",
      "/home/emeka/.local/share/uv/python/cpython-3.12.10-linux-x86_64-gnu/lib/python3.12/multiprocessing/popen_fork.py:66: DeprecationWarning: This process (pid=53135) is multi-threaded, use of fork() may lead to deadlocks in the child.\n",
      "  self.pid = os.fork()\n",
      "\u001b[33m(raylet)\u001b[0m [2025-05-07 18:32:17,980 E 53511 53551] (raylet) file_system_monitor.cc:111: /home/emeka/PrivacyBench/logs/ray/session_2025-05-07_18-32-05_959721_53135 is over 95% full, available space: 770781184; capacity: 52589998080. Object creation will fail if spilling is required.\n",
      "/home/emeka/PrivacyBench/notebooks/../src/tracker.py:40: FutureWarning: The behavior of DataFrame concatenation with empty or all-NA entries is deprecated. In a future version, this will no longer exclude empty or all-NA columns when determining the result dtypes. To retain the old behavior, exclude the relevant entries before the concat operation.\n",
      "  df = pd.concat([df, pd.DataFrame([new_row])], ignore_index=True)\n",
      "\u001b[92mINFO \u001b[0m:      initial parameters (loss, other metrics): 2.105552077293396, {'accuracy': 0.01171875}\n",
      "\u001b[92mINFO \u001b[0m:      \n",
      "\u001b[92mINFO \u001b[0m:      [ROUND 1]\n",
      "\u001b[92mINFO \u001b[0m:      configure_fit: strategy sampled 3 clients (out of 3)\n",
      "\u001b[36m(ClientAppActor pid=55423)\u001b[0m Seed set to 42\n",
      "\u001b[36m(ClientAppActor pid=55423)\u001b[0m [codecarbon WARNING @ 18:32:27] Multiple instances of codecarbon are allowed to run at the same time.\n",
      "\u001b[36m(ClientAppActor pid=55423)\u001b[0m /home/emeka/.local/share/uv/python/cpython-3.12.10-linux-x86_64-gnu/lib/python3.12/multiprocessing/popen_fork.py:66: DeprecationWarning: This process (pid=55423) is multi-threaded, use of fork() may lead to deadlocks in the child.\n",
      "\u001b[36m(ClientAppActor pid=55423)\u001b[0m   self.pid = os.fork()\n",
      "\u001b[33m(raylet)\u001b[0m [2025-05-07 18:32:27,989 E 53511 53551] (raylet) file_system_monitor.cc:111: /home/emeka/PrivacyBench/logs/ray/session_2025-05-07_18-32-05_959721_53135 is over 95% full, available space: 770437120; capacity: 52589998080. Object creation will fail if spilling is required.\n",
      "\u001b[36m(ClientAppActor pid=55424)\u001b[0m Seed set to 42\n",
      "\u001b[36m(ClientAppActor pid=55424)\u001b[0m [codecarbon WARNING @ 18:32:27] Multiple instances of codecarbon are allowed to run at the same time.\n",
      "\u001b[36m(ClientAppActor pid=55424)\u001b[0m /home/emeka/.local/share/uv/python/cpython-3.12.10-linux-x86_64-gnu/lib/python3.12/multiprocessing/popen_fork.py:66: DeprecationWarning: This process (pid=55424) is multi-threaded, use of fork() may lead to deadlocks in the child.\n",
      "\u001b[36m(ClientAppActor pid=55424)\u001b[0m   self.pid = os.fork()\n",
      "\u001b[33m(raylet)\u001b[0m [2025-05-07 18:32:37,999 E 53511 53551] (raylet) file_system_monitor.cc:111: /home/emeka/PrivacyBench/logs/ray/session_2025-05-07_18-32-05_959721_53135 is over 95% full, available space: 770408448; capacity: 52589998080. Object creation will fail if spilling is required.\n",
      "\u001b[33m(raylet)\u001b[0m [2025-05-07 18:32:48,009 E 53511 53551] (raylet) file_system_monitor.cc:111: /home/emeka/PrivacyBench/logs/ray/session_2025-05-07_18-32-05_959721_53135 is over 95% full, available space: 770363392; capacity: 52589998080. Object creation will fail if spilling is required.\n",
      "\u001b[33m(raylet)\u001b[0m [2025-05-07 18:32:58,019 E 53511 53551] (raylet) file_system_monitor.cc:111: /home/emeka/PrivacyBench/logs/ray/session_2025-05-07_18-32-05_959721_53135 is over 95% full, available space: 770367488; capacity: 52589998080. Object creation will fail if spilling is required.\n",
      "\u001b[33m(raylet)\u001b[0m [2025-05-07 18:33:08,029 E 53511 53551] (raylet) file_system_monitor.cc:111: /home/emeka/PrivacyBench/logs/ray/session_2025-05-07_18-32-05_959721_53135 is over 95% full, available space: 770297856; capacity: 52589998080. Object creation will fail if spilling is required.\n",
      "\u001b[33m(raylet)\u001b[0m [2025-05-07 18:33:18,039 E 53511 53551] (raylet) file_system_monitor.cc:111: /home/emeka/PrivacyBench/logs/ray/session_2025-05-07_18-32-05_959721_53135 is over 95% full, available space: 770129920; capacity: 52589998080. Object creation will fail if spilling is required.\n",
      "\u001b[33m(raylet)\u001b[0m [2025-05-07 18:33:28,048 E 53511 53551] (raylet) file_system_monitor.cc:111: /home/emeka/PrivacyBench/logs/ray/session_2025-05-07_18-32-05_959721_53135 is over 95% full, available space: 769916928; capacity: 52589998080. Object creation will fail if spilling is required.\n",
      "\u001b[33m(raylet)\u001b[0m [2025-05-07 18:33:38,057 E 53511 53551] (raylet) file_system_monitor.cc:111: /home/emeka/PrivacyBench/logs/ray/session_2025-05-07_18-32-05_959721_53135 is over 95% full, available space: 769896448; capacity: 52589998080. Object creation will fail if spilling is required.\n",
      "\u001b[33m(raylet)\u001b[0m [2025-05-07 18:33:48,067 E 53511 53551] (raylet) file_system_monitor.cc:111: /home/emeka/PrivacyBench/logs/ray/session_2025-05-07_18-32-05_959721_53135 is over 95% full, available space: 769875968; capacity: 52589998080. Object creation will fail if spilling is required.\n",
      "\u001b[36m(ClientAppActor pid=55424)\u001b[0m /home/emeka/.local/share/uv/python/cpython-3.12.10-linux-x86_64-gnu/lib/python3.12/multiprocessing/popen_fork.py:66: DeprecationWarning: This process (pid=55424) is multi-threaded, use of fork() may lead to deadlocks in the child.\n",
      "\u001b[36m(ClientAppActor pid=55424)\u001b[0m   self.pid = os.fork()\n",
      "\u001b[33m(raylet)\u001b[0m [2025-05-07 18:33:58,076 E 53511 53551] (raylet) file_system_monitor.cc:111: /home/emeka/PrivacyBench/logs/ray/session_2025-05-07_18-32-05_959721_53135 is over 95% full, available space: 769830912; capacity: 52589998080. Object creation will fail if spilling is required.\n",
      "\u001b[36m(ClientAppActor pid=55423)\u001b[0m /home/emeka/.local/share/uv/python/cpython-3.12.10-linux-x86_64-gnu/lib/python3.12/multiprocessing/popen_fork.py:66: DeprecationWarning: This process (pid=55423) is multi-threaded, use of fork() may lead to deadlocks in the child.\n",
      "\u001b[36m(ClientAppActor pid=55423)\u001b[0m   self.pid = os.fork()\n",
      "\u001b[33m(raylet)\u001b[0m [2025-05-07 18:34:08,085 E 53511 53551] (raylet) file_system_monitor.cc:111: /home/emeka/PrivacyBench/logs/ray/session_2025-05-07_18-32-05_959721_53135 is over 95% full, available space: 769798144; capacity: 52589998080. Object creation will fail if spilling is required.\n"
     ]
    },
    {
     "name": "stdout",
     "output_type": "stream",
     "text": [
      "\u001b[36m(ClientAppActor pid=55424)\u001b[0m \n",
      "\u001b[36m(ClientAppActor pid=55424)\u001b[0m 🔎 Tracker: FL + CDP-CA (CNN)\n",
      "\u001b[36m(ClientAppActor pid=55424)\u001b[0m 📁 Logs saved to: /home/emeka/PrivacyBench/logs/emissions/FL_CDP-CA_CNN/client_emissions.csv\n",
      "\u001b[36m(ClientAppActor pid=55424)\u001b[0m ⏱️ Total training time: 1 minutes 48 seconds\n"
     ]
    },
    {
     "name": "stderr",
     "output_type": "stream",
     "text": [
      "\u001b[36m(ClientAppActor pid=55424)\u001b[0m \u001b[92mINFO \u001b[0m:      adaptiveclipping_mod: parameters are clipped by value: 400.0000.\n",
      "\u001b[36m(ClientAppActor pid=55424)\u001b[0m 2025-05-07 18:34:15,682 - INFO - adaptiveclipping_mod: parameters are clipped by value: 400.0000.\n"
     ]
    },
    {
     "name": "stdout",
     "output_type": "stream",
     "text": [
      "\u001b[36m(ClientAppActor pid=55423)\u001b[0m \n"
     ]
    },
    {
     "name": "stderr",
     "output_type": "stream",
     "text": [
      "\u001b[36m(ClientAppActor pid=55424)\u001b[0m Seed set to 42\n",
      "\u001b[36m(ClientAppActor pid=55424)\u001b[0m /home/emeka/.local/share/uv/python/cpython-3.12.10-linux-x86_64-gnu/lib/python3.12/multiprocessing/popen_fork.py:66: DeprecationWarning: This process (pid=55424) is multi-threaded, use of fork() may lead to deadlocks in the child.\n",
      "\u001b[36m(ClientAppActor pid=55424)\u001b[0m   self.pid = os.fork()\n",
      "\u001b[33m(raylet)\u001b[0m [2025-05-07 18:34:18,095 E 53511 53551] (raylet) file_system_monitor.cc:111: /home/emeka/PrivacyBench/logs/ray/session_2025-05-07_18-32-05_959721_53135 is over 95% full, available space: 769609728; capacity: 52589998080. Object creation will fail if spilling is required.\n",
      "\u001b[36m(ClientAppActor pid=55423)\u001b[0m \u001b[92mINFO \u001b[0m:      adaptiveclipping_mod: parameters are clipped by value: 400.0000.\n",
      "\u001b[36m(ClientAppActor pid=55423)\u001b[0m 2025-05-07 18:34:16,190 - INFO - adaptiveclipping_mod: parameters are clipped by value: 400.0000.\n",
      "\u001b[33m(raylet)\u001b[0m [2025-05-07 18:34:28,104 E 53511 53551] (raylet) file_system_monitor.cc:111: /home/emeka/PrivacyBench/logs/ray/session_2025-05-07_18-32-05_959721_53135 is over 95% full, available space: 769298432; capacity: 52589998080. Object creation will fail if spilling is required.\n",
      "\u001b[33m(raylet)\u001b[0m [2025-05-07 18:34:38,113 E 53511 53551] (raylet) file_system_monitor.cc:111: /home/emeka/PrivacyBench/logs/ray/session_2025-05-07_18-32-05_959721_53135 is over 95% full, available space: 769282048; capacity: 52589998080. Object creation will fail if spilling is required.\n",
      "\u001b[33m(raylet)\u001b[0m [2025-05-07 18:34:48,122 E 53511 53551] (raylet) file_system_monitor.cc:111: /home/emeka/PrivacyBench/logs/ray/session_2025-05-07_18-32-05_959721_53135 is over 95% full, available space: 769253376; capacity: 52589998080. Object creation will fail if spilling is required.\n",
      "\u001b[33m(raylet)\u001b[0m [2025-05-07 18:34:58,131 E 53511 53551] (raylet) file_system_monitor.cc:111: /home/emeka/PrivacyBench/logs/ray/session_2025-05-07_18-32-05_959721_53135 is over 95% full, available space: 769253376; capacity: 52589998080. Object creation will fail if spilling is required.\n",
      "\u001b[33m(raylet)\u001b[0m [2025-05-07 18:35:08,141 E 53511 53551] (raylet) file_system_monitor.cc:111: /home/emeka/PrivacyBench/logs/ray/session_2025-05-07_18-32-05_959721_53135 is over 95% full, available space: 769200128; capacity: 52589998080. Object creation will fail if spilling is required.\n",
      "\u001b[33m(raylet)\u001b[0m [2025-05-07 18:35:18,150 E 53511 53551] (raylet) file_system_monitor.cc:111: /home/emeka/PrivacyBench/logs/ray/session_2025-05-07_18-32-05_959721_53135 is over 95% full, available space: 768847872; capacity: 52589998080. Object creation will fail if spilling is required.\n",
      "\u001b[33m(raylet)\u001b[0m [2025-05-07 18:35:28,159 E 53511 53551] (raylet) file_system_monitor.cc:111: /home/emeka/PrivacyBench/logs/ray/session_2025-05-07_18-32-05_959721_53135 is over 95% full, available space: 768667648; capacity: 52589998080. Object creation will fail if spilling is required.\n",
      "\u001b[33m(raylet)\u001b[0m [2025-05-07 18:35:38,168 E 53511 53551] (raylet) file_system_monitor.cc:111: /home/emeka/PrivacyBench/logs/ray/session_2025-05-07_18-32-05_959721_53135 is over 95% full, available space: 768651264; capacity: 52589998080. Object creation will fail if spilling is required.\n",
      "\u001b[36m(ClientAppActor pid=55424)\u001b[0m /home/emeka/.local/share/uv/python/cpython-3.12.10-linux-x86_64-gnu/lib/python3.12/multiprocessing/popen_fork.py:66: DeprecationWarning: This process (pid=55424) is multi-threaded, use of fork() may lead to deadlocks in the child.\n",
      "\u001b[36m(ClientAppActor pid=55424)\u001b[0m   self.pid = os.fork()\n",
      "\u001b[33m(raylet)\u001b[0m [2025-05-07 18:35:48,177 E 53511 53551] (raylet) file_system_monitor.cc:111: /home/emeka/PrivacyBench/logs/ray/session_2025-05-07_18-32-05_959721_53135 is over 95% full, available space: 768634880; capacity: 52589998080. Object creation will fail if spilling is required.\n",
      "\u001b[36m(ClientAppActor pid=55424)\u001b[0m \u001b[92mINFO \u001b[0m:      adaptiveclipping_mod: parameters are clipped by value: 400.0000.\n",
      "\u001b[36m(ClientAppActor pid=55424)\u001b[0m 2025-05-07 18:35:51,458 - INFO - adaptiveclipping_mod: parameters are clipped by value: 400.0000.\n",
      "\u001b[92mINFO \u001b[0m:      aggregate_fit: received 3 results and 0 failures\n"
     ]
    },
    {
     "name": "stdout",
     "output_type": "stream",
     "text": [
      "\u001b[36m(ClientAppActor pid=55424)\u001b[0m \n",
      "\u001b[36m(ClientAppActor pid=55424)\u001b[0m 🔎 Tracker: FL + CDP-CA (CNN)\u001b[32m [repeated 2x across cluster] (Ray deduplicates logs by default. Set RAY_DEDUP_LOGS=0 to disable log deduplication, or see https://docs.ray.io/en/master/ray-observability/user-guides/configure-logging.html#log-deduplication for more options.)\u001b[0m\n",
      "\u001b[36m(ClientAppActor pid=55424)\u001b[0m 📁 Logs saved to: /home/emeka/PrivacyBench/logs/emissions/FL_CDP-CA_CNN/client_emissions.csv\u001b[32m [repeated 2x across cluster]\u001b[0m\n",
      "\u001b[36m(ClientAppActor pid=55424)\u001b[0m ⏱️ Total training time: 1 minutes 34 seconds\u001b[32m [repeated 2x across cluster]\u001b[0m\n"
     ]
    },
    {
     "name": "stderr",
     "output_type": "stream",
     "text": [
      "\u001b[93mWARNING \u001b[0m:   No fit_metrics_aggregation_fn provided\n",
      "\u001b[92mINFO \u001b[0m:      aggregate_fit: central DP noise with 10.7219 stdev added\n",
      "/home/emeka/.local/share/uv/python/cpython-3.12.10-linux-x86_64-gnu/lib/python3.12/multiprocessing/popen_fork.py:66: DeprecationWarning: This process (pid=53135) is multi-threaded, use of fork() may lead to deadlocks in the child.\n",
      "  self.pid = os.fork()\n",
      "\u001b[92mINFO \u001b[0m:      fit progress: (1, nan, {'accuracy': 0.134375}, 219.29547802000025)\n",
      "\u001b[92mINFO \u001b[0m:      configure_evaluate: strategy sampled 3 clients (out of 3)\n",
      "\u001b[36m(ClientAppActor pid=55424)\u001b[0m /home/emeka/.local/share/uv/python/cpython-3.12.10-linux-x86_64-gnu/lib/python3.12/multiprocessing/popen_fork.py:66: DeprecationWarning: This process (pid=55424) is multi-threaded, use of fork() may lead to deadlocks in the child.\n",
      "\u001b[36m(ClientAppActor pid=55424)\u001b[0m   self.pid = os.fork()\n",
      "\u001b[33m(raylet)\u001b[0m [2025-05-07 18:35:58,187 E 53511 53551] (raylet) file_system_monitor.cc:111: /home/emeka/PrivacyBench/logs/ray/session_2025-05-07_18-32-05_959721_53135 is over 95% full, available space: 768495616; capacity: 52589998080. Object creation will fail if spilling is required.\n",
      "\u001b[92mINFO \u001b[0m:      aggregate_evaluate: received 3 results and 0 failures\n",
      "\u001b[92mINFO \u001b[0m:      \n",
      "\u001b[92mINFO \u001b[0m:      [ROUND 2]\n",
      "\u001b[92mINFO \u001b[0m:      configure_fit: strategy sampled 3 clients (out of 3)\n",
      "\u001b[36m(ClientAppActor pid=55423)\u001b[0m Seed set to 42\n",
      "\u001b[36m(ClientAppActor pid=55423)\u001b[0m /home/emeka/.local/share/uv/python/cpython-3.12.10-linux-x86_64-gnu/lib/python3.12/multiprocessing/popen_fork.py:66: DeprecationWarning: This process (pid=55423) is multi-threaded, use of fork() may lead to deadlocks in the child.\u001b[32m [repeated 3x across cluster]\u001b[0m\n",
      "\u001b[36m(ClientAppActor pid=55423)\u001b[0m   self.pid = os.fork()\u001b[32m [repeated 3x across cluster]\u001b[0m\n",
      "\u001b[33m(raylet)\u001b[0m [2025-05-07 18:36:08,198 E 53511 53551] (raylet) file_system_monitor.cc:111: /home/emeka/PrivacyBench/logs/ray/session_2025-05-07_18-32-05_959721_53135 is over 95% full, available space: 768438272; capacity: 52589998080. Object creation will fail if spilling is required.\n",
      "\u001b[36m(ClientAppActor pid=55424)\u001b[0m Seed set to 42\n",
      "\u001b[33m(raylet)\u001b[0m [2025-05-07 18:36:18,208 E 53511 53551] (raylet) file_system_monitor.cc:111: /home/emeka/PrivacyBench/logs/ray/session_2025-05-07_18-32-05_959721_53135 is over 95% full, available space: 768237568; capacity: 52589998080. Object creation will fail if spilling is required.\n",
      "\u001b[33m(raylet)\u001b[0m [2025-05-07 18:36:28,218 E 53511 53551] (raylet) file_system_monitor.cc:111: /home/emeka/PrivacyBench/logs/ray/session_2025-05-07_18-32-05_959721_53135 is over 95% full, available space: 768045056; capacity: 52589998080. Object creation will fail if spilling is required.\n",
      "\u001b[33m(raylet)\u001b[0m [2025-05-07 18:36:38,229 E 53511 53551] (raylet) file_system_monitor.cc:111: /home/emeka/PrivacyBench/logs/ray/session_2025-05-07_18-32-05_959721_53135 is over 95% full, available space: 768040960; capacity: 52589998080. Object creation will fail if spilling is required.\n",
      "\u001b[33m(raylet)\u001b[0m [2025-05-07 18:36:48,239 E 53511 53551] (raylet) file_system_monitor.cc:111: /home/emeka/PrivacyBench/logs/ray/session_2025-05-07_18-32-05_959721_53135 is over 95% full, available space: 767889408; capacity: 52589998080. Object creation will fail if spilling is required.\n",
      "\u001b[33m(raylet)\u001b[0m [2025-05-07 18:36:58,249 E 53511 53551] (raylet) file_system_monitor.cc:111: /home/emeka/PrivacyBench/logs/ray/session_2025-05-07_18-32-05_959721_53135 is over 95% full, available space: 767889408; capacity: 52589998080. Object creation will fail if spilling is required.\n",
      "\u001b[33m(raylet)\u001b[0m [2025-05-07 18:37:08,258 E 53511 53551] (raylet) file_system_monitor.cc:111: /home/emeka/PrivacyBench/logs/ray/session_2025-05-07_18-32-05_959721_53135 is over 95% full, available space: 767864832; capacity: 52589998080. Object creation will fail if spilling is required.\n",
      "\u001b[33m(raylet)\u001b[0m [2025-05-07 18:37:18,268 E 53511 53551] (raylet) file_system_monitor.cc:111: /home/emeka/PrivacyBench/logs/ray/session_2025-05-07_18-32-05_959721_53135 is over 95% full, available space: 767660032; capacity: 52589998080. Object creation will fail if spilling is required.\n",
      "\u001b[36m(ClientAppActor pid=55424)\u001b[0m /home/emeka/.local/share/uv/python/cpython-3.12.10-linux-x86_64-gnu/lib/python3.12/multiprocessing/popen_fork.py:66: DeprecationWarning: This process (pid=55424) is multi-threaded, use of fork() may lead to deadlocks in the child.\n",
      "\u001b[36m(ClientAppActor pid=55424)\u001b[0m   self.pid = os.fork()\n"
     ]
    },
    {
     "name": "stdout",
     "output_type": "stream",
     "text": [
      "\u001b[36m(ClientAppActor pid=55424)\u001b[0m \n",
      "\u001b[36m(ClientAppActor pid=55424)\u001b[0m 🔎 Tracker: FL + CDP-CA (CNN)\n",
      "\u001b[36m(ClientAppActor pid=55424)\u001b[0m 📁 Logs saved to: /home/emeka/PrivacyBench/logs/emissions/FL_CDP-CA_CNN/client_emissions.csv\n",
      "\u001b[36m(ClientAppActor pid=55424)\u001b[0m ⏱️ Total training time: 1 minutes 22 seconds\n"
     ]
    },
    {
     "name": "stderr",
     "output_type": "stream",
     "text": [
      "\u001b[36m(ClientAppActor pid=55424)\u001b[0m \u001b[92mINFO \u001b[0m:      adaptiveclipping_mod: parameters are clipped by value: 340.9358.\n",
      "\u001b[36m(ClientAppActor pid=55424)\u001b[0m 2025-05-07 18:37:23,660 - INFO - adaptiveclipping_mod: parameters are clipped by value: 340.9358.\n",
      "\u001b[36m(ClientAppActor pid=55424)\u001b[0m Seed set to 42\n",
      "\u001b[36m(ClientAppActor pid=55424)\u001b[0m /home/emeka/.local/share/uv/python/cpython-3.12.10-linux-x86_64-gnu/lib/python3.12/multiprocessing/popen_fork.py:66: DeprecationWarning: This process (pid=55424) is multi-threaded, use of fork() may lead to deadlocks in the child.\n",
      "\u001b[36m(ClientAppActor pid=55424)\u001b[0m   self.pid = os.fork()\n",
      "\u001b[33m(raylet)\u001b[0m [2025-05-07 18:37:28,277 E 53511 53551] (raylet) file_system_monitor.cc:111: /home/emeka/PrivacyBench/logs/ray/session_2025-05-07_18-32-05_959721_53135 is over 95% full, available space: 767315968; capacity: 52589998080. Object creation will fail if spilling is required.\n",
      "\u001b[36m(ClientAppActor pid=55423)\u001b[0m /home/emeka/.local/share/uv/python/cpython-3.12.10-linux-x86_64-gnu/lib/python3.12/multiprocessing/popen_fork.py:66: DeprecationWarning: This process (pid=55423) is multi-threaded, use of fork() may lead to deadlocks in the child.\n",
      "\u001b[36m(ClientAppActor pid=55423)\u001b[0m   self.pid = os.fork()\n",
      "\u001b[33m(raylet)\u001b[0m [2025-05-07 18:37:38,287 E 53511 53551] (raylet) file_system_monitor.cc:111: /home/emeka/PrivacyBench/logs/ray/session_2025-05-07_18-32-05_959721_53135 is over 95% full, available space: 767311872; capacity: 52589998080. Object creation will fail if spilling is required.\n",
      "\u001b[33m(raylet)\u001b[0m [2025-05-07 18:37:48,296 E 53511 53551] (raylet) file_system_monitor.cc:111: /home/emeka/PrivacyBench/logs/ray/session_2025-05-07_18-32-05_959721_53135 is over 95% full, available space: 767315968; capacity: 52589998080. Object creation will fail if spilling is required.\n"
     ]
    },
    {
     "name": "stdout",
     "output_type": "stream",
     "text": [
      "\u001b[36m(ClientAppActor pid=55423)\u001b[0m \n",
      "\u001b[36m(ClientAppActor pid=55423)\u001b[0m 🔎 Tracker: FL + CDP-CA (CNN)\n",
      "\u001b[36m(ClientAppActor pid=55423)\u001b[0m 📁 Logs saved to: /home/emeka/PrivacyBench/logs/emissions/FL_CDP-CA_CNN/client_emissions.csv\n",
      "\u001b[36m(ClientAppActor pid=55423)\u001b[0m ⏱️ Total training time: 1 minutes 47 seconds\n"
     ]
    },
    {
     "name": "stderr",
     "output_type": "stream",
     "text": [
      "\u001b[36m(ClientAppActor pid=55423)\u001b[0m \u001b[92mINFO \u001b[0m:      adaptiveclipping_mod: parameters are clipped by value: 340.9358.\n",
      "\u001b[36m(ClientAppActor pid=55423)\u001b[0m 2025-05-07 18:37:48,456 - INFO - adaptiveclipping_mod: parameters are clipped by value: 340.9358.\n",
      "\u001b[33m(raylet)\u001b[0m [2025-05-07 18:37:58,306 E 53511 53551] (raylet) file_system_monitor.cc:111: /home/emeka/PrivacyBench/logs/ray/session_2025-05-07_18-32-05_959721_53135 is over 95% full, available space: 767299584; capacity: 52589998080. Object creation will fail if spilling is required.\n",
      "\u001b[33m(raylet)\u001b[0m [2025-05-07 18:38:08,315 E 53511 53551] (raylet) file_system_monitor.cc:111: /home/emeka/PrivacyBench/logs/ray/session_2025-05-07_18-32-05_959721_53135 is over 95% full, available space: 767279104; capacity: 52589998080. Object creation will fail if spilling is required.\n",
      "\u001b[33m(raylet)\u001b[0m [2025-05-07 18:38:18,325 E 53511 53551] (raylet) file_system_monitor.cc:111: /home/emeka/PrivacyBench/logs/ray/session_2025-05-07_18-32-05_959721_53135 is over 95% full, available space: 766976000; capacity: 52589998080. Object creation will fail if spilling is required.\n",
      "\u001b[33m(raylet)\u001b[0m [2025-05-07 18:38:28,334 E 53511 53551] (raylet) file_system_monitor.cc:111: /home/emeka/PrivacyBench/logs/ray/session_2025-05-07_18-32-05_959721_53135 is over 95% full, available space: 766726144; capacity: 52589998080. Object creation will fail if spilling is required.\n",
      "\u001b[33m(raylet)\u001b[0m [2025-05-07 18:38:38,344 E 53511 53551] (raylet) file_system_monitor.cc:111: /home/emeka/PrivacyBench/logs/ray/session_2025-05-07_18-32-05_959721_53135 is over 95% full, available space: 766738432; capacity: 52589998080. Object creation will fail if spilling is required.\n",
      "\u001b[36m(ClientAppActor pid=55424)\u001b[0m /home/emeka/.local/share/uv/python/cpython-3.12.10-linux-x86_64-gnu/lib/python3.12/multiprocessing/popen_fork.py:66: DeprecationWarning: This process (pid=55424) is multi-threaded, use of fork() may lead to deadlocks in the child.\n",
      "\u001b[36m(ClientAppActor pid=55424)\u001b[0m   self.pid = os.fork()\n"
     ]
    },
    {
     "name": "stdout",
     "output_type": "stream",
     "text": [
      "\u001b[36m(ClientAppActor pid=55424)\u001b[0m \n",
      "\u001b[36m(ClientAppActor pid=55424)\u001b[0m 🔎 Tracker: FL + CDP-CA (CNN)\n",
      "\u001b[36m(ClientAppActor pid=55424)\u001b[0m 📁 Logs saved to: /home/emeka/PrivacyBench/logs/emissions/FL_CDP-CA_CNN/client_emissions.csv\n",
      "\u001b[36m(ClientAppActor pid=55424)\u001b[0m ⏱️ Total training time: 1 minutes 22 seconds\n"
     ]
    },
    {
     "name": "stderr",
     "output_type": "stream",
     "text": [
      "\u001b[36m(ClientAppActor pid=55424)\u001b[0m \u001b[92mINFO \u001b[0m:      adaptiveclipping_mod: parameters are clipped by value: 340.9358.\n",
      "\u001b[36m(ClientAppActor pid=55424)\u001b[0m 2025-05-07 18:38:46,927 - INFO - adaptiveclipping_mod: parameters are clipped by value: 340.9358.\n",
      "\u001b[92mINFO \u001b[0m:      aggregate_fit: received 3 results and 0 failures\n",
      "\u001b[92mINFO \u001b[0m:      aggregate_fit: central DP noise with 10.8993 stdev added\n",
      "\u001b[33m(raylet)\u001b[0m [2025-05-07 18:38:48,370 E 53511 53551] (raylet) file_system_monitor.cc:111: /home/emeka/PrivacyBench/logs/ray/session_2025-05-07_18-32-05_959721_53135 is over 95% full, available space: 766672896; capacity: 52589998080. Object creation will fail if spilling is required.\n",
      "/home/emeka/.local/share/uv/python/cpython-3.12.10-linux-x86_64-gnu/lib/python3.12/multiprocessing/popen_fork.py:66: DeprecationWarning: This process (pid=53135) is multi-threaded, use of fork() may lead to deadlocks in the child.\n",
      "  self.pid = os.fork()\n",
      "\u001b[92mINFO \u001b[0m:      fit progress: (2, nan, {'accuracy': 0.134375}, 395.02584897999986)\n",
      "\u001b[92mINFO \u001b[0m:      configure_evaluate: strategy sampled 3 clients (out of 3)\n",
      "\u001b[36m(ClientAppActor pid=55423)\u001b[0m /home/emeka/.local/share/uv/python/cpython-3.12.10-linux-x86_64-gnu/lib/python3.12/multiprocessing/popen_fork.py:66: DeprecationWarning: This process (pid=55423) is multi-threaded, use of fork() may lead to deadlocks in the child.\n",
      "\u001b[36m(ClientAppActor pid=55423)\u001b[0m   self.pid = os.fork()\n",
      "\u001b[36m(ClientAppActor pid=55424)\u001b[0m /home/emeka/.local/share/uv/python/cpython-3.12.10-linux-x86_64-gnu/lib/python3.12/multiprocessing/popen_fork.py:66: DeprecationWarning: This process (pid=55424) is multi-threaded, use of fork() may lead to deadlocks in the child.\n",
      "\u001b[36m(ClientAppActor pid=55424)\u001b[0m   self.pid = os.fork()\n",
      "\u001b[92mINFO \u001b[0m:      aggregate_evaluate: received 3 results and 0 failures\n",
      "\u001b[92mINFO \u001b[0m:      \n",
      "\u001b[92mINFO \u001b[0m:      [ROUND 3]\n",
      "\u001b[92mINFO \u001b[0m:      configure_fit: strategy sampled 3 clients (out of 3)\n",
      "\u001b[36m(ClientAppActor pid=55423)\u001b[0m Seed set to 42\n",
      "\u001b[33m(raylet)\u001b[0m [2025-05-07 18:38:58,379 E 53511 53551] (raylet) file_system_monitor.cc:111: /home/emeka/PrivacyBench/logs/ray/session_2025-05-07_18-32-05_959721_53135 is over 95% full, available space: 766619648; capacity: 52589998080. Object creation will fail if spilling is required.\n",
      "\u001b[36m(ClientAppActor pid=55424)\u001b[0m /home/emeka/.local/share/uv/python/cpython-3.12.10-linux-x86_64-gnu/lib/python3.12/multiprocessing/popen_fork.py:66: DeprecationWarning: This process (pid=55424) is multi-threaded, use of fork() may lead to deadlocks in the child.\u001b[32m [repeated 2x across cluster]\u001b[0m\n",
      "\u001b[36m(ClientAppActor pid=55424)\u001b[0m   self.pid = os.fork()\u001b[32m [repeated 2x across cluster]\u001b[0m\n",
      "\u001b[36m(ClientAppActor pid=55424)\u001b[0m Seed set to 42\n",
      "\u001b[33m(raylet)\u001b[0m [2025-05-07 18:39:08,390 E 53511 53551] (raylet) file_system_monitor.cc:111: /home/emeka/PrivacyBench/logs/ray/session_2025-05-07_18-32-05_959721_53135 is over 95% full, available space: 766545920; capacity: 52589998080. Object creation will fail if spilling is required.\n",
      "\u001b[33m(raylet)\u001b[0m [2025-05-07 18:39:18,399 E 53511 53551] (raylet) file_system_monitor.cc:111: /home/emeka/PrivacyBench/logs/ray/session_2025-05-07_18-32-05_959721_53135 is over 95% full, available space: 766369792; capacity: 52589998080. Object creation will fail if spilling is required.\n",
      "\u001b[33m(raylet)\u001b[0m [2025-05-07 18:39:28,410 E 53511 53551] (raylet) file_system_monitor.cc:111: /home/emeka/PrivacyBench/logs/ray/session_2025-05-07_18-32-05_959721_53135 is over 95% full, available space: 766185472; capacity: 52589998080. Object creation will fail if spilling is required.\n",
      "\u001b[33m(raylet)\u001b[0m [2025-05-07 18:39:38,419 E 53511 53551] (raylet) file_system_monitor.cc:111: /home/emeka/PrivacyBench/logs/ray/session_2025-05-07_18-32-05_959721_53135 is over 95% full, available space: 766132224; capacity: 52589998080. Object creation will fail if spilling is required.\n",
      "\u001b[33m(raylet)\u001b[0m [2025-05-07 18:39:48,428 E 53511 53551] (raylet) file_system_monitor.cc:111: /home/emeka/PrivacyBench/logs/ray/session_2025-05-07_18-32-05_959721_53135 is over 95% full, available space: 766111744; capacity: 52589998080. Object creation will fail if spilling is required.\n",
      "\u001b[33m(raylet)\u001b[0m [2025-05-07 18:39:58,438 E 53511 53551] (raylet) file_system_monitor.cc:111: /home/emeka/PrivacyBench/logs/ray/session_2025-05-07_18-32-05_959721_53135 is over 95% full, available space: 766074880; capacity: 52589998080. Object creation will fail if spilling is required.\n",
      "\u001b[33m(raylet)\u001b[0m [2025-05-07 18:40:08,447 E 53511 53551] (raylet) file_system_monitor.cc:111: /home/emeka/PrivacyBench/logs/ray/session_2025-05-07_18-32-05_959721_53135 is over 95% full, available space: 766017536; capacity: 52589998080. Object creation will fail if spilling is required.\n",
      "\u001b[33m(raylet)\u001b[0m [2025-05-07 18:40:18,456 E 53511 53551] (raylet) file_system_monitor.cc:111: /home/emeka/PrivacyBench/logs/ray/session_2025-05-07_18-32-05_959721_53135 is over 95% full, available space: 765763584; capacity: 52589998080. Object creation will fail if spilling is required.\n",
      "\u001b[36m(ClientAppActor pid=55423)\u001b[0m /home/emeka/.local/share/uv/python/cpython-3.12.10-linux-x86_64-gnu/lib/python3.12/multiprocessing/popen_fork.py:66: DeprecationWarning: This process (pid=55423) is multi-threaded, use of fork() may lead to deadlocks in the child.\n",
      "\u001b[36m(ClientAppActor pid=55423)\u001b[0m   self.pid = os.fork()\n",
      "\u001b[33m(raylet)\u001b[0m [2025-05-07 18:40:28,466 E 53511 53551] (raylet) file_system_monitor.cc:111: /home/emeka/PrivacyBench/logs/ray/session_2025-05-07_18-32-05_959721_53135 is over 95% full, available space: 765448192; capacity: 52589998080. Object creation will fail if spilling is required.\n",
      "\u001b[36m(ClientAppActor pid=55424)\u001b[0m /home/emeka/.local/share/uv/python/cpython-3.12.10-linux-x86_64-gnu/lib/python3.12/multiprocessing/popen_fork.py:66: DeprecationWarning: This process (pid=55424) is multi-threaded, use of fork() may lead to deadlocks in the child.\n",
      "\u001b[36m(ClientAppActor pid=55424)\u001b[0m   self.pid = os.fork()\n",
      "\u001b[33m(raylet)\u001b[0m [2025-05-07 18:40:38,477 E 53511 53551] (raylet) file_system_monitor.cc:111: /home/emeka/PrivacyBench/logs/ray/session_2025-05-07_18-32-05_959721_53135 is over 95% full, available space: 765440000; capacity: 52589998080. Object creation will fail if spilling is required.\n"
     ]
    },
    {
     "name": "stdout",
     "output_type": "stream",
     "text": [
      "\u001b[36m(ClientAppActor pid=55423)\u001b[0m \n",
      "\u001b[36m(ClientAppActor pid=55423)\u001b[0m 🔎 Tracker: FL + CDP-CA (CNN)\n",
      "\u001b[36m(ClientAppActor pid=55423)\u001b[0m 📁 Logs saved to: /home/emeka/PrivacyBench/logs/emissions/FL_CDP-CA_CNN/client_emissions.csv\n",
      "\u001b[36m(ClientAppActor pid=55423)\u001b[0m ⏱️ Total training time: 1 minutes 46 seconds\n"
     ]
    },
    {
     "name": "stderr",
     "output_type": "stream",
     "text": [
      "\u001b[36m(ClientAppActor pid=55423)\u001b[0m \u001b[92mINFO \u001b[0m:      adaptiveclipping_mod: parameters are clipped by value: 346.5742.\n",
      "\u001b[36m(ClientAppActor pid=55423)\u001b[0m 2025-05-07 18:40:44,610 - INFO - adaptiveclipping_mod: parameters are clipped by value: 346.5742.\n"
     ]
    },
    {
     "name": "stdout",
     "output_type": "stream",
     "text": [
      "\u001b[36m(ClientAppActor pid=55424)\u001b[0m \n"
     ]
    },
    {
     "name": "stderr",
     "output_type": "stream",
     "text": [
      "\u001b[36m(ClientAppActor pid=55423)\u001b[0m Seed set to 42\n",
      "\u001b[36m(ClientAppActor pid=55423)\u001b[0m /home/emeka/.local/share/uv/python/cpython-3.12.10-linux-x86_64-gnu/lib/python3.12/multiprocessing/popen_fork.py:66: DeprecationWarning: This process (pid=55423) is multi-threaded, use of fork() may lead to deadlocks in the child.\n",
      "\u001b[36m(ClientAppActor pid=55423)\u001b[0m   self.pid = os.fork()\n",
      "\u001b[33m(raylet)\u001b[0m [2025-05-07 18:40:48,490 E 53511 53551] (raylet) file_system_monitor.cc:111: /home/emeka/PrivacyBench/logs/ray/session_2025-05-07_18-32-05_959721_53135 is over 95% full, available space: 765419520; capacity: 52589998080. Object creation will fail if spilling is required.\n",
      "\u001b[36m(ClientAppActor pid=55424)\u001b[0m \u001b[92mINFO \u001b[0m:      adaptiveclipping_mod: parameters are clipped by value: 346.5742.\n",
      "\u001b[36m(ClientAppActor pid=55424)\u001b[0m 2025-05-07 18:40:45,385 - INFO - adaptiveclipping_mod: parameters are clipped by value: 346.5742.\n",
      "\u001b[33m(raylet)\u001b[0m [2025-05-07 18:40:58,500 E 53511 53551] (raylet) file_system_monitor.cc:111: /home/emeka/PrivacyBench/logs/ray/session_2025-05-07_18-32-05_959721_53135 is over 95% full, available space: 765427712; capacity: 52589998080. Object creation will fail if spilling is required.\n",
      "\u001b[33m(raylet)\u001b[0m [2025-05-07 18:41:08,509 E 53511 53551] (raylet) file_system_monitor.cc:111: /home/emeka/PrivacyBench/logs/ray/session_2025-05-07_18-32-05_959721_53135 is over 95% full, available space: 765329408; capacity: 52589998080. Object creation will fail if spilling is required.\n",
      "\u001b[33m(raylet)\u001b[0m [2025-05-07 18:41:18,518 E 53511 53551] (raylet) file_system_monitor.cc:111: /home/emeka/PrivacyBench/logs/ray/session_2025-05-07_18-32-05_959721_53135 is over 95% full, available space: 765067264; capacity: 52589998080. Object creation will fail if spilling is required.\n",
      "\u001b[33m(raylet)\u001b[0m [2025-05-07 18:41:28,528 E 53511 53551] (raylet) file_system_monitor.cc:111: /home/emeka/PrivacyBench/logs/ray/session_2025-05-07_18-32-05_959721_53135 is over 95% full, available space: 764854272; capacity: 52589998080. Object creation will fail if spilling is required.\n",
      "\u001b[33m(raylet)\u001b[0m [2025-05-07 18:41:38,537 E 53511 53551] (raylet) file_system_monitor.cc:111: /home/emeka/PrivacyBench/logs/ray/session_2025-05-07_18-32-05_959721_53135 is over 95% full, available space: 764788736; capacity: 52589998080. Object creation will fail if spilling is required.\n",
      "\u001b[33m(raylet)\u001b[0m [2025-05-07 18:41:48,547 E 53511 53551] (raylet) file_system_monitor.cc:111: /home/emeka/PrivacyBench/logs/ray/session_2025-05-07_18-32-05_959721_53135 is over 95% full, available space: 764792832; capacity: 52589998080. Object creation will fail if spilling is required.\n",
      "\u001b[33m(raylet)\u001b[0m [2025-05-07 18:41:58,556 E 53511 53551] (raylet) file_system_monitor.cc:111: /home/emeka/PrivacyBench/logs/ray/session_2025-05-07_18-32-05_959721_53135 is over 95% full, available space: 764747776; capacity: 52589998080. Object creation will fail if spilling is required.\n",
      "\u001b[36m(ClientAppActor pid=55423)\u001b[0m /home/emeka/.local/share/uv/python/cpython-3.12.10-linux-x86_64-gnu/lib/python3.12/multiprocessing/popen_fork.py:66: DeprecationWarning: This process (pid=55423) is multi-threaded, use of fork() may lead to deadlocks in the child.\n",
      "\u001b[36m(ClientAppActor pid=55423)\u001b[0m   self.pid = os.fork()\n",
      "\u001b[33m(raylet)\u001b[0m [2025-05-07 18:42:08,566 E 53511 53551] (raylet) file_system_monitor.cc:111: /home/emeka/PrivacyBench/logs/ray/session_2025-05-07_18-32-05_959721_53135 is over 95% full, available space: 764690432; capacity: 52589998080. Object creation will fail if spilling is required.\n",
      "\u001b[33m(raylet)\u001b[0m [2025-05-07 18:42:18,576 E 53511 53551] (raylet) file_system_monitor.cc:111: /home/emeka/PrivacyBench/logs/ray/session_2025-05-07_18-32-05_959721_53135 is over 95% full, available space: 764452864; capacity: 52589998080. Object creation will fail if spilling is required.\n",
      "\u001b[33m(raylet)\u001b[0m [2025-05-07 18:42:28,585 E 53511 53551] (raylet) file_system_monitor.cc:111: /home/emeka/PrivacyBench/logs/ray/session_2025-05-07_18-32-05_959721_53135 is over 95% full, available space: 764243968; capacity: 52589998080. Object creation will fail if spilling is required.\n"
     ]
    },
    {
     "name": "stdout",
     "output_type": "stream",
     "text": [
      "\u001b[36m(ClientAppActor pid=55423)\u001b[0m \n",
      "\u001b[36m(ClientAppActor pid=55423)\u001b[0m 🔎 Tracker: FL + CDP-CA (CNN)\u001b[32m [repeated 2x across cluster]\u001b[0m\n",
      "\u001b[36m(ClientAppActor pid=55423)\u001b[0m 📁 Logs saved to: /home/emeka/PrivacyBench/logs/emissions/FL_CDP-CA_CNN/client_emissions.csv\u001b[32m [repeated 2x across cluster]\u001b[0m\n",
      "\u001b[36m(ClientAppActor pid=55423)\u001b[0m ⏱️ Total training time: 1 minutes 43 seconds\u001b[32m [repeated 2x across cluster]\u001b[0m\n"
     ]
    },
    {
     "name": "stderr",
     "output_type": "stream",
     "text": [
      "\u001b[36m(ClientAppActor pid=55423)\u001b[0m \u001b[92mINFO \u001b[0m:      adaptiveclipping_mod: parameters are clipped by value: 346.5742.\n",
      "\u001b[36m(ClientAppActor pid=55423)\u001b[0m 2025-05-07 18:42:28,961 - INFO - adaptiveclipping_mod: parameters are clipped by value: 346.5742.\n",
      "\u001b[92mINFO \u001b[0m:      aggregate_fit: received 3 results and 0 failures\n",
      "\u001b[92mINFO \u001b[0m:      aggregate_fit: central DP noise with 11.0467 stdev added\n",
      "/home/emeka/.local/share/uv/python/cpython-3.12.10-linux-x86_64-gnu/lib/python3.12/multiprocessing/popen_fork.py:66: DeprecationWarning: This process (pid=53135) is multi-threaded, use of fork() may lead to deadlocks in the child.\n",
      "  self.pid = os.fork()\n",
      "\u001b[92mINFO \u001b[0m:      fit progress: (3, nan, {'accuracy': 0.134375}, 614.9375402260002)\n",
      "\u001b[92mINFO \u001b[0m:      configure_evaluate: strategy sampled 3 clients (out of 3)\n",
      "\u001b[36m(ClientAppActor pid=55423)\u001b[0m /home/emeka/.local/share/uv/python/cpython-3.12.10-linux-x86_64-gnu/lib/python3.12/multiprocessing/popen_fork.py:66: DeprecationWarning: This process (pid=55423) is multi-threaded, use of fork() may lead to deadlocks in the child.\n",
      "\u001b[36m(ClientAppActor pid=55423)\u001b[0m   self.pid = os.fork()\n",
      "\u001b[92mINFO \u001b[0m:      aggregate_evaluate: received 3 results and 0 failures\n",
      "\u001b[92mINFO \u001b[0m:      \n",
      "\u001b[92mINFO \u001b[0m:      [ROUND 4]\n",
      "\u001b[92mINFO \u001b[0m:      configure_fit: strategy sampled 3 clients (out of 3)\n",
      "\u001b[36m(ClientAppActor pid=55423)\u001b[0m Seed set to 42\n",
      "\u001b[33m(raylet)\u001b[0m [2025-05-07 18:42:38,595 E 53511 53551] (raylet) file_system_monitor.cc:111: /home/emeka/PrivacyBench/logs/ray/session_2025-05-07_18-32-05_959721_53135 is over 95% full, available space: 764166144; capacity: 52589998080. Object creation will fail if spilling is required.\n",
      "\u001b[36m(ClientAppActor pid=55424)\u001b[0m /home/emeka/.local/share/uv/python/cpython-3.12.10-linux-x86_64-gnu/lib/python3.12/multiprocessing/popen_fork.py:66: DeprecationWarning: This process (pid=55424) is multi-threaded, use of fork() may lead to deadlocks in the child.\u001b[32m [repeated 3x across cluster]\u001b[0m\n",
      "\u001b[36m(ClientAppActor pid=55424)\u001b[0m   self.pid = os.fork()\u001b[32m [repeated 3x across cluster]\u001b[0m\n",
      "\u001b[36m(ClientAppActor pid=55424)\u001b[0m Seed set to 42\n",
      "\u001b[33m(raylet)\u001b[0m [2025-05-07 18:42:48,605 E 53511 53551] (raylet) file_system_monitor.cc:111: /home/emeka/PrivacyBench/logs/ray/session_2025-05-07_18-32-05_959721_53135 is over 95% full, available space: 764157952; capacity: 52589998080. Object creation will fail if spilling is required.\n",
      "\u001b[33m(raylet)\u001b[0m [2025-05-07 18:42:58,614 E 53511 53551] (raylet) file_system_monitor.cc:111: /home/emeka/PrivacyBench/logs/ray/session_2025-05-07_18-32-05_959721_53135 is over 95% full, available space: 764116992; capacity: 52589998080. Object creation will fail if spilling is required.\n",
      "\u001b[33m(raylet)\u001b[0m [2025-05-07 18:43:08,624 E 53511 53551] (raylet) file_system_monitor.cc:111: /home/emeka/PrivacyBench/logs/ray/session_2025-05-07_18-32-05_959721_53135 is over 95% full, available space: 764026880; capacity: 52589998080. Object creation will fail if spilling is required.\n",
      "\u001b[33m(raylet)\u001b[0m [2025-05-07 18:43:18,634 E 53511 53551] (raylet) file_system_monitor.cc:111: /home/emeka/PrivacyBench/logs/ray/session_2025-05-07_18-32-05_959721_53135 is over 95% full, available space: 763789312; capacity: 52589998080. Object creation will fail if spilling is required.\n",
      "\u001b[33m(raylet)\u001b[0m [2025-05-07 18:43:28,644 E 53511 53551] (raylet) file_system_monitor.cc:111: /home/emeka/PrivacyBench/logs/ray/session_2025-05-07_18-32-05_959721_53135 is over 95% full, available space: 763506688; capacity: 52589998080. Object creation will fail if spilling is required.\n",
      "\u001b[33m(raylet)\u001b[0m [2025-05-07 18:43:38,654 E 53511 53551] (raylet) file_system_monitor.cc:111: /home/emeka/PrivacyBench/logs/ray/session_2025-05-07_18-32-05_959721_53135 is over 95% full, available space: 763486208; capacity: 52589998080. Object creation will fail if spilling is required.\n",
      "\u001b[33m(raylet)\u001b[0m [2025-05-07 18:43:48,663 E 53511 53551] (raylet) file_system_monitor.cc:111: /home/emeka/PrivacyBench/logs/ray/session_2025-05-07_18-32-05_959721_53135 is over 95% full, available space: 763482112; capacity: 52589998080. Object creation will fail if spilling is required.\n"
     ]
    },
    {
     "name": "stdout",
     "output_type": "stream",
     "text": [
      "\u001b[36m(ClientAppActor pid=55423)\u001b[0m \n",
      "\u001b[36m(ClientAppActor pid=55423)\u001b[0m 🔎 Tracker: FL + CDP-CA (CNN)\n",
      "\u001b[36m(ClientAppActor pid=55423)\u001b[0m 📁 Logs saved to: /home/emeka/PrivacyBench/logs/emissions/FL_CDP-CA_CNN/client_emissions.csv\n",
      "\u001b[36m(ClientAppActor pid=55423)\u001b[0m ⏱️ Total training time: 1 minutes 21 seconds\n"
     ]
    },
    {
     "name": "stderr",
     "output_type": "stream",
     "text": [
      "\u001b[36m(ClientAppActor pid=55423)\u001b[0m \u001b[92mINFO \u001b[0m:      adaptiveclipping_mod: parameters are clipped by value: 351.2640.\n",
      "\u001b[36m(ClientAppActor pid=55423)\u001b[0m 2025-05-07 18:43:57,946 - INFO - adaptiveclipping_mod: parameters are clipped by value: 351.2640.\n",
      "\u001b[36m(ClientAppActor pid=55423)\u001b[0m Seed set to 42\n",
      "\u001b[33m(raylet)\u001b[0m [2025-05-07 18:43:58,673 E 53511 53551] (raylet) file_system_monitor.cc:111: /home/emeka/PrivacyBench/logs/ray/session_2025-05-07_18-32-05_959721_53135 is over 95% full, available space: 763322368; capacity: 52589998080. Object creation will fail if spilling is required.\n",
      "\u001b[36m(ClientAppActor pid=55423)\u001b[0m /home/emeka/.local/share/uv/python/cpython-3.12.10-linux-x86_64-gnu/lib/python3.12/multiprocessing/popen_fork.py:66: DeprecationWarning: This process (pid=55423) is multi-threaded, use of fork() may lead to deadlocks in the child.\n",
      "\u001b[36m(ClientAppActor pid=55423)\u001b[0m   self.pid = os.fork()\n",
      "\u001b[33m(raylet)\u001b[0m [2025-05-07 18:44:08,683 E 53511 53551] (raylet) file_system_monitor.cc:111: /home/emeka/PrivacyBench/logs/ray/session_2025-05-07_18-32-05_959721_53135 is over 95% full, available space: 763359232; capacity: 52589998080. Object creation will fail if spilling is required.\n",
      "\u001b[36m(ClientAppActor pid=55424)\u001b[0m /home/emeka/.local/share/uv/python/cpython-3.12.10-linux-x86_64-gnu/lib/python3.12/multiprocessing/popen_fork.py:66: DeprecationWarning: This process (pid=55424) is multi-threaded, use of fork() may lead to deadlocks in the child.\n",
      "\u001b[36m(ClientAppActor pid=55424)\u001b[0m   self.pid = os.fork()\n",
      "\u001b[33m(raylet)\u001b[0m [2025-05-07 18:44:18,692 E 53511 53551] (raylet) file_system_monitor.cc:111: /home/emeka/PrivacyBench/logs/ray/session_2025-05-07_18-32-05_959721_53135 is over 95% full, available space: 763035648; capacity: 52589998080. Object creation will fail if spilling is required.\n"
     ]
    },
    {
     "name": "stdout",
     "output_type": "stream",
     "text": [
      "\u001b[36m(ClientAppActor pid=55424)\u001b[0m \n",
      "\u001b[36m(ClientAppActor pid=55424)\u001b[0m 🔎 Tracker: FL + CDP-CA (CNN)\n",
      "\u001b[36m(ClientAppActor pid=55424)\u001b[0m 📁 Logs saved to: /home/emeka/PrivacyBench/logs/emissions/FL_CDP-CA_CNN/client_emissions.csv\n",
      "\u001b[36m(ClientAppActor pid=55424)\u001b[0m ⏱️ Total training time: 1 minutes 47 seconds\n"
     ]
    },
    {
     "name": "stderr",
     "output_type": "stream",
     "text": [
      "\u001b[36m(ClientAppActor pid=55424)\u001b[0m \u001b[92mINFO \u001b[0m:      adaptiveclipping_mod: parameters are clipped by value: 351.2640.\n",
      "\u001b[36m(ClientAppActor pid=55424)\u001b[0m 2025-05-07 18:44:24,747 - INFO - adaptiveclipping_mod: parameters are clipped by value: 351.2640.\n",
      "\u001b[33m(raylet)\u001b[0m [2025-05-07 18:44:28,702 E 53511 53551] (raylet) file_system_monitor.cc:111: /home/emeka/PrivacyBench/logs/ray/session_2025-05-07_18-32-05_959721_53135 is over 95% full, available space: 762871808; capacity: 52589998080. Object creation will fail if spilling is required.\n",
      "\u001b[33m(raylet)\u001b[0m [2025-05-07 18:44:38,712 E 53511 53551] (raylet) file_system_monitor.cc:111: /home/emeka/PrivacyBench/logs/ray/session_2025-05-07_18-32-05_959721_53135 is over 95% full, available space: 762867712; capacity: 52589998080. Object creation will fail if spilling is required.\n",
      "\u001b[33m(raylet)\u001b[0m [2025-05-07 18:44:48,721 E 53511 53551] (raylet) file_system_monitor.cc:111: /home/emeka/PrivacyBench/logs/ray/session_2025-05-07_18-32-05_959721_53135 is over 95% full, available space: 762859520; capacity: 52589998080. Object creation will fail if spilling is required.\n"
     ]
    }
   ],
   "source": [
    "project_root =  os.path.abspath(\"../..\")\n",
    "\n",
    "ray.shutdown()\n",
    "\n",
    "ray.init(\n",
    "    _temp_dir=str(RAY_LOG_DIR),\n",
    "    runtime_env={\n",
    "        \"env_vars\": {\n",
    "            \"PYTHONWARNINGS\": \"ignore::DeprecationWarning\",  # More specific warning filter\n",
    "            \"OMP_NUM_THREADS\": \"1\"  # Prevents thread oversubscription\n",
    "        },\n",
    "        \"working_dir\": project_root,\n",
    "        'excludes': ['data', '.cache', '.docker', '.local', 'logs/model']\n",
    "    },\n",
    "    ignore_reinit_error=True\n",
    ")\n",
    "\n",
    "start_time = time.perf_counter()\n",
    "\n",
    "run_simulation(\n",
    "    server_app = server,\n",
    "    client_app = client,\n",
    "    num_supernodes = fed_config.get(\"num_clients\"),\n",
    "    backend_config=backend_setup\n",
    ")\n",
    "\n",
    "\n",
    "end_time = time.perf_counter()\n",
    "duration = end_time - start_time\n",
    "print(f\"\\n🕒 Total Time: {duration // 60:.0f} min {duration % 60:.0f} sec\")\n",
    "\n",
    "ray.shutdown()"
   ]
  },
  {
   "cell_type": "code",
   "execution_count": null,
   "id": "a51119cf",
   "metadata": {},
   "outputs": [],
   "source": [
    "                                                                                                                                                                                                                                                                                                                                                                                                                                                                                                                                                                                                                                                                                                                                                                                                                                                                                                                                                                                                                                                                                                                                                                                                                                                                                                                                                                                                                                                                                                                                                                                                                                                                                                                                                                                                                                                                                                                                                                                                                                                                                                                                                                                                                                                                                                                                                                                                                                                                                                                                                                                                                                                                                                                                                                                                                                                                                                                                                                                                                                                                                                                                                                                                                                                                                                                                                                                                                                                                                                                                                                                                                                                                                                                                                                                                                                                                                                                                                                                                                                                                                                                                                                                                                                                                                                                                                                                                                                                                                                                                                                                                                                                                                                                                                                                                                                                                                                                                                                                                                                                                                                                                                                                                                                                                                                                                                                                                                                                                                                                                                                                                                                                                                                                                                                                                                                                                                                                                                                                                                                                                                                                                                                                                                                                                                                                                                                                                                                                                                                                                                                                                                                                                                                                                                                                                                                                                                                                                                                                                                                                                                                                                                                                                                                                                                                                                                                                                                                                                                                                                                                                                                                                                                                                                                                                                                                                                                                                                                                                                                                                                                                                                                                                                                                                                                                                                                                                                                                                                                                                                                                                                                                                                                                                                                                                                                                                                                                                                                                                                                                                                                                                                                                                                                                                                                                                                                                                                                                                                                                                                                                                                                                                                                                                                                                                                                                                                                                                                                                                                                                                                                                                                                                                                                                                                                                                                                                                                                                                                                                                                                                                                                                                                                                                                                                                                                                                                                                                                                                                                                                                                                                                                                                                                                                                                                                                                                                                                                                                                                                                                                                                                                                                                                                                                                                                                                                                                                                                                                                                                                                                                                                                                                                                                                                                                                                                                                                                                                                                                                                                                                                                                                                                                                                                                                                                                                                                                                                                                                                                                                                                                                                                                                                                                                                                                                                                                                                                                                                                                                                                                                                                                                                                                                                                                                                                                                                                                                                                                                                                                                                                                                                                                                                                                                                                                                                                                                                                                                                                                                                                                                                                                                                                                                                                                                                                                                                                                                                                                                                                                                                                                                                                                                                                                                                                                                                                                                                                                                                                                                                                                                                                                                                                                                                                                                                                                                                                                                                                                                                                                                                                                                                                                                                                                                                                                                                                                                                                                                                                                                                                                                                                                                                                                                                                                                                                                                                                                                                                                                                                                                                                                                                                                                                                                                                                                                                                                                                                                                                                                                                                                                                                                                                                                                                                                                                                                                                                                                                                                                                                                                                                                                                                                                                                                                                                                                                                                                                                                                                                                                                                                                                                                                                                                                                                                                                                                                                                                                                                                                                                                                                                                                                                                                                                                                                                                                                                                                                                                                                                                                                                                                                                                                                                                                                                                                                                                                                                                                                                                                                                                                                                                                                                                                                                                                                                                                                                                                                                                                                                                                                                                                                                                                                                                                                                                                                                                                                                                                                                                                                                                                                                                                                                                                                                                                                                                                                                                                                                                                                                                                                                                                                                                                                                                                                                                                                                                                                                                                                                                                                                                                                                                                                                                                                                                                                                                                                                                                                                                                                                                                                                                                                                                                                                                                                                                                                                                                                                                                                                                                                                                                                                                                                                                                                                                                                                                                                                                                                                                                                                                                                                                                                                                                                                                                                                                                                                                                                                                                                                                                                                                                                                                                                                                                                                                                                                                                                                                                                                                                                                                                                                                                                                                                                                                                                                                                                                                                                                                                                                                                                                                                                                                                                                                                                                                                                                                                                                                                                                                                                                                                                                                                                                                                                                                                                                                                                                                                                                                                                                                                                                                                                                                                                                                                                                                                                                                                                                                                                                                                                                                                                                                                                                                                                                                                                                                                                                                                                                                                                                                                                                                                                                                                                                                                                                                                                                                                                                                                                                                                                                                                                                                                                                                                                                                                                                                                                                                                                                                                                                                                                                                                                                                                                                                                                                        "
   ]
  }
 ],
 "metadata": {
  "kernelspec": {
   "display_name": "privacybench",
   "language": "python",
   "name": "python3"
  },
  "language_info": {
   "codemirror_mode": {
    "name": "ipython",
    "version": 3
   },
   "file_extension": ".py",
   "mimetype": "text/x-python",
   "name": "python",
   "nbconvert_exporter": "python",
   "pygments_lexer": "ipython3",
   "version": "3.12.11"
  }
 },
 "nbformat": 4,
 "nbformat_minor": 5
}
