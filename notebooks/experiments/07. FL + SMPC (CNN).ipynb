{
 "cells": [
  {
   "cell_type": "markdown",
   "id": "a0f613f4-5943-4e56-904e-cda362a39136",
   "metadata": {},
   "source": [
    "# <center>Federated Learning & Secure Multi-Party Computation</center>"
   ]
  },
  {
   "cell_type": "markdown",
   "id": "0bf67650-39e4-4360-9e2f-cf39a0caa147",
   "metadata": {},
   "source": [
    "## Evaluating FL + SMPC for PrivacyBench with CNN\n",
    "\n",
    "As a core component of the PrivacyBench framework, this implementation evaluates Federated Learning (FL) enhanced with Secure Multi-Party Computation (SMPC). This quantifies the trade-offs of privacy-preserving decentralized AI by combining FL (data privacy) with SMPC (computation privacy), serving as a critical reference for:\n",
    "\n",
    "- Model Utility: Accuracy impact of encrypted weight aggregation.\n",
    "- Computational Overhead: Training latency and memory costs from SMPC operations.\n",
    "- Energy Efficiency: kWh/CO₂ emissions of secure distributed training.\n",
    "  \n",
    "--- "
   ]
  },
  {
   "cell_type": "code",
   "execution_count": 1,
   "id": "f468caec-9c59-47a3-bebb-5d015797d6c6",
   "metadata": {},
   "outputs": [
    {
     "name": "stdout",
     "output_type": "stream",
     "text": [
      "Python implementation: CPython\n",
      "Python version       : 3.12.10\n",
      "IPython version      : 9.1.0\n",
      "\n",
      "torch: 2.6.0\n",
      "flwr : 1.18.0\n",
      "\n"
     ]
    }
   ],
   "source": [
    "%load_ext autoreload\n",
    "%load_ext watermark\n",
    "    \n",
    "%autoreload 2\n",
    "%watermark --python -p torch,flwr "
   ]
  },
  {
   "cell_type": "markdown",
   "id": "e77b8f0e-b1c2-4d8a-b7ef-18596e7db564",
   "metadata": {},
   "source": [
    "--------\n",
    "\n",
    "## Loading Dependencies"
   ]
  },
  {
   "cell_type": "code",
   "execution_count": 2,
   "id": "ecfe546a-a455-4deb-b375-297379eaa142",
   "metadata": {},
   "outputs": [],
   "source": [
    "import os\n",
    "import sys\n",
    "sys.path.append(\"../..\")\n",
    "\n",
    "import ray\n",
    "import time\n",
    "\n",
    "import torch.nn as nn\n",
    "from torchvision.models import resnet18, ResNet18_Weights\n",
    "\n",
    "from logging import ERROR\n",
    "\n",
    "from flwr.common import Context \n",
    "from flwr.client import Client, ClientApp\n",
    "from flwr.client.mod import secaggplus_mod\n",
    "from flwr.simulation import run_simulation\n",
    "\n",
    "from src.config import ExperimentName\n",
    "from src.paths import RAY_LOG_DIR\n",
    "from src.FL_client import MedicalImageClient\n",
    "from src.FL_server import weighted_average, build_evaluate_fn, build_server_app\n",
    "from src.local_utility import load_yaml_config, set_device, prepare_FL_dataset\n",
    "\n",
    "from src.tracker import reset_base_memory_csv"
   ]
  },
  {
   "cell_type": "markdown",
   "id": "b610703b-c121-49f7-b720-18cc701d53ff",
   "metadata": {},
   "source": [
    "------"
   ]
  },
  {
   "cell_type": "code",
   "execution_count": 3,
   "id": "70964a1c",
   "metadata": {},
   "outputs": [],
   "source": [
    "# Replace with appropritate values\n",
    "data_name_ = \"skin_lesions\" #'alzheimer' #\n",
    "base_type_ = \"cnn\"           \n",
    "exp_name_ = \"SMPC\"\n",
    "num_labels_ = 8\n",
    "experiment_name_ = ExperimentName.FL_SMPC_CNN"
   ]
  },
  {
   "cell_type": "code",
   "execution_count": 4,
   "id": "1895626e-dc20-41b9-82c2-fc3e1abb9f9b",
   "metadata": {},
   "outputs": [],
   "source": [
    "DEVICE = set_device()\n",
    "reset_base_memory_csv() \n",
    "\n",
    "fed_config = load_yaml_config(key=\"experiments\", item_name=experiment_name_)\n",
    "client_dataloaders = prepare_FL_dataset(exp_name = exp_name_, data_name=data_name_, base_type=base_type_, augment_data=True)"
   ]
  },
  {
   "cell_type": "markdown",
   "id": "001407f0-4658-4c2b-a1c8-3a14db891204",
   "metadata": {},
   "source": [
    "------"
   ]
  },
  {
   "cell_type": "code",
   "execution_count": 5,
   "id": "4f1d14b1-ebd0-49eb-9167-2201e121039b",
   "metadata": {},
   "outputs": [],
   "source": [
    "def client_fn(context: Context) -> Client:\n",
    "    \"\"\"\n",
    "    Creates and initializes a federated learning client.\n",
    "\n",
    "    This function initializes a client in the federated learning setup by \n",
    "    assigning a unique partitioned dataset and a machine learning model \n",
    "    for training and validation.\n",
    "\n",
    "    Args:\n",
    "        context (Context): The execution context containing client-specific configurations.\n",
    "\n",
    "    Returns:\n",
    "        Client: A configured federated learning client ready to participate in training.\n",
    "    \"\"\"\n",
    "    partition_id = int(context.node_config[\"partition-id\"]) #<--- Get the client partition ID\n",
    "    \n",
    "    model = resnet18(weights=ResNet18_Weights.IMAGENET1K_V1)\n",
    "    model.fc = nn.Linear(in_features=model.fc.in_features, out_features=num_labels_)\n",
    "\n",
    "    # Assign partitioned client dataset\n",
    "    train_loader, val_loader, test_loader = client_dataloaders[partition_id]\n",
    "    \n",
    "    return MedicalImageClient(model, train_loader, val_loader, exp_name=exp_name_, data_name=data_name_, base_type=base_type_, client_id=partition_id).to_client()\n",
    "\n",
    "client = ClientApp(client_fn = client_fn, mods=[secaggplus_mod])"
   ]
  },
  {
   "cell_type": "code",
   "execution_count": 6,
   "id": "be5dd554",
   "metadata": {},
   "outputs": [],
   "source": [
    "server = build_server_app(\n",
    "    evaluate_fn=build_evaluate_fn(    #<--- Global evaluation function\n",
    "            exp_name = exp_name_, \n",
    "            base_type = base_type_,\n",
    "            data_name=data_name_, \n",
    "            experiment_item=experiment_name_, \n",
    "            num_labels=num_labels_\n",
    "            ),\n",
    "    metrics_fn=weighted_average,\n",
    "    fed_config= fed_config,\n",
    "    base_type=base_type_,\n",
    "    num_labels= num_labels_\n",
    ")"
   ]
  },
  {
   "cell_type": "markdown",
   "id": "c55a4ea4-e96f-43c5-be23-94726f89e786",
   "metadata": {},
   "source": [
    "----- \n",
    "\n",
    "Set up our backend configurations before running the simulation\n",
    "\n",
    "> - `init_args`: filter logging coming from the Simulation Engine so it's more readable in notebooks\n",
    "> - `client_resources`: by default it's assumed this notebook will be ran with a compute, hence allocate to each client 2x CPU and 0.5x GPUs."
   ]
  },
  {
   "cell_type": "code",
   "execution_count": 7,
   "id": "aa863db4-8ec3-4a7d-9b0e-690276674543",
   "metadata": {},
   "outputs": [],
   "source": [
    "backend_setup = {\n",
    "    \"init_args\": {\n",
    "        \"logging_level\": ERROR, \n",
    "        \"log_to_driver\": fed_config.get(\"log_to_driver\")\n",
    "    },\n",
    "    \"client_resources\": {\n",
    "        \"num_cpus\": fed_config.get(\"num_cpus\"), \n",
    "        \"num_gpus\": fed_config.get(\"num_gpus\")            \n",
    "    },\n",
    "}\n",
    "\n",
    "# When running on GPU, assign an entire GPU for each client\n",
    "if DEVICE == \"cuda\": \n",
    "    backend_setup[\"client_resources\"] = {\"num_cpus\": 2, \"num_gpus\": 1}"
   ]
  },
  {
   "cell_type": "markdown",
   "id": "107149ba-21f2-4940-9884-21e44089cc4e",
   "metadata": {},
   "source": [
    "--- \n",
    "\n",
    "## Initiate the Simulation \n",
    "\n",
    "Initiate the simulation by passing the server and client apps, and specify the number of supernodes that will be selected on every round. "
   ]
  },
  {
   "cell_type": "code",
   "execution_count": 8,
   "id": "fe733cda-85d3-4a63-a9d8-56eed6d2f78a",
   "metadata": {},
   "outputs": [
    {
     "name": "stderr",
     "output_type": "stream",
     "text": [
      "2025-05-14 18:01:18,236\tINFO worker.py:1771 -- Started a local Ray instance.\n",
      "2025-05-14 18:01:18,264\tINFO packaging.py:530 -- Creating a file package for local directory '/home/emeka/PrivacyBench'.\n",
      "2025-05-14 18:01:18,283\tINFO packaging.py:358 -- Pushing file package 'gcs://_ray_pkg_44d4c629e234b78d.zip' (0.63MiB) to Ray cluster...\n",
      "2025-05-14 18:01:18,287\tINFO packaging.py:371 -- Successfully pushed file package 'gcs://_ray_pkg_44d4c629e234b78d.zip'.\n",
      "05/14/2025 18:01:19:DEBUG:Asyncio event loop already running.\n",
      "\u001b[92mINFO \u001b[0m:      [INIT]\n",
      "\u001b[92mINFO \u001b[0m:      Using initial global parameters provided by strategy\n",
      "\u001b[92mINFO \u001b[0m:      Starting evaluation of initial global parameters\n",
      "[codecarbon WARNING @ 18:01:20] Multiple instances of codecarbon are allowed to run at the same time.\n",
      "/home/emeka/.local/share/uv/python/cpython-3.12.10-linux-x86_64-gnu/lib/python3.12/multiprocessing/popen_fork.py:66: DeprecationWarning: This process (pid=261155) is multi-threaded, use of fork() may lead to deadlocks in the child.\n",
      "  self.pid = os.fork()\n",
      "/home/emeka/PrivacyBench/.venv/lib/python3.12/site-packages/codecarbon/output_methods/file.py:52: FutureWarning: The behavior of DataFrame concatenation with empty or all-NA entries is deprecated. In a future version, this will no longer exclude empty or all-NA columns when determining the result dtypes. To retain the old behavior, exclude the relevant entries before the concat operation.\n",
      "  df = pd.concat([df, pd.DataFrame.from_records([dict(total.values)])])\n",
      "/home/emeka/PrivacyBench/notebooks/experiments/../../src/tracker.py:89: FutureWarning: The behavior of DataFrame concatenation with empty or all-NA entries is deprecated. In a future version, this will no longer exclude empty or all-NA columns when determining the result dtypes. To retain the old behavior, exclude the relevant entries before the concat operation.\n",
      "  df = pd.concat([df, pd.DataFrame([new_row])], ignore_index=True)\n",
      "\u001b[92mINFO \u001b[0m:      initial parameters (loss, other metrics): 2.4583164633136905, {'accuracy': 0.03483870967741935}\n",
      "\u001b[92mINFO \u001b[0m:      \n",
      "\u001b[92mINFO \u001b[0m:      [ROUND 1]\n",
      "\u001b[92mINFO \u001b[0m:      Secure aggregation commencing.\n",
      "\u001b[92mINFO \u001b[0m:      configure_fit: strategy sampled 3 clients (out of 3)\n",
      "\u001b[94mDEBUG \u001b[0m:     [Stage 0] Sending configurations to 3 clients.\n",
      "\u001b[36m(ClientAppActor pid=263479)\u001b[0m 05/14/2025 18:01:37:DEBUG:Node 8637311656043256207: starting stage 0...\n",
      "\u001b[36m(ClientAppActor pid=263479)\u001b[0m 05/14/2025 18:01:37:DEBUG:Node 8637311656043256207: stage 0 completes. uploading public keys...\n",
      "\u001b[94mDEBUG \u001b[0m:     [Stage 0] Received public keys from 3 clients.\n",
      "\u001b[94mDEBUG \u001b[0m:     [Stage 1] Forwarding public keys to 3 clients.\n",
      "\u001b[36m(ClientAppActor pid=263479)\u001b[0m 05/14/2025 18:01:37:DEBUG:Node 8637311656043256207: stage 1 completes. uploading key shares...\n",
      "\u001b[94mDEBUG \u001b[0m:     [Stage 1] Received encrypted key shares from 3 clients.\n",
      "\u001b[94mDEBUG \u001b[0m:     [Stage 2] Forwarding encrypted key shares to 3 clients.\n",
      "\u001b[36m(ClientAppActor pid=263479)\u001b[0m Seed set to 42\n",
      "\u001b[36m(ClientAppActor pid=263480)\u001b[0m [codecarbon WARNING @ 18:01:38] Multiple instances of codecarbon are allowed to run at the same time.\n",
      "\u001b[36m(ClientAppActor pid=263479)\u001b[0m /home/emeka/.local/share/uv/python/cpython-3.12.10-linux-x86_64-gnu/lib/python3.12/multiprocessing/popen_fork.py:66: DeprecationWarning: This process (pid=263479) is multi-threaded, use of fork() may lead to deadlocks in the child.\n",
      "\u001b[36m(ClientAppActor pid=263479)\u001b[0m   self.pid = os.fork()\n",
      "\u001b[36m(ClientAppActor pid=263480)\u001b[0m 05/14/2025 18:01:37:DEBUG:Node 6852188875448652787: starting stage 1...\u001b[32m [repeated 5x across cluster] (Ray deduplicates logs by default. Set RAY_DEDUP_LOGS=0 to disable log deduplication, or see https://docs.ray.io/en/master/ray-observability/user-guides/configure-logging.html#log-deduplication for more options.)\u001b[0m\n",
      "\u001b[36m(ClientAppActor pid=263480)\u001b[0m 05/14/2025 18:01:37:DEBUG:Node 6852188875448652787: stage 0 completes. uploading public keys...\u001b[32m [repeated 2x across cluster]\u001b[0m\n",
      "\u001b[36m(ClientAppActor pid=263480)\u001b[0m 05/14/2025 18:01:37:DEBUG:Node 6852188875448652787: stage 1 completes. uploading key shares...\u001b[32m [repeated 2x across cluster]\u001b[0m\n",
      "\u001b[36m(ClientAppActor pid=263480)\u001b[0m Seed set to 42\n",
      "\u001b[36m(ClientAppActor pid=263479)\u001b[0m [codecarbon WARNING @ 18:01:38] Multiple instances of codecarbon are allowed to run at the same time.\n",
      "\u001b[36m(ClientAppActor pid=263480)\u001b[0m /home/emeka/.local/share/uv/python/cpython-3.12.10-linux-x86_64-gnu/lib/python3.12/multiprocessing/popen_fork.py:66: DeprecationWarning: This process (pid=263480) is multi-threaded, use of fork() may lead to deadlocks in the child.\u001b[32m [repeated 2x across cluster]\u001b[0m\n",
      "\u001b[36m(ClientAppActor pid=263480)\u001b[0m   self.pid = os.fork()\u001b[32m [repeated 2x across cluster]\u001b[0m\n",
      "\u001b[36m(ClientAppActor pid=263480)\u001b[0m /home/emeka/.local/share/uv/python/cpython-3.12.10-linux-x86_64-gnu/lib/python3.12/multiprocessing/popen_fork.py:66: DeprecationWarning: This process (pid=263480) is multi-threaded, use of fork() may lead to deadlocks in the child.\u001b[32m [repeated 2x across cluster]\u001b[0m\n",
      "\u001b[36m(ClientAppActor pid=263480)\u001b[0m   self.pid = os.fork()\u001b[32m [repeated 2x across cluster]\u001b[0m\n"
     ]
    },
    {
     "name": "stdout",
     "output_type": "stream",
     "text": [
      "\u001b[36m(ClientAppActor pid=263480)\u001b[0m \n",
      "\u001b[36m(ClientAppActor pid=263480)\u001b[0m 🔎 Tracker: FL + SMPC (CNN)\n",
      "\u001b[36m(ClientAppActor pid=263480)\u001b[0m 📁 Logs saved to: /home/emeka/PrivacyBench/logs/emissions/skin_lesions/FL_SMPC_CNN/client_emissions.csv\n",
      "\u001b[36m(ClientAppActor pid=263480)\u001b[0m ⏱️ Total training time: 2 minutes 47 seconds\n"
     ]
    },
    {
     "name": "stderr",
     "output_type": "stream",
     "text": [
      "\u001b[36m(ClientAppActor pid=263480)\u001b[0m /home/emeka/PrivacyBench/.venv/lib/python3.12/site-packages/codecarbon/output_methods/file.py:52: FutureWarning: The behavior of DataFrame concatenation with empty or all-NA entries is deprecated. In a future version, this will no longer exclude empty or all-NA columns when determining the result dtypes. To retain the old behavior, exclude the relevant entries before the concat operation.\n",
      "\u001b[36m(ClientAppActor pid=263480)\u001b[0m   df = pd.concat([df, pd.DataFrame.from_records([dict(total.values)])])\n",
      "\u001b[36m(ClientAppActor pid=263480)\u001b[0m 05/14/2025 18:04:26:DEBUG:Node 8431759178770513966: starting stage 2...\n",
      "\u001b[36m(ClientAppActor pid=263480)\u001b[0m \u001b[93mWARNING \u001b[0m:   Potential overflow warning: the provided weight (5703) exceeds the specified max_weight (2000). This may lead to overflow issues.\n",
      "\u001b[36m(ClientAppActor pid=263480)\u001b[0m 05/14/2025 18:04:26:WARNING:Potential overflow warning: the provided weight (5703) exceeds the specified max_weight (2000). This may lead to overflow issues.\n",
      "\u001b[36m(ClientAppActor pid=263480)\u001b[0m 05/14/2025 18:04:27:DEBUG:Node 8431759178770513966: stage 2 completed, uploading masked parameters...\n"
     ]
    },
    {
     "name": "stdout",
     "output_type": "stream",
     "text": [
      "\u001b[36m(ClientAppActor pid=263479)\u001b[0m \n"
     ]
    },
    {
     "name": "stderr",
     "output_type": "stream",
     "text": [
      "\u001b[36m(ClientAppActor pid=263480)\u001b[0m Seed set to 42\n",
      "\u001b[36m(ClientAppActor pid=263480)\u001b[0m /home/emeka/.local/share/uv/python/cpython-3.12.10-linux-x86_64-gnu/lib/python3.12/multiprocessing/popen_fork.py:66: DeprecationWarning: This process (pid=263480) is multi-threaded, use of fork() may lead to deadlocks in the child.\u001b[32m [repeated 3x across cluster]\u001b[0m\n",
      "\u001b[36m(ClientAppActor pid=263480)\u001b[0m   self.pid = os.fork()\u001b[32m [repeated 3x across cluster]\u001b[0m\n",
      "\u001b[36m(ClientAppActor pid=263479)\u001b[0m 05/14/2025 18:04:27:DEBUG:Node 8637311656043256207: starting stage 2...\n",
      "\u001b[36m(ClientAppActor pid=263479)\u001b[0m \u001b[93mWARNING \u001b[0m:   Potential overflow warning: the provided weight (5703) exceeds the specified max_weight (2000). This may lead to overflow issues.\n",
      "\u001b[36m(ClientAppActor pid=263479)\u001b[0m 05/14/2025 18:04:27:WARNING:Potential overflow warning: the provided weight (5703) exceeds the specified max_weight (2000). This may lead to overflow issues.\n",
      "\u001b[36m(ClientAppActor pid=263479)\u001b[0m 05/14/2025 18:04:28:DEBUG:Node 8637311656043256207: stage 2 completed, uploading masked parameters...\n"
     ]
    },
    {
     "name": "stdout",
     "output_type": "stream",
     "text": [
      "\u001b[36m(ClientAppActor pid=263480)\u001b[0m \n",
      "\u001b[36m(ClientAppActor pid=263480)\u001b[0m 🔎 Tracker: FL + SMPC (CNN)\u001b[32m [repeated 2x across cluster]\u001b[0m\n",
      "\u001b[36m(ClientAppActor pid=263480)\u001b[0m 📁 Logs saved to: /home/emeka/PrivacyBench/logs/emissions/skin_lesions/FL_SMPC_CNN/client_emissions.csv\u001b[32m [repeated 2x across cluster]\u001b[0m\n",
      "\u001b[36m(ClientAppActor pid=263480)\u001b[0m ⏱️ Total training time: 2 minutes 39 seconds\u001b[32m [repeated 2x across cluster]\u001b[0m\n"
     ]
    },
    {
     "name": "stderr",
     "output_type": "stream",
     "text": [
      "\u001b[36m(ClientAppActor pid=263480)\u001b[0m 05/14/2025 18:07:07:DEBUG:Node 6852188875448652787: starting stage 2...\n",
      "\u001b[36m(ClientAppActor pid=263480)\u001b[0m \u001b[93mWARNING \u001b[0m:   Potential overflow warning: the provided weight (5703) exceeds the specified max_weight (2000). This may lead to overflow issues.\n",
      "\u001b[36m(ClientAppActor pid=263480)\u001b[0m 05/14/2025 18:07:07:WARNING:Potential overflow warning: the provided weight (5703) exceeds the specified max_weight (2000). This may lead to overflow issues.\n",
      "\u001b[36m(ClientAppActor pid=263480)\u001b[0m 05/14/2025 18:07:08:DEBUG:Node 6852188875448652787: stage 2 completed, uploading masked parameters...\n",
      "\u001b[94mDEBUG \u001b[0m:     [Stage 2] Received masked vectors from 3 clients.\n",
      "\u001b[94mDEBUG \u001b[0m:     [Stage 3] Requesting key shares from 3 clients to remove masks.\n",
      "\u001b[36m(ClientAppActor pid=263479)\u001b[0m 05/14/2025 18:07:08:DEBUG:Node 8637311656043256207: stage 3 completes. uploading key shares...\n",
      "\u001b[94mDEBUG \u001b[0m:     [Stage 3] Received key shares from 3 clients.\n",
      "\u001b[92mINFO \u001b[0m:      aggregate_fit: received 3 results and 0 failures\n",
      "\u001b[93mWARNING \u001b[0m:   No fit_metrics_aggregation_fn provided\n",
      "\u001b[92mINFO \u001b[0m:      Secure aggregation completed.\n",
      "/home/emeka/.local/share/uv/python/cpython-3.12.10-linux-x86_64-gnu/lib/python3.12/multiprocessing/popen_fork.py:66: DeprecationWarning: This process (pid=261155) is multi-threaded, use of fork() may lead to deadlocks in the child.\n",
      "  self.pid = os.fork()\n",
      "\u001b[92mINFO \u001b[0m:      fit progress: (1, 0.7551277620233086, {'accuracy': 0.7443010752688172}, 348.9716914870005)\n",
      "\u001b[92mINFO \u001b[0m:      configure_evaluate: strategy sampled 3 clients (out of 3)\n",
      "\u001b[36m(ClientAppActor pid=263479)\u001b[0m /home/emeka/.local/share/uv/python/cpython-3.12.10-linux-x86_64-gnu/lib/python3.12/multiprocessing/popen_fork.py:66: DeprecationWarning: This process (pid=263479) is multi-threaded, use of fork() may lead to deadlocks in the child.\n",
      "\u001b[36m(ClientAppActor pid=263479)\u001b[0m   self.pid = os.fork()\n",
      "\u001b[36m(ClientAppActor pid=263480)\u001b[0m 05/14/2025 18:07:08:DEBUG:Node 6852188875448652787: starting stage 3...\u001b[32m [repeated 3x across cluster]\u001b[0m\n",
      "\u001b[36m(ClientAppActor pid=263480)\u001b[0m 05/14/2025 18:07:08:DEBUG:Node 6852188875448652787: stage 3 completes. uploading key shares...\u001b[32m [repeated 2x across cluster]\u001b[0m\n",
      "\u001b[92mINFO \u001b[0m:      aggregate_evaluate: received 3 results and 0 failures\n",
      "\u001b[92mINFO \u001b[0m:      \n",
      "\u001b[92mINFO \u001b[0m:      [ROUND 2]\n",
      "\u001b[92mINFO \u001b[0m:      Secure aggregation commencing.\n",
      "\u001b[92mINFO \u001b[0m:      configure_fit: strategy sampled 3 clients (out of 3)\n",
      "\u001b[94mDEBUG \u001b[0m:     [Stage 0] Sending configurations to 3 clients.\n",
      "\u001b[36m(ClientAppActor pid=263479)\u001b[0m 05/14/2025 18:07:20:DEBUG:Node 8431759178770513966: stage 0 completes. uploading public keys...\n",
      "\u001b[94mDEBUG \u001b[0m:     [Stage 0] Received public keys from 3 clients.\n",
      "\u001b[94mDEBUG \u001b[0m:     [Stage 1] Forwarding public keys to 3 clients.\n",
      "\u001b[94mDEBUG \u001b[0m:     [Stage 1] Received encrypted key shares from 3 clients.\n",
      "\u001b[94mDEBUG \u001b[0m:     [Stage 2] Forwarding encrypted key shares to 3 clients.\n",
      "\u001b[36m(ClientAppActor pid=263480)\u001b[0m Seed set to 42\n",
      "\u001b[36m(ClientAppActor pid=263480)\u001b[0m /home/emeka/.local/share/uv/python/cpython-3.12.10-linux-x86_64-gnu/lib/python3.12/multiprocessing/popen_fork.py:66: DeprecationWarning: This process (pid=263480) is multi-threaded, use of fork() may lead to deadlocks in the child.\u001b[32m [repeated 4x across cluster]\u001b[0m\n",
      "\u001b[36m(ClientAppActor pid=263480)\u001b[0m   self.pid = os.fork()\u001b[32m [repeated 4x across cluster]\u001b[0m\n",
      "\u001b[36m(ClientAppActor pid=263479)\u001b[0m 05/14/2025 18:07:20:DEBUG:Node 6852188875448652787: starting stage 1...\u001b[32m [repeated 6x across cluster]\u001b[0m\n",
      "\u001b[36m(ClientAppActor pid=263479)\u001b[0m 05/14/2025 18:07:20:DEBUG:Node 6852188875448652787: stage 1 completes. uploading key shares...\u001b[32m [repeated 3x across cluster]\u001b[0m\n",
      "\u001b[36m(ClientAppActor pid=263479)\u001b[0m 05/14/2025 18:07:20:DEBUG:Node 6852188875448652787: stage 0 completes. uploading public keys...\u001b[32m [repeated 2x across cluster]\u001b[0m\n",
      "\u001b[36m(ClientAppActor pid=263479)\u001b[0m Seed set to 42\n",
      "\u001b[36m(ClientAppActor pid=263480)\u001b[0m /home/emeka/.local/share/uv/python/cpython-3.12.10-linux-x86_64-gnu/lib/python3.12/multiprocessing/popen_fork.py:66: DeprecationWarning: This process (pid=263480) is multi-threaded, use of fork() may lead to deadlocks in the child.\u001b[32m [repeated 2x across cluster]\u001b[0m\n",
      "\u001b[36m(ClientAppActor pid=263480)\u001b[0m   self.pid = os.fork()\u001b[32m [repeated 2x across cluster]\u001b[0m\n"
     ]
    },
    {
     "name": "stdout",
     "output_type": "stream",
     "text": [
      "\u001b[36m(ClientAppActor pid=263480)\u001b[0m \n",
      "\u001b[36m(ClientAppActor pid=263480)\u001b[0m 🔎 Tracker: FL + SMPC (CNN)\n",
      "\u001b[36m(ClientAppActor pid=263480)\u001b[0m 📁 Logs saved to: /home/emeka/PrivacyBench/logs/emissions/skin_lesions/FL_SMPC_CNN/client_emissions.csv\n",
      "\u001b[36m(ClientAppActor pid=263480)\u001b[0m ⏱️ Total training time: 2 minutes 43 seconds\n"
     ]
    },
    {
     "name": "stderr",
     "output_type": "stream",
     "text": [
      "\u001b[36m(ClientAppActor pid=263480)\u001b[0m 05/14/2025 18:10:04:DEBUG:Node 8637311656043256207: starting stage 2...\n",
      "\u001b[36m(ClientAppActor pid=263480)\u001b[0m \u001b[93mWARNING \u001b[0m:   Potential overflow warning: the provided weight (5703) exceeds the specified max_weight (2000). This may lead to overflow issues.\n",
      "\u001b[36m(ClientAppActor pid=263480)\u001b[0m 05/14/2025 18:10:04:WARNING:Potential overflow warning: the provided weight (5703) exceeds the specified max_weight (2000). This may lead to overflow issues.\n",
      "\u001b[36m(ClientAppActor pid=263480)\u001b[0m 05/14/2025 18:10:05:DEBUG:Node 8637311656043256207: stage 2 completed, uploading masked parameters...\n"
     ]
    },
    {
     "name": "stdout",
     "output_type": "stream",
     "text": [
      "\u001b[36m(ClientAppActor pid=263479)\u001b[0m \n",
      "\u001b[36m(ClientAppActor pid=263479)\u001b[0m 🔎 Tracker: FL + SMPC (CNN)\n",
      "\u001b[36m(ClientAppActor pid=263479)\u001b[0m 📁 Logs saved to: /home/emeka/PrivacyBench/logs/emissions/skin_lesions/FL_SMPC_CNN/client_emissions.csv\n",
      "\u001b[36m(ClientAppActor pid=263479)\u001b[0m ⏱️ Total training time: 2 minutes 44 seconds\n"
     ]
    },
    {
     "name": "stderr",
     "output_type": "stream",
     "text": [
      "\u001b[36m(ClientAppActor pid=263480)\u001b[0m Seed set to 42\n",
      "\u001b[36m(ClientAppActor pid=263480)\u001b[0m /home/emeka/.local/share/uv/python/cpython-3.12.10-linux-x86_64-gnu/lib/python3.12/multiprocessing/popen_fork.py:66: DeprecationWarning: This process (pid=263480) is multi-threaded, use of fork() may lead to deadlocks in the child.\u001b[32m [repeated 3x across cluster]\u001b[0m\n",
      "\u001b[36m(ClientAppActor pid=263480)\u001b[0m   self.pid = os.fork()\u001b[32m [repeated 3x across cluster]\u001b[0m\n",
      "\u001b[36m(ClientAppActor pid=263479)\u001b[0m 05/14/2025 18:10:05:DEBUG:Node 8431759178770513966: starting stage 2...\n",
      "\u001b[36m(ClientAppActor pid=263479)\u001b[0m \u001b[93mWARNING \u001b[0m:   Potential overflow warning: the provided weight (5703) exceeds the specified max_weight (2000). This may lead to overflow issues.\n",
      "\u001b[36m(ClientAppActor pid=263479)\u001b[0m 05/14/2025 18:10:05:WARNING:Potential overflow warning: the provided weight (5703) exceeds the specified max_weight (2000). This may lead to overflow issues.\n",
      "\u001b[36m(ClientAppActor pid=263479)\u001b[0m 05/14/2025 18:10:06:DEBUG:Node 8431759178770513966: stage 2 completed, uploading masked parameters...\n"
     ]
    },
    {
     "name": "stdout",
     "output_type": "stream",
     "text": [
      "\u001b[36m(ClientAppActor pid=263480)\u001b[0m \n",
      "\u001b[36m(ClientAppActor pid=263480)\u001b[0m 🔎 Tracker: FL + SMPC (CNN)\n",
      "\u001b[36m(ClientAppActor pid=263480)\u001b[0m 📁 Logs saved to: /home/emeka/PrivacyBench/logs/emissions/skin_lesions/FL_SMPC_CNN/client_emissions.csv\n",
      "\u001b[36m(ClientAppActor pid=263480)\u001b[0m ⏱️ Total training time: 2 minutes 39 seconds\n"
     ]
    },
    {
     "name": "stderr",
     "output_type": "stream",
     "text": [
      "\u001b[36m(ClientAppActor pid=263480)\u001b[0m 05/14/2025 18:12:45:DEBUG:Node 6852188875448652787: starting stage 2...\n",
      "\u001b[36m(ClientAppActor pid=263480)\u001b[0m \u001b[93mWARNING \u001b[0m:   Potential overflow warning: the provided weight (5703) exceeds the specified max_weight (2000). This may lead to overflow issues.\n",
      "\u001b[36m(ClientAppActor pid=263480)\u001b[0m 05/14/2025 18:12:45:WARNING:Potential overflow warning: the provided weight (5703) exceeds the specified max_weight (2000). This may lead to overflow issues.\n",
      "\u001b[36m(ClientAppActor pid=263480)\u001b[0m 05/14/2025 18:12:46:DEBUG:Node 6852188875448652787: stage 2 completed, uploading masked parameters...\n",
      "\u001b[94mDEBUG \u001b[0m:     [Stage 2] Received masked vectors from 3 clients.\n",
      "\u001b[94mDEBUG \u001b[0m:     [Stage 3] Requesting key shares from 3 clients to remove masks.\n",
      "\u001b[36m(ClientAppActor pid=263479)\u001b[0m 05/14/2025 18:12:46:DEBUG:Node 8637311656043256207: stage 3 completes. uploading key shares...\n",
      "\u001b[94mDEBUG \u001b[0m:     [Stage 3] Received key shares from 3 clients.\n",
      "\u001b[92mINFO \u001b[0m:      aggregate_fit: received 3 results and 0 failures\n",
      "\u001b[92mINFO \u001b[0m:      Secure aggregation completed.\n",
      "/home/emeka/.local/share/uv/python/cpython-3.12.10-linux-x86_64-gnu/lib/python3.12/multiprocessing/popen_fork.py:66: DeprecationWarning: This process (pid=261155) is multi-threaded, use of fork() may lead to deadlocks in the child.\n",
      "  self.pid = os.fork()\n",
      "\u001b[92mINFO \u001b[0m:      fit progress: (2, 0.7363093864325791, {'accuracy': 0.7806451612903226}, 686.678904432003)\n",
      "\u001b[92mINFO \u001b[0m:      configure_evaluate: strategy sampled 3 clients (out of 3)\n",
      "\u001b[36m(ClientAppActor pid=263479)\u001b[0m /home/emeka/.local/share/uv/python/cpython-3.12.10-linux-x86_64-gnu/lib/python3.12/multiprocessing/popen_fork.py:66: DeprecationWarning: This process (pid=263479) is multi-threaded, use of fork() may lead to deadlocks in the child.\n",
      "\u001b[36m(ClientAppActor pid=263479)\u001b[0m   self.pid = os.fork()\n",
      "\u001b[36m(ClientAppActor pid=263479)\u001b[0m 05/14/2025 18:12:46:DEBUG:Node 6852188875448652787: starting stage 3...\u001b[32m [repeated 3x across cluster]\u001b[0m\n",
      "\u001b[36m(ClientAppActor pid=263479)\u001b[0m 05/14/2025 18:12:46:DEBUG:Node 6852188875448652787: stage 3 completes. uploading key shares...\u001b[32m [repeated 2x across cluster]\u001b[0m\n",
      "\u001b[92mINFO \u001b[0m:      aggregate_evaluate: received 3 results and 0 failures\n",
      "\u001b[92mINFO \u001b[0m:      \n",
      "\u001b[92mINFO \u001b[0m:      [ROUND 3]\n",
      "\u001b[92mINFO \u001b[0m:      Secure aggregation commencing.\n",
      "\u001b[92mINFO \u001b[0m:      configure_fit: strategy sampled 3 clients (out of 3)\n",
      "\u001b[94mDEBUG \u001b[0m:     [Stage 0] Sending configurations to 3 clients.\n",
      "\u001b[36m(ClientAppActor pid=263479)\u001b[0m 05/14/2025 18:12:58:DEBUG:Node 8431759178770513966: stage 0 completes. uploading public keys...\n",
      "\u001b[94mDEBUG \u001b[0m:     [Stage 0] Received public keys from 3 clients.\n",
      "\u001b[94mDEBUG \u001b[0m:     [Stage 1] Forwarding public keys to 3 clients.\n",
      "\u001b[94mDEBUG \u001b[0m:     [Stage 1] Received encrypted key shares from 3 clients.\n",
      "\u001b[94mDEBUG \u001b[0m:     [Stage 2] Forwarding encrypted key shares to 3 clients.\n",
      "\u001b[36m(ClientAppActor pid=263479)\u001b[0m Seed set to 42\n",
      "\u001b[36m(ClientAppActor pid=263480)\u001b[0m /home/emeka/.local/share/uv/python/cpython-3.12.10-linux-x86_64-gnu/lib/python3.12/multiprocessing/popen_fork.py:66: DeprecationWarning: This process (pid=263480) is multi-threaded, use of fork() may lead to deadlocks in the child.\u001b[32m [repeated 4x across cluster]\u001b[0m\n",
      "\u001b[36m(ClientAppActor pid=263480)\u001b[0m   self.pid = os.fork()\u001b[32m [repeated 4x across cluster]\u001b[0m\n",
      "\u001b[36m(ClientAppActor pid=263479)\u001b[0m 05/14/2025 18:12:58:DEBUG:Node 6852188875448652787: starting stage 1...\u001b[32m [repeated 6x across cluster]\u001b[0m\n",
      "\u001b[36m(ClientAppActor pid=263479)\u001b[0m 05/14/2025 18:12:58:DEBUG:Node 6852188875448652787: stage 1 completes. uploading key shares...\u001b[32m [repeated 3x across cluster]\u001b[0m\n",
      "\u001b[36m(ClientAppActor pid=263479)\u001b[0m 05/14/2025 18:12:58:DEBUG:Node 6852188875448652787: stage 0 completes. uploading public keys...\u001b[32m [repeated 2x across cluster]\u001b[0m\n",
      "\u001b[36m(ClientAppActor pid=263480)\u001b[0m Seed set to 42\n",
      "\u001b[36m(ClientAppActor pid=263479)\u001b[0m /home/emeka/.local/share/uv/python/cpython-3.12.10-linux-x86_64-gnu/lib/python3.12/multiprocessing/popen_fork.py:66: DeprecationWarning: This process (pid=263479) is multi-threaded, use of fork() may lead to deadlocks in the child.\n",
      "\u001b[36m(ClientAppActor pid=263479)\u001b[0m   self.pid = os.fork()\n",
      "\u001b[36m(ClientAppActor pid=263480)\u001b[0m /home/emeka/.local/share/uv/python/cpython-3.12.10-linux-x86_64-gnu/lib/python3.12/multiprocessing/popen_fork.py:66: DeprecationWarning: This process (pid=263480) is multi-threaded, use of fork() may lead to deadlocks in the child.\n",
      "\u001b[36m(ClientAppActor pid=263480)\u001b[0m   self.pid = os.fork()\n"
     ]
    },
    {
     "name": "stdout",
     "output_type": "stream",
     "text": [
      "\u001b[36m(ClientAppActor pid=263479)\u001b[0m \n",
      "\u001b[36m(ClientAppActor pid=263479)\u001b[0m 🔎 Tracker: FL + SMPC (CNN)\n",
      "\u001b[36m(ClientAppActor pid=263479)\u001b[0m 📁 Logs saved to: /home/emeka/PrivacyBench/logs/emissions/skin_lesions/FL_SMPC_CNN/client_emissions.csv\n",
      "\u001b[36m(ClientAppActor pid=263479)\u001b[0m ⏱️ Total training time: 2 minutes 44 seconds\n"
     ]
    },
    {
     "name": "stderr",
     "output_type": "stream",
     "text": [
      "\u001b[36m(ClientAppActor pid=263479)\u001b[0m 05/14/2025 18:15:44:DEBUG:Node 8431759178770513966: starting stage 2...\n",
      "\u001b[36m(ClientAppActor pid=263479)\u001b[0m \u001b[93mWARNING \u001b[0m:   Potential overflow warning: the provided weight (5703) exceeds the specified max_weight (2000). This may lead to overflow issues.\n",
      "\u001b[36m(ClientAppActor pid=263479)\u001b[0m 05/14/2025 18:15:44:WARNING:Potential overflow warning: the provided weight (5703) exceeds the specified max_weight (2000). This may lead to overflow issues.\n",
      "\u001b[36m(ClientAppActor pid=263479)\u001b[0m 05/14/2025 18:15:44:DEBUG:Node 8431759178770513966: stage 2 completed, uploading masked parameters...\n",
      "\u001b[36m(ClientAppActor pid=263479)\u001b[0m Seed set to 42\n",
      "\u001b[36m(ClientAppActor pid=263479)\u001b[0m /home/emeka/.local/share/uv/python/cpython-3.12.10-linux-x86_64-gnu/lib/python3.12/multiprocessing/popen_fork.py:66: DeprecationWarning: This process (pid=263479) is multi-threaded, use of fork() may lead to deadlocks in the child.\n",
      "\u001b[36m(ClientAppActor pid=263479)\u001b[0m   self.pid = os.fork()\n",
      "\u001b[36m(ClientAppActor pid=263479)\u001b[0m /home/emeka/.local/share/uv/python/cpython-3.12.10-linux-x86_64-gnu/lib/python3.12/multiprocessing/popen_fork.py:66: DeprecationWarning: This process (pid=263479) is multi-threaded, use of fork() may lead to deadlocks in the child.\n",
      "\u001b[36m(ClientAppActor pid=263479)\u001b[0m   self.pid = os.fork()\n"
     ]
    },
    {
     "name": "stdout",
     "output_type": "stream",
     "text": [
      "\u001b[36m(ClientAppActor pid=263480)\u001b[0m \n",
      "\u001b[36m(ClientAppActor pid=263480)\u001b[0m 🔎 Tracker: FL + SMPC (CNN)\n",
      "\u001b[36m(ClientAppActor pid=263480)\u001b[0m 📁 Logs saved to: /home/emeka/PrivacyBench/logs/emissions/skin_lesions/FL_SMPC_CNN/client_emissions.csv\n",
      "\u001b[36m(ClientAppActor pid=263480)\u001b[0m ⏱️ Total training time: 2 minutes 53 seconds\n"
     ]
    },
    {
     "name": "stderr",
     "output_type": "stream",
     "text": [
      "\u001b[36m(ClientAppActor pid=263480)\u001b[0m 05/14/2025 18:15:52:DEBUG:Node 8637311656043256207: starting stage 2...\n",
      "\u001b[36m(ClientAppActor pid=263480)\u001b[0m \u001b[93mWARNING \u001b[0m:   Potential overflow warning: the provided weight (5703) exceeds the specified max_weight (2000). This may lead to overflow issues.\n",
      "\u001b[36m(ClientAppActor pid=263480)\u001b[0m 05/14/2025 18:15:52:WARNING:Potential overflow warning: the provided weight (5703) exceeds the specified max_weight (2000). This may lead to overflow issues.\n",
      "\u001b[36m(ClientAppActor pid=263480)\u001b[0m 05/14/2025 18:15:53:DEBUG:Node 8637311656043256207: stage 2 completed, uploading masked parameters...\n",
      "\u001b[36m(ClientAppActor pid=263479)\u001b[0m /home/emeka/.local/share/uv/python/cpython-3.12.10-linux-x86_64-gnu/lib/python3.12/multiprocessing/popen_fork.py:66: DeprecationWarning: This process (pid=263479) is multi-threaded, use of fork() may lead to deadlocks in the child.\n",
      "\u001b[36m(ClientAppActor pid=263479)\u001b[0m   self.pid = os.fork()\n"
     ]
    },
    {
     "name": "stdout",
     "output_type": "stream",
     "text": [
      "\u001b[36m(ClientAppActor pid=263479)\u001b[0m \n",
      "\u001b[36m(ClientAppActor pid=263479)\u001b[0m 🔎 Tracker: FL + SMPC (CNN)\n",
      "\u001b[36m(ClientAppActor pid=263479)\u001b[0m 📁 Logs saved to: /home/emeka/PrivacyBench/logs/emissions/skin_lesions/FL_SMPC_CNN/client_emissions.csv\n",
      "\u001b[36m(ClientAppActor pid=263479)\u001b[0m ⏱️ Total training time: 2 minutes 41 seconds\n"
     ]
    },
    {
     "name": "stderr",
     "output_type": "stream",
     "text": [
      "\u001b[36m(ClientAppActor pid=263479)\u001b[0m 05/14/2025 18:18:26:DEBUG:Node 6852188875448652787: starting stage 2...\n",
      "\u001b[36m(ClientAppActor pid=263479)\u001b[0m \u001b[93mWARNING \u001b[0m:   Potential overflow warning: the provided weight (5703) exceeds the specified max_weight (2000). This may lead to overflow issues.\n",
      "\u001b[36m(ClientAppActor pid=263479)\u001b[0m 05/14/2025 18:18:26:WARNING:Potential overflow warning: the provided weight (5703) exceeds the specified max_weight (2000). This may lead to overflow issues.\n",
      "\u001b[36m(ClientAppActor pid=263479)\u001b[0m 05/14/2025 18:18:27:DEBUG:Node 6852188875448652787: stage 2 completed, uploading masked parameters...\n",
      "\u001b[94mDEBUG \u001b[0m:     [Stage 2] Received masked vectors from 3 clients.\n",
      "\u001b[94mDEBUG \u001b[0m:     [Stage 3] Requesting key shares from 3 clients to remove masks.\n",
      "\u001b[36m(ClientAppActor pid=263479)\u001b[0m 05/14/2025 18:18:28:DEBUG:Node 8431759178770513966: starting stage 3...\n",
      "\u001b[36m(ClientAppActor pid=263479)\u001b[0m 05/14/2025 18:18:28:DEBUG:Node 8431759178770513966: stage 3 completes. uploading key shares...\n",
      "\u001b[36m(ClientAppActor pid=263479)\u001b[0m 05/14/2025 18:18:28:DEBUG:Node 6852188875448652787: starting stage 3...\n",
      "\u001b[36m(ClientAppActor pid=263479)\u001b[0m 05/14/2025 18:18:28:DEBUG:Node 6852188875448652787: stage 3 completes. uploading key shares...\n",
      "\u001b[94mDEBUG \u001b[0m:     [Stage 3] Received key shares from 3 clients.\n",
      "\u001b[92mINFO \u001b[0m:      aggregate_fit: received 3 results and 0 failures\n",
      "\u001b[92mINFO \u001b[0m:      Secure aggregation completed.\n",
      "/home/emeka/.local/share/uv/python/cpython-3.12.10-linux-x86_64-gnu/lib/python3.12/multiprocessing/popen_fork.py:66: DeprecationWarning: This process (pid=261155) is multi-threaded, use of fork() may lead to deadlocks in the child.\n",
      "  self.pid = os.fork()\n",
      "\u001b[92mINFO \u001b[0m:      fit progress: (3, 0.828676616390274, {'accuracy': 0.7834408602150538}, 1028.1132148360011)\n",
      "\u001b[92mINFO \u001b[0m:      configure_evaluate: strategy sampled 3 clients (out of 3)\n",
      "\u001b[36m(ClientAppActor pid=263479)\u001b[0m /home/emeka/.local/share/uv/python/cpython-3.12.10-linux-x86_64-gnu/lib/python3.12/multiprocessing/popen_fork.py:66: DeprecationWarning: This process (pid=263479) is multi-threaded, use of fork() may lead to deadlocks in the child.\n",
      "\u001b[36m(ClientAppActor pid=263479)\u001b[0m   self.pid = os.fork()\n",
      "\u001b[36m(ClientAppActor pid=263480)\u001b[0m 05/14/2025 18:18:28:DEBUG:Node 8637311656043256207: starting stage 3...\n",
      "\u001b[36m(ClientAppActor pid=263480)\u001b[0m 05/14/2025 18:18:28:DEBUG:Node 8637311656043256207: stage 3 completes. uploading key shares...\n",
      "\u001b[92mINFO \u001b[0m:      aggregate_evaluate: received 3 results and 0 failures\n",
      "\u001b[92mINFO \u001b[0m:      \n",
      "\u001b[92mINFO \u001b[0m:      [ROUND 4]\n",
      "\u001b[92mINFO \u001b[0m:      Secure aggregation commencing.\n",
      "\u001b[92mINFO \u001b[0m:      configure_fit: strategy sampled 3 clients (out of 3)\n",
      "\u001b[94mDEBUG \u001b[0m:     [Stage 0] Sending configurations to 3 clients.\n",
      "\u001b[36m(ClientAppActor pid=263479)\u001b[0m 05/14/2025 18:18:39:DEBUG:Node 8431759178770513966: starting stage 0...\n",
      "\u001b[36m(ClientAppActor pid=263479)\u001b[0m 05/14/2025 18:18:39:DEBUG:Node 8431759178770513966: stage 0 completes. uploading public keys...\n",
      "\u001b[36m(ClientAppActor pid=263479)\u001b[0m 05/14/2025 18:18:39:DEBUG:Node 6852188875448652787: starting stage 0...\n",
      "\u001b[36m(ClientAppActor pid=263479)\u001b[0m 05/14/2025 18:18:39:DEBUG:Node 6852188875448652787: stage 0 completes. uploading public keys...\n",
      "\u001b[94mDEBUG \u001b[0m:     [Stage 0] Received public keys from 3 clients.\n",
      "\u001b[94mDEBUG \u001b[0m:     [Stage 1] Forwarding public keys to 3 clients.\n",
      "\u001b[36m(ClientAppActor pid=263479)\u001b[0m 05/14/2025 18:18:40:DEBUG:Node 8431759178770513966: stage 1 completes. uploading key shares...\n",
      "\u001b[94mDEBUG \u001b[0m:     [Stage 1] Received encrypted key shares from 3 clients.\n",
      "\u001b[94mDEBUG \u001b[0m:     [Stage 2] Forwarding encrypted key shares to 3 clients.\n",
      "\u001b[36m(ClientAppActor pid=263479)\u001b[0m Seed set to 42\n",
      "\u001b[36m(ClientAppActor pid=263480)\u001b[0m /home/emeka/.local/share/uv/python/cpython-3.12.10-linux-x86_64-gnu/lib/python3.12/multiprocessing/popen_fork.py:66: DeprecationWarning: This process (pid=263480) is multi-threaded, use of fork() may lead to deadlocks in the child.\u001b[32m [repeated 4x across cluster]\u001b[0m\n",
      "\u001b[36m(ClientAppActor pid=263480)\u001b[0m   self.pid = os.fork()\u001b[32m [repeated 4x across cluster]\u001b[0m\n",
      "\u001b[36m(ClientAppActor pid=263480)\u001b[0m 05/14/2025 18:18:40:DEBUG:Node 6852188875448652787: starting stage 1...\u001b[32m [repeated 4x across cluster]\u001b[0m\n",
      "\u001b[36m(ClientAppActor pid=263480)\u001b[0m 05/14/2025 18:18:39:DEBUG:Node 8637311656043256207: stage 0 completes. uploading public keys...\n",
      "\u001b[36m(ClientAppActor pid=263480)\u001b[0m 05/14/2025 18:18:40:DEBUG:Node 6852188875448652787: stage 1 completes. uploading key shares...\u001b[32m [repeated 2x across cluster]\u001b[0m\n",
      "\u001b[36m(ClientAppActor pid=263480)\u001b[0m Seed set to 42\n",
      "\u001b[36m(ClientAppActor pid=263480)\u001b[0m /home/emeka/.local/share/uv/python/cpython-3.12.10-linux-x86_64-gnu/lib/python3.12/multiprocessing/popen_fork.py:66: DeprecationWarning: This process (pid=263480) is multi-threaded, use of fork() may lead to deadlocks in the child.\u001b[32m [repeated 2x across cluster]\u001b[0m\n",
      "\u001b[36m(ClientAppActor pid=263480)\u001b[0m   self.pid = os.fork()\u001b[32m [repeated 2x across cluster]\u001b[0m\n"
     ]
    },
    {
     "name": "stdout",
     "output_type": "stream",
     "text": [
      "\u001b[36m(ClientAppActor pid=263480)\u001b[0m \n",
      "\u001b[36m(ClientAppActor pid=263480)\u001b[0m 🔎 Tracker: FL + SMPC (CNN)\n",
      "\u001b[36m(ClientAppActor pid=263480)\u001b[0m 📁 Logs saved to: /home/emeka/PrivacyBench/logs/emissions/skin_lesions/FL_SMPC_CNN/client_emissions.csv\n",
      "\u001b[36m(ClientAppActor pid=263480)\u001b[0m ⏱️ Total training time: 2 minutes 44 seconds\n"
     ]
    },
    {
     "name": "stderr",
     "output_type": "stream",
     "text": [
      "\u001b[36m(ClientAppActor pid=263480)\u001b[0m 05/14/2025 18:21:25:DEBUG:Node 8431759178770513966: starting stage 2...\n",
      "\u001b[36m(ClientAppActor pid=263480)\u001b[0m \u001b[93mWARNING \u001b[0m:   Potential overflow warning: the provided weight (5703) exceeds the specified max_weight (2000). This may lead to overflow issues.\n",
      "\u001b[36m(ClientAppActor pid=263480)\u001b[0m 05/14/2025 18:21:25:WARNING:Potential overflow warning: the provided weight (5703) exceeds the specified max_weight (2000). This may lead to overflow issues.\n"
     ]
    },
    {
     "name": "stdout",
     "output_type": "stream",
     "text": [
      "\u001b[36m(ClientAppActor pid=263479)\u001b[0m \n",
      "\u001b[36m(ClientAppActor pid=263479)\u001b[0m 🔎 Tracker: FL + SMPC (CNN)\n",
      "\u001b[36m(ClientAppActor pid=263479)\u001b[0m 📁 Logs saved to: /home/emeka/PrivacyBench/logs/emissions/skin_lesions/FL_SMPC_CNN/client_emissions.csv\n",
      "\u001b[36m(ClientAppActor pid=263479)\u001b[0m ⏱️ Total training time: 2 minutes 45 seconds\n"
     ]
    },
    {
     "name": "stderr",
     "output_type": "stream",
     "text": [
      "\u001b[36m(ClientAppActor pid=263480)\u001b[0m 05/14/2025 18:21:26:DEBUG:Node 8431759178770513966: stage 2 completed, uploading masked parameters...\n",
      "\u001b[36m(ClientAppActor pid=263480)\u001b[0m Seed set to 42\n",
      "\u001b[36m(ClientAppActor pid=263480)\u001b[0m /home/emeka/.local/share/uv/python/cpython-3.12.10-linux-x86_64-gnu/lib/python3.12/multiprocessing/popen_fork.py:66: DeprecationWarning: This process (pid=263480) is multi-threaded, use of fork() may lead to deadlocks in the child.\u001b[32m [repeated 3x across cluster]\u001b[0m\n",
      "\u001b[36m(ClientAppActor pid=263480)\u001b[0m   self.pid = os.fork()\u001b[32m [repeated 3x across cluster]\u001b[0m\n",
      "\u001b[36m(ClientAppActor pid=263479)\u001b[0m 05/14/2025 18:21:26:DEBUG:Node 8637311656043256207: starting stage 2...\n",
      "\u001b[36m(ClientAppActor pid=263479)\u001b[0m \u001b[93mWARNING \u001b[0m:   Potential overflow warning: the provided weight (5703) exceeds the specified max_weight (2000). This may lead to overflow issues.\n",
      "\u001b[36m(ClientAppActor pid=263479)\u001b[0m 05/14/2025 18:21:26:WARNING:Potential overflow warning: the provided weight (5703) exceeds the specified max_weight (2000). This may lead to overflow issues.\n",
      "\u001b[36m(ClientAppActor pid=263479)\u001b[0m 05/14/2025 18:21:26:DEBUG:Node 8637311656043256207: stage 2 completed, uploading masked parameters...\n",
      "\u001b[36m(ClientAppActor pid=263480)\u001b[0m /home/emeka/.local/share/uv/python/cpython-3.12.10-linux-x86_64-gnu/lib/python3.12/multiprocessing/popen_fork.py:66: DeprecationWarning: This process (pid=263480) is multi-threaded, use of fork() may lead to deadlocks in the child.\n",
      "\u001b[36m(ClientAppActor pid=263480)\u001b[0m   self.pid = os.fork()\n"
     ]
    },
    {
     "name": "stdout",
     "output_type": "stream",
     "text": [
      "\u001b[36m(ClientAppActor pid=263480)\u001b[0m \n",
      "\u001b[36m(ClientAppActor pid=263480)\u001b[0m 🔎 Tracker: FL + SMPC (CNN)\n",
      "\u001b[36m(ClientAppActor pid=263480)\u001b[0m 📁 Logs saved to: /home/emeka/PrivacyBench/logs/emissions/skin_lesions/FL_SMPC_CNN/client_emissions.csv\n",
      "\u001b[36m(ClientAppActor pid=263480)\u001b[0m ⏱️ Total training time: 2 minutes 48 seconds\n"
     ]
    },
    {
     "name": "stderr",
     "output_type": "stream",
     "text": [
      "\u001b[36m(ClientAppActor pid=263480)\u001b[0m 05/14/2025 18:24:15:DEBUG:Node 6852188875448652787: starting stage 2...\n",
      "\u001b[36m(ClientAppActor pid=263480)\u001b[0m \u001b[93mWARNING \u001b[0m:   Potential overflow warning: the provided weight (5703) exceeds the specified max_weight (2000). This may lead to overflow issues.\n",
      "\u001b[36m(ClientAppActor pid=263480)\u001b[0m 05/14/2025 18:24:15:WARNING:Potential overflow warning: the provided weight (5703) exceeds the specified max_weight (2000). This may lead to overflow issues.\n",
      "\u001b[36m(ClientAppActor pid=263480)\u001b[0m 05/14/2025 18:24:16:DEBUG:Node 6852188875448652787: stage 2 completed, uploading masked parameters...\n",
      "\u001b[94mDEBUG \u001b[0m:     [Stage 2] Received masked vectors from 3 clients.\n",
      "\u001b[94mDEBUG \u001b[0m:     [Stage 3] Requesting key shares from 3 clients to remove masks.\n",
      "\u001b[36m(ClientAppActor pid=263479)\u001b[0m 05/14/2025 18:24:16:DEBUG:Node 8637311656043256207: stage 3 completes. uploading key shares...\n",
      "\u001b[36m(ClientAppActor pid=263479)\u001b[0m 05/14/2025 18:24:16:DEBUG:Node 6852188875448652787: stage 3 completes. uploading key shares...\n",
      "\u001b[94mDEBUG \u001b[0m:     [Stage 3] Received key shares from 3 clients.\n",
      "\u001b[92mINFO \u001b[0m:      aggregate_fit: received 3 results and 0 failures\n",
      "\u001b[92mINFO \u001b[0m:      Secure aggregation completed.\n",
      "/home/emeka/.local/share/uv/python/cpython-3.12.10-linux-x86_64-gnu/lib/python3.12/multiprocessing/popen_fork.py:66: DeprecationWarning: This process (pid=261155) is multi-threaded, use of fork() may lead to deadlocks in the child.\n",
      "  self.pid = os.fork()\n",
      "\u001b[92mINFO \u001b[0m:      fit progress: (4, 0.775252625167574, {'accuracy': 0.8004301075268817}, 1376.9608589570016)\n",
      "\u001b[92mINFO \u001b[0m:      configure_evaluate: strategy sampled 3 clients (out of 3)\n",
      "\u001b[36m(ClientAppActor pid=263479)\u001b[0m /home/emeka/.local/share/uv/python/cpython-3.12.10-linux-x86_64-gnu/lib/python3.12/multiprocessing/popen_fork.py:66: DeprecationWarning: This process (pid=263479) is multi-threaded, use of fork() may lead to deadlocks in the child.\n",
      "\u001b[36m(ClientAppActor pid=263479)\u001b[0m   self.pid = os.fork()\n",
      "\u001b[36m(ClientAppActor pid=263480)\u001b[0m 05/14/2025 18:24:16:DEBUG:Node 8431759178770513966: starting stage 3...\u001b[32m [repeated 3x across cluster]\u001b[0m\n",
      "\u001b[36m(ClientAppActor pid=263480)\u001b[0m 05/14/2025 18:24:16:DEBUG:Node 8431759178770513966: stage 3 completes. uploading key shares...\n",
      "\u001b[92mINFO \u001b[0m:      aggregate_evaluate: received 3 results and 0 failures\n",
      "\u001b[92mINFO \u001b[0m:      \n",
      "\u001b[92mINFO \u001b[0m:      [ROUND 5]\n",
      "\u001b[92mINFO \u001b[0m:      Secure aggregation commencing.\n",
      "\u001b[92mINFO \u001b[0m:      configure_fit: strategy sampled 3 clients (out of 3)\n",
      "\u001b[94mDEBUG \u001b[0m:     [Stage 0] Sending configurations to 3 clients.\n",
      "\u001b[36m(ClientAppActor pid=263479)\u001b[0m 05/14/2025 18:24:28:DEBUG:Node 8431759178770513966: stage 0 completes. uploading public keys...\n",
      "\u001b[94mDEBUG \u001b[0m:     [Stage 0] Received public keys from 3 clients.\n",
      "\u001b[94mDEBUG \u001b[0m:     [Stage 1] Forwarding public keys to 3 clients.\n",
      "\u001b[36m(ClientAppActor pid=263479)\u001b[0m 05/14/2025 18:24:28:DEBUG:Node 8431759178770513966: stage 1 completes. uploading key shares...\n",
      "\u001b[94mDEBUG \u001b[0m:     [Stage 1] Received encrypted key shares from 3 clients.\n",
      "\u001b[94mDEBUG \u001b[0m:     [Stage 2] Forwarding encrypted key shares to 3 clients.\n",
      "\u001b[36m(ClientAppActor pid=263480)\u001b[0m Seed set to 42\n",
      "\u001b[36m(ClientAppActor pid=263479)\u001b[0m /home/emeka/.local/share/uv/python/cpython-3.12.10-linux-x86_64-gnu/lib/python3.12/multiprocessing/popen_fork.py:66: DeprecationWarning: This process (pid=263479) is multi-threaded, use of fork() may lead to deadlocks in the child.\u001b[32m [repeated 4x across cluster]\u001b[0m\n",
      "\u001b[36m(ClientAppActor pid=263479)\u001b[0m   self.pid = os.fork()\u001b[32m [repeated 4x across cluster]\u001b[0m\n",
      "\u001b[36m(ClientAppActor pid=263480)\u001b[0m 05/14/2025 18:24:29:DEBUG:Node 6852188875448652787: starting stage 1...\u001b[32m [repeated 6x across cluster]\u001b[0m\n",
      "\u001b[36m(ClientAppActor pid=263479)\u001b[0m 05/14/2025 18:24:28:DEBUG:Node 6852188875448652787: stage 0 completes. uploading public keys...\u001b[32m [repeated 2x across cluster]\u001b[0m\n",
      "\u001b[36m(ClientAppActor pid=263480)\u001b[0m 05/14/2025 18:24:29:DEBUG:Node 6852188875448652787: stage 1 completes. uploading key shares...\u001b[32m [repeated 2x across cluster]\u001b[0m\n",
      "\u001b[36m(ClientAppActor pid=263479)\u001b[0m Seed set to 42\n",
      "\u001b[36m(ClientAppActor pid=263479)\u001b[0m /home/emeka/.local/share/uv/python/cpython-3.12.10-linux-x86_64-gnu/lib/python3.12/multiprocessing/popen_fork.py:66: DeprecationWarning: This process (pid=263479) is multi-threaded, use of fork() may lead to deadlocks in the child.\u001b[32m [repeated 2x across cluster]\u001b[0m\n",
      "\u001b[36m(ClientAppActor pid=263479)\u001b[0m   self.pid = os.fork()\u001b[32m [repeated 2x across cluster]\u001b[0m\n"
     ]
    },
    {
     "name": "stdout",
     "output_type": "stream",
     "text": [
      "\u001b[36m(ClientAppActor pid=263479)\u001b[0m \n",
      "\u001b[36m(ClientAppActor pid=263479)\u001b[0m 🔎 Tracker: FL + SMPC (CNN)\n",
      "\u001b[36m(ClientAppActor pid=263479)\u001b[0m 📁 Logs saved to: /home/emeka/PrivacyBench/logs/emissions/skin_lesions/FL_SMPC_CNN/client_emissions.csv\n",
      "\u001b[36m(ClientAppActor pid=263479)\u001b[0m ⏱️ Total training time: 2 minutes 44 seconds\n",
      "\u001b[36m(ClientAppActor pid=263480)\u001b[0m \n"
     ]
    },
    {
     "name": "stderr",
     "output_type": "stream",
     "text": [
      "\u001b[36m(ClientAppActor pid=263480)\u001b[0m 05/14/2025 18:27:13:DEBUG:Node 8431759178770513966: starting stage 2...\n",
      "\u001b[36m(ClientAppActor pid=263480)\u001b[0m \u001b[93mWARNING \u001b[0m:   Potential overflow warning: the provided weight (5703) exceeds the specified max_weight (2000). This may lead to overflow issues.\n",
      "\u001b[36m(ClientAppActor pid=263480)\u001b[0m 05/14/2025 18:27:13:WARNING:Potential overflow warning: the provided weight (5703) exceeds the specified max_weight (2000). This may lead to overflow issues.\n",
      "\u001b[36m(ClientAppActor pid=263480)\u001b[0m 05/14/2025 18:27:14:DEBUG:Node 8431759178770513966: stage 2 completed, uploading masked parameters...\n",
      "\u001b[36m(ClientAppActor pid=263480)\u001b[0m Seed set to 42\n",
      "\u001b[36m(ClientAppActor pid=263480)\u001b[0m /home/emeka/.local/share/uv/python/cpython-3.12.10-linux-x86_64-gnu/lib/python3.12/multiprocessing/popen_fork.py:66: DeprecationWarning: This process (pid=263480) is multi-threaded, use of fork() may lead to deadlocks in the child.\u001b[32m [repeated 3x across cluster]\u001b[0m\n",
      "\u001b[36m(ClientAppActor pid=263480)\u001b[0m   self.pid = os.fork()\u001b[32m [repeated 3x across cluster]\u001b[0m\n",
      "\u001b[36m(ClientAppActor pid=263479)\u001b[0m 05/14/2025 18:27:13:DEBUG:Node 8637311656043256207: starting stage 2...\n",
      "\u001b[36m(ClientAppActor pid=263479)\u001b[0m \u001b[93mWARNING \u001b[0m:   Potential overflow warning: the provided weight (5703) exceeds the specified max_weight (2000). This may lead to overflow issues.\n",
      "\u001b[36m(ClientAppActor pid=263479)\u001b[0m 05/14/2025 18:27:13:WARNING:Potential overflow warning: the provided weight (5703) exceeds the specified max_weight (2000). This may lead to overflow issues.\n",
      "\u001b[36m(ClientAppActor pid=263479)\u001b[0m 05/14/2025 18:27:14:DEBUG:Node 8637311656043256207: stage 2 completed, uploading masked parameters...\n",
      "\u001b[36m(ClientAppActor pid=263480)\u001b[0m /home/emeka/.local/share/uv/python/cpython-3.12.10-linux-x86_64-gnu/lib/python3.12/multiprocessing/popen_fork.py:66: DeprecationWarning: This process (pid=263480) is multi-threaded, use of fork() may lead to deadlocks in the child.\n",
      "\u001b[36m(ClientAppActor pid=263480)\u001b[0m   self.pid = os.fork()\n"
     ]
    },
    {
     "name": "stdout",
     "output_type": "stream",
     "text": [
      "\u001b[36m(ClientAppActor pid=263480)\u001b[0m \n",
      "\u001b[36m(ClientAppActor pid=263480)\u001b[0m 🔎 Tracker: FL + SMPC (CNN)\u001b[32m [repeated 2x across cluster]\u001b[0m\n",
      "\u001b[36m(ClientAppActor pid=263480)\u001b[0m 📁 Logs saved to: /home/emeka/PrivacyBench/logs/emissions/skin_lesions/FL_SMPC_CNN/client_emissions.csv\u001b[32m [repeated 2x across cluster]\u001b[0m\n",
      "\u001b[36m(ClientAppActor pid=263480)\u001b[0m ⏱️ Total training time: 2 minutes 48 seconds\u001b[32m [repeated 2x across cluster]\u001b[0m\n"
     ]
    },
    {
     "name": "stderr",
     "output_type": "stream",
     "text": [
      "\u001b[36m(ClientAppActor pid=263480)\u001b[0m 05/14/2025 18:30:03:DEBUG:Node 6852188875448652787: starting stage 2...\n",
      "\u001b[36m(ClientAppActor pid=263480)\u001b[0m \u001b[93mWARNING \u001b[0m:   Potential overflow warning: the provided weight (5703) exceeds the specified max_weight (2000). This may lead to overflow issues.\n",
      "\u001b[36m(ClientAppActor pid=263480)\u001b[0m 05/14/2025 18:30:03:WARNING:Potential overflow warning: the provided weight (5703) exceeds the specified max_weight (2000). This may lead to overflow issues.\n",
      "\u001b[36m(ClientAppActor pid=263480)\u001b[0m 05/14/2025 18:30:03:DEBUG:Node 6852188875448652787: stage 2 completed, uploading masked parameters...\n",
      "\u001b[94mDEBUG \u001b[0m:     [Stage 2] Received masked vectors from 3 clients.\n",
      "\u001b[94mDEBUG \u001b[0m:     [Stage 3] Requesting key shares from 3 clients to remove masks.\n",
      "\u001b[36m(ClientAppActor pid=263479)\u001b[0m 05/14/2025 18:30:04:DEBUG:Node 8637311656043256207: stage 3 completes. uploading key shares...\n",
      "\u001b[36m(ClientAppActor pid=263479)\u001b[0m 05/14/2025 18:30:04:DEBUG:Node 6852188875448652787: stage 3 completes. uploading key shares...\n",
      "\u001b[94mDEBUG \u001b[0m:     [Stage 3] Received key shares from 3 clients.\n",
      "\u001b[92mINFO \u001b[0m:      aggregate_fit: received 3 results and 0 failures\n",
      "\u001b[92mINFO \u001b[0m:      Secure aggregation completed.\n",
      "/home/emeka/.local/share/uv/python/cpython-3.12.10-linux-x86_64-gnu/lib/python3.12/multiprocessing/popen_fork.py:66: DeprecationWarning: This process (pid=261155) is multi-threaded, use of fork() may lead to deadlocks in the child.\n",
      "  self.pid = os.fork()\n",
      "\u001b[34m\u001b[1mwandb\u001b[0m: \u001b[33mWARNING\u001b[0m If you're specifying your api key in code, ensure this code is not shared publicly.\n",
      "\u001b[34m\u001b[1mwandb\u001b[0m: \u001b[33mWARNING\u001b[0m Consider setting the WANDB_API_KEY environment variable, or running `wandb login` from the command line.\n",
      "\u001b[34m\u001b[1mwandb\u001b[0m: Appending key for api.wandb.ai to your netrc file: /home/emeka/.netrc\n",
      "\u001b[34m\u001b[1mwandb\u001b[0m: Currently logged in as: \u001b[33memyrs\u001b[0m to \u001b[32mhttps://api.wandb.ai\u001b[0m. Use \u001b[1m`wandb login --relogin`\u001b[0m to force relogin\n",
      "/home/emeka/PrivacyBench/.venv/lib/python3.12/site-packages/wandb/analytics/sentry.py:259: DeprecationWarning: The `Scope.user` setter is deprecated in favor of `Scope.set_user()`.\n",
      "  self.scope.user = {\"email\": email}  # noqa\n",
      "/home/emeka/PrivacyBench/.venv/lib/python3.12/site-packages/wandb/analytics/sentry.py:259: DeprecationWarning: The `Scope.user` setter is deprecated in favor of `Scope.set_user()`.\n",
      "  self.scope.user = {\"email\": email}  # noqa\n"
     ]
    },
    {
     "data": {
      "text/html": [
       "Tracking run with wandb version 0.19.11"
      ],
      "text/plain": [
       "<IPython.core.display.HTML object>"
      ]
     },
     "metadata": {},
     "output_type": "display_data"
    },
    {
     "data": {
      "text/html": [
       "Run data is saved locally in <code>/home/emeka/PrivacyBench/logs/wandb/run-20250514_183014-xguuudx8</code>"
      ],
      "text/plain": [
       "<IPython.core.display.HTML object>"
      ]
     },
     "metadata": {},
     "output_type": "display_data"
    },
    {
     "data": {
      "text/html": [
       "Syncing run <strong><a href='https://wandb.ai/MLC-FedML/PrivacyBench/runs/xguuudx8' target=\"_blank\">FL_SMPC_CNN_skin_lesions</a></strong> to <a href='https://wandb.ai/MLC-FedML/PrivacyBench' target=\"_blank\">Weights & Biases</a> (<a href='https://wandb.me/developer-guide' target=\"_blank\">docs</a>)<br>"
      ],
      "text/plain": [
       "<IPython.core.display.HTML object>"
      ]
     },
     "metadata": {},
     "output_type": "display_data"
    },
    {
     "data": {
      "text/html": [
       " View project at <a href='https://wandb.ai/MLC-FedML/PrivacyBench' target=\"_blank\">https://wandb.ai/MLC-FedML/PrivacyBench</a>"
      ],
      "text/plain": [
       "<IPython.core.display.HTML object>"
      ]
     },
     "metadata": {},
     "output_type": "display_data"
    },
    {
     "data": {
      "text/html": [
       " View run at <a href='https://wandb.ai/MLC-FedML/PrivacyBench/runs/xguuudx8' target=\"_blank\">https://wandb.ai/MLC-FedML/PrivacyBench/runs/xguuudx8</a>"
      ],
      "text/plain": [
       "<IPython.core.display.HTML object>"
      ]
     },
     "metadata": {},
     "output_type": "display_data"
    },
    {
     "name": "stderr",
     "output_type": "stream",
     "text": [
      "/home/emeka/.local/share/uv/python/cpython-3.12.10-linux-x86_64-gnu/lib/python3.12/multiprocessing/popen_fork.py:66: DeprecationWarning: This process (pid=261155) is multi-threaded, use of fork() may lead to deadlocks in the child.\n",
      "  self.pid = os.fork()\n"
     ]
    },
    {
     "name": "stdout",
     "output_type": "stream",
     "text": [
      "\n",
      " ___________________________________________________________________________________________________\n",
      "ExperimentName.FL_SMPC_CNN Model Final Evaluation \n",
      "\n",
      "Test Accuracy: 81.23% | Precision: 0.81 | Recall: 0.81 | F1-Score: 0.81 | ROC-AUC: 0.96 | MCC: 0.73\n",
      " \n"
     ]
    },
    {
     "data": {
      "image/png": "[encoded data removed]",
      "text/plain": [
       "<Figure size 1500x600 with 2 Axes>"
      ]
     },
     "metadata": {},
     "output_type": "display_data"
    },
    {
     "name": "stdout",
     "output_type": "stream",
     "text": [
      "\n",
      " ___________________________________________________________________________________________________\n",
      "ExperimentName.FL_SMPC_CNN--skin_lesions Model Classification Report\n",
      "              precision    recall  f1-score   support\n",
      "\n",
      "           0       0.75      0.72      0.73       853\n",
      "           1       0.87      0.93      0.90      2242\n",
      "           2       0.80      0.86      0.83       674\n",
      "           3       0.52      0.62      0.57       155\n",
      "           4       0.75      0.57      0.65       476\n",
      "           5       0.85      0.62      0.72        55\n",
      "           6       0.89      0.79      0.84        52\n",
      "           7       0.80      0.46      0.58       143\n",
      "\n",
      "    accuracy                           0.81      4650\n",
      "   macro avg       0.78      0.69      0.73      4650\n",
      "weighted avg       0.81      0.81      0.81      4650\n",
      "\n",
      "___________________________________________________________________________________________________\n",
      "\n",
      "📊 Consolidated Metrics:\n",
      "⏱️ Total Duration: 2508.79 sec\n",
      "✅ Total Energy: 0.10502 kWh\n",
      "🌍 Total CO₂ Emitted: 0.04516 kg\n",
      "🧠 Peak CPU RAM: 0.0011 GB\n",
      "🖥️ Peak GPU VRAM: 0.9705 GB\n",
      "\n",
      " ___________________________________________________________________________________________________\n"
     ]
    },
    {
     "data": {
      "text/html": [],
      "text/plain": [
       "<IPython.core.display.HTML object>"
      ]
     },
     "metadata": {},
     "output_type": "display_data"
    },
    {
     "data": {
      "text/html": [
       "<br>    <style><br>        .wandb-row {<br>            display: flex;<br>            flex-direction: row;<br>            flex-wrap: wrap;<br>            justify-content: flex-start;<br>            width: 100%;<br>        }<br>        .wandb-col {<br>            display: flex;<br>            flex-direction: column;<br>            flex-basis: 100%;<br>            flex: 1;<br>            padding: 10px;<br>        }<br>    </style><br><div class=\"wandb-row\"><div class=\"wandb-col\"><h3>Run history:</h3><br/><table class=\"wandb\"><tr><td>Accuracy</td><td>▁</td></tr><tr><td>F1-Score</td><td>▁</td></tr><tr><td>MCC</td><td>▁</td></tr><tr><td>Peak FL CPU RAM (GB)</td><td>▁</td></tr><tr><td>Peak FL GPU VRAM (GB)</td><td>▁</td></tr><tr><td>Precision</td><td>▁</td></tr><tr><td>ROC-AUC</td><td>▁</td></tr><tr><td>Recall</td><td>▁</td></tr><tr><td>Total FL CO2 Emitted (kg)</td><td>▁</td></tr><tr><td>Total FL Duration (sec)</td><td>▁</td></tr><tr><td>Total FL Energy (kWh)</td><td>▁</td></tr></table><br/></div><div class=\"wandb-col\"><h3>Run summary:</h3><br/><table class=\"wandb\"><tr><td>Accuracy</td><td>0.81</td></tr><tr><td>Experiment Name</td><td>FL_SMPC_CNN</td></tr><tr><td>F1-Score</td><td>0.81</td></tr><tr><td>MCC</td><td>0.73</td></tr><tr><td>Model</td><td>FL + SMPC (CNN)</td></tr><tr><td>Peak FL CPU RAM (GB)</td><td>0.00105</td></tr><tr><td>Peak FL GPU VRAM (GB)</td><td>0.97052</td></tr><tr><td>Precision</td><td>0.81</td></tr><tr><td>ROC-AUC</td><td>0.96</td></tr><tr><td>Recall</td><td>0.81</td></tr><tr><td>Total FL CO2 Emitted (kg)</td><td>0.04516</td></tr><tr><td>Total FL Duration (sec)</td><td>2508.7892</td></tr><tr><td>Total FL Energy (kWh)</td><td>0.10502</td></tr></table><br/></div></div>"
      ],
      "text/plain": [
       "<IPython.core.display.HTML object>"
      ]
     },
     "metadata": {},
     "output_type": "display_data"
    },
    {
     "data": {
      "text/html": [
       " View run <strong style=\"color:#cdcd00\">FL_SMPC_CNN_skin_lesions</strong> at: <a href='https://wandb.ai/MLC-FedML/PrivacyBench/runs/xguuudx8' target=\"_blank\">https://wandb.ai/MLC-FedML/PrivacyBench/runs/xguuudx8</a><br> View project at: <a href='https://wandb.ai/MLC-FedML/PrivacyBench' target=\"_blank\">https://wandb.ai/MLC-FedML/PrivacyBench</a><br>Synced 5 W&B file(s), 0 media file(s), 0 artifact file(s) and 0 other file(s)"
      ],
      "text/plain": [
       "<IPython.core.display.HTML object>"
      ]
     },
     "metadata": {},
     "output_type": "display_data"
    },
    {
     "data": {
      "text/html": [
       "Find logs at: <code>/home/emeka/PrivacyBench/logs/wandb/run-20250514_183014-xguuudx8/logs</code>"
      ],
      "text/plain": [
       "<IPython.core.display.HTML object>"
      ]
     },
     "metadata": {},
     "output_type": "display_data"
    },
    {
     "name": "stderr",
     "output_type": "stream",
     "text": [
      "/home/emeka/PrivacyBench/.venv/lib/python3.12/site-packages/codecarbon/output_methods/file.py:52: FutureWarning: The behavior of DataFrame concatenation with empty or all-NA entries is deprecated. In a future version, this will no longer exclude empty or all-NA columns when determining the result dtypes. To retain the old behavior, exclude the relevant entries before the concat operation.\n",
      "  df = pd.concat([df, pd.DataFrame.from_records([dict(total.values)])])\n",
      "\u001b[92mINFO \u001b[0m:      fit progress: (5, 0.7991000251614884, {'accuracy': 0.812258064516129}, 1735.582449382)\n",
      "\u001b[92mINFO \u001b[0m:      configure_evaluate: strategy sampled 3 clients (out of 3)\n",
      "\u001b[36m(ClientAppActor pid=263479)\u001b[0m /home/emeka/.local/share/uv/python/cpython-3.12.10-linux-x86_64-gnu/lib/python3.12/multiprocessing/popen_fork.py:66: DeprecationWarning: This process (pid=263479) is multi-threaded, use of fork() may lead to deadlocks in the child.\n",
      "\u001b[36m(ClientAppActor pid=263479)\u001b[0m   self.pid = os.fork()\n",
      "\u001b[36m(ClientAppActor pid=263480)\u001b[0m 05/14/2025 18:30:04:DEBUG:Node 8431759178770513966: starting stage 3...\u001b[32m [repeated 3x across cluster]\u001b[0m\n",
      "\u001b[36m(ClientAppActor pid=263480)\u001b[0m 05/14/2025 18:30:04:DEBUG:Node 8431759178770513966: stage 3 completes. uploading key shares...\n",
      "\u001b[92mINFO \u001b[0m:      aggregate_evaluate: received 3 results and 0 failures\n",
      "\u001b[92mINFO \u001b[0m:      \n",
      "\u001b[92mINFO \u001b[0m:      [SUMMARY]\n",
      "\u001b[92mINFO \u001b[0m:      Run finished 5 round(s) in 1738.85s\n",
      "\u001b[92mINFO \u001b[0m:      History (loss, distributed):\n",
      "\u001b[92mINFO \u001b[0m:      \t\tround 1: 0.7937588642040888\n",
      "\u001b[92mINFO \u001b[0m:      \t\tround 2: 0.8052449052532514\n",
      "\u001b[92mINFO \u001b[0m:      \t\tround 3: 0.9668132960796356\n",
      "\u001b[92mINFO \u001b[0m:      \t\tround 4: 0.9014984058837096\n",
      "\u001b[92mINFO \u001b[0m:      \t\tround 5: 0.9390128081043562\n",
      "\u001b[92mINFO \u001b[0m:      \tHistory (loss, centralized):\n",
      "\u001b[92mINFO \u001b[0m:      \t\tround 0: 2.4583164633136905\n",
      "\u001b[92mINFO \u001b[0m:      \t\tround 1: 0.7551277620233086\n",
      "\u001b[92mINFO \u001b[0m:      \t\tround 2: 0.7363093864325791\n",
      "\u001b[92mINFO \u001b[0m:      \t\tround 3: 0.828676616390274\n",
      "\u001b[92mINFO \u001b[0m:      \t\tround 4: 0.775252625167574\n",
      "\u001b[92mINFO \u001b[0m:      \t\tround 5: 0.7991000251614884\n",
      "\u001b[92mINFO \u001b[0m:      \tHistory (metrics, distributed, evaluate):\n",
      "\u001b[92mINFO \u001b[0m:      \t{'accuracy': [(1, 0.7365591397849462),\n",
      "\u001b[92mINFO \u001b[0m:      \t              (2, 0.7560483870967742),\n",
      "\u001b[92mINFO \u001b[0m:      \t              (3, 0.7553763440860215),\n",
      "\u001b[92mINFO \u001b[0m:      \t              (4, 0.7788978494623656),\n",
      "\u001b[92mINFO \u001b[0m:      \t              (5, 0.7795698924731183)]}\n",
      "\u001b[92mINFO \u001b[0m:      \tHistory (metrics, centralized):\n",
      "\u001b[92mINFO \u001b[0m:      \t{'accuracy': [(0, 0.03483870967741935),\n",
      "\u001b[92mINFO \u001b[0m:      \t              (1, 0.7443010752688172),\n",
      "\u001b[92mINFO \u001b[0m:      \t              (2, 0.7806451612903226),\n",
      "\u001b[92mINFO \u001b[0m:      \t              (3, 0.7834408602150538),\n",
      "\u001b[92mINFO \u001b[0m:      \t              (4, 0.8004301075268817),\n",
      "\u001b[92mINFO \u001b[0m:      \t              (5, 0.812258064516129)]}\n",
      "\u001b[92mINFO \u001b[0m:      \n",
      "\u001b[94mDEBUG \u001b[0m:     ServerApp finished running.\n",
      "\u001b[94mDEBUG \u001b[0m:     ServerApp finished running.\n",
      "\u001b[94mDEBUG \u001b[0m:     Triggered stop event for Simulation Engine.\n",
      "\u001b[94mDEBUG \u001b[0m:     Terminated 2 actors\n",
      "\u001b[36m(ClientAppActor pid=263480)\u001b[0m /home/emeka/.local/share/uv/python/cpython-3.12.10-linux-x86_64-gnu/lib/python3.12/multiprocessing/popen_fork.py:66: DeprecationWarning: This process (pid=263480) is multi-threaded, use of fork() may lead to deadlocks in the child.\n",
      "\u001b[36m(ClientAppActor pid=263480)\u001b[0m   self.pid = os.fork()\n",
      "\u001b[94mDEBUG \u001b[0m:     Terminated RayBackend\n",
      "\u001b[94mDEBUG \u001b[0m:     Stopping Simulation Engine now.\n"
     ]
    },
    {
     "name": "stdout",
     "output_type": "stream",
     "text": [
      "\n",
      "🕒 Total Time: 29 min 10 sec\n"
     ]
    }
   ],
   "source": [
    "project_root =  os.path.abspath(\"../..\")\n",
    "\n",
    "ray.shutdown()\n",
    "ray.init(\n",
    "    _temp_dir=str(RAY_LOG_DIR), \n",
    "    runtime_env={\n",
    "        \"env_vars\": {\n",
    "            \"OMP_NUM_THREADS\": \"1\",  #<--- Prevents thread oversubscription\n",
    "            \"RAY_memory_monitor_refresh_ms\": \"5000\",\n",
    "            \"RAY_memory_usage_threshold\": \"0.85\"\n",
    "        },\n",
    "        \"working_dir\": project_root,\n",
    "        'excludes': ['.cache', '.venv', '.git*', '.python-version', '__pycache__', '*.pyc',\n",
    "                     '*.ipynb_checkpoints', '*.ipynb', 'logs/model'], \n",
    "    },\n",
    "    ignore_reinit_error=True\n",
    ")\n",
    "\n",
    "start_time = time.perf_counter()\n",
    "\n",
    "run_simulation(\n",
    "    server_app = server,\n",
    "    client_app = client,\n",
    "    num_supernodes = fed_config.get(\"num_clients\"), #<-- number of clients\n",
    "    backend_config=backend_setup\n",
    ")\n",
    "\n",
    "end_time = time.perf_counter()\n",
    "duration = end_time - start_time\n",
    "print(f\"\\n🕒 Total Time: {duration // 60:.0f} min {duration % 60:.0f} sec\")\n",
    "\n",
    "ray.shutdown()"
   ]
  },
  {
   "cell_type": "markdown",
   "id": "677b3cee-3a6b-4278-9f81-1b0c66aa9232",
   "metadata": {},
   "source": [
    "-----"
   ]
  },
  {
   "cell_type": "code",
   "execution_count": null,
   "id": "2325b361",
   "metadata": {},
   "outputs": [],
   "source": []
  },
  {
   "cell_type": "code",
   "execution_count": null,
   "id": "b8e8ae40",
   "metadata": {},
   "outputs": [],
   "source": []
  }
 ],
 "metadata": {
  "kernelspec": {
   "display_name": ".venv",
   "language": "python",
   "name": "python3"
  },
  "language_info": {
   "codemirror_mode": {
    "name": "ipython",
    "version": 3
   },
   "file_extension": ".py",
   "mimetype": "text/x-python",
   "name": "python",
   "nbconvert_exporter": "python",
   "pygments_lexer": "ipython3",
   "version": "3.12.10"
  }
 },
 "nbformat": 4,
 "nbformat_minor": 5
}
