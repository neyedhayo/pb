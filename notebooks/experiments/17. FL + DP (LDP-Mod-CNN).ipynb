{
 "cells": [
  {
   "cell_type": "markdown",
   "id": "57d7c172",
   "metadata": {},
   "source": [
    "## Local Differential Privacy (LDP Modifier CNN)\n",
    "To utilize local differential privacy (DP) and add noise to the client model parameters before transmitting them to the server in Flower, you can use the LocalDpMod."
   ]
  },
  {
   "cell_type": "markdown",
   "id": "fe123849",
   "metadata": {},
   "source": [
    "\n",
    "\n",
    "---"
   ]
  },
  {
   "cell_type": "code",
   "execution_count": 1,
   "id": "ef747c8e",
   "metadata": {},
   "outputs": [
    {
     "name": "stdout",
     "output_type": "stream",
     "text": [
      "Python implementation: CPython\n",
      "Python version       : 3.12.11\n",
      "IPython version      : 9.1.0\n",
      "\n",
      "torch: 2.6.0\n",
      "flwr : 1.19.0\n",
      "\n"
     ]
    }
   ],
   "source": [
    "%load_ext autoreload\n",
    "%load_ext watermark\n",
    "    \n",
    "%autoreload 2\n",
    "%watermark --python -p torch,flwr "
   ]
  },
  {
   "cell_type": "markdown",
   "id": "f7ce50c6",
   "metadata": {},
   "source": [
    "--------\n",
    "\n",
    "## Loading Dependencies"
   ]
  },
  {
   "cell_type": "code",
   "execution_count": 2,
   "metadata": {},
   "outputs": [],
   "source": [
    "import os\n",
    "import sys\n",
    "sys.path.append(\"../..\")\n",
    "\n",
    "import ray\n",
    "import time\n",
    "\n",
    "import torch.nn as nn\n",
    "from torchvision.models import resnet18, ResNet18_Weights\n",
    "\n",
    "from logging import ERROR\n",
    "\n",
    "from flwr.common import ndarrays_to_parameters, Context \n",
    "from flwr.client import Client, ClientApp\n",
    "from flwr.client.mod import LocalDpMod\n",
    "from flwr.server import ServerApp, ServerConfig, ServerAppComponents\n",
    "from flwr.server.strategy import FedAvg\n",
    "from flwr.simulation import run_simulation\n",
    "\n",
    "from src.config import ExperimentName\n",
    "from src.paths import RAY_LOG_DIR\n",
    "from src.FL_client import MedicalImageClient\n",
    "from src.FL_server import weighted_average, build_evaluate_fn\n",
    "from src.local_utility import load_yaml_config, set_device, prepare_FL_dataset, get_weights\n",
    "\n",
    "from src.tracker import reset_base_memory_csv"
   ]
  },
  {
   "cell_type": "code",
   "execution_count": 3,
   "id": "c3f0fd33",
   "metadata": {},
   "outputs": [],
   "source": [
    "# Replace with appropritate values\n",
    "\n",
    "data_name_ = \"skin_lesions\" #'alzheimer' #\n",
    "base_type_ = \"CNN\"           \n",
    "exp_name_ = \"LDP-Mod\"\n",
    "num_labels_ = 8 #4\n",
    "experiment_name_ = ExperimentName.FL_LDP_MOD_CNN"
   ]
  },
  {
   "cell_type": "code",
   "execution_count": 4,
   "id": "37a56089",
   "metadata": {},
   "outputs": [],
   "source": [
    "DEVICE = set_device()\n",
    "reset_base_memory_csv() \n",
    "\n",
    "fed_config = load_yaml_config(key=\"experiments\", item_name=experiment_name_)\n",
    "client_dataloaders = prepare_FL_dataset(exp_name= exp_name_, data_name=data_name_, base_type=base_type_, augment_data=True)"
   ]
  },
  {
   "cell_type": "code",
   "execution_count": 5,
   "id": "f443a673",
   "metadata": {},
   "outputs": [],
   "source": [
    "def client_fn(context: Context) -> Client:\n",
    "    \"\"\"\n",
    "    Creates and initializes a federated learning client.\n",
    "\n",
    "    This function initializes a client in the federated learning setup by \n",
    "    assigning a unique partitioned dataset and a machine learning model \n",
    "    for training and validation.\n",
    "\n",
    "    Args:\n",
    "        context (Context): The execution context containing client-specific configurations.\n",
    "\n",
    "    Returns:\n",
    "        Client: A configured federated learning client ready to participate in training.\n",
    "    \"\"\"\n",
    "    partition_id = int(context.node_config[\"partition-id\"]) #<--- Get the client partition ID\n",
    "    \n",
    "    model = resnet18(weights=ResNet18_Weights.IMAGENET1K_V1)\n",
    "    model.fc = nn.Linear(in_features=model.fc.in_features, out_features=num_labels_)\n",
    "\n",
    "    # Assign partitioned client dataset\n",
    "    train_loader, val_loader, test_loader = client_dataloaders[partition_id]\n",
    "    \n",
    "    return MedicalImageClient(model, train_loader, val_loader, exp_name=exp_name_, data_name = data_name_, base_type=base_type_, client_id=partition_id).to_client()\n",
    "\n",
    "\n",
    "# Create an instance of the mod with the required params\n",
    "local_dp_obj = LocalDpMod(clipping_norm=50.0, sensitivity=0.02, epsilon=0.4, delta=1e-5)\n",
    "\n",
    "client = ClientApp(client_fn, mods=[local_dp_obj])"
   ]
  },
  {
   "cell_type": "code",
   "execution_count": 6,
   "id": "b8776447",
   "metadata": {},
   "outputs": [],
   "source": [
    "def server_fn(context: Context):\n",
    "    \"\"\"\n",
    "    Creates and configures the federated learning server using the FedAvg strategy.\n",
    "\n",
    "    This function initializes the federated learning server with a FedAvg strategy,\n",
    "    specifying the parameters for client participation in training and evaluation,\n",
    "    the global model evaluation function, and the metric aggregation function.\n",
    "\n",
    "    Args:\n",
    "        context (Context): The execution context for the federated learning server.\n",
    "\n",
    "    Returns:\n",
    "        ServerAppComponents: A configured server application with the defined strategy\n",
    "        and server settings.\n",
    "    \"\"\"\n",
    "    model = resnet18(weights=ResNet18_Weights.IMAGENET1K_V1)\n",
    "    model.fc = nn.Linear(in_features=model.fc.in_features, out_features=num_labels_)\n",
    "    params = ndarrays_to_parameters(get_weights(model))\n",
    "    \n",
    "    # Create FedAvg strategy\n",
    "    strategy = FedAvg(\n",
    "        fraction_fit=1.0,                 #<--- Sample 100% of available clients for training\n",
    "        fraction_evaluate=1.0,            #<--- Sample 100% of available clients for evaluation\n",
    "        initial_parameters=params,        #<--- Initial model parameters\n",
    "        evaluate_fn=build_evaluate_fn(    #<--- Global evaluation function\n",
    "            exp_name = exp_name_, \n",
    "            base_type = base_type_,\n",
    "            data_name=data_name_, \n",
    "            experiment_item=experiment_name_, \n",
    "            num_labels=num_labels_\n",
    "            ),\n",
    "        evaluate_metrics_aggregation_fn=weighted_average,  #<-- pass the metric aggregation function\n",
    "    )\n",
    "    \n",
    "    \n",
    "    # Configure the server with the specified number of federated rounds\n",
    "    sever_config = ServerConfig(num_rounds=fed_config['num_rounds'])\n",
    "    \n",
    "    return ServerAppComponents(strategy = strategy, config = sever_config)\n",
    "\n",
    "# Wrap the server function in a ServerApp, and instantiate it\n",
    "server = ServerApp(server_fn = server_fn) "
   ]
  },
  {
   "cell_type": "code",
   "execution_count": 7,
   "metadata": {},
   "outputs": [],
   "source": [
    "backend_setup = {\n",
    "    \"init_args\": {\n",
    "        \"logging_level\": ERROR, \n",
    "        \"log_to_driver\": fed_config.get(\"log_to_driver\")\n",
    "    },\n",
    "    \"client_resources\": {\n",
    "        \"num_cpus\": fed_config.get(\"num_cpus\"), \n",
    "        \"num_gpus\": fed_config.get(\"num_gpus\")            \n",
    "    },\n",
    "}\n",
    "\n",
    "# When running on GPU, assign an entire GPU for each client\n",
    "if DEVICE == \"cuda\": \n",
    "    backend_setup[\"client_resources\"] = {\"num_cpus\": 1, \"num_gpus\": 1.0}"
   ]
  },
  {
   "cell_type": "markdown",
   "id": "78ceb750",
   "metadata": {},
   "source": [
    "--- \n",
    "\n",
    "## Initiate the Simulation \n",
    "\n",
    "Initiate the simulation by passing the server and client apps, and specify the number of supernodes that will be selected on every round. "
   ]
  },
  {
   "cell_type": "code",
   "execution_count": 8,
   "id": "e1354f03",
   "metadata": {},
   "outputs": [
    {
     "name": "stderr",
     "output_type": "stream",
     "text": [
      "2025-07-24 16:45:45,904\tINFO worker.py:1771 -- Started a local Ray instance.\n",
      "2025-07-24 16:45:45,988\tINFO packaging.py:530 -- Creating a file package for local directory '/home/emeka/PrivacyBench'.\n",
      "2025-07-24 16:45:46,101\tINFO packaging.py:358 -- Pushing file package 'gcs://_ray_pkg_4dcbe08a88e194a6.zip' (14.71MiB) to Ray cluster...\n",
      "2025-07-24 16:45:46,147\tINFO packaging.py:371 -- Successfully pushed file package 'gcs://_ray_pkg_4dcbe08a88e194a6.zip'.\n",
      "07/24/2025 16:45:47:DEBUG:Asyncio event loop already running.\n",
      "\u001b[92mINFO \u001b[0m:      Starting Flower ServerApp, config: num_rounds=5, no round_timeout\n",
      "\u001b[92mINFO \u001b[0m:      \n",
      "\u001b[92mINFO \u001b[0m:      [INIT]\n",
      "\u001b[92mINFO \u001b[0m:      Using initial global parameters provided by strategy\n",
      "\u001b[92mINFO \u001b[0m:      Starting evaluation of initial global parameters\n",
      "[codecarbon WARNING @ 16:45:47] Multiple instances of codecarbon are allowed to run at the same time.\n",
      "/home/emeka/.local/share/uv/python/cpython-3.12.11-linux-x86_64-gnu/lib/python3.12/multiprocessing/popen_fork.py:66: DeprecationWarning: This process (pid=60422) is multi-threaded, use of fork() may lead to deadlocks in the child.\n",
      "  self.pid = os.fork()\n",
      "/home/emeka/PrivacyBench/.venv/lib/python3.12/site-packages/codecarbon/output_methods/file.py:52: FutureWarning: The behavior of DataFrame concatenation with empty or all-NA entries is deprecated. In a future version, this will no longer exclude empty or all-NA columns when determining the result dtypes. To retain the old behavior, exclude the relevant entries before the concat operation.\n",
      "  df = pd.concat([df, pd.DataFrame.from_records([dict(total.values)])])\n",
      "/home/emeka/PrivacyBench/notebooks/experiments/../../src/tracker.py:88: FutureWarning: The behavior of DataFrame concatenation with empty or all-NA entries is deprecated. In a future version, this will no longer exclude empty or all-NA columns when determining the result dtypes. To retain the old behavior, exclude the relevant entries before the concat operation.\n",
      "  df = pd.concat([df, pd.DataFrame([new_row])], ignore_index=True)\n",
      "\u001b[92mINFO \u001b[0m:      initial parameters (loss, other metrics): 2.219808958164633, {'accuracy': 0.09247311827956989}\n",
      "\u001b[92mINFO \u001b[0m:      \n",
      "\u001b[92mINFO \u001b[0m:      [ROUND 1]\n",
      "\u001b[92mINFO \u001b[0m:      configure_fit: strategy sampled 3 clients (out of 3)\n",
      "\u001b[36m(ClientAppActor pid=69489)\u001b[0m Seed set to 42\n",
      "\u001b[36m(ClientAppActor pid=69489)\u001b[0m [codecarbon WARNING @ 16:46:06] Multiple instances of codecarbon are allowed to run at the same time.\n",
      "\u001b[36m(ClientAppActor pid=69489)\u001b[0m /home/emeka/.local/share/uv/python/cpython-3.12.11-linux-x86_64-gnu/lib/python3.12/multiprocessing/popen_fork.py:66: DeprecationWarning: This process (pid=69489) is multi-threaded, use of fork() may lead to deadlocks in the child.\n",
      "\u001b[36m(ClientAppActor pid=69489)\u001b[0m   self.pid = os.fork()\n",
      "\u001b[36m(ClientAppActor pid=69490)\u001b[0m Seed set to 42\n",
      "\u001b[36m(ClientAppActor pid=69490)\u001b[0m [codecarbon WARNING @ 16:46:06] Multiple instances of codecarbon are allowed to run at the same time.\n",
      "\u001b[36m(ClientAppActor pid=69490)\u001b[0m /home/emeka/.local/share/uv/python/cpython-3.12.11-linux-x86_64-gnu/lib/python3.12/multiprocessing/popen_fork.py:66: DeprecationWarning: This process (pid=69490) is multi-threaded, use of fork() may lead to deadlocks in the child.\u001b[32m [repeated 2x across cluster] (Ray deduplicates logs by default. Set RAY_DEDUP_LOGS=0 to disable log deduplication, or see https://docs.ray.io/en/master/ray-observability/user-guides/configure-logging.html#log-deduplication for more options.)\u001b[0m\n",
      "\u001b[36m(ClientAppActor pid=69490)\u001b[0m   self.pid = os.fork()\u001b[32m [repeated 2x across cluster]\u001b[0m\n"
     ]
    },
    {
     "name": "stdout",
     "output_type": "stream",
     "text": [
      "\u001b[36m(ClientAppActor pid=69490)\u001b[0m \n",
      "\u001b[36m(ClientAppActor pid=69490)\u001b[0m 🔎 Tracker: FL + LDP-Mod (CNN)\n",
      "\u001b[36m(ClientAppActor pid=69490)\u001b[0m 📁 Logs saved to: /home/emeka/PrivacyBench/logs/emissions/skin_lesions/FL_LDP-Mod_CNN/client_emissions.csv\n",
      "\u001b[36m(ClientAppActor pid=69490)\u001b[0m ⏱️ Total training time: 2 minutes 12 seconds\n"
     ]
    },
    {
     "name": "stderr",
     "output_type": "stream",
     "text": [
      "\u001b[36m(ClientAppActor pid=69490)\u001b[0m /home/emeka/PrivacyBench/.venv/lib/python3.12/site-packages/codecarbon/output_methods/file.py:52: FutureWarning: The behavior of DataFrame concatenation with empty or all-NA entries is deprecated. In a future version, this will no longer exclude empty or all-NA columns when determining the result dtypes. To retain the old behavior, exclude the relevant entries before the concat operation.\n",
      "\u001b[36m(ClientAppActor pid=69490)\u001b[0m   df = pd.concat([df, pd.DataFrame.from_records([dict(total.values)])])\n",
      "\u001b[36m(ClientAppActor pid=69489)\u001b[0m /home/emeka/.local/share/uv/python/cpython-3.12.11-linux-x86_64-gnu/lib/python3.12/multiprocessing/popen_fork.py:66: DeprecationWarning: This process (pid=69489) is multi-threaded, use of fork() may lead to deadlocks in the child.\n",
      "\u001b[36m(ClientAppActor pid=69489)\u001b[0m   self.pid = os.fork()\n",
      "\u001b[36m(ClientAppActor pid=69490)\u001b[0m \u001b[92mINFO \u001b[0m:      LocalDpMod: parameters are clipped by value: 50.0000.\n",
      "\u001b[36m(ClientAppActor pid=69490)\u001b[0m 07/24/2025 16:48:19:INFO:LocalDpMod: parameters are clipped by value: 50.0000.\n",
      "\u001b[36m(ClientAppActor pid=69490)\u001b[0m \u001b[92mINFO \u001b[0m:      LocalDpMod: local DP noise with 0.2422 stedv added to parameters\n",
      "\u001b[36m(ClientAppActor pid=69490)\u001b[0m 07/24/2025 16:48:19:INFO:LocalDpMod: local DP noise with 0.2422 stedv added to parameters\n",
      "\u001b[36m(ClientAppActor pid=69490)\u001b[0m Seed set to 42\n",
      "\u001b[36m(ClientAppActor pid=69490)\u001b[0m /home/emeka/.local/share/uv/python/cpython-3.12.11-linux-x86_64-gnu/lib/python3.12/multiprocessing/popen_fork.py:66: DeprecationWarning: This process (pid=69490) is multi-threaded, use of fork() may lead to deadlocks in the child.\n",
      "\u001b[36m(ClientAppActor pid=69490)\u001b[0m   self.pid = os.fork()\n"
     ]
    },
    {
     "name": "stdout",
     "output_type": "stream",
     "text": [
      "\u001b[36m(ClientAppActor pid=69489)\u001b[0m \n"
     ]
    },
    {
     "name": "stderr",
     "output_type": "stream",
     "text": [
      "\u001b[36m(ClientAppActor pid=69490)\u001b[0m /home/emeka/.local/share/uv/python/cpython-3.12.11-linux-x86_64-gnu/lib/python3.12/multiprocessing/popen_fork.py:66: DeprecationWarning: This process (pid=69490) is multi-threaded, use of fork() may lead to deadlocks in the child.\n",
      "\u001b[36m(ClientAppActor pid=69490)\u001b[0m   self.pid = os.fork()\n",
      "\u001b[36m(ClientAppActor pid=69489)\u001b[0m \u001b[92mINFO \u001b[0m:      LocalDpMod: parameters are clipped by value: 50.0000.\n",
      "\u001b[36m(ClientAppActor pid=69489)\u001b[0m 07/24/2025 16:48:23:INFO:LocalDpMod: parameters are clipped by value: 50.0000.\n",
      "\u001b[36m(ClientAppActor pid=69489)\u001b[0m \u001b[92mINFO \u001b[0m:      LocalDpMod: local DP noise with 0.2422 stedv added to parameters\n",
      "\u001b[36m(ClientAppActor pid=69489)\u001b[0m 07/24/2025 16:48:24:INFO:LocalDpMod: local DP noise with 0.2422 stedv added to parameters\n"
     ]
    },
    {
     "name": "stdout",
     "output_type": "stream",
     "text": [
      "\u001b[36m(ClientAppActor pid=69490)\u001b[0m \n",
      "\u001b[36m(ClientAppActor pid=69490)\u001b[0m 🔎 Tracker: FL + LDP-Mod (CNN)\u001b[32m [repeated 2x across cluster]\u001b[0m\n",
      "\u001b[36m(ClientAppActor pid=69490)\u001b[0m 📁 Logs saved to: /home/emeka/PrivacyBench/logs/emissions/skin_lesions/FL_LDP-Mod_CNN/client_emissions.csv\u001b[32m [repeated 2x across cluster]\u001b[0m\n",
      "\u001b[36m(ClientAppActor pid=69490)\u001b[0m ⏱️ Total training time: 2 minutes 6 seconds\u001b[32m [repeated 2x across cluster]\u001b[0m\n"
     ]
    },
    {
     "name": "stderr",
     "output_type": "stream",
     "text": [
      "\u001b[36m(ClientAppActor pid=69490)\u001b[0m \u001b[92mINFO \u001b[0m:      LocalDpMod: parameters are clipped by value: 50.0000.\n",
      "\u001b[36m(ClientAppActor pid=69490)\u001b[0m 07/24/2025 16:50:27:INFO:LocalDpMod: parameters are clipped by value: 50.0000.\n",
      "\u001b[36m(ClientAppActor pid=69490)\u001b[0m \u001b[92mINFO \u001b[0m:      LocalDpMod: local DP noise with 0.2422 stedv added to parameters\n",
      "\u001b[36m(ClientAppActor pid=69490)\u001b[0m 07/24/2025 16:50:27:INFO:LocalDpMod: local DP noise with 0.2422 stedv added to parameters\n",
      "\u001b[92mINFO \u001b[0m:      aggregate_fit: received 3 results and 0 failures\n",
      "\u001b[93mWARNING \u001b[0m:   No fit_metrics_aggregation_fn provided\n",
      "/home/emeka/.local/share/uv/python/cpython-3.12.11-linux-x86_64-gnu/lib/python3.12/multiprocessing/popen_fork.py:66: DeprecationWarning: This process (pid=60422) is multi-threaded, use of fork() may lead to deadlocks in the child.\n",
      "  self.pid = os.fork()\n",
      "\u001b[92mINFO \u001b[0m:      fit progress: (1, nan, {'accuracy': 0.18344086021505376}, 277.39718763900055)\n",
      "\u001b[92mINFO \u001b[0m:      configure_evaluate: strategy sampled 3 clients (out of 3)\n",
      "\u001b[36m(ClientAppActor pid=69489)\u001b[0m /home/emeka/.local/share/uv/python/cpython-3.12.11-linux-x86_64-gnu/lib/python3.12/multiprocessing/popen_fork.py:66: DeprecationWarning: This process (pid=69489) is multi-threaded, use of fork() may lead to deadlocks in the child.\n",
      "\u001b[36m(ClientAppActor pid=69489)\u001b[0m   self.pid = os.fork()\n",
      "\u001b[92mINFO \u001b[0m:      aggregate_evaluate: received 3 results and 0 failures\n",
      "\u001b[92mINFO \u001b[0m:      \n",
      "\u001b[92mINFO \u001b[0m:      [ROUND 2]\n",
      "\u001b[92mINFO \u001b[0m:      configure_fit: strategy sampled 3 clients (out of 3)\n",
      "\u001b[36m(ClientAppActor pid=69489)\u001b[0m Seed set to 42\n",
      "\u001b[36m(ClientAppActor pid=69489)\u001b[0m /home/emeka/.local/share/uv/python/cpython-3.12.11-linux-x86_64-gnu/lib/python3.12/multiprocessing/popen_fork.py:66: DeprecationWarning: This process (pid=69489) is multi-threaded, use of fork() may lead to deadlocks in the child.\u001b[32m [repeated 4x across cluster]\u001b[0m\n",
      "\u001b[36m(ClientAppActor pid=69489)\u001b[0m   self.pid = os.fork()\u001b[32m [repeated 4x across cluster]\u001b[0m\n",
      "\u001b[36m(ClientAppActor pid=69490)\u001b[0m Seed set to 42\n",
      "\u001b[36m(ClientAppActor pid=69490)\u001b[0m /home/emeka/.local/share/uv/python/cpython-3.12.11-linux-x86_64-gnu/lib/python3.12/multiprocessing/popen_fork.py:66: DeprecationWarning: This process (pid=69490) is multi-threaded, use of fork() may lead to deadlocks in the child.\n",
      "\u001b[36m(ClientAppActor pid=69490)\u001b[0m   self.pid = os.fork()\n"
     ]
    },
    {
     "name": "stdout",
     "output_type": "stream",
     "text": [
      "\u001b[36m(ClientAppActor pid=69489)\u001b[0m \n",
      "\u001b[36m(ClientAppActor pid=69489)\u001b[0m 🔎 Tracker: FL + LDP-Mod (CNN)\n",
      "\u001b[36m(ClientAppActor pid=69489)\u001b[0m 📁 Logs saved to: /home/emeka/PrivacyBench/logs/emissions/skin_lesions/FL_LDP-Mod_CNN/client_emissions.csv\n",
      "\u001b[36m(ClientAppActor pid=69489)\u001b[0m ⏱️ Total training time: 1 minutes 42 seconds\n"
     ]
    },
    {
     "name": "stderr",
     "output_type": "stream",
     "text": [
      "\u001b[36m(ClientAppActor pid=69489)\u001b[0m \u001b[92mINFO \u001b[0m:      LocalDpMod: parameters are clipped by value: 50.0000.\n",
      "\u001b[36m(ClientAppActor pid=69489)\u001b[0m 07/24/2025 16:52:20:INFO:LocalDpMod: parameters are clipped by value: 50.0000.\n",
      "\u001b[36m(ClientAppActor pid=69489)\u001b[0m \u001b[92mINFO \u001b[0m:      LocalDpMod: local DP noise with 0.2422 stedv added to parameters\n",
      "\u001b[36m(ClientAppActor pid=69489)\u001b[0m 07/24/2025 16:52:20:INFO:LocalDpMod: local DP noise with 0.2422 stedv added to parameters\n",
      "\u001b[36m(ClientAppActor pid=69489)\u001b[0m Seed set to 42\n",
      "\u001b[36m(ClientAppActor pid=69489)\u001b[0m /home/emeka/.local/share/uv/python/cpython-3.12.11-linux-x86_64-gnu/lib/python3.12/multiprocessing/popen_fork.py:66: DeprecationWarning: This process (pid=69489) is multi-threaded, use of fork() may lead to deadlocks in the child.\n",
      "\u001b[36m(ClientAppActor pid=69489)\u001b[0m   self.pid = os.fork()\n"
     ]
    },
    {
     "name": "stdout",
     "output_type": "stream",
     "text": [
      "\u001b[36m(ClientAppActor pid=69490)\u001b[0m \n",
      "\u001b[36m(ClientAppActor pid=69490)\u001b[0m 🔎 Tracker: FL + LDP-Mod (CNN)\n",
      "\u001b[36m(ClientAppActor pid=69490)\u001b[0m 📁 Logs saved to: /home/emeka/PrivacyBench/logs/emissions/skin_lesions/FL_LDP-Mod_CNN/client_emissions.csv\n",
      "\u001b[36m(ClientAppActor pid=69490)\u001b[0m ⏱️ Total training time: 2 minutes 8 seconds\n"
     ]
    },
    {
     "name": "stderr",
     "output_type": "stream",
     "text": [
      "\u001b[36m(ClientAppActor pid=69490)\u001b[0m \u001b[92mINFO \u001b[0m:      LocalDpMod: parameters are clipped by value: 50.0000.\n",
      "\u001b[36m(ClientAppActor pid=69490)\u001b[0m 07/24/2025 16:52:45:INFO:LocalDpMod: parameters are clipped by value: 50.0000.\n",
      "\u001b[36m(ClientAppActor pid=69490)\u001b[0m \u001b[92mINFO \u001b[0m:      LocalDpMod: local DP noise with 0.2422 stedv added to parameters\n",
      "\u001b[36m(ClientAppActor pid=69490)\u001b[0m 07/24/2025 16:52:46:INFO:LocalDpMod: local DP noise with 0.2422 stedv added to parameters\n",
      "\u001b[36m(ClientAppActor pid=69489)\u001b[0m /home/emeka/.local/share/uv/python/cpython-3.12.11-linux-x86_64-gnu/lib/python3.12/multiprocessing/popen_fork.py:66: DeprecationWarning: This process (pid=69489) is multi-threaded, use of fork() may lead to deadlocks in the child.\n",
      "\u001b[36m(ClientAppActor pid=69489)\u001b[0m   self.pid = os.fork()\n"
     ]
    },
    {
     "name": "stdout",
     "output_type": "stream",
     "text": [
      "\u001b[36m(ClientAppActor pid=69489)\u001b[0m \n",
      "\u001b[36m(ClientAppActor pid=69489)\u001b[0m 🔎 Tracker: FL + LDP-Mod (CNN)\n",
      "\u001b[36m(ClientAppActor pid=69489)\u001b[0m 📁 Logs saved to: /home/emeka/PrivacyBench/logs/emissions/skin_lesions/FL_LDP-Mod_CNN/client_emissions.csv\n",
      "\u001b[36m(ClientAppActor pid=69489)\u001b[0m ⏱️ Total training time: 1 minutes 36 seconds\n"
     ]
    },
    {
     "name": "stderr",
     "output_type": "stream",
     "text": [
      "\u001b[36m(ClientAppActor pid=69489)\u001b[0m \u001b[92mINFO \u001b[0m:      LocalDpMod: parameters are clipped by value: 50.0000.\n",
      "\u001b[36m(ClientAppActor pid=69489)\u001b[0m 07/24/2025 16:53:57:INFO:LocalDpMod: parameters are clipped by value: 50.0000.\n",
      "\u001b[36m(ClientAppActor pid=69489)\u001b[0m \u001b[92mINFO \u001b[0m:      LocalDpMod: local DP noise with 0.2422 stedv added to parameters\n",
      "\u001b[36m(ClientAppActor pid=69489)\u001b[0m 07/24/2025 16:53:57:INFO:LocalDpMod: local DP noise with 0.2422 stedv added to parameters\n",
      "\u001b[92mINFO \u001b[0m:      aggregate_fit: received 3 results and 0 failures\n",
      "/home/emeka/.local/share/uv/python/cpython-3.12.11-linux-x86_64-gnu/lib/python3.12/multiprocessing/popen_fork.py:66: DeprecationWarning: This process (pid=60422) is multi-threaded, use of fork() may lead to deadlocks in the child.\n",
      "  self.pid = os.fork()\n",
      "\u001b[92mINFO \u001b[0m:      fit progress: (2, nan, {'accuracy': 0.18344086021505376}, 487.1624001529999)\n",
      "\u001b[92mINFO \u001b[0m:      configure_evaluate: strategy sampled 3 clients (out of 3)\n",
      "\u001b[36m(ClientAppActor pid=69489)\u001b[0m /home/emeka/.local/share/uv/python/cpython-3.12.11-linux-x86_64-gnu/lib/python3.12/multiprocessing/popen_fork.py:66: DeprecationWarning: This process (pid=69489) is multi-threaded, use of fork() may lead to deadlocks in the child.\n",
      "\u001b[36m(ClientAppActor pid=69489)\u001b[0m   self.pid = os.fork()\n",
      "\u001b[92mINFO \u001b[0m:      aggregate_evaluate: received 3 results and 0 failures\n",
      "\u001b[92mINFO \u001b[0m:      \n",
      "\u001b[92mINFO \u001b[0m:      [ROUND 3]\n",
      "\u001b[92mINFO \u001b[0m:      configure_fit: strategy sampled 3 clients (out of 3)\n",
      "\u001b[36m(ClientAppActor pid=69489)\u001b[0m Seed set to 42\n",
      "\u001b[36m(ClientAppActor pid=69489)\u001b[0m /home/emeka/.local/share/uv/python/cpython-3.12.11-linux-x86_64-gnu/lib/python3.12/multiprocessing/popen_fork.py:66: DeprecationWarning: This process (pid=69489) is multi-threaded, use of fork() may lead to deadlocks in the child.\u001b[32m [repeated 4x across cluster]\u001b[0m\n",
      "\u001b[36m(ClientAppActor pid=69489)\u001b[0m   self.pid = os.fork()\u001b[32m [repeated 4x across cluster]\u001b[0m\n",
      "\u001b[36m(ClientAppActor pid=69490)\u001b[0m Seed set to 42\n",
      "\u001b[36m(ClientAppActor pid=69490)\u001b[0m /home/emeka/.local/share/uv/python/cpython-3.12.11-linux-x86_64-gnu/lib/python3.12/multiprocessing/popen_fork.py:66: DeprecationWarning: This process (pid=69490) is multi-threaded, use of fork() may lead to deadlocks in the child.\n",
      "\u001b[36m(ClientAppActor pid=69490)\u001b[0m   self.pid = os.fork()\n"
     ]
    },
    {
     "name": "stdout",
     "output_type": "stream",
     "text": [
      "\u001b[36m(ClientAppActor pid=69489)\u001b[0m \n",
      "\u001b[36m(ClientAppActor pid=69489)\u001b[0m 🔎 Tracker: FL + LDP-Mod (CNN)\n",
      "\u001b[36m(ClientAppActor pid=69489)\u001b[0m 📁 Logs saved to: /home/emeka/PrivacyBench/logs/emissions/skin_lesions/FL_LDP-Mod_CNN/client_emissions.csv\n",
      "\u001b[36m(ClientAppActor pid=69489)\u001b[0m ⏱️ Total training time: 1 minutes 42 seconds\n"
     ]
    },
    {
     "name": "stderr",
     "output_type": "stream",
     "text": [
      "\u001b[36m(ClientAppActor pid=69489)\u001b[0m \u001b[92mINFO \u001b[0m:      LocalDpMod: parameters are clipped by value: 50.0000.\n",
      "\u001b[36m(ClientAppActor pid=69489)\u001b[0m 07/24/2025 16:55:49:INFO:LocalDpMod: parameters are clipped by value: 50.0000.\n",
      "\u001b[36m(ClientAppActor pid=69489)\u001b[0m \u001b[92mINFO \u001b[0m:      LocalDpMod: local DP noise with 0.2422 stedv added to parameters\n",
      "\u001b[36m(ClientAppActor pid=69489)\u001b[0m 07/24/2025 16:55:49:INFO:LocalDpMod: local DP noise with 0.2422 stedv added to parameters\n",
      "\u001b[36m(ClientAppActor pid=69489)\u001b[0m Seed set to 42\n",
      "\u001b[36m(ClientAppActor pid=69489)\u001b[0m /home/emeka/.local/share/uv/python/cpython-3.12.11-linux-x86_64-gnu/lib/python3.12/multiprocessing/popen_fork.py:66: DeprecationWarning: This process (pid=69489) is multi-threaded, use of fork() may lead to deadlocks in the child.\n",
      "\u001b[36m(ClientAppActor pid=69489)\u001b[0m   self.pid = os.fork()\n"
     ]
    },
    {
     "name": "stdout",
     "output_type": "stream",
     "text": [
      "\u001b[36m(ClientAppActor pid=69490)\u001b[0m \n",
      "\u001b[36m(ClientAppActor pid=69490)\u001b[0m 🔎 Tracker: FL + LDP-Mod (CNN)\n",
      "\u001b[36m(ClientAppActor pid=69490)\u001b[0m 📁 Logs saved to: /home/emeka/PrivacyBench/logs/emissions/skin_lesions/FL_LDP-Mod_CNN/client_emissions.csv\n",
      "\u001b[36m(ClientAppActor pid=69490)\u001b[0m ⏱️ Total training time: 2 minutes 8 seconds\n"
     ]
    },
    {
     "name": "stderr",
     "output_type": "stream",
     "text": [
      "\u001b[36m(ClientAppActor pid=69490)\u001b[0m \u001b[92mINFO \u001b[0m:      LocalDpMod: parameters are clipped by value: 50.0000.\n",
      "\u001b[36m(ClientAppActor pid=69490)\u001b[0m 07/24/2025 16:56:15:INFO:LocalDpMod: parameters are clipped by value: 50.0000.\n",
      "\u001b[36m(ClientAppActor pid=69490)\u001b[0m \u001b[92mINFO \u001b[0m:      LocalDpMod: local DP noise with 0.2422 stedv added to parameters\n",
      "\u001b[36m(ClientAppActor pid=69490)\u001b[0m 07/24/2025 16:56:15:INFO:LocalDpMod: local DP noise with 0.2422 stedv added to parameters\n",
      "\u001b[36m(ClientAppActor pid=69489)\u001b[0m /home/emeka/.local/share/uv/python/cpython-3.12.11-linux-x86_64-gnu/lib/python3.12/multiprocessing/popen_fork.py:66: DeprecationWarning: This process (pid=69489) is multi-threaded, use of fork() may lead to deadlocks in the child.\n",
      "\u001b[36m(ClientAppActor pid=69489)\u001b[0m   self.pid = os.fork()\n"
     ]
    },
    {
     "name": "stdout",
     "output_type": "stream",
     "text": [
      "\u001b[36m(ClientAppActor pid=69489)\u001b[0m \n",
      "\u001b[36m(ClientAppActor pid=69489)\u001b[0m 🔎 Tracker: FL + LDP-Mod (CNN)\n",
      "\u001b[36m(ClientAppActor pid=69489)\u001b[0m 📁 Logs saved to: /home/emeka/PrivacyBench/logs/emissions/skin_lesions/FL_LDP-Mod_CNN/client_emissions.csv\n",
      "\u001b[36m(ClientAppActor pid=69489)\u001b[0m ⏱️ Total training time: 1 minutes 36 seconds\n"
     ]
    },
    {
     "name": "stderr",
     "output_type": "stream",
     "text": [
      "\u001b[36m(ClientAppActor pid=69489)\u001b[0m \u001b[92mINFO \u001b[0m:      LocalDpMod: parameters are clipped by value: 50.0000.\n",
      "\u001b[36m(ClientAppActor pid=69489)\u001b[0m 07/24/2025 16:57:26:INFO:LocalDpMod: parameters are clipped by value: 50.0000.\n",
      "\u001b[36m(ClientAppActor pid=69489)\u001b[0m \u001b[92mINFO \u001b[0m:      LocalDpMod: local DP noise with 0.2422 stedv added to parameters\n",
      "\u001b[36m(ClientAppActor pid=69489)\u001b[0m 07/24/2025 16:57:27:INFO:LocalDpMod: local DP noise with 0.2422 stedv added to parameters\n",
      "\u001b[92mINFO \u001b[0m:      aggregate_fit: received 3 results and 0 failures\n",
      "/home/emeka/.local/share/uv/python/cpython-3.12.11-linux-x86_64-gnu/lib/python3.12/multiprocessing/popen_fork.py:66: DeprecationWarning: This process (pid=60422) is multi-threaded, use of fork() may lead to deadlocks in the child.\n",
      "  self.pid = os.fork()\n",
      "\u001b[92mINFO \u001b[0m:      fit progress: (3, nan, {'accuracy': 0.18344086021505376}, 696.3754051449996)\n",
      "\u001b[92mINFO \u001b[0m:      configure_evaluate: strategy sampled 3 clients (out of 3)\n",
      "\u001b[36m(ClientAppActor pid=69489)\u001b[0m /home/emeka/.local/share/uv/python/cpython-3.12.11-linux-x86_64-gnu/lib/python3.12/multiprocessing/popen_fork.py:66: DeprecationWarning: This process (pid=69489) is multi-threaded, use of fork() may lead to deadlocks in the child.\n",
      "\u001b[36m(ClientAppActor pid=69489)\u001b[0m   self.pid = os.fork()\n",
      "\u001b[92mINFO \u001b[0m:      aggregate_evaluate: received 3 results and 0 failures\n",
      "\u001b[92mINFO \u001b[0m:      \n",
      "\u001b[92mINFO \u001b[0m:      [ROUND 4]\n",
      "\u001b[92mINFO \u001b[0m:      configure_fit: strategy sampled 3 clients (out of 3)\n",
      "\u001b[36m(ClientAppActor pid=69489)\u001b[0m Seed set to 42\n",
      "\u001b[36m(ClientAppActor pid=69489)\u001b[0m /home/emeka/.local/share/uv/python/cpython-3.12.11-linux-x86_64-gnu/lib/python3.12/multiprocessing/popen_fork.py:66: DeprecationWarning: This process (pid=69489) is multi-threaded, use of fork() may lead to deadlocks in the child.\u001b[32m [repeated 4x across cluster]\u001b[0m\n",
      "\u001b[36m(ClientAppActor pid=69489)\u001b[0m   self.pid = os.fork()\u001b[32m [repeated 4x across cluster]\u001b[0m\n",
      "\u001b[36m(ClientAppActor pid=69490)\u001b[0m Seed set to 42\n",
      "\u001b[36m(ClientAppActor pid=69490)\u001b[0m /home/emeka/.local/share/uv/python/cpython-3.12.11-linux-x86_64-gnu/lib/python3.12/multiprocessing/popen_fork.py:66: DeprecationWarning: This process (pid=69490) is multi-threaded, use of fork() may lead to deadlocks in the child.\n",
      "\u001b[36m(ClientAppActor pid=69490)\u001b[0m   self.pid = os.fork()\n"
     ]
    },
    {
     "name": "stdout",
     "output_type": "stream",
     "text": [
      "\u001b[36m(ClientAppActor pid=69489)\u001b[0m \n",
      "\u001b[36m(ClientAppActor pid=69489)\u001b[0m 🔎 Tracker: FL + LDP-Mod (CNN)\n",
      "\u001b[36m(ClientAppActor pid=69489)\u001b[0m 📁 Logs saved to: /home/emeka/PrivacyBench/logs/emissions/skin_lesions/FL_LDP-Mod_CNN/client_emissions.csv\n",
      "\u001b[36m(ClientAppActor pid=69489)\u001b[0m ⏱️ Total training time: 1 minutes 41 seconds\n"
     ]
    },
    {
     "name": "stderr",
     "output_type": "stream",
     "text": [
      "\u001b[36m(ClientAppActor pid=69489)\u001b[0m \u001b[92mINFO \u001b[0m:      LocalDpMod: parameters are clipped by value: 50.0000.\n",
      "\u001b[36m(ClientAppActor pid=69489)\u001b[0m 07/24/2025 16:59:17:INFO:LocalDpMod: parameters are clipped by value: 50.0000.\n",
      "\u001b[36m(ClientAppActor pid=69489)\u001b[0m \u001b[92mINFO \u001b[0m:      LocalDpMod: local DP noise with 0.2422 stedv added to parameters\n",
      "\u001b[36m(ClientAppActor pid=69489)\u001b[0m 07/24/2025 16:59:17:INFO:LocalDpMod: local DP noise with 0.2422 stedv added to parameters\n",
      "\u001b[36m(ClientAppActor pid=69489)\u001b[0m Seed set to 42\n",
      "\u001b[36m(ClientAppActor pid=69489)\u001b[0m /home/emeka/.local/share/uv/python/cpython-3.12.11-linux-x86_64-gnu/lib/python3.12/multiprocessing/popen_fork.py:66: DeprecationWarning: This process (pid=69489) is multi-threaded, use of fork() may lead to deadlocks in the child.\n",
      "\u001b[36m(ClientAppActor pid=69489)\u001b[0m   self.pid = os.fork()\n"
     ]
    },
    {
     "name": "stdout",
     "output_type": "stream",
     "text": [
      "\u001b[36m(ClientAppActor pid=69490)\u001b[0m \n",
      "\u001b[36m(ClientAppActor pid=69490)\u001b[0m 🔎 Tracker: FL + LDP-Mod (CNN)\n",
      "\u001b[36m(ClientAppActor pid=69490)\u001b[0m 📁 Logs saved to: /home/emeka/PrivacyBench/logs/emissions/skin_lesions/FL_LDP-Mod_CNN/client_emissions.csv\n",
      "\u001b[36m(ClientAppActor pid=69490)\u001b[0m ⏱️ Total training time: 2 minutes 8 seconds\n"
     ]
    },
    {
     "name": "stderr",
     "output_type": "stream",
     "text": [
      "\u001b[36m(ClientAppActor pid=69490)\u001b[0m \u001b[92mINFO \u001b[0m:      LocalDpMod: parameters are clipped by value: 50.0000.\n",
      "\u001b[36m(ClientAppActor pid=69490)\u001b[0m 07/24/2025 16:59:44:INFO:LocalDpMod: parameters are clipped by value: 50.0000.\n",
      "\u001b[36m(ClientAppActor pid=69490)\u001b[0m \u001b[92mINFO \u001b[0m:      LocalDpMod: local DP noise with 0.2422 stedv added to parameters\n",
      "\u001b[36m(ClientAppActor pid=69490)\u001b[0m 07/24/2025 16:59:45:INFO:LocalDpMod: local DP noise with 0.2422 stedv added to parameters\n",
      "\u001b[36m(ClientAppActor pid=69489)\u001b[0m /home/emeka/.local/share/uv/python/cpython-3.12.11-linux-x86_64-gnu/lib/python3.12/multiprocessing/popen_fork.py:66: DeprecationWarning: This process (pid=69489) is multi-threaded, use of fork() may lead to deadlocks in the child.\n",
      "\u001b[36m(ClientAppActor pid=69489)\u001b[0m   self.pid = os.fork()\n"
     ]
    },
    {
     "name": "stdout",
     "output_type": "stream",
     "text": [
      "\u001b[36m(ClientAppActor pid=69489)\u001b[0m \n",
      "\u001b[36m(ClientAppActor pid=69489)\u001b[0m 🔎 Tracker: FL + LDP-Mod (CNN)\n",
      "\u001b[36m(ClientAppActor pid=69489)\u001b[0m 📁 Logs saved to: /home/emeka/PrivacyBench/logs/emissions/skin_lesions/FL_LDP-Mod_CNN/client_emissions.csv\n",
      "\u001b[36m(ClientAppActor pid=69489)\u001b[0m ⏱️ Total training time: 1 minutes 37 seconds\n"
     ]
    },
    {
     "name": "stderr",
     "output_type": "stream",
     "text": [
      "\u001b[36m(ClientAppActor pid=69489)\u001b[0m \u001b[92mINFO \u001b[0m:      LocalDpMod: parameters are clipped by value: 50.0000.\n",
      "\u001b[36m(ClientAppActor pid=69489)\u001b[0m 07/24/2025 17:00:55:INFO:LocalDpMod: parameters are clipped by value: 50.0000.\n",
      "\u001b[36m(ClientAppActor pid=69489)\u001b[0m \u001b[92mINFO \u001b[0m:      LocalDpMod: local DP noise with 0.2422 stedv added to parameters\n",
      "\u001b[36m(ClientAppActor pid=69489)\u001b[0m 07/24/2025 17:00:55:INFO:LocalDpMod: local DP noise with 0.2422 stedv added to parameters\n",
      "\u001b[92mINFO \u001b[0m:      aggregate_fit: received 3 results and 0 failures\n",
      "/home/emeka/.local/share/uv/python/cpython-3.12.11-linux-x86_64-gnu/lib/python3.12/multiprocessing/popen_fork.py:66: DeprecationWarning: This process (pid=60422) is multi-threaded, use of fork() may lead to deadlocks in the child.\n",
      "  self.pid = os.fork()\n",
      "\u001b[92mINFO \u001b[0m:      fit progress: (4, nan, {'accuracy': 0.18344086021505376}, 905.6990352700013)\n",
      "\u001b[92mINFO \u001b[0m:      configure_evaluate: strategy sampled 3 clients (out of 3)\n",
      "\u001b[36m(ClientAppActor pid=69489)\u001b[0m /home/emeka/.local/share/uv/python/cpython-3.12.11-linux-x86_64-gnu/lib/python3.12/multiprocessing/popen_fork.py:66: DeprecationWarning: This process (pid=69489) is multi-threaded, use of fork() may lead to deadlocks in the child.\n",
      "\u001b[36m(ClientAppActor pid=69489)\u001b[0m   self.pid = os.fork()\n",
      "\u001b[92mINFO \u001b[0m:      aggregate_evaluate: received 3 results and 0 failures\n",
      "\u001b[92mINFO \u001b[0m:      \n",
      "\u001b[92mINFO \u001b[0m:      [ROUND 5]\n",
      "\u001b[92mINFO \u001b[0m:      configure_fit: strategy sampled 3 clients (out of 3)\n",
      "\u001b[36m(ClientAppActor pid=69489)\u001b[0m Seed set to 42\n",
      "\u001b[36m(ClientAppActor pid=69489)\u001b[0m /home/emeka/.local/share/uv/python/cpython-3.12.11-linux-x86_64-gnu/lib/python3.12/multiprocessing/popen_fork.py:66: DeprecationWarning: This process (pid=69489) is multi-threaded, use of fork() may lead to deadlocks in the child.\u001b[32m [repeated 4x across cluster]\u001b[0m\n",
      "\u001b[36m(ClientAppActor pid=69489)\u001b[0m   self.pid = os.fork()\u001b[32m [repeated 4x across cluster]\u001b[0m\n",
      "\u001b[36m(ClientAppActor pid=69490)\u001b[0m Seed set to 42\n",
      "\u001b[36m(ClientAppActor pid=69490)\u001b[0m /home/emeka/.local/share/uv/python/cpython-3.12.11-linux-x86_64-gnu/lib/python3.12/multiprocessing/popen_fork.py:66: DeprecationWarning: This process (pid=69490) is multi-threaded, use of fork() may lead to deadlocks in the child.\n",
      "\u001b[36m(ClientAppActor pid=69490)\u001b[0m   self.pid = os.fork()\n"
     ]
    },
    {
     "name": "stdout",
     "output_type": "stream",
     "text": [
      "\u001b[36m(ClientAppActor pid=69489)\u001b[0m \n",
      "\u001b[36m(ClientAppActor pid=69489)\u001b[0m 🔎 Tracker: FL + LDP-Mod (CNN)\n",
      "\u001b[36m(ClientAppActor pid=69489)\u001b[0m 📁 Logs saved to: /home/emeka/PrivacyBench/logs/emissions/skin_lesions/FL_LDP-Mod_CNN/client_emissions.csv\n",
      "\u001b[36m(ClientAppActor pid=69489)\u001b[0m ⏱️ Total training time: 1 minutes 41 seconds\n"
     ]
    },
    {
     "name": "stderr",
     "output_type": "stream",
     "text": [
      "\u001b[36m(ClientAppActor pid=69489)\u001b[0m \u001b[92mINFO \u001b[0m:      LocalDpMod: parameters are clipped by value: 50.0000.\n",
      "\u001b[36m(ClientAppActor pid=69489)\u001b[0m 07/24/2025 17:02:46:INFO:LocalDpMod: parameters are clipped by value: 50.0000.\n",
      "\u001b[36m(ClientAppActor pid=69489)\u001b[0m \u001b[92mINFO \u001b[0m:      LocalDpMod: local DP noise with 0.2422 stedv added to parameters\n",
      "\u001b[36m(ClientAppActor pid=69489)\u001b[0m 07/24/2025 17:02:46:INFO:LocalDpMod: local DP noise with 0.2422 stedv added to parameters\n",
      "\u001b[36m(ClientAppActor pid=69489)\u001b[0m Seed set to 42\n",
      "\u001b[36m(ClientAppActor pid=69489)\u001b[0m /home/emeka/.local/share/uv/python/cpython-3.12.11-linux-x86_64-gnu/lib/python3.12/multiprocessing/popen_fork.py:66: DeprecationWarning: This process (pid=69489) is multi-threaded, use of fork() may lead to deadlocks in the child.\n",
      "\u001b[36m(ClientAppActor pid=69489)\u001b[0m   self.pid = os.fork()\n"
     ]
    },
    {
     "name": "stdout",
     "output_type": "stream",
     "text": [
      "\u001b[36m(ClientAppActor pid=69490)\u001b[0m \n",
      "\u001b[36m(ClientAppActor pid=69490)\u001b[0m 🔎 Tracker: FL + LDP-Mod (CNN)\n",
      "\u001b[36m(ClientAppActor pid=69490)\u001b[0m 📁 Logs saved to: /home/emeka/PrivacyBench/logs/emissions/skin_lesions/FL_LDP-Mod_CNN/client_emissions.csv\n",
      "\u001b[36m(ClientAppActor pid=69490)\u001b[0m ⏱️ Total training time: 2 minutes 8 seconds\n"
     ]
    },
    {
     "name": "stderr",
     "output_type": "stream",
     "text": [
      "\u001b[36m(ClientAppActor pid=69490)\u001b[0m \u001b[92mINFO \u001b[0m:      LocalDpMod: parameters are clipped by value: 50.0000.\n",
      "\u001b[36m(ClientAppActor pid=69490)\u001b[0m 07/24/2025 17:03:13:INFO:LocalDpMod: parameters are clipped by value: 50.0000.\n",
      "\u001b[36m(ClientAppActor pid=69490)\u001b[0m \u001b[92mINFO \u001b[0m:      LocalDpMod: local DP noise with 0.2422 stedv added to parameters\n",
      "\u001b[36m(ClientAppActor pid=69490)\u001b[0m 07/24/2025 17:03:14:INFO:LocalDpMod: local DP noise with 0.2422 stedv added to parameters\n",
      "\u001b[36m(ClientAppActor pid=69489)\u001b[0m /home/emeka/.local/share/uv/python/cpython-3.12.11-linux-x86_64-gnu/lib/python3.12/multiprocessing/popen_fork.py:66: DeprecationWarning: This process (pid=69489) is multi-threaded, use of fork() may lead to deadlocks in the child.\n",
      "\u001b[36m(ClientAppActor pid=69489)\u001b[0m   self.pid = os.fork()\n"
     ]
    },
    {
     "name": "stdout",
     "output_type": "stream",
     "text": [
      "\u001b[36m(ClientAppActor pid=69489)\u001b[0m \n",
      "\u001b[36m(ClientAppActor pid=69489)\u001b[0m 🔎 Tracker: FL + LDP-Mod (CNN)\n",
      "\u001b[36m(ClientAppActor pid=69489)\u001b[0m 📁 Logs saved to: /home/emeka/PrivacyBench/logs/emissions/skin_lesions/FL_LDP-Mod_CNN/client_emissions.csv\n",
      "\u001b[36m(ClientAppActor pid=69489)\u001b[0m ⏱️ Total training time: 1 minutes 36 seconds\n"
     ]
    },
    {
     "name": "stderr",
     "output_type": "stream",
     "text": [
      "\u001b[36m(ClientAppActor pid=69489)\u001b[0m \u001b[92mINFO \u001b[0m:      LocalDpMod: parameters are clipped by value: 50.0000.\n",
      "\u001b[36m(ClientAppActor pid=69489)\u001b[0m 07/24/2025 17:04:23:INFO:LocalDpMod: parameters are clipped by value: 50.0000.\n",
      "\u001b[36m(ClientAppActor pid=69489)\u001b[0m \u001b[92mINFO \u001b[0m:      LocalDpMod: local DP noise with 0.2422 stedv added to parameters\n",
      "\u001b[36m(ClientAppActor pid=69489)\u001b[0m 07/24/2025 17:04:24:INFO:LocalDpMod: local DP noise with 0.2422 stedv added to parameters\n",
      "\u001b[92mINFO \u001b[0m:      aggregate_fit: received 3 results and 0 failures\n",
      "/home/emeka/.local/share/uv/python/cpython-3.12.11-linux-x86_64-gnu/lib/python3.12/multiprocessing/popen_fork.py:66: DeprecationWarning: This process (pid=60422) is multi-threaded, use of fork() may lead to deadlocks in the child.\n",
      "  self.pid = os.fork()\n",
      "\u001b[34m\u001b[1mwandb\u001b[0m: Currently logged in as: \u001b[33memyrs\u001b[0m to \u001b[32mhttps://api.wandb.ai\u001b[0m. Use \u001b[1m`wandb login --relogin`\u001b[0m to force relogin\n",
      "/home/emeka/PrivacyBench/.venv/lib/python3.12/site-packages/wandb/analytics/sentry.py:259: DeprecationWarning: The `Scope.user` setter is deprecated in favor of `Scope.set_user()`.\n",
      "  self.scope.user = {\"email\": email}  # noqa\n",
      "/home/emeka/PrivacyBench/.venv/lib/python3.12/site-packages/wandb/analytics/sentry.py:259: DeprecationWarning: The `Scope.user` setter is deprecated in favor of `Scope.set_user()`.\n",
      "  self.scope.user = {\"email\": email}  # noqa\n"
     ]
    },
    {
     "data": {
      "text/html": [
       "Tracking run with wandb version 0.19.11"
      ],
      "text/plain": [
       "<IPython.core.display.HTML object>"
      ]
     },
     "metadata": {},
     "output_type": "display_data"
    },
    {
     "data": {
      "text/html": [
       "Run data is saved locally in <code>/home/emeka/PrivacyBench/logs/wandb/run-20250724_170432-0o129pqw</code>"
      ],
      "text/plain": [
       "<IPython.core.display.HTML object>"
      ]
     },
     "metadata": {},
     "output_type": "display_data"
    },
    {
     "data": {
      "text/html": [
       "Syncing run <strong><a href='https://wandb.ai/MLC-FedML/PrivacyBench/runs/0o129pqw' target=\"_blank\">FL_LDP-Mod_CNN_skin_lesions</a></strong> to <a href='https://wandb.ai/MLC-FedML/PrivacyBench' target=\"_blank\">Weights & Biases</a> (<a href='https://wandb.me/developer-guide' target=\"_blank\">docs</a>)<br>"
      ],
      "text/plain": [
       "<IPython.core.display.HTML object>"
      ]
     },
     "metadata": {},
     "output_type": "display_data"
    },
    {
     "data": {
      "text/html": [
       " View project at <a href='https://wandb.ai/MLC-FedML/PrivacyBench' target=\"_blank\">https://wandb.ai/MLC-FedML/PrivacyBench</a>"
      ],
      "text/plain": [
       "<IPython.core.display.HTML object>"
      ]
     },
     "metadata": {},
     "output_type": "display_data"
    },
    {
     "data": {
      "text/html": [
       " View run at <a href='https://wandb.ai/MLC-FedML/PrivacyBench/runs/0o129pqw' target=\"_blank\">https://wandb.ai/MLC-FedML/PrivacyBench/runs/0o129pqw</a>"
      ],
      "text/plain": [
       "<IPython.core.display.HTML object>"
      ]
     },
     "metadata": {},
     "output_type": "display_data"
    },
    {
     "name": "stderr",
     "output_type": "stream",
     "text": [
      "/home/emeka/.local/share/uv/python/cpython-3.12.11-linux-x86_64-gnu/lib/python3.12/multiprocessing/popen_fork.py:66: DeprecationWarning: This process (pid=60422) is multi-threaded, use of fork() may lead to deadlocks in the child.\n",
      "  self.pid = os.fork()\n"
     ]
    },
    {
     "name": "stdout",
     "output_type": "stream",
     "text": [
      "\n",
      " ___________________________________________________________________________________________________\n",
      "ExperimentName.FL_LDP_MOD_CNN Model Final Evaluation \n",
      "\n",
      "Test Accuracy: 18.34% | Precision: 0.03 | Recall: 0.18 | F1-Score: 0.06 | ROC-AUC: 0.54 | MCC: 0.00\n",
      " \n"
     ]
    },
    {
     "data": {
      "image/png": "[encoded data removed]",
      "text/plain": [
       "<Figure size 1500x600 with 2 Axes>"
      ]
     },
     "metadata": {},
     "output_type": "display_data"
    },
    {
     "name": "stdout",
     "output_type": "stream",
     "text": [
      "\n",
      " ___________________________________________________________________________________________________\n",
      "ExperimentName.FL_LDP_MOD_CNN--skin_lesions Model Classification Report\n",
      "              precision    recall  f1-score   support\n",
      "\n",
      "           0       0.18      1.00      0.31       853\n",
      "           1       0.00      0.00      0.00      2242\n",
      "           2       0.00      0.00      0.00       674\n",
      "           3       0.00      0.00      0.00       155\n",
      "           4       0.00      0.00      0.00       476\n",
      "           5       0.00      0.00      0.00        55\n",
      "           6       0.00      0.00      0.00        52\n",
      "           7       0.00      0.00      0.00       143\n",
      "\n",
      "    accuracy                           0.18      4650\n",
      "   macro avg       0.02      0.12      0.04      4650\n",
      "weighted avg       0.03      0.18      0.06      4650\n",
      "\n",
      "___________________________________________________________________________________________________\n",
      "\n",
      "📊 Consolidated Metrics:\n",
      "⏱️ Total Duration: 5023.79 sec\n",
      "✅ Total Energy: 0.06944 kWh\n",
      "🌍 Total CO₂ Emitted: 0.02986 kg\n",
      "🧠 Peak CPU RAM: 0.3409 GB\n",
      "🖥️ Peak GPU VRAM: 13.6775 GB\n",
      "\n",
      " ___________________________________________________________________________________________________\n"
     ]
    },
    {
     "data": {
      "text/html": [],
      "text/plain": [
       "<IPython.core.display.HTML object>"
      ]
     },
     "metadata": {},
     "output_type": "display_data"
    },
    {
     "data": {
      "text/html": [
       "<br>    <style><br>        .wandb-row {<br>            display: flex;<br>            flex-direction: row;<br>            flex-wrap: wrap;<br>            justify-content: flex-start;<br>            width: 100%;<br>        }<br>        .wandb-col {<br>            display: flex;<br>            flex-direction: column;<br>            flex-basis: 100%;<br>            flex: 1;<br>            padding: 10px;<br>        }<br>    </style><br><div class=\"wandb-row\"><div class=\"wandb-col\"><h3>Run history:</h3><br/><table class=\"wandb\"><tr><td>Accuracy</td><td>▁</td></tr><tr><td>F1-Score</td><td>▁</td></tr><tr><td>MCC</td><td>▁</td></tr><tr><td>Peak FL CPU RAM (GB)</td><td>▁</td></tr><tr><td>Peak FL GPU VRAM (GB)</td><td>▁</td></tr><tr><td>Precision</td><td>▁</td></tr><tr><td>ROC-AUC</td><td>▁</td></tr><tr><td>Recall</td><td>▁</td></tr><tr><td>Total FL CO2 Emitted (kg)</td><td>▁</td></tr><tr><td>Total FL Duration (sec)</td><td>▁</td></tr><tr><td>Total FL Energy (kWh)</td><td>▁</td></tr></table><br/></div><div class=\"wandb-col\"><h3>Run summary:</h3><br/><table class=\"wandb\"><tr><td>Accuracy</td><td>0.18</td></tr><tr><td>Experiment Name</td><td>FL_LDP-Mod_CNN</td></tr><tr><td>F1-Score</td><td>0.06</td></tr><tr><td>MCC</td><td>0</td></tr><tr><td>Model</td><td>FL + LDP-Mod (CNN)</td></tr><tr><td>Peak FL CPU RAM (GB)</td><td>0.34094</td></tr><tr><td>Peak FL GPU VRAM (GB)</td><td>13.6775</td></tr><tr><td>Precision</td><td>0.03</td></tr><tr><td>ROC-AUC</td><td>0.54</td></tr><tr><td>Recall</td><td>0.18</td></tr><tr><td>Total FL CO2 Emitted (kg)</td><td>0.02986</td></tr><tr><td>Total FL Duration (sec)</td><td>5023.78933</td></tr><tr><td>Total FL Energy (kWh)</td><td>0.06944</td></tr></table><br/></div></div>"
      ],
      "text/plain": [
       "<IPython.core.display.HTML object>"
      ]
     },
     "metadata": {},
     "output_type": "display_data"
    },
    {
     "data": {
      "text/html": [
       " View run <strong style=\"color:#cdcd00\">FL_LDP-Mod_CNN_skin_lesions</strong> at: <a href='https://wandb.ai/MLC-FedML/PrivacyBench/runs/0o129pqw' target=\"_blank\">https://wandb.ai/MLC-FedML/PrivacyBench/runs/0o129pqw</a><br> View project at: <a href='https://wandb.ai/MLC-FedML/PrivacyBench' target=\"_blank\">https://wandb.ai/MLC-FedML/PrivacyBench</a><br>Synced 5 W&B file(s), 0 media file(s), 0 artifact file(s) and 0 other file(s)"
      ],
      "text/plain": [
       "<IPython.core.display.HTML object>"
      ]
     },
     "metadata": {},
     "output_type": "display_data"
    },
    {
     "data": {
      "text/html": [
       "Find logs at: <code>/home/emeka/PrivacyBench/logs/wandb/run-20250724_170432-0o129pqw/logs</code>"
      ],
      "text/plain": [
       "<IPython.core.display.HTML object>"
      ]
     },
     "metadata": {},
     "output_type": "display_data"
    },
    {
     "name": "stderr",
     "output_type": "stream",
     "text": [
      "/home/emeka/PrivacyBench/.venv/lib/python3.12/site-packages/codecarbon/output_methods/file.py:52: FutureWarning: The behavior of DataFrame concatenation with empty or all-NA entries is deprecated. In a future version, this will no longer exclude empty or all-NA columns when determining the result dtypes. To retain the old behavior, exclude the relevant entries before the concat operation.\n",
      "  df = pd.concat([df, pd.DataFrame.from_records([dict(total.values)])])\n",
      "\u001b[92mINFO \u001b[0m:      fit progress: (5, nan, {'accuracy': 0.18344086021505376}, 1123.0592087599998)\n",
      "\u001b[92mINFO \u001b[0m:      configure_evaluate: strategy sampled 3 clients (out of 3)\n",
      "\u001b[36m(ClientAppActor pid=69489)\u001b[0m /home/emeka/.local/share/uv/python/cpython-3.12.11-linux-x86_64-gnu/lib/python3.12/multiprocessing/popen_fork.py:66: DeprecationWarning: This process (pid=69489) is multi-threaded, use of fork() may lead to deadlocks in the child.\n",
      "\u001b[36m(ClientAppActor pid=69489)\u001b[0m   self.pid = os.fork()\n",
      "\u001b[92mINFO \u001b[0m:      aggregate_evaluate: received 3 results and 0 failures\n",
      "\u001b[92mINFO \u001b[0m:      \n",
      "\u001b[92mINFO \u001b[0m:      [SUMMARY]\n",
      "\u001b[92mINFO \u001b[0m:      Run finished 5 round(s) in 1125.28s\n",
      "\u001b[92mINFO \u001b[0m:      \tHistory (loss, distributed):\n",
      "\u001b[92mINFO \u001b[0m:      \t\tround 1: nan\n",
      "\u001b[92mINFO \u001b[0m:      \t\tround 2: nan\n",
      "\u001b[92mINFO \u001b[0m:      \t\tround 3: nan\n",
      "\u001b[92mINFO \u001b[0m:      \t\tround 4: nan\n",
      "\u001b[92mINFO \u001b[0m:      \t\tround 5: nan\n",
      "\u001b[92mINFO \u001b[0m:      \tHistory (loss, centralized):\n",
      "\u001b[92mINFO \u001b[0m:      \t\tround 0: 2.219808958164633\n",
      "\u001b[92mINFO \u001b[0m:      \t\tround 1: nan\n",
      "\u001b[92mINFO \u001b[0m:      \t\tround 2: nan\n",
      "\u001b[92mINFO \u001b[0m:      \t\tround 3: nan\n",
      "\u001b[92mINFO \u001b[0m:      \t\tround 4: nan\n",
      "\u001b[92mINFO \u001b[0m:      \t\tround 5: nan\n",
      "\u001b[92mINFO \u001b[0m:      \tHistory (metrics, distributed, evaluate):\n",
      "\u001b[92mINFO \u001b[0m:      \t{'accuracy': [(1, 0.1821236559139785),\n",
      "\u001b[92mINFO \u001b[0m:      \t              (2, 0.1821236559139785),\n",
      "\u001b[92mINFO \u001b[0m:      \t              (3, 0.1821236559139785),\n",
      "\u001b[92mINFO \u001b[0m:      \t              (4, 0.1821236559139785),\n",
      "\u001b[92mINFO \u001b[0m:      \t              (5, 0.1821236559139785)]}\n",
      "\u001b[92mINFO \u001b[0m:      \tHistory (metrics, centralized):\n",
      "\u001b[92mINFO \u001b[0m:      \t{'accuracy': [(0, 0.09247311827956989),\n",
      "\u001b[92mINFO \u001b[0m:      \t              (1, 0.18344086021505376),\n",
      "\u001b[92mINFO \u001b[0m:      \t              (2, 0.18344086021505376),\n",
      "\u001b[92mINFO \u001b[0m:      \t              (3, 0.18344086021505376),\n",
      "\u001b[92mINFO \u001b[0m:      \t              (4, 0.18344086021505376),\n",
      "\u001b[92mINFO \u001b[0m:      \t              (5, 0.18344086021505376)]}\n",
      "\u001b[92mINFO \u001b[0m:      \n",
      "\u001b[36m(ClientAppActor pid=69490)\u001b[0m /home/emeka/.local/share/uv/python/cpython-3.12.11-linux-x86_64-gnu/lib/python3.12/multiprocessing/popen_fork.py:66: DeprecationWarning: This process (pid=69490) is multi-threaded, use of fork() may lead to deadlocks in the child.\n",
      "\u001b[36m(ClientAppActor pid=69490)\u001b[0m   self.pid = os.fork()\n"
     ]
    },
    {
     "name": "stdout",
     "output_type": "stream",
     "text": [
      "\n",
      "🕒 Total Time: 18 min 57 sec\n"
     ]
    }
   ],
   "source": [
    "project_root =  os.path.abspath(\"../..\")\n",
    "\n",
    "ray.shutdown()\n",
    "\n",
    "ray.init(\n",
    "    _temp_dir=str(RAY_LOG_DIR),\n",
    "    runtime_env={\n",
    "        \"env_vars\": {\n",
    "            \"PYTHONWARNINGS\": \"ignore::DeprecationWarning\",  # More specific warning filter\n",
    "            \"OMP_NUM_THREADS\": \"1\"  # Prevents thread oversubscription\n",
    "        },\n",
    "        \"working_dir\": project_root,\n",
    "        'excludes': ['data', '.cache', '.docker', '.local', 'logs/model']\n",
    "    },\n",
    "    ignore_reinit_error=True\n",
    ")\n",
    "\n",
    "start_time = time.perf_counter()\n",
    "\n",
    "run_simulation(\n",
    "    server_app = server,\n",
    "    client_app = client,\n",
    "    num_supernodes = fed_config.get(\"num_clients\"),\n",
    "    backend_config=backend_setup\n",
    ")\n",
    "\n",
    "\n",
    "end_time = time.perf_counter()\n",
    "duration = end_time - start_time\n",
    "print(f\"\\n🕒 Total Time: {duration // 60:.0f} min {duration % 60:.0f} sec\")\n",
    "\n",
    "ray.shutdown()"
   ]
  },
  {
   "cell_type": "code",
   "execution_count": null,
   "id": "6edd376b",
   "metadata": {},
   "outputs": [],
   "source": []
  }
 ],
 "metadata": {
  "kernelspec": {
   "display_name": "privacybench",
   "language": "python",
   "name": "python3"
  },
  "language_info": {
   "codemirror_mode": {
    "name": "ipython",
    "version": 3
   },
   "file_extension": ".py",
   "mimetype": "text/x-python",
   "name": "python",
   "nbconvert_exporter": "python",
   "pygments_lexer": "ipython3",
   "version": "3.12.11"
  }
 },
 "nbformat": 4,
 "nbformat_minor": 5
}
