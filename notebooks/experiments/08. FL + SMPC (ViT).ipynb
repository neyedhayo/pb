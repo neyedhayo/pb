{
 "cells": [
  {
   "cell_type": "markdown",
   "id": "e7ae9ee7",
   "metadata": {},
   "source": [
    "# <center>Federated Learning & Secure Multi-Party Computation</center>"
   ]
  },
  {
   "cell_type": "markdown",
   "id": "58a0b7b3",
   "metadata": {},
   "source": [
    "\n",
    "## Assessing FL + SMPC for PrivacyBench with Vision Transformers  \n",
    "\n",
    "As a pivotal component of the PrivacyBench framework, this implementation evaluates Federated Learning (FL) enhanced with Secure Multi-Party Computation (SMPC) using Vision Transformers (ViT). This quantifies the privacy-utility trade-offs in decentralized AI by integrating FL (data privacy) with SMPC (computation privacy), serving as a key benchmark for:  \n",
    "\n",
    "- **Model Performance**: Accuracy impact of encrypted gradient aggregation in transformer architectures.  \n",
    "- **Computational Cost**: Training latency and memory overhead from SMPC-secured self-attention mechanisms.  \n",
    "- **Energy Efficiency**: kWh/$CO{_2}$ footprint of privacy-preserving distributed transformer training.  \n",
    "\n",
    "----"
   ]
  },
  {
   "cell_type": "code",
   "execution_count": 1,
   "id": "3a393691",
   "metadata": {},
   "outputs": [
    {
     "name": "stdout",
     "output_type": "stream",
     "text": [
      "Python implementation: CPython\n",
      "Python version       : 3.12.10\n",
      "IPython version      : 9.1.0\n",
      "\n",
      "torch: 2.6.0\n",
      "flwr : 1.18.0\n",
      "\n"
     ]
    }
   ],
   "source": [
    "%load_ext autoreload\n",
    "%load_ext watermark\n",
    "    \n",
    "%autoreload 2\n",
    "%watermark --python -p torch,flwr"
   ]
  },
  {
   "cell_type": "markdown",
   "id": "89b3c9f5",
   "metadata": {},
   "source": [
    "--------\n",
    "\n",
    "## Loading Dependencies"
   ]
  },
  {
   "cell_type": "code",
   "execution_count": 2,
   "id": "92ecfc62",
   "metadata": {},
   "outputs": [],
   "source": [
    "import os\n",
    "import sys\n",
    "sys.path.append(\"../..\")\n",
    "\n",
    "import ray\n",
    "import time\n",
    "\n",
    "import torch.nn as nn\n",
    "from transformers import ViTForImageClassification\n",
    "\n",
    "from logging import ERROR\n",
    "\n",
    "from flwr.common import Context \n",
    "from flwr.client import Client, ClientApp\n",
    "from flwr.client.mod import secaggplus_mod\n",
    "from flwr.simulation import run_simulation\n",
    "\n",
    "from src.config import ExperimentName\n",
    "from src.paths import RAY_LOG_DIR\n",
    "from src.FL_client import MedicalImageClient\n",
    "from src.FL_server import weighted_average, build_evaluate_fn, build_server_app\n",
    "from src.local_utility import load_yaml_config, set_device, prepare_FL_dataset\n",
    "\n",
    "from src.tracker import reset_base_memory_csv"
   ]
  },
  {
   "cell_type": "markdown",
   "id": "9ccb4f19",
   "metadata": {},
   "source": [
    "---"
   ]
  },
  {
   "cell_type": "code",
   "execution_count": 3,
   "id": "876f9df6",
   "metadata": {},
   "outputs": [],
   "source": [
    "## Replace with appropritate values\n",
    "\n",
    "data_name_ = \"skin_lesions\" #\"alzheimer\" #\n",
    "base_type_ = \"vit\"\n",
    "num_labels_ = 8 #Alzheimer-4 & skin_lesions-8 classlabels\n",
    "exp_name_ = \"SMPC\"\n",
    "experiment_name_ = ExperimentName.FL_SMPC_VIT"
   ]
  },
  {
   "cell_type": "code",
   "execution_count": 4,
   "id": "52afd62c",
   "metadata": {},
   "outputs": [],
   "source": [
    "DEVICE = set_device()\n",
    "reset_base_memory_csv() \n",
    "\n",
    "fed_config = load_yaml_config(key=\"experiments\", item_name=experiment_name_)\n",
    "client_dataloaders = prepare_FL_dataset(exp_name = exp_name_, data_name=data_name_, base_type=base_type_, augment_data=True) "
   ]
  },
  {
   "cell_type": "markdown",
   "id": "a304b396",
   "metadata": {},
   "source": [
    "--- "
   ]
  },
  {
   "cell_type": "code",
   "execution_count": 5,
   "id": "358cb9be",
   "metadata": {},
   "outputs": [],
   "source": [
    "def client_fn(context: Context) -> Client:\n",
    "    \"\"\"\n",
    "    Creates and initializes a federated learning client.\n",
    "\n",
    "    This function initializes a client in the federated learning setup by \n",
    "    assigning a unique partitioned dataset and a machine learning model \n",
    "    for training and validation.\n",
    "\n",
    "    Args:\n",
    "        context (Context): The execution context containing client-specific configurations.\n",
    "\n",
    "    Returns:\n",
    "        Client: A configured federated learning client ready to participate in training.\n",
    "    \"\"\"\n",
    "    partition_id = int(context.node_config[\"partition-id\"]) #<--- Get the client partition ID\n",
    "    \n",
    "    model = ViTForImageClassification.from_pretrained(\"google/vit-base-patch16-224-in21k\", \n",
    "                                                      num_labels=num_labels_, \n",
    "                                                      ignore_mismatched_sizes=True\n",
    "                                                      )\n",
    "\n",
    "    # Assign partitioned client dataset\n",
    "    train_loader, val_loader, test_loader = client_dataloaders[partition_id]\n",
    "    \n",
    "    return MedicalImageClient(model, train_loader, val_loader, exp_name=exp_name_, data_name= data_name_, base_type=base_type_, client_id=partition_id).to_client()\n",
    "\n",
    "client = ClientApp(client_fn, mods=[secaggplus_mod])"
   ]
  },
  {
   "cell_type": "code",
   "execution_count": 6,
   "id": "2713a2a5",
   "metadata": {},
   "outputs": [],
   "source": [
    "server = build_server_app(\n",
    "    evaluate_fn=build_evaluate_fn(    #<--- Global evaluation function\n",
    "            exp_name = exp_name_, \n",
    "            base_type = base_type_,\n",
    "            data_name=data_name_, \n",
    "            experiment_item=experiment_name_, \n",
    "            num_labels=num_labels_\n",
    "            ),\n",
    "    metrics_fn=weighted_average,\n",
    "    fed_config= fed_config,\n",
    "    base_type=base_type_,\n",
    "    num_labels= num_labels_\n",
    ")\n"
   ]
  },
  {
   "cell_type": "markdown",
   "id": "54371dab",
   "metadata": {},
   "source": [
    "----- \n",
    "\n",
    "Set up our backend configurations before running the simulation\n",
    "\n",
    "> - `init_args`: filter logging coming from the Simulation Engine so it's more readable in notebooks\n",
    "> - `client_resources`: by default it's assumed this notebook will be ran with a compute, hence allocate to each client 2x CPU and 1 x GPUs."
   ]
  },
  {
   "cell_type": "code",
   "execution_count": 7,
   "id": "a9c615d1",
   "metadata": {},
   "outputs": [],
   "source": [
    "backend_setup = {\n",
    "    \"init_args\": {\n",
    "        \"logging_level\": ERROR, \n",
    "        \"log_to_driver\": fed_config.get(\"log_to_driver\")\n",
    "    },\n",
    "    \"client_resources\": {\n",
    "        \"num_cpus\": fed_config.get(\"num_cpus\"), \n",
    "        \"num_gpus\": fed_config.get(\"num_gpus\")            \n",
    "    },\n",
    "}\n",
    "\n",
    "# When running on GPU, assign an entire GPU for each client\n",
    "if DEVICE == \"cuda\": \n",
    "    backend_setup[\"client_resources\"] = {\"num_cpus\": 2, \"num_gpus\": 1}"
   ]
  },
  {
   "cell_type": "markdown",
   "id": "7c5c6bee",
   "metadata": {},
   "source": [
    "--- \n",
    "\n",
    "## Initiate the Simulation \n",
    "\n",
    "Initiate the simulation by passing the server and client apps, and specify the number of supernodes that will be selected on every round. "
   ]
  },
  {
   "cell_type": "code",
   "execution_count": 8,
   "id": "bece3de2",
   "metadata": {},
   "outputs": [
    {
     "name": "stderr",
     "output_type": "stream",
     "text": [
      "2025-05-15 04:17:54,393\tINFO worker.py:1771 -- Started a local Ray instance.\n",
      "2025-05-15 04:17:55,363\tINFO packaging.py:530 -- Creating a file package for local directory '/home/emeka/PrivacyBench'.\n",
      "2025-05-15 04:17:56,043\tINFO packaging.py:358 -- Pushing file package 'gcs://_ray_pkg_b1063e376806f040.zip' (25.79MiB) to Ray cluster...\n",
      "2025-05-15 04:17:56,121\tINFO packaging.py:371 -- Successfully pushed file package 'gcs://_ray_pkg_b1063e376806f040.zip'.\n",
      "05/15/2025 04:17:57:DEBUG:Asyncio event loop already running.\n",
      "Some weights of ViTForImageClassification were not initialized from the model checkpoint at google/vit-base-patch16-224-in21k and are newly initialized: ['classifier.bias', 'classifier.weight']\n",
      "You should probably TRAIN this model on a down-stream task to be able to use it for predictions and inference.\n",
      "\u001b[92mINFO \u001b[0m:      [INIT]\n",
      "\u001b[92mINFO \u001b[0m:      Using initial global parameters provided by strategy\n",
      "\u001b[92mINFO \u001b[0m:      Starting evaluation of initial global parameters\n",
      "[codecarbon WARNING @ 04:18:01] Multiple instances of codecarbon are allowed to run at the same time.\n",
      "Some weights of ViTForImageClassification were not initialized from the model checkpoint at google/vit-base-patch16-224-in21k and are newly initialized: ['classifier.bias', 'classifier.weight']\n",
      "You should probably TRAIN this model on a down-stream task to be able to use it for predictions and inference.\n",
      "/home/emeka/.local/share/uv/python/cpython-3.12.10-linux-x86_64-gnu/lib/python3.12/multiprocessing/popen_fork.py:66: DeprecationWarning: This process (pid=17592) is multi-threaded, use of fork() may lead to deadlocks in the child.\n",
      "  self.pid = os.fork()\n",
      "/home/emeka/PrivacyBench/notebooks/experiments/../../src/tracker.py:89: FutureWarning: The behavior of DataFrame concatenation with empty or all-NA entries is deprecated. In a future version, this will no longer exclude empty or all-NA columns when determining the result dtypes. To retain the old behavior, exclude the relevant entries before the concat operation.\n",
      "  df = pd.concat([df, pd.DataFrame([new_row])], ignore_index=True)\n",
      "\u001b[92mINFO \u001b[0m:      initial parameters (loss, other metrics): 2.120380860485443, {'accuracy': 0.0643010752688172}\n",
      "\u001b[92mINFO \u001b[0m:      \n",
      "\u001b[92mINFO \u001b[0m:      [ROUND 1]\n",
      "\u001b[92mINFO \u001b[0m:      Secure aggregation commencing.\n",
      "\u001b[92mINFO \u001b[0m:      configure_fit: strategy sampled 3 clients (out of 3)\n",
      "\u001b[94mDEBUG \u001b[0m:     [Stage 0] Sending configurations to 3 clients.\n",
      "\u001b[36m(ClientAppActor pid=19792)\u001b[0m 05/15/2025 04:18:58:DEBUG:Node 11730319794011054585: starting stage 0...\n",
      "\u001b[36m(ClientAppActor pid=19792)\u001b[0m 05/15/2025 04:18:58:DEBUG:Node 11730319794011054585: stage 0 completes. uploading public keys...\n",
      "\u001b[94mDEBUG \u001b[0m:     [Stage 0] Received public keys from 3 clients.\n",
      "\u001b[94mDEBUG \u001b[0m:     [Stage 1] Forwarding public keys to 3 clients.\n",
      "\u001b[36m(ClientAppActor pid=19793)\u001b[0m 05/15/2025 04:18:58:DEBUG:Node 11730319794011054585: stage 1 completes. uploading key shares...\n",
      "\u001b[94mDEBUG \u001b[0m:     [Stage 1] Received encrypted key shares from 3 clients.\n",
      "\u001b[94mDEBUG \u001b[0m:     [Stage 2] Forwarding encrypted key shares to 3 clients.\n",
      "\u001b[36m(ClientAppActor pid=19793)\u001b[0m Some weights of ViTForImageClassification were not initialized from the model checkpoint at google/vit-base-patch16-224-in21k and are newly initialized: ['classifier.bias', 'classifier.weight']\n",
      "\u001b[36m(ClientAppActor pid=19793)\u001b[0m You should probably TRAIN this model on a down-stream task to be able to use it for predictions and inference.\n",
      "\u001b[36m(ClientAppActor pid=19793)\u001b[0m Seed set to 42\n",
      "\u001b[36m(ClientAppActor pid=19793)\u001b[0m [codecarbon WARNING @ 04:19:01] Multiple instances of codecarbon are allowed to run at the same time.\n",
      "\u001b[36m(ClientAppActor pid=19793)\u001b[0m /home/emeka/.local/share/uv/python/cpython-3.12.10-linux-x86_64-gnu/lib/python3.12/multiprocessing/popen_fork.py:66: DeprecationWarning: This process (pid=19793) is multi-threaded, use of fork() may lead to deadlocks in the child.\n",
      "\u001b[36m(ClientAppActor pid=19793)\u001b[0m   self.pid = os.fork()\n",
      "\u001b[36m(ClientAppActor pid=19792)\u001b[0m 05/15/2025 04:18:58:DEBUG:Node 11704132015188090490: starting stage 1...\u001b[32m [repeated 5x across cluster] (Ray deduplicates logs by default. Set RAY_DEDUP_LOGS=0 to disable log deduplication, or see https://docs.ray.io/en/master/ray-observability/user-guides/configure-logging.html#log-deduplication for more options.)\u001b[0m\n",
      "\u001b[36m(ClientAppActor pid=19792)\u001b[0m 05/15/2025 04:18:58:DEBUG:Node 11704132015188090490: stage 0 completes. uploading public keys...\u001b[32m [repeated 2x across cluster]\u001b[0m\n",
      "\u001b[36m(ClientAppActor pid=19792)\u001b[0m 05/15/2025 04:18:58:DEBUG:Node 11704132015188090490: stage 1 completes. uploading key shares...\u001b[32m [repeated 2x across cluster]\u001b[0m\n",
      "\u001b[36m(ClientAppActor pid=19792)\u001b[0m Some weights of ViTForImageClassification were not initialized from the model checkpoint at google/vit-base-patch16-224-in21k and are newly initialized: ['classifier.bias', 'classifier.weight']\n",
      "\u001b[36m(ClientAppActor pid=19792)\u001b[0m You should probably TRAIN this model on a down-stream task to be able to use it for predictions and inference.\n",
      "\u001b[36m(ClientAppActor pid=19792)\u001b[0m Seed set to 42\n",
      "\u001b[36m(ClientAppActor pid=19792)\u001b[0m [codecarbon WARNING @ 04:19:01] Multiple instances of codecarbon are allowed to run at the same time.\n",
      "\u001b[36m(ClientAppActor pid=19793)\u001b[0m /home/emeka/.local/share/uv/python/cpython-3.12.10-linux-x86_64-gnu/lib/python3.12/multiprocessing/popen_fork.py:66: DeprecationWarning: This process (pid=19793) is multi-threaded, use of fork() may lead to deadlocks in the child.\u001b[32m [repeated 2x across cluster]\u001b[0m\n",
      "\u001b[36m(ClientAppActor pid=19793)\u001b[0m   self.pid = os.fork()\u001b[32m [repeated 2x across cluster]\u001b[0m\n",
      "\u001b[36m(ClientAppActor pid=19793)\u001b[0m /home/emeka/.local/share/uv/python/cpython-3.12.10-linux-x86_64-gnu/lib/python3.12/multiprocessing/popen_fork.py:66: DeprecationWarning: This process (pid=19793) is multi-threaded, use of fork() may lead to deadlocks in the child.\u001b[32m [repeated 2x across cluster]\u001b[0m\n",
      "\u001b[36m(ClientAppActor pid=19793)\u001b[0m   self.pid = os.fork()\u001b[32m [repeated 2x across cluster]\u001b[0m\n",
      "\u001b[36m(ClientAppActor pid=19793)\u001b[0m /home/emeka/.local/share/uv/python/cpython-3.12.10-linux-x86_64-gnu/lib/python3.12/multiprocessing/popen_fork.py:66: DeprecationWarning: This process (pid=19793) is multi-threaded, use of fork() may lead to deadlocks in the child.\u001b[32m [repeated 2x across cluster]\u001b[0m\n",
      "\u001b[36m(ClientAppActor pid=19793)\u001b[0m   self.pid = os.fork()\u001b[32m [repeated 2x across cluster]\u001b[0m\n",
      "\u001b[36m(ClientAppActor pid=19793)\u001b[0m /home/emeka/.local/share/uv/python/cpython-3.12.10-linux-x86_64-gnu/lib/python3.12/multiprocessing/popen_fork.py:66: DeprecationWarning: This process (pid=19793) is multi-threaded, use of fork() may lead to deadlocks in the child.\u001b[32m [repeated 2x across cluster]\u001b[0m\n",
      "\u001b[36m(ClientAppActor pid=19793)\u001b[0m   self.pid = os.fork()\u001b[32m [repeated 2x across cluster]\u001b[0m\n",
      "\u001b[36m(ClientAppActor pid=19792)\u001b[0m /home/emeka/.local/share/uv/python/cpython-3.12.10-linux-x86_64-gnu/lib/python3.12/multiprocessing/popen_fork.py:66: DeprecationWarning: This process (pid=19792) is multi-threaded, use of fork() may lead to deadlocks in the child.\u001b[32m [repeated 2x across cluster]\u001b[0m\n",
      "\u001b[36m(ClientAppActor pid=19792)\u001b[0m   self.pid = os.fork()\u001b[32m [repeated 2x across cluster]\u001b[0m\n",
      "\u001b[36m(ClientAppActor pid=19793)\u001b[0m /home/emeka/.local/share/uv/python/cpython-3.12.10-linux-x86_64-gnu/lib/python3.12/multiprocessing/popen_fork.py:66: DeprecationWarning: This process (pid=19793) is multi-threaded, use of fork() may lead to deadlocks in the child.\u001b[32m [repeated 2x across cluster]\u001b[0m\n",
      "\u001b[36m(ClientAppActor pid=19793)\u001b[0m   self.pid = os.fork()\u001b[32m [repeated 2x across cluster]\u001b[0m\n"
     ]
    },
    {
     "name": "stdout",
     "output_type": "stream",
     "text": [
      "\u001b[36m(ClientAppActor pid=19792)\u001b[0m \n",
      "\u001b[36m(ClientAppActor pid=19792)\u001b[0m 🔎 Tracker: FL + SMPC (ViT)\n",
      "\u001b[36m(ClientAppActor pid=19792)\u001b[0m 📁 Logs saved to: /home/emeka/PrivacyBench/logs/emissions/skin_lesions/FL_SMPC_ViT/client_emissions.csv\n",
      "\u001b[36m(ClientAppActor pid=19792)\u001b[0m ⏱️ Total training time: 8 minutes 59 seconds\n"
     ]
    },
    {
     "name": "stderr",
     "output_type": "stream",
     "text": [
      "\u001b[36m(ClientAppActor pid=19792)\u001b[0m 05/15/2025 04:28:01:DEBUG:Node 7253359150554047717: starting stage 2...\n",
      "\u001b[36m(ClientAppActor pid=19792)\u001b[0m /home/emeka/.local/share/uv/python/cpython-3.12.10-linux-x86_64-gnu/lib/python3.12/multiprocessing/popen_fork.py:66: DeprecationWarning: This process (pid=19792) is multi-threaded, use of fork() may lead to deadlocks in the child.\n",
      "\u001b[36m(ClientAppActor pid=19792)\u001b[0m   self.pid = os.fork()\n"
     ]
    },
    {
     "name": "stdout",
     "output_type": "stream",
     "text": [
      "\u001b[36m(ClientAppActor pid=19793)\u001b[0m \n"
     ]
    },
    {
     "name": "stderr",
     "output_type": "stream",
     "text": [
      "\u001b[36m(ClientAppActor pid=19792)\u001b[0m 05/15/2025 04:28:06:DEBUG:Node 7253359150554047717: stage 2 completed, uploading masked parameters...\n",
      "\u001b[36m(ClientAppActor pid=19793)\u001b[0m 05/15/2025 04:28:04:DEBUG:Node 11730319794011054585: starting stage 2...\n",
      "\u001b[36m(ClientAppActor pid=19792)\u001b[0m Some weights of ViTForImageClassification were not initialized from the model checkpoint at google/vit-base-patch16-224-in21k and are newly initialized: ['classifier.bias', 'classifier.weight']\n",
      "\u001b[36m(ClientAppActor pid=19792)\u001b[0m You should probably TRAIN this model on a down-stream task to be able to use it for predictions and inference.\n",
      "\u001b[36m(ClientAppActor pid=19792)\u001b[0m Seed set to 42\n",
      "\u001b[36m(ClientAppActor pid=19792)\u001b[0m /home/emeka/.local/share/uv/python/cpython-3.12.10-linux-x86_64-gnu/lib/python3.12/multiprocessing/popen_fork.py:66: DeprecationWarning: This process (pid=19792) is multi-threaded, use of fork() may lead to deadlocks in the child.\n",
      "\u001b[36m(ClientAppActor pid=19792)\u001b[0m   self.pid = os.fork()\n",
      "\u001b[36m(ClientAppActor pid=19792)\u001b[0m /home/emeka/.local/share/uv/python/cpython-3.12.10-linux-x86_64-gnu/lib/python3.12/multiprocessing/popen_fork.py:66: DeprecationWarning: This process (pid=19792) is multi-threaded, use of fork() may lead to deadlocks in the child.\n",
      "\u001b[36m(ClientAppActor pid=19792)\u001b[0m   self.pid = os.fork()\n",
      "\u001b[36m(ClientAppActor pid=19793)\u001b[0m 05/15/2025 04:28:09:DEBUG:Node 11730319794011054585: stage 2 completed, uploading masked parameters...\n",
      "\u001b[36m(ClientAppActor pid=19792)\u001b[0m /home/emeka/.local/share/uv/python/cpython-3.12.10-linux-x86_64-gnu/lib/python3.12/multiprocessing/popen_fork.py:66: DeprecationWarning: This process (pid=19792) is multi-threaded, use of fork() may lead to deadlocks in the child.\n",
      "\u001b[36m(ClientAppActor pid=19792)\u001b[0m   self.pid = os.fork()\n",
      "\u001b[36m(ClientAppActor pid=19792)\u001b[0m /home/emeka/.local/share/uv/python/cpython-3.12.10-linux-x86_64-gnu/lib/python3.12/multiprocessing/popen_fork.py:66: DeprecationWarning: This process (pid=19792) is multi-threaded, use of fork() may lead to deadlocks in the child.\n",
      "\u001b[36m(ClientAppActor pid=19792)\u001b[0m   self.pid = os.fork()\n",
      "\u001b[36m(ClientAppActor pid=19792)\u001b[0m /home/emeka/.local/share/uv/python/cpython-3.12.10-linux-x86_64-gnu/lib/python3.12/multiprocessing/popen_fork.py:66: DeprecationWarning: This process (pid=19792) is multi-threaded, use of fork() may lead to deadlocks in the child.\n",
      "\u001b[36m(ClientAppActor pid=19792)\u001b[0m   self.pid = os.fork()\n",
      "\u001b[36m(ClientAppActor pid=19792)\u001b[0m /home/emeka/.local/share/uv/python/cpython-3.12.10-linux-x86_64-gnu/lib/python3.12/multiprocessing/popen_fork.py:66: DeprecationWarning: This process (pid=19792) is multi-threaded, use of fork() may lead to deadlocks in the child.\n",
      "\u001b[36m(ClientAppActor pid=19792)\u001b[0m   self.pid = os.fork()\n",
      "\u001b[36m(ClientAppActor pid=19792)\u001b[0m /home/emeka/.local/share/uv/python/cpython-3.12.10-linux-x86_64-gnu/lib/python3.12/multiprocessing/popen_fork.py:66: DeprecationWarning: This process (pid=19792) is multi-threaded, use of fork() may lead to deadlocks in the child.\n",
      "\u001b[36m(ClientAppActor pid=19792)\u001b[0m   self.pid = os.fork()\n"
     ]
    },
    {
     "name": "stdout",
     "output_type": "stream",
     "text": [
      "\u001b[36m(ClientAppActor pid=19792)\u001b[0m \n",
      "\u001b[36m(ClientAppActor pid=19792)\u001b[0m 🔎 Tracker: FL + SMPC (ViT)\u001b[32m [repeated 2x across cluster]\u001b[0m\n",
      "\u001b[36m(ClientAppActor pid=19792)\u001b[0m 📁 Logs saved to: /home/emeka/PrivacyBench/logs/emissions/skin_lesions/FL_SMPC_ViT/client_emissions.csv\u001b[32m [repeated 2x across cluster]\u001b[0m\n",
      "\u001b[36m(ClientAppActor pid=19792)\u001b[0m ⏱️ Total training time: 9 minutes 7 seconds\u001b[32m [repeated 2x across cluster]\u001b[0m\n"
     ]
    },
    {
     "name": "stderr",
     "output_type": "stream",
     "text": [
      "\u001b[36m(ClientAppActor pid=19792)\u001b[0m 05/15/2025 04:37:17:DEBUG:Node 11704132015188090490: starting stage 2...\n",
      "\u001b[36m(ClientAppActor pid=19792)\u001b[0m 05/15/2025 04:37:22:DEBUG:Node 11704132015188090490: stage 2 completed, uploading masked parameters...\n",
      "\u001b[94mDEBUG \u001b[0m:     [Stage 2] Received masked vectors from 3 clients.\n",
      "\u001b[94mDEBUG \u001b[0m:     [Stage 3] Requesting key shares from 3 clients to remove masks.\n",
      "\u001b[36m(ClientAppActor pid=19793)\u001b[0m 05/15/2025 04:37:26:DEBUG:Node 11730319794011054585: starting stage 3...\n",
      "\u001b[36m(ClientAppActor pid=19793)\u001b[0m 05/15/2025 04:37:26:DEBUG:Node 11730319794011054585: stage 3 completes. uploading key shares...\n",
      "\u001b[36m(ClientAppActor pid=19793)\u001b[0m 05/15/2025 04:37:26:DEBUG:Node 11704132015188090490: starting stage 3...\n",
      "\u001b[36m(ClientAppActor pid=19793)\u001b[0m 05/15/2025 04:37:26:DEBUG:Node 11704132015188090490: stage 3 completes. uploading key shares...\n",
      "\u001b[94mDEBUG \u001b[0m:     [Stage 3] Received key shares from 3 clients.\n",
      "\u001b[92mINFO \u001b[0m:      aggregate_fit: received 3 results and 0 failures\n",
      "\u001b[93mWARNING \u001b[0m:   No fit_metrics_aggregation_fn provided\n",
      "\u001b[92mINFO \u001b[0m:      Secure aggregation completed.\n",
      "Some weights of ViTForImageClassification were not initialized from the model checkpoint at google/vit-base-patch16-224-in21k and are newly initialized: ['classifier.bias', 'classifier.weight']\n",
      "You should probably TRAIN this model on a down-stream task to be able to use it for predictions and inference.\n",
      "/home/emeka/.local/share/uv/python/cpython-3.12.10-linux-x86_64-gnu/lib/python3.12/multiprocessing/popen_fork.py:66: DeprecationWarning: This process (pid=17592) is multi-threaded, use of fork() may lead to deadlocks in the child.\n",
      "  self.pid = os.fork()\n",
      "\u001b[92mINFO \u001b[0m:      fit progress: (1, 0.6223633939795808, {'accuracy': 0.8086021505376344}, 1174.8685484950001)\n",
      "\u001b[92mINFO \u001b[0m:      configure_evaluate: strategy sampled 3 clients (out of 3)\n",
      "\u001b[36m(ClientAppActor pid=19793)\u001b[0m Some weights of ViTForImageClassification were not initialized from the model checkpoint at google/vit-base-patch16-224-in21k and are newly initialized: ['classifier.bias', 'classifier.weight']\n",
      "\u001b[36m(ClientAppActor pid=19793)\u001b[0m You should probably TRAIN this model on a down-stream task to be able to use it for predictions and inference.\n",
      "\u001b[36m(ClientAppActor pid=19792)\u001b[0m 05/15/2025 04:37:26:DEBUG:Node 7253359150554047717: starting stage 3...\n",
      "\u001b[36m(ClientAppActor pid=19792)\u001b[0m 05/15/2025 04:37:26:DEBUG:Node 7253359150554047717: stage 3 completes. uploading key shares...\n",
      "\u001b[36m(ClientAppActor pid=19793)\u001b[0m /home/emeka/.local/share/uv/python/cpython-3.12.10-linux-x86_64-gnu/lib/python3.12/multiprocessing/popen_fork.py:66: DeprecationWarning: This process (pid=19793) is multi-threaded, use of fork() may lead to deadlocks in the child.\n",
      "\u001b[36m(ClientAppActor pid=19793)\u001b[0m   self.pid = os.fork()\n",
      "\u001b[36m(ClientAppActor pid=19793)\u001b[0m Some weights of ViTForImageClassification were not initialized from the model checkpoint at google/vit-base-patch16-224-in21k and are newly initialized: ['classifier.bias', 'classifier.weight']\u001b[32m [repeated 2x across cluster]\u001b[0m\n",
      "\u001b[36m(ClientAppActor pid=19793)\u001b[0m You should probably TRAIN this model on a down-stream task to be able to use it for predictions and inference.\u001b[32m [repeated 2x across cluster]\u001b[0m\n",
      "\u001b[36m(ClientAppActor pid=19792)\u001b[0m /home/emeka/.local/share/uv/python/cpython-3.12.10-linux-x86_64-gnu/lib/python3.12/multiprocessing/popen_fork.py:66: DeprecationWarning: This process (pid=19792) is multi-threaded, use of fork() may lead to deadlocks in the child.\n",
      "\u001b[36m(ClientAppActor pid=19792)\u001b[0m   self.pid = os.fork()\n",
      "\u001b[92mINFO \u001b[0m:      aggregate_evaluate: received 3 results and 0 failures\n",
      "\u001b[92mINFO \u001b[0m:      \n",
      "\u001b[92mINFO \u001b[0m:      [ROUND 2]\n",
      "\u001b[92mINFO \u001b[0m:      Secure aggregation commencing.\n",
      "\u001b[92mINFO \u001b[0m:      configure_fit: strategy sampled 3 clients (out of 3)\n",
      "\u001b[94mDEBUG \u001b[0m:     [Stage 0] Sending configurations to 3 clients.\n",
      "\u001b[94mDEBUG \u001b[0m:     [Stage 0] Received public keys from 3 clients.\n",
      "\u001b[94mDEBUG \u001b[0m:     [Stage 1] Forwarding public keys to 3 clients.\n",
      "\u001b[36m(ClientAppActor pid=19793)\u001b[0m 05/15/2025 04:38:40:DEBUG:Node 7253359150554047717: starting stage 0...\n",
      "\u001b[36m(ClientAppActor pid=19793)\u001b[0m 05/15/2025 04:38:40:DEBUG:Node 7253359150554047717: stage 0 completes. uploading public keys...\n",
      "\u001b[36m(ClientAppActor pid=19792)\u001b[0m 05/15/2025 04:38:40:DEBUG:Node 7253359150554047717: stage 1 completes. uploading key shares...\n",
      "\u001b[94mDEBUG \u001b[0m:     [Stage 1] Received encrypted key shares from 3 clients.\n",
      "\u001b[94mDEBUG \u001b[0m:     [Stage 2] Forwarding encrypted key shares to 3 clients.\n",
      "\u001b[36m(ClientAppActor pid=19793)\u001b[0m Some weights of ViTForImageClassification were not initialized from the model checkpoint at google/vit-base-patch16-224-in21k and are newly initialized: ['classifier.bias', 'classifier.weight']\n",
      "\u001b[36m(ClientAppActor pid=19793)\u001b[0m You should probably TRAIN this model on a down-stream task to be able to use it for predictions and inference.\n",
      "\u001b[36m(ClientAppActor pid=19793)\u001b[0m Seed set to 42\n",
      "\u001b[36m(ClientAppActor pid=19793)\u001b[0m /home/emeka/.local/share/uv/python/cpython-3.12.10-linux-x86_64-gnu/lib/python3.12/multiprocessing/popen_fork.py:66: DeprecationWarning: This process (pid=19793) is multi-threaded, use of fork() may lead to deadlocks in the child.\n",
      "\u001b[36m(ClientAppActor pid=19793)\u001b[0m   self.pid = os.fork()\n",
      "\u001b[36m(ClientAppActor pid=19792)\u001b[0m 05/15/2025 04:38:40:DEBUG:Node 11704132015188090490: starting stage 1...\u001b[32m [repeated 5x across cluster]\u001b[0m\n",
      "\u001b[36m(ClientAppActor pid=19792)\u001b[0m 05/15/2025 04:38:40:DEBUG:Node 11704132015188090490: stage 0 completes. uploading public keys...\u001b[32m [repeated 2x across cluster]\u001b[0m\n",
      "\u001b[36m(ClientAppActor pid=19792)\u001b[0m 05/15/2025 04:38:40:DEBUG:Node 11704132015188090490: stage 1 completes. uploading key shares...\u001b[32m [repeated 2x across cluster]\u001b[0m\n",
      "\u001b[36m(ClientAppActor pid=19792)\u001b[0m Some weights of ViTForImageClassification were not initialized from the model checkpoint at google/vit-base-patch16-224-in21k and are newly initialized: ['classifier.bias', 'classifier.weight']\n",
      "\u001b[36m(ClientAppActor pid=19792)\u001b[0m You should probably TRAIN this model on a down-stream task to be able to use it for predictions and inference.\n",
      "\u001b[36m(ClientAppActor pid=19792)\u001b[0m Seed set to 42\n",
      "\u001b[36m(ClientAppActor pid=19793)\u001b[0m /home/emeka/.local/share/uv/python/cpython-3.12.10-linux-x86_64-gnu/lib/python3.12/multiprocessing/popen_fork.py:66: DeprecationWarning: This process (pid=19793) is multi-threaded, use of fork() may lead to deadlocks in the child.\u001b[32m [repeated 2x across cluster]\u001b[0m\n",
      "\u001b[36m(ClientAppActor pid=19793)\u001b[0m   self.pid = os.fork()\u001b[32m [repeated 2x across cluster]\u001b[0m\n",
      "\u001b[36m(ClientAppActor pid=19792)\u001b[0m /home/emeka/.local/share/uv/python/cpython-3.12.10-linux-x86_64-gnu/lib/python3.12/multiprocessing/popen_fork.py:66: DeprecationWarning: This process (pid=19792) is multi-threaded, use of fork() may lead to deadlocks in the child.\u001b[32m [repeated 2x across cluster]\u001b[0m\n",
      "\u001b[36m(ClientAppActor pid=19792)\u001b[0m   self.pid = os.fork()\u001b[32m [repeated 2x across cluster]\u001b[0m\n",
      "\u001b[36m(ClientAppActor pid=19793)\u001b[0m /home/emeka/.local/share/uv/python/cpython-3.12.10-linux-x86_64-gnu/lib/python3.12/multiprocessing/popen_fork.py:66: DeprecationWarning: This process (pid=19793) is multi-threaded, use of fork() may lead to deadlocks in the child.\n",
      "\u001b[36m(ClientAppActor pid=19793)\u001b[0m   self.pid = os.fork()\n",
      "\u001b[36m(ClientAppActor pid=19793)\u001b[0m /home/emeka/.local/share/uv/python/cpython-3.12.10-linux-x86_64-gnu/lib/python3.12/multiprocessing/popen_fork.py:66: DeprecationWarning: This process (pid=19793) is multi-threaded, use of fork() may lead to deadlocks in the child.\n",
      "\u001b[36m(ClientAppActor pid=19793)\u001b[0m   self.pid = os.fork()\n",
      "\u001b[36m(ClientAppActor pid=19792)\u001b[0m /home/emeka/.local/share/uv/python/cpython-3.12.10-linux-x86_64-gnu/lib/python3.12/multiprocessing/popen_fork.py:66: DeprecationWarning: This process (pid=19792) is multi-threaded, use of fork() may lead to deadlocks in the child.\u001b[32m [repeated 2x across cluster]\u001b[0m\n",
      "\u001b[36m(ClientAppActor pid=19792)\u001b[0m   self.pid = os.fork()\u001b[32m [repeated 2x across cluster]\u001b[0m\n",
      "\u001b[36m(ClientAppActor pid=19793)\u001b[0m /home/emeka/.local/share/uv/python/cpython-3.12.10-linux-x86_64-gnu/lib/python3.12/multiprocessing/popen_fork.py:66: DeprecationWarning: This process (pid=19793) is multi-threaded, use of fork() may lead to deadlocks in the child.\u001b[32m [repeated 2x across cluster]\u001b[0m\n",
      "\u001b[36m(ClientAppActor pid=19793)\u001b[0m   self.pid = os.fork()\u001b[32m [repeated 2x across cluster]\u001b[0m\n",
      "\u001b[36m(ClientAppActor pid=19792)\u001b[0m /home/emeka/.local/share/uv/python/cpython-3.12.10-linux-x86_64-gnu/lib/python3.12/multiprocessing/popen_fork.py:66: DeprecationWarning: This process (pid=19792) is multi-threaded, use of fork() may lead to deadlocks in the child.\u001b[32m [repeated 2x across cluster]\u001b[0m\n",
      "\u001b[36m(ClientAppActor pid=19792)\u001b[0m   self.pid = os.fork()\u001b[32m [repeated 2x across cluster]\u001b[0m\n"
     ]
    },
    {
     "name": "stdout",
     "output_type": "stream",
     "text": [
      "\u001b[36m(ClientAppActor pid=19792)\u001b[0m \n",
      "\u001b[36m(ClientAppActor pid=19792)\u001b[0m 🔎 Tracker: FL + SMPC (ViT)\n",
      "\u001b[36m(ClientAppActor pid=19792)\u001b[0m 📁 Logs saved to: /home/emeka/PrivacyBench/logs/emissions/skin_lesions/FL_SMPC_ViT/client_emissions.csv\n",
      "\u001b[36m(ClientAppActor pid=19792)\u001b[0m ⏱️ Total training time: 9 minutes 5 seconds\n"
     ]
    },
    {
     "name": "stderr",
     "output_type": "stream",
     "text": [
      "\u001b[36m(ClientAppActor pid=19792)\u001b[0m 05/15/2025 04:47:49:DEBUG:Node 7253359150554047717: starting stage 2...\n",
      "\u001b[36m(ClientAppActor pid=19793)\u001b[0m /home/emeka/.local/share/uv/python/cpython-3.12.10-linux-x86_64-gnu/lib/python3.12/multiprocessing/popen_fork.py:66: DeprecationWarning: This process (pid=19793) is multi-threaded, use of fork() may lead to deadlocks in the child.\n",
      "\u001b[36m(ClientAppActor pid=19793)\u001b[0m   self.pid = os.fork()\n"
     ]
    },
    {
     "name": "stdout",
     "output_type": "stream",
     "text": [
      "\u001b[36m(ClientAppActor pid=19793)\u001b[0m \n",
      "\u001b[36m(ClientAppActor pid=19793)\u001b[0m 🔎 Tracker: FL + SMPC (ViT)\n",
      "\u001b[36m(ClientAppActor pid=19793)\u001b[0m 📁 Logs saved to: /home/emeka/PrivacyBench/logs/emissions/skin_lesions/FL_SMPC_ViT/client_emissions.csv\n",
      "\u001b[36m(ClientAppActor pid=19793)\u001b[0m ⏱️ Total training time: 9 minutes 7 seconds\n"
     ]
    },
    {
     "name": "stderr",
     "output_type": "stream",
     "text": [
      "\u001b[36m(ClientAppActor pid=19792)\u001b[0m 05/15/2025 04:47:54:DEBUG:Node 7253359150554047717: stage 2 completed, uploading masked parameters...\n",
      "\u001b[36m(ClientAppActor pid=19793)\u001b[0m 05/15/2025 04:47:51:DEBUG:Node 11730319794011054585: starting stage 2...\n",
      "\u001b[36m(ClientAppActor pid=19792)\u001b[0m Some weights of ViTForImageClassification were not initialized from the model checkpoint at google/vit-base-patch16-224-in21k and are newly initialized: ['classifier.bias', 'classifier.weight']\n",
      "\u001b[36m(ClientAppActor pid=19792)\u001b[0m You should probably TRAIN this model on a down-stream task to be able to use it for predictions and inference.\n",
      "\u001b[36m(ClientAppActor pid=19792)\u001b[0m Seed set to 42\n",
      "\u001b[36m(ClientAppActor pid=19792)\u001b[0m /home/emeka/.local/share/uv/python/cpython-3.12.10-linux-x86_64-gnu/lib/python3.12/multiprocessing/popen_fork.py:66: DeprecationWarning: This process (pid=19792) is multi-threaded, use of fork() may lead to deadlocks in the child.\n",
      "\u001b[36m(ClientAppActor pid=19792)\u001b[0m   self.pid = os.fork()\n",
      "\u001b[36m(ClientAppActor pid=19792)\u001b[0m /home/emeka/.local/share/uv/python/cpython-3.12.10-linux-x86_64-gnu/lib/python3.12/multiprocessing/popen_fork.py:66: DeprecationWarning: This process (pid=19792) is multi-threaded, use of fork() may lead to deadlocks in the child.\n",
      "\u001b[36m(ClientAppActor pid=19792)\u001b[0m   self.pid = os.fork()\n",
      "\u001b[36m(ClientAppActor pid=19793)\u001b[0m 05/15/2025 04:47:56:DEBUG:Node 11730319794011054585: stage 2 completed, uploading masked parameters...\n",
      "\u001b[36m(ClientAppActor pid=19792)\u001b[0m /home/emeka/.local/share/uv/python/cpython-3.12.10-linux-x86_64-gnu/lib/python3.12/multiprocessing/popen_fork.py:66: DeprecationWarning: This process (pid=19792) is multi-threaded, use of fork() may lead to deadlocks in the child.\n",
      "\u001b[36m(ClientAppActor pid=19792)\u001b[0m   self.pid = os.fork()\n",
      "\u001b[36m(ClientAppActor pid=19792)\u001b[0m /home/emeka/.local/share/uv/python/cpython-3.12.10-linux-x86_64-gnu/lib/python3.12/multiprocessing/popen_fork.py:66: DeprecationWarning: This process (pid=19792) is multi-threaded, use of fork() may lead to deadlocks in the child.\n",
      "\u001b[36m(ClientAppActor pid=19792)\u001b[0m   self.pid = os.fork()\n",
      "\u001b[36m(ClientAppActor pid=19792)\u001b[0m /home/emeka/.local/share/uv/python/cpython-3.12.10-linux-x86_64-gnu/lib/python3.12/multiprocessing/popen_fork.py:66: DeprecationWarning: This process (pid=19792) is multi-threaded, use of fork() may lead to deadlocks in the child.\n",
      "\u001b[36m(ClientAppActor pid=19792)\u001b[0m   self.pid = os.fork()\n",
      "\u001b[36m(ClientAppActor pid=19792)\u001b[0m /home/emeka/.local/share/uv/python/cpython-3.12.10-linux-x86_64-gnu/lib/python3.12/multiprocessing/popen_fork.py:66: DeprecationWarning: This process (pid=19792) is multi-threaded, use of fork() may lead to deadlocks in the child.\n",
      "\u001b[36m(ClientAppActor pid=19792)\u001b[0m   self.pid = os.fork()\n",
      "\u001b[36m(ClientAppActor pid=19792)\u001b[0m /home/emeka/.local/share/uv/python/cpython-3.12.10-linux-x86_64-gnu/lib/python3.12/multiprocessing/popen_fork.py:66: DeprecationWarning: This process (pid=19792) is multi-threaded, use of fork() may lead to deadlocks in the child.\n",
      "\u001b[36m(ClientAppActor pid=19792)\u001b[0m   self.pid = os.fork()\n"
     ]
    },
    {
     "name": "stdout",
     "output_type": "stream",
     "text": [
      "\u001b[36m(ClientAppActor pid=19792)\u001b[0m \n",
      "\u001b[36m(ClientAppActor pid=19792)\u001b[0m 🔎 Tracker: FL + SMPC (ViT)\n",
      "\u001b[36m(ClientAppActor pid=19792)\u001b[0m 📁 Logs saved to: /home/emeka/PrivacyBench/logs/emissions/skin_lesions/FL_SMPC_ViT/client_emissions.csv\n",
      "\u001b[36m(ClientAppActor pid=19792)\u001b[0m ⏱️ Total training time: 9 minutes 20 seconds\n"
     ]
    },
    {
     "name": "stderr",
     "output_type": "stream",
     "text": [
      "\u001b[36m(ClientAppActor pid=19792)\u001b[0m 05/15/2025 04:57:19:DEBUG:Node 11704132015188090490: starting stage 2...\n",
      "\u001b[36m(ClientAppActor pid=19792)\u001b[0m 05/15/2025 04:57:24:DEBUG:Node 11704132015188090490: stage 2 completed, uploading masked parameters...\n",
      "\u001b[94mDEBUG \u001b[0m:     [Stage 2] Received masked vectors from 3 clients.\n",
      "\u001b[94mDEBUG \u001b[0m:     [Stage 3] Requesting key shares from 3 clients to remove masks.\n",
      "\u001b[36m(ClientAppActor pid=19793)\u001b[0m 05/15/2025 04:57:27:DEBUG:Node 11730319794011054585: starting stage 3...\n",
      "\u001b[36m(ClientAppActor pid=19793)\u001b[0m 05/15/2025 04:57:27:DEBUG:Node 11730319794011054585: stage 3 completes. uploading key shares...\n",
      "\u001b[36m(ClientAppActor pid=19793)\u001b[0m 05/15/2025 04:57:27:DEBUG:Node 11704132015188090490: starting stage 3...\n",
      "\u001b[36m(ClientAppActor pid=19793)\u001b[0m 05/15/2025 04:57:27:DEBUG:Node 11704132015188090490: stage 3 completes. uploading key shares...\n",
      "\u001b[94mDEBUG \u001b[0m:     [Stage 3] Received key shares from 3 clients.\n",
      "\u001b[92mINFO \u001b[0m:      aggregate_fit: received 3 results and 0 failures\n",
      "\u001b[92mINFO \u001b[0m:      Secure aggregation completed.\n",
      "Some weights of ViTForImageClassification were not initialized from the model checkpoint at google/vit-base-patch16-224-in21k and are newly initialized: ['classifier.bias', 'classifier.weight']\n",
      "You should probably TRAIN this model on a down-stream task to be able to use it for predictions and inference.\n",
      "/home/emeka/.local/share/uv/python/cpython-3.12.10-linux-x86_64-gnu/lib/python3.12/multiprocessing/popen_fork.py:66: DeprecationWarning: This process (pid=17592) is multi-threaded, use of fork() may lead to deadlocks in the child.\n",
      "  self.pid = os.fork()\n",
      "\u001b[92mINFO \u001b[0m:      fit progress: (2, 0.5781181809294663, {'accuracy': 0.843010752688172}, 2379.249240825)\n",
      "\u001b[92mINFO \u001b[0m:      configure_evaluate: strategy sampled 3 clients (out of 3)\n",
      "\u001b[36m(ClientAppActor pid=19793)\u001b[0m Some weights of ViTForImageClassification were not initialized from the model checkpoint at google/vit-base-patch16-224-in21k and are newly initialized: ['classifier.bias', 'classifier.weight']\n",
      "\u001b[36m(ClientAppActor pid=19793)\u001b[0m You should probably TRAIN this model on a down-stream task to be able to use it for predictions and inference.\n",
      "\u001b[36m(ClientAppActor pid=19792)\u001b[0m 05/15/2025 04:57:27:DEBUG:Node 7253359150554047717: starting stage 3...\n",
      "\u001b[36m(ClientAppActor pid=19792)\u001b[0m 05/15/2025 04:57:27:DEBUG:Node 7253359150554047717: stage 3 completes. uploading key shares...\n",
      "\u001b[36m(ClientAppActor pid=19793)\u001b[0m /home/emeka/.local/share/uv/python/cpython-3.12.10-linux-x86_64-gnu/lib/python3.12/multiprocessing/popen_fork.py:66: DeprecationWarning: This process (pid=19793) is multi-threaded, use of fork() may lead to deadlocks in the child.\n",
      "\u001b[36m(ClientAppActor pid=19793)\u001b[0m   self.pid = os.fork()\n",
      "\u001b[36m(ClientAppActor pid=19793)\u001b[0m Some weights of ViTForImageClassification were not initialized from the model checkpoint at google/vit-base-patch16-224-in21k and are newly initialized: ['classifier.bias', 'classifier.weight']\u001b[32m [repeated 2x across cluster]\u001b[0m\n",
      "\u001b[36m(ClientAppActor pid=19793)\u001b[0m You should probably TRAIN this model on a down-stream task to be able to use it for predictions and inference.\u001b[32m [repeated 2x across cluster]\u001b[0m\n",
      "\u001b[36m(ClientAppActor pid=19792)\u001b[0m /home/emeka/.local/share/uv/python/cpython-3.12.10-linux-x86_64-gnu/lib/python3.12/multiprocessing/popen_fork.py:66: DeprecationWarning: This process (pid=19792) is multi-threaded, use of fork() may lead to deadlocks in the child.\n",
      "\u001b[36m(ClientAppActor pid=19792)\u001b[0m   self.pid = os.fork()\n",
      "\u001b[92mINFO \u001b[0m:      aggregate_evaluate: received 3 results and 0 failures\n",
      "\u001b[92mINFO \u001b[0m:      \n",
      "\u001b[92mINFO \u001b[0m:      [ROUND 3]\n",
      "\u001b[92mINFO \u001b[0m:      Secure aggregation commencing.\n",
      "\u001b[92mINFO \u001b[0m:      configure_fit: strategy sampled 3 clients (out of 3)\n",
      "\u001b[94mDEBUG \u001b[0m:     [Stage 0] Sending configurations to 3 clients.\n",
      "\u001b[36m(ClientAppActor pid=19793)\u001b[0m 05/15/2025 04:58:44:DEBUG:Node 7253359150554047717: starting stage 0...\n",
      "\u001b[36m(ClientAppActor pid=19793)\u001b[0m 05/15/2025 04:58:44:DEBUG:Node 7253359150554047717: stage 0 completes. uploading public keys...\n",
      "\u001b[36m(ClientAppActor pid=19793)\u001b[0m 05/15/2025 04:58:44:DEBUG:Node 11704132015188090490: starting stage 0...\n",
      "\u001b[36m(ClientAppActor pid=19793)\u001b[0m 05/15/2025 04:58:44:DEBUG:Node 11704132015188090490: stage 0 completes. uploading public keys...\n",
      "\u001b[94mDEBUG \u001b[0m:     [Stage 0] Received public keys from 3 clients.\n",
      "\u001b[94mDEBUG \u001b[0m:     [Stage 1] Forwarding public keys to 3 clients.\n",
      "\u001b[36m(ClientAppActor pid=19793)\u001b[0m 05/15/2025 04:58:44:DEBUG:Node 7253359150554047717: stage 1 completes. uploading key shares...\n",
      "\u001b[94mDEBUG \u001b[0m:     [Stage 1] Received encrypted key shares from 3 clients.\n",
      "\u001b[94mDEBUG \u001b[0m:     [Stage 2] Forwarding encrypted key shares to 3 clients.\n",
      "\u001b[36m(ClientAppActor pid=19793)\u001b[0m Some weights of ViTForImageClassification were not initialized from the model checkpoint at google/vit-base-patch16-224-in21k and are newly initialized: ['classifier.bias', 'classifier.weight']\n",
      "\u001b[36m(ClientAppActor pid=19793)\u001b[0m You should probably TRAIN this model on a down-stream task to be able to use it for predictions and inference.\n",
      "\u001b[36m(ClientAppActor pid=19793)\u001b[0m Seed set to 42\n",
      "\u001b[36m(ClientAppActor pid=19793)\u001b[0m /home/emeka/.local/share/uv/python/cpython-3.12.10-linux-x86_64-gnu/lib/python3.12/multiprocessing/popen_fork.py:66: DeprecationWarning: This process (pid=19793) is multi-threaded, use of fork() may lead to deadlocks in the child.\n",
      "\u001b[36m(ClientAppActor pid=19793)\u001b[0m   self.pid = os.fork()\n",
      "\u001b[36m(ClientAppActor pid=19792)\u001b[0m 05/15/2025 04:58:44:DEBUG:Node 11704132015188090490: starting stage 1...\u001b[32m [repeated 4x across cluster]\u001b[0m\n",
      "\u001b[36m(ClientAppActor pid=19792)\u001b[0m 05/15/2025 04:58:44:DEBUG:Node 11730319794011054585: stage 0 completes. uploading public keys...\n",
      "\u001b[36m(ClientAppActor pid=19792)\u001b[0m 05/15/2025 04:58:44:DEBUG:Node 11704132015188090490: stage 1 completes. uploading key shares...\u001b[32m [repeated 2x across cluster]\u001b[0m\n",
      "\u001b[36m(ClientAppActor pid=19792)\u001b[0m Some weights of ViTForImageClassification were not initialized from the model checkpoint at google/vit-base-patch16-224-in21k and are newly initialized: ['classifier.bias', 'classifier.weight']\n",
      "\u001b[36m(ClientAppActor pid=19792)\u001b[0m You should probably TRAIN this model on a down-stream task to be able to use it for predictions and inference.\n",
      "\u001b[36m(ClientAppActor pid=19792)\u001b[0m Seed set to 42\n",
      "\u001b[36m(ClientAppActor pid=19793)\u001b[0m /home/emeka/.local/share/uv/python/cpython-3.12.10-linux-x86_64-gnu/lib/python3.12/multiprocessing/popen_fork.py:66: DeprecationWarning: This process (pid=19793) is multi-threaded, use of fork() may lead to deadlocks in the child.\u001b[32m [repeated 2x across cluster]\u001b[0m\n",
      "\u001b[36m(ClientAppActor pid=19793)\u001b[0m   self.pid = os.fork()\u001b[32m [repeated 2x across cluster]\u001b[0m\n",
      "\u001b[36m(ClientAppActor pid=19792)\u001b[0m /home/emeka/.local/share/uv/python/cpython-3.12.10-linux-x86_64-gnu/lib/python3.12/multiprocessing/popen_fork.py:66: DeprecationWarning: This process (pid=19792) is multi-threaded, use of fork() may lead to deadlocks in the child.\n",
      "\u001b[36m(ClientAppActor pid=19792)\u001b[0m   self.pid = os.fork()\n",
      "\u001b[36m(ClientAppActor pid=19792)\u001b[0m /home/emeka/.local/share/uv/python/cpython-3.12.10-linux-x86_64-gnu/lib/python3.12/multiprocessing/popen_fork.py:66: DeprecationWarning: This process (pid=19792) is multi-threaded, use of fork() may lead to deadlocks in the child.\n",
      "\u001b[36m(ClientAppActor pid=19792)\u001b[0m   self.pid = os.fork()\n",
      "\u001b[36m(ClientAppActor pid=19793)\u001b[0m /home/emeka/.local/share/uv/python/cpython-3.12.10-linux-x86_64-gnu/lib/python3.12/multiprocessing/popen_fork.py:66: DeprecationWarning: This process (pid=19793) is multi-threaded, use of fork() may lead to deadlocks in the child.\n",
      "\u001b[36m(ClientAppActor pid=19793)\u001b[0m   self.pid = os.fork()\n",
      "\u001b[36m(ClientAppActor pid=19793)\u001b[0m /home/emeka/.local/share/uv/python/cpython-3.12.10-linux-x86_64-gnu/lib/python3.12/multiprocessing/popen_fork.py:66: DeprecationWarning: This process (pid=19793) is multi-threaded, use of fork() may lead to deadlocks in the child.\n",
      "\u001b[36m(ClientAppActor pid=19793)\u001b[0m   self.pid = os.fork()\n",
      "\u001b[36m(ClientAppActor pid=19792)\u001b[0m /home/emeka/.local/share/uv/python/cpython-3.12.10-linux-x86_64-gnu/lib/python3.12/multiprocessing/popen_fork.py:66: DeprecationWarning: This process (pid=19792) is multi-threaded, use of fork() may lead to deadlocks in the child.\n",
      "\u001b[36m(ClientAppActor pid=19792)\u001b[0m   self.pid = os.fork()\n",
      "\u001b[36m(ClientAppActor pid=19793)\u001b[0m /home/emeka/.local/share/uv/python/cpython-3.12.10-linux-x86_64-gnu/lib/python3.12/multiprocessing/popen_fork.py:66: DeprecationWarning: This process (pid=19793) is multi-threaded, use of fork() may lead to deadlocks in the child.\n",
      "\u001b[36m(ClientAppActor pid=19793)\u001b[0m   self.pid = os.fork()\n",
      "\u001b[36m(ClientAppActor pid=19792)\u001b[0m /home/emeka/.local/share/uv/python/cpython-3.12.10-linux-x86_64-gnu/lib/python3.12/multiprocessing/popen_fork.py:66: DeprecationWarning: This process (pid=19792) is multi-threaded, use of fork() may lead to deadlocks in the child.\n",
      "\u001b[36m(ClientAppActor pid=19792)\u001b[0m   self.pid = os.fork()\n",
      "\u001b[36m(ClientAppActor pid=19793)\u001b[0m /home/emeka/.local/share/uv/python/cpython-3.12.10-linux-x86_64-gnu/lib/python3.12/multiprocessing/popen_fork.py:66: DeprecationWarning: This process (pid=19793) is multi-threaded, use of fork() may lead to deadlocks in the child.\n",
      "\u001b[36m(ClientAppActor pid=19793)\u001b[0m   self.pid = os.fork()\n",
      "\u001b[36m(ClientAppActor pid=19792)\u001b[0m /home/emeka/.local/share/uv/python/cpython-3.12.10-linux-x86_64-gnu/lib/python3.12/multiprocessing/popen_fork.py:66: DeprecationWarning: This process (pid=19792) is multi-threaded, use of fork() may lead to deadlocks in the child.\n",
      "\u001b[36m(ClientAppActor pid=19792)\u001b[0m   self.pid = os.fork()\n",
      "\u001b[36m(ClientAppActor pid=19793)\u001b[0m /home/emeka/.local/share/uv/python/cpython-3.12.10-linux-x86_64-gnu/lib/python3.12/multiprocessing/popen_fork.py:66: DeprecationWarning: This process (pid=19793) is multi-threaded, use of fork() may lead to deadlocks in the child.\n",
      "\u001b[36m(ClientAppActor pid=19793)\u001b[0m   self.pid = os.fork()\n",
      "\u001b[36m(ClientAppActor pid=19792)\u001b[0m /home/emeka/.local/share/uv/python/cpython-3.12.10-linux-x86_64-gnu/lib/python3.12/multiprocessing/popen_fork.py:66: DeprecationWarning: This process (pid=19792) is multi-threaded, use of fork() may lead to deadlocks in the child.\n",
      "\u001b[36m(ClientAppActor pid=19792)\u001b[0m   self.pid = os.fork()\n"
     ]
    },
    {
     "name": "stdout",
     "output_type": "stream",
     "text": [
      "\u001b[36m(ClientAppActor pid=19793)\u001b[0m \n",
      "\u001b[36m(ClientAppActor pid=19793)\u001b[0m 🔎 Tracker: FL + SMPC (ViT)\n",
      "\u001b[36m(ClientAppActor pid=19793)\u001b[0m 📁 Logs saved to: /home/emeka/PrivacyBench/logs/emissions/skin_lesions/FL_SMPC_ViT/client_emissions.csv\n",
      "\u001b[36m(ClientAppActor pid=19793)\u001b[0m ⏱️ Total training time: 9 minutes 6 seconds\n"
     ]
    },
    {
     "name": "stderr",
     "output_type": "stream",
     "text": [
      "\u001b[36m(ClientAppActor pid=19793)\u001b[0m 05/15/2025 05:07:54:DEBUG:Node 11730319794011054585: starting stage 2...\n",
      "\u001b[36m(ClientAppActor pid=19793)\u001b[0m 05/15/2025 05:07:59:DEBUG:Node 11730319794011054585: stage 2 completed, uploading masked parameters...\n"
     ]
    },
    {
     "name": "stdout",
     "output_type": "stream",
     "text": [
      "\u001b[36m(ClientAppActor pid=19792)\u001b[0m \n",
      "\u001b[36m(ClientAppActor pid=19792)\u001b[0m 🔎 Tracker: FL + SMPC (ViT)\n",
      "\u001b[36m(ClientAppActor pid=19792)\u001b[0m 📁 Logs saved to: /home/emeka/PrivacyBench/logs/emissions/skin_lesions/FL_SMPC_ViT/client_emissions.csv\n",
      "\u001b[36m(ClientAppActor pid=19792)\u001b[0m ⏱️ Total training time: 9 minutes 14 seconds\n"
     ]
    },
    {
     "name": "stderr",
     "output_type": "stream",
     "text": [
      "\u001b[36m(ClientAppActor pid=19793)\u001b[0m Some weights of ViTForImageClassification were not initialized from the model checkpoint at google/vit-base-patch16-224-in21k and are newly initialized: ['classifier.bias', 'classifier.weight']\n",
      "\u001b[36m(ClientAppActor pid=19793)\u001b[0m You should probably TRAIN this model on a down-stream task to be able to use it for predictions and inference.\n",
      "\u001b[36m(ClientAppActor pid=19792)\u001b[0m 05/15/2025 05:08:01:DEBUG:Node 7253359150554047717: starting stage 2...\n",
      "\u001b[36m(ClientAppActor pid=19793)\u001b[0m Seed set to 42\n",
      "\u001b[36m(ClientAppActor pid=19793)\u001b[0m /home/emeka/.local/share/uv/python/cpython-3.12.10-linux-x86_64-gnu/lib/python3.12/multiprocessing/popen_fork.py:66: DeprecationWarning: This process (pid=19793) is multi-threaded, use of fork() may lead to deadlocks in the child.\n",
      "\u001b[36m(ClientAppActor pid=19793)\u001b[0m   self.pid = os.fork()\n",
      "\u001b[36m(ClientAppActor pid=19792)\u001b[0m 05/15/2025 05:08:07:DEBUG:Node 7253359150554047717: stage 2 completed, uploading masked parameters...\n",
      "\u001b[36m(ClientAppActor pid=19793)\u001b[0m /home/emeka/.local/share/uv/python/cpython-3.12.10-linux-x86_64-gnu/lib/python3.12/multiprocessing/popen_fork.py:66: DeprecationWarning: This process (pid=19793) is multi-threaded, use of fork() may lead to deadlocks in the child.\n",
      "\u001b[36m(ClientAppActor pid=19793)\u001b[0m   self.pid = os.fork()\n",
      "\u001b[36m(ClientAppActor pid=19793)\u001b[0m /home/emeka/.local/share/uv/python/cpython-3.12.10-linux-x86_64-gnu/lib/python3.12/multiprocessing/popen_fork.py:66: DeprecationWarning: This process (pid=19793) is multi-threaded, use of fork() may lead to deadlocks in the child.\n",
      "\u001b[36m(ClientAppActor pid=19793)\u001b[0m   self.pid = os.fork()\n",
      "\u001b[36m(ClientAppActor pid=19793)\u001b[0m /home/emeka/.local/share/uv/python/cpython-3.12.10-linux-x86_64-gnu/lib/python3.12/multiprocessing/popen_fork.py:66: DeprecationWarning: This process (pid=19793) is multi-threaded, use of fork() may lead to deadlocks in the child.\n",
      "\u001b[36m(ClientAppActor pid=19793)\u001b[0m   self.pid = os.fork()\n",
      "\u001b[36m(ClientAppActor pid=19793)\u001b[0m /home/emeka/.local/share/uv/python/cpython-3.12.10-linux-x86_64-gnu/lib/python3.12/multiprocessing/popen_fork.py:66: DeprecationWarning: This process (pid=19793) is multi-threaded, use of fork() may lead to deadlocks in the child.\n",
      "\u001b[36m(ClientAppActor pid=19793)\u001b[0m   self.pid = os.fork()\n",
      "\u001b[36m(ClientAppActor pid=19793)\u001b[0m /home/emeka/.local/share/uv/python/cpython-3.12.10-linux-x86_64-gnu/lib/python3.12/multiprocessing/popen_fork.py:66: DeprecationWarning: This process (pid=19793) is multi-threaded, use of fork() may lead to deadlocks in the child.\n",
      "\u001b[36m(ClientAppActor pid=19793)\u001b[0m   self.pid = os.fork()\n",
      "\u001b[36m(ClientAppActor pid=19793)\u001b[0m /home/emeka/.local/share/uv/python/cpython-3.12.10-linux-x86_64-gnu/lib/python3.12/multiprocessing/popen_fork.py:66: DeprecationWarning: This process (pid=19793) is multi-threaded, use of fork() may lead to deadlocks in the child.\n",
      "\u001b[36m(ClientAppActor pid=19793)\u001b[0m   self.pid = os.fork()\n"
     ]
    },
    {
     "name": "stdout",
     "output_type": "stream",
     "text": [
      "\u001b[36m(ClientAppActor pid=19793)\u001b[0m \n",
      "\u001b[36m(ClientAppActor pid=19793)\u001b[0m 🔎 Tracker: FL + SMPC (ViT)\n",
      "\u001b[36m(ClientAppActor pid=19793)\u001b[0m 📁 Logs saved to: /home/emeka/PrivacyBench/logs/emissions/skin_lesions/FL_SMPC_ViT/client_emissions.csv\n",
      "\u001b[36m(ClientAppActor pid=19793)\u001b[0m ⏱️ Total training time: 9 minutes 16 seconds\n"
     ]
    },
    {
     "name": "stderr",
     "output_type": "stream",
     "text": [
      "\u001b[36m(ClientAppActor pid=19793)\u001b[0m 05/15/2025 05:17:19:DEBUG:Node 11704132015188090490: starting stage 2...\n",
      "\u001b[36m(ClientAppActor pid=19793)\u001b[0m 05/15/2025 05:17:24:DEBUG:Node 11704132015188090490: stage 2 completed, uploading masked parameters...\n",
      "\u001b[94mDEBUG \u001b[0m:     [Stage 2] Received masked vectors from 3 clients.\n",
      "\u001b[94mDEBUG \u001b[0m:     [Stage 3] Requesting key shares from 3 clients to remove masks.\n",
      "\u001b[36m(ClientAppActor pid=19793)\u001b[0m 05/15/2025 05:17:27:DEBUG:Node 7253359150554047717: starting stage 3...\n",
      "\u001b[36m(ClientAppActor pid=19793)\u001b[0m 05/15/2025 05:17:27:DEBUG:Node 7253359150554047717: stage 3 completes. uploading key shares...\n",
      "\u001b[94mDEBUG \u001b[0m:     [Stage 3] Received key shares from 3 clients.\n",
      "\u001b[92mINFO \u001b[0m:      aggregate_fit: received 3 results and 0 failures\n",
      "\u001b[92mINFO \u001b[0m:      Secure aggregation completed.\n",
      "Some weights of ViTForImageClassification were not initialized from the model checkpoint at google/vit-base-patch16-224-in21k and are newly initialized: ['classifier.bias', 'classifier.weight']\n",
      "You should probably TRAIN this model on a down-stream task to be able to use it for predictions and inference.\n",
      "/home/emeka/.local/share/uv/python/cpython-3.12.10-linux-x86_64-gnu/lib/python3.12/multiprocessing/popen_fork.py:66: DeprecationWarning: This process (pid=17592) is multi-threaded, use of fork() may lead to deadlocks in the child.\n",
      "  self.pid = os.fork()\n",
      "\u001b[92mINFO \u001b[0m:      fit progress: (3, 0.5705815489086552, {'accuracy': 0.8567741935483871}, 3571.873119687)\n",
      "\u001b[92mINFO \u001b[0m:      configure_evaluate: strategy sampled 3 clients (out of 3)\n",
      "\u001b[36m(ClientAppActor pid=19792)\u001b[0m Some weights of ViTForImageClassification were not initialized from the model checkpoint at google/vit-base-patch16-224-in21k and are newly initialized: ['classifier.bias', 'classifier.weight']\n",
      "\u001b[36m(ClientAppActor pid=19792)\u001b[0m You should probably TRAIN this model on a down-stream task to be able to use it for predictions and inference.\n",
      "\u001b[36m(ClientAppActor pid=19792)\u001b[0m 05/15/2025 05:17:27:DEBUG:Node 11704132015188090490: starting stage 3...\u001b[32m [repeated 2x across cluster]\u001b[0m\n",
      "\u001b[36m(ClientAppActor pid=19792)\u001b[0m 05/15/2025 05:17:27:DEBUG:Node 11704132015188090490: stage 3 completes. uploading key shares...\u001b[32m [repeated 2x across cluster]\u001b[0m\n",
      "\u001b[36m(ClientAppActor pid=19792)\u001b[0m /home/emeka/.local/share/uv/python/cpython-3.12.10-linux-x86_64-gnu/lib/python3.12/multiprocessing/popen_fork.py:66: DeprecationWarning: This process (pid=19792) is multi-threaded, use of fork() may lead to deadlocks in the child.\n",
      "\u001b[36m(ClientAppActor pid=19792)\u001b[0m   self.pid = os.fork()\n",
      "\u001b[36m(ClientAppActor pid=19792)\u001b[0m Some weights of ViTForImageClassification were not initialized from the model checkpoint at google/vit-base-patch16-224-in21k and are newly initialized: ['classifier.bias', 'classifier.weight']\u001b[32m [repeated 2x across cluster]\u001b[0m\n",
      "\u001b[36m(ClientAppActor pid=19792)\u001b[0m You should probably TRAIN this model on a down-stream task to be able to use it for predictions and inference.\u001b[32m [repeated 2x across cluster]\u001b[0m\n",
      "\u001b[36m(ClientAppActor pid=19793)\u001b[0m /home/emeka/.local/share/uv/python/cpython-3.12.10-linux-x86_64-gnu/lib/python3.12/multiprocessing/popen_fork.py:66: DeprecationWarning: This process (pid=19793) is multi-threaded, use of fork() may lead to deadlocks in the child.\n",
      "\u001b[36m(ClientAppActor pid=19793)\u001b[0m   self.pid = os.fork()\n",
      "\u001b[92mINFO \u001b[0m:      aggregate_evaluate: received 3 results and 0 failures\n",
      "\u001b[92mINFO \u001b[0m:      \n",
      "\u001b[92mINFO \u001b[0m:      [ROUND 4]\n",
      "\u001b[92mINFO \u001b[0m:      Secure aggregation commencing.\n",
      "\u001b[92mINFO \u001b[0m:      configure_fit: strategy sampled 3 clients (out of 3)\n",
      "\u001b[94mDEBUG \u001b[0m:     [Stage 0] Sending configurations to 3 clients.\n",
      "\u001b[36m(ClientAppActor pid=19793)\u001b[0m 05/15/2025 05:18:37:DEBUG:Node 11730319794011054585: starting stage 0...\n",
      "\u001b[36m(ClientAppActor pid=19793)\u001b[0m 05/15/2025 05:18:37:DEBUG:Node 11730319794011054585: stage 0 completes. uploading public keys...\n",
      "\u001b[94mDEBUG \u001b[0m:     [Stage 0] Received public keys from 3 clients.\n",
      "\u001b[94mDEBUG \u001b[0m:     [Stage 1] Forwarding public keys to 3 clients.\n",
      "\u001b[36m(ClientAppActor pid=19793)\u001b[0m 05/15/2025 05:18:37:DEBUG:Node 11730319794011054585: stage 1 completes. uploading key shares...\n",
      "\u001b[94mDEBUG \u001b[0m:     [Stage 1] Received encrypted key shares from 3 clients.\n",
      "\u001b[94mDEBUG \u001b[0m:     [Stage 2] Forwarding encrypted key shares to 3 clients.\n",
      "\u001b[36m(ClientAppActor pid=19793)\u001b[0m Some weights of ViTForImageClassification were not initialized from the model checkpoint at google/vit-base-patch16-224-in21k and are newly initialized: ['classifier.bias', 'classifier.weight']\n",
      "\u001b[36m(ClientAppActor pid=19793)\u001b[0m You should probably TRAIN this model on a down-stream task to be able to use it for predictions and inference.\n",
      "\u001b[36m(ClientAppActor pid=19792)\u001b[0m Seed set to 42\n",
      "\u001b[36m(ClientAppActor pid=19792)\u001b[0m /home/emeka/.local/share/uv/python/cpython-3.12.10-linux-x86_64-gnu/lib/python3.12/multiprocessing/popen_fork.py:66: DeprecationWarning: This process (pid=19792) is multi-threaded, use of fork() may lead to deadlocks in the child.\n",
      "\u001b[36m(ClientAppActor pid=19792)\u001b[0m   self.pid = os.fork()\n",
      "\u001b[36m(ClientAppActor pid=19792)\u001b[0m 05/15/2025 05:18:37:DEBUG:Node 11704132015188090490: starting stage 1...\u001b[32m [repeated 5x across cluster]\u001b[0m\n",
      "\u001b[36m(ClientAppActor pid=19792)\u001b[0m 05/15/2025 05:18:37:DEBUG:Node 11704132015188090490: stage 0 completes. uploading public keys...\u001b[32m [repeated 2x across cluster]\u001b[0m\n",
      "\u001b[36m(ClientAppActor pid=19792)\u001b[0m 05/15/2025 05:18:37:DEBUG:Node 11704132015188090490: stage 1 completes. uploading key shares...\u001b[32m [repeated 2x across cluster]\u001b[0m\n",
      "\u001b[36m(ClientAppActor pid=19792)\u001b[0m Some weights of ViTForImageClassification were not initialized from the model checkpoint at google/vit-base-patch16-224-in21k and are newly initialized: ['classifier.bias', 'classifier.weight']\n",
      "\u001b[36m(ClientAppActor pid=19792)\u001b[0m You should probably TRAIN this model on a down-stream task to be able to use it for predictions and inference.\n",
      "\u001b[36m(ClientAppActor pid=19793)\u001b[0m Seed set to 42\n",
      "\u001b[36m(ClientAppActor pid=19792)\u001b[0m /home/emeka/.local/share/uv/python/cpython-3.12.10-linux-x86_64-gnu/lib/python3.12/multiprocessing/popen_fork.py:66: DeprecationWarning: This process (pid=19792) is multi-threaded, use of fork() may lead to deadlocks in the child.\u001b[32m [repeated 2x across cluster]\u001b[0m\n",
      "\u001b[36m(ClientAppActor pid=19792)\u001b[0m   self.pid = os.fork()\u001b[32m [repeated 2x across cluster]\u001b[0m\n",
      "\u001b[36m(ClientAppActor pid=19793)\u001b[0m /home/emeka/.local/share/uv/python/cpython-3.12.10-linux-x86_64-gnu/lib/python3.12/multiprocessing/popen_fork.py:66: DeprecationWarning: This process (pid=19793) is multi-threaded, use of fork() may lead to deadlocks in the child.\u001b[32m [repeated 2x across cluster]\u001b[0m\n",
      "\u001b[36m(ClientAppActor pid=19793)\u001b[0m   self.pid = os.fork()\u001b[32m [repeated 2x across cluster]\u001b[0m\n",
      "\u001b[36m(ClientAppActor pid=19792)\u001b[0m /home/emeka/.local/share/uv/python/cpython-3.12.10-linux-x86_64-gnu/lib/python3.12/multiprocessing/popen_fork.py:66: DeprecationWarning: This process (pid=19792) is multi-threaded, use of fork() may lead to deadlocks in the child.\n",
      "\u001b[36m(ClientAppActor pid=19792)\u001b[0m   self.pid = os.fork()\n",
      "\u001b[36m(ClientAppActor pid=19792)\u001b[0m /home/emeka/.local/share/uv/python/cpython-3.12.10-linux-x86_64-gnu/lib/python3.12/multiprocessing/popen_fork.py:66: DeprecationWarning: This process (pid=19792) is multi-threaded, use of fork() may lead to deadlocks in the child.\n",
      "\u001b[36m(ClientAppActor pid=19792)\u001b[0m   self.pid = os.fork()\n",
      "\u001b[36m(ClientAppActor pid=19793)\u001b[0m /home/emeka/.local/share/uv/python/cpython-3.12.10-linux-x86_64-gnu/lib/python3.12/multiprocessing/popen_fork.py:66: DeprecationWarning: This process (pid=19793) is multi-threaded, use of fork() may lead to deadlocks in the child.\n",
      "\u001b[36m(ClientAppActor pid=19793)\u001b[0m   self.pid = os.fork()\n",
      "\u001b[36m(ClientAppActor pid=19792)\u001b[0m /home/emeka/.local/share/uv/python/cpython-3.12.10-linux-x86_64-gnu/lib/python3.12/multiprocessing/popen_fork.py:66: DeprecationWarning: This process (pid=19792) is multi-threaded, use of fork() may lead to deadlocks in the child.\n",
      "\u001b[36m(ClientAppActor pid=19792)\u001b[0m   self.pid = os.fork()\n",
      "\u001b[36m(ClientAppActor pid=19792)\u001b[0m /home/emeka/.local/share/uv/python/cpython-3.12.10-linux-x86_64-gnu/lib/python3.12/multiprocessing/popen_fork.py:66: DeprecationWarning: This process (pid=19792) is multi-threaded, use of fork() may lead to deadlocks in the child.\u001b[32m [repeated 2x across cluster]\u001b[0m\n",
      "\u001b[36m(ClientAppActor pid=19792)\u001b[0m   self.pid = os.fork()\u001b[32m [repeated 2x across cluster]\u001b[0m\n",
      "\u001b[36m(ClientAppActor pid=19793)\u001b[0m /home/emeka/.local/share/uv/python/cpython-3.12.10-linux-x86_64-gnu/lib/python3.12/multiprocessing/popen_fork.py:66: DeprecationWarning: This process (pid=19793) is multi-threaded, use of fork() may lead to deadlocks in the child.\n",
      "\u001b[36m(ClientAppActor pid=19793)\u001b[0m   self.pid = os.fork()\n",
      "\u001b[36m(ClientAppActor pid=19792)\u001b[0m /home/emeka/.local/share/uv/python/cpython-3.12.10-linux-x86_64-gnu/lib/python3.12/multiprocessing/popen_fork.py:66: DeprecationWarning: This process (pid=19792) is multi-threaded, use of fork() may lead to deadlocks in the child.\n",
      "\u001b[36m(ClientAppActor pid=19792)\u001b[0m   self.pid = os.fork()\n",
      "\u001b[36m(ClientAppActor pid=19793)\u001b[0m /home/emeka/.local/share/uv/python/cpython-3.12.10-linux-x86_64-gnu/lib/python3.12/multiprocessing/popen_fork.py:66: DeprecationWarning: This process (pid=19793) is multi-threaded, use of fork() may lead to deadlocks in the child.\n",
      "\u001b[36m(ClientAppActor pid=19793)\u001b[0m   self.pid = os.fork()\n"
     ]
    },
    {
     "name": "stdout",
     "output_type": "stream",
     "text": [
      "\u001b[36m(ClientAppActor pid=19792)\u001b[0m \n",
      "\u001b[36m(ClientAppActor pid=19792)\u001b[0m 🔎 Tracker: FL + SMPC (ViT)\n",
      "\u001b[36m(ClientAppActor pid=19792)\u001b[0m 📁 Logs saved to: /home/emeka/PrivacyBench/logs/emissions/skin_lesions/FL_SMPC_ViT/client_emissions.csv\n",
      "\u001b[36m(ClientAppActor pid=19792)\u001b[0m ⏱️ Total training time: 8 minutes 59 seconds\n"
     ]
    },
    {
     "name": "stderr",
     "output_type": "stream",
     "text": [
      "\u001b[36m(ClientAppActor pid=19792)\u001b[0m 05/15/2025 05:27:39:DEBUG:Node 7253359150554047717: starting stage 2...\n",
      "\u001b[36m(ClientAppActor pid=19792)\u001b[0m 05/15/2025 05:27:44:DEBUG:Node 7253359150554047717: stage 2 completed, uploading masked parameters...\n",
      "\u001b[36m(ClientAppActor pid=19792)\u001b[0m Some weights of ViTForImageClassification were not initialized from the model checkpoint at google/vit-base-patch16-224-in21k and are newly initialized: ['classifier.bias', 'classifier.weight']\n",
      "\u001b[36m(ClientAppActor pid=19792)\u001b[0m You should probably TRAIN this model on a down-stream task to be able to use it for predictions and inference.\n",
      "\u001b[36m(ClientAppActor pid=19792)\u001b[0m Seed set to 42\n",
      "\u001b[36m(ClientAppActor pid=19792)\u001b[0m /home/emeka/.local/share/uv/python/cpython-3.12.10-linux-x86_64-gnu/lib/python3.12/multiprocessing/popen_fork.py:66: DeprecationWarning: This process (pid=19792) is multi-threaded, use of fork() may lead to deadlocks in the child.\n",
      "\u001b[36m(ClientAppActor pid=19792)\u001b[0m   self.pid = os.fork()\n"
     ]
    },
    {
     "name": "stdout",
     "output_type": "stream",
     "text": [
      "\u001b[36m(ClientAppActor pid=19793)\u001b[0m \n",
      "\u001b[36m(ClientAppActor pid=19793)\u001b[0m 🔎 Tracker: FL + SMPC (ViT)\n",
      "\u001b[36m(ClientAppActor pid=19793)\u001b[0m 📁 Logs saved to: /home/emeka/PrivacyBench/logs/emissions/skin_lesions/FL_SMPC_ViT/client_emissions.csv\n",
      "\u001b[36m(ClientAppActor pid=19793)\u001b[0m ⏱️ Total training time: 9 minutes 11 seconds\n"
     ]
    },
    {
     "name": "stderr",
     "output_type": "stream",
     "text": [
      "\u001b[36m(ClientAppActor pid=19793)\u001b[0m 05/15/2025 05:27:51:DEBUG:Node 11730319794011054585: starting stage 2...\n",
      "\u001b[36m(ClientAppActor pid=19793)\u001b[0m 05/15/2025 05:27:56:DEBUG:Node 11730319794011054585: stage 2 completed, uploading masked parameters...\n",
      "\u001b[36m(ClientAppActor pid=19792)\u001b[0m /home/emeka/.local/share/uv/python/cpython-3.12.10-linux-x86_64-gnu/lib/python3.12/multiprocessing/popen_fork.py:66: DeprecationWarning: This process (pid=19792) is multi-threaded, use of fork() may lead to deadlocks in the child.\n",
      "\u001b[36m(ClientAppActor pid=19792)\u001b[0m   self.pid = os.fork()\n",
      "\u001b[36m(ClientAppActor pid=19792)\u001b[0m /home/emeka/.local/share/uv/python/cpython-3.12.10-linux-x86_64-gnu/lib/python3.12/multiprocessing/popen_fork.py:66: DeprecationWarning: This process (pid=19792) is multi-threaded, use of fork() may lead to deadlocks in the child.\n",
      "\u001b[36m(ClientAppActor pid=19792)\u001b[0m   self.pid = os.fork()\n",
      "\u001b[36m(ClientAppActor pid=19792)\u001b[0m /home/emeka/.local/share/uv/python/cpython-3.12.10-linux-x86_64-gnu/lib/python3.12/multiprocessing/popen_fork.py:66: DeprecationWarning: This process (pid=19792) is multi-threaded, use of fork() may lead to deadlocks in the child.\n",
      "\u001b[36m(ClientAppActor pid=19792)\u001b[0m   self.pid = os.fork()\n",
      "\u001b[36m(ClientAppActor pid=19792)\u001b[0m /home/emeka/.local/share/uv/python/cpython-3.12.10-linux-x86_64-gnu/lib/python3.12/multiprocessing/popen_fork.py:66: DeprecationWarning: This process (pid=19792) is multi-threaded, use of fork() may lead to deadlocks in the child.\n",
      "\u001b[36m(ClientAppActor pid=19792)\u001b[0m   self.pid = os.fork()\n",
      "\u001b[36m(ClientAppActor pid=19792)\u001b[0m /home/emeka/.local/share/uv/python/cpython-3.12.10-linux-x86_64-gnu/lib/python3.12/multiprocessing/popen_fork.py:66: DeprecationWarning: This process (pid=19792) is multi-threaded, use of fork() may lead to deadlocks in the child.\n",
      "\u001b[36m(ClientAppActor pid=19792)\u001b[0m   self.pid = os.fork()\n",
      "\u001b[36m(ClientAppActor pid=19792)\u001b[0m /home/emeka/.local/share/uv/python/cpython-3.12.10-linux-x86_64-gnu/lib/python3.12/multiprocessing/popen_fork.py:66: DeprecationWarning: This process (pid=19792) is multi-threaded, use of fork() may lead to deadlocks in the child.\n",
      "\u001b[36m(ClientAppActor pid=19792)\u001b[0m   self.pid = os.fork()\n"
     ]
    },
    {
     "name": "stdout",
     "output_type": "stream",
     "text": [
      "\u001b[36m(ClientAppActor pid=19792)\u001b[0m \n",
      "\u001b[36m(ClientAppActor pid=19792)\u001b[0m 🔎 Tracker: FL + SMPC (ViT)\n",
      "\u001b[36m(ClientAppActor pid=19792)\u001b[0m 📁 Logs saved to: /home/emeka/PrivacyBench/logs/emissions/skin_lesions/FL_SMPC_ViT/client_emissions.csv\n",
      "\u001b[36m(ClientAppActor pid=19792)\u001b[0m ⏱️ Total training time: 9 minutes 5 seconds\n"
     ]
    },
    {
     "name": "stderr",
     "output_type": "stream",
     "text": [
      "\u001b[36m(ClientAppActor pid=19792)\u001b[0m 05/15/2025 05:36:53:DEBUG:Node 11704132015188090490: starting stage 2...\n",
      "\u001b[36m(ClientAppActor pid=19792)\u001b[0m 05/15/2025 05:36:58:DEBUG:Node 11704132015188090490: stage 2 completed, uploading masked parameters...\n",
      "\u001b[94mDEBUG \u001b[0m:     [Stage 2] Received masked vectors from 3 clients.\n",
      "\u001b[94mDEBUG \u001b[0m:     [Stage 3] Requesting key shares from 3 clients to remove masks.\n",
      "\u001b[94mDEBUG \u001b[0m:     [Stage 3] Received key shares from 3 clients.\n",
      "\u001b[36m(ClientAppActor pid=19793)\u001b[0m 05/15/2025 05:37:01:DEBUG:Node 11730319794011054585: starting stage 3...\n",
      "\u001b[36m(ClientAppActor pid=19793)\u001b[0m 05/15/2025 05:37:01:DEBUG:Node 11730319794011054585: stage 3 completes. uploading key shares...\n",
      "\u001b[92mINFO \u001b[0m:      aggregate_fit: received 3 results and 0 failures\n",
      "\u001b[92mINFO \u001b[0m:      Secure aggregation completed.\n",
      "Some weights of ViTForImageClassification were not initialized from the model checkpoint at google/vit-base-patch16-224-in21k and are newly initialized: ['classifier.bias', 'classifier.weight']\n",
      "You should probably TRAIN this model on a down-stream task to be able to use it for predictions and inference.\n",
      "/home/emeka/.local/share/uv/python/cpython-3.12.10-linux-x86_64-gnu/lib/python3.12/multiprocessing/popen_fork.py:66: DeprecationWarning: This process (pid=17592) is multi-threaded, use of fork() may lead to deadlocks in the child.\n",
      "  self.pid = os.fork()\n",
      "\u001b[92mINFO \u001b[0m:      fit progress: (4, 0.6252767429392058, {'accuracy': 0.8561290322580645}, 4749.5394138149995)\n",
      "\u001b[92mINFO \u001b[0m:      configure_evaluate: strategy sampled 3 clients (out of 3)\n",
      "\u001b[36m(ClientAppActor pid=19793)\u001b[0m Some weights of ViTForImageClassification were not initialized from the model checkpoint at google/vit-base-patch16-224-in21k and are newly initialized: ['classifier.bias', 'classifier.weight']\n",
      "\u001b[36m(ClientAppActor pid=19793)\u001b[0m You should probably TRAIN this model on a down-stream task to be able to use it for predictions and inference.\n",
      "\u001b[36m(ClientAppActor pid=19792)\u001b[0m 05/15/2025 05:37:01:DEBUG:Node 11704132015188090490: starting stage 3...\u001b[32m [repeated 2x across cluster]\u001b[0m\n",
      "\u001b[36m(ClientAppActor pid=19792)\u001b[0m 05/15/2025 05:37:01:DEBUG:Node 11704132015188090490: stage 3 completes. uploading key shares...\u001b[32m [repeated 2x across cluster]\u001b[0m\n",
      "\u001b[36m(ClientAppActor pid=19792)\u001b[0m /home/emeka/.local/share/uv/python/cpython-3.12.10-linux-x86_64-gnu/lib/python3.12/multiprocessing/popen_fork.py:66: DeprecationWarning: This process (pid=19792) is multi-threaded, use of fork() may lead to deadlocks in the child.\n",
      "\u001b[36m(ClientAppActor pid=19792)\u001b[0m   self.pid = os.fork()\n",
      "\u001b[36m(ClientAppActor pid=19793)\u001b[0m Some weights of ViTForImageClassification were not initialized from the model checkpoint at google/vit-base-patch16-224-in21k and are newly initialized: ['classifier.bias', 'classifier.weight']\u001b[32m [repeated 2x across cluster]\u001b[0m\n",
      "\u001b[36m(ClientAppActor pid=19793)\u001b[0m You should probably TRAIN this model on a down-stream task to be able to use it for predictions and inference.\u001b[32m [repeated 2x across cluster]\u001b[0m\n",
      "\u001b[36m(ClientAppActor pid=19793)\u001b[0m /home/emeka/.local/share/uv/python/cpython-3.12.10-linux-x86_64-gnu/lib/python3.12/multiprocessing/popen_fork.py:66: DeprecationWarning: This process (pid=19793) is multi-threaded, use of fork() may lead to deadlocks in the child.\n",
      "\u001b[36m(ClientAppActor pid=19793)\u001b[0m   self.pid = os.fork()\n",
      "\u001b[92mINFO \u001b[0m:      aggregate_evaluate: received 3 results and 0 failures\n",
      "\u001b[92mINFO \u001b[0m:      \n",
      "\u001b[92mINFO \u001b[0m:      [ROUND 5]\n",
      "\u001b[92mINFO \u001b[0m:      Secure aggregation commencing.\n",
      "\u001b[92mINFO \u001b[0m:      configure_fit: strategy sampled 3 clients (out of 3)\n",
      "\u001b[94mDEBUG \u001b[0m:     [Stage 0] Sending configurations to 3 clients.\n",
      "\u001b[36m(ClientAppActor pid=19793)\u001b[0m 05/15/2025 05:38:14:DEBUG:Node 7253359150554047717: starting stage 0...\n",
      "\u001b[36m(ClientAppActor pid=19793)\u001b[0m 05/15/2025 05:38:14:DEBUG:Node 7253359150554047717: stage 0 completes. uploading public keys...\n",
      "\u001b[94mDEBUG \u001b[0m:     [Stage 0] Received public keys from 3 clients.\n",
      "\u001b[94mDEBUG \u001b[0m:     [Stage 1] Forwarding public keys to 3 clients.\n",
      "\u001b[36m(ClientAppActor pid=19793)\u001b[0m 05/15/2025 05:38:14:DEBUG:Node 11730319794011054585: stage 1 completes. uploading key shares...\n",
      "\u001b[94mDEBUG \u001b[0m:     [Stage 1] Received encrypted key shares from 3 clients.\n",
      "\u001b[94mDEBUG \u001b[0m:     [Stage 2] Forwarding encrypted key shares to 3 clients.\n",
      "\u001b[36m(ClientAppActor pid=19793)\u001b[0m Some weights of ViTForImageClassification were not initialized from the model checkpoint at google/vit-base-patch16-224-in21k and are newly initialized: ['classifier.bias', 'classifier.weight']\n",
      "\u001b[36m(ClientAppActor pid=19793)\u001b[0m You should probably TRAIN this model on a down-stream task to be able to use it for predictions and inference.\n",
      "\u001b[36m(ClientAppActor pid=19792)\u001b[0m Seed set to 42\n",
      "\u001b[36m(ClientAppActor pid=19792)\u001b[0m /home/emeka/.local/share/uv/python/cpython-3.12.10-linux-x86_64-gnu/lib/python3.12/multiprocessing/popen_fork.py:66: DeprecationWarning: This process (pid=19792) is multi-threaded, use of fork() may lead to deadlocks in the child.\n",
      "\u001b[36m(ClientAppActor pid=19792)\u001b[0m   self.pid = os.fork()\n",
      "\u001b[36m(ClientAppActor pid=19792)\u001b[0m 05/15/2025 05:38:14:DEBUG:Node 11704132015188090490: starting stage 1...\u001b[32m [repeated 5x across cluster]\u001b[0m\n",
      "\u001b[36m(ClientAppActor pid=19792)\u001b[0m 05/15/2025 05:38:14:DEBUG:Node 11704132015188090490: stage 0 completes. uploading public keys...\u001b[32m [repeated 2x across cluster]\u001b[0m\n",
      "\u001b[36m(ClientAppActor pid=19792)\u001b[0m 05/15/2025 05:38:14:DEBUG:Node 11704132015188090490: stage 1 completes. uploading key shares...\u001b[32m [repeated 2x across cluster]\u001b[0m\n",
      "\u001b[36m(ClientAppActor pid=19792)\u001b[0m Some weights of ViTForImageClassification were not initialized from the model checkpoint at google/vit-base-patch16-224-in21k and are newly initialized: ['classifier.bias', 'classifier.weight']\n",
      "\u001b[36m(ClientAppActor pid=19792)\u001b[0m You should probably TRAIN this model on a down-stream task to be able to use it for predictions and inference.\n",
      "\u001b[36m(ClientAppActor pid=19793)\u001b[0m Seed set to 42\n",
      "\u001b[36m(ClientAppActor pid=19793)\u001b[0m /home/emeka/.local/share/uv/python/cpython-3.12.10-linux-x86_64-gnu/lib/python3.12/multiprocessing/popen_fork.py:66: DeprecationWarning: This process (pid=19793) is multi-threaded, use of fork() may lead to deadlocks in the child.\u001b[32m [repeated 2x across cluster]\u001b[0m\n",
      "\u001b[36m(ClientAppActor pid=19793)\u001b[0m   self.pid = os.fork()\u001b[32m [repeated 2x across cluster]\u001b[0m\n",
      "\u001b[36m(ClientAppActor pid=19792)\u001b[0m /home/emeka/.local/share/uv/python/cpython-3.12.10-linux-x86_64-gnu/lib/python3.12/multiprocessing/popen_fork.py:66: DeprecationWarning: This process (pid=19792) is multi-threaded, use of fork() may lead to deadlocks in the child.\u001b[32m [repeated 2x across cluster]\u001b[0m\n",
      "\u001b[36m(ClientAppActor pid=19792)\u001b[0m   self.pid = os.fork()\u001b[32m [repeated 2x across cluster]\u001b[0m\n",
      "\u001b[36m(ClientAppActor pid=19793)\u001b[0m /home/emeka/.local/share/uv/python/cpython-3.12.10-linux-x86_64-gnu/lib/python3.12/multiprocessing/popen_fork.py:66: DeprecationWarning: This process (pid=19793) is multi-threaded, use of fork() may lead to deadlocks in the child.\n",
      "\u001b[36m(ClientAppActor pid=19793)\u001b[0m   self.pid = os.fork()\n",
      "\u001b[36m(ClientAppActor pid=19793)\u001b[0m /home/emeka/.local/share/uv/python/cpython-3.12.10-linux-x86_64-gnu/lib/python3.12/multiprocessing/popen_fork.py:66: DeprecationWarning: This process (pid=19793) is multi-threaded, use of fork() may lead to deadlocks in the child.\n",
      "\u001b[36m(ClientAppActor pid=19793)\u001b[0m   self.pid = os.fork()\n",
      "\u001b[36m(ClientAppActor pid=19792)\u001b[0m /home/emeka/.local/share/uv/python/cpython-3.12.10-linux-x86_64-gnu/lib/python3.12/multiprocessing/popen_fork.py:66: DeprecationWarning: This process (pid=19792) is multi-threaded, use of fork() may lead to deadlocks in the child.\u001b[32m [repeated 2x across cluster]\u001b[0m\n",
      "\u001b[36m(ClientAppActor pid=19792)\u001b[0m   self.pid = os.fork()\u001b[32m [repeated 2x across cluster]\u001b[0m\n",
      "\u001b[36m(ClientAppActor pid=19792)\u001b[0m /home/emeka/.local/share/uv/python/cpython-3.12.10-linux-x86_64-gnu/lib/python3.12/multiprocessing/popen_fork.py:66: DeprecationWarning: This process (pid=19792) is multi-threaded, use of fork() may lead to deadlocks in the child.\u001b[32m [repeated 2x across cluster]\u001b[0m\n",
      "\u001b[36m(ClientAppActor pid=19792)\u001b[0m   self.pid = os.fork()\u001b[32m [repeated 2x across cluster]\u001b[0m\n",
      "\u001b[36m(ClientAppActor pid=19792)\u001b[0m /home/emeka/.local/share/uv/python/cpython-3.12.10-linux-x86_64-gnu/lib/python3.12/multiprocessing/popen_fork.py:66: DeprecationWarning: This process (pid=19792) is multi-threaded, use of fork() may lead to deadlocks in the child.\u001b[32m [repeated 2x across cluster]\u001b[0m\n",
      "\u001b[36m(ClientAppActor pid=19792)\u001b[0m   self.pid = os.fork()\u001b[32m [repeated 2x across cluster]\u001b[0m\n"
     ]
    },
    {
     "name": "stdout",
     "output_type": "stream",
     "text": [
      "\u001b[36m(ClientAppActor pid=19792)\u001b[0m \n",
      "\u001b[36m(ClientAppActor pid=19792)\u001b[0m 🔎 Tracker: FL + SMPC (ViT)\n",
      "\u001b[36m(ClientAppActor pid=19792)\u001b[0m 📁 Logs saved to: /home/emeka/PrivacyBench/logs/emissions/skin_lesions/FL_SMPC_ViT/client_emissions.csv\n",
      "\u001b[36m(ClientAppActor pid=19792)\u001b[0m ⏱️ Total training time: 9 minutes 3 seconds\n"
     ]
    },
    {
     "name": "stderr",
     "output_type": "stream",
     "text": [
      "\u001b[36m(ClientAppActor pid=19792)\u001b[0m 05/15/2025 05:47:20:DEBUG:Node 7253359150554047717: starting stage 2...\n",
      "\u001b[36m(ClientAppActor pid=19793)\u001b[0m /home/emeka/.local/share/uv/python/cpython-3.12.10-linux-x86_64-gnu/lib/python3.12/multiprocessing/popen_fork.py:66: DeprecationWarning: This process (pid=19793) is multi-threaded, use of fork() may lead to deadlocks in the child.\n",
      "\u001b[36m(ClientAppActor pid=19793)\u001b[0m   self.pid = os.fork()\n"
     ]
    },
    {
     "name": "stdout",
     "output_type": "stream",
     "text": [
      "\u001b[36m(ClientAppActor pid=19793)\u001b[0m \n"
     ]
    },
    {
     "name": "stderr",
     "output_type": "stream",
     "text": [
      "\u001b[36m(ClientAppActor pid=19792)\u001b[0m 05/15/2025 05:47:26:DEBUG:Node 7253359150554047717: stage 2 completed, uploading masked parameters...\n",
      "\u001b[36m(ClientAppActor pid=19793)\u001b[0m 05/15/2025 05:47:24:DEBUG:Node 11730319794011054585: starting stage 2...\n",
      "\u001b[36m(ClientAppActor pid=19792)\u001b[0m Some weights of ViTForImageClassification were not initialized from the model checkpoint at google/vit-base-patch16-224-in21k and are newly initialized: ['classifier.bias', 'classifier.weight']\n",
      "\u001b[36m(ClientAppActor pid=19792)\u001b[0m You should probably TRAIN this model on a down-stream task to be able to use it for predictions and inference.\n",
      "\u001b[36m(ClientAppActor pid=19792)\u001b[0m Seed set to 42\n",
      "\u001b[36m(ClientAppActor pid=19792)\u001b[0m /home/emeka/.local/share/uv/python/cpython-3.12.10-linux-x86_64-gnu/lib/python3.12/multiprocessing/popen_fork.py:66: DeprecationWarning: This process (pid=19792) is multi-threaded, use of fork() may lead to deadlocks in the child.\n",
      "\u001b[36m(ClientAppActor pid=19792)\u001b[0m   self.pid = os.fork()\n",
      "\u001b[36m(ClientAppActor pid=19792)\u001b[0m /home/emeka/.local/share/uv/python/cpython-3.12.10-linux-x86_64-gnu/lib/python3.12/multiprocessing/popen_fork.py:66: DeprecationWarning: This process (pid=19792) is multi-threaded, use of fork() may lead to deadlocks in the child.\n",
      "\u001b[36m(ClientAppActor pid=19792)\u001b[0m   self.pid = os.fork()\n",
      "\u001b[36m(ClientAppActor pid=19793)\u001b[0m 05/15/2025 05:47:29:DEBUG:Node 11730319794011054585: stage 2 completed, uploading masked parameters...\n",
      "\u001b[36m(ClientAppActor pid=19792)\u001b[0m /home/emeka/.local/share/uv/python/cpython-3.12.10-linux-x86_64-gnu/lib/python3.12/multiprocessing/popen_fork.py:66: DeprecationWarning: This process (pid=19792) is multi-threaded, use of fork() may lead to deadlocks in the child.\n",
      "\u001b[36m(ClientAppActor pid=19792)\u001b[0m   self.pid = os.fork()\n",
      "\u001b[36m(ClientAppActor pid=19792)\u001b[0m /home/emeka/.local/share/uv/python/cpython-3.12.10-linux-x86_64-gnu/lib/python3.12/multiprocessing/popen_fork.py:66: DeprecationWarning: This process (pid=19792) is multi-threaded, use of fork() may lead to deadlocks in the child.\n",
      "\u001b[36m(ClientAppActor pid=19792)\u001b[0m   self.pid = os.fork()\n",
      "\u001b[36m(ClientAppActor pid=19792)\u001b[0m /home/emeka/.local/share/uv/python/cpython-3.12.10-linux-x86_64-gnu/lib/python3.12/multiprocessing/popen_fork.py:66: DeprecationWarning: This process (pid=19792) is multi-threaded, use of fork() may lead to deadlocks in the child.\n",
      "\u001b[36m(ClientAppActor pid=19792)\u001b[0m   self.pid = os.fork()\n",
      "\u001b[36m(ClientAppActor pid=19792)\u001b[0m /home/emeka/.local/share/uv/python/cpython-3.12.10-linux-x86_64-gnu/lib/python3.12/multiprocessing/popen_fork.py:66: DeprecationWarning: This process (pid=19792) is multi-threaded, use of fork() may lead to deadlocks in the child.\n",
      "\u001b[36m(ClientAppActor pid=19792)\u001b[0m   self.pid = os.fork()\n",
      "\u001b[36m(ClientAppActor pid=19792)\u001b[0m /home/emeka/.local/share/uv/python/cpython-3.12.10-linux-x86_64-gnu/lib/python3.12/multiprocessing/popen_fork.py:66: DeprecationWarning: This process (pid=19792) is multi-threaded, use of fork() may lead to deadlocks in the child.\n",
      "\u001b[36m(ClientAppActor pid=19792)\u001b[0m   self.pid = os.fork()\n"
     ]
    },
    {
     "name": "stdout",
     "output_type": "stream",
     "text": [
      "\u001b[36m(ClientAppActor pid=19792)\u001b[0m \n",
      "\u001b[36m(ClientAppActor pid=19792)\u001b[0m 🔎 Tracker: FL + SMPC (ViT)\u001b[32m [repeated 2x across cluster]\u001b[0m\n",
      "\u001b[36m(ClientAppActor pid=19792)\u001b[0m 📁 Logs saved to: /home/emeka/PrivacyBench/logs/emissions/skin_lesions/FL_SMPC_ViT/client_emissions.csv\u001b[32m [repeated 2x across cluster]\u001b[0m\n",
      "\u001b[36m(ClientAppActor pid=19792)\u001b[0m ⏱️ Total training time: 9 minutes 18 seconds\u001b[32m [repeated 2x across cluster]\u001b[0m\n"
     ]
    },
    {
     "name": "stderr",
     "output_type": "stream",
     "text": [
      "\u001b[36m(ClientAppActor pid=19792)\u001b[0m 05/15/2025 05:56:47:DEBUG:Node 11704132015188090490: starting stage 2...\n",
      "\u001b[36m(ClientAppActor pid=19792)\u001b[0m 05/15/2025 05:56:52:DEBUG:Node 11704132015188090490: stage 2 completed, uploading masked parameters...\n",
      "\u001b[94mDEBUG \u001b[0m:     [Stage 2] Received masked vectors from 3 clients.\n",
      "\u001b[94mDEBUG \u001b[0m:     [Stage 3] Requesting key shares from 3 clients to remove masks.\n",
      "\u001b[36m(ClientAppActor pid=19793)\u001b[0m 05/15/2025 05:56:55:DEBUG:Node 11730319794011054585: starting stage 3...\n",
      "\u001b[36m(ClientAppActor pid=19793)\u001b[0m 05/15/2025 05:56:55:DEBUG:Node 11730319794011054585: stage 3 completes. uploading key shares...\n",
      "\u001b[36m(ClientAppActor pid=19793)\u001b[0m 05/15/2025 05:56:55:DEBUG:Node 11704132015188090490: starting stage 3...\n",
      "\u001b[36m(ClientAppActor pid=19793)\u001b[0m 05/15/2025 05:56:55:DEBUG:Node 11704132015188090490: stage 3 completes. uploading key shares...\n",
      "\u001b[94mDEBUG \u001b[0m:     [Stage 3] Received key shares from 3 clients.\n",
      "\u001b[92mINFO \u001b[0m:      aggregate_fit: received 3 results and 0 failures\n",
      "\u001b[92mINFO \u001b[0m:      Secure aggregation completed.\n",
      "Some weights of ViTForImageClassification were not initialized from the model checkpoint at google/vit-base-patch16-224-in21k and are newly initialized: ['classifier.bias', 'classifier.weight']\n",
      "You should probably TRAIN this model on a down-stream task to be able to use it for predictions and inference.\n",
      "/home/emeka/.local/share/uv/python/cpython-3.12.10-linux-x86_64-gnu/lib/python3.12/multiprocessing/popen_fork.py:66: DeprecationWarning: This process (pid=17592) is multi-threaded, use of fork() may lead to deadlocks in the child.\n",
      "  self.pid = os.fork()\n",
      "\u001b[34m\u001b[1mwandb\u001b[0m: \u001b[33mWARNING\u001b[0m If you're specifying your api key in code, ensure this code is not shared publicly.\n",
      "\u001b[34m\u001b[1mwandb\u001b[0m: \u001b[33mWARNING\u001b[0m Consider setting the WANDB_API_KEY environment variable, or running `wandb login` from the command line.\n",
      "\u001b[34m\u001b[1mwandb\u001b[0m: Appending key for api.wandb.ai to your netrc file: /home/emeka/.netrc\n",
      "\u001b[34m\u001b[1mwandb\u001b[0m: Currently logged in as: \u001b[33memyrs\u001b[0m to \u001b[32mhttps://api.wandb.ai\u001b[0m. Use \u001b[1m`wandb login --relogin`\u001b[0m to force relogin\n",
      "/home/emeka/PrivacyBench/.venv/lib/python3.12/site-packages/wandb/analytics/sentry.py:259: DeprecationWarning: The `Scope.user` setter is deprecated in favor of `Scope.set_user()`.\n",
      "  self.scope.user = {\"email\": email}  # noqa\n",
      "/home/emeka/PrivacyBench/.venv/lib/python3.12/site-packages/wandb/analytics/sentry.py:259: DeprecationWarning: The `Scope.user` setter is deprecated in favor of `Scope.set_user()`.\n",
      "  self.scope.user = {\"email\": email}  # noqa\n"
     ]
    },
    {
     "data": {
      "text/html": [
       "Tracking run with wandb version 0.19.11"
      ],
      "text/plain": [
       "<IPython.core.display.HTML object>"
      ]
     },
     "metadata": {},
     "output_type": "display_data"
    },
    {
     "data": {
      "text/html": [
       "Run data is saved locally in <code>/home/emeka/PrivacyBench/logs/wandb/run-20250515_055759-smpxrtv1</code>"
      ],
      "text/plain": [
       "<IPython.core.display.HTML object>"
      ]
     },
     "metadata": {},
     "output_type": "display_data"
    },
    {
     "data": {
      "text/html": [
       "Syncing run <strong><a href='https://wandb.ai/MLC-FedML/PrivacyBench/runs/smpxrtv1' target=\"_blank\">FL_SMPC_ViT_skin_lesions</a></strong> to <a href='https://wandb.ai/MLC-FedML/PrivacyBench' target=\"_blank\">Weights & Biases</a> (<a href='https://wandb.me/developer-guide' target=\"_blank\">docs</a>)<br>"
      ],
      "text/plain": [
       "<IPython.core.display.HTML object>"
      ]
     },
     "metadata": {},
     "output_type": "display_data"
    },
    {
     "data": {
      "text/html": [
       " View project at <a href='https://wandb.ai/MLC-FedML/PrivacyBench' target=\"_blank\">https://wandb.ai/MLC-FedML/PrivacyBench</a>"
      ],
      "text/plain": [
       "<IPython.core.display.HTML object>"
      ]
     },
     "metadata": {},
     "output_type": "display_data"
    },
    {
     "data": {
      "text/html": [
       " View run at <a href='https://wandb.ai/MLC-FedML/PrivacyBench/runs/smpxrtv1' target=\"_blank\">https://wandb.ai/MLC-FedML/PrivacyBench/runs/smpxrtv1</a>"
      ],
      "text/plain": [
       "<IPython.core.display.HTML object>"
      ]
     },
     "metadata": {},
     "output_type": "display_data"
    },
    {
     "name": "stderr",
     "output_type": "stream",
     "text": [
      "/home/emeka/.local/share/uv/python/cpython-3.12.10-linux-x86_64-gnu/lib/python3.12/multiprocessing/popen_fork.py:66: DeprecationWarning: This process (pid=17592) is multi-threaded, use of fork() may lead to deadlocks in the child.\n",
      "  self.pid = os.fork()\n"
     ]
    },
    {
     "name": "stdout",
     "output_type": "stream",
     "text": [
      "\n",
      " ___________________________________________________________________________________________________\n",
      "ExperimentName.FL_SMPC_VIT Model Final Evaluation \n",
      "\n",
      "Test Accuracy: 86.47% | Precision: 0.86 | Recall: 0.86 | F1-Score: 0.86 | ROC-AUC: 0.98 | MCC: 0.81\n",
      " \n"
     ]
    },
    {
     "data": {
      "image/png": "[encoded data removed]",
      "text/plain": [
       "<Figure size 1500x600 with 2 Axes>"
      ]
     },
     "metadata": {},
     "output_type": "display_data"
    },
    {
     "name": "stdout",
     "output_type": "stream",
     "text": [
      "\n",
      " ___________________________________________________________________________________________________\n",
      "ExperimentName.FL_SMPC_VIT--skin_lesions Model Classification Report\n",
      "              precision    recall  f1-score   support\n",
      "\n",
      "           0       0.90      0.72      0.80       853\n",
      "           1       0.90      0.96      0.93      2242\n",
      "           2       0.85      0.90      0.87       674\n",
      "           3       0.73      0.59      0.65       155\n",
      "           4       0.74      0.80      0.77       476\n",
      "           5       0.93      0.75      0.83        55\n",
      "           6       0.96      0.88      0.92        52\n",
      "           7       0.70      0.63      0.66       143\n",
      "\n",
      "    accuracy                           0.86      4650\n",
      "   macro avg       0.84      0.78      0.80      4650\n",
      "weighted avg       0.86      0.86      0.86      4650\n",
      "\n",
      "___________________________________________________________________________________________________\n",
      "\n",
      "📊 Consolidated Metrics:\n",
      "⏱️ Total Duration: 8478.00 sec\n",
      "✅ Total Energy: 0.36870 kWh\n",
      "🌍 Total CO₂ Emitted: 0.15854 kg\n",
      "🧠 Peak CPU RAM: 0.0011 GB\n",
      "🖥️ Peak GPU VRAM: 3.7202 GB\n",
      "\n",
      " ___________________________________________________________________________________________________\n"
     ]
    },
    {
     "data": {
      "text/html": [],
      "text/plain": [
       "<IPython.core.display.HTML object>"
      ]
     },
     "metadata": {},
     "output_type": "display_data"
    },
    {
     "data": {
      "text/html": [
       "<br>    <style><br>        .wandb-row {<br>            display: flex;<br>            flex-direction: row;<br>            flex-wrap: wrap;<br>            justify-content: flex-start;<br>            width: 100%;<br>        }<br>        .wandb-col {<br>            display: flex;<br>            flex-direction: column;<br>            flex-basis: 100%;<br>            flex: 1;<br>            padding: 10px;<br>        }<br>    </style><br><div class=\"wandb-row\"><div class=\"wandb-col\"><h3>Run history:</h3><br/><table class=\"wandb\"><tr><td>Accuracy</td><td>▁</td></tr><tr><td>F1-Score</td><td>▁</td></tr><tr><td>MCC</td><td>▁</td></tr><tr><td>Peak FL CPU RAM (GB)</td><td>▁</td></tr><tr><td>Peak FL GPU VRAM (GB)</td><td>▁</td></tr><tr><td>Precision</td><td>▁</td></tr><tr><td>ROC-AUC</td><td>▁</td></tr><tr><td>Recall</td><td>▁</td></tr><tr><td>Total FL CO2 Emitted (kg)</td><td>▁</td></tr><tr><td>Total FL Duration (sec)</td><td>▁</td></tr><tr><td>Total FL Energy (kWh)</td><td>▁</td></tr></table><br/></div><div class=\"wandb-col\"><h3>Run summary:</h3><br/><table class=\"wandb\"><tr><td>Accuracy</td><td>0.86</td></tr><tr><td>Experiment Name</td><td>FL_SMPC_ViT</td></tr><tr><td>F1-Score</td><td>0.86</td></tr><tr><td>MCC</td><td>0.81</td></tr><tr><td>Model</td><td>FL + SMPC (ViT)</td></tr><tr><td>Peak FL CPU RAM (GB)</td><td>0.00114</td></tr><tr><td>Peak FL GPU VRAM (GB)</td><td>3.72018</td></tr><tr><td>Precision</td><td>0.86</td></tr><tr><td>ROC-AUC</td><td>0.98</td></tr><tr><td>Recall</td><td>0.86</td></tr><tr><td>Total FL CO2 Emitted (kg)</td><td>0.15854</td></tr><tr><td>Total FL Duration (sec)</td><td>8477.99575</td></tr><tr><td>Total FL Energy (kWh)</td><td>0.3687</td></tr></table><br/></div></div>"
      ],
      "text/plain": [
       "<IPython.core.display.HTML object>"
      ]
     },
     "metadata": {},
     "output_type": "display_data"
    },
    {
     "data": {
      "text/html": [
       " View run <strong style=\"color:#cdcd00\">FL_SMPC_ViT_skin_lesions</strong> at: <a href='https://wandb.ai/MLC-FedML/PrivacyBench/runs/smpxrtv1' target=\"_blank\">https://wandb.ai/MLC-FedML/PrivacyBench/runs/smpxrtv1</a><br> View project at: <a href='https://wandb.ai/MLC-FedML/PrivacyBench' target=\"_blank\">https://wandb.ai/MLC-FedML/PrivacyBench</a><br>Synced 5 W&B file(s), 0 media file(s), 0 artifact file(s) and 0 other file(s)"
      ],
      "text/plain": [
       "<IPython.core.display.HTML object>"
      ]
     },
     "metadata": {},
     "output_type": "display_data"
    },
    {
     "data": {
      "text/html": [
       "Find logs at: <code>/home/emeka/PrivacyBench/logs/wandb/run-20250515_055759-smpxrtv1/logs</code>"
      ],
      "text/plain": [
       "<IPython.core.display.HTML object>"
      ]
     },
     "metadata": {},
     "output_type": "display_data"
    },
    {
     "name": "stderr",
     "output_type": "stream",
     "text": [
      "/home/emeka/PrivacyBench/.venv/lib/python3.12/site-packages/codecarbon/output_methods/file.py:52: FutureWarning: The behavior of DataFrame concatenation with empty or all-NA entries is deprecated. In a future version, this will no longer exclude empty or all-NA columns when determining the result dtypes. To retain the old behavior, exclude the relevant entries before the concat operation.\n",
      "  df = pd.concat([df, pd.DataFrame.from_records([dict(total.values)])])\n",
      "\u001b[92mINFO \u001b[0m:      fit progress: (5, 0.5746630905794095, {'accuracy': 0.8647311827956989}, 6006.326026283)\n",
      "\u001b[92mINFO \u001b[0m:      configure_evaluate: strategy sampled 3 clients (out of 3)\n",
      "\u001b[36m(ClientAppActor pid=19793)\u001b[0m Some weights of ViTForImageClassification were not initialized from the model checkpoint at google/vit-base-patch16-224-in21k and are newly initialized: ['classifier.bias', 'classifier.weight']\n",
      "\u001b[36m(ClientAppActor pid=19793)\u001b[0m You should probably TRAIN this model on a down-stream task to be able to use it for predictions and inference.\n",
      "\u001b[36m(ClientAppActor pid=19792)\u001b[0m 05/15/2025 05:56:55:DEBUG:Node 7253359150554047717: starting stage 3...\n",
      "\u001b[36m(ClientAppActor pid=19792)\u001b[0m 05/15/2025 05:56:55:DEBUG:Node 7253359150554047717: stage 3 completes. uploading key shares...\n",
      "\u001b[36m(ClientAppActor pid=19793)\u001b[0m /home/emeka/.local/share/uv/python/cpython-3.12.10-linux-x86_64-gnu/lib/python3.12/multiprocessing/popen_fork.py:66: DeprecationWarning: This process (pid=19793) is multi-threaded, use of fork() may lead to deadlocks in the child.\n",
      "\u001b[36m(ClientAppActor pid=19793)\u001b[0m   self.pid = os.fork()\n",
      "\u001b[36m(ClientAppActor pid=19793)\u001b[0m Some weights of ViTForImageClassification were not initialized from the model checkpoint at google/vit-base-patch16-224-in21k and are newly initialized: ['classifier.bias', 'classifier.weight']\u001b[32m [repeated 2x across cluster]\u001b[0m\n",
      "\u001b[36m(ClientAppActor pid=19793)\u001b[0m You should probably TRAIN this model on a down-stream task to be able to use it for predictions and inference.\u001b[32m [repeated 2x across cluster]\u001b[0m\n",
      "\u001b[36m(ClientAppActor pid=19792)\u001b[0m /home/emeka/.local/share/uv/python/cpython-3.12.10-linux-x86_64-gnu/lib/python3.12/multiprocessing/popen_fork.py:66: DeprecationWarning: This process (pid=19792) is multi-threaded, use of fork() may lead to deadlocks in the child.\n",
      "\u001b[36m(ClientAppActor pid=19792)\u001b[0m   self.pid = os.fork()\n",
      "\u001b[92mINFO \u001b[0m:      aggregate_evaluate: received 3 results and 0 failures\n",
      "\u001b[92mINFO \u001b[0m:      \n",
      "\u001b[92mINFO \u001b[0m:      [SUMMARY]\n",
      "\u001b[92mINFO \u001b[0m:      Run finished 5 round(s) in 6021.90s\n",
      "\u001b[92mINFO \u001b[0m:      History (loss, distributed):\n",
      "\u001b[92mINFO \u001b[0m:      \t\tround 1: 0.7170620943264415\n",
      "\u001b[92mINFO \u001b[0m:      \t\tround 2: 0.7272911636003604\n",
      "\u001b[92mINFO \u001b[0m:      \t\tround 3: 0.8041844416875392\n",
      "\u001b[92mINFO \u001b[0m:      \t\tround 4: 0.8240169467874997\n",
      "\u001b[92mINFO \u001b[0m:      \t\tround 5: 0.7181590607700249\n",
      "\u001b[92mINFO \u001b[0m:      \tHistory (loss, centralized):\n",
      "\u001b[92mINFO \u001b[0m:      \t\tround 0: 2.120380860485443\n",
      "\u001b[92mINFO \u001b[0m:      \t\tround 1: 0.6223633939795808\n",
      "\u001b[92mINFO \u001b[0m:      \t\tround 2: 0.5781181809294663\n",
      "\u001b[92mINFO \u001b[0m:      \t\tround 3: 0.5705815489086552\n",
      "\u001b[92mINFO \u001b[0m:      \t\tround 4: 0.6252767429392058\n",
      "\u001b[92mINFO \u001b[0m:      \t\tround 5: 0.5746630905794095\n",
      "\u001b[92mINFO \u001b[0m:      \tHistory (metrics, distributed, evaluate):\n",
      "\u001b[92mINFO \u001b[0m:      \t{'accuracy': [(1, 0.782258064516129),\n",
      "\u001b[92mINFO \u001b[0m:      \t              (2, 0.8158602150537635),\n",
      "\u001b[92mINFO \u001b[0m:      \t              (3, 0.8259408602150538),\n",
      "\u001b[92mINFO \u001b[0m:      \t              (4, 0.8293010752688172),\n",
      "\u001b[92mINFO \u001b[0m:      \t              (5, 0.8508064516129032)]}\n",
      "\u001b[92mINFO \u001b[0m:      \tHistory (metrics, centralized):\n",
      "\u001b[92mINFO \u001b[0m:      \t{'accuracy': [(0, 0.0643010752688172),\n",
      "\u001b[92mINFO \u001b[0m:      \t              (1, 0.8086021505376344),\n",
      "\u001b[92mINFO \u001b[0m:      \t              (2, 0.843010752688172),\n",
      "\u001b[92mINFO \u001b[0m:      \t              (3, 0.8567741935483871),\n",
      "\u001b[92mINFO \u001b[0m:      \t              (4, 0.8561290322580645),\n",
      "\u001b[92mINFO \u001b[0m:      \t              (5, 0.8647311827956989)]}\n",
      "\u001b[92mINFO \u001b[0m:      \n",
      "\u001b[94mDEBUG \u001b[0m:     ServerApp finished running.\n",
      "\u001b[94mDEBUG \u001b[0m:     ServerApp finished running.\n",
      "\u001b[94mDEBUG \u001b[0m:     Triggered stop event for Simulation Engine.\n",
      "\u001b[94mDEBUG \u001b[0m:     Terminated 2 actors\n",
      "\u001b[94mDEBUG \u001b[0m:     Terminated RayBackend\n",
      "\u001b[94mDEBUG \u001b[0m:     Stopping Simulation Engine now.\n"
     ]
    },
    {
     "name": "stdout",
     "output_type": "stream",
     "text": [
      "\n",
      "🕒 Total Time: 101 min 18 sec\n"
     ]
    }
   ],
   "source": [
    "project_root =  os.path.abspath(\"../..\")\n",
    "\n",
    "ray.shutdown()\n",
    "\n",
    "ray.init(\n",
    "    _temp_dir=str(RAY_LOG_DIR), \n",
    "    runtime_env={\n",
    "        \"env_vars\": {\"OMP_NUM_THREADS\": \"1\"}, #<--- Prevents thread oversubscription\n",
    "        \"working_dir\": project_root,\n",
    "        'excludes': ['.cache', '.docker', '.local', 'logs/model'],\n",
    "    },\n",
    "    ignore_reinit_error=True\n",
    "    )\n",
    "\n",
    "start_time = time.perf_counter()\n",
    "\n",
    "run_simulation(\n",
    "    server_app = server,\n",
    "    client_app = client,\n",
    "    num_supernodes = fed_config.get(\"num_clients\"), #<-- How many clients trains at once  (in parralel)\n",
    "    backend_config=backend_setup\n",
    ")\n",
    "\n",
    "end_time = time.perf_counter()\n",
    "duration = end_time - start_time\n",
    "print(f\"\\n🕒 Total Time: {duration // 60:.0f} min {duration % 60:.0f} sec\")\n",
    "\n",
    "ray.shutdown()"
   ]
  },
  {
   "cell_type": "markdown",
   "id": "62e1194b",
   "metadata": {},
   "source": [
    "----"
   ]
  },
  {
   "cell_type": "code",
   "execution_count": null,
   "id": "966e2058",
   "metadata": {},
   "outputs": [],
   "source": []
  }
 ],
 "metadata": {
  "kernelspec": {
   "display_name": ".venv",
   "language": "python",
   "name": "python3"
  },
  "language_info": {
   "codemirror_mode": {
    "name": "ipython",
    "version": 3
   },
   "file_extension": ".py",
   "mimetype": "text/x-python",
   "name": "python",
   "nbconvert_exporter": "python",
   "pygments_lexer": "ipython3",
   "version": "3.12.10"
  }
 },
 "nbformat": 4,
 "nbformat_minor": 5
}
