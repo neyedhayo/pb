{
 "cells": [
  {
   "cell_type": "markdown",
   "id": "addbeff0",
   "metadata": {},
   "source": [
    "# Central Differential Privacy (Server-Side Clipping)\n",
    "\n"
   ]
  },
  {
   "cell_type": "markdown",
   "id": "163c55bc",
   "metadata": {},
   "source": [
    "Central DP on server-side approach consists of two separate phases: \n",
    "> 1. clipping of the updates\n",
    "> 2. adding noise to the aggregated model. \n",
    "\n",
    "For the clipping phase, Flower framework has made it possible to decide whether to perform clipping on the `server side` or the `client side`.\n",
    "\n",
    "\n",
    "\n",
    "This approach has the advantage of the server enforcing uniform clipping across all clients’ updates and reducing the communication overhead for clipping values. However, it also has the disadvantage of increasing the computational load on the server due to the need to perform the clipping operation for all clients.\n",
    "\n",
    "For central DP with server-side clipping, there are two Strategy classes that act as wrappers around the actual Strategy instance (for example in our case, FedAvg). \n",
    "\n",
    "The two wrapper classes are:\n",
    "> 1. `DifferentialPrivacyServerSideFixedClipping` for fixed clipping\n",
    "> 2. `DifferentialPrivacyServerSideAdaptiveClipping` for adaptive clipping.\n",
    "\n",
    "<br><p>\n",
    "\n",
    "## CNN: DifferentialPrivacyServerSideFixedClipping\n",
    "\n",
    "Here, we'll focus on running our experiment with `DifferentialPrivacyServerSideFixedClipping`\n",
    "\n",
    "<br><p>\n",
    "\n",
    "----"
   ]
  },
  {
   "cell_type": "code",
   "execution_count": 1,
   "id": "2aed0151",
   "metadata": {},
   "outputs": [
    {
     "name": "stdout",
     "output_type": "stream",
     "text": [
      "Python implementation: CPython\n",
      "Python version       : 3.12.10\n",
      "IPython version      : 9.1.0\n",
      "\n",
      "torch: 2.6.0\n",
      "flwr : 1.18.0\n",
      "\n"
     ]
    }
   ],
   "source": [
    "%load_ext autoreload\n",
    "%load_ext watermark\n",
    "    \n",
    "%autoreload 2\n",
    "%watermark --python -p torch,flwr"
   ]
  },
  {
   "cell_type": "markdown",
   "id": "da6e4479",
   "metadata": {},
   "source": [
    "--------\n",
    "\n",
    "## Loading Dependencies"
   ]
  },
  {
   "cell_type": "code",
   "execution_count": null,
   "id": "de7f4bf5",
   "metadata": {},
   "outputs": [],
   "source": [
    "import os\n",
    "import sys\n",
    "sys.path.append(\"../..\")\n",
    "\n",
    "import ray\n",
    "import time\n",
    "\n",
    "import torch.nn as nn\n",
    "from torchvision.models import resnet18, ResNet18_Weights\n",
    "\n",
    "from logging import ERROR\n",
    "\n",
    "from flwr.common import ndarrays_to_parameters, Context \n",
    "from flwr.client import Client, ClientApp\n",
    "from flwr.server import ServerApp, ServerConfig, ServerAppComponents\n",
    "from flwr.server.strategy import DifferentialPrivacyServerSideFixedClipping, FedAvg\n",
    "from flwr.simulation import run_simulation\n",
    "\n",
    "from src.config import ExperimentName\n",
    "from src.paths import RAY_LOG_DIR\n",
    "from src.FL_client import MedicalImageClient\n",
    "from src.FL_server import weighted_average, build_evaluate_fn\n",
    "from src.local_utility import load_yaml_config, set_device, prepare_FL_dataset, get_weights\n",
    "\n",
    "from src.tracker import reset_base_memory_csv"
   ]
  },
  {
   "cell_type": "code",
   "execution_count": null,
   "id": "28e61ed9",
   "metadata": {},
   "outputs": [],
   "source": [
    "# Replace with appropritate values\n",
    "data_name_ = \"alzheimer\" #\"skin_lesions\"  #\n",
    "base_type_ = \"cnn\"           \n",
    "num_labels_ = 4 #Alzheimer-4 & skin_lesions-8 classlabels\n",
    "exp_name_ = \"CDP-SF\"\n",
    "experiment_name_ = ExperimentName.FL_CDP_SF_CNN"
   ]
  },
  {
   "cell_type": "code",
   "execution_count": null,
   "id": "0ccbbe0b",
   "metadata": {},
   "outputs": [],
   "source": [
    "DEVICE = set_device()\n",
    "reset_base_memory_csv() \n",
    "\n",
    "fed_config = load_yaml_config(key=\"experiments\", item_name=ExperimentName.FL_CDP_SF_CNN)\n",
    "client_dataloaders = prepare_FL_dataset(exp_name= exp_name_, data_name=data_name_, base_type=base_type_, augment_data=True)"
   ]
  },
  {
   "cell_type": "code",
   "execution_count": null,
   "id": "cc114cc7",
   "metadata": {},
   "outputs": [],
   "source": [
    "def client_fn(context: Context) -> Client:\n",
    "    \"\"\"\n",
    "    Creates and initializes a federated learning client.\n",
    "\n",
    "    This function initializes a client in the federated learning setup by \n",
    "    assigning a unique partitioned dataset and a machine learning model \n",
    "    for training and validation.\n",
    "\n",
    "    Args:\n",
    "        context (Context): The execution context containing client-specific configurations.\n",
    "\n",
    "    Returns:\n",
    "        Client: A configured federated learning client ready to participate in training.\n",
    "    \"\"\"\n",
    "    partition_id = int(context.node_config[\"partition-id\"]) #<--- Get the client partition ID\n",
    "    \n",
    "    model = resnet18(weights=ResNet18_Weights.IMAGENET1K_V1)\n",
    "    model.fc = nn.Linear(in_features=model.fc.in_features, out_features=num_labels_)\n",
    "\n",
    "    # Assign partitioned client dataset\n",
    "    train_loader, val_loader, test_loader = client_dataloaders[partition_id]\n",
    "    \n",
    "    return MedicalImageClient(model, train_loader, val_loader, exp_name=exp_name_, data_name = data_name_, base_type=base_type_, client_id=partition_id).to_client()\n",
    "\n",
    "client = ClientApp(client_fn)"
   ]
  },
  {
   "cell_type": "code",
   "execution_count": null,
   "id": "99323805",
   "metadata": {},
   "outputs": [],
   "source": [
    "def server_fn(context: Context):\n",
    "    \"\"\"\n",
    "    Creates and configures the federated learning server using the FedAvg strategy.\n",
    "\n",
    "    This function initializes the federated learning server with a FedAvg strategy,\n",
    "    specifying the parameters for client participation in training and evaluation,\n",
    "    the global model evaluation function, and the metric aggregation function.\n",
    "\n",
    "    Args:\n",
    "        context (Context): The execution context for the federated learning server.\n",
    "\n",
    "    Returns:\n",
    "        ServerAppComponents: A configured server application with the defined strategy\n",
    "        and server settings.\n",
    "    \"\"\"\n",
    "    model = resnet18(weights=ResNet18_Weights.IMAGENET1K_V1)\n",
    "    model.fc = nn.Linear(in_features=model.fc.in_features, out_features=num_labels_)\n",
    "    params = ndarrays_to_parameters(get_weights(model))\n",
    "    \n",
    "    # Create FedAvg strategy\n",
    "    strategy = FedAvg(\n",
    "        fraction_fit=1.0,                 #<--- Sample 100% of available clients for training\n",
    "        fraction_evaluate=1.0,            #<--- Sample 100% of available clients for evaluation\n",
    "        initial_parameters=params,        #<--- Initial model parameters\n",
    "        evaluate_fn=build_evaluate_fn(    #<--- Global evaluation function\n",
    "            exp_name = exp_name_, \n",
    "            base_type = base_type_,\n",
    "            data_name=data_name_, \n",
    "            experiment_item=experiment_name_, \n",
    "            num_labels=num_labels_\n",
    "            ),\n",
    "        evaluate_metrics_aggregation_fn=weighted_average,  #<-- pass the metric aggregation function\n",
    "    )\n",
    "    \n",
    "    # Wrap the strategy with the DifferentialPrivacyServerSideFixedClipping wrapper\n",
    "    dp_strategy = DifferentialPrivacyServerSideFixedClipping(\n",
    "        strategy= strategy,\n",
    "        noise_multiplier= 0.001, #0.001,\n",
    "        num_sampled_clients=fed_config.get(\"num_clients\"),\n",
    "        clipping_norm=0.1 #1e-4\n",
    "        )\n",
    "    \n",
    "    # Configure the server with the specified number of federated rounds\n",
    "    sever_config = ServerConfig(num_rounds=fed_config['num_rounds']) #<--- no. of federated rounds\n",
    "    \n",
    "    return ServerAppComponents(strategy = dp_strategy, config = sever_config)\n",
    "\n",
    "# Wrap the server function in a ServerApp, and instantiate it\n",
    "server = ServerApp(server_fn = server_fn) "
   ]
  },
  {
   "cell_type": "markdown",
   "id": "6be1f759",
   "metadata": {},
   "source": [
    "----- \n",
    "\n",
    "Set up our backend configurations before running the simulation\n",
    "\n",
    "> - `init_args`: filter logging coming from the Simulation Engine so it's more readable in notebooks\n",
    "> - `client_resources`: by default, allocate to each client 1x CPU and 0x GPUs. However, when running on GPU, assign an entire GPU for each client"
   ]
  },
  {
   "cell_type": "code",
   "execution_count": 6,
   "id": "2d8606ba",
   "metadata": {},
   "outputs": [],
   "source": [
    "backend_setup = {\n",
    "    \"init_args\": {\n",
    "        \"logging_level\": ERROR, \n",
    "        \"log_to_driver\": fed_config.get(\"log_to_driver\")\n",
    "    },\n",
    "    \"client_resources\": {\n",
    "        \"num_cpus\": fed_config.get(\"num_cpus\"), \n",
    "        \"num_gpus\": fed_config.get(\"num_gpus\")            \n",
    "    },\n",
    "}\n",
    "\n",
    "# When running on GPU, assign an entire GPU for each client\n",
    "if DEVICE == \"cuda\": \n",
    "    backend_setup[\"client_resources\"] = {\"num_cpus\": 1, \"num_gpus\": 1.0}"
   ]
  },
  {
   "cell_type": "markdown",
   "id": "521fe259",
   "metadata": {},
   "source": [
    "--- \n",
    "\n",
    "## Initiate the Simulation \n",
    "\n",
    "Initiate the simulation by passing the server and client apps, and specify the number of supernodes that will be selected on every round. "
   ]
  },
  {
   "cell_type": "code",
   "execution_count": null,
   "id": "fbaee95c",
   "metadata": {},
   "outputs": [
    {
     "name": "stderr",
     "output_type": "stream",
     "text": [
      "2025-05-04 17:50:18,558\tINFO worker.py:1771 -- Started a local Ray instance.\n",
      "2025-05-04 17:50:18,898\tINFO packaging.py:530 -- Creating a file package for local directory '/home/emeka/PrivacyBench'.\n",
      "2025-05-04 17:50:19,323\tINFO packaging.py:358 -- Pushing file package 'gcs://_ray_pkg_8034838f7344d6da.zip' (16.62MiB) to Ray cluster...\n",
      "2025-05-04 17:50:19,374\tINFO packaging.py:371 -- Successfully pushed file package 'gcs://_ray_pkg_8034838f7344d6da.zip'.\n",
      "2025-05-04 17:50:20,474 - DEBUG - Asyncio event loop already running.\n",
      "\u001b[92mINFO \u001b[0m:      Starting Flower ServerApp, config: num_rounds=20, no round_timeout\n",
      "\u001b[92mINFO \u001b[0m:      \n",
      "\u001b[92mINFO \u001b[0m:      [INIT]\n",
      "\u001b[92mINFO \u001b[0m:      Using initial global parameters provided by strategy\n",
      "\u001b[92mINFO \u001b[0m:      Starting evaluation of initial global parameters\n",
      "[codecarbon WARNING @ 17:50:20] Multiple instances of codecarbon are allowed to run at the same time.\n",
      "/home/emeka/.local/share/uv/python/cpython-3.12.10-linux-x86_64-gnu/lib/python3.12/multiprocessing/popen_fork.py:66: DeprecationWarning: This process (pid=170505) is multi-threaded, use of fork() may lead to deadlocks in the child.\n",
      "  self.pid = os.fork()\n",
      "/home/emeka/PrivacyBench/notebooks/../src/tracker.py:40: FutureWarning: The behavior of DataFrame concatenation with empty or all-NA entries is deprecated. In a future version, this will no longer exclude empty or all-NA columns when determining the result dtypes. To retain the old behavior, exclude the relevant entries before the concat operation.\n",
      "  df = pd.concat([df, pd.DataFrame([new_row])], ignore_index=True)\n",
      "\u001b[92mINFO \u001b[0m:      initial parameters (loss, other metrics): 1.7697360694408417, {'accuracy': 0.35859375}\n",
      "\u001b[92mINFO \u001b[0m:      \n",
      "\u001b[92mINFO \u001b[0m:      [ROUND 1]\n",
      "\u001b[92mINFO \u001b[0m:      configure_fit: strategy sampled 3 clients (out of 3)\n",
      "\u001b[33m(raylet)\u001b[0m [2025-05-04 17:50:27,460 E 170843 170883] (raylet) file_system_monitor.cc:111: /home/emeka/PrivacyBench/logs/ray/session_2025-05-04_17-50-15_535960_170505 is over 95% full, available space: 847941632; capacity: 52589998080. Object creation will fail if spilling is required.\n",
      "\u001b[36m(ClientAppActor pid=172747)\u001b[0m Seed set to 42\n",
      "\u001b[36m(ClientAppActor pid=172747)\u001b[0m [codecarbon WARNING @ 17:50:33] Multiple instances of codecarbon are allowed to run at the same time.\n",
      "\u001b[36m(ClientAppActor pid=172747)\u001b[0m /home/emeka/.local/share/uv/python/cpython-3.12.10-linux-x86_64-gnu/lib/python3.12/multiprocessing/popen_fork.py:66: DeprecationWarning: This process (pid=172747) is multi-threaded, use of fork() may lead to deadlocks in the child.\n",
      "\u001b[36m(ClientAppActor pid=172747)\u001b[0m   self.pid = os.fork()\n",
      "\u001b[33m(raylet)\u001b[0m [2025-05-04 17:50:37,470 E 170843 170883] (raylet) file_system_monitor.cc:111: /home/emeka/PrivacyBench/logs/ray/session_2025-05-04_17-50-15_535960_170505 is over 95% full, available space: 847740928; capacity: 52589998080. Object creation will fail if spilling is required.\n",
      "\u001b[36m(ClientAppActor pid=172748)\u001b[0m Seed set to 42\n",
      "\u001b[36m(ClientAppActor pid=172748)\u001b[0m [codecarbon WARNING @ 17:50:33] Multiple instances of codecarbon are allowed to run at the same time.\n",
      "\u001b[36m(ClientAppActor pid=172748)\u001b[0m /home/emeka/.local/share/uv/python/cpython-3.12.10-linux-x86_64-gnu/lib/python3.12/multiprocessing/popen_fork.py:66: DeprecationWarning: This process (pid=172748) is multi-threaded, use of fork() may lead to deadlocks in the child.\n",
      "\u001b[36m(ClientAppActor pid=172748)\u001b[0m   self.pid = os.fork()\n",
      "\u001b[33m(raylet)\u001b[0m [2025-05-04 17:50:47,482 E 170843 170883] (raylet) file_system_monitor.cc:111: /home/emeka/PrivacyBench/logs/ray/session_2025-05-04_17-50-15_535960_170505 is over 95% full, available space: 847757312; capacity: 52589998080. Object creation will fail if spilling is required.\n"
     ]
    },
    {
     "name": "stdout",
     "output_type": "stream",
     "text": [
      "\u001b[36m(ClientAppActor pid=172747)\u001b[0m \n",
      "\u001b[36m(ClientAppActor pid=172747)\u001b[0m 🔎 Tracker: FL + CDP-SF (CNN)\n",
      "\u001b[36m(ClientAppActor pid=172747)\u001b[0m 📁 Logs saved to: /home/emeka/PrivacyBench/logs/emissions/FL_CDP-SF_CNN/client_emissions.csv\n",
      "\u001b[36m(ClientAppActor pid=172747)\u001b[0m ⏱️ Total training time: 0 minutes 23 seconds\n",
      "\u001b[36m(ClientAppActor pid=172748)\u001b[0m \n"
     ]
    },
    {
     "name": "stderr",
     "output_type": "stream",
     "text": [
      "\u001b[36m(ClientAppActor pid=172747)\u001b[0m Seed set to 42\n",
      "\u001b[33m(raylet)\u001b[0m [2025-05-04 17:50:57,492 E 170843 170883] (raylet) file_system_monitor.cc:111: /home/emeka/PrivacyBench/logs/ray/session_2025-05-04_17-50-15_535960_170505 is over 95% full, available space: 847876096; capacity: 52589998080. Object creation will fail if spilling is required.\n",
      "\u001b[36m(ClientAppActor pid=172747)\u001b[0m /home/emeka/.local/share/uv/python/cpython-3.12.10-linux-x86_64-gnu/lib/python3.12/multiprocessing/popen_fork.py:66: DeprecationWarning: This process (pid=172747) is multi-threaded, use of fork() may lead to deadlocks in the child.\n",
      "\u001b[36m(ClientAppActor pid=172747)\u001b[0m   self.pid = os.fork()\n",
      "\u001b[33m(raylet)\u001b[0m [2025-05-04 17:51:07,502 E 170843 170883] (raylet) file_system_monitor.cc:111: /home/emeka/PrivacyBench/logs/ray/session_2025-05-04_17-50-15_535960_170505 is over 95% full, available space: 847839232; capacity: 52589998080. Object creation will fail if spilling is required.\n",
      "\u001b[33m(raylet)\u001b[0m [2025-05-04 17:51:17,513 E 170843 170883] (raylet) file_system_monitor.cc:111: /home/emeka/PrivacyBench/logs/ray/session_2025-05-04_17-50-15_535960_170505 is over 95% full, available space: 847818752; capacity: 52589998080. Object creation will fail if spilling is required.\n",
      "\u001b[92mINFO \u001b[0m:      aggregate_fit: received 3 results and 0 failures\n"
     ]
    },
    {
     "name": "stdout",
     "output_type": "stream",
     "text": [
      "\u001b[36m(ClientAppActor pid=172747)\u001b[0m \n",
      "\u001b[36m(ClientAppActor pid=172747)\u001b[0m 🔎 Tracker: FL + CDP-SF (CNN)\u001b[32m [repeated 2x across cluster] (Ray deduplicates logs by default. Set RAY_DEDUP_LOGS=0 to disable log deduplication, or see https://docs.ray.io/en/master/ray-observability/user-guides/configure-logging.html#log-deduplication for more options.)\u001b[0m\n",
      "\u001b[36m(ClientAppActor pid=172747)\u001b[0m 📁 Logs saved to: /home/emeka/PrivacyBench/logs/emissions/FL_CDP-SF_CNN/client_emissions.csv\u001b[32m [repeated 2x across cluster]\u001b[0m\n",
      "\u001b[36m(ClientAppActor pid=172747)\u001b[0m ⏱️ Total training time: 0 minutes 22 seconds\u001b[32m [repeated 2x across cluster]\u001b[0m\n"
     ]
    },
    {
     "name": "stderr",
     "output_type": "stream",
     "text": [
      "\u001b[92mINFO \u001b[0m:      aggregate_fit: parameters are clipped by value: 0.1000.\n",
      "\u001b[92mINFO \u001b[0m:      aggregate_fit: parameters are clipped by value: 0.1000.\n",
      "\u001b[92mINFO \u001b[0m:      aggregate_fit: parameters are clipped by value: 0.1000.\n",
      "\u001b[93mWARNING \u001b[0m:   No fit_metrics_aggregation_fn provided\n",
      "\u001b[92mINFO \u001b[0m:      aggregate_fit: central DP noise with 0.0000 stdev added\n",
      "/home/emeka/.local/share/uv/python/cpython-3.12.10-linux-x86_64-gnu/lib/python3.12/multiprocessing/popen_fork.py:66: DeprecationWarning: This process (pid=170505) is multi-threaded, use of fork() may lead to deadlocks in the child.\n",
      "  self.pid = os.fork()\n",
      "\u001b[92mINFO \u001b[0m:      fit progress: (1, nan, {'accuracy': 0.134375}, 58.12609108900142)\n",
      "\u001b[92mINFO \u001b[0m:      configure_evaluate: strategy sampled 3 clients (out of 3)\n",
      "\u001b[36m(ClientAppActor pid=172747)\u001b[0m /home/emeka/.local/share/uv/python/cpython-3.12.10-linux-x86_64-gnu/lib/python3.12/multiprocessing/popen_fork.py:66: DeprecationWarning: This process (pid=172747) is multi-threaded, use of fork() may lead to deadlocks in the child.\n",
      "\u001b[36m(ClientAppActor pid=172747)\u001b[0m   self.pid = os.fork()\n",
      "\u001b[92mINFO \u001b[0m:      aggregate_evaluate: received 3 results and 0 failures\n",
      "\u001b[92mINFO \u001b[0m:      \n",
      "\u001b[92mINFO \u001b[0m:      [ROUND 2]\n",
      "\u001b[92mINFO \u001b[0m:      configure_fit: strategy sampled 3 clients (out of 3)\n",
      "\u001b[36m(ClientAppActor pid=172747)\u001b[0m Seed set to 42\n",
      "\u001b[33m(raylet)\u001b[0m [2025-05-04 17:51:27,523 E 170843 170883] (raylet) file_system_monitor.cc:111: /home/emeka/PrivacyBench/logs/ray/session_2025-05-04_17-50-15_535960_170505 is over 95% full, available space: 847757312; capacity: 52589998080. Object creation will fail if spilling is required.\n",
      "\u001b[36m(ClientAppActor pid=172748)\u001b[0m /home/emeka/.local/share/uv/python/cpython-3.12.10-linux-x86_64-gnu/lib/python3.12/multiprocessing/popen_fork.py:66: DeprecationWarning: This process (pid=172748) is multi-threaded, use of fork() may lead to deadlocks in the child.\u001b[32m [repeated 3x across cluster]\u001b[0m\n",
      "\u001b[36m(ClientAppActor pid=172748)\u001b[0m   self.pid = os.fork()\u001b[32m [repeated 3x across cluster]\u001b[0m\n",
      "\u001b[36m(ClientAppActor pid=172748)\u001b[0m Seed set to 42\n",
      "\u001b[33m(raylet)\u001b[0m [2025-05-04 17:51:37,533 E 170843 170883] (raylet) file_system_monitor.cc:111: /home/emeka/PrivacyBench/logs/ray/session_2025-05-04_17-50-15_535960_170505 is over 95% full, available space: 847712256; capacity: 52589998080. Object creation will fail if spilling is required.\n",
      "\u001b[33m(raylet)\u001b[0m [2025-05-04 17:51:47,545 E 170843 170883] (raylet) file_system_monitor.cc:111: /home/emeka/PrivacyBench/logs/ray/session_2025-05-04_17-50-15_535960_170505 is over 95% full, available space: 847933440; capacity: 52589998080. Object creation will fail if spilling is required.\n"
     ]
    },
    {
     "name": "stdout",
     "output_type": "stream",
     "text": [
      "\u001b[36m(ClientAppActor pid=172748)\u001b[0m \n",
      "\u001b[36m(ClientAppActor pid=172748)\u001b[0m 🔎 Tracker: FL + CDP-SF (CNN)\n",
      "\u001b[36m(ClientAppActor pid=172748)\u001b[0m 📁 Logs saved to: /home/emeka/PrivacyBench/logs/emissions/FL_CDP-SF_CNN/client_emissions.csv\n",
      "\u001b[36m(ClientAppActor pid=172748)\u001b[0m ⏱️ Total training time: 0 minutes 22 seconds\n",
      "\u001b[36m(ClientAppActor pid=172747)\u001b[0m \n",
      "\u001b[36m(ClientAppActor pid=172747)\u001b[0m 🔎 Tracker: FL + CDP-SF (CNN)\n",
      "\u001b[36m(ClientAppActor pid=172747)\u001b[0m 📁 Logs saved to: /home/emeka/PrivacyBench/logs/emissions/FL_CDP-SF_CNN/client_emissions.csv\n",
      "\u001b[36m(ClientAppActor pid=172747)\u001b[0m ⏱️ Total training time: 0 minutes 22 seconds\n"
     ]
    },
    {
     "name": "stderr",
     "output_type": "stream",
     "text": [
      "\u001b[36m(ClientAppActor pid=172747)\u001b[0m Seed set to 42\n",
      "\u001b[36m(ClientAppActor pid=172747)\u001b[0m /home/emeka/.local/share/uv/python/cpython-3.12.10-linux-x86_64-gnu/lib/python3.12/multiprocessing/popen_fork.py:66: DeprecationWarning: This process (pid=172747) is multi-threaded, use of fork() may lead to deadlocks in the child.\n",
      "\u001b[36m(ClientAppActor pid=172747)\u001b[0m   self.pid = os.fork()\n",
      "\u001b[33m(raylet)\u001b[0m [2025-05-04 17:51:57,556 E 170843 170883] (raylet) file_system_monitor.cc:111: /home/emeka/PrivacyBench/logs/ray/session_2025-05-04_17-50-15_535960_170505 is over 95% full, available space: 847937536; capacity: 52589998080. Object creation will fail if spilling is required.\n",
      "\u001b[33m(raylet)\u001b[0m [2025-05-04 17:52:07,566 E 170843 170883] (raylet) file_system_monitor.cc:111: /home/emeka/PrivacyBench/logs/ray/session_2025-05-04_17-50-15_535960_170505 is over 95% full, available space: 847933440; capacity: 52589998080. Object creation will fail if spilling is required.\n",
      "\u001b[92mINFO \u001b[0m:      aggregate_fit: received 3 results and 0 failures\n"
     ]
    },
    {
     "name": "stdout",
     "output_type": "stream",
     "text": [
      "\u001b[36m(ClientAppActor pid=172747)\u001b[0m \n",
      "\u001b[36m(ClientAppActor pid=172747)\u001b[0m 🔎 Tracker: FL + CDP-SF (CNN)\n",
      "\u001b[36m(ClientAppActor pid=172747)\u001b[0m 📁 Logs saved to: /home/emeka/PrivacyBench/logs/emissions/FL_CDP-SF_CNN/client_emissions.csv\n",
      "\u001b[36m(ClientAppActor pid=172747)\u001b[0m ⏱️ Total training time: 0 minutes 21 seconds\n"
     ]
    },
    {
     "name": "stderr",
     "output_type": "stream",
     "text": [
      "\u001b[92mINFO \u001b[0m:      aggregate_fit: parameters are clipped by value: 0.1000.\n",
      "\u001b[92mINFO \u001b[0m:      aggregate_fit: parameters are clipped by value: 0.1000.\n",
      "\u001b[92mINFO \u001b[0m:      aggregate_fit: parameters are clipped by value: 0.1000.\n",
      "\u001b[92mINFO \u001b[0m:      aggregate_fit: central DP noise with 0.0000 stdev added\n",
      "/home/emeka/.local/share/uv/python/cpython-3.12.10-linux-x86_64-gnu/lib/python3.12/multiprocessing/popen_fork.py:66: DeprecationWarning: This process (pid=170505) is multi-threaded, use of fork() may lead to deadlocks in the child.\n",
      "  self.pid = os.fork()\n",
      "\u001b[92mINFO \u001b[0m:      fit progress: (2, nan, {'accuracy': 0.134375}, 110.37939959400137)\n",
      "\u001b[92mINFO \u001b[0m:      configure_evaluate: strategy sampled 3 clients (out of 3)\n",
      "\u001b[36m(ClientAppActor pid=172747)\u001b[0m /home/emeka/.local/share/uv/python/cpython-3.12.10-linux-x86_64-gnu/lib/python3.12/multiprocessing/popen_fork.py:66: DeprecationWarning: This process (pid=172747) is multi-threaded, use of fork() may lead to deadlocks in the child.\n",
      "\u001b[36m(ClientAppActor pid=172747)\u001b[0m   self.pid = os.fork()\n",
      "\u001b[33m(raylet)\u001b[0m [2025-05-04 17:52:17,577 E 170843 170883] (raylet) file_system_monitor.cc:111: /home/emeka/PrivacyBench/logs/ray/session_2025-05-04_17-50-15_535960_170505 is over 95% full, available space: 847904768; capacity: 52589998080. Object creation will fail if spilling is required.\n",
      "\u001b[92mINFO \u001b[0m:      aggregate_evaluate: received 3 results and 0 failures\n",
      "\u001b[92mINFO \u001b[0m:      \n",
      "\u001b[92mINFO \u001b[0m:      [ROUND 3]\n",
      "\u001b[92mINFO \u001b[0m:      configure_fit: strategy sampled 3 clients (out of 3)\n",
      "\u001b[36m(ClientAppActor pid=172747)\u001b[0m Seed set to 42\n",
      "\u001b[36m(ClientAppActor pid=172748)\u001b[0m /home/emeka/.local/share/uv/python/cpython-3.12.10-linux-x86_64-gnu/lib/python3.12/multiprocessing/popen_fork.py:66: DeprecationWarning: This process (pid=172748) is multi-threaded, use of fork() may lead to deadlocks in the child.\u001b[32m [repeated 3x across cluster]\u001b[0m\n",
      "\u001b[36m(ClientAppActor pid=172748)\u001b[0m   self.pid = os.fork()\u001b[32m [repeated 3x across cluster]\u001b[0m\n",
      "\u001b[33m(raylet)\u001b[0m [2025-05-04 17:52:27,587 E 170843 170883] (raylet) file_system_monitor.cc:111: /home/emeka/PrivacyBench/logs/ray/session_2025-05-04_17-50-15_535960_170505 is over 95% full, available space: 847720448; capacity: 52589998080. Object creation will fail if spilling is required.\n",
      "\u001b[36m(ClientAppActor pid=172748)\u001b[0m Seed set to 42\n",
      "\u001b[33m(raylet)\u001b[0m [2025-05-04 17:52:37,597 E 170843 170883] (raylet) file_system_monitor.cc:111: /home/emeka/PrivacyBench/logs/ray/session_2025-05-04_17-50-15_535960_170505 is over 95% full, available space: 847695872; capacity: 52589998080. Object creation will fail if spilling is required.\n"
     ]
    },
    {
     "name": "stdout",
     "output_type": "stream",
     "text": [
      "\u001b[36m(ClientAppActor pid=172748)\u001b[0m \n",
      "\u001b[36m(ClientAppActor pid=172748)\u001b[0m 🔎 Tracker: FL + CDP-SF (CNN)\n",
      "\u001b[36m(ClientAppActor pid=172748)\u001b[0m 📁 Logs saved to: /home/emeka/PrivacyBench/logs/emissions/FL_CDP-SF_CNN/client_emissions.csv\n",
      "\u001b[36m(ClientAppActor pid=172748)\u001b[0m ⏱️ Total training time: 0 minutes 22 seconds\n",
      "\u001b[36m(ClientAppActor pid=172747)\u001b[0m \n"
     ]
    },
    {
     "name": "stderr",
     "output_type": "stream",
     "text": [
      "\u001b[36m(ClientAppActor pid=172748)\u001b[0m Seed set to 42\n",
      "\u001b[36m(ClientAppActor pid=172748)\u001b[0m /home/emeka/.local/share/uv/python/cpython-3.12.10-linux-x86_64-gnu/lib/python3.12/multiprocessing/popen_fork.py:66: DeprecationWarning: This process (pid=172748) is multi-threaded, use of fork() may lead to deadlocks in the child.\n",
      "\u001b[36m(ClientAppActor pid=172748)\u001b[0m   self.pid = os.fork()\n",
      "\u001b[33m(raylet)\u001b[0m [2025-05-04 17:52:47,608 E 170843 170883] (raylet) file_system_monitor.cc:111: /home/emeka/PrivacyBench/logs/ray/session_2025-05-04_17-50-15_535960_170505 is over 95% full, available space: 847912960; capacity: 52589998080. Object creation will fail if spilling is required.\n",
      "\u001b[33m(raylet)\u001b[0m [2025-05-04 17:52:57,617 E 170843 170883] (raylet) file_system_monitor.cc:111: /home/emeka/PrivacyBench/logs/ray/session_2025-05-04_17-50-15_535960_170505 is over 95% full, available space: 847908864; capacity: 52589998080. Object creation will fail if spilling is required.\n",
      "\u001b[92mINFO \u001b[0m:      aggregate_fit: received 3 results and 0 failures\n"
     ]
    },
    {
     "name": "stdout",
     "output_type": "stream",
     "text": [
      "\u001b[36m(ClientAppActor pid=172748)\u001b[0m \n",
      "\u001b[36m(ClientAppActor pid=172748)\u001b[0m 🔎 Tracker: FL + CDP-SF (CNN)\u001b[32m [repeated 2x across cluster]\u001b[0m\n",
      "\u001b[36m(ClientAppActor pid=172748)\u001b[0m 📁 Logs saved to: /home/emeka/PrivacyBench/logs/emissions/FL_CDP-SF_CNN/client_emissions.csv\u001b[32m [repeated 2x across cluster]\u001b[0m\n",
      "\u001b[36m(ClientAppActor pid=172748)\u001b[0m ⏱️ Total training time: 0 minutes 21 seconds\u001b[32m [repeated 2x across cluster]\u001b[0m\n"
     ]
    },
    {
     "name": "stderr",
     "output_type": "stream",
     "text": [
      "\u001b[92mINFO \u001b[0m:      aggregate_fit: parameters are clipped by value: 0.1000.\n",
      "\u001b[92mINFO \u001b[0m:      aggregate_fit: parameters are clipped by value: 0.1000.\n",
      "\u001b[92mINFO \u001b[0m:      aggregate_fit: parameters are clipped by value: 0.1000.\n",
      "\u001b[92mINFO \u001b[0m:      aggregate_fit: central DP noise with 0.0000 stdev added\n",
      "/home/emeka/.local/share/uv/python/cpython-3.12.10-linux-x86_64-gnu/lib/python3.12/multiprocessing/popen_fork.py:66: DeprecationWarning: This process (pid=170505) is multi-threaded, use of fork() may lead to deadlocks in the child.\n",
      "  self.pid = os.fork()\n",
      "\u001b[33m(raylet)\u001b[0m [2025-05-04 17:53:07,627 E 170843 170883] (raylet) file_system_monitor.cc:111: /home/emeka/PrivacyBench/logs/ray/session_2025-05-04_17-50-15_535960_170505 is over 95% full, available space: 847872000; capacity: 52589998080. Object creation will fail if spilling is required.\n",
      "\u001b[92mINFO \u001b[0m:      fit progress: (3, 1.7331762850284576, {'accuracy': 0.35859375}, 162.43530786000156)\n",
      "\u001b[92mINFO \u001b[0m:      configure_evaluate: strategy sampled 3 clients (out of 3)\n",
      "\u001b[36m(ClientAppActor pid=172747)\u001b[0m /home/emeka/.local/share/uv/python/cpython-3.12.10-linux-x86_64-gnu/lib/python3.12/multiprocessing/popen_fork.py:66: DeprecationWarning: This process (pid=172747) is multi-threaded, use of fork() may lead to deadlocks in the child.\n",
      "\u001b[36m(ClientAppActor pid=172747)\u001b[0m   self.pid = os.fork()\n",
      "\u001b[92mINFO \u001b[0m:      aggregate_evaluate: received 3 results and 0 failures\n",
      "\u001b[92mINFO \u001b[0m:      \n",
      "\u001b[92mINFO \u001b[0m:      [ROUND 4]\n",
      "\u001b[92mINFO \u001b[0m:      configure_fit: strategy sampled 3 clients (out of 3)\n",
      "\u001b[36m(ClientAppActor pid=172748)\u001b[0m Seed set to 42\n",
      "\u001b[33m(raylet)\u001b[0m [2025-05-04 17:53:17,638 E 170843 170883] (raylet) file_system_monitor.cc:111: /home/emeka/PrivacyBench/logs/ray/session_2025-05-04_17-50-15_535960_170505 is over 95% full, available space: 847835136; capacity: 52589998080. Object creation will fail if spilling is required.\n",
      "\u001b[36m(ClientAppActor pid=172748)\u001b[0m /home/emeka/.local/share/uv/python/cpython-3.12.10-linux-x86_64-gnu/lib/python3.12/multiprocessing/popen_fork.py:66: DeprecationWarning: This process (pid=172748) is multi-threaded, use of fork() may lead to deadlocks in the child.\u001b[32m [repeated 3x across cluster]\u001b[0m\n",
      "\u001b[36m(ClientAppActor pid=172748)\u001b[0m   self.pid = os.fork()\u001b[32m [repeated 3x across cluster]\u001b[0m\n",
      "\u001b[36m(ClientAppActor pid=172747)\u001b[0m Seed set to 42\n",
      "\u001b[33m(raylet)\u001b[0m [2025-05-04 17:53:27,651 E 170843 170883] (raylet) file_system_monitor.cc:111: /home/emeka/PrivacyBench/logs/ray/session_2025-05-04_17-50-15_535960_170505 is over 95% full, available space: 847519744; capacity: 52589998080. Object creation will fail if spilling is required.\n"
     ]
    },
    {
     "name": "stdout",
     "output_type": "stream",
     "text": [
      "\u001b[36m(ClientAppActor pid=172748)\u001b[0m \n",
      "\u001b[36m(ClientAppActor pid=172748)\u001b[0m 🔎 Tracker: FL + CDP-SF (CNN)\n",
      "\u001b[36m(ClientAppActor pid=172748)\u001b[0m 📁 Logs saved to: /home/emeka/PrivacyBench/logs/emissions/FL_CDP-SF_CNN/client_emissions.csv\n",
      "\u001b[36m(ClientAppActor pid=172748)\u001b[0m ⏱️ Total training time: 0 minutes 22 seconds\n",
      "\u001b[36m(ClientAppActor pid=172747)\u001b[0m \n",
      "\u001b[36m(ClientAppActor pid=172747)\u001b[0m 🔎 Tracker: FL + CDP-SF (CNN)\n",
      "\u001b[36m(ClientAppActor pid=172747)\u001b[0m 📁 Logs saved to: /home/emeka/PrivacyBench/logs/emissions/FL_CDP-SF_CNN/client_emissions.csv\n",
      "\u001b[36m(ClientAppActor pid=172747)\u001b[0m ⏱️ Total training time: 0 minutes 22 seconds\n"
     ]
    },
    {
     "name": "stderr",
     "output_type": "stream",
     "text": [
      "\u001b[36m(ClientAppActor pid=172748)\u001b[0m Seed set to 42\n",
      "\u001b[36m(ClientAppActor pid=172748)\u001b[0m /home/emeka/.local/share/uv/python/cpython-3.12.10-linux-x86_64-gnu/lib/python3.12/multiprocessing/popen_fork.py:66: DeprecationWarning: This process (pid=172748) is multi-threaded, use of fork() may lead to deadlocks in the child.\n",
      "\u001b[36m(ClientAppActor pid=172748)\u001b[0m   self.pid = os.fork()\n",
      "\u001b[33m(raylet)\u001b[0m [2025-05-04 17:53:37,663 E 170843 170883] (raylet) file_system_monitor.cc:111: /home/emeka/PrivacyBench/logs/ray/session_2025-05-04_17-50-15_535960_170505 is over 95% full, available space: 847548416; capacity: 52589998080. Object creation will fail if spilling is required.\n",
      "\u001b[33m(raylet)\u001b[0m [2025-05-04 17:53:47,675 E 170843 170883] (raylet) file_system_monitor.cc:111: /home/emeka/PrivacyBench/logs/ray/session_2025-05-04_17-50-15_535960_170505 is over 95% full, available space: 847532032; capacity: 52589998080. Object creation will fail if spilling is required.\n",
      "\u001b[92mINFO \u001b[0m:      aggregate_fit: received 3 results and 0 failures\n"
     ]
    },
    {
     "name": "stdout",
     "output_type": "stream",
     "text": [
      "\u001b[36m(ClientAppActor pid=172748)\u001b[0m \n",
      "\u001b[36m(ClientAppActor pid=172748)\u001b[0m 🔎 Tracker: FL + CDP-SF (CNN)\n",
      "\u001b[36m(ClientAppActor pid=172748)\u001b[0m 📁 Logs saved to: /home/emeka/PrivacyBench/logs/emissions/FL_CDP-SF_CNN/client_emissions.csv\n",
      "\u001b[36m(ClientAppActor pid=172748)\u001b[0m ⏱️ Total training time: 0 minutes 21 seconds\n"
     ]
    },
    {
     "name": "stderr",
     "output_type": "stream",
     "text": [
      "\u001b[92mINFO \u001b[0m:      aggregate_fit: parameters are clipped by value: 0.1000.\n",
      "\u001b[92mINFO \u001b[0m:      aggregate_fit: parameters are clipped by value: 0.1000.\n",
      "\u001b[92mINFO \u001b[0m:      aggregate_fit: parameters are clipped by value: 0.1000.\n",
      "\u001b[92mINFO \u001b[0m:      aggregate_fit: central DP noise with 0.0000 stdev added\n",
      "\u001b[33m(raylet)\u001b[0m [2025-05-04 17:53:57,686 E 170843 170883] (raylet) file_system_monitor.cc:111: /home/emeka/PrivacyBench/logs/ray/session_2025-05-04_17-50-15_535960_170505 is over 95% full, available space: 847536128; capacity: 52589998080. Object creation will fail if spilling is required.\n",
      "/home/emeka/.local/share/uv/python/cpython-3.12.10-linux-x86_64-gnu/lib/python3.12/multiprocessing/popen_fork.py:66: DeprecationWarning: This process (pid=170505) is multi-threaded, use of fork() may lead to deadlocks in the child.\n",
      "  self.pid = os.fork()\n",
      "\u001b[92mINFO \u001b[0m:      fit progress: (4, 1.7211742281913758, {'accuracy': 0.35859375}, 214.17111289200147)\n",
      "\u001b[92mINFO \u001b[0m:      configure_evaluate: strategy sampled 3 clients (out of 3)\n",
      "\u001b[36m(ClientAppActor pid=172747)\u001b[0m /home/emeka/.local/share/uv/python/cpython-3.12.10-linux-x86_64-gnu/lib/python3.12/multiprocessing/popen_fork.py:66: DeprecationWarning: This process (pid=172747) is multi-threaded, use of fork() may lead to deadlocks in the child.\n",
      "\u001b[36m(ClientAppActor pid=172747)\u001b[0m   self.pid = os.fork()\n",
      "\u001b[92mINFO \u001b[0m:      aggregate_evaluate: received 3 results and 0 failures\n",
      "\u001b[92mINFO \u001b[0m:      \n",
      "\u001b[92mINFO \u001b[0m:      [ROUND 5]\n",
      "\u001b[92mINFO \u001b[0m:      configure_fit: strategy sampled 3 clients (out of 3)\n",
      "\u001b[36m(ClientAppActor pid=172747)\u001b[0m Seed set to 42\n",
      "\u001b[33m(raylet)\u001b[0m [2025-05-04 17:54:07,696 E 170843 170883] (raylet) file_system_monitor.cc:111: /home/emeka/PrivacyBench/logs/ray/session_2025-05-04_17-50-15_535960_170505 is over 95% full, available space: 847499264; capacity: 52589998080. Object creation will fail if spilling is required.\n",
      "\u001b[36m(ClientAppActor pid=172748)\u001b[0m /home/emeka/.local/share/uv/python/cpython-3.12.10-linux-x86_64-gnu/lib/python3.12/multiprocessing/popen_fork.py:66: DeprecationWarning: This process (pid=172748) is multi-threaded, use of fork() may lead to deadlocks in the child.\u001b[32m [repeated 3x across cluster]\u001b[0m\n",
      "\u001b[36m(ClientAppActor pid=172748)\u001b[0m   self.pid = os.fork()\u001b[32m [repeated 3x across cluster]\u001b[0m\n",
      "\u001b[36m(ClientAppActor pid=172748)\u001b[0m Seed set to 42\n",
      "\u001b[33m(raylet)\u001b[0m [2025-05-04 17:54:17,707 E 170843 170883] (raylet) file_system_monitor.cc:111: /home/emeka/PrivacyBench/logs/ray/session_2025-05-04_17-50-15_535960_170505 is over 95% full, available space: 847446016; capacity: 52589998080. Object creation will fail if spilling is required.\n"
     ]
    },
    {
     "name": "stdout",
     "output_type": "stream",
     "text": [
      "\u001b[36m(ClientAppActor pid=172748)\u001b[0m \n",
      "\u001b[36m(ClientAppActor pid=172748)\u001b[0m 🔎 Tracker: FL + CDP-SF (CNN)\n",
      "\u001b[36m(ClientAppActor pid=172748)\u001b[0m 📁 Logs saved to: /home/emeka/PrivacyBench/logs/emissions/FL_CDP-SF_CNN/client_emissions.csv\n",
      "\u001b[36m(ClientAppActor pid=172748)\u001b[0m ⏱️ Total training time: 0 minutes 22 seconds\n",
      "\u001b[36m(ClientAppActor pid=172747)\u001b[0m \n"
     ]
    },
    {
     "name": "stderr",
     "output_type": "stream",
     "text": [
      "\u001b[36m(ClientAppActor pid=172748)\u001b[0m Seed set to 42\n",
      "\u001b[36m(ClientAppActor pid=172748)\u001b[0m /home/emeka/.local/share/uv/python/cpython-3.12.10-linux-x86_64-gnu/lib/python3.12/multiprocessing/popen_fork.py:66: DeprecationWarning: This process (pid=172748) is multi-threaded, use of fork() may lead to deadlocks in the child.\n",
      "\u001b[36m(ClientAppActor pid=172748)\u001b[0m   self.pid = os.fork()\n",
      "\u001b[33m(raylet)\u001b[0m [2025-05-04 17:54:27,717 E 170843 170883] (raylet) file_system_monitor.cc:111: /home/emeka/PrivacyBench/logs/ray/session_2025-05-04_17-50-15_535960_170505 is over 95% full, available space: 847155200; capacity: 52589998080. Object creation will fail if spilling is required.\n",
      "\u001b[33m(raylet)\u001b[0m [2025-05-04 17:54:37,728 E 170843 170883] (raylet) file_system_monitor.cc:111: /home/emeka/PrivacyBench/logs/ray/session_2025-05-04_17-50-15_535960_170505 is over 95% full, available space: 847151104; capacity: 52589998080. Object creation will fail if spilling is required.\n",
      "\u001b[33m(raylet)\u001b[0m [2025-05-04 17:54:47,739 E 170843 170883] (raylet) file_system_monitor.cc:111: /home/emeka/PrivacyBench/logs/ray/session_2025-05-04_17-50-15_535960_170505 is over 95% full, available space: 847126528; capacity: 52589998080. Object creation will fail if spilling is required.\n",
      "\u001b[92mINFO \u001b[0m:      aggregate_fit: received 3 results and 0 failures\n"
     ]
    },
    {
     "name": "stdout",
     "output_type": "stream",
     "text": [
      "\u001b[36m(ClientAppActor pid=172748)\u001b[0m \n",
      "\u001b[36m(ClientAppActor pid=172748)\u001b[0m 🔎 Tracker: FL + CDP-SF (CNN)\u001b[32m [repeated 2x across cluster]\u001b[0m\n",
      "\u001b[36m(ClientAppActor pid=172748)\u001b[0m 📁 Logs saved to: /home/emeka/PrivacyBench/logs/emissions/FL_CDP-SF_CNN/client_emissions.csv\u001b[32m [repeated 2x across cluster]\u001b[0m\n",
      "\u001b[36m(ClientAppActor pid=172748)\u001b[0m ⏱️ Total training time: 0 minutes 22 seconds\u001b[32m [repeated 2x across cluster]\u001b[0m\n"
     ]
    },
    {
     "name": "stderr",
     "output_type": "stream",
     "text": [
      "\u001b[92mINFO \u001b[0m:      aggregate_fit: parameters are clipped by value: 0.1000.\n",
      "\u001b[92mINFO \u001b[0m:      aggregate_fit: parameters are clipped by value: 0.1000.\n",
      "\u001b[92mINFO \u001b[0m:      aggregate_fit: parameters are clipped by value: 0.1000.\n",
      "\u001b[92mINFO \u001b[0m:      aggregate_fit: central DP noise with 0.0000 stdev added\n",
      "/home/emeka/.local/share/uv/python/cpython-3.12.10-linux-x86_64-gnu/lib/python3.12/multiprocessing/popen_fork.py:66: DeprecationWarning: This process (pid=170505) is multi-threaded, use of fork() may lead to deadlocks in the child.\n",
      "  self.pid = os.fork()\n",
      "\u001b[92mINFO \u001b[0m:      fit progress: (5, nan, {'accuracy': 0.134375}, 266.6948897910006)\n",
      "\u001b[92mINFO \u001b[0m:      configure_evaluate: strategy sampled 3 clients (out of 3)\n",
      "\u001b[36m(ClientAppActor pid=172747)\u001b[0m /home/emeka/.local/share/uv/python/cpython-3.12.10-linux-x86_64-gnu/lib/python3.12/multiprocessing/popen_fork.py:66: DeprecationWarning: This process (pid=172747) is multi-threaded, use of fork() may lead to deadlocks in the child.\n",
      "\u001b[36m(ClientAppActor pid=172747)\u001b[0m   self.pid = os.fork()\n",
      "\u001b[92mINFO \u001b[0m:      aggregate_evaluate: received 3 results and 0 failures\n",
      "\u001b[92mINFO \u001b[0m:      \n",
      "\u001b[92mINFO \u001b[0m:      [ROUND 6]\n",
      "\u001b[92mINFO \u001b[0m:      configure_fit: strategy sampled 3 clients (out of 3)\n",
      "\u001b[36m(ClientAppActor pid=172747)\u001b[0m Seed set to 42\n",
      "\u001b[33m(raylet)\u001b[0m [2025-05-04 17:54:57,749 E 170843 170883] (raylet) file_system_monitor.cc:111: /home/emeka/PrivacyBench/logs/ray/session_2025-05-04_17-50-15_535960_170505 is over 95% full, available space: 847073280; capacity: 52589998080. Object creation will fail if spilling is required.\n",
      "\u001b[36m(ClientAppActor pid=172748)\u001b[0m /home/emeka/.local/share/uv/python/cpython-3.12.10-linux-x86_64-gnu/lib/python3.12/multiprocessing/popen_fork.py:66: DeprecationWarning: This process (pid=172748) is multi-threaded, use of fork() may lead to deadlocks in the child.\u001b[32m [repeated 3x across cluster]\u001b[0m\n",
      "\u001b[36m(ClientAppActor pid=172748)\u001b[0m   self.pid = os.fork()\u001b[32m [repeated 3x across cluster]\u001b[0m\n",
      "\u001b[36m(ClientAppActor pid=172748)\u001b[0m Seed set to 42\n",
      "\u001b[33m(raylet)\u001b[0m [2025-05-04 17:55:07,760 E 170843 170883] (raylet) file_system_monitor.cc:111: /home/emeka/PrivacyBench/logs/ray/session_2025-05-04_17-50-15_535960_170505 is over 95% full, available space: 847052800; capacity: 52589998080. Object creation will fail if spilling is required.\n",
      "\u001b[33m(raylet)\u001b[0m [2025-05-04 17:55:17,770 E 170843 170883] (raylet) file_system_monitor.cc:111: /home/emeka/PrivacyBench/logs/ray/session_2025-05-04_17-50-15_535960_170505 is over 95% full, available space: 847040512; capacity: 52589998080. Object creation will fail if spilling is required.\n"
     ]
    },
    {
     "name": "stdout",
     "output_type": "stream",
     "text": [
      "\u001b[36m(ClientAppActor pid=172748)\u001b[0m \n",
      "\u001b[36m(ClientAppActor pid=172748)\u001b[0m 🔎 Tracker: FL + CDP-SF (CNN)\n",
      "\u001b[36m(ClientAppActor pid=172748)\u001b[0m 📁 Logs saved to: /home/emeka/PrivacyBench/logs/emissions/FL_CDP-SF_CNN/client_emissions.csv\n",
      "\u001b[36m(ClientAppActor pid=172748)\u001b[0m ⏱️ Total training time: 0 minutes 22 seconds\n",
      "\u001b[36m(ClientAppActor pid=172747)\u001b[0m \n",
      "\u001b[36m(ClientAppActor pid=172747)\u001b[0m 🔎 Tracker: FL + CDP-SF (CNN)\n",
      "\u001b[36m(ClientAppActor pid=172747)\u001b[0m 📁 Logs saved to: /home/emeka/PrivacyBench/logs/emissions/FL_CDP-SF_CNN/client_emissions.csv\n",
      "\u001b[36m(ClientAppActor pid=172747)\u001b[0m ⏱️ Total training time: 0 minutes 23 seconds\n"
     ]
    },
    {
     "name": "stderr",
     "output_type": "stream",
     "text": [
      "\u001b[36m(ClientAppActor pid=172748)\u001b[0m Seed set to 42\n",
      "\u001b[36m(ClientAppActor pid=172748)\u001b[0m /home/emeka/.local/share/uv/python/cpython-3.12.10-linux-x86_64-gnu/lib/python3.12/multiprocessing/popen_fork.py:66: DeprecationWarning: This process (pid=172748) is multi-threaded, use of fork() may lead to deadlocks in the child.\n",
      "\u001b[36m(ClientAppActor pid=172748)\u001b[0m   self.pid = os.fork()\n",
      "\u001b[33m(raylet)\u001b[0m [2025-05-04 17:55:27,780 E 170843 170883] (raylet) file_system_monitor.cc:111: /home/emeka/PrivacyBench/logs/ray/session_2025-05-04_17-50-15_535960_170505 is over 95% full, available space: 846856192; capacity: 52589998080. Object creation will fail if spilling is required.\n",
      "\u001b[33m(raylet)\u001b[0m [2025-05-04 17:55:37,792 E 170843 170883] (raylet) file_system_monitor.cc:111: /home/emeka/PrivacyBench/logs/ray/session_2025-05-04_17-50-15_535960_170505 is over 95% full, available space: 846839808; capacity: 52589998080. Object creation will fail if spilling is required.\n",
      "\u001b[92mINFO \u001b[0m:      aggregate_fit: received 3 results and 0 failures\n",
      "\u001b[92mINFO \u001b[0m:      aggregate_fit: parameters are clipped by value: 0.1000.\n"
     ]
    },
    {
     "name": "stdout",
     "output_type": "stream",
     "text": [
      "\u001b[36m(ClientAppActor pid=172748)\u001b[0m \n",
      "\u001b[36m(ClientAppActor pid=172748)\u001b[0m 🔎 Tracker: FL + CDP-SF (CNN)\n",
      "\u001b[36m(ClientAppActor pid=172748)\u001b[0m 📁 Logs saved to: /home/emeka/PrivacyBench/logs/emissions/FL_CDP-SF_CNN/client_emissions.csv\n",
      "\u001b[36m(ClientAppActor pid=172748)\u001b[0m ⏱️ Total training time: 0 minutes 21 seconds\n"
     ]
    },
    {
     "name": "stderr",
     "output_type": "stream",
     "text": [
      "\u001b[92mINFO \u001b[0m:      aggregate_fit: parameters are clipped by value: 0.1000.\n",
      "\u001b[92mINFO \u001b[0m:      aggregate_fit: parameters are clipped by value: 0.1000.\n",
      "\u001b[92mINFO \u001b[0m:      aggregate_fit: central DP noise with 0.0000 stdev added\n",
      "/home/emeka/.local/share/uv/python/cpython-3.12.10-linux-x86_64-gnu/lib/python3.12/multiprocessing/popen_fork.py:66: DeprecationWarning: This process (pid=170505) is multi-threaded, use of fork() may lead to deadlocks in the child.\n",
      "  self.pid = os.fork()\n",
      "\u001b[92mINFO \u001b[0m:      fit progress: (6, nan, {'accuracy': 0.134375}, 319.33422940200035)\n",
      "\u001b[92mINFO \u001b[0m:      configure_evaluate: strategy sampled 3 clients (out of 3)\n",
      "\u001b[36m(ClientAppActor pid=172747)\u001b[0m /home/emeka/.local/share/uv/python/cpython-3.12.10-linux-x86_64-gnu/lib/python3.12/multiprocessing/popen_fork.py:66: DeprecationWarning: This process (pid=172747) is multi-threaded, use of fork() may lead to deadlocks in the child.\n",
      "\u001b[36m(ClientAppActor pid=172747)\u001b[0m   self.pid = os.fork()\n",
      "\u001b[92mINFO \u001b[0m:      aggregate_evaluate: received 3 results and 0 failures\n",
      "\u001b[92mINFO \u001b[0m:      \n",
      "\u001b[92mINFO \u001b[0m:      [ROUND 7]\n",
      "\u001b[92mINFO \u001b[0m:      configure_fit: strategy sampled 3 clients (out of 3)\n",
      "\u001b[33m(raylet)\u001b[0m [2025-05-04 17:55:47,803 E 170843 170883] (raylet) file_system_monitor.cc:111: /home/emeka/PrivacyBench/logs/ray/session_2025-05-04_17-50-15_535960_170505 is over 95% full, available space: 846839808; capacity: 52589998080. Object creation will fail if spilling is required.\n",
      "\u001b[36m(ClientAppActor pid=172747)\u001b[0m Seed set to 42\n",
      "\u001b[36m(ClientAppActor pid=172748)\u001b[0m /home/emeka/.local/share/uv/python/cpython-3.12.10-linux-x86_64-gnu/lib/python3.12/multiprocessing/popen_fork.py:66: DeprecationWarning: This process (pid=172748) is multi-threaded, use of fork() may lead to deadlocks in the child.\u001b[32m [repeated 3x across cluster]\u001b[0m\n",
      "\u001b[36m(ClientAppActor pid=172748)\u001b[0m   self.pid = os.fork()\u001b[32m [repeated 3x across cluster]\u001b[0m\n",
      "\u001b[33m(raylet)\u001b[0m [2025-05-04 17:55:57,815 E 170843 170883] (raylet) file_system_monitor.cc:111: /home/emeka/PrivacyBench/logs/ray/session_2025-05-04_17-50-15_535960_170505 is over 95% full, available space: 846802944; capacity: 52589998080. Object creation will fail if spilling is required.\n",
      "\u001b[36m(ClientAppActor pid=172748)\u001b[0m Seed set to 42\n",
      "\u001b[33m(raylet)\u001b[0m [2025-05-04 17:56:07,826 E 170843 170883] (raylet) file_system_monitor.cc:111: /home/emeka/PrivacyBench/logs/ray/session_2025-05-04_17-50-15_535960_170505 is over 95% full, available space: 846757888; capacity: 52589998080. Object creation will fail if spilling is required.\n"
     ]
    },
    {
     "name": "stdout",
     "output_type": "stream",
     "text": [
      "\u001b[36m(ClientAppActor pid=172748)\u001b[0m \n",
      "\u001b[36m(ClientAppActor pid=172748)\u001b[0m 🔎 Tracker: FL + CDP-SF (CNN)\n",
      "\u001b[36m(ClientAppActor pid=172748)\u001b[0m 📁 Logs saved to: /home/emeka/PrivacyBench/logs/emissions/FL_CDP-SF_CNN/client_emissions.csv\n",
      "\u001b[36m(ClientAppActor pid=172748)\u001b[0m ⏱️ Total training time: 0 minutes 22 seconds\n",
      "\u001b[36m(ClientAppActor pid=172747)\u001b[0m \n"
     ]
    },
    {
     "name": "stderr",
     "output_type": "stream",
     "text": [
      "\u001b[36m(ClientAppActor pid=172748)\u001b[0m Seed set to 42\n",
      "\u001b[36m(ClientAppActor pid=172748)\u001b[0m /home/emeka/.local/share/uv/python/cpython-3.12.10-linux-x86_64-gnu/lib/python3.12/multiprocessing/popen_fork.py:66: DeprecationWarning: This process (pid=172748) is multi-threaded, use of fork() may lead to deadlocks in the child.\n",
      "\u001b[36m(ClientAppActor pid=172748)\u001b[0m   self.pid = os.fork()\n",
      "\u001b[33m(raylet)\u001b[0m [2025-05-04 17:56:17,837 E 170843 170883] (raylet) file_system_monitor.cc:111: /home/emeka/PrivacyBench/logs/ray/session_2025-05-04_17-50-15_535960_170505 is over 95% full, available space: 846745600; capacity: 52589998080. Object creation will fail if spilling is required.\n",
      "\u001b[33m(raylet)\u001b[0m [2025-05-04 17:56:27,848 E 170843 170883] (raylet) file_system_monitor.cc:111: /home/emeka/PrivacyBench/logs/ray/session_2025-05-04_17-50-15_535960_170505 is over 95% full, available space: 846450688; capacity: 52589998080. Object creation will fail if spilling is required.\n",
      "\u001b[92mINFO \u001b[0m:      aggregate_fit: received 3 results and 0 failures\n"
     ]
    },
    {
     "name": "stdout",
     "output_type": "stream",
     "text": [
      "\u001b[36m(ClientAppActor pid=172748)\u001b[0m \n",
      "\u001b[36m(ClientAppActor pid=172748)\u001b[0m 🔎 Tracker: FL + CDP-SF (CNN)\u001b[32m [repeated 2x across cluster]\u001b[0m\n",
      "\u001b[36m(ClientAppActor pid=172748)\u001b[0m 📁 Logs saved to: /home/emeka/PrivacyBench/logs/emissions/FL_CDP-SF_CNN/client_emissions.csv\u001b[32m [repeated 2x across cluster]\u001b[0m\n",
      "\u001b[36m(ClientAppActor pid=172748)\u001b[0m ⏱️ Total training time: 0 minutes 22 seconds\u001b[32m [repeated 2x across cluster]\u001b[0m\n"
     ]
    },
    {
     "name": "stderr",
     "output_type": "stream",
     "text": [
      "\u001b[92mINFO \u001b[0m:      aggregate_fit: parameters are clipped by value: 0.1000.\n",
      "\u001b[92mINFO \u001b[0m:      aggregate_fit: parameters are clipped by value: 0.1000.\n",
      "\u001b[92mINFO \u001b[0m:      aggregate_fit: parameters are clipped by value: 0.1000.\n",
      "\u001b[92mINFO \u001b[0m:      aggregate_fit: central DP noise with 0.0000 stdev added\n",
      "/home/emeka/.local/share/uv/python/cpython-3.12.10-linux-x86_64-gnu/lib/python3.12/multiprocessing/popen_fork.py:66: DeprecationWarning: This process (pid=170505) is multi-threaded, use of fork() may lead to deadlocks in the child.\n",
      "  self.pid = os.fork()\n",
      "\u001b[92mINFO \u001b[0m:      fit progress: (7, nan, {'accuracy': 0.134375}, 371.9972389620016)\n",
      "\u001b[92mINFO \u001b[0m:      configure_evaluate: strategy sampled 3 clients (out of 3)\n",
      "\u001b[33m(raylet)\u001b[0m [2025-05-04 17:56:37,856 E 170843 170883] (raylet) file_system_monitor.cc:111: /home/emeka/PrivacyBench/logs/ray/session_2025-05-04_17-50-15_535960_170505 is over 95% full, available space: 846458880; capacity: 52589998080. Object creation will fail if spilling is required.\n",
      "\u001b[36m(ClientAppActor pid=172747)\u001b[0m /home/emeka/.local/share/uv/python/cpython-3.12.10-linux-x86_64-gnu/lib/python3.12/multiprocessing/popen_fork.py:66: DeprecationWarning: This process (pid=172747) is multi-threaded, use of fork() may lead to deadlocks in the child.\n",
      "\u001b[36m(ClientAppActor pid=172747)\u001b[0m   self.pid = os.fork()\n",
      "\u001b[92mINFO \u001b[0m:      aggregate_evaluate: received 3 results and 0 failures\n",
      "\u001b[92mINFO \u001b[0m:      \n",
      "\u001b[92mINFO \u001b[0m:      [ROUND 8]\n",
      "\u001b[92mINFO \u001b[0m:      configure_fit: strategy sampled 3 clients (out of 3)\n",
      "\u001b[36m(ClientAppActor pid=172747)\u001b[0m Seed set to 42\n",
      "\u001b[33m(raylet)\u001b[0m [2025-05-04 17:56:47,866 E 170843 170883] (raylet) file_system_monitor.cc:111: /home/emeka/PrivacyBench/logs/ray/session_2025-05-04_17-50-15_535960_170505 is over 95% full, available space: 846422016; capacity: 52589998080. Object creation will fail if spilling is required.\n",
      "\u001b[36m(ClientAppActor pid=172748)\u001b[0m /home/emeka/.local/share/uv/python/cpython-3.12.10-linux-x86_64-gnu/lib/python3.12/multiprocessing/popen_fork.py:66: DeprecationWarning: This process (pid=172748) is multi-threaded, use of fork() may lead to deadlocks in the child.\u001b[32m [repeated 3x across cluster]\u001b[0m\n",
      "\u001b[36m(ClientAppActor pid=172748)\u001b[0m   self.pid = os.fork()\u001b[32m [repeated 3x across cluster]\u001b[0m\n",
      "\u001b[36m(ClientAppActor pid=172748)\u001b[0m Seed set to 42\n",
      "\u001b[33m(raylet)\u001b[0m [2025-05-04 17:56:57,876 E 170843 170883] (raylet) file_system_monitor.cc:111: /home/emeka/PrivacyBench/logs/ray/session_2025-05-04_17-50-15_535960_170505 is over 95% full, available space: 846434304; capacity: 52589998080. Object creation will fail if spilling is required.\n"
     ]
    },
    {
     "name": "stdout",
     "output_type": "stream",
     "text": [
      "\u001b[36m(ClientAppActor pid=172747)\u001b[0m \n",
      "\u001b[36m(ClientAppActor pid=172747)\u001b[0m 🔎 Tracker: FL + CDP-SF (CNN)\n",
      "\u001b[36m(ClientAppActor pid=172747)\u001b[0m 📁 Logs saved to: /home/emeka/PrivacyBench/logs/emissions/FL_CDP-SF_CNN/client_emissions.csv\n",
      "\u001b[36m(ClientAppActor pid=172747)\u001b[0m ⏱️ Total training time: 0 minutes 22 seconds\n",
      "\u001b[36m(ClientAppActor pid=172748)\u001b[0m \n",
      "\u001b[36m(ClientAppActor pid=172748)\u001b[0m 🔎 Tracker: FL + CDP-SF (CNN)\n",
      "\u001b[36m(ClientAppActor pid=172748)\u001b[0m 📁 Logs saved to: /home/emeka/PrivacyBench/logs/emissions/FL_CDP-SF_CNN/client_emissions.csv\n",
      "\u001b[36m(ClientAppActor pid=172748)\u001b[0m ⏱️ Total training time: 0 minutes 23 seconds\n"
     ]
    },
    {
     "name": "stderr",
     "output_type": "stream",
     "text": [
      "\u001b[36m(ClientAppActor pid=172747)\u001b[0m Seed set to 42\n",
      "\u001b[36m(ClientAppActor pid=172747)\u001b[0m /home/emeka/.local/share/uv/python/cpython-3.12.10-linux-x86_64-gnu/lib/python3.12/multiprocessing/popen_fork.py:66: DeprecationWarning: This process (pid=172747) is multi-threaded, use of fork() may lead to deadlocks in the child.\n",
      "\u001b[36m(ClientAppActor pid=172747)\u001b[0m   self.pid = os.fork()\n",
      "\u001b[33m(raylet)\u001b[0m [2025-05-04 17:57:07,886 E 170843 170883] (raylet) file_system_monitor.cc:111: /home/emeka/PrivacyBench/logs/ray/session_2025-05-04_17-50-15_535960_170505 is over 95% full, available space: 846405632; capacity: 52589998080. Object creation will fail if spilling is required.\n",
      "\u001b[33m(raylet)\u001b[0m [2025-05-04 17:57:17,896 E 170843 170883] (raylet) file_system_monitor.cc:111: /home/emeka/PrivacyBench/logs/ray/session_2025-05-04_17-50-15_535960_170505 is over 95% full, available space: 846372864; capacity: 52589998080. Object creation will fail if spilling is required.\n",
      "\u001b[92mINFO \u001b[0m:      aggregate_fit: received 3 results and 0 failures\n"
     ]
    },
    {
     "name": "stdout",
     "output_type": "stream",
     "text": [
      "\u001b[36m(ClientAppActor pid=172747)\u001b[0m \n",
      "\u001b[36m(ClientAppActor pid=172747)\u001b[0m 🔎 Tracker: FL + CDP-SF (CNN)\n",
      "\u001b[36m(ClientAppActor pid=172747)\u001b[0m 📁 Logs saved to: /home/emeka/PrivacyBench/logs/emissions/FL_CDP-SF_CNN/client_emissions.csv\n",
      "\u001b[36m(ClientAppActor pid=172747)\u001b[0m ⏱️ Total training time: 0 minutes 21 seconds\n"
     ]
    },
    {
     "name": "stderr",
     "output_type": "stream",
     "text": [
      "\u001b[92mINFO \u001b[0m:      aggregate_fit: parameters are clipped by value: 0.1000.\n",
      "\u001b[92mINFO \u001b[0m:      aggregate_fit: parameters are clipped by value: 0.1000.\n",
      "\u001b[92mINFO \u001b[0m:      aggregate_fit: parameters are clipped by value: 0.1000.\n",
      "\u001b[92mINFO \u001b[0m:      aggregate_fit: central DP noise with 0.0000 stdev added\n",
      "\u001b[33m(raylet)\u001b[0m [2025-05-04 17:57:27,906 E 170843 170883] (raylet) file_system_monitor.cc:111: /home/emeka/PrivacyBench/logs/ray/session_2025-05-04_17-50-15_535960_170505 is over 95% full, available space: 846200832; capacity: 52589998080. Object creation will fail if spilling is required.\n",
      "/home/emeka/.local/share/uv/python/cpython-3.12.10-linux-x86_64-gnu/lib/python3.12/multiprocessing/popen_fork.py:66: DeprecationWarning: This process (pid=170505) is multi-threaded, use of fork() may lead to deadlocks in the child.\n",
      "  self.pid = os.fork()\n",
      "\u001b[92mINFO \u001b[0m:      fit progress: (8, nan, {'accuracy': 0.134375}, 425.36447300800137)\n",
      "\u001b[92mINFO \u001b[0m:      configure_evaluate: strategy sampled 3 clients (out of 3)\n",
      "\u001b[36m(ClientAppActor pid=172747)\u001b[0m /home/emeka/.local/share/uv/python/cpython-3.12.10-linux-x86_64-gnu/lib/python3.12/multiprocessing/popen_fork.py:66: DeprecationWarning: This process (pid=172747) is multi-threaded, use of fork() may lead to deadlocks in the child.\n",
      "\u001b[36m(ClientAppActor pid=172747)\u001b[0m   self.pid = os.fork()\n",
      "\u001b[92mINFO \u001b[0m:      aggregate_evaluate: received 3 results and 0 failures\n",
      "\u001b[92mINFO \u001b[0m:      \n",
      "\u001b[92mINFO \u001b[0m:      [ROUND 9]\n",
      "\u001b[92mINFO \u001b[0m:      configure_fit: strategy sampled 3 clients (out of 3)\n",
      "\u001b[36m(ClientAppActor pid=172747)\u001b[0m Seed set to 42\n",
      "\u001b[33m(raylet)\u001b[0m [2025-05-04 17:57:37,917 E 170843 170883] (raylet) file_system_monitor.cc:111: /home/emeka/PrivacyBench/logs/ray/session_2025-05-04_17-50-15_535960_170505 is over 95% full, available space: 846159872; capacity: 52589998080. Object creation will fail if spilling is required.\n",
      "\u001b[36m(ClientAppActor pid=172748)\u001b[0m /home/emeka/.local/share/uv/python/cpython-3.12.10-linux-x86_64-gnu/lib/python3.12/multiprocessing/popen_fork.py:66: DeprecationWarning: This process (pid=172748) is multi-threaded, use of fork() may lead to deadlocks in the child.\u001b[32m [repeated 3x across cluster]\u001b[0m\n",
      "\u001b[36m(ClientAppActor pid=172748)\u001b[0m   self.pid = os.fork()\u001b[32m [repeated 3x across cluster]\u001b[0m\n",
      "\u001b[36m(ClientAppActor pid=172748)\u001b[0m Seed set to 42\n",
      "\u001b[33m(raylet)\u001b[0m [2025-05-04 17:57:47,928 E 170843 170883] (raylet) file_system_monitor.cc:111: /home/emeka/PrivacyBench/logs/ray/session_2025-05-04_17-50-15_535960_170505 is over 95% full, available space: 846180352; capacity: 52589998080. Object creation will fail if spilling is required.\n"
     ]
    },
    {
     "name": "stdout",
     "output_type": "stream",
     "text": [
      "\u001b[36m(ClientAppActor pid=172747)\u001b[0m \n",
      "\u001b[36m(ClientAppActor pid=172747)\u001b[0m 🔎 Tracker: FL + CDP-SF (CNN)\n",
      "\u001b[36m(ClientAppActor pid=172747)\u001b[0m 📁 Logs saved to: /home/emeka/PrivacyBench/logs/emissions/FL_CDP-SF_CNN/client_emissions.csv\n",
      "\u001b[36m(ClientAppActor pid=172747)\u001b[0m ⏱️ Total training time: 0 minutes 22 seconds\n",
      "\u001b[36m(ClientAppActor pid=172748)\u001b[0m \n"
     ]
    },
    {
     "name": "stderr",
     "output_type": "stream",
     "text": [
      "\u001b[36m(ClientAppActor pid=172747)\u001b[0m Seed set to 42\n",
      "\u001b[36m(ClientAppActor pid=172747)\u001b[0m /home/emeka/.local/share/uv/python/cpython-3.12.10-linux-x86_64-gnu/lib/python3.12/multiprocessing/popen_fork.py:66: DeprecationWarning: This process (pid=172747) is multi-threaded, use of fork() may lead to deadlocks in the child.\n",
      "\u001b[36m(ClientAppActor pid=172747)\u001b[0m   self.pid = os.fork()\n",
      "\u001b[33m(raylet)\u001b[0m [2025-05-04 17:57:57,938 E 170843 170883] (raylet) file_system_monitor.cc:111: /home/emeka/PrivacyBench/logs/ray/session_2025-05-04_17-50-15_535960_170505 is over 95% full, available space: 846163968; capacity: 52589998080. Object creation will fail if spilling is required.\n",
      "\u001b[33m(raylet)\u001b[0m [2025-05-04 17:58:07,948 E 170843 170883] (raylet) file_system_monitor.cc:111: /home/emeka/PrivacyBench/logs/ray/session_2025-05-04_17-50-15_535960_170505 is over 95% full, available space: 846131200; capacity: 52589998080. Object creation will fail if spilling is required.\n",
      "\u001b[33m(raylet)\u001b[0m [2025-05-04 17:58:17,960 E 170843 170883] (raylet) file_system_monitor.cc:111: /home/emeka/PrivacyBench/logs/ray/session_2025-05-04_17-50-15_535960_170505 is over 95% full, available space: 846094336; capacity: 52589998080. Object creation will fail if spilling is required.\n",
      "\u001b[92mINFO \u001b[0m:      aggregate_fit: received 3 results and 0 failures\n"
     ]
    },
    {
     "name": "stdout",
     "output_type": "stream",
     "text": [
      "\u001b[36m(ClientAppActor pid=172747)\u001b[0m \n",
      "\u001b[36m(ClientAppActor pid=172747)\u001b[0m 🔎 Tracker: FL + CDP-SF (CNN)\u001b[32m [repeated 2x across cluster]\u001b[0m\n",
      "\u001b[36m(ClientAppActor pid=172747)\u001b[0m 📁 Logs saved to: /home/emeka/PrivacyBench/logs/emissions/FL_CDP-SF_CNN/client_emissions.csv\u001b[32m [repeated 2x across cluster]\u001b[0m\n",
      "\u001b[36m(ClientAppActor pid=172747)\u001b[0m ⏱️ Total training time: 0 minutes 22 seconds\u001b[32m [repeated 2x across cluster]\u001b[0m\n"
     ]
    },
    {
     "name": "stderr",
     "output_type": "stream",
     "text": [
      "\u001b[92mINFO \u001b[0m:      aggregate_fit: parameters are clipped by value: 0.1000.\n",
      "\u001b[92mINFO \u001b[0m:      aggregate_fit: parameters are clipped by value: 0.1000.\n",
      "\u001b[92mINFO \u001b[0m:      aggregate_fit: parameters are clipped by value: 0.1000.\n",
      "\u001b[92mINFO \u001b[0m:      aggregate_fit: central DP noise with 0.0000 stdev added\n",
      "/home/emeka/.local/share/uv/python/cpython-3.12.10-linux-x86_64-gnu/lib/python3.12/multiprocessing/popen_fork.py:66: DeprecationWarning: This process (pid=170505) is multi-threaded, use of fork() may lead to deadlocks in the child.\n",
      "  self.pid = os.fork()\n",
      "\u001b[92mINFO \u001b[0m:      fit progress: (9, nan, {'accuracy': 0.134375}, 478.07318919000136)\n",
      "\u001b[92mINFO \u001b[0m:      configure_evaluate: strategy sampled 3 clients (out of 3)\n",
      "\u001b[36m(ClientAppActor pid=172747)\u001b[0m /home/emeka/.local/share/uv/python/cpython-3.12.10-linux-x86_64-gnu/lib/python3.12/multiprocessing/popen_fork.py:66: DeprecationWarning: This process (pid=172747) is multi-threaded, use of fork() may lead to deadlocks in the child.\n",
      "\u001b[36m(ClientAppActor pid=172747)\u001b[0m   self.pid = os.fork()\n",
      "\u001b[92mINFO \u001b[0m:      aggregate_evaluate: received 3 results and 0 failures\n",
      "\u001b[92mINFO \u001b[0m:      \n",
      "\u001b[92mINFO \u001b[0m:      [ROUND 10]\n",
      "\u001b[92mINFO \u001b[0m:      configure_fit: strategy sampled 3 clients (out of 3)\n",
      "\u001b[36m(ClientAppActor pid=172747)\u001b[0m Seed set to 42\n",
      "\u001b[33m(raylet)\u001b[0m [2025-05-04 17:58:27,970 E 170843 170883] (raylet) file_system_monitor.cc:111: /home/emeka/PrivacyBench/logs/ray/session_2025-05-04_17-50-15_535960_170505 is over 95% full, available space: 845897728; capacity: 52589998080. Object creation will fail if spilling is required.\n",
      "\u001b[36m(ClientAppActor pid=172748)\u001b[0m /home/emeka/.local/share/uv/python/cpython-3.12.10-linux-x86_64-gnu/lib/python3.12/multiprocessing/popen_fork.py:66: DeprecationWarning: This process (pid=172748) is multi-threaded, use of fork() may lead to deadlocks in the child.\u001b[32m [repeated 3x across cluster]\u001b[0m\n",
      "\u001b[36m(ClientAppActor pid=172748)\u001b[0m   self.pid = os.fork()\u001b[32m [repeated 3x across cluster]\u001b[0m\n",
      "\u001b[36m(ClientAppActor pid=172748)\u001b[0m Seed set to 42\n",
      "\u001b[33m(raylet)\u001b[0m [2025-05-04 17:58:37,981 E 170843 170883] (raylet) file_system_monitor.cc:111: /home/emeka/PrivacyBench/logs/ray/session_2025-05-04_17-50-15_535960_170505 is over 95% full, available space: 845893632; capacity: 52589998080. Object creation will fail if spilling is required.\n",
      "\u001b[33m(raylet)\u001b[0m [2025-05-04 17:58:47,991 E 170843 170883] (raylet) file_system_monitor.cc:111: /home/emeka/PrivacyBench/logs/ray/session_2025-05-04_17-50-15_535960_170505 is over 95% full, available space: 845877248; capacity: 52589998080. Object creation will fail if spilling is required.\n"
     ]
    },
    {
     "name": "stdout",
     "output_type": "stream",
     "text": [
      "\u001b[36m(ClientAppActor pid=172748)\u001b[0m \n",
      "\u001b[36m(ClientAppActor pid=172748)\u001b[0m 🔎 Tracker: FL + CDP-SF (CNN)\n",
      "\u001b[36m(ClientAppActor pid=172748)\u001b[0m 📁 Logs saved to: /home/emeka/PrivacyBench/logs/emissions/FL_CDP-SF_CNN/client_emissions.csv\n",
      "\u001b[36m(ClientAppActor pid=172748)\u001b[0m ⏱️ Total training time: 0 minutes 22 seconds\n",
      "\u001b[36m(ClientAppActor pid=172747)\u001b[0m \n",
      "\u001b[36m(ClientAppActor pid=172747)\u001b[0m 🔎 Tracker: FL + CDP-SF (CNN)\n",
      "\u001b[36m(ClientAppActor pid=172747)\u001b[0m 📁 Logs saved to: /home/emeka/PrivacyBench/logs/emissions/FL_CDP-SF_CNN/client_emissions.csv\n",
      "\u001b[36m(ClientAppActor pid=172747)\u001b[0m ⏱️ Total training time: 0 minutes 23 seconds\n"
     ]
    },
    {
     "name": "stderr",
     "output_type": "stream",
     "text": [
      "\u001b[36m(ClientAppActor pid=172748)\u001b[0m Seed set to 42\n",
      "\u001b[36m(ClientAppActor pid=172748)\u001b[0m /home/emeka/.local/share/uv/python/cpython-3.12.10-linux-x86_64-gnu/lib/python3.12/multiprocessing/popen_fork.py:66: DeprecationWarning: This process (pid=172748) is multi-threaded, use of fork() may lead to deadlocks in the child.\n",
      "\u001b[36m(ClientAppActor pid=172748)\u001b[0m   self.pid = os.fork()\n",
      "\u001b[33m(raylet)\u001b[0m [2025-05-04 17:58:58,001 E 170843 170883] (raylet) file_system_monitor.cc:111: /home/emeka/PrivacyBench/logs/ray/session_2025-05-04_17-50-15_535960_170505 is over 95% full, available space: 845881344; capacity: 52589998080. Object creation will fail if spilling is required.\n",
      "\u001b[33m(raylet)\u001b[0m [2025-05-04 17:59:08,012 E 170843 170883] (raylet) file_system_monitor.cc:111: /home/emeka/PrivacyBench/logs/ray/session_2025-05-04_17-50-15_535960_170505 is over 95% full, available space: 845873152; capacity: 52589998080. Object creation will fail if spilling is required.\n",
      "\u001b[92mINFO \u001b[0m:      aggregate_fit: received 3 results and 0 failures\n"
     ]
    },
    {
     "name": "stdout",
     "output_type": "stream",
     "text": [
      "\u001b[36m(ClientAppActor pid=172748)\u001b[0m \n",
      "\u001b[36m(ClientAppActor pid=172748)\u001b[0m 🔎 Tracker: FL + CDP-SF (CNN)\n",
      "\u001b[36m(ClientAppActor pid=172748)\u001b[0m 📁 Logs saved to: /home/emeka/PrivacyBench/logs/emissions/FL_CDP-SF_CNN/client_emissions.csv\n",
      "\u001b[36m(ClientAppActor pid=172748)\u001b[0m ⏱️ Total training time: 0 minutes 22 seconds\n"
     ]
    },
    {
     "name": "stderr",
     "output_type": "stream",
     "text": [
      "\u001b[92mINFO \u001b[0m:      aggregate_fit: parameters are clipped by value: 0.1000.\n",
      "\u001b[92mINFO \u001b[0m:      aggregate_fit: parameters are clipped by value: 0.1000.\n",
      "\u001b[92mINFO \u001b[0m:      aggregate_fit: parameters are clipped by value: 0.1000.\n",
      "\u001b[92mINFO \u001b[0m:      aggregate_fit: central DP noise with 0.0000 stdev added\n",
      "/home/emeka/.local/share/uv/python/cpython-3.12.10-linux-x86_64-gnu/lib/python3.12/multiprocessing/popen_fork.py:66: DeprecationWarning: This process (pid=170505) is multi-threaded, use of fork() may lead to deadlocks in the child.\n",
      "  self.pid = os.fork()\n",
      "\u001b[92mINFO \u001b[0m:      fit progress: (10, nan, {'accuracy': 0.134375}, 531.169381914)\n",
      "\u001b[92mINFO \u001b[0m:      configure_evaluate: strategy sampled 3 clients (out of 3)\n",
      "\u001b[36m(ClientAppActor pid=172747)\u001b[0m /home/emeka/.local/share/uv/python/cpython-3.12.10-linux-x86_64-gnu/lib/python3.12/multiprocessing/popen_fork.py:66: DeprecationWarning: This process (pid=172747) is multi-threaded, use of fork() may lead to deadlocks in the child.\n",
      "\u001b[36m(ClientAppActor pid=172747)\u001b[0m   self.pid = os.fork()\n",
      "\u001b[33m(raylet)\u001b[0m [2025-05-04 17:59:18,023 E 170843 170883] (raylet) file_system_monitor.cc:111: /home/emeka/PrivacyBench/logs/ray/session_2025-05-04_17-50-15_535960_170505 is over 95% full, available space: 845840384; capacity: 52589998080. Object creation will fail if spilling is required.\n",
      "\u001b[92mINFO \u001b[0m:      aggregate_evaluate: received 3 results and 0 failures\n",
      "\u001b[92mINFO \u001b[0m:      \n",
      "\u001b[92mINFO \u001b[0m:      [ROUND 11]\n",
      "\u001b[92mINFO \u001b[0m:      configure_fit: strategy sampled 3 clients (out of 3)\n",
      "\u001b[36m(ClientAppActor pid=172747)\u001b[0m Seed set to 42\n",
      "\u001b[36m(ClientAppActor pid=172748)\u001b[0m /home/emeka/.local/share/uv/python/cpython-3.12.10-linux-x86_64-gnu/lib/python3.12/multiprocessing/popen_fork.py:66: DeprecationWarning: This process (pid=172748) is multi-threaded, use of fork() may lead to deadlocks in the child.\u001b[32m [repeated 3x across cluster]\u001b[0m\n",
      "\u001b[36m(ClientAppActor pid=172748)\u001b[0m   self.pid = os.fork()\u001b[32m [repeated 3x across cluster]\u001b[0m\n",
      "\u001b[33m(raylet)\u001b[0m [2025-05-04 17:59:28,034 E 170843 170883] (raylet) file_system_monitor.cc:111: /home/emeka/PrivacyBench/logs/ray/session_2025-05-04_17-50-15_535960_170505 is over 95% full, available space: 845524992; capacity: 52589998080. Object creation will fail if spilling is required.\n",
      "\u001b[36m(ClientAppActor pid=172748)\u001b[0m Seed set to 42\n",
      "\u001b[33m(raylet)\u001b[0m [2025-05-04 17:59:38,044 E 170843 170883] (raylet) file_system_monitor.cc:111: /home/emeka/PrivacyBench/logs/ray/session_2025-05-04_17-50-15_535960_170505 is over 95% full, available space: 845520896; capacity: 52589998080. Object creation will fail if spilling is required.\n"
     ]
    },
    {
     "name": "stdout",
     "output_type": "stream",
     "text": [
      "\u001b[36m(ClientAppActor pid=172748)\u001b[0m \n",
      "\u001b[36m(ClientAppActor pid=172748)\u001b[0m 🔎 Tracker: FL + CDP-SF (CNN)\n",
      "\u001b[36m(ClientAppActor pid=172748)\u001b[0m 📁 Logs saved to: /home/emeka/PrivacyBench/logs/emissions/FL_CDP-SF_CNN/client_emissions.csv\n",
      "\u001b[36m(ClientAppActor pid=172748)\u001b[0m ⏱️ Total training time: 0 minutes 23 seconds\n",
      "\u001b[36m(ClientAppActor pid=172747)\u001b[0m \n"
     ]
    },
    {
     "name": "stderr",
     "output_type": "stream",
     "text": [
      "\u001b[36m(ClientAppActor pid=172748)\u001b[0m Seed set to 42\n",
      "\u001b[36m(ClientAppActor pid=172748)\u001b[0m /home/emeka/.local/share/uv/python/cpython-3.12.10-linux-x86_64-gnu/lib/python3.12/multiprocessing/popen_fork.py:66: DeprecationWarning: This process (pid=172748) is multi-threaded, use of fork() may lead to deadlocks in the child.\n",
      "\u001b[36m(ClientAppActor pid=172748)\u001b[0m   self.pid = os.fork()\n",
      "\u001b[33m(raylet)\u001b[0m [2025-05-04 17:59:48,055 E 170843 170883] (raylet) file_system_monitor.cc:111: /home/emeka/PrivacyBench/logs/ray/session_2025-05-04_17-50-15_535960_170505 is over 95% full, available space: 845541376; capacity: 52589998080. Object creation will fail if spilling is required.\n",
      "\u001b[33m(raylet)\u001b[0m [2025-05-04 17:59:58,064 E 170843 170883] (raylet) file_system_monitor.cc:111: /home/emeka/PrivacyBench/logs/ray/session_2025-05-04_17-50-15_535960_170505 is over 95% full, available space: 845520896; capacity: 52589998080. Object creation will fail if spilling is required.\n",
      "\u001b[92mINFO \u001b[0m:      aggregate_fit: received 3 results and 0 failures\n"
     ]
    },
    {
     "name": "stdout",
     "output_type": "stream",
     "text": [
      "\u001b[36m(ClientAppActor pid=172748)\u001b[0m \n",
      "\u001b[36m(ClientAppActor pid=172748)\u001b[0m 🔎 Tracker: FL + CDP-SF (CNN)\u001b[32m [repeated 2x across cluster]\u001b[0m\n",
      "\u001b[36m(ClientAppActor pid=172748)\u001b[0m 📁 Logs saved to: /home/emeka/PrivacyBench/logs/emissions/FL_CDP-SF_CNN/client_emissions.csv\u001b[32m [repeated 2x across cluster]\u001b[0m\n",
      "\u001b[36m(ClientAppActor pid=172748)\u001b[0m ⏱️ Total training time: 0 minutes 22 seconds\u001b[32m [repeated 2x across cluster]\u001b[0m\n"
     ]
    },
    {
     "name": "stderr",
     "output_type": "stream",
     "text": [
      "\u001b[92mINFO \u001b[0m:      aggregate_fit: parameters are clipped by value: 0.1000.\n",
      "\u001b[92mINFO \u001b[0m:      aggregate_fit: parameters are clipped by value: 0.1000.\n",
      "\u001b[92mINFO \u001b[0m:      aggregate_fit: parameters are clipped by value: 0.1000.\n",
      "\u001b[92mINFO \u001b[0m:      aggregate_fit: central DP noise with 0.0000 stdev added\n",
      "/home/emeka/.local/share/uv/python/cpython-3.12.10-linux-x86_64-gnu/lib/python3.12/multiprocessing/popen_fork.py:66: DeprecationWarning: This process (pid=170505) is multi-threaded, use of fork() may lead to deadlocks in the child.\n",
      "  self.pid = os.fork()\n",
      "\u001b[33m(raylet)\u001b[0m [2025-05-04 18:00:08,074 E 170843 170883] (raylet) file_system_monitor.cc:111: /home/emeka/PrivacyBench/logs/ray/session_2025-05-04_17-50-15_535960_170505 is over 95% full, available space: 845488128; capacity: 52589998080. Object creation will fail if spilling is required.\n",
      "\u001b[92mINFO \u001b[0m:      fit progress: (11, 1.650798535346985, {'accuracy': 0.35859375}, 583.9458749670011)\n",
      "\u001b[92mINFO \u001b[0m:      configure_evaluate: strategy sampled 3 clients (out of 3)\n",
      "\u001b[36m(ClientAppActor pid=172747)\u001b[0m /home/emeka/.local/share/uv/python/cpython-3.12.10-linux-x86_64-gnu/lib/python3.12/multiprocessing/popen_fork.py:66: DeprecationWarning: This process (pid=172747) is multi-threaded, use of fork() may lead to deadlocks in the child.\n",
      "\u001b[36m(ClientAppActor pid=172747)\u001b[0m   self.pid = os.fork()\n",
      "\u001b[92mINFO \u001b[0m:      aggregate_evaluate: received 3 results and 0 failures\n",
      "\u001b[92mINFO \u001b[0m:      \n",
      "\u001b[92mINFO \u001b[0m:      [ROUND 12]\n",
      "\u001b[92mINFO \u001b[0m:      configure_fit: strategy sampled 3 clients (out of 3)\n",
      "\u001b[36m(ClientAppActor pid=172747)\u001b[0m Seed set to 42\n",
      "\u001b[33m(raylet)\u001b[0m [2025-05-04 18:00:18,085 E 170843 170883] (raylet) file_system_monitor.cc:111: /home/emeka/PrivacyBench/logs/ray/session_2025-05-04_17-50-15_535960_170505 is over 95% full, available space: 845430784; capacity: 52589998080. Object creation will fail if spilling is required.\n",
      "\u001b[36m(ClientAppActor pid=172748)\u001b[0m /home/emeka/.local/share/uv/python/cpython-3.12.10-linux-x86_64-gnu/lib/python3.12/multiprocessing/popen_fork.py:66: DeprecationWarning: This process (pid=172748) is multi-threaded, use of fork() may lead to deadlocks in the child.\u001b[32m [repeated 3x across cluster]\u001b[0m\n",
      "\u001b[36m(ClientAppActor pid=172748)\u001b[0m   self.pid = os.fork()\u001b[32m [repeated 3x across cluster]\u001b[0m\n",
      "\u001b[36m(ClientAppActor pid=172748)\u001b[0m Seed set to 42\n",
      "\u001b[33m(raylet)\u001b[0m [2025-05-04 18:00:28,097 E 170843 170883] (raylet) file_system_monitor.cc:111: /home/emeka/PrivacyBench/logs/ray/session_2025-05-04_17-50-15_535960_170505 is over 95% full, available space: 845238272; capacity: 52589998080. Object creation will fail if spilling is required.\n"
     ]
    },
    {
     "name": "stdout",
     "output_type": "stream",
     "text": [
      "\u001b[36m(ClientAppActor pid=172747)\u001b[0m \n",
      "\u001b[36m(ClientAppActor pid=172747)\u001b[0m 🔎 Tracker: FL + CDP-SF (CNN)\n",
      "\u001b[36m(ClientAppActor pid=172747)\u001b[0m 📁 Logs saved to: /home/emeka/PrivacyBench/logs/emissions/FL_CDP-SF_CNN/client_emissions.csv\n",
      "\u001b[36m(ClientAppActor pid=172747)\u001b[0m ⏱️ Total training time: 0 minutes 23 seconds\n",
      "\u001b[36m(ClientAppActor pid=172748)\u001b[0m \n",
      "\u001b[36m(ClientAppActor pid=172748)\u001b[0m 🔎 Tracker: FL + CDP-SF (CNN)\n",
      "\u001b[36m(ClientAppActor pid=172748)\u001b[0m 📁 Logs saved to: /home/emeka/PrivacyBench/logs/emissions/FL_CDP-SF_CNN/client_emissions.csv\n",
      "\u001b[36m(ClientAppActor pid=172748)\u001b[0m ⏱️ Total training time: 0 minutes 23 seconds\n"
     ]
    },
    {
     "name": "stderr",
     "output_type": "stream",
     "text": [
      "\u001b[36m(ClientAppActor pid=172747)\u001b[0m Seed set to 42\n",
      "\u001b[36m(ClientAppActor pid=172747)\u001b[0m /home/emeka/.local/share/uv/python/cpython-3.12.10-linux-x86_64-gnu/lib/python3.12/multiprocessing/popen_fork.py:66: DeprecationWarning: This process (pid=172747) is multi-threaded, use of fork() may lead to deadlocks in the child.\n",
      "\u001b[36m(ClientAppActor pid=172747)\u001b[0m   self.pid = os.fork()\n",
      "\u001b[33m(raylet)\u001b[0m [2025-05-04 18:00:38,107 E 170843 170883] (raylet) file_system_monitor.cc:111: /home/emeka/PrivacyBench/logs/ray/session_2025-05-04_17-50-15_535960_170505 is over 95% full, available space: 845242368; capacity: 52589998080. Object creation will fail if spilling is required.\n",
      "\u001b[33m(raylet)\u001b[0m [2025-05-04 18:00:48,118 E 170843 170883] (raylet) file_system_monitor.cc:111: /home/emeka/PrivacyBench/logs/ray/session_2025-05-04_17-50-15_535960_170505 is over 95% full, available space: 845238272; capacity: 52589998080. Object creation will fail if spilling is required.\n",
      "\u001b[33m(raylet)\u001b[0m [2025-05-04 18:00:58,128 E 170843 170883] (raylet) file_system_monitor.cc:111: /home/emeka/PrivacyBench/logs/ray/session_2025-05-04_17-50-15_535960_170505 is over 95% full, available space: 845221888; capacity: 52589998080. Object creation will fail if spilling is required.\n",
      "\u001b[92mINFO \u001b[0m:      aggregate_fit: received 3 results and 0 failures\n",
      "\u001b[92mINFO \u001b[0m:      aggregate_fit: parameters are clipped by value: 0.1000.\n"
     ]
    },
    {
     "name": "stdout",
     "output_type": "stream",
     "text": [
      "\u001b[36m(ClientAppActor pid=172747)\u001b[0m \n",
      "\u001b[36m(ClientAppActor pid=172747)\u001b[0m 🔎 Tracker: FL + CDP-SF (CNN)\n",
      "\u001b[36m(ClientAppActor pid=172747)\u001b[0m 📁 Logs saved to: /home/emeka/PrivacyBench/logs/emissions/FL_CDP-SF_CNN/client_emissions.csv\n",
      "\u001b[36m(ClientAppActor pid=172747)\u001b[0m ⏱️ Total training time: 0 minutes 22 seconds\n"
     ]
    },
    {
     "name": "stderr",
     "output_type": "stream",
     "text": [
      "\u001b[92mINFO \u001b[0m:      aggregate_fit: parameters are clipped by value: 0.1000.\n",
      "\u001b[92mINFO \u001b[0m:      aggregate_fit: parameters are clipped by value: 0.1000.\n",
      "\u001b[92mINFO \u001b[0m:      aggregate_fit: central DP noise with 0.0000 stdev added\n",
      "/home/emeka/.local/share/uv/python/cpython-3.12.10-linux-x86_64-gnu/lib/python3.12/multiprocessing/popen_fork.py:66: DeprecationWarning: This process (pid=170505) is multi-threaded, use of fork() may lead to deadlocks in the child.\n",
      "  self.pid = os.fork()\n",
      "\u001b[92mINFO \u001b[0m:      fit progress: (12, 1.647695744037628, {'accuracy': 0.35859375}, 637.182686909)\n",
      "\u001b[92mINFO \u001b[0m:      configure_evaluate: strategy sampled 3 clients (out of 3)\n",
      "\u001b[36m(ClientAppActor pid=172747)\u001b[0m /home/emeka/.local/share/uv/python/cpython-3.12.10-linux-x86_64-gnu/lib/python3.12/multiprocessing/popen_fork.py:66: DeprecationWarning: This process (pid=172747) is multi-threaded, use of fork() may lead to deadlocks in the child.\n",
      "\u001b[36m(ClientAppActor pid=172747)\u001b[0m   self.pid = os.fork()\n",
      "\u001b[92mINFO \u001b[0m:      aggregate_evaluate: received 3 results and 0 failures\n",
      "\u001b[92mINFO \u001b[0m:      \n",
      "\u001b[92mINFO \u001b[0m:      [ROUND 13]\n",
      "\u001b[92mINFO \u001b[0m:      configure_fit: strategy sampled 3 clients (out of 3)\n",
      "\u001b[36m(ClientAppActor pid=172747)\u001b[0m Seed set to 42\n",
      "\u001b[33m(raylet)\u001b[0m [2025-05-04 18:01:08,138 E 170843 170883] (raylet) file_system_monitor.cc:111: /home/emeka/PrivacyBench/logs/ray/session_2025-05-04_17-50-15_535960_170505 is over 95% full, available space: 845148160; capacity: 52589998080. Object creation will fail if spilling is required.\n",
      "\u001b[36m(ClientAppActor pid=172748)\u001b[0m /home/emeka/.local/share/uv/python/cpython-3.12.10-linux-x86_64-gnu/lib/python3.12/multiprocessing/popen_fork.py:66: DeprecationWarning: This process (pid=172748) is multi-threaded, use of fork() may lead to deadlocks in the child.\u001b[32m [repeated 3x across cluster]\u001b[0m\n",
      "\u001b[36m(ClientAppActor pid=172748)\u001b[0m   self.pid = os.fork()\u001b[32m [repeated 3x across cluster]\u001b[0m\n",
      "\u001b[36m(ClientAppActor pid=172748)\u001b[0m Seed set to 42\n",
      "\u001b[33m(raylet)\u001b[0m [2025-05-04 18:01:18,149 E 170843 170883] (raylet) file_system_monitor.cc:111: /home/emeka/PrivacyBench/logs/ray/session_2025-05-04_17-50-15_535960_170505 is over 95% full, available space: 845127680; capacity: 52589998080. Object creation will fail if spilling is required.\n",
      "\u001b[33m(raylet)\u001b[0m [2025-05-04 18:01:28,160 E 170843 170883] (raylet) file_system_monitor.cc:111: /home/emeka/PrivacyBench/logs/ray/session_2025-05-04_17-50-15_535960_170505 is over 95% full, available space: 844898304; capacity: 52589998080. Object creation will fail if spilling is required.\n"
     ]
    },
    {
     "name": "stdout",
     "output_type": "stream",
     "text": [
      "\u001b[36m(ClientAppActor pid=172748)\u001b[0m \n",
      "\u001b[36m(ClientAppActor pid=172748)\u001b[0m 🔎 Tracker: FL + CDP-SF (CNN)\n",
      "\u001b[36m(ClientAppActor pid=172748)\u001b[0m 📁 Logs saved to: /home/emeka/PrivacyBench/logs/emissions/FL_CDP-SF_CNN/client_emissions.csv\n",
      "\u001b[36m(ClientAppActor pid=172748)\u001b[0m ⏱️ Total training time: 0 minutes 23 seconds\n",
      "\u001b[36m(ClientAppActor pid=172747)\u001b[0m \n"
     ]
    },
    {
     "name": "stderr",
     "output_type": "stream",
     "text": [
      "\u001b[36m(ClientAppActor pid=172748)\u001b[0m Seed set to 42\n",
      "\u001b[36m(ClientAppActor pid=172748)\u001b[0m /home/emeka/.local/share/uv/python/cpython-3.12.10-linux-x86_64-gnu/lib/python3.12/multiprocessing/popen_fork.py:66: DeprecationWarning: This process (pid=172748) is multi-threaded, use of fork() may lead to deadlocks in the child.\n",
      "\u001b[36m(ClientAppActor pid=172748)\u001b[0m   self.pid = os.fork()\n",
      "\u001b[33m(raylet)\u001b[0m [2025-05-04 18:01:38,171 E 170843 170883] (raylet) file_system_monitor.cc:111: /home/emeka/PrivacyBench/logs/ray/session_2025-05-04_17-50-15_535960_170505 is over 95% full, available space: 844828672; capacity: 52589998080. Object creation will fail if spilling is required.\n",
      "\u001b[33m(raylet)\u001b[0m [2025-05-04 18:01:48,181 E 170843 170883] (raylet) file_system_monitor.cc:111: /home/emeka/PrivacyBench/logs/ray/session_2025-05-04_17-50-15_535960_170505 is over 95% full, available space: 844812288; capacity: 52589998080. Object creation will fail if spilling is required.\n",
      "\u001b[92mINFO \u001b[0m:      aggregate_fit: received 3 results and 0 failures\n"
     ]
    },
    {
     "name": "stdout",
     "output_type": "stream",
     "text": [
      "\u001b[36m(ClientAppActor pid=172748)\u001b[0m \n",
      "\u001b[36m(ClientAppActor pid=172748)\u001b[0m 🔎 Tracker: FL + CDP-SF (CNN)\u001b[32m [repeated 2x across cluster]\u001b[0m\n",
      "\u001b[36m(ClientAppActor pid=172748)\u001b[0m 📁 Logs saved to: /home/emeka/PrivacyBench/logs/emissions/FL_CDP-SF_CNN/client_emissions.csv\u001b[32m [repeated 2x across cluster]\u001b[0m\n",
      "\u001b[36m(ClientAppActor pid=172748)\u001b[0m ⏱️ Total training time: 0 minutes 22 seconds\u001b[32m [repeated 2x across cluster]\u001b[0m\n"
     ]
    },
    {
     "name": "stderr",
     "output_type": "stream",
     "text": [
      "\u001b[92mINFO \u001b[0m:      aggregate_fit: parameters are clipped by value: 0.1000.\n",
      "\u001b[92mINFO \u001b[0m:      aggregate_fit: parameters are clipped by value: 0.1000.\n",
      "\u001b[92mINFO \u001b[0m:      aggregate_fit: parameters are clipped by value: 0.1000.\n",
      "\u001b[92mINFO \u001b[0m:      aggregate_fit: central DP noise with 0.0000 stdev added\n",
      "/home/emeka/.local/share/uv/python/cpython-3.12.10-linux-x86_64-gnu/lib/python3.12/multiprocessing/popen_fork.py:66: DeprecationWarning: This process (pid=170505) is multi-threaded, use of fork() may lead to deadlocks in the child.\n",
      "  self.pid = os.fork()\n",
      "\u001b[92mINFO \u001b[0m:      fit progress: (13, 1.632121455669403, {'accuracy': 0.35859375}, 689.9682439400003)\n",
      "\u001b[92mINFO \u001b[0m:      configure_evaluate: strategy sampled 3 clients (out of 3)\n",
      "\u001b[36m(ClientAppActor pid=172747)\u001b[0m /home/emeka/.local/share/uv/python/cpython-3.12.10-linux-x86_64-gnu/lib/python3.12/multiprocessing/popen_fork.py:66: DeprecationWarning: This process (pid=172747) is multi-threaded, use of fork() may lead to deadlocks in the child.\n",
      "\u001b[36m(ClientAppActor pid=172747)\u001b[0m   self.pid = os.fork()\n",
      "\u001b[92mINFO \u001b[0m:      aggregate_evaluate: received 3 results and 0 failures\n",
      "\u001b[92mINFO \u001b[0m:      \n",
      "\u001b[92mINFO \u001b[0m:      [ROUND 14]\n",
      "\u001b[92mINFO \u001b[0m:      configure_fit: strategy sampled 3 clients (out of 3)\n",
      "\u001b[33m(raylet)\u001b[0m [2025-05-04 18:01:58,192 E 170843 170883] (raylet) file_system_monitor.cc:111: /home/emeka/PrivacyBench/logs/ray/session_2025-05-04_17-50-15_535960_170505 is over 95% full, available space: 844820480; capacity: 52589998080. Object creation will fail if spilling is required.\n",
      "\u001b[36m(ClientAppActor pid=172747)\u001b[0m Seed set to 42\n",
      "\u001b[36m(ClientAppActor pid=172748)\u001b[0m /home/emeka/.local/share/uv/python/cpython-3.12.10-linux-x86_64-gnu/lib/python3.12/multiprocessing/popen_fork.py:66: DeprecationWarning: This process (pid=172748) is multi-threaded, use of fork() may lead to deadlocks in the child.\u001b[32m [repeated 3x across cluster]\u001b[0m\n",
      "\u001b[36m(ClientAppActor pid=172748)\u001b[0m   self.pid = os.fork()\u001b[32m [repeated 3x across cluster]\u001b[0m\n",
      "\u001b[33m(raylet)\u001b[0m [2025-05-04 18:02:08,203 E 170843 170883] (raylet) file_system_monitor.cc:111: /home/emeka/PrivacyBench/logs/ray/session_2025-05-04_17-50-15_535960_170505 is over 95% full, available space: 844783616; capacity: 52589998080. Object creation will fail if spilling is required.\n",
      "\u001b[36m(ClientAppActor pid=172748)\u001b[0m Seed set to 42\n",
      "\u001b[33m(raylet)\u001b[0m [2025-05-04 18:02:18,213 E 170843 170883] (raylet) file_system_monitor.cc:111: /home/emeka/PrivacyBench/logs/ray/session_2025-05-04_17-50-15_535960_170505 is over 95% full, available space: 844660736; capacity: 52589998080. Object creation will fail if spilling is required.\n"
     ]
    },
    {
     "name": "stdout",
     "output_type": "stream",
     "text": [
      "\u001b[36m(ClientAppActor pid=172748)\u001b[0m \n",
      "\u001b[36m(ClientAppActor pid=172748)\u001b[0m 🔎 Tracker: FL + CDP-SF (CNN)\n",
      "\u001b[36m(ClientAppActor pid=172748)\u001b[0m 📁 Logs saved to: /home/emeka/PrivacyBench/logs/emissions/FL_CDP-SF_CNN/client_emissions.csv\n",
      "\u001b[36m(ClientAppActor pid=172748)\u001b[0m ⏱️ Total training time: 0 minutes 23 seconds\n",
      "\u001b[36m(ClientAppActor pid=172747)\u001b[0m \n",
      "\u001b[36m(ClientAppActor pid=172747)\u001b[0m 🔎 Tracker: FL + CDP-SF (CNN)\n",
      "\u001b[36m(ClientAppActor pid=172747)\u001b[0m 📁 Logs saved to: /home/emeka/PrivacyBench/logs/emissions/FL_CDP-SF_CNN/client_emissions.csv\n",
      "\u001b[36m(ClientAppActor pid=172747)\u001b[0m ⏱️ Total training time: 0 minutes 23 seconds\n"
     ]
    },
    {
     "name": "stderr",
     "output_type": "stream",
     "text": [
      "\u001b[36m(ClientAppActor pid=172748)\u001b[0m Seed set to 42\n",
      "\u001b[36m(ClientAppActor pid=172748)\u001b[0m /home/emeka/.local/share/uv/python/cpython-3.12.10-linux-x86_64-gnu/lib/python3.12/multiprocessing/popen_fork.py:66: DeprecationWarning: This process (pid=172748) is multi-threaded, use of fork() may lead to deadlocks in the child.\n",
      "\u001b[36m(ClientAppActor pid=172748)\u001b[0m   self.pid = os.fork()\n",
      "\u001b[33m(raylet)\u001b[0m [2025-05-04 18:02:28,226 E 170843 170883] (raylet) file_system_monitor.cc:111: /home/emeka/PrivacyBench/logs/ray/session_2025-05-04_17-50-15_535960_170505 is over 95% full, available space: 844398592; capacity: 52589998080. Object creation will fail if spilling is required.\n",
      "\u001b[33m(raylet)\u001b[0m [2025-05-04 18:02:38,239 E 170843 170883] (raylet) file_system_monitor.cc:111: /home/emeka/PrivacyBench/logs/ray/session_2025-05-04_17-50-15_535960_170505 is over 95% full, available space: 844390400; capacity: 52589998080. Object creation will fail if spilling is required.\n",
      "\u001b[92mINFO \u001b[0m:      aggregate_fit: received 3 results and 0 failures\n"
     ]
    },
    {
     "name": "stdout",
     "output_type": "stream",
     "text": [
      "\u001b[36m(ClientAppActor pid=172748)\u001b[0m \n",
      "\u001b[36m(ClientAppActor pid=172748)\u001b[0m 🔎 Tracker: FL + CDP-SF (CNN)\n",
      "\u001b[36m(ClientAppActor pid=172748)\u001b[0m 📁 Logs saved to: /home/emeka/PrivacyBench/logs/emissions/FL_CDP-SF_CNN/client_emissions.csv\n",
      "\u001b[36m(ClientAppActor pid=172748)\u001b[0m ⏱️ Total training time: 0 minutes 22 seconds\n"
     ]
    },
    {
     "name": "stderr",
     "output_type": "stream",
     "text": [
      "\u001b[92mINFO \u001b[0m:      aggregate_fit: parameters are clipped by value: 0.1000.\n",
      "\u001b[92mINFO \u001b[0m:      aggregate_fit: parameters are clipped by value: 0.1000.\n",
      "\u001b[92mINFO \u001b[0m:      aggregate_fit: parameters are clipped by value: 0.1000.\n",
      "\u001b[92mINFO \u001b[0m:      aggregate_fit: central DP noise with 0.0000 stdev added\n",
      "/home/emeka/.local/share/uv/python/cpython-3.12.10-linux-x86_64-gnu/lib/python3.12/multiprocessing/popen_fork.py:66: DeprecationWarning: This process (pid=170505) is multi-threaded, use of fork() may lead to deadlocks in the child.\n",
      "  self.pid = os.fork()\n",
      "\u001b[33m(raylet)\u001b[0m [2025-05-04 18:02:48,249 E 170843 170883] (raylet) file_system_monitor.cc:111: /home/emeka/PrivacyBench/logs/ray/session_2025-05-04_17-50-15_535960_170505 is over 95% full, available space: 844333056; capacity: 52589998080. Object creation will fail if spilling is required.\n",
      "\u001b[92mINFO \u001b[0m:      fit progress: (14, 1.6290685772895812, {'accuracy': 0.35859375}, 743.2673694180012)\n",
      "\u001b[92mINFO \u001b[0m:      configure_evaluate: strategy sampled 3 clients (out of 3)\n",
      "\u001b[36m(ClientAppActor pid=172747)\u001b[0m /home/emeka/.local/share/uv/python/cpython-3.12.10-linux-x86_64-gnu/lib/python3.12/multiprocessing/popen_fork.py:66: DeprecationWarning: This process (pid=172747) is multi-threaded, use of fork() may lead to deadlocks in the child.\n",
      "\u001b[36m(ClientAppActor pid=172747)\u001b[0m   self.pid = os.fork()\n",
      "\u001b[92mINFO \u001b[0m:      aggregate_evaluate: received 3 results and 0 failures\n",
      "\u001b[92mINFO \u001b[0m:      \n",
      "\u001b[92mINFO \u001b[0m:      [ROUND 15]\n",
      "\u001b[92mINFO \u001b[0m:      configure_fit: strategy sampled 3 clients (out of 3)\n",
      "\u001b[36m(ClientAppActor pid=172747)\u001b[0m Seed set to 42\n",
      "\u001b[33m(raylet)\u001b[0m [2025-05-04 18:02:58,259 E 170843 170883] (raylet) file_system_monitor.cc:111: /home/emeka/PrivacyBench/logs/ray/session_2025-05-04_17-50-15_535960_170505 is over 95% full, available space: 844312576; capacity: 52589998080. Object creation will fail if spilling is required.\n",
      "\u001b[36m(ClientAppActor pid=172748)\u001b[0m /home/emeka/.local/share/uv/python/cpython-3.12.10-linux-x86_64-gnu/lib/python3.12/multiprocessing/popen_fork.py:66: DeprecationWarning: This process (pid=172748) is multi-threaded, use of fork() may lead to deadlocks in the child.\u001b[32m [repeated 3x across cluster]\u001b[0m\n",
      "\u001b[36m(ClientAppActor pid=172748)\u001b[0m   self.pid = os.fork()\u001b[32m [repeated 3x across cluster]\u001b[0m\n",
      "\u001b[36m(ClientAppActor pid=172748)\u001b[0m Seed set to 42\n",
      "\u001b[33m(raylet)\u001b[0m [2025-05-04 18:03:08,270 E 170843 170883] (raylet) file_system_monitor.cc:111: /home/emeka/PrivacyBench/logs/ray/session_2025-05-04_17-50-15_535960_170505 is over 95% full, available space: 844292096; capacity: 52589998080. Object creation will fail if spilling is required.\n"
     ]
    },
    {
     "name": "stdout",
     "output_type": "stream",
     "text": [
      "\u001b[36m(ClientAppActor pid=172748)\u001b[0m \n",
      "\u001b[36m(ClientAppActor pid=172748)\u001b[0m 🔎 Tracker: FL + CDP-SF (CNN)\n",
      "\u001b[36m(ClientAppActor pid=172748)\u001b[0m 📁 Logs saved to: /home/emeka/PrivacyBench/logs/emissions/FL_CDP-SF_CNN/client_emissions.csv\n",
      "\u001b[36m(ClientAppActor pid=172748)\u001b[0m ⏱️ Total training time: 0 minutes 22 seconds\n",
      "\u001b[36m(ClientAppActor pid=172747)\u001b[0m \n"
     ]
    },
    {
     "name": "stderr",
     "output_type": "stream",
     "text": [
      "\u001b[36m(ClientAppActor pid=172748)\u001b[0m Seed set to 42\n",
      "\u001b[36m(ClientAppActor pid=172748)\u001b[0m /home/emeka/.local/share/uv/python/cpython-3.12.10-linux-x86_64-gnu/lib/python3.12/multiprocessing/popen_fork.py:66: DeprecationWarning: This process (pid=172748) is multi-threaded, use of fork() may lead to deadlocks in the child.\n",
      "\u001b[36m(ClientAppActor pid=172748)\u001b[0m   self.pid = os.fork()\n",
      "\u001b[33m(raylet)\u001b[0m [2025-05-04 18:03:18,280 E 170843 170883] (raylet) file_system_monitor.cc:111: /home/emeka/PrivacyBench/logs/ray/session_2025-05-04_17-50-15_535960_170505 is over 95% full, available space: 844197888; capacity: 52589998080. Object creation will fail if spilling is required.\n",
      "\u001b[33m(raylet)\u001b[0m [2025-05-04 18:03:28,292 E 170843 170883] (raylet) file_system_monitor.cc:111: /home/emeka/PrivacyBench/logs/ray/session_2025-05-04_17-50-15_535960_170505 is over 95% full, available space: 844017664; capacity: 52589998080. Object creation will fail if spilling is required.\n",
      "\u001b[92mINFO \u001b[0m:      aggregate_fit: received 3 results and 0 failures\n"
     ]
    },
    {
     "name": "stdout",
     "output_type": "stream",
     "text": [
      "\u001b[36m(ClientAppActor pid=172748)\u001b[0m \n",
      "\u001b[36m(ClientAppActor pid=172748)\u001b[0m 🔎 Tracker: FL + CDP-SF (CNN)\u001b[32m [repeated 2x across cluster]\u001b[0m\n",
      "\u001b[36m(ClientAppActor pid=172748)\u001b[0m 📁 Logs saved to: /home/emeka/PrivacyBench/logs/emissions/FL_CDP-SF_CNN/client_emissions.csv\u001b[32m [repeated 2x across cluster]\u001b[0m\n",
      "\u001b[36m(ClientAppActor pid=172748)\u001b[0m ⏱️ Total training time: 0 minutes 21 seconds\u001b[32m [repeated 2x across cluster]\u001b[0m\n"
     ]
    },
    {
     "name": "stderr",
     "output_type": "stream",
     "text": [
      "\u001b[92mINFO \u001b[0m:      aggregate_fit: parameters are clipped by value: 0.1000.\n",
      "\u001b[92mINFO \u001b[0m:      aggregate_fit: parameters are clipped by value: 0.1000.\n",
      "\u001b[92mINFO \u001b[0m:      aggregate_fit: parameters are clipped by value: 0.1000.\n",
      "\u001b[92mINFO \u001b[0m:      aggregate_fit: central DP noise with 0.0000 stdev added\n",
      "\u001b[33m(raylet)\u001b[0m [2025-05-04 18:03:38,301 E 170843 170883] (raylet) file_system_monitor.cc:111: /home/emeka/PrivacyBench/logs/ray/session_2025-05-04_17-50-15_535960_170505 is over 95% full, available space: 844029952; capacity: 52589998080. Object creation will fail if spilling is required.\n",
      "/home/emeka/.local/share/uv/python/cpython-3.12.10-linux-x86_64-gnu/lib/python3.12/multiprocessing/popen_fork.py:66: DeprecationWarning: This process (pid=170505) is multi-threaded, use of fork() may lead to deadlocks in the child.\n",
      "  self.pid = os.fork()\n",
      "\u001b[92mINFO \u001b[0m:      fit progress: (15, 1.6242662608623504, {'accuracy': 0.35859375}, 796.060014273)\n",
      "\u001b[92mINFO \u001b[0m:      configure_evaluate: strategy sampled 3 clients (out of 3)\n",
      "\u001b[36m(ClientAppActor pid=172747)\u001b[0m /home/emeka/.local/share/uv/python/cpython-3.12.10-linux-x86_64-gnu/lib/python3.12/multiprocessing/popen_fork.py:66: DeprecationWarning: This process (pid=172747) is multi-threaded, use of fork() may lead to deadlocks in the child.\n",
      "\u001b[36m(ClientAppActor pid=172747)\u001b[0m   self.pid = os.fork()\n",
      "\u001b[92mINFO \u001b[0m:      aggregate_evaluate: received 3 results and 0 failures\n",
      "\u001b[92mINFO \u001b[0m:      \n",
      "\u001b[92mINFO \u001b[0m:      [ROUND 16]\n",
      "\u001b[92mINFO \u001b[0m:      configure_fit: strategy sampled 3 clients (out of 3)\n",
      "\u001b[36m(ClientAppActor pid=172747)\u001b[0m Seed set to 42\n",
      "\u001b[33m(raylet)\u001b[0m [2025-05-04 18:03:48,312 E 170843 170883] (raylet) file_system_monitor.cc:111: /home/emeka/PrivacyBench/logs/ray/session_2025-05-04_17-50-15_535960_170505 is over 95% full, available space: 843902976; capacity: 52589998080. Object creation will fail if spilling is required.\n",
      "\u001b[36m(ClientAppActor pid=172748)\u001b[0m /home/emeka/.local/share/uv/python/cpython-3.12.10-linux-x86_64-gnu/lib/python3.12/multiprocessing/popen_fork.py:66: DeprecationWarning: This process (pid=172748) is multi-threaded, use of fork() may lead to deadlocks in the child.\u001b[32m [repeated 3x across cluster]\u001b[0m\n",
      "\u001b[36m(ClientAppActor pid=172748)\u001b[0m   self.pid = os.fork()\u001b[32m [repeated 3x across cluster]\u001b[0m\n",
      "\u001b[36m(ClientAppActor pid=172748)\u001b[0m Seed set to 42\n",
      "\u001b[33m(raylet)\u001b[0m [2025-05-04 18:03:58,324 E 170843 170883] (raylet) file_system_monitor.cc:111: /home/emeka/PrivacyBench/logs/ray/session_2025-05-04_17-50-15_535960_170505 is over 95% full, available space: 843902976; capacity: 52589998080. Object creation will fail if spilling is required.\n"
     ]
    },
    {
     "name": "stdout",
     "output_type": "stream",
     "text": [
      "\u001b[36m(ClientAppActor pid=172748)\u001b[0m \n",
      "\u001b[36m(ClientAppActor pid=172748)\u001b[0m 🔎 Tracker: FL + CDP-SF (CNN)\n",
      "\u001b[36m(ClientAppActor pid=172748)\u001b[0m 📁 Logs saved to: /home/emeka/PrivacyBench/logs/emissions/FL_CDP-SF_CNN/client_emissions.csv\n",
      "\u001b[36m(ClientAppActor pid=172748)\u001b[0m ⏱️ Total training time: 0 minutes 22 seconds\n",
      "\u001b[36m(ClientAppActor pid=172747)\u001b[0m \n",
      "\u001b[36m(ClientAppActor pid=172747)\u001b[0m 🔎 Tracker: FL + CDP-SF (CNN)\n",
      "\u001b[36m(ClientAppActor pid=172747)\u001b[0m 📁 Logs saved to: /home/emeka/PrivacyBench/logs/emissions/FL_CDP-SF_CNN/client_emissions.csv\n",
      "\u001b[36m(ClientAppActor pid=172747)\u001b[0m ⏱️ Total training time: 0 minutes 23 seconds\n"
     ]
    },
    {
     "name": "stderr",
     "output_type": "stream",
     "text": [
      "\u001b[36m(ClientAppActor pid=172748)\u001b[0m Seed set to 42\n",
      "\u001b[36m(ClientAppActor pid=172748)\u001b[0m /home/emeka/.local/share/uv/python/cpython-3.12.10-linux-x86_64-gnu/lib/python3.12/multiprocessing/popen_fork.py:66: DeprecationWarning: This process (pid=172748) is multi-threaded, use of fork() may lead to deadlocks in the child.\n",
      "\u001b[36m(ClientAppActor pid=172748)\u001b[0m   self.pid = os.fork()\n",
      "\u001b[33m(raylet)\u001b[0m [2025-05-04 18:04:08,334 E 170843 170883] (raylet) file_system_monitor.cc:111: /home/emeka/PrivacyBench/logs/ray/session_2025-05-04_17-50-15_535960_170505 is over 95% full, available space: 843816960; capacity: 52589998080. Object creation will fail if spilling is required.\n",
      "\u001b[33m(raylet)\u001b[0m [2025-05-04 18:04:18,345 E 170843 170883] (raylet) file_system_monitor.cc:111: /home/emeka/PrivacyBench/logs/ray/session_2025-05-04_17-50-15_535960_170505 is over 95% full, available space: 843784192; capacity: 52589998080. Object creation will fail if spilling is required.\n",
      "\u001b[33m(raylet)\u001b[0m [2025-05-04 18:04:28,356 E 170843 170883] (raylet) file_system_monitor.cc:111: /home/emeka/PrivacyBench/logs/ray/session_2025-05-04_17-50-15_535960_170505 is over 95% full, available space: 843423744; capacity: 52589998080. Object creation will fail if spilling is required.\n",
      "\u001b[92mINFO \u001b[0m:      aggregate_fit: received 3 results and 0 failures\n",
      "\u001b[92mINFO \u001b[0m:      aggregate_fit: parameters are clipped by value: 0.1000.\n"
     ]
    },
    {
     "name": "stdout",
     "output_type": "stream",
     "text": [
      "\u001b[36m(ClientAppActor pid=172748)\u001b[0m \n",
      "\u001b[36m(ClientAppActor pid=172748)\u001b[0m 🔎 Tracker: FL + CDP-SF (CNN)\n",
      "\u001b[36m(ClientAppActor pid=172748)\u001b[0m 📁 Logs saved to: /home/emeka/PrivacyBench/logs/emissions/FL_CDP-SF_CNN/client_emissions.csv\n",
      "\u001b[36m(ClientAppActor pid=172748)\u001b[0m ⏱️ Total training time: 0 minutes 22 seconds\n"
     ]
    },
    {
     "name": "stderr",
     "output_type": "stream",
     "text": [
      "\u001b[92mINFO \u001b[0m:      aggregate_fit: parameters are clipped by value: 0.1000.\n",
      "\u001b[92mINFO \u001b[0m:      aggregate_fit: parameters are clipped by value: 0.1000.\n",
      "\u001b[92mINFO \u001b[0m:      aggregate_fit: central DP noise with 0.0000 stdev added\n",
      "/home/emeka/.local/share/uv/python/cpython-3.12.10-linux-x86_64-gnu/lib/python3.12/multiprocessing/popen_fork.py:66: DeprecationWarning: This process (pid=170505) is multi-threaded, use of fork() may lead to deadlocks in the child.\n",
      "  self.pid = os.fork()\n",
      "\u001b[92mINFO \u001b[0m:      fit progress: (16, 1.6147755444049836, {'accuracy': 0.35859375}, 848.6314173219998)\n",
      "\u001b[92mINFO \u001b[0m:      configure_evaluate: strategy sampled 3 clients (out of 3)\n",
      "\u001b[36m(ClientAppActor pid=172747)\u001b[0m /home/emeka/.local/share/uv/python/cpython-3.12.10-linux-x86_64-gnu/lib/python3.12/multiprocessing/popen_fork.py:66: DeprecationWarning: This process (pid=172747) is multi-threaded, use of fork() may lead to deadlocks in the child.\n",
      "\u001b[36m(ClientAppActor pid=172747)\u001b[0m   self.pid = os.fork()\n",
      "\u001b[92mINFO \u001b[0m:      aggregate_evaluate: received 3 results and 0 failures\n",
      "\u001b[92mINFO \u001b[0m:      \n",
      "\u001b[92mINFO \u001b[0m:      [ROUND 17]\n",
      "\u001b[92mINFO \u001b[0m:      configure_fit: strategy sampled 3 clients (out of 3)\n",
      "\u001b[36m(ClientAppActor pid=172747)\u001b[0m Seed set to 42\n",
      "\u001b[33m(raylet)\u001b[0m [2025-05-04 18:04:38,366 E 170843 170883] (raylet) file_system_monitor.cc:111: /home/emeka/PrivacyBench/logs/ray/session_2025-05-04_17-50-15_535960_170505 is over 95% full, available space: 843317248; capacity: 52589998080. Object creation will fail if spilling is required.\n",
      "\u001b[36m(ClientAppActor pid=172748)\u001b[0m /home/emeka/.local/share/uv/python/cpython-3.12.10-linux-x86_64-gnu/lib/python3.12/multiprocessing/popen_fork.py:66: DeprecationWarning: This process (pid=172748) is multi-threaded, use of fork() may lead to deadlocks in the child.\u001b[32m [repeated 3x across cluster]\u001b[0m\n",
      "\u001b[36m(ClientAppActor pid=172748)\u001b[0m   self.pid = os.fork()\u001b[32m [repeated 3x across cluster]\u001b[0m\n",
      "\u001b[36m(ClientAppActor pid=172748)\u001b[0m Seed set to 42\n",
      "\u001b[33m(raylet)\u001b[0m [2025-05-04 18:04:48,378 E 170843 170883] (raylet) file_system_monitor.cc:111: /home/emeka/PrivacyBench/logs/ray/session_2025-05-04_17-50-15_535960_170505 is over 95% full, available space: 843309056; capacity: 52589998080. Object creation will fail if spilling is required.\n",
      "\u001b[33m(raylet)\u001b[0m [2025-05-04 18:04:58,389 E 170843 170883] (raylet) file_system_monitor.cc:111: /home/emeka/PrivacyBench/logs/ray/session_2025-05-04_17-50-15_535960_170505 is over 95% full, available space: 843235328; capacity: 52589998080. Object creation will fail if spilling is required.\n"
     ]
    },
    {
     "name": "stdout",
     "output_type": "stream",
     "text": [
      "\u001b[36m(ClientAppActor pid=172748)\u001b[0m \n",
      "\u001b[36m(ClientAppActor pid=172748)\u001b[0m 🔎 Tracker: FL + CDP-SF (CNN)\n",
      "\u001b[36m(ClientAppActor pid=172748)\u001b[0m 📁 Logs saved to: /home/emeka/PrivacyBench/logs/emissions/FL_CDP-SF_CNN/client_emissions.csv\n",
      "\u001b[36m(ClientAppActor pid=172748)\u001b[0m ⏱️ Total training time: 0 minutes 22 seconds\n",
      "\u001b[36m(ClientAppActor pid=172747)\u001b[0m \n"
     ]
    },
    {
     "name": "stderr",
     "output_type": "stream",
     "text": [
      "\u001b[36m(ClientAppActor pid=172748)\u001b[0m Seed set to 42\n",
      "\u001b[36m(ClientAppActor pid=172748)\u001b[0m /home/emeka/.local/share/uv/python/cpython-3.12.10-linux-x86_64-gnu/lib/python3.12/multiprocessing/popen_fork.py:66: DeprecationWarning: This process (pid=172748) is multi-threaded, use of fork() may lead to deadlocks in the child.\n",
      "\u001b[36m(ClientAppActor pid=172748)\u001b[0m   self.pid = os.fork()\n",
      "\u001b[33m(raylet)\u001b[0m [2025-05-04 18:05:08,399 E 170843 170883] (raylet) file_system_monitor.cc:111: /home/emeka/PrivacyBench/logs/ray/session_2025-05-04_17-50-15_535960_170505 is over 95% full, available space: 843186176; capacity: 52589998080. Object creation will fail if spilling is required.\n",
      "\u001b[33m(raylet)\u001b[0m [2025-05-04 18:05:18,409 E 170843 170883] (raylet) file_system_monitor.cc:111: /home/emeka/PrivacyBench/logs/ray/session_2025-05-04_17-50-15_535960_170505 is over 95% full, available space: 843169792; capacity: 52589998080. Object creation will fail if spilling is required.\n"
     ]
    },
    {
     "name": "stdout",
     "output_type": "stream",
     "text": [
      "\u001b[36m(ClientAppActor pid=172748)\u001b[0m \n",
      "\u001b[36m(ClientAppActor pid=172748)\u001b[0m 🔎 Tracker: FL + CDP-SF (CNN)\u001b[32m [repeated 2x across cluster]\u001b[0m\n",
      "\u001b[36m(ClientAppActor pid=172748)\u001b[0m 📁 Logs saved to: /home/emeka/PrivacyBench/logs/emissions/FL_CDP-SF_CNN/client_emissions.csv\u001b[32m [repeated 2x across cluster]\u001b[0m\n",
      "\u001b[36m(ClientAppActor pid=172748)\u001b[0m ⏱️ Total training time: 0 minutes 22 seconds\u001b[32m [repeated 2x across cluster]\u001b[0m\n"
     ]
    },
    {
     "name": "stderr",
     "output_type": "stream",
     "text": [
      "\u001b[92mINFO \u001b[0m:      aggregate_fit: received 3 results and 0 failures\n",
      "\u001b[92mINFO \u001b[0m:      aggregate_fit: parameters are clipped by value: 0.1000.\n",
      "\u001b[92mINFO \u001b[0m:      aggregate_fit: parameters are clipped by value: 0.1000.\n",
      "\u001b[92mINFO \u001b[0m:      aggregate_fit: parameters are clipped by value: 0.1000.\n",
      "\u001b[92mINFO \u001b[0m:      aggregate_fit: central DP noise with 0.0000 stdev added\n",
      "/home/emeka/.local/share/uv/python/cpython-3.12.10-linux-x86_64-gnu/lib/python3.12/multiprocessing/popen_fork.py:66: DeprecationWarning: This process (pid=170505) is multi-threaded, use of fork() may lead to deadlocks in the child.\n",
      "  self.pid = os.fork()\n",
      "\u001b[92mINFO \u001b[0m:      fit progress: (17, 1.6055204033851624, {'accuracy': 0.35859375}, 901.3003879010012)\n",
      "\u001b[92mINFO \u001b[0m:      configure_evaluate: strategy sampled 3 clients (out of 3)\n",
      "\u001b[36m(ClientAppActor pid=172747)\u001b[0m /home/emeka/.local/share/uv/python/cpython-3.12.10-linux-x86_64-gnu/lib/python3.12/multiprocessing/popen_fork.py:66: DeprecationWarning: This process (pid=172747) is multi-threaded, use of fork() may lead to deadlocks in the child.\n",
      "\u001b[36m(ClientAppActor pid=172747)\u001b[0m   self.pid = os.fork()\n",
      "\u001b[33m(raylet)\u001b[0m [2025-05-04 18:05:28,420 E 170843 170883] (raylet) file_system_monitor.cc:111: /home/emeka/PrivacyBench/logs/ray/session_2025-05-04_17-50-15_535960_170505 is over 95% full, available space: 842948608; capacity: 52589998080. Object creation will fail if spilling is required.\n",
      "\u001b[92mINFO \u001b[0m:      aggregate_evaluate: received 3 results and 0 failures\n",
      "\u001b[92mINFO \u001b[0m:      \n",
      "\u001b[92mINFO \u001b[0m:      [ROUND 18]\n",
      "\u001b[92mINFO \u001b[0m:      configure_fit: strategy sampled 3 clients (out of 3)\n",
      "\u001b[36m(ClientAppActor pid=172747)\u001b[0m Seed set to 42\n",
      "\u001b[36m(ClientAppActor pid=172748)\u001b[0m /home/emeka/.local/share/uv/python/cpython-3.12.10-linux-x86_64-gnu/lib/python3.12/multiprocessing/popen_fork.py:66: DeprecationWarning: This process (pid=172748) is multi-threaded, use of fork() may lead to deadlocks in the child.\u001b[32m [repeated 3x across cluster]\u001b[0m\n",
      "\u001b[36m(ClientAppActor pid=172748)\u001b[0m   self.pid = os.fork()\u001b[32m [repeated 3x across cluster]\u001b[0m\n",
      "\u001b[33m(raylet)\u001b[0m [2025-05-04 18:05:38,430 E 170843 170883] (raylet) file_system_monitor.cc:111: /home/emeka/PrivacyBench/logs/ray/session_2025-05-04_17-50-15_535960_170505 is over 95% full, available space: 842940416; capacity: 52589998080. Object creation will fail if spilling is required.\n",
      "\u001b[36m(ClientAppActor pid=172748)\u001b[0m Seed set to 42\n",
      "\u001b[33m(raylet)\u001b[0m [2025-05-04 18:05:48,441 E 170843 170883] (raylet) file_system_monitor.cc:111: /home/emeka/PrivacyBench/logs/ray/session_2025-05-04_17-50-15_535960_170505 is over 95% full, available space: 842940416; capacity: 52589998080. Object creation will fail if spilling is required.\n"
     ]
    },
    {
     "name": "stdout",
     "output_type": "stream",
     "text": [
      "\u001b[36m(ClientAppActor pid=172748)\u001b[0m \n",
      "\u001b[36m(ClientAppActor pid=172748)\u001b[0m 🔎 Tracker: FL + CDP-SF (CNN)\n",
      "\u001b[36m(ClientAppActor pid=172748)\u001b[0m 📁 Logs saved to: /home/emeka/PrivacyBench/logs/emissions/FL_CDP-SF_CNN/client_emissions.csv\n",
      "\u001b[36m(ClientAppActor pid=172748)\u001b[0m ⏱️ Total training time: 0 minutes 22 seconds\n",
      "\u001b[36m(ClientAppActor pid=172747)\u001b[0m \n",
      "\u001b[36m(ClientAppActor pid=172747)\u001b[0m 🔎 Tracker: FL + CDP-SF (CNN)\n",
      "\u001b[36m(ClientAppActor pid=172747)\u001b[0m 📁 Logs saved to: /home/emeka/PrivacyBench/logs/emissions/FL_CDP-SF_CNN/client_emissions.csv\n",
      "\u001b[36m(ClientAppActor pid=172747)\u001b[0m ⏱️ Total training time: 0 minutes 22 seconds\n"
     ]
    },
    {
     "name": "stderr",
     "output_type": "stream",
     "text": [
      "\u001b[36m(ClientAppActor pid=172748)\u001b[0m Seed set to 42\n",
      "\u001b[36m(ClientAppActor pid=172748)\u001b[0m /home/emeka/.local/share/uv/python/cpython-3.12.10-linux-x86_64-gnu/lib/python3.12/multiprocessing/popen_fork.py:66: DeprecationWarning: This process (pid=172748) is multi-threaded, use of fork() may lead to deadlocks in the child.\n",
      "\u001b[36m(ClientAppActor pid=172748)\u001b[0m   self.pid = os.fork()\n",
      "\u001b[33m(raylet)\u001b[0m [2025-05-04 18:05:58,450 E 170843 170883] (raylet) file_system_monitor.cc:111: /home/emeka/PrivacyBench/logs/ray/session_2025-05-04_17-50-15_535960_170505 is over 95% full, available space: 842866688; capacity: 52589998080. Object creation will fail if spilling is required.\n",
      "\u001b[33m(raylet)\u001b[0m [2025-05-04 18:06:08,460 E 170843 170883] (raylet) file_system_monitor.cc:111: /home/emeka/PrivacyBench/logs/ray/session_2025-05-04_17-50-15_535960_170505 is over 95% full, available space: 842842112; capacity: 52589998080. Object creation will fail if spilling is required.\n",
      "\u001b[92mINFO \u001b[0m:      aggregate_fit: received 3 results and 0 failures\n",
      "\u001b[92mINFO \u001b[0m:      aggregate_fit: parameters are clipped by value: 0.1000.\n"
     ]
    },
    {
     "name": "stdout",
     "output_type": "stream",
     "text": [
      "\u001b[36m(ClientAppActor pid=172748)\u001b[0m \n",
      "\u001b[36m(ClientAppActor pid=172748)\u001b[0m 🔎 Tracker: FL + CDP-SF (CNN)\n",
      "\u001b[36m(ClientAppActor pid=172748)\u001b[0m 📁 Logs saved to: /home/emeka/PrivacyBench/logs/emissions/FL_CDP-SF_CNN/client_emissions.csv\n",
      "\u001b[36m(ClientAppActor pid=172748)\u001b[0m ⏱️ Total training time: 0 minutes 21 seconds\n"
     ]
    },
    {
     "name": "stderr",
     "output_type": "stream",
     "text": [
      "\u001b[92mINFO \u001b[0m:      aggregate_fit: parameters are clipped by value: 0.1000.\n",
      "\u001b[92mINFO \u001b[0m:      aggregate_fit: parameters are clipped by value: 0.1000.\n",
      "\u001b[92mINFO \u001b[0m:      aggregate_fit: central DP noise with 0.0000 stdev added\n",
      "/home/emeka/.local/share/uv/python/cpython-3.12.10-linux-x86_64-gnu/lib/python3.12/multiprocessing/popen_fork.py:66: DeprecationWarning: This process (pid=170505) is multi-threaded, use of fork() may lead to deadlocks in the child.\n",
      "  self.pid = os.fork()\n",
      "\u001b[33m(raylet)\u001b[0m [2025-05-04 18:06:18,469 E 170843 170883] (raylet) file_system_monitor.cc:111: /home/emeka/PrivacyBench/logs/ray/session_2025-05-04_17-50-15_535960_170505 is over 95% full, available space: 842792960; capacity: 52589998080. Object creation will fail if spilling is required.\n",
      "\u001b[92mINFO \u001b[0m:      fit progress: (18, 1.6017636120319367, {'accuracy': 0.35859375}, 954.2169167650009)\n",
      "\u001b[92mINFO \u001b[0m:      configure_evaluate: strategy sampled 3 clients (out of 3)\n",
      "\u001b[36m(ClientAppActor pid=172747)\u001b[0m /home/emeka/.local/share/uv/python/cpython-3.12.10-linux-x86_64-gnu/lib/python3.12/multiprocessing/popen_fork.py:66: DeprecationWarning: This process (pid=172747) is multi-threaded, use of fork() may lead to deadlocks in the child.\n",
      "\u001b[36m(ClientAppActor pid=172747)\u001b[0m   self.pid = os.fork()\n",
      "\u001b[92mINFO \u001b[0m:      aggregate_evaluate: received 3 results and 0 failures\n",
      "\u001b[92mINFO \u001b[0m:      \n",
      "\u001b[92mINFO \u001b[0m:      [ROUND 19]\n",
      "\u001b[92mINFO \u001b[0m:      configure_fit: strategy sampled 3 clients (out of 3)\n",
      "\u001b[36m(ClientAppActor pid=172747)\u001b[0m Seed set to 42\n",
      "\u001b[33m(raylet)\u001b[0m [2025-05-04 18:06:28,479 E 170843 170883] (raylet) file_system_monitor.cc:111: /home/emeka/PrivacyBench/logs/ray/session_2025-05-04_17-50-15_535960_170505 is over 95% full, available space: 842575872; capacity: 52589998080. Object creation will fail if spilling is required.\n",
      "\u001b[36m(ClientAppActor pid=172748)\u001b[0m /home/emeka/.local/share/uv/python/cpython-3.12.10-linux-x86_64-gnu/lib/python3.12/multiprocessing/popen_fork.py:66: DeprecationWarning: This process (pid=172748) is multi-threaded, use of fork() may lead to deadlocks in the child.\u001b[32m [repeated 3x across cluster]\u001b[0m\n",
      "\u001b[36m(ClientAppActor pid=172748)\u001b[0m   self.pid = os.fork()\u001b[32m [repeated 3x across cluster]\u001b[0m\n",
      "\u001b[36m(ClientAppActor pid=172748)\u001b[0m Seed set to 42\n",
      "\u001b[33m(raylet)\u001b[0m [2025-05-04 18:06:38,489 E 170843 170883] (raylet) file_system_monitor.cc:111: /home/emeka/PrivacyBench/logs/ray/session_2025-05-04_17-50-15_535960_170505 is over 95% full, available space: 842567680; capacity: 52589998080. Object creation will fail if spilling is required.\n"
     ]
    },
    {
     "name": "stdout",
     "output_type": "stream",
     "text": [
      "\u001b[36m(ClientAppActor pid=172748)\u001b[0m \n",
      "\u001b[36m(ClientAppActor pid=172748)\u001b[0m 🔎 Tracker: FL + CDP-SF (CNN)\n",
      "\u001b[36m(ClientAppActor pid=172748)\u001b[0m 📁 Logs saved to: /home/emeka/PrivacyBench/logs/emissions/FL_CDP-SF_CNN/client_emissions.csv\n",
      "\u001b[36m(ClientAppActor pid=172748)\u001b[0m ⏱️ Total training time: 0 minutes 22 seconds\n",
      "\u001b[36m(ClientAppActor pid=172747)\u001b[0m \n"
     ]
    },
    {
     "name": "stderr",
     "output_type": "stream",
     "text": [
      "\u001b[36m(ClientAppActor pid=172748)\u001b[0m Seed set to 42\n",
      "\u001b[36m(ClientAppActor pid=172748)\u001b[0m /home/emeka/.local/share/uv/python/cpython-3.12.10-linux-x86_64-gnu/lib/python3.12/multiprocessing/popen_fork.py:66: DeprecationWarning: This process (pid=172748) is multi-threaded, use of fork() may lead to deadlocks in the child.\n",
      "\u001b[36m(ClientAppActor pid=172748)\u001b[0m   self.pid = os.fork()\n",
      "\u001b[33m(raylet)\u001b[0m [2025-05-04 18:06:48,499 E 170843 170883] (raylet) file_system_monitor.cc:111: /home/emeka/PrivacyBench/logs/ray/session_2025-05-04_17-50-15_535960_170505 is over 95% full, available space: 842584064; capacity: 52589998080. Object creation will fail if spilling is required.\n",
      "\u001b[33m(raylet)\u001b[0m [2025-05-04 18:06:58,508 E 170843 170883] (raylet) file_system_monitor.cc:111: /home/emeka/PrivacyBench/logs/ray/session_2025-05-04_17-50-15_535960_170505 is over 95% full, available space: 842592256; capacity: 52589998080. Object creation will fail if spilling is required.\n",
      "\u001b[92mINFO \u001b[0m:      aggregate_fit: received 3 results and 0 failures\n",
      "\u001b[92mINFO \u001b[0m:      aggregate_fit: parameters are clipped by value: 0.1000.\n"
     ]
    },
    {
     "name": "stdout",
     "output_type": "stream",
     "text": [
      "\u001b[36m(ClientAppActor pid=172748)\u001b[0m \n",
      "\u001b[36m(ClientAppActor pid=172748)\u001b[0m 🔎 Tracker: FL + CDP-SF (CNN)\u001b[32m [repeated 2x across cluster]\u001b[0m\n",
      "\u001b[36m(ClientAppActor pid=172748)\u001b[0m 📁 Logs saved to: /home/emeka/PrivacyBench/logs/emissions/FL_CDP-SF_CNN/client_emissions.csv\u001b[32m [repeated 2x across cluster]\u001b[0m\n",
      "\u001b[36m(ClientAppActor pid=172748)\u001b[0m ⏱️ Total training time: 0 minutes 22 seconds\u001b[32m [repeated 2x across cluster]\u001b[0m\n"
     ]
    },
    {
     "name": "stderr",
     "output_type": "stream",
     "text": [
      "\u001b[92mINFO \u001b[0m:      aggregate_fit: parameters are clipped by value: 0.1000.\n",
      "\u001b[92mINFO \u001b[0m:      aggregate_fit: parameters are clipped by value: 0.1000.\n",
      "\u001b[33m(raylet)\u001b[0m [2025-05-04 18:07:08,518 E 170843 170883] (raylet) file_system_monitor.cc:111: /home/emeka/PrivacyBench/logs/ray/session_2025-05-04_17-50-15_535960_170505 is over 95% full, available space: 842539008; capacity: 52589998080. Object creation will fail if spilling is required.\n",
      "\u001b[92mINFO \u001b[0m:      aggregate_fit: central DP noise with 0.0000 stdev added\n",
      "/home/emeka/.local/share/uv/python/cpython-3.12.10-linux-x86_64-gnu/lib/python3.12/multiprocessing/popen_fork.py:66: DeprecationWarning: This process (pid=170505) is multi-threaded, use of fork() may lead to deadlocks in the child.\n",
      "  self.pid = os.fork()\n",
      "\u001b[92mINFO \u001b[0m:      fit progress: (19, 1.5961930811405183, {'accuracy': 0.35859375}, 1006.8537458850005)\n",
      "\u001b[92mINFO \u001b[0m:      configure_evaluate: strategy sampled 3 clients (out of 3)\n",
      "\u001b[36m(ClientAppActor pid=172748)\u001b[0m /home/emeka/.local/share/uv/python/cpython-3.12.10-linux-x86_64-gnu/lib/python3.12/multiprocessing/popen_fork.py:66: DeprecationWarning: This process (pid=172748) is multi-threaded, use of fork() may lead to deadlocks in the child.\n",
      "\u001b[36m(ClientAppActor pid=172748)\u001b[0m   self.pid = os.fork()\n",
      "\u001b[92mINFO \u001b[0m:      aggregate_evaluate: received 3 results and 0 failures\n",
      "\u001b[92mINFO \u001b[0m:      \n",
      "\u001b[92mINFO \u001b[0m:      [ROUND 20]\n",
      "\u001b[92mINFO \u001b[0m:      configure_fit: strategy sampled 3 clients (out of 3)\n",
      "\u001b[36m(ClientAppActor pid=172747)\u001b[0m Seed set to 42\n",
      "\u001b[33m(raylet)\u001b[0m [2025-05-04 18:07:18,527 E 170843 170883] (raylet) file_system_monitor.cc:111: /home/emeka/PrivacyBench/logs/ray/session_2025-05-04_17-50-15_535960_170505 is over 95% full, available space: 842420224; capacity: 52589998080. Object creation will fail if spilling is required.\n",
      "\u001b[36m(ClientAppActor pid=172748)\u001b[0m /home/emeka/.local/share/uv/python/cpython-3.12.10-linux-x86_64-gnu/lib/python3.12/multiprocessing/popen_fork.py:66: DeprecationWarning: This process (pid=172748) is multi-threaded, use of fork() may lead to deadlocks in the child.\u001b[32m [repeated 3x across cluster]\u001b[0m\n",
      "\u001b[36m(ClientAppActor pid=172748)\u001b[0m   self.pid = os.fork()\u001b[32m [repeated 3x across cluster]\u001b[0m\n",
      "\u001b[36m(ClientAppActor pid=172748)\u001b[0m Seed set to 42\n",
      "\u001b[33m(raylet)\u001b[0m [2025-05-04 18:07:28,537 E 170843 170883] (raylet) file_system_monitor.cc:111: /home/emeka/PrivacyBench/logs/ray/session_2025-05-04_17-50-15_535960_170505 is over 95% full, available space: 842182656; capacity: 52589998080. Object creation will fail if spilling is required.\n"
     ]
    },
    {
     "name": "stdout",
     "output_type": "stream",
     "text": [
      "\u001b[36m(ClientAppActor pid=172747)\u001b[0m \n",
      "\u001b[36m(ClientAppActor pid=172747)\u001b[0m 🔎 Tracker: FL + CDP-SF (CNN)\n",
      "\u001b[36m(ClientAppActor pid=172747)\u001b[0m 📁 Logs saved to: /home/emeka/PrivacyBench/logs/emissions/FL_CDP-SF_CNN/client_emissions.csv\n",
      "\u001b[36m(ClientAppActor pid=172747)\u001b[0m ⏱️ Total training time: 0 minutes 22 seconds\n",
      "\u001b[36m(ClientAppActor pid=172748)\u001b[0m \n",
      "\u001b[36m(ClientAppActor pid=172748)\u001b[0m 🔎 Tracker: FL + CDP-SF (CNN)\n",
      "\u001b[36m(ClientAppActor pid=172748)\u001b[0m 📁 Logs saved to: /home/emeka/PrivacyBench/logs/emissions/FL_CDP-SF_CNN/client_emissions.csv\n",
      "\u001b[36m(ClientAppActor pid=172748)\u001b[0m ⏱️ Total training time: 0 minutes 23 seconds\n"
     ]
    },
    {
     "name": "stderr",
     "output_type": "stream",
     "text": [
      "\u001b[33m(raylet)\u001b[0m [2025-05-04 18:07:38,548 E 170843 170883] (raylet) file_system_monitor.cc:111: /home/emeka/PrivacyBench/logs/ray/session_2025-05-04_17-50-15_535960_170505 is over 95% full, available space: 842182656; capacity: 52589998080. Object creation will fail if spilling is required.\n",
      "\u001b[36m(ClientAppActor pid=172747)\u001b[0m Seed set to 42\n",
      "\u001b[36m(ClientAppActor pid=172747)\u001b[0m /home/emeka/.local/share/uv/python/cpython-3.12.10-linux-x86_64-gnu/lib/python3.12/multiprocessing/popen_fork.py:66: DeprecationWarning: This process (pid=172747) is multi-threaded, use of fork() may lead to deadlocks in the child.\n",
      "\u001b[36m(ClientAppActor pid=172747)\u001b[0m   self.pid = os.fork()\n",
      "\u001b[33m(raylet)\u001b[0m [2025-05-04 18:07:48,559 E 170843 170883] (raylet) file_system_monitor.cc:111: /home/emeka/PrivacyBench/logs/ray/session_2025-05-04_17-50-15_535960_170505 is over 95% full, available space: 842108928; capacity: 52589998080. Object creation will fail if spilling is required.\n",
      "\u001b[33m(raylet)\u001b[0m [2025-05-04 18:07:58,568 E 170843 170883] (raylet) file_system_monitor.cc:111: /home/emeka/PrivacyBench/logs/ray/session_2025-05-04_17-50-15_535960_170505 is over 95% full, available space: 842100736; capacity: 52589998080. Object creation will fail if spilling is required.\n",
      "\u001b[92mINFO \u001b[0m:      aggregate_fit: received 3 results and 0 failures\n",
      "\u001b[92mINFO \u001b[0m:      aggregate_fit: parameters are clipped by value: 0.1000.\n"
     ]
    },
    {
     "name": "stdout",
     "output_type": "stream",
     "text": [
      "\u001b[36m(ClientAppActor pid=172747)\u001b[0m \n",
      "\u001b[36m(ClientAppActor pid=172747)\u001b[0m 🔎 Tracker: FL + CDP-SF (CNN)\n",
      "\u001b[36m(ClientAppActor pid=172747)\u001b[0m 📁 Logs saved to: /home/emeka/PrivacyBench/logs/emissions/FL_CDP-SF_CNN/client_emissions.csv\n",
      "\u001b[36m(ClientAppActor pid=172747)\u001b[0m ⏱️ Total training time: 0 minutes 21 seconds\n"
     ]
    },
    {
     "name": "stderr",
     "output_type": "stream",
     "text": [
      "\u001b[92mINFO \u001b[0m:      aggregate_fit: parameters are clipped by value: 0.1000.\n",
      "\u001b[92mINFO \u001b[0m:      aggregate_fit: parameters are clipped by value: 0.1000.\n",
      "\u001b[92mINFO \u001b[0m:      aggregate_fit: central DP noise with 0.0000 stdev added\n",
      "/home/emeka/.local/share/uv/python/cpython-3.12.10-linux-x86_64-gnu/lib/python3.12/multiprocessing/popen_fork.py:66: DeprecationWarning: This process (pid=170505) is multi-threaded, use of fork() may lead to deadlocks in the child.\n",
      "  self.pid = os.fork()\n"
     ]
    },
    {
     "name": "stdout",
     "output_type": "stream",
     "text": [
      "\n",
      " ___________________________________________________________________________________________________\n",
      "ExperimentName.FL_CDP_SF_CNN Model Final Evaluation \n",
      "\n",
      "Test Accuracy: 35.86% | Precision: 0.13 | Recall: 0.36 | F1-Score: 0.19 | ROC-AUC: 0.45 | MCC: 0.00\n",
      " \n"
     ]
    },
    {
     "data": {
      "image/png": "[encoded data removed]",
      "text/plain": [
       "<Figure size 1500x600 with 2 Axes>"
      ]
     },
     "metadata": {},
     "output_type": "display_data"
    },
    {
     "name": "stdout",
     "output_type": "stream",
     "text": [
      "\n",
      " ___________________________________________________________________________________________________\n",
      "ExperimentName.FL_CDP_SF_CNN Model Classification Report\n",
      "              precision    recall  f1-score   support\n",
      "\n",
      "           0       0.00      0.00      0.00       172\n",
      "           1       0.00      0.00      0.00        15\n",
      "           2       0.00      0.00      0.00       634\n",
      "           3       0.36      1.00      0.53       459\n",
      "\n",
      "    accuracy                           0.36      1280\n",
      "   macro avg       0.09      0.25      0.13      1280\n",
      "weighted avg       0.13      0.36      0.19      1280\n",
      "\n",
      "___________________________________________________________________________________________________\n",
      "\n",
      "📊 Consolidated Metrics:\n",
      "⏱️ Total Duration: 1393.19 sec\n",
      "✅ Total Energy: 0.05637 kWh\n",
      "🌍 Total CO₂ Emitted: 0.02424 kg\n",
      "🧠 Peak CPU RAM: 0.00 GB\n",
      "🖥️ Peak GPU VRAM: 0.97 GB\n",
      "\n",
      " ___________________________________________________________________________________________________\n"
     ]
    },
    {
     "name": "stderr",
     "output_type": "stream",
     "text": [
      "/home/emeka/PrivacyBench/.venv/lib/python3.12/site-packages/sklearn/metrics/_classification.py:1565: UndefinedMetricWarning: Precision is ill-defined and being set to 0.0 in labels with no predicted samples. Use `zero_division` parameter to control this behavior.\n",
      "  _warn_prf(average, modifier, f\"{metric.capitalize()} is\", len(result))\n",
      "/home/emeka/PrivacyBench/.venv/lib/python3.12/site-packages/sklearn/metrics/_classification.py:1565: UndefinedMetricWarning: Precision is ill-defined and being set to 0.0 in labels with no predicted samples. Use `zero_division` parameter to control this behavior.\n",
      "  _warn_prf(average, modifier, f\"{metric.capitalize()} is\", len(result))\n",
      "/home/emeka/PrivacyBench/.venv/lib/python3.12/site-packages/sklearn/metrics/_classification.py:1565: UndefinedMetricWarning: Precision is ill-defined and being set to 0.0 in labels with no predicted samples. Use `zero_division` parameter to control this behavior.\n",
      "  _warn_prf(average, modifier, f\"{metric.capitalize()} is\", len(result))\n",
      "/home/emeka/PrivacyBench/.venv/lib/python3.12/site-packages/codecarbon/output_methods/file.py:52: FutureWarning: The behavior of DataFrame concatenation with empty or all-NA entries is deprecated. In a future version, this will no longer exclude empty or all-NA columns when determining the result dtypes. To retain the old behavior, exclude the relevant entries before the concat operation.\n",
      "  df = pd.concat([df, pd.DataFrame.from_records([dict(total.values)])])\n",
      "\u001b[92mINFO \u001b[0m:      fit progress: (20, 1.5914288759231567, {'accuracy': 0.35859375}, 1062.3762742939998)\n",
      "\u001b[92mINFO \u001b[0m:      configure_evaluate: strategy sampled 3 clients (out of 3)\n",
      "\u001b[33m(raylet)\u001b[0m [2025-05-04 18:08:08,577 E 170843 170883] (raylet) file_system_monitor.cc:111: /home/emeka/PrivacyBench/logs/ray/session_2025-05-04_17-50-15_535960_170505 is over 95% full, available space: 842092544; capacity: 52589998080. Object creation will fail if spilling is required.\n",
      "\u001b[36m(ClientAppActor pid=172747)\u001b[0m /home/emeka/.local/share/uv/python/cpython-3.12.10-linux-x86_64-gnu/lib/python3.12/multiprocessing/popen_fork.py:66: DeprecationWarning: This process (pid=172747) is multi-threaded, use of fork() may lead to deadlocks in the child.\n",
      "\u001b[36m(ClientAppActor pid=172747)\u001b[0m   self.pid = os.fork()\n",
      "\u001b[92mINFO \u001b[0m:      aggregate_evaluate: received 3 results and 0 failures\n",
      "\u001b[92mINFO \u001b[0m:      \n",
      "\u001b[92mINFO \u001b[0m:      [SUMMARY]\n",
      "\u001b[92mINFO \u001b[0m:      Run finished 20 round(s) in 1064.73s\n",
      "\u001b[92mINFO \u001b[0m:      \tHistory (loss, distributed):\n",
      "\u001b[92mINFO \u001b[0m:      \t\tround 1: nan\n",
      "\u001b[92mINFO \u001b[0m:      \t\tround 2: nan\n",
      "\u001b[92mINFO \u001b[0m:      \t\tround 3: 1.7787964344024658\n",
      "\u001b[92mINFO \u001b[0m:      \t\tround 4: 1.7693026595645478\n",
      "\u001b[92mINFO \u001b[0m:      \t\tround 5: nan\n",
      "\u001b[92mINFO \u001b[0m:      \t\tround 6: nan\n",
      "\u001b[92mINFO \u001b[0m:      \t\tround 7: nan\n",
      "\u001b[92mINFO \u001b[0m:      \t\tround 8: nan\n",
      "\u001b[92mINFO \u001b[0m:      \t\tround 9: nan\n",
      "\u001b[92mINFO \u001b[0m:      \t\tround 10: nan\n",
      "\u001b[92mINFO \u001b[0m:      \t\tround 11: 1.69121519724528\n",
      "\u001b[92mINFO \u001b[0m:      \t\tround 12: 1.683580610487196\n",
      "\u001b[92mINFO \u001b[0m:      \t\tround 13: 1.6726298067304823\n",
      "\u001b[92mINFO \u001b[0m:      \t\tround 14: 1.66443665822347\n",
      "\u001b[92mINFO \u001b[0m:      \t\tround 15: 1.6586190991931489\n",
      "\u001b[92mINFO \u001b[0m:      \t\tround 16: 1.6494465536541407\n",
      "\u001b[92mINFO \u001b[0m:      \t\tround 17: 1.645360377099779\n",
      "\u001b[92mINFO \u001b[0m:      \t\tround 18: 1.6385801500744288\n",
      "\u001b[92mINFO \u001b[0m:      \t\tround 19: 1.631824837790595\n",
      "\u001b[92mINFO \u001b[0m:      \t\tround 20: 1.6282460689544678\n",
      "\u001b[92mINFO \u001b[0m:      \tHistory (loss, centralized):\n",
      "\u001b[92mINFO \u001b[0m:      \t\tround 0: 1.7697360694408417\n",
      "\u001b[92mINFO \u001b[0m:      \t\tround 1: nan\n",
      "\u001b[92mINFO \u001b[0m:      \t\tround 2: nan\n",
      "\u001b[92mINFO \u001b[0m:      \t\tround 3: 1.7331762850284576\n",
      "\u001b[92mINFO \u001b[0m:      \t\tround 4: 1.7211742281913758\n",
      "\u001b[92mINFO \u001b[0m:      \t\tround 5: nan\n",
      "\u001b[92mINFO \u001b[0m:      \t\tround 6: nan\n",
      "\u001b[92mINFO \u001b[0m:      \t\tround 7: nan\n",
      "\u001b[92mINFO \u001b[0m:      \t\tround 8: nan\n",
      "\u001b[92mINFO \u001b[0m:      \t\tround 9: nan\n",
      "\u001b[92mINFO \u001b[0m:      \t\tround 10: nan\n",
      "\u001b[92mINFO \u001b[0m:      \t\tround 11: 1.650798535346985\n",
      "\u001b[92mINFO \u001b[0m:      \t\tround 12: 1.647695744037628\n",
      "\u001b[92mINFO \u001b[0m:      \t\tround 13: 1.632121455669403\n",
      "\u001b[92mINFO \u001b[0m:      \t\tround 14: 1.6290685772895812\n",
      "\u001b[92mINFO \u001b[0m:      \t\tround 15: 1.6242662608623504\n",
      "\u001b[92mINFO \u001b[0m:      \t\tround 16: 1.6147755444049836\n",
      "\u001b[92mINFO \u001b[0m:      \t\tround 17: 1.6055204033851624\n",
      "\u001b[92mINFO \u001b[0m:      \t\tround 18: 1.6017636120319367\n",
      "\u001b[92mINFO \u001b[0m:      \t\tround 19: 1.5961930811405183\n",
      "\u001b[92mINFO \u001b[0m:      \t\tround 20: 1.5914288759231567\n",
      "\u001b[92mINFO \u001b[0m:      \tHistory (metrics, distributed, evaluate):\n",
      "\u001b[92mINFO \u001b[0m:      \t{'accuracy': [(1, 0.1411192214111922),\n",
      "\u001b[92mINFO \u001b[0m:      \t              (2, 0.1411192214111922),\n",
      "\u001b[92mINFO \u001b[0m:      \t              (3, 0.35766423357664234),\n",
      "\u001b[92mINFO \u001b[0m:      \t              (4, 0.35766423357664234),\n",
      "\u001b[92mINFO \u001b[0m:      \t              (5, 0.1411192214111922),\n",
      "\u001b[92mINFO \u001b[0m:      \t              (6, 0.1411192214111922),\n",
      "\u001b[92mINFO \u001b[0m:      \t              (7, 0.1411192214111922),\n",
      "\u001b[92mINFO \u001b[0m:      \t              (8, 0.1411192214111922),\n",
      "\u001b[92mINFO \u001b[0m:      \t              (9, 0.1411192214111922),\n",
      "\u001b[92mINFO \u001b[0m:      \t              (10, 0.1411192214111922),\n",
      "\u001b[92mINFO \u001b[0m:      \t              (11, 0.35766423357664234),\n",
      "\u001b[92mINFO \u001b[0m:      \t              (12, 0.35766423357664234),\n",
      "\u001b[92mINFO \u001b[0m:      \t              (13, 0.35766423357664234),\n",
      "\u001b[92mINFO \u001b[0m:      \t              (14, 0.35766423357664234),\n",
      "\u001b[92mINFO \u001b[0m:      \t              (15, 0.35766423357664234),\n",
      "\u001b[92mINFO \u001b[0m:      \t              (16, 0.35766423357664234),\n",
      "\u001b[92mINFO \u001b[0m:      \t              (17, 0.35766423357664234),\n",
      "\u001b[92mINFO \u001b[0m:      \t              (18, 0.35766423357664234),\n",
      "\u001b[92mINFO \u001b[0m:      \t              (19, 0.35766423357664234),\n",
      "\u001b[92mINFO \u001b[0m:      \t              (20, 0.35766423357664234)]}\n",
      "\u001b[92mINFO \u001b[0m:      \tHistory (metrics, centralized):\n",
      "\u001b[92mINFO \u001b[0m:      \t{'accuracy': [(0, 0.35859375),\n",
      "\u001b[92mINFO \u001b[0m:      \t              (1, 0.134375),\n",
      "\u001b[92mINFO \u001b[0m:      \t              (2, 0.134375),\n",
      "\u001b[92mINFO \u001b[0m:      \t              (3, 0.35859375),\n",
      "\u001b[92mINFO \u001b[0m:      \t              (4, 0.35859375),\n",
      "\u001b[92mINFO \u001b[0m:      \t              (5, 0.134375),\n",
      "\u001b[92mINFO \u001b[0m:      \t              (6, 0.134375),\n",
      "\u001b[92mINFO \u001b[0m:      \t              (7, 0.134375),\n",
      "\u001b[92mINFO \u001b[0m:      \t              (8, 0.134375),\n",
      "\u001b[92mINFO \u001b[0m:      \t              (9, 0.134375),\n",
      "\u001b[92mINFO \u001b[0m:      \t              (10, 0.134375),\n",
      "\u001b[92mINFO \u001b[0m:      \t              (11, 0.35859375),\n",
      "\u001b[92mINFO \u001b[0m:      \t              (12, 0.35859375),\n",
      "\u001b[92mINFO \u001b[0m:      \t              (13, 0.35859375),\n",
      "\u001b[92mINFO \u001b[0m:      \t              (14, 0.35859375),\n",
      "\u001b[92mINFO \u001b[0m:      \t              (15, 0.35859375),\n",
      "\u001b[92mINFO \u001b[0m:      \t              (16, 0.35859375),\n",
      "\u001b[92mINFO \u001b[0m:      \t              (17, 0.35859375),\n",
      "\u001b[92mINFO \u001b[0m:      \t              (18, 0.35859375),\n",
      "\u001b[92mINFO \u001b[0m:      \t              (19, 0.35859375),\n",
      "\u001b[92mINFO \u001b[0m:      \t              (20, 0.35859375)]}\n",
      "\u001b[92mINFO \u001b[0m:      \n",
      "\u001b[36m(ClientAppActor pid=172748)\u001b[0m /home/emeka/.local/share/uv/python/cpython-3.12.10-linux-x86_64-gnu/lib/python3.12/multiprocessing/popen_fork.py:66: DeprecationWarning: This process (pid=172748) is multi-threaded, use of fork() may lead to deadlocks in the child.\n",
      "\u001b[36m(ClientAppActor pid=172748)\u001b[0m   self.pid = os.fork()\n"
     ]
    },
    {
     "name": "stdout",
     "output_type": "stream",
     "text": [
      "\n",
      "🕒 Total Time: 17 min 53 sec\n"
     ]
    }
   ],
   "source": [
    "project_root =  os.path.abspath(\"../../\")\n",
    "\n",
    "ray.shutdown()\n",
    "\n",
    "ray.init(\n",
    "    _temp_dir=str(RAY_LOG_DIR),\n",
    "    runtime_env={\n",
    "        \"env_vars\": {\n",
    "            \"PYTHONWARNINGS\": \"ignore::DeprecationWarning\",  # More specific warning filter\n",
    "            \"OMP_NUM_THREADS\": \"1\"  # Prevents thread oversubscription\n",
    "        },\n",
    "        \"working_dir\": project_root,\n",
    "        'excludes': ['data', '.cache', '.docker', '.local', 'logs/model']\n",
    "    },\n",
    "    ignore_reinit_error=True\n",
    ")\n",
    "\n",
    "start_time = time.perf_counter()\n",
    "\n",
    "run_simulation(\n",
    "    server_app = server,\n",
    "    client_app = client,\n",
    "    num_supernodes = fed_config.get(\"num_clients\"),\n",
    "    backend_config=backend_setup\n",
    ")\n",
    "\n",
    "\n",
    "end_time = time.perf_counter()\n",
    "duration = end_time - start_time\n",
    "print(f\"\\n🕒 Total Time: {duration // 60:.0f} min {duration % 60:.0f} sec\")\n",
    "\n",
    "ray.shutdown()"
   ]
  },
  {
   "cell_type": "code",
   "execution_count": null,
   "id": "d6b6c80e",
   "metadata": {},
   "outputs": [],
   "source": []
  },
  {
   "cell_type": "code",
   "execution_count": null,
   "id": "e88367d9",
   "metadata": {},
   "outputs": [],
   "source": []
  }
 ],
 "metadata": {
  "kernelspec": {
   "display_name": ".venv",
   "language": "python",
   "name": "python3"
  },
  "language_info": {
   "codemirror_mode": {
    "name": "ipython",
    "version": 3
   },
   "file_extension": ".py",
   "mimetype": "text/x-python",
   "name": "python",
   "nbconvert_exporter": "python",
   "pygments_lexer": "ipython3",
   "version": "3.12.10"
  }
 },
 "nbformat": 4,
 "nbformat_minor": 5
}
