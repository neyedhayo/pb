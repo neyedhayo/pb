{
 "cells": [
  {
   "cell_type": "markdown",
   "id": "fe47a415",
   "metadata": {},
   "source": [
    "# Central Differential Privacy (Server-Side Clipping)\n",
    "\n"
   ]
  },
  {
   "cell_type": "markdown",
   "id": "5f5afa22",
   "metadata": {},
   "source": [
    "\n",
    "\n",
    "**Central Differential Privacy (DP) with Server-Side Clipping** applies two steps:\n",
    "\n",
    "1. **Clip client updates**\n",
    "2. **Add noise to the aggregated model**\n",
    "\n",
    "This approach ensures uniform clipping across clients and reduces communication overhead, but increases server-side computation.\n",
    "\n",
    "For this, Flower provides DP wrappers around strategies like `FedAvg`. In our case, we use:\n",
    "\n",
    "### CNN: `DifferentialPrivacyServerSideAdaptiveClipping`\n",
    "\n",
    "This strategy **dynamically adjusts the clipping norm** during training based on the updates received. It helps balance privacy and utility more effectively than fixed clipping.\n",
    "\n",
    "> We focus our experiments on this adaptive clipping approach.\n",
    "\n",
    "---"
   ]
  },
  {
   "cell_type": "code",
   "execution_count": 1,
   "id": "842a42cb",
   "metadata": {},
   "outputs": [
    {
     "name": "stdout",
     "output_type": "stream",
     "text": [
      "Python implementation: CPython\n",
      "Python version       : 3.12.10\n",
      "IPython version      : 9.1.0\n",
      "\n",
      "torch: 2.6.0\n",
      "flwr : 1.18.0\n",
      "\n"
     ]
    }
   ],
   "source": [
    "%load_ext autoreload\n",
    "%load_ext watermark\n",
    "    \n",
    "%autoreload 2\n",
    "%watermark --python -p torch,flwr"
   ]
  },
  {
   "cell_type": "markdown",
   "id": "0a7949bd",
   "metadata": {},
   "source": [
    "--------\n",
    "\n",
    "## Loading Dependencies"
   ]
  },
  {
   "cell_type": "code",
   "execution_count": null,
   "id": "988b025e",
   "metadata": {},
   "outputs": [],
   "source": [
    "import os\n",
    "import sys\n",
    "sys.path.append(\"../..\")\n",
    "\n",
    "import ray\n",
    "import time\n",
    "\n",
    "import torch.nn as nn\n",
    "from torchvision.models import resnet18, ResNet18_Weights\n",
    "\n",
    "from logging import ERROR\n",
    "\n",
    "from flwr.common import ndarrays_to_parameters, Context \n",
    "from flwr.client import Client, ClientApp\n",
    "from flwr.server import ServerApp, ServerConfig, ServerAppComponents\n",
    "from flwr.server.strategy import DifferentialPrivacyServerSideAdaptiveClipping, FedAvg\n",
    "from flwr.simulation import run_simulation\n",
    "\n",
    "from src.config import ExperimentName\n",
    "from src.paths import RAY_LOG_DIR\n",
    "from src.FL_client import MedicalImageClient\n",
    "from src.FL_server import weighted_average, build_evaluate_fn\n",
    "from src.local_utility import load_yaml_config, set_device, prepare_FL_dataset, get_weights\n",
    "\n",
    "from src.tracker import reset_base_memory_csv"
   ]
  },
  {
   "cell_type": "code",
   "execution_count": null,
   "id": "21c87530",
   "metadata": {},
   "outputs": [],
   "source": [
    "# Replace with appropritate values\n",
    "\n",
    "data_name_ = 'alzheimer' #\"skin_lesions\" #\n",
    "base_type_ = \"CNN\"           \n",
    "exp_name_ = \"CDP-SA\"\n",
    "num_labels_ = 4\n",
    "experiment_name_ = ExperimentName.FL_CDP_SA_CNN"
   ]
  },
  {
   "cell_type": "code",
   "execution_count": null,
   "id": "043b5d9c",
   "metadata": {},
   "outputs": [],
   "source": [
    "DEVICE = set_device()\n",
    "reset_base_memory_csv() \n",
    "\n",
    "fed_config = load_yaml_config(key=\"experiments\", item_name=experiment_name_)\n",
    "client_dataloaders = prepare_FL_dataset(exp_name= exp_name_, data_name=data_name_, base_type=base_type_, augment_data=True)"
   ]
  },
  {
   "cell_type": "code",
   "execution_count": null,
   "id": "7057b4f3",
   "metadata": {},
   "outputs": [],
   "source": [
    "def client_fn(context: Context) -> Client:\n",
    "    \"\"\"\n",
    "    Creates and initializes a federated learning client.\n",
    "\n",
    "    This function initializes a client in the federated learning setup by \n",
    "    assigning a unique partitioned dataset and a machine learning model \n",
    "    for training and validation.\n",
    "\n",
    "    Args:\n",
    "        context (Context): The execution context containing client-specific configurations.\n",
    "\n",
    "    Returns:\n",
    "        Client: A configured federated learning client ready to participate in training.\n",
    "    \"\"\"\n",
    "    partition_id = int(context.node_config[\"partition-id\"]) #<--- Get the client partition ID\n",
    "    \n",
    "    model = resnet18(weights=ResNet18_Weights.IMAGENET1K_V1)\n",
    "    model.fc = nn.Linear(in_features=model.fc.in_features, out_features=num_labels_)\n",
    "\n",
    "    # Assign partitioned client dataset\n",
    "    train_loader, val_loader, test_loader = client_dataloaders[partition_id]\n",
    "    \n",
    "    return MedicalImageClient(model, train_loader, val_loader, exp_name=exp_name_, data_name = data_name_, base_type=base_type_, client_id=partition_id).to_client()\n",
    "\n",
    "client = ClientApp(client_fn)"
   ]
  },
  {
   "cell_type": "code",
   "execution_count": null,
   "id": "00cc3c61",
   "metadata": {},
   "outputs": [],
   "source": [
    "def server_fn(context: Context):\n",
    "    \"\"\"\n",
    "    Creates and configures the federated learning server using the FedAvg strategy.\n",
    "\n",
    "    This function initializes the federated learning server with a FedAvg strategy,\n",
    "    specifying the parameters for client participation in training and evaluation,\n",
    "    the global model evaluation function, and the metric aggregation function.\n",
    "\n",
    "    Args:\n",
    "        context (Context): The execution context for the federated learning server.\n",
    "\n",
    "    Returns:\n",
    "        ServerAppComponents: A configured server application with the defined strategy\n",
    "        and server settings.\n",
    "    \"\"\"\n",
    "    model = resnet18(weights=ResNet18_Weights.IMAGENET1K_V1)\n",
    "    model.fc = nn.Linear(in_features=model.fc.in_features, out_features=num_labels_)\n",
    "    params = ndarrays_to_parameters(get_weights(model))\n",
    "    \n",
    "    # Create FedAvg strategy\n",
    "    strategy = FedAvg(\n",
    "        fraction_fit=1.0,                 \n",
    "        fraction_evaluate=1.0,            \n",
    "        initial_parameters=params,        \n",
    "        evaluate_fn=build_evaluate_fn(    #<--- Global evaluation function\n",
    "            exp_name = exp_name_, \n",
    "            base_type = base_type_,\n",
    "            data_name=data_name_, \n",
    "            experiment_item=experiment_name_, \n",
    "            num_labels=num_labels_\n",
    "            ),        \n",
    "        evaluate_metrics_aggregation_fn=weighted_average\n",
    "    )\n",
    "    \n",
    "    # Wrap the strategy with the DifferentialPrivacyServerSideFixedClipping wrapper\n",
    "    dp_strategy = DifferentialPrivacyServerSideAdaptiveClipping(\n",
    "        strategy= strategy,\n",
    "        noise_multiplier = 0.1,\n",
    "        num_sampled_clients = fed_config.get(\"num_clients\"),\n",
    "        initial_clipping_norm = 0.1,\n",
    "        target_clipped_quantile= 0.1,\n",
    "        clip_norm_lr = 0.2,\n",
    "        clipped_count_stddev= fed_config.get(\"num_clients\")/20\n",
    "        )\n",
    "    \n",
    "    # Configure the server with the specified number of federated rounds\n",
    "    sever_config = ServerConfig(num_rounds=fed_config['num_rounds']) #<--- no. of federated rounds\n",
    "    \n",
    "    return ServerAppComponents(strategy = dp_strategy, config = sever_config)\n",
    "server = ServerApp(server_fn = server_fn) "
   ]
  },
  {
   "cell_type": "code",
   "execution_count": 9,
   "metadata": {},
   "outputs": [],
   "source": [
    "backend_setup = {\n",
    "    \"init_args\": {\n",
    "        \"logging_level\": ERROR, \n",
    "        \"log_to_driver\": fed_config.get(\"log_to_driver\")\n",
    "    },\n",
    "    \"client_resources\": {\n",
    "        \"num_cpus\": fed_config.get(\"num_cpus\"), \n",
    "        \"num_gpus\": fed_config.get(\"num_gpus\")            \n",
    "    },\n",
    "}\n",
    "\n",
    "# When running on GPU, assign an entire GPU for each client\n",
    "if DEVICE == \"cuda\": \n",
    "    backend_setup[\"client_resources\"] = {\"num_cpus\": 1, \"num_gpus\": 1.0}"
   ]
  },
  {
   "cell_type": "markdown",
   "id": "9d4a4c38",
   "metadata": {},
   "source": [
    "--- \n",
    "\n",
    "## Initiate the Simulation \n",
    "\n",
    "Initiate the simulation by passing the server and client apps, and specify the number of supernodes that will be selected on every round. "
   ]
  },
  {
   "cell_type": "code",
   "execution_count": null,
   "id": "ca2acbd3",
   "metadata": {},
   "outputs": [
    {
     "name": "stderr",
     "output_type": "stream",
     "text": [
      "2025-05-04 23:01:41,000\tINFO worker.py:1771 -- Started a local Ray instance.\n",
      "2025-05-04 23:01:41,338\tINFO packaging.py:530 -- Creating a file package for local directory '/home/emeka/PrivacyBench'.\n",
      "2025-05-04 23:01:41,779\tINFO packaging.py:358 -- Pushing file package 'gcs://_ray_pkg_d84ffdccdcff6f8c.zip' (16.85MiB) to Ray cluster...\n",
      "2025-05-04 23:01:41,829\tINFO packaging.py:371 -- Successfully pushed file package 'gcs://_ray_pkg_d84ffdccdcff6f8c.zip'.\n",
      "\u001b[92mINFO \u001b[0m:      Starting Flower ServerApp, config: num_rounds=20, no round_timeout\n",
      "\u001b[92mINFO \u001b[0m:      \n",
      "\u001b[92mINFO \u001b[0m:      [INIT]\n",
      "\u001b[92mINFO \u001b[0m:      Using initial global parameters provided by strategy\n",
      "\u001b[92mINFO \u001b[0m:      Starting evaluation of initial global parameters\n",
      "[codecarbon WARNING @ 23:01:43] Multiple instances of codecarbon are allowed to run at the same time.\n",
      "/home/emeka/.local/share/uv/python/cpython-3.12.10-linux-x86_64-gnu/lib/python3.12/multiprocessing/popen_fork.py:66: DeprecationWarning: This process (pid=43171) is multi-threaded, use of fork() may lead to deadlocks in the child.\n",
      "  self.pid = os.fork()\n",
      "/home/emeka/PrivacyBench/notebooks/../src/tracker.py:40: FutureWarning: The behavior of DataFrame concatenation with empty or all-NA entries is deprecated. In a future version, this will no longer exclude empty or all-NA columns when determining the result dtypes. To retain the old behavior, exclude the relevant entries before the concat operation.\n",
      "  df = pd.concat([df, pd.DataFrame([new_row])], ignore_index=True)\n",
      "\u001b[92mINFO \u001b[0m:      initial parameters (loss, other metrics): 1.3695836246013642, {'accuracy': 0.32265625}\n",
      "\u001b[92mINFO \u001b[0m:      \n",
      "\u001b[92mINFO \u001b[0m:      [ROUND 1]\n",
      "\u001b[92mINFO \u001b[0m:      configure_fit: strategy sampled 3 clients (out of 3)\n",
      "\u001b[33m(raylet)\u001b[0m [2025-05-04 23:01:50,904 E 47422 47458] (raylet) file_system_monitor.cc:111: /home/emeka/PrivacyBench/logs/ray/session_2025-05-04_23-01-38_915903_43171 is over 95% full, available space: 744370176; capacity: 52589998080. Object creation will fail if spilling is required.\n",
      "\u001b[36m(ClientAppActor pid=49325)\u001b[0m Seed set to 42\n",
      "\u001b[36m(ClientAppActor pid=49324)\u001b[0m [codecarbon WARNING @ 23:01:55] Multiple instances of codecarbon are allowed to run at the same time.\n",
      "\u001b[36m(ClientAppActor pid=49325)\u001b[0m /home/emeka/.local/share/uv/python/cpython-3.12.10-linux-x86_64-gnu/lib/python3.12/multiprocessing/popen_fork.py:66: DeprecationWarning: This process (pid=49325) is multi-threaded, use of fork() may lead to deadlocks in the child.\n",
      "\u001b[36m(ClientAppActor pid=49325)\u001b[0m   self.pid = os.fork()\n",
      "\u001b[33m(raylet)\u001b[0m [2025-05-04 23:02:00,913 E 47422 47458] (raylet) file_system_monitor.cc:111: /home/emeka/PrivacyBench/logs/ray/session_2025-05-04_23-01-38_915903_43171 is over 95% full, available space: 744226816; capacity: 52589998080. Object creation will fail if spilling is required.\n",
      "\u001b[36m(ClientAppActor pid=49324)\u001b[0m Seed set to 42\n",
      "\u001b[36m(ClientAppActor pid=49325)\u001b[0m [codecarbon WARNING @ 23:01:55] Multiple instances of codecarbon are allowed to run at the same time.\n",
      "\u001b[36m(ClientAppActor pid=49324)\u001b[0m /home/emeka/.local/share/uv/python/cpython-3.12.10-linux-x86_64-gnu/lib/python3.12/multiprocessing/popen_fork.py:66: DeprecationWarning: This process (pid=49324) is multi-threaded, use of fork() may lead to deadlocks in the child.\n",
      "\u001b[36m(ClientAppActor pid=49324)\u001b[0m   self.pid = os.fork()\n",
      "\u001b[33m(raylet)\u001b[0m [2025-05-04 23:02:10,923 E 47422 47458] (raylet) file_system_monitor.cc:111: /home/emeka/PrivacyBench/logs/ray/session_2025-05-04_23-01-38_915903_43171 is over 95% full, available space: 744169472; capacity: 52589998080. Object creation will fail if spilling is required.\n"
     ]
    },
    {
     "name": "stdout",
     "output_type": "stream",
     "text": [
      "\u001b[36m(ClientAppActor pid=49325)\u001b[0m \n",
      "\u001b[36m(ClientAppActor pid=49325)\u001b[0m 🔎 Tracker: FL + CDP-SF (CNN)\n",
      "\u001b[36m(ClientAppActor pid=49325)\u001b[0m 📁 Logs saved to: /home/emeka/PrivacyBench/logs/emissions/FL_CDP-SF_CNN/client_emissions.csv\n",
      "\u001b[36m(ClientAppActor pid=49325)\u001b[0m ⏱️ Total training time: 0 minutes 22 seconds\n",
      "\u001b[36m(ClientAppActor pid=49324)\u001b[0m \n"
     ]
    },
    {
     "name": "stderr",
     "output_type": "stream",
     "text": [
      "\u001b[36m(ClientAppActor pid=49325)\u001b[0m Seed set to 42\n",
      "\u001b[36m(ClientAppActor pid=49325)\u001b[0m /home/emeka/.local/share/uv/python/cpython-3.12.10-linux-x86_64-gnu/lib/python3.12/multiprocessing/popen_fork.py:66: DeprecationWarning: This process (pid=49325) is multi-threaded, use of fork() may lead to deadlocks in the child.\n",
      "\u001b[36m(ClientAppActor pid=49325)\u001b[0m   self.pid = os.fork()\n",
      "\u001b[33m(raylet)\u001b[0m [2025-05-04 23:02:20,933 E 47422 47458] (raylet) file_system_monitor.cc:111: /home/emeka/PrivacyBench/logs/ray/session_2025-05-04_23-01-38_915903_43171 is over 95% full, available space: 744161280; capacity: 52589998080. Object creation will fail if spilling is required.\n",
      "\u001b[33m(raylet)\u001b[0m [2025-05-04 23:02:30,943 E 47422 47458] (raylet) file_system_monitor.cc:111: /home/emeka/PrivacyBench/logs/ray/session_2025-05-04_23-01-38_915903_43171 is over 95% full, available space: 744165376; capacity: 52589998080. Object creation will fail if spilling is required.\n",
      "\u001b[92mINFO \u001b[0m:      aggregate_fit: received 3 results and 0 failures\n"
     ]
    },
    {
     "name": "stdout",
     "output_type": "stream",
     "text": [
      "\u001b[36m(ClientAppActor pid=49325)\u001b[0m \n",
      "\u001b[36m(ClientAppActor pid=49325)\u001b[0m 🔎 Tracker: FL + CDP-SF (CNN)\u001b[32m [repeated 2x across cluster] (Ray deduplicates logs by default. Set RAY_DEDUP_LOGS=0 to disable log deduplication, or see https://docs.ray.io/en/master/ray-observability/user-guides/configure-logging.html#log-deduplication for more options.)\u001b[0m\n",
      "\u001b[36m(ClientAppActor pid=49325)\u001b[0m 📁 Logs saved to: /home/emeka/PrivacyBench/logs/emissions/FL_CDP-SF_CNN/client_emissions.csv\u001b[32m [repeated 2x across cluster]\u001b[0m\n",
      "\u001b[36m(ClientAppActor pid=49325)\u001b[0m ⏱️ Total training time: 0 minutes 21 seconds\u001b[32m [repeated 2x across cluster]\u001b[0m\n"
     ]
    },
    {
     "name": "stderr",
     "output_type": "stream",
     "text": [
      "\u001b[92mINFO \u001b[0m:      aggregate_fit: parameters are clipped by value: 0.1000.\n",
      "\u001b[92mINFO \u001b[0m:      aggregate_fit: parameters are clipped by value: 0.1000.\n",
      "\u001b[92mINFO \u001b[0m:      aggregate_fit: parameters are clipped by value: 0.1000.\n",
      "\u001b[93mWARNING \u001b[0m:   No fit_metrics_aggregation_fn provided\n",
      "\u001b[92mINFO \u001b[0m:      aggregate_fit: central DP noise with 0.0030 stdev added\n",
      "\u001b[33m(raylet)\u001b[0m [2025-05-04 23:02:40,952 E 47422 47458] (raylet) file_system_monitor.cc:111: /home/emeka/PrivacyBench/logs/ray/session_2025-05-04_23-01-38_915903_43171 is over 95% full, available space: 744177664; capacity: 52589998080. Object creation will fail if spilling is required.\n",
      "/home/emeka/.local/share/uv/python/cpython-3.12.10-linux-x86_64-gnu/lib/python3.12/multiprocessing/popen_fork.py:66: DeprecationWarning: This process (pid=43171) is multi-threaded, use of fork() may lead to deadlocks in the child.\n",
      "  self.pid = os.fork()\n",
      "\u001b[92mINFO \u001b[0m:      fit progress: (1, nan, {'accuracy': 0.134375}, 55.97205589399982)\n",
      "\u001b[92mINFO \u001b[0m:      configure_evaluate: strategy sampled 3 clients (out of 3)\n",
      "\u001b[36m(ClientAppActor pid=49325)\u001b[0m /home/emeka/.local/share/uv/python/cpython-3.12.10-linux-x86_64-gnu/lib/python3.12/multiprocessing/popen_fork.py:66: DeprecationWarning: This process (pid=49325) is multi-threaded, use of fork() may lead to deadlocks in the child.\n",
      "\u001b[36m(ClientAppActor pid=49325)\u001b[0m   self.pid = os.fork()\n",
      "\u001b[92mINFO \u001b[0m:      aggregate_evaluate: received 3 results and 0 failures\n",
      "\u001b[92mINFO \u001b[0m:      \n",
      "\u001b[92mINFO \u001b[0m:      [ROUND 2]\n",
      "\u001b[92mINFO \u001b[0m:      configure_fit: strategy sampled 3 clients (out of 3)\n",
      "\u001b[36m(ClientAppActor pid=49325)\u001b[0m Seed set to 42\n",
      "\u001b[33m(raylet)\u001b[0m [2025-05-04 23:02:50,962 E 47422 47458] (raylet) file_system_monitor.cc:111: /home/emeka/PrivacyBench/logs/ray/session_2025-05-04_23-01-38_915903_43171 is over 95% full, available space: 744038400; capacity: 52589998080. Object creation will fail if spilling is required.\n",
      "\u001b[36m(ClientAppActor pid=49324)\u001b[0m /home/emeka/.local/share/uv/python/cpython-3.12.10-linux-x86_64-gnu/lib/python3.12/multiprocessing/popen_fork.py:66: DeprecationWarning: This process (pid=49324) is multi-threaded, use of fork() may lead to deadlocks in the child.\u001b[32m [repeated 3x across cluster]\u001b[0m\n",
      "\u001b[36m(ClientAppActor pid=49324)\u001b[0m   self.pid = os.fork()\u001b[32m [repeated 3x across cluster]\u001b[0m\n",
      "\u001b[36m(ClientAppActor pid=49324)\u001b[0m Seed set to 42\n",
      "\u001b[33m(raylet)\u001b[0m [2025-05-04 23:03:00,972 E 47422 47458] (raylet) file_system_monitor.cc:111: /home/emeka/PrivacyBench/logs/ray/session_2025-05-04_23-01-38_915903_43171 is over 95% full, available space: 744026112; capacity: 52589998080. Object creation will fail if spilling is required.\n"
     ]
    },
    {
     "name": "stdout",
     "output_type": "stream",
     "text": [
      "\u001b[36m(ClientAppActor pid=49324)\u001b[0m \n",
      "\u001b[36m(ClientAppActor pid=49324)\u001b[0m 🔎 Tracker: FL + CDP-SF (CNN)\n",
      "\u001b[36m(ClientAppActor pid=49324)\u001b[0m 📁 Logs saved to: /home/emeka/PrivacyBench/logs/emissions/FL_CDP-SF_CNN/client_emissions.csv\n",
      "\u001b[36m(ClientAppActor pid=49324)\u001b[0m ⏱️ Total training time: 0 minutes 21 seconds\n",
      "\u001b[36m(ClientAppActor pid=49325)\u001b[0m \n",
      "\u001b[36m(ClientAppActor pid=49325)\u001b[0m 🔎 Tracker: FL + CDP-SF (CNN)\n",
      "\u001b[36m(ClientAppActor pid=49325)\u001b[0m 📁 Logs saved to: /home/emeka/PrivacyBench/logs/emissions/FL_CDP-SF_CNN/client_emissions.csv\n",
      "\u001b[36m(ClientAppActor pid=49325)\u001b[0m ⏱️ Total training time: 0 minutes 21 seconds\n"
     ]
    },
    {
     "name": "stderr",
     "output_type": "stream",
     "text": [
      "\u001b[36m(ClientAppActor pid=49324)\u001b[0m Seed set to 42\n",
      "\u001b[36m(ClientAppActor pid=49324)\u001b[0m /home/emeka/.local/share/uv/python/cpython-3.12.10-linux-x86_64-gnu/lib/python3.12/multiprocessing/popen_fork.py:66: DeprecationWarning: This process (pid=49324) is multi-threaded, use of fork() may lead to deadlocks in the child.\n",
      "\u001b[36m(ClientAppActor pid=49324)\u001b[0m   self.pid = os.fork()\n",
      "\u001b[33m(raylet)\u001b[0m [2025-05-04 23:03:10,983 E 47422 47458] (raylet) file_system_monitor.cc:111: /home/emeka/PrivacyBench/logs/ray/session_2025-05-04_23-01-38_915903_43171 is over 95% full, available space: 744058880; capacity: 52589998080. Object creation will fail if spilling is required.\n",
      "\u001b[33m(raylet)\u001b[0m [2025-05-04 23:03:20,995 E 47422 47458] (raylet) file_system_monitor.cc:111: /home/emeka/PrivacyBench/logs/ray/session_2025-05-04_23-01-38_915903_43171 is over 95% full, available space: 744030208; capacity: 52589998080. Object creation will fail if spilling is required.\n",
      "\u001b[92mINFO \u001b[0m:      aggregate_fit: received 3 results and 0 failures\n"
     ]
    },
    {
     "name": "stdout",
     "output_type": "stream",
     "text": [
      "\u001b[36m(ClientAppActor pid=49324)\u001b[0m \n",
      "\u001b[36m(ClientAppActor pid=49324)\u001b[0m 🔎 Tracker: FL + CDP-SF (CNN)\n",
      "\u001b[36m(ClientAppActor pid=49324)\u001b[0m 📁 Logs saved to: /home/emeka/PrivacyBench/logs/emissions/FL_CDP-SF_CNN/client_emissions.csv\n",
      "\u001b[36m(ClientAppActor pid=49324)\u001b[0m ⏱️ Total training time: 0 minutes 20 seconds\n"
     ]
    },
    {
     "name": "stderr",
     "output_type": "stream",
     "text": [
      "\u001b[92mINFO \u001b[0m:      aggregate_fit: parameters are clipped by value: 0.0842.\n",
      "\u001b[92mINFO \u001b[0m:      aggregate_fit: parameters are clipped by value: 0.0842.\n",
      "\u001b[92mINFO \u001b[0m:      aggregate_fit: parameters are clipped by value: 0.0842.\n",
      "\u001b[92mINFO \u001b[0m:      aggregate_fit: central DP noise with 0.0025 stdev added\n",
      "\u001b[33m(raylet)\u001b[0m [2025-05-04 23:03:31,006 E 47422 47458] (raylet) file_system_monitor.cc:111: /home/emeka/PrivacyBench/logs/ray/session_2025-05-04_23-01-38_915903_43171 is over 95% full, available space: 744083456; capacity: 52589998080. Object creation will fail if spilling is required.\n",
      "/home/emeka/.local/share/uv/python/cpython-3.12.10-linux-x86_64-gnu/lib/python3.12/multiprocessing/popen_fork.py:66: DeprecationWarning: This process (pid=43171) is multi-threaded, use of fork() may lead to deadlocks in the child.\n",
      "  self.pid = os.fork()\n",
      "\u001b[92mINFO \u001b[0m:      fit progress: (2, nan, {'accuracy': 0.134375}, 106.02580726699989)\n",
      "\u001b[92mINFO \u001b[0m:      configure_evaluate: strategy sampled 3 clients (out of 3)\n",
      "\u001b[36m(ClientAppActor pid=49324)\u001b[0m /home/emeka/.local/share/uv/python/cpython-3.12.10-linux-x86_64-gnu/lib/python3.12/multiprocessing/popen_fork.py:66: DeprecationWarning: This process (pid=49324) is multi-threaded, use of fork() may lead to deadlocks in the child.\n",
      "\u001b[36m(ClientAppActor pid=49324)\u001b[0m   self.pid = os.fork()\n",
      "\u001b[92mINFO \u001b[0m:      aggregate_evaluate: received 3 results and 0 failures\n",
      "\u001b[92mINFO \u001b[0m:      \n",
      "\u001b[92mINFO \u001b[0m:      [ROUND 3]\n",
      "\u001b[92mINFO \u001b[0m:      configure_fit: strategy sampled 3 clients (out of 3)\n",
      "\u001b[36m(ClientAppActor pid=49325)\u001b[0m Seed set to 42\n",
      "\u001b[33m(raylet)\u001b[0m [2025-05-04 23:03:41,016 E 47422 47458] (raylet) file_system_monitor.cc:111: /home/emeka/PrivacyBench/logs/ray/session_2025-05-04_23-01-38_915903_43171 is over 95% full, available space: 744054784; capacity: 52589998080. Object creation will fail if spilling is required.\n",
      "\u001b[36m(ClientAppActor pid=49324)\u001b[0m /home/emeka/.local/share/uv/python/cpython-3.12.10-linux-x86_64-gnu/lib/python3.12/multiprocessing/popen_fork.py:66: DeprecationWarning: This process (pid=49324) is multi-threaded, use of fork() may lead to deadlocks in the child.\u001b[32m [repeated 3x across cluster]\u001b[0m\n",
      "\u001b[36m(ClientAppActor pid=49324)\u001b[0m   self.pid = os.fork()\u001b[32m [repeated 3x across cluster]\u001b[0m\n",
      "\u001b[36m(ClientAppActor pid=49324)\u001b[0m Seed set to 42\n",
      "\u001b[33m(raylet)\u001b[0m [2025-05-04 23:03:51,026 E 47422 47458] (raylet) file_system_monitor.cc:111: /home/emeka/PrivacyBench/logs/ray/session_2025-05-04_23-01-38_915903_43171 is over 95% full, available space: 743890944; capacity: 52589998080. Object creation will fail if spilling is required.\n"
     ]
    },
    {
     "name": "stdout",
     "output_type": "stream",
     "text": [
      "\u001b[36m(ClientAppActor pid=49325)\u001b[0m \n",
      "\u001b[36m(ClientAppActor pid=49325)\u001b[0m 🔎 Tracker: FL + CDP-SF (CNN)\n",
      "\u001b[36m(ClientAppActor pid=49325)\u001b[0m 📁 Logs saved to: /home/emeka/PrivacyBench/logs/emissions/FL_CDP-SF_CNN/client_emissions.csv\n",
      "\u001b[36m(ClientAppActor pid=49325)\u001b[0m ⏱️ Total training time: 0 minutes 21 seconds\n",
      "\u001b[36m(ClientAppActor pid=49324)\u001b[0m \n"
     ]
    },
    {
     "name": "stderr",
     "output_type": "stream",
     "text": [
      "\u001b[36m(ClientAppActor pid=49325)\u001b[0m Seed set to 42\n",
      "\u001b[36m(ClientAppActor pid=49325)\u001b[0m /home/emeka/.local/share/uv/python/cpython-3.12.10-linux-x86_64-gnu/lib/python3.12/multiprocessing/popen_fork.py:66: DeprecationWarning: This process (pid=49325) is multi-threaded, use of fork() may lead to deadlocks in the child.\n",
      "\u001b[36m(ClientAppActor pid=49325)\u001b[0m   self.pid = os.fork()\n",
      "\u001b[33m(raylet)\u001b[0m [2025-05-04 23:04:01,036 E 47422 47458] (raylet) file_system_monitor.cc:111: /home/emeka/PrivacyBench/logs/ray/session_2025-05-04_23-01-38_915903_43171 is over 95% full, available space: 743960576; capacity: 52589998080. Object creation will fail if spilling is required.\n",
      "\u001b[33m(raylet)\u001b[0m [2025-05-04 23:04:11,045 E 47422 47458] (raylet) file_system_monitor.cc:111: /home/emeka/PrivacyBench/logs/ray/session_2025-05-04_23-01-38_915903_43171 is over 95% full, available space: 743952384; capacity: 52589998080. Object creation will fail if spilling is required.\n",
      "\u001b[92mINFO \u001b[0m:      aggregate_fit: received 3 results and 0 failures\n",
      "\u001b[92mINFO \u001b[0m:      aggregate_fit: parameters are clipped by value: 0.0709.\n"
     ]
    },
    {
     "name": "stdout",
     "output_type": "stream",
     "text": [
      "\u001b[36m(ClientAppActor pid=49325)\u001b[0m \n",
      "\u001b[36m(ClientAppActor pid=49325)\u001b[0m 🔎 Tracker: FL + CDP-SF (CNN)\u001b[32m [repeated 2x across cluster]\u001b[0m\n",
      "\u001b[36m(ClientAppActor pid=49325)\u001b[0m 📁 Logs saved to: /home/emeka/PrivacyBench/logs/emissions/FL_CDP-SF_CNN/client_emissions.csv\u001b[32m [repeated 2x across cluster]\u001b[0m\n",
      "\u001b[36m(ClientAppActor pid=49325)\u001b[0m ⏱️ Total training time: 0 minutes 20 seconds\u001b[32m [repeated 2x across cluster]\u001b[0m\n"
     ]
    },
    {
     "name": "stderr",
     "output_type": "stream",
     "text": [
      "\u001b[92mINFO \u001b[0m:      aggregate_fit: parameters are clipped by value: 0.0709.\n",
      "\u001b[92mINFO \u001b[0m:      aggregate_fit: parameters are clipped by value: 0.0709.\n",
      "\u001b[92mINFO \u001b[0m:      aggregate_fit: central DP noise with 0.0021 stdev added\n",
      "\u001b[33m(raylet)\u001b[0m [2025-05-04 23:04:21,055 E 47422 47458] (raylet) file_system_monitor.cc:111: /home/emeka/PrivacyBench/logs/ray/session_2025-05-04_23-01-38_915903_43171 is over 95% full, available space: 743989248; capacity: 52589998080. Object creation will fail if spilling is required.\n",
      "/home/emeka/.local/share/uv/python/cpython-3.12.10-linux-x86_64-gnu/lib/python3.12/multiprocessing/popen_fork.py:66: DeprecationWarning: This process (pid=43171) is multi-threaded, use of fork() may lead to deadlocks in the child.\n",
      "  self.pid = os.fork()\n",
      "\u001b[92mINFO \u001b[0m:      fit progress: (3, nan, {'accuracy': 0.134375}, 155.638731905)\n",
      "\u001b[92mINFO \u001b[0m:      configure_evaluate: strategy sampled 3 clients (out of 3)\n",
      "\u001b[36m(ClientAppActor pid=49325)\u001b[0m /home/emeka/.local/share/uv/python/cpython-3.12.10-linux-x86_64-gnu/lib/python3.12/multiprocessing/popen_fork.py:66: DeprecationWarning: This process (pid=49325) is multi-threaded, use of fork() may lead to deadlocks in the child.\n",
      "\u001b[36m(ClientAppActor pid=49325)\u001b[0m   self.pid = os.fork()\n",
      "\u001b[92mINFO \u001b[0m:      aggregate_evaluate: received 3 results and 0 failures\n",
      "\u001b[92mINFO \u001b[0m:      \n",
      "\u001b[92mINFO \u001b[0m:      [ROUND 4]\n",
      "\u001b[92mINFO \u001b[0m:      configure_fit: strategy sampled 3 clients (out of 3)\n",
      "\u001b[36m(ClientAppActor pid=49325)\u001b[0m Seed set to 42\n",
      "\u001b[33m(raylet)\u001b[0m [2025-05-04 23:04:31,064 E 47422 47458] (raylet) file_system_monitor.cc:111: /home/emeka/PrivacyBench/logs/ray/session_2025-05-04_23-01-38_915903_43171 is over 95% full, available space: 743972864; capacity: 52589998080. Object creation will fail if spilling is required.\n",
      "\u001b[36m(ClientAppActor pid=49325)\u001b[0m /home/emeka/.local/share/uv/python/cpython-3.12.10-linux-x86_64-gnu/lib/python3.12/multiprocessing/popen_fork.py:66: DeprecationWarning: This process (pid=49325) is multi-threaded, use of fork() may lead to deadlocks in the child.\u001b[32m [repeated 3x across cluster]\u001b[0m\n",
      "\u001b[36m(ClientAppActor pid=49325)\u001b[0m   self.pid = os.fork()\u001b[32m [repeated 3x across cluster]\u001b[0m\n",
      "\u001b[36m(ClientAppActor pid=49324)\u001b[0m Seed set to 42\n",
      "\u001b[33m(raylet)\u001b[0m [2025-05-04 23:04:41,073 E 47422 47458] (raylet) file_system_monitor.cc:111: /home/emeka/PrivacyBench/logs/ray/session_2025-05-04_23-01-38_915903_43171 is over 95% full, available space: 743895040; capacity: 52589998080. Object creation will fail if spilling is required.\n"
     ]
    },
    {
     "name": "stdout",
     "output_type": "stream",
     "text": [
      "\u001b[36m(ClientAppActor pid=49324)\u001b[0m \n",
      "\u001b[36m(ClientAppActor pid=49324)\u001b[0m 🔎 Tracker: FL + CDP-SF (CNN)\n",
      "\u001b[36m(ClientAppActor pid=49324)\u001b[0m 📁 Logs saved to: /home/emeka/PrivacyBench/logs/emissions/FL_CDP-SF_CNN/client_emissions.csv\n",
      "\u001b[36m(ClientAppActor pid=49324)\u001b[0m ⏱️ Total training time: 0 minutes 22 seconds\n",
      "\u001b[36m(ClientAppActor pid=49325)\u001b[0m \n",
      "\u001b[36m(ClientAppActor pid=49325)\u001b[0m 🔎 Tracker: FL + CDP-SF (CNN)\n",
      "\u001b[36m(ClientAppActor pid=49325)\u001b[0m 📁 Logs saved to: /home/emeka/PrivacyBench/logs/emissions/FL_CDP-SF_CNN/client_emissions.csv\n",
      "\u001b[36m(ClientAppActor pid=49325)\u001b[0m ⏱️ Total training time: 0 minutes 22 seconds\n"
     ]
    },
    {
     "name": "stderr",
     "output_type": "stream",
     "text": [
      "\u001b[36m(ClientAppActor pid=49325)\u001b[0m Seed set to 42\n",
      "\u001b[36m(ClientAppActor pid=49325)\u001b[0m /home/emeka/.local/share/uv/python/cpython-3.12.10-linux-x86_64-gnu/lib/python3.12/multiprocessing/popen_fork.py:66: DeprecationWarning: This process (pid=49325) is multi-threaded, use of fork() may lead to deadlocks in the child.\n",
      "\u001b[36m(ClientAppActor pid=49325)\u001b[0m   self.pid = os.fork()\n",
      "\u001b[33m(raylet)\u001b[0m [2025-05-04 23:04:51,082 E 47422 47458] (raylet) file_system_monitor.cc:111: /home/emeka/PrivacyBench/logs/ray/session_2025-05-04_23-01-38_915903_43171 is over 95% full, available space: 743616512; capacity: 52589998080. Object creation will fail if spilling is required.\n",
      "\u001b[33m(raylet)\u001b[0m [2025-05-04 23:05:01,090 E 47422 47458] (raylet) file_system_monitor.cc:111: /home/emeka/PrivacyBench/logs/ray/session_2025-05-04_23-01-38_915903_43171 is over 95% full, available space: 743604224; capacity: 52589998080. Object creation will fail if spilling is required.\n",
      "\u001b[92mINFO \u001b[0m:      aggregate_fit: received 3 results and 0 failures\n"
     ]
    },
    {
     "name": "stdout",
     "output_type": "stream",
     "text": [
      "\u001b[36m(ClientAppActor pid=49325)\u001b[0m \n",
      "\u001b[36m(ClientAppActor pid=49325)\u001b[0m 🔎 Tracker: FL + CDP-SF (CNN)\n",
      "\u001b[36m(ClientAppActor pid=49325)\u001b[0m 📁 Logs saved to: /home/emeka/PrivacyBench/logs/emissions/FL_CDP-SF_CNN/client_emissions.csv\n",
      "\u001b[36m(ClientAppActor pid=49325)\u001b[0m ⏱️ Total training time: 0 minutes 21 seconds\n"
     ]
    },
    {
     "name": "stderr",
     "output_type": "stream",
     "text": [
      "\u001b[92mINFO \u001b[0m:      aggregate_fit: parameters are clipped by value: 0.0584.\n",
      "\u001b[92mINFO \u001b[0m:      aggregate_fit: parameters are clipped by value: 0.0584.\n",
      "\u001b[92mINFO \u001b[0m:      aggregate_fit: parameters are clipped by value: 0.0584.\n",
      "\u001b[92mINFO \u001b[0m:      aggregate_fit: central DP noise with 0.0017 stdev added\n",
      "\u001b[33m(raylet)\u001b[0m [2025-05-04 23:05:11,100 E 47422 47458] (raylet) file_system_monitor.cc:111: /home/emeka/PrivacyBench/logs/ray/session_2025-05-04_23-01-38_915903_43171 is over 95% full, available space: 743624704; capacity: 52589998080. Object creation will fail if spilling is required.\n",
      "/home/emeka/.local/share/uv/python/cpython-3.12.10-linux-x86_64-gnu/lib/python3.12/multiprocessing/popen_fork.py:66: DeprecationWarning: This process (pid=43171) is multi-threaded, use of fork() may lead to deadlocks in the child.\n",
      "  self.pid = os.fork()\n",
      "\u001b[92mINFO \u001b[0m:      fit progress: (4, nan, {'accuracy': 0.134375}, 206.08568669299984)\n",
      "\u001b[92mINFO \u001b[0m:      configure_evaluate: strategy sampled 3 clients (out of 3)\n",
      "\u001b[36m(ClientAppActor pid=49325)\u001b[0m /home/emeka/.local/share/uv/python/cpython-3.12.10-linux-x86_64-gnu/lib/python3.12/multiprocessing/popen_fork.py:66: DeprecationWarning: This process (pid=49325) is multi-threaded, use of fork() may lead to deadlocks in the child.\n",
      "\u001b[36m(ClientAppActor pid=49325)\u001b[0m   self.pid = os.fork()\n",
      "\u001b[92mINFO \u001b[0m:      aggregate_evaluate: received 3 results and 0 failures\n",
      "\u001b[92mINFO \u001b[0m:      \n",
      "\u001b[92mINFO \u001b[0m:      [ROUND 5]\n",
      "\u001b[92mINFO \u001b[0m:      configure_fit: strategy sampled 3 clients (out of 3)\n",
      "\u001b[36m(ClientAppActor pid=49325)\u001b[0m Seed set to 42\n",
      "\u001b[33m(raylet)\u001b[0m [2025-05-04 23:05:21,108 E 47422 47458] (raylet) file_system_monitor.cc:111: /home/emeka/PrivacyBench/logs/ray/session_2025-05-04_23-01-38_915903_43171 is over 95% full, available space: 743641088; capacity: 52589998080. Object creation will fail if spilling is required.\n",
      "\u001b[36m(ClientAppActor pid=49324)\u001b[0m /home/emeka/.local/share/uv/python/cpython-3.12.10-linux-x86_64-gnu/lib/python3.12/multiprocessing/popen_fork.py:66: DeprecationWarning: This process (pid=49324) is multi-threaded, use of fork() may lead to deadlocks in the child.\u001b[32m [repeated 3x across cluster]\u001b[0m\n",
      "\u001b[36m(ClientAppActor pid=49324)\u001b[0m   self.pid = os.fork()\u001b[32m [repeated 3x across cluster]\u001b[0m\n",
      "\u001b[36m(ClientAppActor pid=49324)\u001b[0m Seed set to 42\n",
      "\u001b[33m(raylet)\u001b[0m [2025-05-04 23:05:31,119 E 47422 47458] (raylet) file_system_monitor.cc:111: /home/emeka/PrivacyBench/logs/ray/session_2025-05-04_23-01-38_915903_43171 is over 95% full, available space: 743616512; capacity: 52589998080. Object creation will fail if spilling is required.\n"
     ]
    },
    {
     "name": "stdout",
     "output_type": "stream",
     "text": [
      "\u001b[36m(ClientAppActor pid=49325)\u001b[0m \n",
      "\u001b[36m(ClientAppActor pid=49325)\u001b[0m 🔎 Tracker: FL + CDP-SF (CNN)\n",
      "\u001b[36m(ClientAppActor pid=49325)\u001b[0m 📁 Logs saved to: /home/emeka/PrivacyBench/logs/emissions/FL_CDP-SF_CNN/client_emissions.csv\n",
      "\u001b[36m(ClientAppActor pid=49325)\u001b[0m ⏱️ Total training time: 0 minutes 22 seconds\n",
      "\u001b[36m(ClientAppActor pid=49324)\u001b[0m \n"
     ]
    },
    {
     "name": "stderr",
     "output_type": "stream",
     "text": [
      "\u001b[36m(ClientAppActor pid=49325)\u001b[0m Seed set to 42\n",
      "\u001b[36m(ClientAppActor pid=49325)\u001b[0m /home/emeka/.local/share/uv/python/cpython-3.12.10-linux-x86_64-gnu/lib/python3.12/multiprocessing/popen_fork.py:66: DeprecationWarning: This process (pid=49325) is multi-threaded, use of fork() may lead to deadlocks in the child.\n",
      "\u001b[36m(ClientAppActor pid=49325)\u001b[0m   self.pid = os.fork()\n",
      "\u001b[33m(raylet)\u001b[0m [2025-05-04 23:05:41,130 E 47422 47458] (raylet) file_system_monitor.cc:111: /home/emeka/PrivacyBench/logs/ray/session_2025-05-04_23-01-38_915903_43171 is over 95% full, available space: 743624704; capacity: 52589998080. Object creation will fail if spilling is required.\n",
      "\u001b[33m(raylet)\u001b[0m [2025-05-04 23:05:51,140 E 47422 47458] (raylet) file_system_monitor.cc:111: /home/emeka/PrivacyBench/logs/ray/session_2025-05-04_23-01-38_915903_43171 is over 95% full, available space: 743469056; capacity: 52589998080. Object creation will fail if spilling is required.\n",
      "\u001b[33m(raylet)\u001b[0m [2025-05-04 23:06:01,150 E 47422 47458] (raylet) file_system_monitor.cc:111: /home/emeka/PrivacyBench/logs/ray/session_2025-05-04_23-01-38_915903_43171 is over 95% full, available space: 743534592; capacity: 52589998080. Object creation will fail if spilling is required.\n",
      "\u001b[92mINFO \u001b[0m:      aggregate_fit: received 3 results and 0 failures\n"
     ]
    },
    {
     "name": "stdout",
     "output_type": "stream",
     "text": [
      "\u001b[36m(ClientAppActor pid=49325)\u001b[0m \n",
      "\u001b[36m(ClientAppActor pid=49325)\u001b[0m 🔎 Tracker: FL + CDP-SF (CNN)\u001b[32m [repeated 2x across cluster]\u001b[0m\n",
      "\u001b[36m(ClientAppActor pid=49325)\u001b[0m 📁 Logs saved to: /home/emeka/PrivacyBench/logs/emissions/FL_CDP-SF_CNN/client_emissions.csv\u001b[32m [repeated 2x across cluster]\u001b[0m\n",
      "\u001b[36m(ClientAppActor pid=49325)\u001b[0m ⏱️ Total training time: 0 minutes 22 seconds\u001b[32m [repeated 2x across cluster]\u001b[0m\n"
     ]
    },
    {
     "name": "stderr",
     "output_type": "stream",
     "text": [
      "\u001b[92mINFO \u001b[0m:      aggregate_fit: parameters are clipped by value: 0.0488.\n",
      "\u001b[92mINFO \u001b[0m:      aggregate_fit: parameters are clipped by value: 0.0488.\n",
      "\u001b[92mINFO \u001b[0m:      aggregate_fit: parameters are clipped by value: 0.0488.\n",
      "\u001b[92mINFO \u001b[0m:      aggregate_fit: central DP noise with 0.0014 stdev added\n",
      "/home/emeka/.local/share/uv/python/cpython-3.12.10-linux-x86_64-gnu/lib/python3.12/multiprocessing/popen_fork.py:66: DeprecationWarning: This process (pid=43171) is multi-threaded, use of fork() may lead to deadlocks in the child.\n",
      "  self.pid = os.fork()\n",
      "\u001b[92mINFO \u001b[0m:      fit progress: (5, nan, {'accuracy': 0.134375}, 258.5556431629998)\n",
      "\u001b[92mINFO \u001b[0m:      configure_evaluate: strategy sampled 3 clients (out of 3)\n",
      "\u001b[36m(ClientAppActor pid=49325)\u001b[0m /home/emeka/.local/share/uv/python/cpython-3.12.10-linux-x86_64-gnu/lib/python3.12/multiprocessing/popen_fork.py:66: DeprecationWarning: This process (pid=49325) is multi-threaded, use of fork() may lead to deadlocks in the child.\n",
      "\u001b[36m(ClientAppActor pid=49325)\u001b[0m   self.pid = os.fork()\n",
      "\u001b[92mINFO \u001b[0m:      aggregate_evaluate: received 3 results and 0 failures\n",
      "\u001b[92mINFO \u001b[0m:      \n",
      "\u001b[92mINFO \u001b[0m:      [ROUND 6]\n",
      "\u001b[92mINFO \u001b[0m:      configure_fit: strategy sampled 3 clients (out of 3)\n",
      "\u001b[36m(ClientAppActor pid=49325)\u001b[0m Seed set to 42\n",
      "\u001b[33m(raylet)\u001b[0m [2025-05-04 23:06:11,160 E 47422 47458] (raylet) file_system_monitor.cc:111: /home/emeka/PrivacyBench/logs/ray/session_2025-05-04_23-01-38_915903_43171 is over 95% full, available space: 743510016; capacity: 52589998080. Object creation will fail if spilling is required.\n",
      "\u001b[36m(ClientAppActor pid=49324)\u001b[0m /home/emeka/.local/share/uv/python/cpython-3.12.10-linux-x86_64-gnu/lib/python3.12/multiprocessing/popen_fork.py:66: DeprecationWarning: This process (pid=49324) is multi-threaded, use of fork() may lead to deadlocks in the child.\u001b[32m [repeated 3x across cluster]\u001b[0m\n",
      "\u001b[36m(ClientAppActor pid=49324)\u001b[0m   self.pid = os.fork()\u001b[32m [repeated 3x across cluster]\u001b[0m\n",
      "\u001b[36m(ClientAppActor pid=49324)\u001b[0m Seed set to 42\n",
      "\u001b[33m(raylet)\u001b[0m [2025-05-04 23:06:21,170 E 47422 47458] (raylet) file_system_monitor.cc:111: /home/emeka/PrivacyBench/logs/ray/session_2025-05-04_23-01-38_915903_43171 is over 95% full, available space: 743354368; capacity: 52589998080. Object creation will fail if spilling is required.\n"
     ]
    },
    {
     "name": "stdout",
     "output_type": "stream",
     "text": [
      "\u001b[36m(ClientAppActor pid=49324)\u001b[0m \n",
      "\u001b[36m(ClientAppActor pid=49324)\u001b[0m 🔎 Tracker: FL + CDP-SF (CNN)\n",
      "\u001b[36m(ClientAppActor pid=49324)\u001b[0m 📁 Logs saved to: /home/emeka/PrivacyBench/logs/emissions/FL_CDP-SF_CNN/client_emissions.csv\n",
      "\u001b[36m(ClientAppActor pid=49324)\u001b[0m ⏱️ Total training time: 0 minutes 21 seconds\n",
      "\u001b[36m(ClientAppActor pid=49325)\u001b[0m \n",
      "\u001b[36m(ClientAppActor pid=49325)\u001b[0m 🔎 Tracker: FL + CDP-SF (CNN)\n",
      "\u001b[36m(ClientAppActor pid=49325)\u001b[0m 📁 Logs saved to: /home/emeka/PrivacyBench/logs/emissions/FL_CDP-SF_CNN/client_emissions.csv\n",
      "\u001b[36m(ClientAppActor pid=49325)\u001b[0m ⏱️ Total training time: 0 minutes 21 seconds\n"
     ]
    },
    {
     "name": "stderr",
     "output_type": "stream",
     "text": [
      "\u001b[33m(raylet)\u001b[0m [2025-05-04 23:06:31,180 E 47422 47458] (raylet) file_system_monitor.cc:111: /home/emeka/PrivacyBench/logs/ray/session_2025-05-04_23-01-38_915903_43171 is over 95% full, available space: 743452672; capacity: 52589998080. Object creation will fail if spilling is required.\n",
      "\u001b[36m(ClientAppActor pid=49324)\u001b[0m Seed set to 42\n",
      "\u001b[36m(ClientAppActor pid=49324)\u001b[0m /home/emeka/.local/share/uv/python/cpython-3.12.10-linux-x86_64-gnu/lib/python3.12/multiprocessing/popen_fork.py:66: DeprecationWarning: This process (pid=49324) is multi-threaded, use of fork() may lead to deadlocks in the child.\n",
      "\u001b[36m(ClientAppActor pid=49324)\u001b[0m   self.pid = os.fork()\n",
      "\u001b[33m(raylet)\u001b[0m [2025-05-04 23:06:41,190 E 47422 47458] (raylet) file_system_monitor.cc:111: /home/emeka/PrivacyBench/logs/ray/session_2025-05-04_23-01-38_915903_43171 is over 95% full, available space: 743452672; capacity: 52589998080. Object creation will fail if spilling is required.\n",
      "\u001b[33m(raylet)\u001b[0m [2025-05-04 23:06:51,199 E 47422 47458] (raylet) file_system_monitor.cc:111: /home/emeka/PrivacyBench/logs/ray/session_2025-05-04_23-01-38_915903_43171 is over 95% full, available space: 743292928; capacity: 52589998080. Object creation will fail if spilling is required.\n",
      "\u001b[92mINFO \u001b[0m:      aggregate_fit: received 3 results and 0 failures\n",
      "\u001b[92mINFO \u001b[0m:      aggregate_fit: parameters are clipped by value: 0.0404.\n"
     ]
    },
    {
     "name": "stdout",
     "output_type": "stream",
     "text": [
      "\u001b[36m(ClientAppActor pid=49324)\u001b[0m \n",
      "\u001b[36m(ClientAppActor pid=49324)\u001b[0m 🔎 Tracker: FL + CDP-SF (CNN)\n",
      "\u001b[36m(ClientAppActor pid=49324)\u001b[0m 📁 Logs saved to: /home/emeka/PrivacyBench/logs/emissions/FL_CDP-SF_CNN/client_emissions.csv\n",
      "\u001b[36m(ClientAppActor pid=49324)\u001b[0m ⏱️ Total training time: 0 minutes 21 seconds\n"
     ]
    },
    {
     "name": "stderr",
     "output_type": "stream",
     "text": [
      "\u001b[92mINFO \u001b[0m:      aggregate_fit: parameters are clipped by value: 0.0404.\n",
      "\u001b[92mINFO \u001b[0m:      aggregate_fit: parameters are clipped by value: 0.0404.\n",
      "\u001b[92mINFO \u001b[0m:      aggregate_fit: central DP noise with 0.0012 stdev added\n",
      "/home/emeka/.local/share/uv/python/cpython-3.12.10-linux-x86_64-gnu/lib/python3.12/multiprocessing/popen_fork.py:66: DeprecationWarning: This process (pid=43171) is multi-threaded, use of fork() may lead to deadlocks in the child.\n",
      "  self.pid = os.fork()\n",
      "\u001b[92mINFO \u001b[0m:      fit progress: (6, nan, {'accuracy': 0.134375}, 308.85944224700006)\n",
      "\u001b[92mINFO \u001b[0m:      configure_evaluate: strategy sampled 3 clients (out of 3)\n",
      "\u001b[36m(ClientAppActor pid=49325)\u001b[0m /home/emeka/.local/share/uv/python/cpython-3.12.10-linux-x86_64-gnu/lib/python3.12/multiprocessing/popen_fork.py:66: DeprecationWarning: This process (pid=49325) is multi-threaded, use of fork() may lead to deadlocks in the child.\n",
      "\u001b[36m(ClientAppActor pid=49325)\u001b[0m   self.pid = os.fork()\n",
      "\u001b[92mINFO \u001b[0m:      aggregate_evaluate: received 3 results and 0 failures\n",
      "\u001b[92mINFO \u001b[0m:      \n",
      "\u001b[92mINFO \u001b[0m:      [ROUND 7]\n",
      "\u001b[92mINFO \u001b[0m:      configure_fit: strategy sampled 3 clients (out of 3)\n",
      "\u001b[36m(ClientAppActor pid=49325)\u001b[0m Seed set to 42\n",
      "\u001b[33m(raylet)\u001b[0m [2025-05-04 23:07:01,219 E 47422 47458] (raylet) file_system_monitor.cc:111: /home/emeka/PrivacyBench/logs/ray/session_2025-05-04_23-01-38_915903_43171 is over 95% full, available space: 743243776; capacity: 52589998080. Object creation will fail if spilling is required.\n",
      "\u001b[36m(ClientAppActor pid=49324)\u001b[0m /home/emeka/.local/share/uv/python/cpython-3.12.10-linux-x86_64-gnu/lib/python3.12/multiprocessing/popen_fork.py:66: DeprecationWarning: This process (pid=49324) is multi-threaded, use of fork() may lead to deadlocks in the child.\u001b[32m [repeated 3x across cluster]\u001b[0m\n",
      "\u001b[36m(ClientAppActor pid=49324)\u001b[0m   self.pid = os.fork()\u001b[32m [repeated 3x across cluster]\u001b[0m\n",
      "\u001b[36m(ClientAppActor pid=49324)\u001b[0m Seed set to 42\n",
      "\u001b[33m(raylet)\u001b[0m [2025-05-04 23:07:11,230 E 47422 47458] (raylet) file_system_monitor.cc:111: /home/emeka/PrivacyBench/logs/ray/session_2025-05-04_23-01-38_915903_43171 is over 95% full, available space: 743227392; capacity: 52589998080. Object creation will fail if spilling is required.\n",
      "\u001b[33m(raylet)\u001b[0m [2025-05-04 23:07:21,242 E 47422 47458] (raylet) file_system_monitor.cc:111: /home/emeka/PrivacyBench/logs/ray/session_2025-05-04_23-01-38_915903_43171 is over 95% full, available space: 743567360; capacity: 52589998080. Object creation will fail if spilling is required.\n"
     ]
    },
    {
     "name": "stdout",
     "output_type": "stream",
     "text": [
      "\u001b[36m(ClientAppActor pid=49325)\u001b[0m \n",
      "\u001b[36m(ClientAppActor pid=49325)\u001b[0m 🔎 Tracker: FL + CDP-SF (CNN)\n",
      "\u001b[36m(ClientAppActor pid=49325)\u001b[0m 📁 Logs saved to: /home/emeka/PrivacyBench/logs/emissions/FL_CDP-SF_CNN/client_emissions.csv\n",
      "\u001b[36m(ClientAppActor pid=49325)\u001b[0m ⏱️ Total training time: 0 minutes 21 seconds\n",
      "\u001b[36m(ClientAppActor pid=49324)\u001b[0m \n"
     ]
    },
    {
     "name": "stderr",
     "output_type": "stream",
     "text": [
      "\u001b[36m(ClientAppActor pid=49325)\u001b[0m Seed set to 42\n",
      "\u001b[36m(ClientAppActor pid=49325)\u001b[0m /home/emeka/.local/share/uv/python/cpython-3.12.10-linux-x86_64-gnu/lib/python3.12/multiprocessing/popen_fork.py:66: DeprecationWarning: This process (pid=49325) is multi-threaded, use of fork() may lead to deadlocks in the child.\n",
      "\u001b[36m(ClientAppActor pid=49325)\u001b[0m   self.pid = os.fork()\n",
      "\u001b[33m(raylet)\u001b[0m [2025-05-04 23:07:31,252 E 47422 47458] (raylet) file_system_monitor.cc:111: /home/emeka/PrivacyBench/logs/ray/session_2025-05-04_23-01-38_915903_43171 is over 95% full, available space: 743337984; capacity: 52589998080. Object creation will fail if spilling is required.\n",
      "\u001b[33m(raylet)\u001b[0m [2025-05-04 23:07:41,262 E 47422 47458] (raylet) file_system_monitor.cc:111: /home/emeka/PrivacyBench/logs/ray/session_2025-05-04_23-01-38_915903_43171 is over 95% full, available space: 743264256; capacity: 52589998080. Object creation will fail if spilling is required.\n",
      "\u001b[92mINFO \u001b[0m:      aggregate_fit: received 3 results and 0 failures\n",
      "\u001b[92mINFO \u001b[0m:      aggregate_fit: parameters are clipped by value: 0.0334.\n"
     ]
    },
    {
     "name": "stdout",
     "output_type": "stream",
     "text": [
      "\u001b[36m(ClientAppActor pid=49325)\u001b[0m \n",
      "\u001b[36m(ClientAppActor pid=49325)\u001b[0m 🔎 Tracker: FL + CDP-SF (CNN)\u001b[32m [repeated 2x across cluster]\u001b[0m\n",
      "\u001b[36m(ClientAppActor pid=49325)\u001b[0m 📁 Logs saved to: /home/emeka/PrivacyBench/logs/emissions/FL_CDP-SF_CNN/client_emissions.csv\u001b[32m [repeated 2x across cluster]\u001b[0m\n",
      "\u001b[36m(ClientAppActor pid=49325)\u001b[0m ⏱️ Total training time: 0 minutes 21 seconds\u001b[32m [repeated 2x across cluster]\u001b[0m\n"
     ]
    },
    {
     "name": "stderr",
     "output_type": "stream",
     "text": [
      "\u001b[92mINFO \u001b[0m:      aggregate_fit: parameters are clipped by value: 0.0334.\n",
      "\u001b[92mINFO \u001b[0m:      aggregate_fit: parameters are clipped by value: 0.0334.\n",
      "\u001b[92mINFO \u001b[0m:      aggregate_fit: central DP noise with 0.0010 stdev added\n",
      "/home/emeka/.local/share/uv/python/cpython-3.12.10-linux-x86_64-gnu/lib/python3.12/multiprocessing/popen_fork.py:66: DeprecationWarning: This process (pid=43171) is multi-threaded, use of fork() may lead to deadlocks in the child.\n",
      "  self.pid = os.fork()\n",
      "\u001b[92mINFO \u001b[0m:      fit progress: (7, nan, {'accuracy': 0.134375}, 359.4111721190002)\n",
      "\u001b[92mINFO \u001b[0m:      configure_evaluate: strategy sampled 3 clients (out of 3)\n",
      "\u001b[36m(ClientAppActor pid=49325)\u001b[0m /home/emeka/.local/share/uv/python/cpython-3.12.10-linux-x86_64-gnu/lib/python3.12/multiprocessing/popen_fork.py:66: DeprecationWarning: This process (pid=49325) is multi-threaded, use of fork() may lead to deadlocks in the child.\n",
      "\u001b[36m(ClientAppActor pid=49325)\u001b[0m   self.pid = os.fork()\n",
      "\u001b[92mINFO \u001b[0m:      aggregate_evaluate: received 3 results and 0 failures\n",
      "\u001b[92mINFO \u001b[0m:      \n",
      "\u001b[92mINFO \u001b[0m:      [ROUND 8]\n",
      "\u001b[92mINFO \u001b[0m:      configure_fit: strategy sampled 3 clients (out of 3)\n",
      "\u001b[36m(ClientAppActor pid=49325)\u001b[0m Seed set to 42\n",
      "\u001b[33m(raylet)\u001b[0m [2025-05-04 23:07:51,273 E 47422 47458] (raylet) file_system_monitor.cc:111: /home/emeka/PrivacyBench/logs/ray/session_2025-05-04_23-01-38_915903_43171 is over 95% full, available space: 742998016; capacity: 52589998080. Object creation will fail if spilling is required.\n",
      "\u001b[36m(ClientAppActor pid=49324)\u001b[0m /home/emeka/.local/share/uv/python/cpython-3.12.10-linux-x86_64-gnu/lib/python3.12/multiprocessing/popen_fork.py:66: DeprecationWarning: This process (pid=49324) is multi-threaded, use of fork() may lead to deadlocks in the child.\u001b[32m [repeated 3x across cluster]\u001b[0m\n",
      "\u001b[36m(ClientAppActor pid=49324)\u001b[0m   self.pid = os.fork()\u001b[32m [repeated 3x across cluster]\u001b[0m\n",
      "\u001b[36m(ClientAppActor pid=49324)\u001b[0m Seed set to 42\n",
      "\u001b[33m(raylet)\u001b[0m [2025-05-04 23:08:01,283 E 47422 47458] (raylet) file_system_monitor.cc:111: /home/emeka/PrivacyBench/logs/ray/session_2025-05-04_23-01-38_915903_43171 is over 95% full, available space: 742985728; capacity: 52589998080. Object creation will fail if spilling is required.\n",
      "\u001b[33m(raylet)\u001b[0m [2025-05-04 23:08:11,293 E 47422 47458] (raylet) file_system_monitor.cc:111: /home/emeka/PrivacyBench/logs/ray/session_2025-05-04_23-01-38_915903_43171 is over 95% full, available space: 743047168; capacity: 52589998080. Object creation will fail if spilling is required.\n"
     ]
    },
    {
     "name": "stdout",
     "output_type": "stream",
     "text": [
      "\u001b[36m(ClientAppActor pid=49325)\u001b[0m \n",
      "\u001b[36m(ClientAppActor pid=49325)\u001b[0m 🔎 Tracker: FL + CDP-SF (CNN)\n",
      "\u001b[36m(ClientAppActor pid=49325)\u001b[0m 📁 Logs saved to: /home/emeka/PrivacyBench/logs/emissions/FL_CDP-SF_CNN/client_emissions.csv\n",
      "\u001b[36m(ClientAppActor pid=49325)\u001b[0m ⏱️ Total training time: 0 minutes 21 seconds\n",
      "\u001b[36m(ClientAppActor pid=49324)\u001b[0m \n",
      "\u001b[36m(ClientAppActor pid=49324)\u001b[0m 🔎 Tracker: FL + CDP-SF (CNN)\n",
      "\u001b[36m(ClientAppActor pid=49324)\u001b[0m 📁 Logs saved to: /home/emeka/PrivacyBench/logs/emissions/FL_CDP-SF_CNN/client_emissions.csv\n",
      "\u001b[36m(ClientAppActor pid=49324)\u001b[0m ⏱️ Total training time: 0 minutes 21 seconds\n"
     ]
    },
    {
     "name": "stderr",
     "output_type": "stream",
     "text": [
      "\u001b[36m(ClientAppActor pid=49325)\u001b[0m Seed set to 42\n",
      "\u001b[36m(ClientAppActor pid=49325)\u001b[0m /home/emeka/.local/share/uv/python/cpython-3.12.10-linux-x86_64-gnu/lib/python3.12/multiprocessing/popen_fork.py:66: DeprecationWarning: This process (pid=49325) is multi-threaded, use of fork() may lead to deadlocks in the child.\n",
      "\u001b[36m(ClientAppActor pid=49325)\u001b[0m   self.pid = os.fork()\n",
      "\u001b[33m(raylet)\u001b[0m [2025-05-04 23:08:21,303 E 47422 47458] (raylet) file_system_monitor.cc:111: /home/emeka/PrivacyBench/logs/ray/session_2025-05-04_23-01-38_915903_43171 is over 95% full, available space: 742871040; capacity: 52589998080. Object creation will fail if spilling is required.\n",
      "\u001b[33m(raylet)\u001b[0m [2025-05-04 23:08:31,313 E 47422 47458] (raylet) file_system_monitor.cc:111: /home/emeka/PrivacyBench/logs/ray/session_2025-05-04_23-01-38_915903_43171 is over 95% full, available space: 742862848; capacity: 52589998080. Object creation will fail if spilling is required.\n"
     ]
    },
    {
     "name": "stdout",
     "output_type": "stream",
     "text": [
      "\u001b[36m(ClientAppActor pid=49325)\u001b[0m \n",
      "\u001b[36m(ClientAppActor pid=49325)\u001b[0m 🔎 Tracker: FL + CDP-SF (CNN)\n",
      "\u001b[36m(ClientAppActor pid=49325)\u001b[0m 📁 Logs saved to: /home/emeka/PrivacyBench/logs/emissions/FL_CDP-SF_CNN/client_emissions.csv\n",
      "\u001b[36m(ClientAppActor pid=49325)\u001b[0m ⏱️ Total training time: 0 minutes 20 seconds\n"
     ]
    },
    {
     "name": "stderr",
     "output_type": "stream",
     "text": [
      "\u001b[92mINFO \u001b[0m:      aggregate_fit: received 3 results and 0 failures\n",
      "\u001b[92mINFO \u001b[0m:      aggregate_fit: parameters are clipped by value: 0.0283.\n",
      "\u001b[92mINFO \u001b[0m:      aggregate_fit: parameters are clipped by value: 0.0283.\n",
      "\u001b[92mINFO \u001b[0m:      aggregate_fit: parameters are clipped by value: 0.0283.\n",
      "\u001b[92mINFO \u001b[0m:      aggregate_fit: central DP noise with 0.0008 stdev added\n",
      "/home/emeka/.local/share/uv/python/cpython-3.12.10-linux-x86_64-gnu/lib/python3.12/multiprocessing/popen_fork.py:66: DeprecationWarning: This process (pid=43171) is multi-threaded, use of fork() may lead to deadlocks in the child.\n",
      "  self.pid = os.fork()\n",
      "\u001b[92mINFO \u001b[0m:      fit progress: (8, nan, {'accuracy': 0.134375}, 409.17836493799996)\n",
      "\u001b[92mINFO \u001b[0m:      configure_evaluate: strategy sampled 3 clients (out of 3)\n",
      "\u001b[36m(ClientAppActor pid=49325)\u001b[0m /home/emeka/.local/share/uv/python/cpython-3.12.10-linux-x86_64-gnu/lib/python3.12/multiprocessing/popen_fork.py:66: DeprecationWarning: This process (pid=49325) is multi-threaded, use of fork() may lead to deadlocks in the child.\n",
      "\u001b[36m(ClientAppActor pid=49325)\u001b[0m   self.pid = os.fork()\n",
      "\u001b[92mINFO \u001b[0m:      aggregate_evaluate: received 3 results and 0 failures\n",
      "\u001b[92mINFO \u001b[0m:      \n",
      "\u001b[92mINFO \u001b[0m:      [ROUND 9]\n",
      "\u001b[92mINFO \u001b[0m:      configure_fit: strategy sampled 3 clients (out of 3)\n",
      "\u001b[36m(ClientAppActor pid=49324)\u001b[0m Seed set to 42\n",
      "\u001b[33m(raylet)\u001b[0m [2025-05-04 23:08:41,323 E 47422 47458] (raylet) file_system_monitor.cc:111: /home/emeka/PrivacyBench/logs/ray/session_2025-05-04_23-01-38_915903_43171 is over 95% full, available space: 742936576; capacity: 52589998080. Object creation will fail if spilling is required.\n",
      "\u001b[36m(ClientAppActor pid=49324)\u001b[0m /home/emeka/.local/share/uv/python/cpython-3.12.10-linux-x86_64-gnu/lib/python3.12/multiprocessing/popen_fork.py:66: DeprecationWarning: This process (pid=49324) is multi-threaded, use of fork() may lead to deadlocks in the child.\u001b[32m [repeated 3x across cluster]\u001b[0m\n",
      "\u001b[36m(ClientAppActor pid=49324)\u001b[0m   self.pid = os.fork()\u001b[32m [repeated 3x across cluster]\u001b[0m\n",
      "\u001b[36m(ClientAppActor pid=49325)\u001b[0m Seed set to 42\n",
      "\u001b[33m(raylet)\u001b[0m [2025-05-04 23:08:51,332 E 47422 47458] (raylet) file_system_monitor.cc:111: /home/emeka/PrivacyBench/logs/ray/session_2025-05-04_23-01-38_915903_43171 is over 95% full, available space: 742797312; capacity: 52589998080. Object creation will fail if spilling is required.\n",
      "\u001b[33m(raylet)\u001b[0m [2025-05-04 23:09:01,342 E 47422 47458] (raylet) file_system_monitor.cc:111: /home/emeka/PrivacyBench/logs/ray/session_2025-05-04_23-01-38_915903_43171 is over 95% full, available space: 742981632; capacity: 52589998080. Object creation will fail if spilling is required.\n"
     ]
    },
    {
     "name": "stdout",
     "output_type": "stream",
     "text": [
      "\u001b[36m(ClientAppActor pid=49325)\u001b[0m \n",
      "\u001b[36m(ClientAppActor pid=49325)\u001b[0m 🔎 Tracker: FL + CDP-SF (CNN)\n",
      "\u001b[36m(ClientAppActor pid=49325)\u001b[0m 📁 Logs saved to: /home/emeka/PrivacyBench/logs/emissions/FL_CDP-SF_CNN/client_emissions.csv\n",
      "\u001b[36m(ClientAppActor pid=49325)\u001b[0m ⏱️ Total training time: 0 minutes 21 seconds\n",
      "\u001b[36m(ClientAppActor pid=49324)\u001b[0m \n"
     ]
    },
    {
     "name": "stderr",
     "output_type": "stream",
     "text": [
      "\u001b[36m(ClientAppActor pid=49325)\u001b[0m Seed set to 42\n",
      "\u001b[36m(ClientAppActor pid=49325)\u001b[0m /home/emeka/.local/share/uv/python/cpython-3.12.10-linux-x86_64-gnu/lib/python3.12/multiprocessing/popen_fork.py:66: DeprecationWarning: This process (pid=49325) is multi-threaded, use of fork() may lead to deadlocks in the child.\n",
      "\u001b[36m(ClientAppActor pid=49325)\u001b[0m   self.pid = os.fork()\n",
      "\u001b[33m(raylet)\u001b[0m [2025-05-04 23:09:11,351 E 47422 47458] (raylet) file_system_monitor.cc:111: /home/emeka/PrivacyBench/logs/ray/session_2025-05-04_23-01-38_915903_43171 is over 95% full, available space: 743108608; capacity: 52589998080. Object creation will fail if spilling is required.\n",
      "\u001b[33m(raylet)\u001b[0m [2025-05-04 23:09:21,360 E 47422 47458] (raylet) file_system_monitor.cc:111: /home/emeka/PrivacyBench/logs/ray/session_2025-05-04_23-01-38_915903_43171 is over 95% full, available space: 743104512; capacity: 52589998080. Object creation will fail if spilling is required.\n",
      "\u001b[92mINFO \u001b[0m:      aggregate_fit: received 3 results and 0 failures\n",
      "\u001b[92mINFO \u001b[0m:      aggregate_fit: parameters are clipped by value: 0.0239.\n"
     ]
    },
    {
     "name": "stdout",
     "output_type": "stream",
     "text": [
      "\u001b[36m(ClientAppActor pid=49325)\u001b[0m \n",
      "\u001b[36m(ClientAppActor pid=49325)\u001b[0m 🔎 Tracker: FL + CDP-SF (CNN)\u001b[32m [repeated 2x across cluster]\u001b[0m\n",
      "\u001b[36m(ClientAppActor pid=49325)\u001b[0m 📁 Logs saved to: /home/emeka/PrivacyBench/logs/emissions/FL_CDP-SF_CNN/client_emissions.csv\u001b[32m [repeated 2x across cluster]\u001b[0m\n",
      "\u001b[36m(ClientAppActor pid=49325)\u001b[0m ⏱️ Total training time: 0 minutes 21 seconds\u001b[32m [repeated 2x across cluster]\u001b[0m\n"
     ]
    },
    {
     "name": "stderr",
     "output_type": "stream",
     "text": [
      "\u001b[92mINFO \u001b[0m:      aggregate_fit: parameters are clipped by value: 0.0239.\n",
      "\u001b[92mINFO \u001b[0m:      aggregate_fit: parameters are clipped by value: 0.0239.\n",
      "\u001b[92mINFO \u001b[0m:      aggregate_fit: central DP noise with 0.0007 stdev added\n",
      "/home/emeka/.local/share/uv/python/cpython-3.12.10-linux-x86_64-gnu/lib/python3.12/multiprocessing/popen_fork.py:66: DeprecationWarning: This process (pid=43171) is multi-threaded, use of fork() may lead to deadlocks in the child.\n",
      "  self.pid = os.fork()\n",
      "\u001b[92mINFO \u001b[0m:      fit progress: (9, nan, {'accuracy': 0.134375}, 459.7270524370001)\n",
      "\u001b[92mINFO \u001b[0m:      configure_evaluate: strategy sampled 3 clients (out of 3)\n",
      "\u001b[36m(ClientAppActor pid=49325)\u001b[0m /home/emeka/.local/share/uv/python/cpython-3.12.10-linux-x86_64-gnu/lib/python3.12/multiprocessing/popen_fork.py:66: DeprecationWarning: This process (pid=49325) is multi-threaded, use of fork() may lead to deadlocks in the child.\n",
      "\u001b[36m(ClientAppActor pid=49325)\u001b[0m   self.pid = os.fork()\n",
      "\u001b[92mINFO \u001b[0m:      aggregate_evaluate: received 3 results and 0 failures\n",
      "\u001b[92mINFO \u001b[0m:      \n",
      "\u001b[92mINFO \u001b[0m:      [ROUND 10]\n",
      "\u001b[92mINFO \u001b[0m:      configure_fit: strategy sampled 3 clients (out of 3)\n",
      "\u001b[36m(ClientAppActor pid=49325)\u001b[0m Seed set to 42\n",
      "\u001b[33m(raylet)\u001b[0m [2025-05-04 23:09:31,370 E 47422 47458] (raylet) file_system_monitor.cc:111: /home/emeka/PrivacyBench/logs/ray/session_2025-05-04_23-01-38_915903_43171 is over 95% full, available space: 743194624; capacity: 52589998080. Object creation will fail if spilling is required.\n",
      "\u001b[36m(ClientAppActor pid=49324)\u001b[0m /home/emeka/.local/share/uv/python/cpython-3.12.10-linux-x86_64-gnu/lib/python3.12/multiprocessing/popen_fork.py:66: DeprecationWarning: This process (pid=49324) is multi-threaded, use of fork() may lead to deadlocks in the child.\u001b[32m [repeated 3x across cluster]\u001b[0m\n",
      "\u001b[36m(ClientAppActor pid=49324)\u001b[0m   self.pid = os.fork()\u001b[32m [repeated 3x across cluster]\u001b[0m\n",
      "\u001b[36m(ClientAppActor pid=49324)\u001b[0m Seed set to 42\n",
      "\u001b[33m(raylet)\u001b[0m [2025-05-04 23:09:41,381 E 47422 47458] (raylet) file_system_monitor.cc:111: /home/emeka/PrivacyBench/logs/ray/session_2025-05-04_23-01-38_915903_43171 is over 95% full, available space: 743149568; capacity: 52589998080. Object creation will fail if spilling is required.\n",
      "\u001b[33m(raylet)\u001b[0m [2025-05-04 23:09:51,392 E 47422 47458] (raylet) file_system_monitor.cc:111: /home/emeka/PrivacyBench/logs/ray/session_2025-05-04_23-01-38_915903_43171 is over 95% full, available space: 742952960; capacity: 52589998080. Object creation will fail if spilling is required.\n"
     ]
    },
    {
     "name": "stdout",
     "output_type": "stream",
     "text": [
      "\u001b[36m(ClientAppActor pid=49325)\u001b[0m \n",
      "\u001b[36m(ClientAppActor pid=49325)\u001b[0m 🔎 Tracker: FL + CDP-SF (CNN)\n",
      "\u001b[36m(ClientAppActor pid=49325)\u001b[0m 📁 Logs saved to: /home/emeka/PrivacyBench/logs/emissions/FL_CDP-SF_CNN/client_emissions.csv\n",
      "\u001b[36m(ClientAppActor pid=49325)\u001b[0m ⏱️ Total training time: 0 minutes 21 seconds\n"
     ]
    },
    {
     "name": "stderr",
     "output_type": "stream",
     "text": [
      "\u001b[36m(ClientAppActor pid=49325)\u001b[0m Seed set to 42\n",
      "\u001b[36m(ClientAppActor pid=49325)\u001b[0m /home/emeka/.local/share/uv/python/cpython-3.12.10-linux-x86_64-gnu/lib/python3.12/multiprocessing/popen_fork.py:66: DeprecationWarning: This process (pid=49325) is multi-threaded, use of fork() may lead to deadlocks in the child.\n",
      "\u001b[36m(ClientAppActor pid=49325)\u001b[0m   self.pid = os.fork()\n"
     ]
    },
    {
     "name": "stdout",
     "output_type": "stream",
     "text": [
      "\u001b[36m(ClientAppActor pid=49324)\u001b[0m \n",
      "\u001b[36m(ClientAppActor pid=49324)\u001b[0m 🔎 Tracker: FL + CDP-SF (CNN)\n",
      "\u001b[36m(ClientAppActor pid=49324)\u001b[0m 📁 Logs saved to: /home/emeka/PrivacyBench/logs/emissions/FL_CDP-SF_CNN/client_emissions.csv\n",
      "\u001b[36m(ClientAppActor pid=49324)\u001b[0m ⏱️ Total training time: 0 minutes 24 seconds\n"
     ]
    },
    {
     "name": "stderr",
     "output_type": "stream",
     "text": [
      "\u001b[33m(raylet)\u001b[0m [2025-05-04 23:10:01,401 E 47422 47458] (raylet) file_system_monitor.cc:111: /home/emeka/PrivacyBench/logs/ray/session_2025-05-04_23-01-38_915903_43171 is over 95% full, available space: 742903808; capacity: 52589998080. Object creation will fail if spilling is required.\n",
      "\u001b[33m(raylet)\u001b[0m [2025-05-04 23:10:11,412 E 47422 47458] (raylet) file_system_monitor.cc:111: /home/emeka/PrivacyBench/logs/ray/session_2025-05-04_23-01-38_915903_43171 is over 95% full, available space: 742858752; capacity: 52589998080. Object creation will fail if spilling is required.\n",
      "\u001b[92mINFO \u001b[0m:      aggregate_fit: received 3 results and 0 failures\n",
      "\u001b[92mINFO \u001b[0m:      aggregate_fit: parameters are clipped by value: 0.0199.\n"
     ]
    },
    {
     "name": "stdout",
     "output_type": "stream",
     "text": [
      "\u001b[36m(ClientAppActor pid=49325)\u001b[0m \n",
      "\u001b[36m(ClientAppActor pid=49325)\u001b[0m 🔎 Tracker: FL + CDP-SF (CNN)\n",
      "\u001b[36m(ClientAppActor pid=49325)\u001b[0m 📁 Logs saved to: /home/emeka/PrivacyBench/logs/emissions/FL_CDP-SF_CNN/client_emissions.csv\n",
      "\u001b[36m(ClientAppActor pid=49325)\u001b[0m ⏱️ Total training time: 0 minutes 24 seconds\n"
     ]
    },
    {
     "name": "stderr",
     "output_type": "stream",
     "text": [
      "\u001b[92mINFO \u001b[0m:      aggregate_fit: parameters are clipped by value: 0.0199.\n",
      "\u001b[92mINFO \u001b[0m:      aggregate_fit: parameters are clipped by value: 0.0199.\n",
      "\u001b[92mINFO \u001b[0m:      aggregate_fit: central DP noise with 0.0006 stdev added\n",
      "/home/emeka/.local/share/uv/python/cpython-3.12.10-linux-x86_64-gnu/lib/python3.12/multiprocessing/popen_fork.py:66: DeprecationWarning: This process (pid=43171) is multi-threaded, use of fork() may lead to deadlocks in the child.\n",
      "  self.pid = os.fork()\n",
      "\u001b[33m(raylet)\u001b[0m [2025-05-04 23:10:21,423 E 47422 47458] (raylet) file_system_monitor.cc:111: /home/emeka/PrivacyBench/logs/ray/session_2025-05-04_23-01-38_915903_43171 is over 95% full, available space: 742821888; capacity: 52589998080. Object creation will fail if spilling is required.\n",
      "\u001b[92mINFO \u001b[0m:      fit progress: (10, nan, {'accuracy': 0.134375}, 513.820604561)\n",
      "\u001b[92mINFO \u001b[0m:      configure_evaluate: strategy sampled 3 clients (out of 3)\n",
      "\u001b[36m(ClientAppActor pid=49325)\u001b[0m /home/emeka/.local/share/uv/python/cpython-3.12.10-linux-x86_64-gnu/lib/python3.12/multiprocessing/popen_fork.py:66: DeprecationWarning: This process (pid=49325) is multi-threaded, use of fork() may lead to deadlocks in the child.\n",
      "\u001b[36m(ClientAppActor pid=49325)\u001b[0m   self.pid = os.fork()\n",
      "\u001b[92mINFO \u001b[0m:      aggregate_evaluate: received 3 results and 0 failures\n",
      "\u001b[92mINFO \u001b[0m:      \n",
      "\u001b[92mINFO \u001b[0m:      [ROUND 11]\n",
      "\u001b[92mINFO \u001b[0m:      configure_fit: strategy sampled 3 clients (out of 3)\n",
      "\u001b[36m(ClientAppActor pid=49325)\u001b[0m Seed set to 42\n",
      "\u001b[33m(raylet)\u001b[0m [2025-05-04 23:10:31,432 E 47422 47458] (raylet) file_system_monitor.cc:111: /home/emeka/PrivacyBench/logs/ray/session_2025-05-04_23-01-38_915903_43171 is over 95% full, available space: 742776832; capacity: 52589998080. Object creation will fail if spilling is required.\n",
      "\u001b[36m(ClientAppActor pid=49324)\u001b[0m /home/emeka/.local/share/uv/python/cpython-3.12.10-linux-x86_64-gnu/lib/python3.12/multiprocessing/popen_fork.py:66: DeprecationWarning: This process (pid=49324) is multi-threaded, use of fork() may lead to deadlocks in the child.\u001b[32m [repeated 3x across cluster]\u001b[0m\n",
      "\u001b[36m(ClientAppActor pid=49324)\u001b[0m   self.pid = os.fork()\u001b[32m [repeated 3x across cluster]\u001b[0m\n",
      "\u001b[36m(ClientAppActor pid=49324)\u001b[0m Seed set to 42\n",
      "\u001b[33m(raylet)\u001b[0m [2025-05-04 23:10:41,442 E 47422 47458] (raylet) file_system_monitor.cc:111: /home/emeka/PrivacyBench/logs/ray/session_2025-05-04_23-01-38_915903_43171 is over 95% full, available space: 742752256; capacity: 52589998080. Object creation will fail if spilling is required.\n"
     ]
    },
    {
     "name": "stdout",
     "output_type": "stream",
     "text": [
      "\u001b[36m(ClientAppActor pid=49325)\u001b[0m \n",
      "\u001b[36m(ClientAppActor pid=49325)\u001b[0m 🔎 Tracker: FL + CDP-SF (CNN)\n",
      "\u001b[36m(ClientAppActor pid=49325)\u001b[0m 📁 Logs saved to: /home/emeka/PrivacyBench/logs/emissions/FL_CDP-SF_CNN/client_emissions.csv\n",
      "\u001b[36m(ClientAppActor pid=49325)\u001b[0m ⏱️ Total training time: 0 minutes 22 seconds\n",
      "\u001b[36m(ClientAppActor pid=49324)\u001b[0m \n"
     ]
    },
    {
     "name": "stderr",
     "output_type": "stream",
     "text": [
      "\u001b[36m(ClientAppActor pid=49325)\u001b[0m Seed set to 42\n",
      "\u001b[36m(ClientAppActor pid=49325)\u001b[0m /home/emeka/.local/share/uv/python/cpython-3.12.10-linux-x86_64-gnu/lib/python3.12/multiprocessing/popen_fork.py:66: DeprecationWarning: This process (pid=49325) is multi-threaded, use of fork() may lead to deadlocks in the child.\n",
      "\u001b[36m(ClientAppActor pid=49325)\u001b[0m   self.pid = os.fork()\n",
      "\u001b[33m(raylet)\u001b[0m [2025-05-04 23:10:51,452 E 47422 47458] (raylet) file_system_monitor.cc:111: /home/emeka/PrivacyBench/logs/ray/session_2025-05-04_23-01-38_915903_43171 is over 95% full, available space: 742457344; capacity: 52589998080. Object creation will fail if spilling is required.\n",
      "\u001b[33m(raylet)\u001b[0m [2025-05-04 23:11:01,463 E 47422 47458] (raylet) file_system_monitor.cc:111: /home/emeka/PrivacyBench/logs/ray/session_2025-05-04_23-01-38_915903_43171 is over 95% full, available space: 742445056; capacity: 52589998080. Object creation will fail if spilling is required.\n",
      "\u001b[92mINFO \u001b[0m:      aggregate_fit: received 3 results and 0 failures\n",
      "\u001b[92mINFO \u001b[0m:      aggregate_fit: parameters are clipped by value: 0.0166.\n"
     ]
    },
    {
     "name": "stdout",
     "output_type": "stream",
     "text": [
      "\u001b[36m(ClientAppActor pid=49325)\u001b[0m \n",
      "\u001b[36m(ClientAppActor pid=49325)\u001b[0m 🔎 Tracker: FL + CDP-SF (CNN)\u001b[32m [repeated 2x across cluster]\u001b[0m\n",
      "\u001b[36m(ClientAppActor pid=49325)\u001b[0m 📁 Logs saved to: /home/emeka/PrivacyBench/logs/emissions/FL_CDP-SF_CNN/client_emissions.csv\u001b[32m [repeated 2x across cluster]\u001b[0m\n",
      "\u001b[36m(ClientAppActor pid=49325)\u001b[0m ⏱️ Total training time: 0 minutes 21 seconds\u001b[32m [repeated 2x across cluster]\u001b[0m\n"
     ]
    },
    {
     "name": "stderr",
     "output_type": "stream",
     "text": [
      "\u001b[92mINFO \u001b[0m:      aggregate_fit: parameters are clipped by value: 0.0166.\n",
      "\u001b[92mINFO \u001b[0m:      aggregate_fit: parameters are clipped by value: 0.0166.\n",
      "\u001b[92mINFO \u001b[0m:      aggregate_fit: central DP noise with 0.0005 stdev added\n",
      "/home/emeka/.local/share/uv/python/cpython-3.12.10-linux-x86_64-gnu/lib/python3.12/multiprocessing/popen_fork.py:66: DeprecationWarning: This process (pid=43171) is multi-threaded, use of fork() may lead to deadlocks in the child.\n",
      "  self.pid = os.fork()\n",
      "\u001b[33m(raylet)\u001b[0m [2025-05-04 23:11:11,473 E 47422 47458] (raylet) file_system_monitor.cc:111: /home/emeka/PrivacyBench/logs/ray/session_2025-05-04_23-01-38_915903_43171 is over 95% full, available space: 742367232; capacity: 52589998080. Object creation will fail if spilling is required.\n",
      "\u001b[92mINFO \u001b[0m:      fit progress: (11, nan, {'accuracy': 0.134375}, 565.300774504)\n",
      "\u001b[92mINFO \u001b[0m:      configure_evaluate: strategy sampled 3 clients (out of 3)\n",
      "\u001b[36m(ClientAppActor pid=49325)\u001b[0m /home/emeka/.local/share/uv/python/cpython-3.12.10-linux-x86_64-gnu/lib/python3.12/multiprocessing/popen_fork.py:66: DeprecationWarning: This process (pid=49325) is multi-threaded, use of fork() may lead to deadlocks in the child.\n",
      "\u001b[36m(ClientAppActor pid=49325)\u001b[0m   self.pid = os.fork()\n",
      "\u001b[92mINFO \u001b[0m:      aggregate_evaluate: received 3 results and 0 failures\n",
      "\u001b[92mINFO \u001b[0m:      \n",
      "\u001b[92mINFO \u001b[0m:      [ROUND 12]\n",
      "\u001b[92mINFO \u001b[0m:      configure_fit: strategy sampled 3 clients (out of 3)\n",
      "\u001b[36m(ClientAppActor pid=49325)\u001b[0m Seed set to 42\n",
      "\u001b[33m(raylet)\u001b[0m [2025-05-04 23:11:21,485 E 47422 47458] (raylet) file_system_monitor.cc:111: /home/emeka/PrivacyBench/logs/ray/session_2025-05-04_23-01-38_915903_43171 is over 95% full, available space: 742309888; capacity: 52589998080. Object creation will fail if spilling is required.\n",
      "\u001b[36m(ClientAppActor pid=49324)\u001b[0m /home/emeka/.local/share/uv/python/cpython-3.12.10-linux-x86_64-gnu/lib/python3.12/multiprocessing/popen_fork.py:66: DeprecationWarning: This process (pid=49324) is multi-threaded, use of fork() may lead to deadlocks in the child.\u001b[32m [repeated 3x across cluster]\u001b[0m\n",
      "\u001b[36m(ClientAppActor pid=49324)\u001b[0m   self.pid = os.fork()\u001b[32m [repeated 3x across cluster]\u001b[0m\n",
      "\u001b[36m(ClientAppActor pid=49324)\u001b[0m Seed set to 42\n",
      "\u001b[33m(raylet)\u001b[0m [2025-05-04 23:11:31,495 E 47422 47458] (raylet) file_system_monitor.cc:111: /home/emeka/PrivacyBench/logs/ray/session_2025-05-04_23-01-38_915903_43171 is over 95% full, available space: 742297600; capacity: 52589998080. Object creation will fail if spilling is required.\n"
     ]
    },
    {
     "name": "stdout",
     "output_type": "stream",
     "text": [
      "\u001b[36m(ClientAppActor pid=49325)\u001b[0m \n",
      "\u001b[36m(ClientAppActor pid=49325)\u001b[0m 🔎 Tracker: FL + CDP-SF (CNN)\n",
      "\u001b[36m(ClientAppActor pid=49325)\u001b[0m 📁 Logs saved to: /home/emeka/PrivacyBench/logs/emissions/FL_CDP-SF_CNN/client_emissions.csv\n",
      "\u001b[36m(ClientAppActor pid=49325)\u001b[0m ⏱️ Total training time: 0 minutes 21 seconds\n",
      "\u001b[36m(ClientAppActor pid=49324)\u001b[0m \n",
      "\u001b[36m(ClientAppActor pid=49324)\u001b[0m 🔎 Tracker: FL + CDP-SF (CNN)\n",
      "\u001b[36m(ClientAppActor pid=49324)\u001b[0m 📁 Logs saved to: /home/emeka/PrivacyBench/logs/emissions/FL_CDP-SF_CNN/client_emissions.csv\n",
      "\u001b[36m(ClientAppActor pid=49324)\u001b[0m ⏱️ Total training time: 0 minutes 22 seconds\n"
     ]
    },
    {
     "name": "stderr",
     "output_type": "stream",
     "text": [
      "\u001b[36m(ClientAppActor pid=49325)\u001b[0m Seed set to 42\n",
      "\u001b[36m(ClientAppActor pid=49325)\u001b[0m /home/emeka/.local/share/uv/python/cpython-3.12.10-linux-x86_64-gnu/lib/python3.12/multiprocessing/popen_fork.py:66: DeprecationWarning: This process (pid=49325) is multi-threaded, use of fork() may lead to deadlocks in the child.\n",
      "\u001b[36m(ClientAppActor pid=49325)\u001b[0m   self.pid = os.fork()\n",
      "\u001b[33m(raylet)\u001b[0m [2025-05-04 23:11:41,505 E 47422 47458] (raylet) file_system_monitor.cc:111: /home/emeka/PrivacyBench/logs/ray/session_2025-05-04_23-01-38_915903_43171 is over 95% full, available space: 742207488; capacity: 52589998080. Object creation will fail if spilling is required.\n",
      "\u001b[33m(raylet)\u001b[0m [2025-05-04 23:11:51,515 E 47422 47458] (raylet) file_system_monitor.cc:111: /home/emeka/PrivacyBench/logs/ray/session_2025-05-04_23-01-38_915903_43171 is over 95% full, available space: 742039552; capacity: 52589998080. Object creation will fail if spilling is required.\n",
      "\u001b[92mINFO \u001b[0m:      aggregate_fit: received 3 results and 0 failures\n",
      "\u001b[92mINFO \u001b[0m:      aggregate_fit: parameters are clipped by value: 0.0139.\n"
     ]
    },
    {
     "name": "stdout",
     "output_type": "stream",
     "text": [
      "\u001b[36m(ClientAppActor pid=49325)\u001b[0m \n",
      "\u001b[36m(ClientAppActor pid=49325)\u001b[0m 🔎 Tracker: FL + CDP-SF (CNN)\n",
      "\u001b[36m(ClientAppActor pid=49325)\u001b[0m 📁 Logs saved to: /home/emeka/PrivacyBench/logs/emissions/FL_CDP-SF_CNN/client_emissions.csv\n",
      "\u001b[36m(ClientAppActor pid=49325)\u001b[0m ⏱️ Total training time: 0 minutes 20 seconds\n"
     ]
    },
    {
     "name": "stderr",
     "output_type": "stream",
     "text": [
      "\u001b[92mINFO \u001b[0m:      aggregate_fit: parameters are clipped by value: 0.0139.\n",
      "\u001b[92mINFO \u001b[0m:      aggregate_fit: parameters are clipped by value: 0.0139.\n",
      "\u001b[92mINFO \u001b[0m:      aggregate_fit: central DP noise with 0.0004 stdev added\n",
      "/home/emeka/.local/share/uv/python/cpython-3.12.10-linux-x86_64-gnu/lib/python3.12/multiprocessing/popen_fork.py:66: DeprecationWarning: This process (pid=43171) is multi-threaded, use of fork() may lead to deadlocks in the child.\n",
      "  self.pid = os.fork()\n",
      "\u001b[33m(raylet)\u001b[0m [2025-05-04 23:12:01,526 E 47422 47458] (raylet) file_system_monitor.cc:111: /home/emeka/PrivacyBench/logs/ray/session_2025-05-04_23-01-38_915903_43171 is over 95% full, available space: 742010880; capacity: 52589998080. Object creation will fail if spilling is required.\n",
      "\u001b[92mINFO \u001b[0m:      fit progress: (12, nan, {'accuracy': 0.134375}, 614.7831922609998)\n",
      "\u001b[92mINFO \u001b[0m:      configure_evaluate: strategy sampled 3 clients (out of 3)\n",
      "\u001b[36m(ClientAppActor pid=49325)\u001b[0m /home/emeka/.local/share/uv/python/cpython-3.12.10-linux-x86_64-gnu/lib/python3.12/multiprocessing/popen_fork.py:66: DeprecationWarning: This process (pid=49325) is multi-threaded, use of fork() may lead to deadlocks in the child.\n",
      "\u001b[36m(ClientAppActor pid=49325)\u001b[0m   self.pid = os.fork()\n",
      "\u001b[92mINFO \u001b[0m:      aggregate_evaluate: received 3 results and 0 failures\n",
      "\u001b[92mINFO \u001b[0m:      \n",
      "\u001b[92mINFO \u001b[0m:      [ROUND 13]\n",
      "\u001b[92mINFO \u001b[0m:      configure_fit: strategy sampled 3 clients (out of 3)\n",
      "\u001b[36m(ClientAppActor pid=49325)\u001b[0m Seed set to 42\n",
      "\u001b[33m(raylet)\u001b[0m [2025-05-04 23:12:11,537 E 47422 47458] (raylet) file_system_monitor.cc:111: /home/emeka/PrivacyBench/logs/ray/session_2025-05-04_23-01-38_915903_43171 is over 95% full, available space: 741957632; capacity: 52589998080. Object creation will fail if spilling is required.\n",
      "\u001b[36m(ClientAppActor pid=49324)\u001b[0m /home/emeka/.local/share/uv/python/cpython-3.12.10-linux-x86_64-gnu/lib/python3.12/multiprocessing/popen_fork.py:66: DeprecationWarning: This process (pid=49324) is multi-threaded, use of fork() may lead to deadlocks in the child.\u001b[32m [repeated 3x across cluster]\u001b[0m\n",
      "\u001b[36m(ClientAppActor pid=49324)\u001b[0m   self.pid = os.fork()\u001b[32m [repeated 3x across cluster]\u001b[0m\n",
      "\u001b[36m(ClientAppActor pid=49324)\u001b[0m Seed set to 42\n",
      "\u001b[33m(raylet)\u001b[0m [2025-05-04 23:12:21,548 E 47422 47458] (raylet) file_system_monitor.cc:111: /home/emeka/PrivacyBench/logs/ray/session_2025-05-04_23-01-38_915903_43171 is over 95% full, available space: 741953536; capacity: 52589998080. Object creation will fail if spilling is required.\n"
     ]
    },
    {
     "name": "stdout",
     "output_type": "stream",
     "text": [
      "\u001b[36m(ClientAppActor pid=49325)\u001b[0m \n",
      "\u001b[36m(ClientAppActor pid=49325)\u001b[0m 🔎 Tracker: FL + CDP-SF (CNN)\n",
      "\u001b[36m(ClientAppActor pid=49325)\u001b[0m 📁 Logs saved to: /home/emeka/PrivacyBench/logs/emissions/FL_CDP-SF_CNN/client_emissions.csv\n",
      "\u001b[36m(ClientAppActor pid=49325)\u001b[0m ⏱️ Total training time: 0 minutes 21 seconds\n",
      "\u001b[36m(ClientAppActor pid=49324)\u001b[0m \n"
     ]
    },
    {
     "name": "stderr",
     "output_type": "stream",
     "text": [
      "\u001b[36m(ClientAppActor pid=49325)\u001b[0m Seed set to 42\n",
      "\u001b[36m(ClientAppActor pid=49325)\u001b[0m /home/emeka/.local/share/uv/python/cpython-3.12.10-linux-x86_64-gnu/lib/python3.12/multiprocessing/popen_fork.py:66: DeprecationWarning: This process (pid=49325) is multi-threaded, use of fork() may lead to deadlocks in the child.\n",
      "\u001b[36m(ClientAppActor pid=49325)\u001b[0m   self.pid = os.fork()\n",
      "\u001b[33m(raylet)\u001b[0m [2025-05-04 23:12:31,559 E 47422 47458] (raylet) file_system_monitor.cc:111: /home/emeka/PrivacyBench/logs/ray/session_2025-05-04_23-01-38_915903_43171 is over 95% full, available space: 741904384; capacity: 52589998080. Object creation will fail if spilling is required.\n",
      "\u001b[33m(raylet)\u001b[0m [2025-05-04 23:12:41,570 E 47422 47458] (raylet) file_system_monitor.cc:111: /home/emeka/PrivacyBench/logs/ray/session_2025-05-04_23-01-38_915903_43171 is over 95% full, available space: 741847040; capacity: 52589998080. Object creation will fail if spilling is required.\n",
      "\u001b[92mINFO \u001b[0m:      aggregate_fit: received 3 results and 0 failures\n",
      "\u001b[92mINFO \u001b[0m:      aggregate_fit: parameters are clipped by value: 0.0115.\n"
     ]
    },
    {
     "name": "stdout",
     "output_type": "stream",
     "text": [
      "\u001b[36m(ClientAppActor pid=49325)\u001b[0m \n",
      "\u001b[36m(ClientAppActor pid=49325)\u001b[0m 🔎 Tracker: FL + CDP-SF (CNN)\u001b[32m [repeated 2x across cluster]\u001b[0m\n",
      "\u001b[36m(ClientAppActor pid=49325)\u001b[0m 📁 Logs saved to: /home/emeka/PrivacyBench/logs/emissions/FL_CDP-SF_CNN/client_emissions.csv\u001b[32m [repeated 2x across cluster]\u001b[0m\n",
      "\u001b[36m(ClientAppActor pid=49325)\u001b[0m ⏱️ Total training time: 0 minutes 21 seconds\u001b[32m [repeated 2x across cluster]\u001b[0m\n"
     ]
    },
    {
     "name": "stderr",
     "output_type": "stream",
     "text": [
      "\u001b[92mINFO \u001b[0m:      aggregate_fit: parameters are clipped by value: 0.0115.\n",
      "\u001b[92mINFO \u001b[0m:      aggregate_fit: parameters are clipped by value: 0.0115.\n",
      "\u001b[92mINFO \u001b[0m:      aggregate_fit: central DP noise with 0.0003 stdev added\n",
      "/home/emeka/.local/share/uv/python/cpython-3.12.10-linux-x86_64-gnu/lib/python3.12/multiprocessing/popen_fork.py:66: DeprecationWarning: This process (pid=43171) is multi-threaded, use of fork() may lead to deadlocks in the child.\n",
      "  self.pid = os.fork()\n",
      "\u001b[33m(raylet)\u001b[0m [2025-05-04 23:12:51,579 E 47422 47458] (raylet) file_system_monitor.cc:111: /home/emeka/PrivacyBench/logs/ray/session_2025-05-04_23-01-38_915903_43171 is over 95% full, available space: 741679104; capacity: 52589998080. Object creation will fail if spilling is required.\n",
      "\u001b[92mINFO \u001b[0m:      fit progress: (13, nan, {'accuracy': 0.134375}, 664.9874040539999)\n",
      "\u001b[92mINFO \u001b[0m:      configure_evaluate: strategy sampled 3 clients (out of 3)\n",
      "\u001b[36m(ClientAppActor pid=49325)\u001b[0m /home/emeka/.local/share/uv/python/cpython-3.12.10-linux-x86_64-gnu/lib/python3.12/multiprocessing/popen_fork.py:66: DeprecationWarning: This process (pid=49325) is multi-threaded, use of fork() may lead to deadlocks in the child.\n",
      "\u001b[36m(ClientAppActor pid=49325)\u001b[0m   self.pid = os.fork()\n",
      "\u001b[92mINFO \u001b[0m:      aggregate_evaluate: received 3 results and 0 failures\n",
      "\u001b[92mINFO \u001b[0m:      \n",
      "\u001b[92mINFO \u001b[0m:      [ROUND 14]\n",
      "\u001b[92mINFO \u001b[0m:      configure_fit: strategy sampled 3 clients (out of 3)\n",
      "\u001b[36m(ClientAppActor pid=49325)\u001b[0m Seed set to 42\n",
      "\u001b[33m(raylet)\u001b[0m [2025-05-04 23:13:01,590 E 47422 47458] (raylet) file_system_monitor.cc:111: /home/emeka/PrivacyBench/logs/ray/session_2025-05-04_23-01-38_915903_43171 is over 95% full, available space: 741629952; capacity: 52589998080. Object creation will fail if spilling is required.\n",
      "\u001b[36m(ClientAppActor pid=49324)\u001b[0m /home/emeka/.local/share/uv/python/cpython-3.12.10-linux-x86_64-gnu/lib/python3.12/multiprocessing/popen_fork.py:66: DeprecationWarning: This process (pid=49324) is multi-threaded, use of fork() may lead to deadlocks in the child.\u001b[32m [repeated 3x across cluster]\u001b[0m\n",
      "\u001b[36m(ClientAppActor pid=49324)\u001b[0m   self.pid = os.fork()\u001b[32m [repeated 3x across cluster]\u001b[0m\n",
      "\u001b[36m(ClientAppActor pid=49324)\u001b[0m Seed set to 42\n",
      "\u001b[33m(raylet)\u001b[0m [2025-05-04 23:13:11,600 E 47422 47458] (raylet) file_system_monitor.cc:111: /home/emeka/PrivacyBench/logs/ray/session_2025-05-04_23-01-38_915903_43171 is over 95% full, available space: 741609472; capacity: 52589998080. Object creation will fail if spilling is required.\n"
     ]
    },
    {
     "name": "stdout",
     "output_type": "stream",
     "text": [
      "\u001b[36m(ClientAppActor pid=49324)\u001b[0m \n",
      "\u001b[36m(ClientAppActor pid=49324)\u001b[0m 🔎 Tracker: FL + CDP-SF (CNN)\n",
      "\u001b[36m(ClientAppActor pid=49324)\u001b[0m 📁 Logs saved to: /home/emeka/PrivacyBench/logs/emissions/FL_CDP-SF_CNN/client_emissions.csv\n",
      "\u001b[36m(ClientAppActor pid=49324)\u001b[0m ⏱️ Total training time: 0 minutes 21 seconds\n",
      "\u001b[36m(ClientAppActor pid=49325)\u001b[0m \n",
      "\u001b[36m(ClientAppActor pid=49325)\u001b[0m 🔎 Tracker: FL + CDP-SF (CNN)\n",
      "\u001b[36m(ClientAppActor pid=49325)\u001b[0m 📁 Logs saved to: /home/emeka/PrivacyBench/logs/emissions/FL_CDP-SF_CNN/client_emissions.csv\n",
      "\u001b[36m(ClientAppActor pid=49325)\u001b[0m ⏱️ Total training time: 0 minutes 22 seconds\n"
     ]
    },
    {
     "name": "stderr",
     "output_type": "stream",
     "text": [
      "\u001b[36m(ClientAppActor pid=49324)\u001b[0m Seed set to 42\n",
      "\u001b[36m(ClientAppActor pid=49324)\u001b[0m /home/emeka/.local/share/uv/python/cpython-3.12.10-linux-x86_64-gnu/lib/python3.12/multiprocessing/popen_fork.py:66: DeprecationWarning: This process (pid=49324) is multi-threaded, use of fork() may lead to deadlocks in the child.\n",
      "\u001b[36m(ClientAppActor pid=49324)\u001b[0m   self.pid = os.fork()\n",
      "\u001b[33m(raylet)\u001b[0m [2025-05-04 23:13:21,610 E 47422 47458] (raylet) file_system_monitor.cc:111: /home/emeka/PrivacyBench/logs/ray/session_2025-05-04_23-01-38_915903_43171 is over 95% full, available space: 741548032; capacity: 52589998080. Object creation will fail if spilling is required.\n",
      "\u001b[33m(raylet)\u001b[0m [2025-05-04 23:13:31,621 E 47422 47458] (raylet) file_system_monitor.cc:111: /home/emeka/PrivacyBench/logs/ray/session_2025-05-04_23-01-38_915903_43171 is over 95% full, available space: 741523456; capacity: 52589998080. Object creation will fail if spilling is required.\n",
      "\u001b[92mINFO \u001b[0m:      aggregate_fit: received 3 results and 0 failures\n",
      "\u001b[92mINFO \u001b[0m:      aggregate_fit: parameters are clipped by value: 0.0097.\n"
     ]
    },
    {
     "name": "stdout",
     "output_type": "stream",
     "text": [
      "\u001b[36m(ClientAppActor pid=49324)\u001b[0m \n",
      "\u001b[36m(ClientAppActor pid=49324)\u001b[0m 🔎 Tracker: FL + CDP-SF (CNN)\n",
      "\u001b[36m(ClientAppActor pid=49324)\u001b[0m 📁 Logs saved to: /home/emeka/PrivacyBench/logs/emissions/FL_CDP-SF_CNN/client_emissions.csv\n",
      "\u001b[36m(ClientAppActor pid=49324)\u001b[0m ⏱️ Total training time: 0 minutes 20 seconds\n"
     ]
    },
    {
     "name": "stderr",
     "output_type": "stream",
     "text": [
      "\u001b[92mINFO \u001b[0m:      aggregate_fit: parameters are clipped by value: 0.0097.\n",
      "\u001b[92mINFO \u001b[0m:      aggregate_fit: parameters are clipped by value: 0.0097.\n",
      "\u001b[92mINFO \u001b[0m:      aggregate_fit: central DP noise with 0.0003 stdev added\n",
      "/home/emeka/.local/share/uv/python/cpython-3.12.10-linux-x86_64-gnu/lib/python3.12/multiprocessing/popen_fork.py:66: DeprecationWarning: This process (pid=43171) is multi-threaded, use of fork() may lead to deadlocks in the child.\n",
      "  self.pid = os.fork()\n",
      "\u001b[33m(raylet)\u001b[0m [2025-05-04 23:13:41,631 E 47422 47458] (raylet) file_system_monitor.cc:111: /home/emeka/PrivacyBench/logs/ray/session_2025-05-04_23-01-38_915903_43171 is over 95% full, available space: 741400576; capacity: 52589998080. Object creation will fail if spilling is required.\n",
      "\u001b[92mINFO \u001b[0m:      fit progress: (14, nan, {'accuracy': 0.134375}, 714.9815233599998)\n",
      "\u001b[92mINFO \u001b[0m:      configure_evaluate: strategy sampled 3 clients (out of 3)\n",
      "\u001b[36m(ClientAppActor pid=49325)\u001b[0m /home/emeka/.local/share/uv/python/cpython-3.12.10-linux-x86_64-gnu/lib/python3.12/multiprocessing/popen_fork.py:66: DeprecationWarning: This process (pid=49325) is multi-threaded, use of fork() may lead to deadlocks in the child.\n",
      "\u001b[36m(ClientAppActor pid=49325)\u001b[0m   self.pid = os.fork()\n",
      "\u001b[92mINFO \u001b[0m:      aggregate_evaluate: received 3 results and 0 failures\n",
      "\u001b[92mINFO \u001b[0m:      \n",
      "\u001b[92mINFO \u001b[0m:      [ROUND 15]\n",
      "\u001b[92mINFO \u001b[0m:      configure_fit: strategy sampled 3 clients (out of 3)\n",
      "\u001b[36m(ClientAppActor pid=49325)\u001b[0m Seed set to 42\n",
      "\u001b[33m(raylet)\u001b[0m [2025-05-04 23:13:51,641 E 47422 47458] (raylet) file_system_monitor.cc:111: /home/emeka/PrivacyBench/logs/ray/session_2025-05-04_23-01-38_915903_43171 is over 95% full, available space: 741097472; capacity: 52589998080. Object creation will fail if spilling is required.\n",
      "\u001b[36m(ClientAppActor pid=49324)\u001b[0m /home/emeka/.local/share/uv/python/cpython-3.12.10-linux-x86_64-gnu/lib/python3.12/multiprocessing/popen_fork.py:66: DeprecationWarning: This process (pid=49324) is multi-threaded, use of fork() may lead to deadlocks in the child.\u001b[32m [repeated 3x across cluster]\u001b[0m\n",
      "\u001b[36m(ClientAppActor pid=49324)\u001b[0m   self.pid = os.fork()\u001b[32m [repeated 3x across cluster]\u001b[0m\n",
      "\u001b[36m(ClientAppActor pid=49324)\u001b[0m Seed set to 42\n",
      "\u001b[33m(raylet)\u001b[0m [2025-05-04 23:14:01,651 E 47422 47458] (raylet) file_system_monitor.cc:111: /home/emeka/PrivacyBench/logs/ray/session_2025-05-04_23-01-38_915903_43171 is over 95% full, available space: 741072896; capacity: 52589998080. Object creation will fail if spilling is required.\n"
     ]
    },
    {
     "name": "stdout",
     "output_type": "stream",
     "text": [
      "\u001b[36m(ClientAppActor pid=49324)\u001b[0m \n",
      "\u001b[36m(ClientAppActor pid=49324)\u001b[0m 🔎 Tracker: FL + CDP-SF (CNN)\n",
      "\u001b[36m(ClientAppActor pid=49324)\u001b[0m 📁 Logs saved to: /home/emeka/PrivacyBench/logs/emissions/FL_CDP-SF_CNN/client_emissions.csv\n",
      "\u001b[36m(ClientAppActor pid=49324)\u001b[0m ⏱️ Total training time: 0 minutes 21 seconds\n",
      "\u001b[36m(ClientAppActor pid=49325)\u001b[0m \n"
     ]
    },
    {
     "name": "stderr",
     "output_type": "stream",
     "text": [
      "\u001b[36m(ClientAppActor pid=49324)\u001b[0m Seed set to 42\n",
      "\u001b[36m(ClientAppActor pid=49324)\u001b[0m /home/emeka/.local/share/uv/python/cpython-3.12.10-linux-x86_64-gnu/lib/python3.12/multiprocessing/popen_fork.py:66: DeprecationWarning: This process (pid=49324) is multi-threaded, use of fork() may lead to deadlocks in the child.\n",
      "\u001b[36m(ClientAppActor pid=49324)\u001b[0m   self.pid = os.fork()\n",
      "\u001b[33m(raylet)\u001b[0m [2025-05-04 23:14:11,663 E 47422 47458] (raylet) file_system_monitor.cc:111: /home/emeka/PrivacyBench/logs/ray/session_2025-05-04_23-01-38_915903_43171 is over 95% full, available space: 741011456; capacity: 52589998080. Object creation will fail if spilling is required.\n",
      "\u001b[33m(raylet)\u001b[0m [2025-05-04 23:14:21,671 E 47422 47458] (raylet) file_system_monitor.cc:111: /home/emeka/PrivacyBench/logs/ray/session_2025-05-04_23-01-38_915903_43171 is over 95% full, available space: 740990976; capacity: 52589998080. Object creation will fail if spilling is required.\n",
      "\u001b[92mINFO \u001b[0m:      aggregate_fit: received 3 results and 0 failures\n",
      "\u001b[92mINFO \u001b[0m:      aggregate_fit: parameters are clipped by value: 0.0081.\n"
     ]
    },
    {
     "name": "stdout",
     "output_type": "stream",
     "text": [
      "\u001b[36m(ClientAppActor pid=49324)\u001b[0m \n",
      "\u001b[36m(ClientAppActor pid=49324)\u001b[0m 🔎 Tracker: FL + CDP-SF (CNN)\u001b[32m [repeated 2x across cluster]\u001b[0m\n",
      "\u001b[36m(ClientAppActor pid=49324)\u001b[0m 📁 Logs saved to: /home/emeka/PrivacyBench/logs/emissions/FL_CDP-SF_CNN/client_emissions.csv\u001b[32m [repeated 2x across cluster]\u001b[0m\n",
      "\u001b[36m(ClientAppActor pid=49324)\u001b[0m ⏱️ Total training time: 0 minutes 21 seconds\u001b[32m [repeated 2x across cluster]\u001b[0m\n"
     ]
    },
    {
     "name": "stderr",
     "output_type": "stream",
     "text": [
      "\u001b[92mINFO \u001b[0m:      aggregate_fit: parameters are clipped by value: 0.0081.\n",
      "\u001b[92mINFO \u001b[0m:      aggregate_fit: parameters are clipped by value: 0.0081.\n",
      "\u001b[92mINFO \u001b[0m:      aggregate_fit: central DP noise with 0.0002 stdev added\n",
      "/home/emeka/.local/share/uv/python/cpython-3.12.10-linux-x86_64-gnu/lib/python3.12/multiprocessing/popen_fork.py:66: DeprecationWarning: This process (pid=43171) is multi-threaded, use of fork() may lead to deadlocks in the child.\n",
      "  self.pid = os.fork()\n",
      "\u001b[33m(raylet)\u001b[0m [2025-05-04 23:14:31,681 E 47422 47458] (raylet) file_system_monitor.cc:111: /home/emeka/PrivacyBench/logs/ray/session_2025-05-04_23-01-38_915903_43171 is over 95% full, available space: 740913152; capacity: 52589998080. Object creation will fail if spilling is required.\n",
      "\u001b[92mINFO \u001b[0m:      fit progress: (15, nan, {'accuracy': 0.134375}, 764.7752576560001)\n",
      "\u001b[92mINFO \u001b[0m:      configure_evaluate: strategy sampled 3 clients (out of 3)\n",
      "\u001b[36m(ClientAppActor pid=49325)\u001b[0m /home/emeka/.local/share/uv/python/cpython-3.12.10-linux-x86_64-gnu/lib/python3.12/multiprocessing/popen_fork.py:66: DeprecationWarning: This process (pid=49325) is multi-threaded, use of fork() may lead to deadlocks in the child.\n",
      "\u001b[36m(ClientAppActor pid=49325)\u001b[0m   self.pid = os.fork()\n",
      "\u001b[92mINFO \u001b[0m:      aggregate_evaluate: received 3 results and 0 failures\n",
      "\u001b[92mINFO \u001b[0m:      \n",
      "\u001b[92mINFO \u001b[0m:      [ROUND 16]\n",
      "\u001b[92mINFO \u001b[0m:      configure_fit: strategy sampled 3 clients (out of 3)\n",
      "\u001b[36m(ClientAppActor pid=49325)\u001b[0m Seed set to 42\n",
      "\u001b[33m(raylet)\u001b[0m [2025-05-04 23:14:41,691 E 47422 47458] (raylet) file_system_monitor.cc:111: /home/emeka/PrivacyBench/logs/ray/session_2025-05-04_23-01-38_915903_43171 is over 95% full, available space: 740823040; capacity: 52589998080. Object creation will fail if spilling is required.\n",
      "\u001b[36m(ClientAppActor pid=49324)\u001b[0m /home/emeka/.local/share/uv/python/cpython-3.12.10-linux-x86_64-gnu/lib/python3.12/multiprocessing/popen_fork.py:66: DeprecationWarning: This process (pid=49324) is multi-threaded, use of fork() may lead to deadlocks in the child.\u001b[32m [repeated 3x across cluster]\u001b[0m\n",
      "\u001b[36m(ClientAppActor pid=49324)\u001b[0m   self.pid = os.fork()\u001b[32m [repeated 3x across cluster]\u001b[0m\n",
      "\u001b[36m(ClientAppActor pid=49324)\u001b[0m Seed set to 42\n",
      "\u001b[33m(raylet)\u001b[0m [2025-05-04 23:14:51,701 E 47422 47458] (raylet) file_system_monitor.cc:111: /home/emeka/PrivacyBench/logs/ray/session_2025-05-04_23-01-38_915903_43171 is over 95% full, available space: 740663296; capacity: 52589998080. Object creation will fail if spilling is required.\n"
     ]
    },
    {
     "name": "stdout",
     "output_type": "stream",
     "text": [
      "\u001b[36m(ClientAppActor pid=49324)\u001b[0m \n",
      "\u001b[36m(ClientAppActor pid=49324)\u001b[0m 🔎 Tracker: FL + CDP-SF (CNN)\n",
      "\u001b[36m(ClientAppActor pid=49324)\u001b[0m 📁 Logs saved to: /home/emeka/PrivacyBench/logs/emissions/FL_CDP-SF_CNN/client_emissions.csv\n",
      "\u001b[36m(ClientAppActor pid=49324)\u001b[0m ⏱️ Total training time: 0 minutes 21 seconds\n",
      "\u001b[36m(ClientAppActor pid=49325)\u001b[0m \n",
      "\u001b[36m(ClientAppActor pid=49325)\u001b[0m 🔎 Tracker: FL + CDP-SF (CNN)\n",
      "\u001b[36m(ClientAppActor pid=49325)\u001b[0m 📁 Logs saved to: /home/emeka/PrivacyBench/logs/emissions/FL_CDP-SF_CNN/client_emissions.csv\n",
      "\u001b[36m(ClientAppActor pid=49325)\u001b[0m ⏱️ Total training time: 0 minutes 22 seconds\n"
     ]
    },
    {
     "name": "stderr",
     "output_type": "stream",
     "text": [
      "\u001b[36m(ClientAppActor pid=49324)\u001b[0m Seed set to 42\n",
      "\u001b[36m(ClientAppActor pid=49324)\u001b[0m /home/emeka/.local/share/uv/python/cpython-3.12.10-linux-x86_64-gnu/lib/python3.12/multiprocessing/popen_fork.py:66: DeprecationWarning: This process (pid=49324) is multi-threaded, use of fork() may lead to deadlocks in the child.\n",
      "\u001b[36m(ClientAppActor pid=49324)\u001b[0m   self.pid = os.fork()\n",
      "\u001b[33m(raylet)\u001b[0m [2025-05-04 23:15:01,712 E 47422 47458] (raylet) file_system_monitor.cc:111: /home/emeka/PrivacyBench/logs/ray/session_2025-05-04_23-01-38_915903_43171 is over 95% full, available space: 740597760; capacity: 52589998080. Object creation will fail if spilling is required.\n",
      "\u001b[33m(raylet)\u001b[0m [2025-05-04 23:15:11,722 E 47422 47458] (raylet) file_system_monitor.cc:111: /home/emeka/PrivacyBench/logs/ray/session_2025-05-04_23-01-38_915903_43171 is over 95% full, available space: 740581376; capacity: 52589998080. Object creation will fail if spilling is required.\n",
      "\u001b[92mINFO \u001b[0m:      aggregate_fit: received 3 results and 0 failures\n"
     ]
    },
    {
     "name": "stdout",
     "output_type": "stream",
     "text": [
      "\u001b[36m(ClientAppActor pid=49324)\u001b[0m \n",
      "\u001b[36m(ClientAppActor pid=49324)\u001b[0m 🔎 Tracker: FL + CDP-SF (CNN)\n",
      "\u001b[36m(ClientAppActor pid=49324)\u001b[0m 📁 Logs saved to: /home/emeka/PrivacyBench/logs/emissions/FL_CDP-SF_CNN/client_emissions.csv\n",
      "\u001b[36m(ClientAppActor pid=49324)\u001b[0m ⏱️ Total training time: 0 minutes 20 seconds\n"
     ]
    },
    {
     "name": "stderr",
     "output_type": "stream",
     "text": [
      "\u001b[92mINFO \u001b[0m:      aggregate_fit: parameters are clipped by value: 0.0069.\n",
      "\u001b[92mINFO \u001b[0m:      aggregate_fit: parameters are clipped by value: 0.0069.\n",
      "\u001b[92mINFO \u001b[0m:      aggregate_fit: parameters are clipped by value: 0.0069.\n",
      "\u001b[92mINFO \u001b[0m:      aggregate_fit: central DP noise with 0.0002 stdev added\n",
      "/home/emeka/.local/share/uv/python/cpython-3.12.10-linux-x86_64-gnu/lib/python3.12/multiprocessing/popen_fork.py:66: DeprecationWarning: This process (pid=43171) is multi-threaded, use of fork() may lead to deadlocks in the child.\n",
      "  self.pid = os.fork()\n",
      "\u001b[33m(raylet)\u001b[0m [2025-05-04 23:15:21,732 E 47422 47458] (raylet) file_system_monitor.cc:111: /home/emeka/PrivacyBench/logs/ray/session_2025-05-04_23-01-38_915903_43171 is over 95% full, available space: 740560896; capacity: 52589998080. Object creation will fail if spilling is required.\n",
      "\u001b[92mINFO \u001b[0m:      fit progress: (16, nan, {'accuracy': 0.134375}, 814.630530941)\n",
      "\u001b[92mINFO \u001b[0m:      configure_evaluate: strategy sampled 3 clients (out of 3)\n",
      "\u001b[36m(ClientAppActor pid=49325)\u001b[0m /home/emeka/.local/share/uv/python/cpython-3.12.10-linux-x86_64-gnu/lib/python3.12/multiprocessing/popen_fork.py:66: DeprecationWarning: This process (pid=49325) is multi-threaded, use of fork() may lead to deadlocks in the child.\n",
      "\u001b[36m(ClientAppActor pid=49325)\u001b[0m   self.pid = os.fork()\n",
      "\u001b[92mINFO \u001b[0m:      aggregate_evaluate: received 3 results and 0 failures\n",
      "\u001b[92mINFO \u001b[0m:      \n",
      "\u001b[92mINFO \u001b[0m:      [ROUND 17]\n",
      "\u001b[92mINFO \u001b[0m:      configure_fit: strategy sampled 3 clients (out of 3)\n",
      "\u001b[36m(ClientAppActor pid=49325)\u001b[0m Seed set to 42\n",
      "\u001b[33m(raylet)\u001b[0m [2025-05-04 23:15:31,742 E 47422 47458] (raylet) file_system_monitor.cc:111: /home/emeka/PrivacyBench/logs/ray/session_2025-05-04_23-01-38_915903_43171 is over 95% full, available space: 740511744; capacity: 52589998080. Object creation will fail if spilling is required.\n",
      "\u001b[36m(ClientAppActor pid=49324)\u001b[0m /home/emeka/.local/share/uv/python/cpython-3.12.10-linux-x86_64-gnu/lib/python3.12/multiprocessing/popen_fork.py:66: DeprecationWarning: This process (pid=49324) is multi-threaded, use of fork() may lead to deadlocks in the child.\u001b[32m [repeated 3x across cluster]\u001b[0m\n",
      "\u001b[36m(ClientAppActor pid=49324)\u001b[0m   self.pid = os.fork()\u001b[32m [repeated 3x across cluster]\u001b[0m\n",
      "\u001b[36m(ClientAppActor pid=49324)\u001b[0m Seed set to 42\n",
      "\u001b[33m(raylet)\u001b[0m [2025-05-04 23:15:41,752 E 47422 47458] (raylet) file_system_monitor.cc:111: /home/emeka/PrivacyBench/logs/ray/session_2025-05-04_23-01-38_915903_43171 is over 95% full, available space: 740495360; capacity: 52589998080. Object creation will fail if spilling is required.\n"
     ]
    },
    {
     "name": "stdout",
     "output_type": "stream",
     "text": [
      "\u001b[36m(ClientAppActor pid=49324)\u001b[0m \n",
      "\u001b[36m(ClientAppActor pid=49324)\u001b[0m 🔎 Tracker: FL + CDP-SF (CNN)\n",
      "\u001b[36m(ClientAppActor pid=49324)\u001b[0m 📁 Logs saved to: /home/emeka/PrivacyBench/logs/emissions/FL_CDP-SF_CNN/client_emissions.csv\n",
      "\u001b[36m(ClientAppActor pid=49324)\u001b[0m ⏱️ Total training time: 0 minutes 21 seconds\n",
      "\u001b[36m(ClientAppActor pid=49325)\u001b[0m \n"
     ]
    },
    {
     "name": "stderr",
     "output_type": "stream",
     "text": [
      "\u001b[36m(ClientAppActor pid=49324)\u001b[0m Seed set to 42\n",
      "\u001b[36m(ClientAppActor pid=49324)\u001b[0m /home/emeka/.local/share/uv/python/cpython-3.12.10-linux-x86_64-gnu/lib/python3.12/multiprocessing/popen_fork.py:66: DeprecationWarning: This process (pid=49324) is multi-threaded, use of fork() may lead to deadlocks in the child.\n",
      "\u001b[36m(ClientAppActor pid=49324)\u001b[0m   self.pid = os.fork()\n",
      "\u001b[33m(raylet)\u001b[0m [2025-05-04 23:15:51,762 E 47422 47458] (raylet) file_system_monitor.cc:111: /home/emeka/PrivacyBench/logs/ray/session_2025-05-04_23-01-38_915903_43171 is over 95% full, available space: 740212736; capacity: 52589998080. Object creation will fail if spilling is required.\n",
      "\u001b[33m(raylet)\u001b[0m [2025-05-04 23:16:01,772 E 47422 47458] (raylet) file_system_monitor.cc:111: /home/emeka/PrivacyBench/logs/ray/session_2025-05-04_23-01-38_915903_43171 is over 95% full, available space: 740192256; capacity: 52589998080. Object creation will fail if spilling is required.\n",
      "\u001b[92mINFO \u001b[0m:      aggregate_fit: received 3 results and 0 failures\n"
     ]
    },
    {
     "name": "stdout",
     "output_type": "stream",
     "text": [
      "\u001b[36m(ClientAppActor pid=49324)\u001b[0m \n",
      "\u001b[36m(ClientAppActor pid=49324)\u001b[0m 🔎 Tracker: FL + CDP-SF (CNN)\u001b[32m [repeated 2x across cluster]\u001b[0m\n",
      "\u001b[36m(ClientAppActor pid=49324)\u001b[0m 📁 Logs saved to: /home/emeka/PrivacyBench/logs/emissions/FL_CDP-SF_CNN/client_emissions.csv\u001b[32m [repeated 2x across cluster]\u001b[0m\n",
      "\u001b[36m(ClientAppActor pid=49324)\u001b[0m ⏱️ Total training time: 0 minutes 20 seconds\u001b[32m [repeated 2x across cluster]\u001b[0m\n"
     ]
    },
    {
     "name": "stderr",
     "output_type": "stream",
     "text": [
      "\u001b[92mINFO \u001b[0m:      aggregate_fit: parameters are clipped by value: 0.0057.\n",
      "\u001b[92mINFO \u001b[0m:      aggregate_fit: parameters are clipped by value: 0.0057.\n",
      "\u001b[92mINFO \u001b[0m:      aggregate_fit: parameters are clipped by value: 0.0057.\n",
      "\u001b[92mINFO \u001b[0m:      aggregate_fit: central DP noise with 0.0002 stdev added\n",
      "/home/emeka/.local/share/uv/python/cpython-3.12.10-linux-x86_64-gnu/lib/python3.12/multiprocessing/popen_fork.py:66: DeprecationWarning: This process (pid=43171) is multi-threaded, use of fork() may lead to deadlocks in the child.\n",
      "  self.pid = os.fork()\n",
      "\u001b[92mINFO \u001b[0m:      fit progress: (17, nan, {'accuracy': 0.134375}, 863.710341509)\n",
      "\u001b[92mINFO \u001b[0m:      configure_evaluate: strategy sampled 3 clients (out of 3)\n",
      "\u001b[33m(raylet)\u001b[0m [2025-05-04 23:16:11,782 E 47422 47458] (raylet) file_system_monitor.cc:111: /home/emeka/PrivacyBench/logs/ray/session_2025-05-04_23-01-38_915903_43171 is over 95% full, available space: 740175872; capacity: 52589998080. Object creation will fail if spilling is required.\n",
      "\u001b[36m(ClientAppActor pid=49325)\u001b[0m /home/emeka/.local/share/uv/python/cpython-3.12.10-linux-x86_64-gnu/lib/python3.12/multiprocessing/popen_fork.py:66: DeprecationWarning: This process (pid=49325) is multi-threaded, use of fork() may lead to deadlocks in the child.\n",
      "\u001b[36m(ClientAppActor pid=49325)\u001b[0m   self.pid = os.fork()\n",
      "\u001b[92mINFO \u001b[0m:      aggregate_evaluate: received 3 results and 0 failures\n",
      "\u001b[92mINFO \u001b[0m:      \n",
      "\u001b[92mINFO \u001b[0m:      [ROUND 18]\n",
      "\u001b[92mINFO \u001b[0m:      configure_fit: strategy sampled 3 clients (out of 3)\n",
      "\u001b[36m(ClientAppActor pid=49325)\u001b[0m Seed set to 42\n",
      "\u001b[33m(raylet)\u001b[0m [2025-05-04 23:16:21,793 E 47422 47458] (raylet) file_system_monitor.cc:111: /home/emeka/PrivacyBench/logs/ray/session_2025-05-04_23-01-38_915903_43171 is over 95% full, available space: 740130816; capacity: 52589998080. Object creation will fail if spilling is required.\n",
      "\u001b[36m(ClientAppActor pid=49324)\u001b[0m /home/emeka/.local/share/uv/python/cpython-3.12.10-linux-x86_64-gnu/lib/python3.12/multiprocessing/popen_fork.py:66: DeprecationWarning: This process (pid=49324) is multi-threaded, use of fork() may lead to deadlocks in the child.\u001b[32m [repeated 3x across cluster]\u001b[0m\n",
      "\u001b[36m(ClientAppActor pid=49324)\u001b[0m   self.pid = os.fork()\u001b[32m [repeated 3x across cluster]\u001b[0m\n",
      "\u001b[36m(ClientAppActor pid=49324)\u001b[0m Seed set to 42\n",
      "\u001b[33m(raylet)\u001b[0m [2025-05-04 23:16:31,803 E 47422 47458] (raylet) file_system_monitor.cc:111: /home/emeka/PrivacyBench/logs/ray/session_2025-05-04_23-01-38_915903_43171 is over 95% full, available space: 740130816; capacity: 52589998080. Object creation will fail if spilling is required.\n"
     ]
    },
    {
     "name": "stdout",
     "output_type": "stream",
     "text": [
      "\u001b[36m(ClientAppActor pid=49324)\u001b[0m \n",
      "\u001b[36m(ClientAppActor pid=49324)\u001b[0m 🔎 Tracker: FL + CDP-SF (CNN)\n",
      "\u001b[36m(ClientAppActor pid=49324)\u001b[0m 📁 Logs saved to: /home/emeka/PrivacyBench/logs/emissions/FL_CDP-SF_CNN/client_emissions.csv\n",
      "\u001b[36m(ClientAppActor pid=49324)\u001b[0m ⏱️ Total training time: 0 minutes 21 seconds\n",
      "\u001b[36m(ClientAppActor pid=49325)\u001b[0m \n",
      "\u001b[36m(ClientAppActor pid=49325)\u001b[0m 🔎 Tracker: FL + CDP-SF (CNN)\n",
      "\u001b[36m(ClientAppActor pid=49325)\u001b[0m 📁 Logs saved to: /home/emeka/PrivacyBench/logs/emissions/FL_CDP-SF_CNN/client_emissions.csv\n",
      "\u001b[36m(ClientAppActor pid=49325)\u001b[0m ⏱️ Total training time: 0 minutes 21 seconds\n"
     ]
    },
    {
     "name": "stderr",
     "output_type": "stream",
     "text": [
      "\u001b[36m(ClientAppActor pid=49324)\u001b[0m Seed set to 42\n",
      "\u001b[36m(ClientAppActor pid=49324)\u001b[0m /home/emeka/.local/share/uv/python/cpython-3.12.10-linux-x86_64-gnu/lib/python3.12/multiprocessing/popen_fork.py:66: DeprecationWarning: This process (pid=49324) is multi-threaded, use of fork() may lead to deadlocks in the child.\n",
      "\u001b[36m(ClientAppActor pid=49324)\u001b[0m   self.pid = os.fork()\n",
      "\u001b[33m(raylet)\u001b[0m [2025-05-04 23:16:41,814 E 47422 47458] (raylet) file_system_monitor.cc:111: /home/emeka/PrivacyBench/logs/ray/session_2025-05-04_23-01-38_915903_43171 is over 95% full, available space: 740003840; capacity: 52589998080. Object creation will fail if spilling is required.\n",
      "\u001b[33m(raylet)\u001b[0m [2025-05-04 23:16:51,823 E 47422 47458] (raylet) file_system_monitor.cc:111: /home/emeka/PrivacyBench/logs/ray/session_2025-05-04_23-01-38_915903_43171 is over 95% full, available space: 739860480; capacity: 52589998080. Object creation will fail if spilling is required.\n",
      "\u001b[92mINFO \u001b[0m:      aggregate_fit: received 3 results and 0 failures\n",
      "\u001b[92mINFO \u001b[0m:      aggregate_fit: parameters are clipped by value: 0.0048.\n"
     ]
    },
    {
     "name": "stdout",
     "output_type": "stream",
     "text": [
      "\u001b[36m(ClientAppActor pid=49324)\u001b[0m \n",
      "\u001b[36m(ClientAppActor pid=49324)\u001b[0m 🔎 Tracker: FL + CDP-SF (CNN)\n",
      "\u001b[36m(ClientAppActor pid=49324)\u001b[0m 📁 Logs saved to: /home/emeka/PrivacyBench/logs/emissions/FL_CDP-SF_CNN/client_emissions.csv\n",
      "\u001b[36m(ClientAppActor pid=49324)\u001b[0m ⏱️ Total training time: 0 minutes 20 seconds\n"
     ]
    },
    {
     "name": "stderr",
     "output_type": "stream",
     "text": [
      "\u001b[92mINFO \u001b[0m:      aggregate_fit: parameters are clipped by value: 0.0048.\n",
      "\u001b[92mINFO \u001b[0m:      aggregate_fit: parameters are clipped by value: 0.0048.\n",
      "\u001b[92mINFO \u001b[0m:      aggregate_fit: central DP noise with 0.0001 stdev added\n",
      "/home/emeka/.local/share/uv/python/cpython-3.12.10-linux-x86_64-gnu/lib/python3.12/multiprocessing/popen_fork.py:66: DeprecationWarning: This process (pid=43171) is multi-threaded, use of fork() may lead to deadlocks in the child.\n",
      "  self.pid = os.fork()\n",
      "\u001b[92mINFO \u001b[0m:      fit progress: (18, nan, {'accuracy': 0.134375}, 913.1080580439998)\n",
      "\u001b[92mINFO \u001b[0m:      configure_evaluate: strategy sampled 3 clients (out of 3)\n",
      "\u001b[36m(ClientAppActor pid=49325)\u001b[0m /home/emeka/.local/share/uv/python/cpython-3.12.10-linux-x86_64-gnu/lib/python3.12/multiprocessing/popen_fork.py:66: DeprecationWarning: This process (pid=49325) is multi-threaded, use of fork() may lead to deadlocks in the child.\n",
      "\u001b[36m(ClientAppActor pid=49325)\u001b[0m   self.pid = os.fork()\n",
      "\u001b[33m(raylet)\u001b[0m [2025-05-04 23:17:01,833 E 47422 47458] (raylet) file_system_monitor.cc:111: /home/emeka/PrivacyBench/logs/ray/session_2025-05-04_23-01-38_915903_43171 is over 95% full, available space: 739811328; capacity: 52589998080. Object creation will fail if spilling is required.\n",
      "\u001b[92mINFO \u001b[0m:      aggregate_evaluate: received 3 results and 0 failures\n",
      "\u001b[92mINFO \u001b[0m:      \n",
      "\u001b[92mINFO \u001b[0m:      [ROUND 19]\n",
      "\u001b[92mINFO \u001b[0m:      configure_fit: strategy sampled 3 clients (out of 3)\n",
      "\u001b[36m(ClientAppActor pid=49325)\u001b[0m Seed set to 42\n",
      "\u001b[36m(ClientAppActor pid=49324)\u001b[0m /home/emeka/.local/share/uv/python/cpython-3.12.10-linux-x86_64-gnu/lib/python3.12/multiprocessing/popen_fork.py:66: DeprecationWarning: This process (pid=49324) is multi-threaded, use of fork() may lead to deadlocks in the child.\u001b[32m [repeated 3x across cluster]\u001b[0m\n",
      "\u001b[36m(ClientAppActor pid=49324)\u001b[0m   self.pid = os.fork()\u001b[32m [repeated 3x across cluster]\u001b[0m\n",
      "\u001b[33m(raylet)\u001b[0m [2025-05-04 23:17:11,844 E 47422 47458] (raylet) file_system_monitor.cc:111: /home/emeka/PrivacyBench/logs/ray/session_2025-05-04_23-01-38_915903_43171 is over 95% full, available space: 739790848; capacity: 52589998080. Object creation will fail if spilling is required.\n",
      "\u001b[36m(ClientAppActor pid=49324)\u001b[0m Seed set to 42\n",
      "\u001b[33m(raylet)\u001b[0m [2025-05-04 23:17:21,855 E 47422 47458] (raylet) file_system_monitor.cc:111: /home/emeka/PrivacyBench/logs/ray/session_2025-05-04_23-01-38_915903_43171 is over 95% full, available space: 739753984; capacity: 52589998080. Object creation will fail if spilling is required.\n"
     ]
    },
    {
     "name": "stdout",
     "output_type": "stream",
     "text": [
      "\u001b[36m(ClientAppActor pid=49325)\u001b[0m \n",
      "\u001b[36m(ClientAppActor pid=49325)\u001b[0m 🔎 Tracker: FL + CDP-SF (CNN)\n",
      "\u001b[36m(ClientAppActor pid=49325)\u001b[0m 📁 Logs saved to: /home/emeka/PrivacyBench/logs/emissions/FL_CDP-SF_CNN/client_emissions.csv\n",
      "\u001b[36m(ClientAppActor pid=49325)\u001b[0m ⏱️ Total training time: 0 minutes 21 seconds\n",
      "\u001b[36m(ClientAppActor pid=49324)\u001b[0m \n"
     ]
    },
    {
     "name": "stderr",
     "output_type": "stream",
     "text": [
      "\u001b[36m(ClientAppActor pid=49325)\u001b[0m Seed set to 42\n",
      "\u001b[36m(ClientAppActor pid=49325)\u001b[0m /home/emeka/.local/share/uv/python/cpython-3.12.10-linux-x86_64-gnu/lib/python3.12/multiprocessing/popen_fork.py:66: DeprecationWarning: This process (pid=49325) is multi-threaded, use of fork() may lead to deadlocks in the child.\n",
      "\u001b[36m(ClientAppActor pid=49325)\u001b[0m   self.pid = os.fork()\n",
      "\u001b[33m(raylet)\u001b[0m [2025-05-04 23:17:31,866 E 47422 47458] (raylet) file_system_monitor.cc:111: /home/emeka/PrivacyBench/logs/ray/session_2025-05-04_23-01-38_915903_43171 is over 95% full, available space: 739749888; capacity: 52589998080. Object creation will fail if spilling is required.\n",
      "\u001b[33m(raylet)\u001b[0m [2025-05-04 23:17:41,875 E 47422 47458] (raylet) file_system_monitor.cc:111: /home/emeka/PrivacyBench/logs/ray/session_2025-05-04_23-01-38_915903_43171 is over 95% full, available space: 739696640; capacity: 52589998080. Object creation will fail if spilling is required.\n",
      "\u001b[92mINFO \u001b[0m:      aggregate_fit: received 3 results and 0 failures\n",
      "\u001b[92mINFO \u001b[0m:      aggregate_fit: parameters are clipped by value: 0.0039.\n"
     ]
    },
    {
     "name": "stdout",
     "output_type": "stream",
     "text": [
      "\u001b[36m(ClientAppActor pid=49325)\u001b[0m \n",
      "\u001b[36m(ClientAppActor pid=49325)\u001b[0m 🔎 Tracker: FL + CDP-SF (CNN)\u001b[32m [repeated 2x across cluster]\u001b[0m\n",
      "\u001b[36m(ClientAppActor pid=49325)\u001b[0m 📁 Logs saved to: /home/emeka/PrivacyBench/logs/emissions/FL_CDP-SF_CNN/client_emissions.csv\u001b[32m [repeated 2x across cluster]\u001b[0m\n",
      "\u001b[36m(ClientAppActor pid=49325)\u001b[0m ⏱️ Total training time: 0 minutes 21 seconds\u001b[32m [repeated 2x across cluster]\u001b[0m\n"
     ]
    },
    {
     "name": "stderr",
     "output_type": "stream",
     "text": [
      "\u001b[92mINFO \u001b[0m:      aggregate_fit: parameters are clipped by value: 0.0039.\n",
      "\u001b[92mINFO \u001b[0m:      aggregate_fit: parameters are clipped by value: 0.0039.\n",
      "\u001b[92mINFO \u001b[0m:      aggregate_fit: central DP noise with 0.0001 stdev added\n",
      "/home/emeka/.local/share/uv/python/cpython-3.12.10-linux-x86_64-gnu/lib/python3.12/multiprocessing/popen_fork.py:66: DeprecationWarning: This process (pid=43171) is multi-threaded, use of fork() may lead to deadlocks in the child.\n",
      "  self.pid = os.fork()\n",
      "\u001b[92mINFO \u001b[0m:      fit progress: (19, nan, {'accuracy': 0.134375}, 963.3472221769998)\n",
      "\u001b[92mINFO \u001b[0m:      configure_evaluate: strategy sampled 3 clients (out of 3)\n",
      "\u001b[36m(ClientAppActor pid=49325)\u001b[0m /home/emeka/.local/share/uv/python/cpython-3.12.10-linux-x86_64-gnu/lib/python3.12/multiprocessing/popen_fork.py:66: DeprecationWarning: This process (pid=49325) is multi-threaded, use of fork() may lead to deadlocks in the child.\n",
      "\u001b[36m(ClientAppActor pid=49325)\u001b[0m   self.pid = os.fork()\n",
      "\u001b[33m(raylet)\u001b[0m [2025-05-04 23:17:51,884 E 47422 47458] (raylet) file_system_monitor.cc:111: /home/emeka/PrivacyBench/logs/ray/session_2025-05-04_23-01-38_915903_43171 is over 95% full, available space: 739553280; capacity: 52589998080. Object creation will fail if spilling is required.\n",
      "\u001b[92mINFO \u001b[0m:      aggregate_evaluate: received 3 results and 0 failures\n",
      "\u001b[92mINFO \u001b[0m:      \n",
      "\u001b[92mINFO \u001b[0m:      [ROUND 20]\n",
      "\u001b[92mINFO \u001b[0m:      configure_fit: strategy sampled 3 clients (out of 3)\n",
      "\u001b[36m(ClientAppActor pid=49325)\u001b[0m Seed set to 42\n",
      "\u001b[36m(ClientAppActor pid=49324)\u001b[0m /home/emeka/.local/share/uv/python/cpython-3.12.10-linux-x86_64-gnu/lib/python3.12/multiprocessing/popen_fork.py:66: DeprecationWarning: This process (pid=49324) is multi-threaded, use of fork() may lead to deadlocks in the child.\u001b[32m [repeated 3x across cluster]\u001b[0m\n",
      "\u001b[36m(ClientAppActor pid=49324)\u001b[0m   self.pid = os.fork()\u001b[32m [repeated 3x across cluster]\u001b[0m\n",
      "\u001b[33m(raylet)\u001b[0m [2025-05-04 23:18:01,895 E 47422 47458] (raylet) file_system_monitor.cc:111: /home/emeka/PrivacyBench/logs/ray/session_2025-05-04_23-01-38_915903_43171 is over 95% full, available space: 739495936; capacity: 52589998080. Object creation will fail if spilling is required.\n",
      "\u001b[36m(ClientAppActor pid=49324)\u001b[0m Seed set to 42\n",
      "\u001b[33m(raylet)\u001b[0m [2025-05-04 23:18:11,907 E 47422 47458] (raylet) file_system_monitor.cc:111: /home/emeka/PrivacyBench/logs/ray/session_2025-05-04_23-01-38_915903_43171 is over 95% full, available space: 739426304; capacity: 52589998080. Object creation will fail if spilling is required.\n"
     ]
    },
    {
     "name": "stdout",
     "output_type": "stream",
     "text": [
      "\u001b[36m(ClientAppActor pid=49325)\u001b[0m \n",
      "\u001b[36m(ClientAppActor pid=49325)\u001b[0m 🔎 Tracker: FL + CDP-SF (CNN)\n",
      "\u001b[36m(ClientAppActor pid=49325)\u001b[0m 📁 Logs saved to: /home/emeka/PrivacyBench/logs/emissions/FL_CDP-SF_CNN/client_emissions.csv\n",
      "\u001b[36m(ClientAppActor pid=49325)\u001b[0m ⏱️ Total training time: 0 minutes 22 seconds\n",
      "\u001b[36m(ClientAppActor pid=49324)\u001b[0m \n",
      "\u001b[36m(ClientAppActor pid=49324)\u001b[0m 🔎 Tracker: FL + CDP-SF (CNN)\n",
      "\u001b[36m(ClientAppActor pid=49324)\u001b[0m 📁 Logs saved to: /home/emeka/PrivacyBench/logs/emissions/FL_CDP-SF_CNN/client_emissions.csv\n",
      "\u001b[36m(ClientAppActor pid=49324)\u001b[0m ⏱️ Total training time: 0 minutes 22 seconds\n"
     ]
    },
    {
     "name": "stderr",
     "output_type": "stream",
     "text": [
      "\u001b[36m(ClientAppActor pid=49325)\u001b[0m Seed set to 42\n",
      "\u001b[36m(ClientAppActor pid=49325)\u001b[0m /home/emeka/.local/share/uv/python/cpython-3.12.10-linux-x86_64-gnu/lib/python3.12/multiprocessing/popen_fork.py:66: DeprecationWarning: This process (pid=49325) is multi-threaded, use of fork() may lead to deadlocks in the child.\n",
      "\u001b[36m(ClientAppActor pid=49325)\u001b[0m   self.pid = os.fork()\n",
      "\u001b[33m(raylet)\u001b[0m [2025-05-04 23:18:21,918 E 47422 47458] (raylet) file_system_monitor.cc:111: /home/emeka/PrivacyBench/logs/ray/session_2025-05-04_23-01-38_915903_43171 is over 95% full, available space: 739303424; capacity: 52589998080. Object creation will fail if spilling is required.\n",
      "\u001b[33m(raylet)\u001b[0m [2025-05-04 23:18:31,930 E 47422 47458] (raylet) file_system_monitor.cc:111: /home/emeka/PrivacyBench/logs/ray/session_2025-05-04_23-01-38_915903_43171 is over 95% full, available space: 739299328; capacity: 52589998080. Object creation will fail if spilling is required.\n",
      "\u001b[92mINFO \u001b[0m:      aggregate_fit: received 3 results and 0 failures\n",
      "\u001b[92mINFO \u001b[0m:      aggregate_fit: parameters are clipped by value: 0.0033.\n"
     ]
    },
    {
     "name": "stdout",
     "output_type": "stream",
     "text": [
      "\u001b[36m(ClientAppActor pid=49325)\u001b[0m \n",
      "\u001b[36m(ClientAppActor pid=49325)\u001b[0m 🔎 Tracker: FL + CDP-SF (CNN)\n",
      "\u001b[36m(ClientAppActor pid=49325)\u001b[0m 📁 Logs saved to: /home/emeka/PrivacyBench/logs/emissions/FL_CDP-SF_CNN/client_emissions.csv\n",
      "\u001b[36m(ClientAppActor pid=49325)\u001b[0m ⏱️ Total training time: 0 minutes 21 seconds\n"
     ]
    },
    {
     "name": "stderr",
     "output_type": "stream",
     "text": [
      "\u001b[92mINFO \u001b[0m:      aggregate_fit: parameters are clipped by value: 0.0033.\n",
      "\u001b[92mINFO \u001b[0m:      aggregate_fit: parameters are clipped by value: 0.0033.\n",
      "\u001b[92mINFO \u001b[0m:      aggregate_fit: central DP noise with 0.0001 stdev added\n",
      "/home/emeka/.local/share/uv/python/cpython-3.12.10-linux-x86_64-gnu/lib/python3.12/multiprocessing/popen_fork.py:66: DeprecationWarning: This process (pid=43171) is multi-threaded, use of fork() may lead to deadlocks in the child.\n",
      "  self.pid = os.fork()\n",
      "\u001b[33m(raylet)\u001b[0m [2025-05-04 23:18:41,940 E 47422 47458] (raylet) file_system_monitor.cc:111: /home/emeka/PrivacyBench/logs/ray/session_2025-05-04_23-01-38_915903_43171 is over 95% full, available space: 739180544; capacity: 52589998080. Object creation will fail if spilling is required.\n"
     ]
    },
    {
     "name": "stdout",
     "output_type": "stream",
     "text": [
      "\n",
      " ___________________________________________________________________________________________________\n",
      "ExperimentName.FL_CDP_SF_CNN Model Final Evaluation \n",
      "\n",
      "Test Accuracy: 13.44% | Precision: 0.02 | Recall: 0.13 | F1-Score: 0.03 | ROC-AUC: 0.50 | MCC: 0.00\n",
      " \n"
     ]
    },
    {
     "data": {
      "image/png": "[encoded data removed]",
      "text/plain": [
       "<Figure size 1500x600 with 2 Axes>"
      ]
     },
     "metadata": {},
     "output_type": "display_data"
    },
    {
     "name": "stdout",
     "output_type": "stream",
     "text": [
      "\n",
      " ___________________________________________________________________________________________________\n",
      "ExperimentName.FL_CDP_SF_CNN Model Classification Report\n",
      "              precision    recall  f1-score   support\n",
      "\n",
      "           0       0.13      1.00      0.24       172\n",
      "           1       0.00      0.00      0.00        15\n",
      "           2       0.00      0.00      0.00       634\n",
      "           3       0.00      0.00      0.00       459\n",
      "\n",
      "    accuracy                           0.13      1280\n",
      "   macro avg       0.03      0.25      0.06      1280\n",
      "weighted avg       0.02      0.13      0.03      1280\n",
      "\n",
      "___________________________________________________________________________________________________\n",
      "\n",
      "📊 Consolidated Metrics:\n",
      "⏱️ Total Duration: 1317.10 sec\n",
      "✅ Total Energy: 0.05260 kWh\n",
      "🌍 Total CO₂ Emitted: 0.02262 kg\n",
      "🧠 Peak CPU RAM: 0.00 GB\n",
      "🖥️ Peak GPU VRAM: 0.97 GB\n",
      "\n",
      " ___________________________________________________________________________________________________\n"
     ]
    },
    {
     "name": "stderr",
     "output_type": "stream",
     "text": [
      "/home/emeka/PrivacyBench/.venv/lib/python3.12/site-packages/sklearn/metrics/_classification.py:1565: UndefinedMetricWarning: Precision is ill-defined and being set to 0.0 in labels with no predicted samples. Use `zero_division` parameter to control this behavior.\n",
      "  _warn_prf(average, modifier, f\"{metric.capitalize()} is\", len(result))\n",
      "/home/emeka/PrivacyBench/.venv/lib/python3.12/site-packages/sklearn/metrics/_classification.py:1565: UndefinedMetricWarning: Precision is ill-defined and being set to 0.0 in labels with no predicted samples. Use `zero_division` parameter to control this behavior.\n",
      "  _warn_prf(average, modifier, f\"{metric.capitalize()} is\", len(result))\n",
      "/home/emeka/PrivacyBench/.venv/lib/python3.12/site-packages/sklearn/metrics/_classification.py:1565: UndefinedMetricWarning: Precision is ill-defined and being set to 0.0 in labels with no predicted samples. Use `zero_division` parameter to control this behavior.\n",
      "  _warn_prf(average, modifier, f\"{metric.capitalize()} is\", len(result))\n",
      "/home/emeka/PrivacyBench/.venv/lib/python3.12/site-packages/codecarbon/output_methods/file.py:52: FutureWarning: The behavior of DataFrame concatenation with empty or all-NA entries is deprecated. In a future version, this will no longer exclude empty or all-NA columns when determining the result dtypes. To retain the old behavior, exclude the relevant entries before the concat operation.\n",
      "  df = pd.concat([df, pd.DataFrame.from_records([dict(total.values)])])\n",
      "\u001b[92mINFO \u001b[0m:      fit progress: (20, nan, {'accuracy': 0.134375}, 1017.1034196360001)\n",
      "\u001b[92mINFO \u001b[0m:      configure_evaluate: strategy sampled 3 clients (out of 3)\n",
      "\u001b[36m(ClientAppActor pid=49325)\u001b[0m /home/emeka/.local/share/uv/python/cpython-3.12.10-linux-x86_64-gnu/lib/python3.12/multiprocessing/popen_fork.py:66: DeprecationWarning: This process (pid=49325) is multi-threaded, use of fork() may lead to deadlocks in the child.\n",
      "\u001b[36m(ClientAppActor pid=49325)\u001b[0m   self.pid = os.fork()\n",
      "\u001b[92mINFO \u001b[0m:      aggregate_evaluate: received 3 results and 0 failures\n",
      "\u001b[92mINFO \u001b[0m:      \n",
      "\u001b[92mINFO \u001b[0m:      [SUMMARY]\n",
      "\u001b[92mINFO \u001b[0m:      Run finished 20 round(s) in 1019.34s\n",
      "\u001b[92mINFO \u001b[0m:      \tHistory (loss, distributed):\n",
      "\u001b[92mINFO \u001b[0m:      \t\tround 1: nan\n",
      "\u001b[92mINFO \u001b[0m:      \t\tround 2: nan\n",
      "\u001b[92mINFO \u001b[0m:      \t\tround 3: nan\n",
      "\u001b[92mINFO \u001b[0m:      \t\tround 4: nan\n",
      "\u001b[92mINFO \u001b[0m:      \t\tround 5: nan\n",
      "\u001b[92mINFO \u001b[0m:      \t\tround 6: nan\n",
      "\u001b[92mINFO \u001b[0m:      \t\tround 7: nan\n",
      "\u001b[92mINFO \u001b[0m:      \t\tround 8: nan\n",
      "\u001b[92mINFO \u001b[0m:      \t\tround 9: nan\n",
      "\u001b[92mINFO \u001b[0m:      \t\tround 10: nan\n",
      "\u001b[92mINFO \u001b[0m:      \t\tround 11: nan\n",
      "\u001b[92mINFO \u001b[0m:      \t\tround 12: nan\n",
      "\u001b[92mINFO \u001b[0m:      \t\tround 13: nan\n",
      "\u001b[92mINFO \u001b[0m:      \t\tround 14: nan\n",
      "\u001b[92mINFO \u001b[0m:      \t\tround 15: nan\n",
      "\u001b[92mINFO \u001b[0m:      \t\tround 16: nan\n",
      "\u001b[92mINFO \u001b[0m:      \t\tround 17: nan\n",
      "\u001b[92mINFO \u001b[0m:      \t\tround 18: nan\n",
      "\u001b[92mINFO \u001b[0m:      \t\tround 19: nan\n",
      "\u001b[92mINFO \u001b[0m:      \t\tround 20: nan\n",
      "\u001b[92mINFO \u001b[0m:      \tHistory (loss, centralized):\n",
      "\u001b[92mINFO \u001b[0m:      \t\tround 0: 1.3695836246013642\n",
      "\u001b[92mINFO \u001b[0m:      \t\tround 1: nan\n",
      "\u001b[92mINFO \u001b[0m:      \t\tround 2: nan\n",
      "\u001b[92mINFO \u001b[0m:      \t\tround 3: nan\n",
      "\u001b[92mINFO \u001b[0m:      \t\tround 4: nan\n",
      "\u001b[92mINFO \u001b[0m:      \t\tround 5: nan\n",
      "\u001b[92mINFO \u001b[0m:      \t\tround 6: nan\n",
      "\u001b[92mINFO \u001b[0m:      \t\tround 7: nan\n",
      "\u001b[92mINFO \u001b[0m:      \t\tround 8: nan\n",
      "\u001b[92mINFO \u001b[0m:      \t\tround 9: nan\n",
      "\u001b[92mINFO \u001b[0m:      \t\tround 10: nan\n",
      "\u001b[92mINFO \u001b[0m:      \t\tround 11: nan\n",
      "\u001b[92mINFO \u001b[0m:      \t\tround 12: nan\n",
      "\u001b[92mINFO \u001b[0m:      \t\tround 13: nan\n",
      "\u001b[92mINFO \u001b[0m:      \t\tround 14: nan\n",
      "\u001b[92mINFO \u001b[0m:      \t\tround 15: nan\n",
      "\u001b[92mINFO \u001b[0m:      \t\tround 16: nan\n",
      "\u001b[92mINFO \u001b[0m:      \t\tround 17: nan\n",
      "\u001b[92mINFO \u001b[0m:      \t\tround 18: nan\n",
      "\u001b[92mINFO \u001b[0m:      \t\tround 19: nan\n",
      "\u001b[92mINFO \u001b[0m:      \t\tround 20: nan\n",
      "\u001b[92mINFO \u001b[0m:      \tHistory (metrics, distributed, evaluate):\n",
      "\u001b[92mINFO \u001b[0m:      \t{'accuracy': [(1, 0.1411192214111922),\n",
      "\u001b[92mINFO \u001b[0m:      \t              (2, 0.1411192214111922),\n",
      "\u001b[92mINFO \u001b[0m:      \t              (3, 0.1411192214111922),\n",
      "\u001b[92mINFO \u001b[0m:      \t              (4, 0.1411192214111922),\n",
      "\u001b[92mINFO \u001b[0m:      \t              (5, 0.1411192214111922),\n",
      "\u001b[92mINFO \u001b[0m:      \t              (6, 0.1411192214111922),\n",
      "\u001b[92mINFO \u001b[0m:      \t              (7, 0.1411192214111922),\n",
      "\u001b[92mINFO \u001b[0m:      \t              (8, 0.1411192214111922),\n",
      "\u001b[92mINFO \u001b[0m:      \t              (9, 0.1411192214111922),\n",
      "\u001b[92mINFO \u001b[0m:      \t              (10, 0.1411192214111922),\n",
      "\u001b[92mINFO \u001b[0m:      \t              (11, 0.1411192214111922),\n",
      "\u001b[92mINFO \u001b[0m:      \t              (12, 0.1411192214111922),\n",
      "\u001b[92mINFO \u001b[0m:      \t              (13, 0.1411192214111922),\n",
      "\u001b[92mINFO \u001b[0m:      \t              (14, 0.1411192214111922),\n",
      "\u001b[92mINFO \u001b[0m:      \t              (15, 0.1411192214111922),\n",
      "\u001b[92mINFO \u001b[0m:      \t              (16, 0.1411192214111922),\n",
      "\u001b[92mINFO \u001b[0m:      \t              (17, 0.1411192214111922),\n",
      "\u001b[92mINFO \u001b[0m:      \t              (18, 0.1411192214111922),\n",
      "\u001b[92mINFO \u001b[0m:      \t              (19, 0.1411192214111922),\n",
      "\u001b[92mINFO \u001b[0m:      \t              (20, 0.1411192214111922)]}\n",
      "\u001b[92mINFO \u001b[0m:      \tHistory (metrics, centralized):\n",
      "\u001b[92mINFO \u001b[0m:      \t{'accuracy': [(0, 0.32265625),\n",
      "\u001b[92mINFO \u001b[0m:      \t              (1, 0.134375),\n",
      "\u001b[92mINFO \u001b[0m:      \t              (2, 0.134375),\n",
      "\u001b[92mINFO \u001b[0m:      \t              (3, 0.134375),\n",
      "\u001b[92mINFO \u001b[0m:      \t              (4, 0.134375),\n",
      "\u001b[92mINFO \u001b[0m:      \t              (5, 0.134375),\n",
      "\u001b[92mINFO \u001b[0m:      \t              (6, 0.134375),\n",
      "\u001b[92mINFO \u001b[0m:      \t              (7, 0.134375),\n",
      "\u001b[92mINFO \u001b[0m:      \t              (8, 0.134375),\n",
      "\u001b[92mINFO \u001b[0m:      \t              (9, 0.134375),\n",
      "\u001b[92mINFO \u001b[0m:      \t              (10, 0.134375),\n",
      "\u001b[92mINFO \u001b[0m:      \t              (11, 0.134375),\n",
      "\u001b[92mINFO \u001b[0m:      \t              (12, 0.134375),\n",
      "\u001b[92mINFO \u001b[0m:      \t              (13, 0.134375),\n",
      "\u001b[92mINFO \u001b[0m:      \t              (14, 0.134375),\n",
      "\u001b[92mINFO \u001b[0m:      \t              (15, 0.134375),\n",
      "\u001b[92mINFO \u001b[0m:      \t              (16, 0.134375),\n",
      "\u001b[92mINFO \u001b[0m:      \t              (17, 0.134375),\n",
      "\u001b[92mINFO \u001b[0m:      \t              (18, 0.134375),\n",
      "\u001b[92mINFO \u001b[0m:      \t              (19, 0.134375),\n",
      "\u001b[92mINFO \u001b[0m:      \t              (20, 0.134375)]}\n",
      "\u001b[92mINFO \u001b[0m:      \n",
      "\u001b[36m(ClientAppActor pid=49324)\u001b[0m /home/emeka/.local/share/uv/python/cpython-3.12.10-linux-x86_64-gnu/lib/python3.12/multiprocessing/popen_fork.py:66: DeprecationWarning: This process (pid=49324) is multi-threaded, use of fork() may lead to deadlocks in the child.\n",
      "\u001b[36m(ClientAppActor pid=49324)\u001b[0m   self.pid = os.fork()\n"
     ]
    },
    {
     "name": "stdout",
     "output_type": "stream",
     "text": [
      "\n",
      "🕒 Total Time: 17 min 7 sec\n"
     ]
    }
   ],
   "source": [
    "project_root =  os.path.abspath(\"../..\")\n",
    "\n",
    "ray.shutdown()\n",
    "\n",
    "ray.init(\n",
    "    _temp_dir=str(RAY_LOG_DIR),\n",
    "    runtime_env={\n",
    "        \"env_vars\": {\n",
    "            \"PYTHONWARNINGS\": \"ignore::DeprecationWarning\",  # More specific warning filter\n",
    "            \"OMP_NUM_THREADS\": \"1\"  # Prevents thread oversubscription\n",
    "        },\n",
    "        \"working_dir\": project_root,\n",
    "        'excludes': ['data', '.cache', '.docker', '.local', 'logs/model']\n",
    "    },\n",
    "    ignore_reinit_error=True\n",
    ")\n",
    "\n",
    "start_time = time.perf_counter()\n",
    "\n",
    "run_simulation(\n",
    "    server_app = server,\n",
    "    client_app = client,\n",
    "    num_supernodes = fed_config.get(\"num_clients\"),\n",
    "    backend_config=backend_setup\n",
    ")\n",
    "\n",
    "\n",
    "end_time = time.perf_counter()\n",
    "duration = end_time - start_time\n",
    "print(f\"\\n🕒 Total Time: {duration // 60:.0f} min {duration % 60:.0f} sec\")\n",
    "\n",
    "ray.shutdown()"
   ]
  },
  {
   "cell_type": "code",
   "execution_count": null,
   "id": "9159caf3",
   "metadata": {},
   "outputs": [],
   "source": []
  }
 ],
 "metadata": {
  "kernelspec": {
   "display_name": ".venv",
   "language": "python",
   "name": "python3"
  },
  "language_info": {
   "codemirror_mode": {
    "name": "ipython",
    "version": 3
   },
   "file_extension": ".py",
   "mimetype": "text/x-python",
   "name": "python",
   "nbconvert_exporter": "python",
   "pygments_lexer": "ipython3",
   "version": "3.12.10"
  }
 },
 "nbformat": 4,
 "nbformat_minor": 5
}
