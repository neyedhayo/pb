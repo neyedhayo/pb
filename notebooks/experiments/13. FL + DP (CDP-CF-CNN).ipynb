{
 "cells": [
  {
   "cell_type": "markdown",
   "id": "7e1b301f",
   "metadata": {},
   "source": [
    "# Central Differential Privacy (Client-Side Clipping)\n",
    "\n"
   ]
  },
  {
   "cell_type": "markdown",
   "id": "687bb48d",
   "metadata": {},
   "source": [
    "Central Differential Privacy (Client-Side Clipping) is a setup where the clipping of model updates happens on each client before sending the updates to the central server. After collecting all the clipped updates, the server aggregates them and adds noise centrally to enforce differential privacy.\n",
    "\n",
    "In this setup:\n",
    "\n",
    "- Clipping happens locally on the client — helping reduce the influence of outlier updates early.\n",
    "\n",
    "- Noise is added by the server — simplifying coordination of privacy guarantees.\n",
    "\n",
    "The specific strategy used here is:\n",
    "\n",
    "## CNN: DifferentialPrivacyClientSideFixedClipping\n",
    "\n",
    "This strategy enforces a fixed clipping norm on all clients before updates are sent, ensuring consistency across client contributions and helping the server apply a uniform DP guarantee during aggregation.\n",
    "\n",
    "<br><p>\n",
    "\n",
    "----"
   ]
  },
  {
   "cell_type": "code",
   "execution_count": 2,
   "id": "6c3a536b",
   "metadata": {},
   "outputs": [
    {
     "name": "stdout",
     "output_type": "stream",
     "text": [
      "Python implementation: CPython\n",
      "Python version       : 3.12.10\n",
      "IPython version      : 9.1.0\n",
      "\n",
      "torch: 2.6.0\n",
      "flwr : 1.18.0\n",
      "\n"
     ]
    }
   ],
   "source": [
    "%load_ext autoreload\n",
    "%load_ext watermark\n",
    "    \n",
    "%autoreload 2\n",
    "%watermark --python -p torch,flwr"
   ]
  },
  {
   "cell_type": "markdown",
   "id": "bff3cec7",
   "metadata": {},
   "source": [
    "--------\n",
    "\n",
    "## Loading Dependencies"
   ]
  },
  {
   "cell_type": "code",
   "execution_count": null,
   "id": "f77c08b4",
   "metadata": {},
   "outputs": [],
   "source": [
    "import os\n",
    "import sys\n",
    "sys.path.append(\"../\")\n",
    "\n",
    "import ray\n",
    "import time\n",
    "\n",
    "import torch.nn as nn\n",
    "from torchvision.models import resnet18, ResNet18_Weights\n",
    "\n",
    "from logging import ERROR\n",
    "\n",
    "from flwr.common import ndarrays_to_parameters, Context \n",
    "from flwr.client import Client, ClientApp\n",
    "from flwr.client.mod import fixedclipping_mod\n",
    "from flwr.server import ServerApp, ServerConfig, ServerAppComponents\n",
    "from flwr.server.strategy import DifferentialPrivacyClientSideFixedClipping, FedAvg\n",
    "from flwr.simulation import run_simulation\n",
    "\n",
    "from src.config import ExperimentName\n",
    "from src.paths import RAY_LOG_DIR\n",
    "from src.FL_client import MedicalImageClient\n",
    "from src.FL_server import weighted_average, build_evaluate_fn\n",
    "from src.local_utility import load_yaml_config, set_device, prepare_FL_dataset, get_weights\n",
    "\n",
    "from src.tracker import reset_base_memory_csv"
   ]
  },
  {
   "cell_type": "code",
   "execution_count": null,
   "id": "b87faae4",
   "metadata": {},
   "outputs": [],
   "source": [
    "# Replace with appropritate values\n",
    "\n",
    "data_name_ = 'alzheimer' #\"skin_lesions\" #\n",
    "base_type_ = \"CNN\"           \n",
    "exp_name_ = \"CDP-CF\"\n",
    "num_labels_ = 4\n",
    "experiment_name_ = ExperimentName.FL_CDP_CF_CNN"
   ]
  },
  {
   "cell_type": "code",
   "execution_count": null,
   "id": "59fa6ab0",
   "metadata": {},
   "outputs": [],
   "source": [
    "DEVICE = set_device()\n",
    "reset_base_memory_csv() \n",
    "\n",
    "fed_config = load_yaml_config(key=\"experiments\", item_name=experiment_name_)\n",
    "client_dataloaders = prepare_FL_dataset(exp_name= exp_name_, data_name=data_name_, base_type=base_type_, augment_data=True)"
   ]
  },
  {
   "cell_type": "code",
   "execution_count": null,
   "id": "e5ade3f4",
   "metadata": {},
   "outputs": [],
   "source": [
    "def client_fn(context: Context) -> Client:\n",
    "    \"\"\"\n",
    "    Creates and initializes a federated learning client.\n",
    "\n",
    "    This function initializes a client in the federated learning setup by \n",
    "    assigning a unique partitioned dataset and a machine learning model \n",
    "    for training and validation.\n",
    "\n",
    "    Args:\n",
    "        context (Context): The execution context containing client-specific configurations.\n",
    "\n",
    "    Returns:\n",
    "        Client: A configured federated learning client ready to participate in training.\n",
    "    \"\"\"\n",
    "    partition_id = int(context.node_config[\"partition-id\"]) #<--- Get the client partition ID\n",
    "    \n",
    "    model = resnet18(weights=ResNet18_Weights.IMAGENET1K_V1)\n",
    "    model.fc = nn.Linear(in_features=model.fc.in_features, out_features=num_labels_)\n",
    "\n",
    "    # Assign partitioned client dataset\n",
    "    train_loader, val_loader, test_loader = client_dataloaders[partition_id]\n",
    "    \n",
    "    return MedicalImageClient(model, train_loader, val_loader, exp_name=exp_name_, data_name = data_name_, base_type=base_type_, client_id=partition_id).to_client()\n",
    "\n",
    "client = ClientApp(client_fn, mods=[fixedclipping_mod])"
   ]
  },
  {
   "cell_type": "code",
   "execution_count": null,
   "id": "14cd070c",
   "metadata": {},
   "outputs": [],
   "source": [
    "def server_fn(context: Context):\n",
    "    \"\"\"\n",
    "    Creates and configures the federated learning server using the FedAvg strategy.\n",
    "\n",
    "    This function initializes the federated learning server with a FedAvg strategy,\n",
    "    specifying the parameters for client participation in training and evaluation,\n",
    "    the global model evaluation function, and the metric aggregation function.\n",
    "\n",
    "    Args:\n",
    "        context (Context): The execution context for the federated learning server.\n",
    "\n",
    "    Returns:\n",
    "        ServerAppComponents: A configured server application with the defined strategy\n",
    "        and server settings.\n",
    "    \"\"\"\n",
    "    model = resnet18(weights=ResNet18_Weights.IMAGENET1K_V1)\n",
    "    model.fc = nn.Linear(in_features=model.fc.in_features, out_features=num_labels_)\n",
    "    params = ndarrays_to_parameters(get_weights(model))\n",
    "    \n",
    "    # Create FedAvg strategy\n",
    "    strategy = FedAvg(\n",
    "        fraction_fit=1.0,                 #<--- Sample 100% of available clients for training\n",
    "        fraction_evaluate=1.0,            #<--- Sample 100% of available clients for evaluation\n",
    "        initial_parameters=params,        #<--- Initial model parameters\n",
    "        evaluate_fn=build_evaluate_fn(    #<--- Global evaluation function\n",
    "            exp_name = exp_name_, \n",
    "            base_type = base_type_,\n",
    "            data_name=data_name_, \n",
    "            experiment_item=experiment_name_, \n",
    "            num_labels=num_labels_\n",
    "            ),\n",
    "        evaluate_metrics_aggregation_fn=weighted_average,  #<-- pass the metric aggregation function\n",
    "    )\n",
    "    \n",
    "    # Wrap the strategy with the DifferentialPrivacyServerSideFixedClipping wrapper\n",
    "    dp_strategy = DifferentialPrivacyClientSideFixedClipping(\n",
    "        strategy= strategy,\n",
    "        noise_multiplier= 0.0, #0.001,\n",
    "        num_sampled_clients=fed_config.get(\"num_clients\"),\n",
    "        clipping_norm=500.5 #1e-4\n",
    "        )\n",
    "    \n",
    "    # Configure the server with the specified number of federated rounds\n",
    "    sever_config = ServerConfig(num_rounds=fed_config['num_rounds'])\n",
    "    \n",
    "    return ServerAppComponents(strategy = dp_strategy, config = sever_config)\n",
    "\n",
    "# Wrap the server function in a ServerApp, and instantiate it\n",
    "server = ServerApp(server_fn = server_fn) "
   ]
  },
  {
   "cell_type": "markdown",
   "id": "ba5d26d9",
   "metadata": {},
   "source": [
    "----- \n",
    "\n",
    "Set up our backend configurations before running the simulation\n",
    "\n",
    "> - `init_args`: filter logging coming from the Simulation Engine so it's more readable in notebooks\n",
    "> - `client_resources`: by default, allocate to each client 1x CPU and 0x GPUs. However, when running on GPU, assign an entire GPU for each client"
   ]
  },
  {
   "cell_type": "code",
   "execution_count": 7,
   "id": "f4c4078a",
   "metadata": {},
   "outputs": [],
   "source": [
    "backend_setup = {\n",
    "    \"init_args\": {\n",
    "        \"logging_level\": ERROR, \n",
    "        \"log_to_driver\": fed_config.get(\"log_to_driver\")\n",
    "    },\n",
    "    \"client_resources\": {\n",
    "        \"num_cpus\": fed_config.get(\"num_cpus\"), \n",
    "        \"num_gpus\": fed_config.get(\"num_gpus\")            \n",
    "    },\n",
    "}\n",
    "\n",
    "# When running on GPU, assign an entire GPU for each client\n",
    "if DEVICE == \"cuda\": \n",
    "    backend_setup[\"client_resources\"] = {\"num_cpus\": 1, \"num_gpus\": 1.0}"
   ]
  },
  {
   "cell_type": "markdown",
   "id": "7f0961fb",
   "metadata": {},
   "source": [
    "--- \n",
    "\n",
    "## Initiate the Simulation \n",
    "\n",
    "Initiate the simulation by passing the server and client apps, and specify the number of supernodes that will be selected on every round. "
   ]
  },
  {
   "cell_type": "code",
   "execution_count": null,
   "id": "5bbc919b",
   "metadata": {},
   "outputs": [
    {
     "name": "stderr",
     "output_type": "stream",
     "text": [
      "2025-05-06 17:52:44,770\tINFO worker.py:1771 -- Started a local Ray instance.\n",
      "2025-05-06 17:52:45,258\tINFO packaging.py:530 -- Creating a file package for local directory '/home/emeka/PrivacyBench'.\n",
      "2025-05-06 17:52:45,818\tINFO packaging.py:358 -- Pushing file package 'gcs://_ray_pkg_34b941e43a8f6fc6.zip' (17.99MiB) to Ray cluster...\n",
      "2025-05-06 17:52:45,874\tINFO packaging.py:371 -- Successfully pushed file package 'gcs://_ray_pkg_34b941e43a8f6fc6.zip'.\n",
      "\u001b[92mINFO \u001b[0m:      Starting Flower ServerApp, config: num_rounds=5, no round_timeout\n",
      "\u001b[92mINFO \u001b[0m:      \n",
      "\u001b[92mINFO \u001b[0m:      [INIT]\n",
      "\u001b[92mINFO \u001b[0m:      Using initial global parameters provided by strategy\n",
      "\u001b[92mINFO \u001b[0m:      Starting evaluation of initial global parameters\n",
      "/home/emeka/.local/share/uv/python/cpython-3.12.10-linux-x86_64-gnu/lib/python3.12/multiprocessing/popen_fork.py:66: DeprecationWarning: This process (pid=95096) is multi-threaded, use of fork() may lead to deadlocks in the child.\n",
      "  self.pid = os.fork()\n",
      "\u001b[92mINFO \u001b[0m:      initial parameters (loss, other metrics): 1.7335564613342285, {'accuracy': 0.28203125}\n",
      "\u001b[92mINFO \u001b[0m:      \n",
      "\u001b[92mINFO \u001b[0m:      [ROUND 1]\n",
      "\u001b[92mINFO \u001b[0m:      configure_fit: strategy sampled 3 clients (out of 3)\n",
      "\u001b[33m(raylet)\u001b[0m [2025-05-06 17:52:54,656 E 113297 113332] (raylet) file_system_monitor.cc:111: /home/emeka/PrivacyBench/logs/ray/session_2025-05-06_17-52-42_619310_95096 is over 95% full, available space: 745144320; capacity: 52589998080. Object creation will fail if spilling is required.\n",
      "\u001b[36m(ClientAppActor pid=115201)\u001b[0m Seed set to 42\n",
      "\u001b[36m(ClientAppActor pid=115201)\u001b[0m [codecarbon WARNING @ 17:52:59] Multiple instances of codecarbon are allowed to run at the same time.\n",
      "\u001b[36m(ClientAppActor pid=115201)\u001b[0m /home/emeka/.local/share/uv/python/cpython-3.12.10-linux-x86_64-gnu/lib/python3.12/multiprocessing/popen_fork.py:66: DeprecationWarning: This process (pid=115201) is multi-threaded, use of fork() may lead to deadlocks in the child.\n",
      "\u001b[36m(ClientAppActor pid=115201)\u001b[0m   self.pid = os.fork()\n",
      "\u001b[33m(raylet)\u001b[0m [2025-05-06 17:53:04,668 E 113297 113332] (raylet) file_system_monitor.cc:111: /home/emeka/PrivacyBench/logs/ray/session_2025-05-06_17-52-42_619310_95096 is over 95% full, available space: 721911808; capacity: 52589998080. Object creation will fail if spilling is required.\n",
      "\u001b[36m(ClientAppActor pid=115202)\u001b[0m Seed set to 42\n",
      "\u001b[36m(ClientAppActor pid=115202)\u001b[0m [codecarbon WARNING @ 17:52:59] Multiple instances of codecarbon are allowed to run at the same time.\n",
      "\u001b[36m(ClientAppActor pid=115202)\u001b[0m /home/emeka/.local/share/uv/python/cpython-3.12.10-linux-x86_64-gnu/lib/python3.12/multiprocessing/popen_fork.py:66: DeprecationWarning: This process (pid=115202) is multi-threaded, use of fork() may lead to deadlocks in the child.\n",
      "\u001b[36m(ClientAppActor pid=115202)\u001b[0m   self.pid = os.fork()\n",
      "\u001b[33m(raylet)\u001b[0m [2025-05-06 17:53:14,677 E 113297 113332] (raylet) file_system_monitor.cc:111: /home/emeka/PrivacyBench/logs/ray/session_2025-05-06_17-52-42_619310_95096 is over 95% full, available space: 721727488; capacity: 52589998080. Object creation will fail if spilling is required.\n",
      "\u001b[33m(raylet)\u001b[0m [2025-05-06 17:53:24,688 E 113297 113332] (raylet) file_system_monitor.cc:111: /home/emeka/PrivacyBench/logs/ray/session_2025-05-06_17-52-42_619310_95096 is over 95% full, available space: 721686528; capacity: 52589998080. Object creation will fail if spilling is required.\n",
      "\u001b[33m(raylet)\u001b[0m [2025-05-06 17:53:34,698 E 113297 113332] (raylet) file_system_monitor.cc:111: /home/emeka/PrivacyBench/logs/ray/session_2025-05-06_17-52-42_619310_95096 is over 95% full, available space: 721633280; capacity: 52589998080. Object creation will fail if spilling is required.\n",
      "\u001b[33m(raylet)\u001b[0m [2025-05-06 17:53:44,708 E 113297 113332] (raylet) file_system_monitor.cc:111: /home/emeka/PrivacyBench/logs/ray/session_2025-05-06_17-52-42_619310_95096 is over 95% full, available space: 721641472; capacity: 52589998080. Object creation will fail if spilling is required.\n",
      "\u001b[33m(raylet)\u001b[0m [2025-05-06 17:53:54,718 E 113297 113332] (raylet) file_system_monitor.cc:111: /home/emeka/PrivacyBench/logs/ray/session_2025-05-06_17-52-42_619310_95096 is over 95% full, available space: 721498112; capacity: 52589998080. Object creation will fail if spilling is required.\n",
      "\u001b[33m(raylet)\u001b[0m [2025-05-06 17:54:04,727 E 113297 113332] (raylet) file_system_monitor.cc:111: /home/emeka/PrivacyBench/logs/ray/session_2025-05-06_17-52-42_619310_95096 is over 95% full, available space: 721305600; capacity: 52589998080. Object creation will fail if spilling is required.\n",
      "\u001b[33m(raylet)\u001b[0m [2025-05-06 17:54:14,738 E 113297 113332] (raylet) file_system_monitor.cc:111: /home/emeka/PrivacyBench/logs/ray/session_2025-05-06_17-52-42_619310_95096 is over 95% full, available space: 721264640; capacity: 52589998080. Object creation will fail if spilling is required.\n",
      "\u001b[36m(ClientAppActor pid=115201)\u001b[0m /home/emeka/.local/share/uv/python/cpython-3.12.10-linux-x86_64-gnu/lib/python3.12/multiprocessing/popen_fork.py:66: DeprecationWarning: This process (pid=115201) is multi-threaded, use of fork() may lead to deadlocks in the child.\n",
      "\u001b[36m(ClientAppActor pid=115201)\u001b[0m   self.pid = os.fork()\n",
      "\u001b[33m(raylet)\u001b[0m [2025-05-06 17:54:24,748 E 113297 113332] (raylet) file_system_monitor.cc:111: /home/emeka/PrivacyBench/logs/ray/session_2025-05-06_17-52-42_619310_95096 is over 95% full, available space: 721276928; capacity: 52589998080. Object creation will fail if spilling is required.\n",
      "\u001b[36m(ClientAppActor pid=115202)\u001b[0m /home/emeka/.local/share/uv/python/cpython-3.12.10-linux-x86_64-gnu/lib/python3.12/multiprocessing/popen_fork.py:66: DeprecationWarning: This process (pid=115202) is multi-threaded, use of fork() may lead to deadlocks in the child.\n",
      "\u001b[36m(ClientAppActor pid=115202)\u001b[0m   self.pid = os.fork()\n",
      "\u001b[33m(raylet)\u001b[0m [2025-05-06 17:54:34,757 E 113297 113332] (raylet) file_system_monitor.cc:111: /home/emeka/PrivacyBench/logs/ray/session_2025-05-06_17-52-42_619310_95096 is over 95% full, available space: 721272832; capacity: 52589998080. Object creation will fail if spilling is required.\n"
     ]
    },
    {
     "name": "stdout",
     "output_type": "stream",
     "text": [
      "\u001b[36m(ClientAppActor pid=115202)\u001b[0m \n",
      "\u001b[36m(ClientAppActor pid=115202)\u001b[0m 🔎 Tracker: FL + CDP-CF (CNN)\n",
      "\u001b[36m(ClientAppActor pid=115202)\u001b[0m 📁 Logs saved to: /home/emeka/PrivacyBench/logs/emissions/FL_CDP-CF_CNN/client_emissions.csv\n",
      "\u001b[36m(ClientAppActor pid=115202)\u001b[0m ⏱️ Total training time: 1 minutes 41 seconds\n"
     ]
    },
    {
     "name": "stderr",
     "output_type": "stream",
     "text": [
      "\u001b[36m(ClientAppActor pid=115202)\u001b[0m \u001b[92mINFO \u001b[0m:      fixedclipping_mod: parameters are clipped by value: 500.5000.\n",
      "\u001b[36m(ClientAppActor pid=115202)\u001b[0m 2025-05-06 17:54:40,808 - INFO - fixedclipping_mod: parameters are clipped by value: 500.5000.\n",
      "\u001b[36m(ClientAppActor pid=115202)\u001b[0m Seed set to 42\n",
      "\u001b[36m(ClientAppActor pid=115202)\u001b[0m /home/emeka/.local/share/uv/python/cpython-3.12.10-linux-x86_64-gnu/lib/python3.12/multiprocessing/popen_fork.py:66: DeprecationWarning: This process (pid=115202) is multi-threaded, use of fork() may lead to deadlocks in the child.\n",
      "\u001b[36m(ClientAppActor pid=115202)\u001b[0m   self.pid = os.fork()\n"
     ]
    },
    {
     "name": "stdout",
     "output_type": "stream",
     "text": [
      "\u001b[36m(ClientAppActor pid=115201)\u001b[0m \n"
     ]
    },
    {
     "name": "stderr",
     "output_type": "stream",
     "text": [
      "\u001b[33m(raylet)\u001b[0m [2025-05-06 17:54:44,767 E 113297 113332] (raylet) file_system_monitor.cc:111: /home/emeka/PrivacyBench/logs/ray/session_2025-05-06_17-52-42_619310_95096 is over 95% full, available space: 721178624; capacity: 52589998080. Object creation will fail if spilling is required.\n",
      "\u001b[36m(ClientAppActor pid=115201)\u001b[0m \u001b[92mINFO \u001b[0m:      fixedclipping_mod: parameters are clipped by value: 500.5000.\n",
      "\u001b[36m(ClientAppActor pid=115201)\u001b[0m 2025-05-06 17:54:42,850 - INFO - fixedclipping_mod: parameters are clipped by value: 500.5000.\n",
      "\u001b[33m(raylet)\u001b[0m [2025-05-06 17:54:54,776 E 113297 113332] (raylet) file_system_monitor.cc:111: /home/emeka/PrivacyBench/logs/ray/session_2025-05-06_17-52-42_619310_95096 is over 95% full, available space: 721072128; capacity: 52589998080. Object creation will fail if spilling is required.\n",
      "\u001b[33m(raylet)\u001b[0m [2025-05-06 17:55:04,785 E 113297 113332] (raylet) file_system_monitor.cc:111: /home/emeka/PrivacyBench/logs/ray/session_2025-05-06_17-52-42_619310_95096 is over 95% full, available space: 720797696; capacity: 52589998080. Object creation will fail if spilling is required.\n",
      "\u001b[33m(raylet)\u001b[0m [2025-05-06 17:55:14,795 E 113297 113332] (raylet) file_system_monitor.cc:111: /home/emeka/PrivacyBench/logs/ray/session_2025-05-06_17-52-42_619310_95096 is over 95% full, available space: 720789504; capacity: 52589998080. Object creation will fail if spilling is required.\n",
      "\u001b[33m(raylet)\u001b[0m [2025-05-06 17:55:24,805 E 113297 113332] (raylet) file_system_monitor.cc:111: /home/emeka/PrivacyBench/logs/ray/session_2025-05-06_17-52-42_619310_95096 is over 95% full, available space: 720781312; capacity: 52589998080. Object creation will fail if spilling is required.\n",
      "\u001b[33m(raylet)\u001b[0m [2025-05-06 17:55:34,814 E 113297 113332] (raylet) file_system_monitor.cc:111: /home/emeka/PrivacyBench/logs/ray/session_2025-05-06_17-52-42_619310_95096 is over 95% full, available space: 720814080; capacity: 52589998080. Object creation will fail if spilling is required.\n",
      "\u001b[33m(raylet)\u001b[0m [2025-05-06 17:55:44,824 E 113297 113332] (raylet) file_system_monitor.cc:111: /home/emeka/PrivacyBench/logs/ray/session_2025-05-06_17-52-42_619310_95096 is over 95% full, available space: 720740352; capacity: 52589998080. Object creation will fail if spilling is required.\n",
      "\u001b[33m(raylet)\u001b[0m [2025-05-06 17:55:54,834 E 113297 113332] (raylet) file_system_monitor.cc:111: /home/emeka/PrivacyBench/logs/ray/session_2025-05-06_17-52-42_619310_95096 is over 95% full, available space: 720502784; capacity: 52589998080. Object creation will fail if spilling is required.\n",
      "\u001b[33m(raylet)\u001b[0m [2025-05-06 17:56:04,843 E 113297 113332] (raylet) file_system_monitor.cc:111: /home/emeka/PrivacyBench/logs/ray/session_2025-05-06_17-52-42_619310_95096 is over 95% full, available space: 720195584; capacity: 52589998080. Object creation will fail if spilling is required.\n",
      "\u001b[36m(ClientAppActor pid=115202)\u001b[0m /home/emeka/.local/share/uv/python/cpython-3.12.10-linux-x86_64-gnu/lib/python3.12/multiprocessing/popen_fork.py:66: DeprecationWarning: This process (pid=115202) is multi-threaded, use of fork() may lead to deadlocks in the child.\n",
      "\u001b[36m(ClientAppActor pid=115202)\u001b[0m   self.pid = os.fork()\n"
     ]
    },
    {
     "name": "stdout",
     "output_type": "stream",
     "text": [
      "\u001b[36m(ClientAppActor pid=115202)\u001b[0m \n",
      "\u001b[36m(ClientAppActor pid=115202)\u001b[0m 🔎 Tracker: FL + CDP-CF (CNN)\u001b[32m [repeated 2x across cluster]\u001b[0m\n",
      "\u001b[36m(ClientAppActor pid=115202)\u001b[0m 📁 Logs saved to: /home/emeka/PrivacyBench/logs/emissions/FL_CDP-CF_CNN/client_emissions.csv\u001b[32m [repeated 2x across cluster]\u001b[0m\n",
      "\u001b[36m(ClientAppActor pid=115202)\u001b[0m ⏱️ Total training time: 1 minutes 25 seconds\u001b[32m [repeated 2x across cluster]\u001b[0m\n"
     ]
    },
    {
     "name": "stderr",
     "output_type": "stream",
     "text": [
      "\u001b[36m(ClientAppActor pid=115202)\u001b[0m \u001b[92mINFO \u001b[0m:      fixedclipping_mod: parameters are clipped by value: 500.5000.\n",
      "\u001b[36m(ClientAppActor pid=115202)\u001b[0m 2025-05-06 17:56:06,981 - INFO - fixedclipping_mod: parameters are clipped by value: 500.5000.\n",
      "\u001b[92mINFO \u001b[0m:      aggregate_fit: received 3 results and 0 failures\n",
      "\u001b[93mWARNING \u001b[0m:   No fit_metrics_aggregation_fn provided\n",
      "\u001b[92mINFO \u001b[0m:      aggregate_fit: central DP noise with 0.0000 stdev added\n",
      "/home/emeka/.local/share/uv/python/cpython-3.12.10-linux-x86_64-gnu/lib/python3.12/multiprocessing/popen_fork.py:66: DeprecationWarning: This process (pid=95096) is multi-threaded, use of fork() may lead to deadlocks in the child.\n",
      "  self.pid = os.fork()\n",
      "\u001b[92mINFO \u001b[0m:      fit progress: (1, 1.7722426354885101, {'accuracy': 0.37265625}, 200.3009003419993)\n",
      "\u001b[92mINFO \u001b[0m:      configure_evaluate: strategy sampled 3 clients (out of 3)\n",
      "\u001b[36m(ClientAppActor pid=115201)\u001b[0m /home/emeka/.local/share/uv/python/cpython-3.12.10-linux-x86_64-gnu/lib/python3.12/multiprocessing/popen_fork.py:66: DeprecationWarning: This process (pid=115201) is multi-threaded, use of fork() may lead to deadlocks in the child.\n",
      "\u001b[36m(ClientAppActor pid=115201)\u001b[0m   self.pid = os.fork()\n",
      "\u001b[36m(ClientAppActor pid=115202)\u001b[0m /home/emeka/.local/share/uv/python/cpython-3.12.10-linux-x86_64-gnu/lib/python3.12/multiprocessing/popen_fork.py:66: DeprecationWarning: This process (pid=115202) is multi-threaded, use of fork() may lead to deadlocks in the child.\n",
      "\u001b[36m(ClientAppActor pid=115202)\u001b[0m   self.pid = os.fork()\n",
      "\u001b[33m(raylet)\u001b[0m [2025-05-06 17:56:14,853 E 113297 113332] (raylet) file_system_monitor.cc:111: /home/emeka/PrivacyBench/logs/ray/session_2025-05-06_17-52-42_619310_95096 is over 95% full, available space: 720195584; capacity: 52589998080. Object creation will fail if spilling is required.\n",
      "\u001b[92mINFO \u001b[0m:      aggregate_evaluate: received 3 results and 0 failures\n",
      "\u001b[92mINFO \u001b[0m:      \n",
      "\u001b[92mINFO \u001b[0m:      [ROUND 2]\n",
      "\u001b[92mINFO \u001b[0m:      configure_fit: strategy sampled 3 clients (out of 3)\n",
      "\u001b[36m(ClientAppActor pid=115202)\u001b[0m Seed set to 42\n",
      "\u001b[36m(ClientAppActor pid=115202)\u001b[0m /home/emeka/.local/share/uv/python/cpython-3.12.10-linux-x86_64-gnu/lib/python3.12/multiprocessing/popen_fork.py:66: DeprecationWarning: This process (pid=115202) is multi-threaded, use of fork() may lead to deadlocks in the child.\n",
      "\u001b[36m(ClientAppActor pid=115202)\u001b[0m   self.pid = os.fork()\n",
      "\u001b[36m(ClientAppActor pid=115201)\u001b[0m /home/emeka/.local/share/uv/python/cpython-3.12.10-linux-x86_64-gnu/lib/python3.12/multiprocessing/popen_fork.py:66: DeprecationWarning: This process (pid=115201) is multi-threaded, use of fork() may lead to deadlocks in the child.\n",
      "\u001b[36m(ClientAppActor pid=115201)\u001b[0m   self.pid = os.fork()\n",
      "\u001b[33m(raylet)\u001b[0m [2025-05-06 17:56:24,863 E 113297 113332] (raylet) file_system_monitor.cc:111: /home/emeka/PrivacyBench/logs/ray/session_2025-05-06_17-52-42_619310_95096 is over 95% full, available space: 720146432; capacity: 52589998080. Object creation will fail if spilling is required.\n",
      "\u001b[36m(ClientAppActor pid=115201)\u001b[0m Seed set to 42\n",
      "\u001b[33m(raylet)\u001b[0m [2025-05-06 17:56:34,873 E 113297 113332] (raylet) file_system_monitor.cc:111: /home/emeka/PrivacyBench/logs/ray/session_2025-05-06_17-52-42_619310_95096 is over 95% full, available space: 720097280; capacity: 52589998080. Object creation will fail if spilling is required.\n",
      "\u001b[33m(raylet)\u001b[0m [2025-05-06 17:56:44,883 E 113297 113332] (raylet) file_system_monitor.cc:111: /home/emeka/PrivacyBench/logs/ray/session_2025-05-06_17-52-42_619310_95096 is over 95% full, available space: 720060416; capacity: 52589998080. Object creation will fail if spilling is required.\n",
      "\u001b[33m(raylet)\u001b[0m [2025-05-06 17:56:54,893 E 113297 113332] (raylet) file_system_monitor.cc:111: /home/emeka/PrivacyBench/logs/ray/session_2025-05-06_17-52-42_619310_95096 is over 95% full, available space: 719949824; capacity: 52589998080. Object creation will fail if spilling is required.\n",
      "\u001b[33m(raylet)\u001b[0m [2025-05-06 17:57:04,904 E 113297 113332] (raylet) file_system_monitor.cc:111: /home/emeka/PrivacyBench/logs/ray/session_2025-05-06_17-52-42_619310_95096 is over 95% full, available space: 719659008; capacity: 52589998080. Object creation will fail if spilling is required.\n",
      "\u001b[33m(raylet)\u001b[0m [2025-05-06 17:57:14,914 E 113297 113332] (raylet) file_system_monitor.cc:111: /home/emeka/PrivacyBench/logs/ray/session_2025-05-06_17-52-42_619310_95096 is over 95% full, available space: 719605760; capacity: 52589998080. Object creation will fail if spilling is required.\n",
      "\u001b[33m(raylet)\u001b[0m [2025-05-06 17:57:24,923 E 113297 113332] (raylet) file_system_monitor.cc:111: /home/emeka/PrivacyBench/logs/ray/session_2025-05-06_17-52-42_619310_95096 is over 95% full, available space: 719446016; capacity: 52589998080. Object creation will fail if spilling is required.\n",
      "\u001b[33m(raylet)\u001b[0m [2025-05-06 17:57:34,934 E 113297 113332] (raylet) file_system_monitor.cc:111: /home/emeka/PrivacyBench/logs/ray/session_2025-05-06_17-52-42_619310_95096 is over 95% full, available space: 719421440; capacity: 52589998080. Object creation will fail if spilling is required.\n",
      "\u001b[36m(ClientAppActor pid=115201)\u001b[0m /home/emeka/.local/share/uv/python/cpython-3.12.10-linux-x86_64-gnu/lib/python3.12/multiprocessing/popen_fork.py:66: DeprecationWarning: This process (pid=115201) is multi-threaded, use of fork() may lead to deadlocks in the child.\n",
      "\u001b[36m(ClientAppActor pid=115201)\u001b[0m   self.pid = os.fork()\n",
      "\u001b[33m(raylet)\u001b[0m [2025-05-06 17:57:44,944 E 113297 113332] (raylet) file_system_monitor.cc:111: /home/emeka/PrivacyBench/logs/ray/session_2025-05-06_17-52-42_619310_95096 is over 95% full, available space: 719204352; capacity: 52589998080. Object creation will fail if spilling is required.\n",
      "\u001b[36m(ClientAppActor pid=115202)\u001b[0m /home/emeka/.local/share/uv/python/cpython-3.12.10-linux-x86_64-gnu/lib/python3.12/multiprocessing/popen_fork.py:66: DeprecationWarning: This process (pid=115202) is multi-threaded, use of fork() may lead to deadlocks in the child.\n",
      "\u001b[36m(ClientAppActor pid=115202)\u001b[0m   self.pid = os.fork()\n",
      "\u001b[33m(raylet)\u001b[0m [2025-05-06 17:57:54,954 E 113297 113332] (raylet) file_system_monitor.cc:111: /home/emeka/PrivacyBench/logs/ray/session_2025-05-06_17-52-42_619310_95096 is over 95% full, available space: 719015936; capacity: 52589998080. Object creation will fail if spilling is required.\n"
     ]
    },
    {
     "name": "stdout",
     "output_type": "stream",
     "text": [
      "\u001b[36m(ClientAppActor pid=115201)\u001b[0m \n",
      "\u001b[36m(ClientAppActor pid=115201)\u001b[0m 🔎 Tracker: FL + CDP-CF (CNN)\n",
      "\u001b[36m(ClientAppActor pid=115201)\u001b[0m 📁 Logs saved to: /home/emeka/PrivacyBench/logs/emissions/FL_CDP-CF_CNN/client_emissions.csv\n",
      "\u001b[36m(ClientAppActor pid=115201)\u001b[0m ⏱️ Total training time: 1 minutes 41 seconds\n"
     ]
    },
    {
     "name": "stderr",
     "output_type": "stream",
     "text": [
      "\u001b[36m(ClientAppActor pid=115201)\u001b[0m \u001b[92mINFO \u001b[0m:      fixedclipping_mod: parameters are clipped by value: 500.5000.\n",
      "\u001b[36m(ClientAppActor pid=115201)\u001b[0m 2025-05-06 17:57:57,503 - INFO - fixedclipping_mod: parameters are clipped by value: 500.5000.\n",
      "\u001b[36m(ClientAppActor pid=115201)\u001b[0m Seed set to 42\n",
      "\u001b[36m(ClientAppActor pid=115201)\u001b[0m /home/emeka/.local/share/uv/python/cpython-3.12.10-linux-x86_64-gnu/lib/python3.12/multiprocessing/popen_fork.py:66: DeprecationWarning: This process (pid=115201) is multi-threaded, use of fork() may lead to deadlocks in the child.\n",
      "\u001b[36m(ClientAppActor pid=115201)\u001b[0m   self.pid = os.fork()\n"
     ]
    },
    {
     "name": "stdout",
     "output_type": "stream",
     "text": [
      "\u001b[36m(ClientAppActor pid=115202)\u001b[0m \n",
      "\u001b[36m(ClientAppActor pid=115202)\u001b[0m 🔎 Tracker: FL + CDP-CF (CNN)\n",
      "\u001b[36m(ClientAppActor pid=115202)\u001b[0m 📁 Logs saved to: /home/emeka/PrivacyBench/logs/emissions/FL_CDP-CF_CNN/client_emissions.csv\n",
      "\u001b[36m(ClientAppActor pid=115202)\u001b[0m ⏱️ Total training time: 1 minutes 45 seconds\n"
     ]
    },
    {
     "name": "stderr",
     "output_type": "stream",
     "text": [
      "\u001b[33m(raylet)\u001b[0m [2025-05-06 17:58:04,963 E 113297 113332] (raylet) file_system_monitor.cc:111: /home/emeka/PrivacyBench/logs/ray/session_2025-05-06_17-52-42_619310_95096 is over 95% full, available space: 718839808; capacity: 52589998080. Object creation will fail if spilling is required.\n",
      "\u001b[36m(ClientAppActor pid=115202)\u001b[0m \u001b[92mINFO \u001b[0m:      fixedclipping_mod: parameters are clipped by value: 500.5000.\n",
      "\u001b[36m(ClientAppActor pid=115202)\u001b[0m 2025-05-06 17:58:01,266 - INFO - fixedclipping_mod: parameters are clipped by value: 500.5000.\n",
      "\u001b[33m(raylet)\u001b[0m [2025-05-06 17:58:14,974 E 113297 113332] (raylet) file_system_monitor.cc:111: /home/emeka/PrivacyBench/logs/ray/session_2025-05-06_17-52-42_619310_95096 is over 95% full, available space: 718778368; capacity: 52589998080. Object creation will fail if spilling is required.\n",
      "\u001b[33m(raylet)\u001b[0m [2025-05-06 17:58:24,983 E 113297 113332] (raylet) file_system_monitor.cc:111: /home/emeka/PrivacyBench/logs/ray/session_2025-05-06_17-52-42_619310_95096 is over 95% full, available space: 718774272; capacity: 52589998080. Object creation will fail if spilling is required.\n",
      "\u001b[33m(raylet)\u001b[0m [2025-05-06 17:58:34,992 E 113297 113332] (raylet) file_system_monitor.cc:111: /home/emeka/PrivacyBench/logs/ray/session_2025-05-06_17-52-42_619310_95096 is over 95% full, available space: 718729216; capacity: 52589998080. Object creation will fail if spilling is required.\n",
      "\u001b[33m(raylet)\u001b[0m [2025-05-06 17:58:45,001 E 113297 113332] (raylet) file_system_monitor.cc:111: /home/emeka/PrivacyBench/logs/ray/session_2025-05-06_17-52-42_619310_95096 is over 95% full, available space: 718639104; capacity: 52589998080. Object creation will fail if spilling is required.\n",
      "\u001b[33m(raylet)\u001b[0m [2025-05-06 17:58:55,010 E 113297 113332] (raylet) file_system_monitor.cc:111: /home/emeka/PrivacyBench/logs/ray/session_2025-05-06_17-52-42_619310_95096 is over 95% full, available space: 718311424; capacity: 52589998080. Object creation will fail if spilling is required.\n",
      "\u001b[33m(raylet)\u001b[0m [2025-05-06 17:59:05,019 E 113297 113332] (raylet) file_system_monitor.cc:111: /home/emeka/PrivacyBench/logs/ray/session_2025-05-06_17-52-42_619310_95096 is over 95% full, available space: 717987840; capacity: 52589998080. Object creation will fail if spilling is required.\n",
      "\u001b[33m(raylet)\u001b[0m [2025-05-06 17:59:15,027 E 113297 113332] (raylet) file_system_monitor.cc:111: /home/emeka/PrivacyBench/logs/ray/session_2025-05-06_17-52-42_619310_95096 is over 95% full, available space: 717991936; capacity: 52589998080. Object creation will fail if spilling is required.\n",
      "\u001b[36m(ClientAppActor pid=115201)\u001b[0m /home/emeka/.local/share/uv/python/cpython-3.12.10-linux-x86_64-gnu/lib/python3.12/multiprocessing/popen_fork.py:66: DeprecationWarning: This process (pid=115201) is multi-threaded, use of fork() may lead to deadlocks in the child.\n",
      "\u001b[36m(ClientAppActor pid=115201)\u001b[0m   self.pid = os.fork()\n"
     ]
    },
    {
     "name": "stdout",
     "output_type": "stream",
     "text": [
      "\u001b[36m(ClientAppActor pid=115201)\u001b[0m \n",
      "\u001b[36m(ClientAppActor pid=115201)\u001b[0m 🔎 Tracker: FL + CDP-CF (CNN)\n",
      "\u001b[36m(ClientAppActor pid=115201)\u001b[0m 📁 Logs saved to: /home/emeka/PrivacyBench/logs/emissions/FL_CDP-CF_CNN/client_emissions.csv\n",
      "\u001b[36m(ClientAppActor pid=115201)\u001b[0m ⏱️ Total training time: 1 minutes 26 seconds\n"
     ]
    },
    {
     "name": "stderr",
     "output_type": "stream",
     "text": [
      "\u001b[36m(ClientAppActor pid=115201)\u001b[0m \u001b[92mINFO \u001b[0m:      fixedclipping_mod: parameters are clipped by value: 500.5000.\n",
      "\u001b[36m(ClientAppActor pid=115201)\u001b[0m 2025-05-06 17:59:24,903 - INFO - fixedclipping_mod: parameters are clipped by value: 500.5000.\n",
      "\u001b[33m(raylet)\u001b[0m [2025-05-06 17:59:25,036 E 113297 113332] (raylet) file_system_monitor.cc:111: /home/emeka/PrivacyBench/logs/ray/session_2025-05-06_17-52-42_619310_95096 is over 95% full, available space: 717946880; capacity: 52589998080. Object creation will fail if spilling is required.\n",
      "\u001b[92mINFO \u001b[0m:      aggregate_fit: received 3 results and 0 failures\n",
      "\u001b[92mINFO \u001b[0m:      aggregate_fit: central DP noise with 0.0000 stdev added\n",
      "/home/emeka/.local/share/uv/python/cpython-3.12.10-linux-x86_64-gnu/lib/python3.12/multiprocessing/popen_fork.py:66: DeprecationWarning: This process (pid=95096) is multi-threaded, use of fork() may lead to deadlocks in the child.\n",
      "  self.pid = os.fork()\n",
      "\u001b[92mINFO \u001b[0m:      fit progress: (2, 2.270385813713074, {'accuracy': 0.40703125}, 398.07014762700055)\n",
      "\u001b[92mINFO \u001b[0m:      configure_evaluate: strategy sampled 3 clients (out of 3)\n",
      "\u001b[36m(ClientAppActor pid=115201)\u001b[0m /home/emeka/.local/share/uv/python/cpython-3.12.10-linux-x86_64-gnu/lib/python3.12/multiprocessing/popen_fork.py:66: DeprecationWarning: This process (pid=115201) is multi-threaded, use of fork() may lead to deadlocks in the child.\n",
      "\u001b[36m(ClientAppActor pid=115201)\u001b[0m   self.pid = os.fork()\n",
      "\u001b[92mINFO \u001b[0m:      aggregate_evaluate: received 3 results and 0 failures\n",
      "\u001b[92mINFO \u001b[0m:      \n",
      "\u001b[92mINFO \u001b[0m:      [ROUND 3]\n",
      "\u001b[92mINFO \u001b[0m:      configure_fit: strategy sampled 3 clients (out of 3)\n",
      "\u001b[36m(ClientAppActor pid=115201)\u001b[0m Seed set to 42\n",
      "\u001b[33m(raylet)\u001b[0m [2025-05-06 17:59:35,046 E 113297 113332] (raylet) file_system_monitor.cc:111: /home/emeka/PrivacyBench/logs/ray/session_2025-05-06_17-52-42_619310_95096 is over 95% full, available space: 717844480; capacity: 52589998080. Object creation will fail if spilling is required.\n",
      "\u001b[36m(ClientAppActor pid=115202)\u001b[0m /home/emeka/.local/share/uv/python/cpython-3.12.10-linux-x86_64-gnu/lib/python3.12/multiprocessing/popen_fork.py:66: DeprecationWarning: This process (pid=115202) is multi-threaded, use of fork() may lead to deadlocks in the child.\u001b[32m [repeated 3x across cluster]\u001b[0m\n",
      "\u001b[36m(ClientAppActor pid=115202)\u001b[0m   self.pid = os.fork()\u001b[32m [repeated 3x across cluster]\u001b[0m\n",
      "\u001b[36m(ClientAppActor pid=115202)\u001b[0m Seed set to 42\n",
      "\u001b[33m(raylet)\u001b[0m [2025-05-06 17:59:45,055 E 113297 113332] (raylet) file_system_monitor.cc:111: /home/emeka/PrivacyBench/logs/ray/session_2025-05-06_17-52-42_619310_95096 is over 95% full, available space: 717824000; capacity: 52589998080. Object creation will fail if spilling is required.\n",
      "\u001b[33m(raylet)\u001b[0m [2025-05-06 17:59:55,064 E 113297 113332] (raylet) file_system_monitor.cc:111: /home/emeka/PrivacyBench/logs/ray/session_2025-05-06_17-52-42_619310_95096 is over 95% full, available space: 717602816; capacity: 52589998080. Object creation will fail if spilling is required.\n",
      "\u001b[33m(raylet)\u001b[0m [2025-05-06 18:00:05,075 E 113297 113332] (raylet) file_system_monitor.cc:111: /home/emeka/PrivacyBench/logs/ray/session_2025-05-06_17-52-42_619310_95096 is over 95% full, available space: 717324288; capacity: 52589998080. Object creation will fail if spilling is required.\n",
      "\u001b[33m(raylet)\u001b[0m [2025-05-06 18:00:15,085 E 113297 113332] (raylet) file_system_monitor.cc:111: /home/emeka/PrivacyBench/logs/ray/session_2025-05-06_17-52-42_619310_95096 is over 95% full, available space: 717336576; capacity: 52589998080. Object creation will fail if spilling is required.\n",
      "\u001b[33m(raylet)\u001b[0m [2025-05-06 18:00:25,095 E 113297 113332] (raylet) file_system_monitor.cc:111: /home/emeka/PrivacyBench/logs/ray/session_2025-05-06_17-52-42_619310_95096 is over 95% full, available space: 717225984; capacity: 52589998080. Object creation will fail if spilling is required.\n",
      "\u001b[33m(raylet)\u001b[0m [2025-05-06 18:00:35,104 E 113297 113332] (raylet) file_system_monitor.cc:111: /home/emeka/PrivacyBench/logs/ray/session_2025-05-06_17-52-42_619310_95096 is over 95% full, available space: 717262848; capacity: 52589998080. Object creation will fail if spilling is required.\n",
      "\u001b[33m(raylet)\u001b[0m [2025-05-06 18:00:45,114 E 113297 113332] (raylet) file_system_monitor.cc:111: /home/emeka/PrivacyBench/logs/ray/session_2025-05-06_17-52-42_619310_95096 is over 95% full, available space: 717103104; capacity: 52589998080. Object creation will fail if spilling is required.\n",
      "\u001b[36m(ClientAppActor pid=115201)\u001b[0m /home/emeka/.local/share/uv/python/cpython-3.12.10-linux-x86_64-gnu/lib/python3.12/multiprocessing/popen_fork.py:66: DeprecationWarning: This process (pid=115201) is multi-threaded, use of fork() may lead to deadlocks in the child.\n",
      "\u001b[36m(ClientAppActor pid=115201)\u001b[0m   self.pid = os.fork()\n",
      "\u001b[33m(raylet)\u001b[0m [2025-05-06 18:00:55,125 E 113297 113332] (raylet) file_system_monitor.cc:111: /home/emeka/PrivacyBench/logs/ray/session_2025-05-06_17-52-42_619310_95096 is over 95% full, available space: 716931072; capacity: 52589998080. Object creation will fail if spilling is required.\n",
      "\u001b[36m(ClientAppActor pid=115202)\u001b[0m /home/emeka/.local/share/uv/python/cpython-3.12.10-linux-x86_64-gnu/lib/python3.12/multiprocessing/popen_fork.py:66: DeprecationWarning: This process (pid=115202) is multi-threaded, use of fork() may lead to deadlocks in the child.\n",
      "\u001b[36m(ClientAppActor pid=115202)\u001b[0m   self.pid = os.fork()\n",
      "\u001b[33m(raylet)\u001b[0m [2025-05-06 18:01:05,135 E 113297 113332] (raylet) file_system_monitor.cc:111: /home/emeka/PrivacyBench/logs/ray/session_2025-05-06_17-52-42_619310_95096 is over 95% full, available space: 716701696; capacity: 52589998080. Object creation will fail if spilling is required.\n"
     ]
    },
    {
     "name": "stdout",
     "output_type": "stream",
     "text": [
      "\u001b[36m(ClientAppActor pid=115201)\u001b[0m \n",
      "\u001b[36m(ClientAppActor pid=115201)\u001b[0m 🔎 Tracker: FL + CDP-CF (CNN)\n",
      "\u001b[36m(ClientAppActor pid=115201)\u001b[0m 📁 Logs saved to: /home/emeka/PrivacyBench/logs/emissions/FL_CDP-CF_CNN/client_emissions.csv\n",
      "\u001b[36m(ClientAppActor pid=115201)\u001b[0m ⏱️ Total training time: 1 minutes 36 seconds\n"
     ]
    },
    {
     "name": "stderr",
     "output_type": "stream",
     "text": [
      "\u001b[36m(ClientAppActor pid=115201)\u001b[0m \u001b[92mINFO \u001b[0m:      fixedclipping_mod: parameters are clipped by value: 500.5000.\n",
      "\u001b[36m(ClientAppActor pid=115201)\u001b[0m 2025-05-06 18:01:09,456 - INFO - fixedclipping_mod: parameters are clipped by value: 500.5000.\n",
      "\u001b[36m(ClientAppActor pid=115201)\u001b[0m Seed set to 42\n",
      "\u001b[36m(ClientAppActor pid=115201)\u001b[0m /home/emeka/.local/share/uv/python/cpython-3.12.10-linux-x86_64-gnu/lib/python3.12/multiprocessing/popen_fork.py:66: DeprecationWarning: This process (pid=115201) is multi-threaded, use of fork() may lead to deadlocks in the child.\n",
      "\u001b[36m(ClientAppActor pid=115201)\u001b[0m   self.pid = os.fork()\n"
     ]
    },
    {
     "name": "stdout",
     "output_type": "stream",
     "text": [
      "\u001b[36m(ClientAppActor pid=115202)\u001b[0m \n"
     ]
    },
    {
     "name": "stderr",
     "output_type": "stream",
     "text": [
      "\u001b[33m(raylet)\u001b[0m [2025-05-06 18:01:15,145 E 113297 113332] (raylet) file_system_monitor.cc:111: /home/emeka/PrivacyBench/logs/ray/session_2025-05-06_17-52-42_619310_95096 is over 95% full, available space: 716709888; capacity: 52589998080. Object creation will fail if spilling is required.\n",
      "\u001b[36m(ClientAppActor pid=115202)\u001b[0m \u001b[92mINFO \u001b[0m:      fixedclipping_mod: parameters are clipped by value: 500.5000.\n",
      "\u001b[36m(ClientAppActor pid=115202)\u001b[0m 2025-05-06 18:01:10,955 - INFO - fixedclipping_mod: parameters are clipped by value: 500.5000.\n",
      "\u001b[33m(raylet)\u001b[0m [2025-05-06 18:01:25,155 E 113297 113332] (raylet) file_system_monitor.cc:111: /home/emeka/PrivacyBench/logs/ray/session_2025-05-06_17-52-42_619310_95096 is over 95% full, available space: 716648448; capacity: 52589998080. Object creation will fail if spilling is required.\n",
      "\u001b[33m(raylet)\u001b[0m [2025-05-06 18:01:35,163 E 113297 113332] (raylet) file_system_monitor.cc:111: /home/emeka/PrivacyBench/logs/ray/session_2025-05-06_17-52-42_619310_95096 is over 95% full, available space: 716607488; capacity: 52589998080. Object creation will fail if spilling is required.\n",
      "\u001b[33m(raylet)\u001b[0m [2025-05-06 18:01:45,173 E 113297 113332] (raylet) file_system_monitor.cc:111: /home/emeka/PrivacyBench/logs/ray/session_2025-05-06_17-52-42_619310_95096 is over 95% full, available space: 716546048; capacity: 52589998080. Object creation will fail if spilling is required.\n",
      "\u001b[33m(raylet)\u001b[0m [2025-05-06 18:01:55,183 E 113297 113332] (raylet) file_system_monitor.cc:111: /home/emeka/PrivacyBench/logs/ray/session_2025-05-06_17-52-42_619310_95096 is over 95% full, available space: 716197888; capacity: 52589998080. Object creation will fail if spilling is required.\n",
      "\u001b[33m(raylet)\u001b[0m [2025-05-06 18:02:05,193 E 113297 113332] (raylet) file_system_monitor.cc:111: /home/emeka/PrivacyBench/logs/ray/session_2025-05-06_17-52-42_619310_95096 is over 95% full, available space: 715874304; capacity: 52589998080. Object creation will fail if spilling is required.\n",
      "\u001b[33m(raylet)\u001b[0m [2025-05-06 18:02:15,202 E 113297 113332] (raylet) file_system_monitor.cc:111: /home/emeka/PrivacyBench/logs/ray/session_2025-05-06_17-52-42_619310_95096 is over 95% full, available space: 715825152; capacity: 52589998080. Object creation will fail if spilling is required.\n",
      "\u001b[33m(raylet)\u001b[0m [2025-05-06 18:02:25,212 E 113297 113332] (raylet) file_system_monitor.cc:111: /home/emeka/PrivacyBench/logs/ray/session_2025-05-06_17-52-42_619310_95096 is over 95% full, available space: 715796480; capacity: 52589998080. Object creation will fail if spilling is required.\n",
      "\u001b[36m(ClientAppActor pid=115201)\u001b[0m /home/emeka/.local/share/uv/python/cpython-3.12.10-linux-x86_64-gnu/lib/python3.12/multiprocessing/popen_fork.py:66: DeprecationWarning: This process (pid=115201) is multi-threaded, use of fork() may lead to deadlocks in the child.\n",
      "\u001b[36m(ClientAppActor pid=115201)\u001b[0m   self.pid = os.fork()\n",
      "\u001b[33m(raylet)\u001b[0m [2025-05-06 18:02:35,221 E 113297 113332] (raylet) file_system_monitor.cc:111: /home/emeka/PrivacyBench/logs/ray/session_2025-05-06_17-52-42_619310_95096 is over 95% full, available space: 715747328; capacity: 52589998080. Object creation will fail if spilling is required.\n",
      "\u001b[36m(ClientAppActor pid=115201)\u001b[0m \u001b[92mINFO \u001b[0m:      fixedclipping_mod: parameters are clipped by value: 500.5000.\n",
      "\u001b[36m(ClientAppActor pid=115201)\u001b[0m 2025-05-06 18:02:37,114 - INFO - fixedclipping_mod: parameters are clipped by value: 500.5000.\n",
      "\u001b[92mINFO \u001b[0m:      aggregate_fit: received 3 results and 0 failures\n"
     ]
    },
    {
     "name": "stdout",
     "output_type": "stream",
     "text": [
      "\u001b[36m(ClientAppActor pid=115201)\u001b[0m \n",
      "\u001b[36m(ClientAppActor pid=115201)\u001b[0m 🔎 Tracker: FL + CDP-CF (CNN)\u001b[32m [repeated 2x across cluster]\u001b[0m\n",
      "\u001b[36m(ClientAppActor pid=115201)\u001b[0m 📁 Logs saved to: /home/emeka/PrivacyBench/logs/emissions/FL_CDP-CF_CNN/client_emissions.csv\u001b[32m [repeated 2x across cluster]\u001b[0m\n",
      "\u001b[36m(ClientAppActor pid=115201)\u001b[0m ⏱️ Total training time: 1 minutes 27 seconds\u001b[32m [repeated 2x across cluster]\u001b[0m\n"
     ]
    },
    {
     "name": "stderr",
     "output_type": "stream",
     "text": [
      "\u001b[92mINFO \u001b[0m:      aggregate_fit: central DP noise with 0.0000 stdev added\n",
      "/home/emeka/.local/share/uv/python/cpython-3.12.10-linux-x86_64-gnu/lib/python3.12/multiprocessing/popen_fork.py:66: DeprecationWarning: This process (pid=95096) is multi-threaded, use of fork() may lead to deadlocks in the child.\n",
      "  self.pid = os.fork()\n",
      "\u001b[92mINFO \u001b[0m:      fit progress: (3, 1.6266222536563872, {'accuracy': 0.5890625}, 590.2034432239998)\n",
      "\u001b[92mINFO \u001b[0m:      configure_evaluate: strategy sampled 3 clients (out of 3)\n",
      "\u001b[36m(ClientAppActor pid=115201)\u001b[0m /home/emeka/.local/share/uv/python/cpython-3.12.10-linux-x86_64-gnu/lib/python3.12/multiprocessing/popen_fork.py:66: DeprecationWarning: This process (pid=115201) is multi-threaded, use of fork() may lead to deadlocks in the child.\n",
      "\u001b[36m(ClientAppActor pid=115201)\u001b[0m   self.pid = os.fork()\n",
      "\u001b[92mINFO \u001b[0m:      aggregate_evaluate: received 3 results and 0 failures\n",
      "\u001b[92mINFO \u001b[0m:      \n",
      "\u001b[92mINFO \u001b[0m:      [ROUND 4]\n",
      "\u001b[92mINFO \u001b[0m:      configure_fit: strategy sampled 3 clients (out of 3)\n",
      "\u001b[33m(raylet)\u001b[0m [2025-05-06 18:02:45,230 E 113297 113332] (raylet) file_system_monitor.cc:111: /home/emeka/PrivacyBench/logs/ray/session_2025-05-06_17-52-42_619310_95096 is over 95% full, available space: 715628544; capacity: 52589998080. Object creation will fail if spilling is required.\n",
      "\u001b[36m(ClientAppActor pid=115201)\u001b[0m Seed set to 42\n",
      "\u001b[36m(ClientAppActor pid=115202)\u001b[0m /home/emeka/.local/share/uv/python/cpython-3.12.10-linux-x86_64-gnu/lib/python3.12/multiprocessing/popen_fork.py:66: DeprecationWarning: This process (pid=115202) is multi-threaded, use of fork() may lead to deadlocks in the child.\u001b[32m [repeated 3x across cluster]\u001b[0m\n",
      "\u001b[36m(ClientAppActor pid=115202)\u001b[0m   self.pid = os.fork()\u001b[32m [repeated 3x across cluster]\u001b[0m\n",
      "\u001b[33m(raylet)\u001b[0m [2025-05-06 18:02:55,239 E 113297 113332] (raylet) file_system_monitor.cc:111: /home/emeka/PrivacyBench/logs/ray/session_2025-05-06_17-52-42_619310_95096 is over 95% full, available space: 715407360; capacity: 52589998080. Object creation will fail if spilling is required.\n",
      "\u001b[36m(ClientAppActor pid=115202)\u001b[0m Seed set to 42\n",
      "\u001b[33m(raylet)\u001b[0m [2025-05-06 18:03:05,249 E 113297 113332] (raylet) file_system_monitor.cc:111: /home/emeka/PrivacyBench/logs/ray/session_2025-05-06_17-52-42_619310_95096 is over 95% full, available space: 715149312; capacity: 52589998080. Object creation will fail if spilling is required.\n",
      "\u001b[33m(raylet)\u001b[0m [2025-05-06 18:03:15,259 E 113297 113332] (raylet) file_system_monitor.cc:111: /home/emeka/PrivacyBench/logs/ray/session_2025-05-06_17-52-42_619310_95096 is over 95% full, available space: 715108352; capacity: 52589998080. Object creation will fail if spilling is required.\n",
      "\u001b[33m(raylet)\u001b[0m [2025-05-06 18:03:25,269 E 113297 113332] (raylet) file_system_monitor.cc:111: /home/emeka/PrivacyBench/logs/ray/session_2025-05-06_17-52-42_619310_95096 is over 95% full, available space: 715059200; capacity: 52589998080. Object creation will fail if spilling is required.\n",
      "\u001b[33m(raylet)\u001b[0m [2025-05-06 18:03:35,279 E 113297 113332] (raylet) file_system_monitor.cc:111: /home/emeka/PrivacyBench/logs/ray/session_2025-05-06_17-52-42_619310_95096 is over 95% full, available space: 715051008; capacity: 52589998080. Object creation will fail if spilling is required.\n",
      "\u001b[33m(raylet)\u001b[0m [2025-05-06 18:03:45,289 E 113297 113332] (raylet) file_system_monitor.cc:111: /home/emeka/PrivacyBench/logs/ray/session_2025-05-06_17-52-42_619310_95096 is over 95% full, available space: 714997760; capacity: 52589998080. Object creation will fail if spilling is required.\n",
      "\u001b[33m(raylet)\u001b[0m [2025-05-06 18:03:55,299 E 113297 113332] (raylet) file_system_monitor.cc:111: /home/emeka/PrivacyBench/logs/ray/session_2025-05-06_17-52-42_619310_95096 is over 95% full, available space: 714747904; capacity: 52589998080. Object creation will fail if spilling is required.\n",
      "\u001b[33m(raylet)\u001b[0m [2025-05-06 18:04:05,309 E 113297 113332] (raylet) file_system_monitor.cc:111: /home/emeka/PrivacyBench/logs/ray/session_2025-05-06_17-52-42_619310_95096 is over 95% full, available space: 714473472; capacity: 52589998080. Object creation will fail if spilling is required.\n",
      "\u001b[36m(ClientAppActor pid=115202)\u001b[0m /home/emeka/.local/share/uv/python/cpython-3.12.10-linux-x86_64-gnu/lib/python3.12/multiprocessing/popen_fork.py:66: DeprecationWarning: This process (pid=115202) is multi-threaded, use of fork() may lead to deadlocks in the child.\n",
      "\u001b[36m(ClientAppActor pid=115202)\u001b[0m   self.pid = os.fork()\n",
      "\u001b[33m(raylet)\u001b[0m [2025-05-06 18:04:15,320 E 113297 113332] (raylet) file_system_monitor.cc:111: /home/emeka/PrivacyBench/logs/ray/session_2025-05-06_17-52-42_619310_95096 is over 95% full, available space: 714444800; capacity: 52589998080. Object creation will fail if spilling is required.\n",
      "\u001b[36m(ClientAppActor pid=115201)\u001b[0m /home/emeka/.local/share/uv/python/cpython-3.12.10-linux-x86_64-gnu/lib/python3.12/multiprocessing/popen_fork.py:66: DeprecationWarning: This process (pid=115201) is multi-threaded, use of fork() may lead to deadlocks in the child.\n",
      "\u001b[36m(ClientAppActor pid=115201)\u001b[0m   self.pid = os.fork()\n",
      "\u001b[33m(raylet)\u001b[0m [2025-05-06 18:04:25,329 E 113297 113332] (raylet) file_system_monitor.cc:111: /home/emeka/PrivacyBench/logs/ray/session_2025-05-06_17-52-42_619310_95096 is over 95% full, available space: 714375168; capacity: 52589998080. Object creation will fail if spilling is required.\n"
     ]
    },
    {
     "name": "stdout",
     "output_type": "stream",
     "text": [
      "\u001b[36m(ClientAppActor pid=115201)\u001b[0m \n",
      "\u001b[36m(ClientAppActor pid=115201)\u001b[0m 🔎 Tracker: FL + CDP-CF (CNN)\n",
      "\u001b[36m(ClientAppActor pid=115201)\u001b[0m 📁 Logs saved to: /home/emeka/PrivacyBench/logs/emissions/FL_CDP-CF_CNN/client_emissions.csv\n",
      "\u001b[36m(ClientAppActor pid=115201)\u001b[0m ⏱️ Total training time: 1 minutes 40 seconds\n"
     ]
    },
    {
     "name": "stderr",
     "output_type": "stream",
     "text": [
      "\u001b[36m(ClientAppActor pid=115201)\u001b[0m \u001b[92mINFO \u001b[0m:      fixedclipping_mod: parameters are clipped by value: 500.5000.\n",
      "\u001b[36m(ClientAppActor pid=115201)\u001b[0m 2025-05-06 18:04:26,173 - INFO - fixedclipping_mod: parameters are clipped by value: 500.5000.\n",
      "\u001b[36m(ClientAppActor pid=115201)\u001b[0m Seed set to 42\n",
      "\u001b[36m(ClientAppActor pid=115201)\u001b[0m /home/emeka/.local/share/uv/python/cpython-3.12.10-linux-x86_64-gnu/lib/python3.12/multiprocessing/popen_fork.py:66: DeprecationWarning: This process (pid=115201) is multi-threaded, use of fork() may lead to deadlocks in the child.\n",
      "\u001b[36m(ClientAppActor pid=115201)\u001b[0m   self.pid = os.fork()\n"
     ]
    },
    {
     "name": "stdout",
     "output_type": "stream",
     "text": [
      "\u001b[36m(ClientAppActor pid=115202)\u001b[0m \n",
      "\u001b[36m(ClientAppActor pid=115202)\u001b[0m 🔎 Tracker: FL + CDP-CF (CNN)\n",
      "\u001b[36m(ClientAppActor pid=115202)\u001b[0m 📁 Logs saved to: /home/emeka/PrivacyBench/logs/emissions/FL_CDP-CF_CNN/client_emissions.csv\n",
      "\u001b[36m(ClientAppActor pid=115202)\u001b[0m ⏱️ Total training time: 1 minutes 43 seconds\n"
     ]
    },
    {
     "name": "stderr",
     "output_type": "stream",
     "text": [
      "\u001b[33m(raylet)\u001b[0m [2025-05-06 18:04:35,338 E 113297 113332] (raylet) file_system_monitor.cc:111: /home/emeka/PrivacyBench/logs/ray/session_2025-05-06_17-52-42_619310_95096 is over 95% full, available space: 714301440; capacity: 52589998080. Object creation will fail if spilling is required.\n",
      "\u001b[36m(ClientAppActor pid=115202)\u001b[0m \u001b[92mINFO \u001b[0m:      fixedclipping_mod: parameters are clipped by value: 500.5000.\n",
      "\u001b[36m(ClientAppActor pid=115202)\u001b[0m 2025-05-06 18:04:28,782 - INFO - fixedclipping_mod: parameters are clipped by value: 500.5000.\n",
      "\u001b[33m(raylet)\u001b[0m [2025-05-06 18:04:45,347 E 113297 113332] (raylet) file_system_monitor.cc:111: /home/emeka/PrivacyBench/logs/ray/session_2025-05-06_17-52-42_619310_95096 is over 95% full, available space: 714272768; capacity: 52589998080. Object creation will fail if spilling is required.\n",
      "\u001b[33m(raylet)\u001b[0m [2025-05-06 18:04:55,356 E 113297 113332] (raylet) file_system_monitor.cc:111: /home/emeka/PrivacyBench/logs/ray/session_2025-05-06_17-52-42_619310_95096 is over 95% full, available space: 713973760; capacity: 52589998080. Object creation will fail if spilling is required.\n",
      "\u001b[33m(raylet)\u001b[0m [2025-05-06 18:05:05,365 E 113297 113332] (raylet) file_system_monitor.cc:111: /home/emeka/PrivacyBench/logs/ray/session_2025-05-06_17-52-42_619310_95096 is over 95% full, available space: 713637888; capacity: 52589998080. Object creation will fail if spilling is required.\n",
      "\u001b[33m(raylet)\u001b[0m [2025-05-06 18:05:15,375 E 113297 113332] (raylet) file_system_monitor.cc:111: /home/emeka/PrivacyBench/logs/ray/session_2025-05-06_17-52-42_619310_95096 is over 95% full, available space: 713666560; capacity: 52589998080. Object creation will fail if spilling is required.\n",
      "\u001b[33m(raylet)\u001b[0m [2025-05-06 18:05:25,383 E 113297 113332] (raylet) file_system_monitor.cc:111: /home/emeka/PrivacyBench/logs/ray/session_2025-05-06_17-52-42_619310_95096 is over 95% full, available space: 713576448; capacity: 52589998080. Object creation will fail if spilling is required.\n",
      "\u001b[33m(raylet)\u001b[0m [2025-05-06 18:05:35,392 E 113297 113332] (raylet) file_system_monitor.cc:111: /home/emeka/PrivacyBench/logs/ray/session_2025-05-06_17-52-42_619310_95096 is over 95% full, available space: 713490432; capacity: 52589998080. Object creation will fail if spilling is required.\n",
      "\u001b[33m(raylet)\u001b[0m [2025-05-06 18:05:45,401 E 113297 113332] (raylet) file_system_monitor.cc:111: /home/emeka/PrivacyBench/logs/ray/session_2025-05-06_17-52-42_619310_95096 is over 95% full, available space: 713441280; capacity: 52589998080. Object creation will fail if spilling is required.\n",
      "\u001b[36m(ClientAppActor pid=115201)\u001b[0m /home/emeka/.local/share/uv/python/cpython-3.12.10-linux-x86_64-gnu/lib/python3.12/multiprocessing/popen_fork.py:66: DeprecationWarning: This process (pid=115201) is multi-threaded, use of fork() may lead to deadlocks in the child.\n",
      "\u001b[36m(ClientAppActor pid=115201)\u001b[0m   self.pid = os.fork()\n"
     ]
    },
    {
     "name": "stdout",
     "output_type": "stream",
     "text": [
      "\u001b[36m(ClientAppActor pid=115201)\u001b[0m \n",
      "\u001b[36m(ClientAppActor pid=115201)\u001b[0m 🔎 Tracker: FL + CDP-CF (CNN)\n",
      "\u001b[36m(ClientAppActor pid=115201)\u001b[0m 📁 Logs saved to: /home/emeka/PrivacyBench/logs/emissions/FL_CDP-CF_CNN/client_emissions.csv\n",
      "\u001b[36m(ClientAppActor pid=115201)\u001b[0m ⏱️ Total training time: 1 minutes 27 seconds\n"
     ]
    },
    {
     "name": "stderr",
     "output_type": "stream",
     "text": [
      "\u001b[36m(ClientAppActor pid=115201)\u001b[0m \u001b[92mINFO \u001b[0m:      fixedclipping_mod: parameters are clipped by value: 500.5000.\n",
      "\u001b[36m(ClientAppActor pid=115201)\u001b[0m 2025-05-06 18:05:53,833 - INFO - fixedclipping_mod: parameters are clipped by value: 500.5000.\n",
      "\u001b[92mINFO \u001b[0m:      aggregate_fit: received 3 results and 0 failures\n",
      "\u001b[92mINFO \u001b[0m:      aggregate_fit: central DP noise with 0.0000 stdev added\n",
      "\u001b[33m(raylet)\u001b[0m [2025-05-06 18:05:55,410 E 113297 113332] (raylet) file_system_monitor.cc:111: /home/emeka/PrivacyBench/logs/ray/session_2025-05-06_17-52-42_619310_95096 is over 95% full, available space: 713244672; capacity: 52589998080. Object creation will fail if spilling is required.\n",
      "/home/emeka/.local/share/uv/python/cpython-3.12.10-linux-x86_64-gnu/lib/python3.12/multiprocessing/popen_fork.py:66: DeprecationWarning: This process (pid=95096) is multi-threaded, use of fork() may lead to deadlocks in the child.\n",
      "  self.pid = os.fork()\n",
      "\u001b[92mINFO \u001b[0m:      fit progress: (4, 0.4247134067118168, {'accuracy': 0.86015625}, 787.3122238409996)\n",
      "\u001b[92mINFO \u001b[0m:      configure_evaluate: strategy sampled 3 clients (out of 3)\n",
      "\u001b[36m(ClientAppActor pid=115201)\u001b[0m /home/emeka/.local/share/uv/python/cpython-3.12.10-linux-x86_64-gnu/lib/python3.12/multiprocessing/popen_fork.py:66: DeprecationWarning: This process (pid=115201) is multi-threaded, use of fork() may lead to deadlocks in the child.\n",
      "\u001b[36m(ClientAppActor pid=115201)\u001b[0m   self.pid = os.fork()\n",
      "\u001b[92mINFO \u001b[0m:      aggregate_evaluate: received 3 results and 0 failures\n",
      "\u001b[92mINFO \u001b[0m:      \n",
      "\u001b[92mINFO \u001b[0m:      [ROUND 5]\n",
      "\u001b[92mINFO \u001b[0m:      configure_fit: strategy sampled 3 clients (out of 3)\n",
      "\u001b[36m(ClientAppActor pid=115201)\u001b[0m Seed set to 42\n",
      "\u001b[33m(raylet)\u001b[0m [2025-05-06 18:06:05,420 E 113297 113332] (raylet) file_system_monitor.cc:111: /home/emeka/PrivacyBench/logs/ray/session_2025-05-06_17-52-42_619310_95096 is over 95% full, available space: 712986624; capacity: 52589998080. Object creation will fail if spilling is required.\n",
      "\u001b[36m(ClientAppActor pid=115202)\u001b[0m /home/emeka/.local/share/uv/python/cpython-3.12.10-linux-x86_64-gnu/lib/python3.12/multiprocessing/popen_fork.py:66: DeprecationWarning: This process (pid=115202) is multi-threaded, use of fork() may lead to deadlocks in the child.\u001b[32m [repeated 3x across cluster]\u001b[0m\n",
      "\u001b[36m(ClientAppActor pid=115202)\u001b[0m   self.pid = os.fork()\u001b[32m [repeated 3x across cluster]\u001b[0m\n",
      "\u001b[36m(ClientAppActor pid=115202)\u001b[0m Seed set to 42\n",
      "\u001b[33m(raylet)\u001b[0m [2025-05-06 18:06:15,430 E 113297 113332] (raylet) file_system_monitor.cc:111: /home/emeka/PrivacyBench/logs/ray/session_2025-05-06_17-52-42_619310_95096 is over 95% full, available space: 712949760; capacity: 52589998080. Object creation will fail if spilling is required.\n",
      "\u001b[33m(raylet)\u001b[0m [2025-05-06 18:06:25,440 E 113297 113332] (raylet) file_system_monitor.cc:111: /home/emeka/PrivacyBench/logs/ray/session_2025-05-06_17-52-42_619310_95096 is over 95% full, available space: 712929280; capacity: 52589998080. Object creation will fail if spilling is required.\n",
      "\u001b[33m(raylet)\u001b[0m [2025-05-06 18:06:35,450 E 113297 113332] (raylet) file_system_monitor.cc:111: /home/emeka/PrivacyBench/logs/ray/session_2025-05-06_17-52-42_619310_95096 is over 95% full, available space: 712867840; capacity: 52589998080. Object creation will fail if spilling is required.\n",
      "\u001b[33m(raylet)\u001b[0m [2025-05-06 18:06:45,460 E 113297 113332] (raylet) file_system_monitor.cc:111: /home/emeka/PrivacyBench/logs/ray/session_2025-05-06_17-52-42_619310_95096 is over 95% full, available space: 712810496; capacity: 52589998080. Object creation will fail if spilling is required.\n",
      "\u001b[33m(raylet)\u001b[0m [2025-05-06 18:06:55,469 E 113297 113332] (raylet) file_system_monitor.cc:111: /home/emeka/PrivacyBench/logs/ray/session_2025-05-06_17-52-42_619310_95096 is over 95% full, available space: 712486912; capacity: 52589998080. Object creation will fail if spilling is required.\n",
      "\u001b[33m(raylet)\u001b[0m [2025-05-06 18:07:05,479 E 113297 113332] (raylet) file_system_monitor.cc:111: /home/emeka/PrivacyBench/logs/ray/session_2025-05-06_17-52-42_619310_95096 is over 95% full, available space: 712302592; capacity: 52589998080. Object creation will fail if spilling is required.\n",
      "\u001b[33m(raylet)\u001b[0m [2025-05-06 18:07:15,489 E 113297 113332] (raylet) file_system_monitor.cc:111: /home/emeka/PrivacyBench/logs/ray/session_2025-05-06_17-52-42_619310_95096 is over 95% full, available space: 712241152; capacity: 52589998080. Object creation will fail if spilling is required.\n",
      "\u001b[36m(ClientAppActor pid=115202)\u001b[0m /home/emeka/.local/share/uv/python/cpython-3.12.10-linux-x86_64-gnu/lib/python3.12/multiprocessing/popen_fork.py:66: DeprecationWarning: This process (pid=115202) is multi-threaded, use of fork() may lead to deadlocks in the child.\n",
      "\u001b[36m(ClientAppActor pid=115202)\u001b[0m   self.pid = os.fork()\n",
      "\u001b[33m(raylet)\u001b[0m [2025-05-06 18:07:25,499 E 113297 113332] (raylet) file_system_monitor.cc:111: /home/emeka/PrivacyBench/logs/ray/session_2025-05-06_17-52-42_619310_95096 is over 95% full, available space: 712183808; capacity: 52589998080. Object creation will fail if spilling is required.\n",
      "\u001b[36m(ClientAppActor pid=115201)\u001b[0m /home/emeka/.local/share/uv/python/cpython-3.12.10-linux-x86_64-gnu/lib/python3.12/multiprocessing/popen_fork.py:66: DeprecationWarning: This process (pid=115201) is multi-threaded, use of fork() may lead to deadlocks in the child.\n",
      "\u001b[36m(ClientAppActor pid=115201)\u001b[0m   self.pid = os.fork()\n",
      "\u001b[33m(raylet)\u001b[0m [2025-05-06 18:07:35,510 E 113297 113332] (raylet) file_system_monitor.cc:111: /home/emeka/PrivacyBench/logs/ray/session_2025-05-06_17-52-42_619310_95096 is over 95% full, available space: 712122368; capacity: 52589998080. Object creation will fail if spilling is required.\n"
     ]
    },
    {
     "name": "stdout",
     "output_type": "stream",
     "text": [
      "\u001b[36m(ClientAppActor pid=115201)\u001b[0m \n",
      "\u001b[36m(ClientAppActor pid=115201)\u001b[0m 🔎 Tracker: FL + CDP-CF (CNN)\n",
      "\u001b[36m(ClientAppActor pid=115201)\u001b[0m 📁 Logs saved to: /home/emeka/PrivacyBench/logs/emissions/FL_CDP-CF_CNN/client_emissions.csv\n",
      "\u001b[36m(ClientAppActor pid=115201)\u001b[0m ⏱️ Total training time: 1 minutes 40 seconds\n"
     ]
    },
    {
     "name": "stderr",
     "output_type": "stream",
     "text": [
      "\u001b[36m(ClientAppActor pid=115201)\u001b[0m \u001b[92mINFO \u001b[0m:      fixedclipping_mod: parameters are clipped by value: 500.5000.\n",
      "\u001b[36m(ClientAppActor pid=115201)\u001b[0m 2025-05-06 18:07:43,384 - INFO - fixedclipping_mod: parameters are clipped by value: 500.5000.\n",
      "\u001b[36m(ClientAppActor pid=115201)\u001b[0m Seed set to 42\n",
      "\u001b[36m(ClientAppActor pid=115201)\u001b[0m /home/emeka/.local/share/uv/python/cpython-3.12.10-linux-x86_64-gnu/lib/python3.12/multiprocessing/popen_fork.py:66: DeprecationWarning: This process (pid=115201) is multi-threaded, use of fork() may lead to deadlocks in the child.\n",
      "\u001b[36m(ClientAppActor pid=115201)\u001b[0m   self.pid = os.fork()\n",
      "\u001b[33m(raylet)\u001b[0m [2025-05-06 18:07:45,520 E 113297 113332] (raylet) file_system_monitor.cc:111: /home/emeka/PrivacyBench/logs/ray/session_2025-05-06_17-52-42_619310_95096 is over 95% full, available space: 712044544; capacity: 52589998080. Object creation will fail if spilling is required.\n"
     ]
    },
    {
     "name": "stdout",
     "output_type": "stream",
     "text": [
      "\u001b[36m(ClientAppActor pid=115202)\u001b[0m \n"
     ]
    },
    {
     "name": "stderr",
     "output_type": "stream",
     "text": [
      "\u001b[36m(ClientAppActor pid=115202)\u001b[0m \u001b[92mINFO \u001b[0m:      fixedclipping_mod: parameters are clipped by value: 500.5000.\n",
      "\u001b[36m(ClientAppActor pid=115202)\u001b[0m 2025-05-06 18:07:46,166 - INFO - fixedclipping_mod: parameters are clipped by value: 500.5000.\n",
      "\u001b[33m(raylet)\u001b[0m [2025-05-06 18:07:55,530 E 113297 113332] (raylet) file_system_monitor.cc:111: /home/emeka/PrivacyBench/logs/ray/session_2025-05-06_17-52-42_619310_95096 is over 95% full, available space: 711888896; capacity: 52589998080. Object creation will fail if spilling is required.\n",
      "\u001b[33m(raylet)\u001b[0m [2025-05-06 18:08:05,541 E 113297 113332] (raylet) file_system_monitor.cc:111: /home/emeka/PrivacyBench/logs/ray/session_2025-05-06_17-52-42_619310_95096 is over 95% full, available space: 711536640; capacity: 52589998080. Object creation will fail if spilling is required.\n",
      "\u001b[33m(raylet)\u001b[0m [2025-05-06 18:08:15,549 E 113297 113332] (raylet) file_system_monitor.cc:111: /home/emeka/PrivacyBench/logs/ray/session_2025-05-06_17-52-42_619310_95096 is over 95% full, available space: 711483392; capacity: 52589998080. Object creation will fail if spilling is required.\n",
      "\u001b[33m(raylet)\u001b[0m [2025-05-06 18:08:25,558 E 113297 113332] (raylet) file_system_monitor.cc:111: /home/emeka/PrivacyBench/logs/ray/session_2025-05-06_17-52-42_619310_95096 is over 95% full, available space: 711450624; capacity: 52589998080. Object creation will fail if spilling is required.\n",
      "\u001b[33m(raylet)\u001b[0m [2025-05-06 18:08:35,567 E 113297 113332] (raylet) file_system_monitor.cc:111: /home/emeka/PrivacyBench/logs/ray/session_2025-05-06_17-52-42_619310_95096 is over 95% full, available space: 711364608; capacity: 52589998080. Object creation will fail if spilling is required.\n",
      "\u001b[33m(raylet)\u001b[0m [2025-05-06 18:08:45,575 E 113297 113332] (raylet) file_system_monitor.cc:111: /home/emeka/PrivacyBench/logs/ray/session_2025-05-06_17-52-42_619310_95096 is over 95% full, available space: 711254016; capacity: 52589998080. Object creation will fail if spilling is required.\n",
      "\u001b[33m(raylet)\u001b[0m [2025-05-06 18:08:55,585 E 113297 113332] (raylet) file_system_monitor.cc:111: /home/emeka/PrivacyBench/logs/ray/session_2025-05-06_17-52-42_619310_95096 is over 95% full, available space: 711118848; capacity: 52589998080. Object creation will fail if spilling is required.\n",
      "\u001b[36m(ClientAppActor pid=115201)\u001b[0m /home/emeka/.local/share/uv/python/cpython-3.12.10-linux-x86_64-gnu/lib/python3.12/multiprocessing/popen_fork.py:66: DeprecationWarning: This process (pid=115201) is multi-threaded, use of fork() may lead to deadlocks in the child.\n",
      "\u001b[36m(ClientAppActor pid=115201)\u001b[0m   self.pid = os.fork()\n",
      "\u001b[33m(raylet)\u001b[0m [2025-05-06 18:09:05,595 E 113297 113332] (raylet) file_system_monitor.cc:111: /home/emeka/PrivacyBench/logs/ray/session_2025-05-06_17-52-42_619310_95096 is over 95% full, available space: 710889472; capacity: 52589998080. Object creation will fail if spilling is required.\n"
     ]
    },
    {
     "name": "stdout",
     "output_type": "stream",
     "text": [
      "\u001b[36m(ClientAppActor pid=115201)\u001b[0m \n",
      "\u001b[36m(ClientAppActor pid=115201)\u001b[0m 🔎 Tracker: FL + CDP-CF (CNN)\u001b[32m [repeated 2x across cluster]\u001b[0m\n",
      "\u001b[36m(ClientAppActor pid=115201)\u001b[0m 📁 Logs saved to: /home/emeka/PrivacyBench/logs/emissions/FL_CDP-CF_CNN/client_emissions.csv\u001b[32m [repeated 2x across cluster]\u001b[0m\n",
      "\u001b[36m(ClientAppActor pid=115201)\u001b[0m ⏱️ Total training time: 1 minutes 28 seconds\u001b[32m [repeated 2x across cluster]\u001b[0m\n"
     ]
    },
    {
     "name": "stderr",
     "output_type": "stream",
     "text": [
      "\u001b[36m(ClientAppActor pid=115201)\u001b[0m \u001b[92mINFO \u001b[0m:      fixedclipping_mod: parameters are clipped by value: 500.5000.\n",
      "\u001b[36m(ClientAppActor pid=115201)\u001b[0m 2025-05-06 18:09:12,052 - INFO - fixedclipping_mod: parameters are clipped by value: 500.5000.\n",
      "\u001b[92mINFO \u001b[0m:      aggregate_fit: received 3 results and 0 failures\n",
      "\u001b[92mINFO \u001b[0m:      aggregate_fit: central DP noise with 0.0000 stdev added\n",
      "/home/emeka/.local/share/uv/python/cpython-3.12.10-linux-x86_64-gnu/lib/python3.12/multiprocessing/popen_fork.py:66: DeprecationWarning: This process (pid=95096) is multi-threaded, use of fork() may lead to deadlocks in the child.\n",
      "  self.pid = os.fork()\n",
      "\u001b[33m(raylet)\u001b[0m [2025-05-06 18:09:15,604 E 113297 113332] (raylet) file_system_monitor.cc:111: /home/emeka/PrivacyBench/logs/ray/session_2025-05-06_17-52-42_619310_95096 is over 95% full, available space: 710791168; capacity: 52589998080. Object creation will fail if spilling is required.\n",
      "\u001b[92mINFO \u001b[0m:      fit progress: (5, 0.2680968377739191, {'accuracy': 0.91015625}, 985.0255587970005)\n",
      "\u001b[92mINFO \u001b[0m:      configure_evaluate: strategy sampled 3 clients (out of 3)\n",
      "\u001b[36m(ClientAppActor pid=115201)\u001b[0m /home/emeka/.local/share/uv/python/cpython-3.12.10-linux-x86_64-gnu/lib/python3.12/multiprocessing/popen_fork.py:66: DeprecationWarning: This process (pid=115201) is multi-threaded, use of fork() may lead to deadlocks in the child.\n",
      "\u001b[36m(ClientAppActor pid=115201)\u001b[0m   self.pid = os.fork()\n",
      "\u001b[92mINFO \u001b[0m:      aggregate_evaluate: received 3 results and 0 failures\n",
      "\u001b[92mINFO \u001b[0m:      \n",
      "\u001b[92mINFO \u001b[0m:      [SUMMARY]\n",
      "\u001b[92mINFO \u001b[0m:      Run finished 5 round(s) in 988.24s\n",
      "\u001b[92mINFO \u001b[0m:      \tHistory (loss, distributed):\n",
      "\u001b[92mINFO \u001b[0m:      \t\tround 1: 1.7710999846458435\n",
      "\u001b[92mINFO \u001b[0m:      \t\tround 2: 2.2315012415250144\n",
      "\u001b[92mINFO \u001b[0m:      \t\tround 3: 1.6537106037139893\n",
      "\u001b[92mINFO \u001b[0m:      \t\tround 4: 0.39542061525086564\n",
      "\u001b[92mINFO \u001b[0m:      \t\tround 5: 0.2065166368459662\n",
      "\u001b[92mINFO \u001b[0m:      \tHistory (loss, centralized):\n",
      "\u001b[92mINFO \u001b[0m:      \t\tround 0: 1.7335564613342285\n",
      "\u001b[92mINFO \u001b[0m:      \t\tround 1: 1.7722426354885101\n",
      "\u001b[92mINFO \u001b[0m:      \t\tround 2: 2.270385813713074\n",
      "\u001b[92mINFO \u001b[0m:      \t\tround 3: 1.6266222536563872\n",
      "\u001b[92mINFO \u001b[0m:      \t\tround 4: 0.4247134067118168\n",
      "\u001b[92mINFO \u001b[0m:      \t\tround 5: 0.2680968377739191\n",
      "\u001b[92mINFO \u001b[0m:      \tHistory (metrics, distributed, evaluate):\n",
      "\u001b[92mINFO \u001b[0m:      \t{'accuracy': [(1, 0.3746958637469586),\n",
      "\u001b[92mINFO \u001b[0m:      \t              (2, 0.4306569343065693),\n",
      "\u001b[92mINFO \u001b[0m:      \t              (3, 0.5985401459854015),\n",
      "\u001b[92mINFO \u001b[0m:      \t              (4, 0.8564476885644768),\n",
      "\u001b[92mINFO \u001b[0m:      \t              (5, 0.9051094890510949)]}\n",
      "\u001b[92mINFO \u001b[0m:      \tHistory (metrics, centralized):\n",
      "\u001b[92mINFO \u001b[0m:      \t{'accuracy': [(0, 0.28203125),\n",
      "\u001b[92mINFO \u001b[0m:      \t              (1, 0.37265625),\n",
      "\u001b[92mINFO \u001b[0m:      \t              (2, 0.40703125),\n",
      "\u001b[92mINFO \u001b[0m:      \t              (3, 0.5890625),\n",
      "\u001b[92mINFO \u001b[0m:      \t              (4, 0.86015625),\n",
      "\u001b[92mINFO \u001b[0m:      \t              (5, 0.91015625)]}\n",
      "\u001b[92mINFO \u001b[0m:      \n",
      "\u001b[36m(ClientAppActor pid=115202)\u001b[0m /home/emeka/.local/share/uv/python/cpython-3.12.10-linux-x86_64-gnu/lib/python3.12/multiprocessing/popen_fork.py:66: DeprecationWarning: This process (pid=115202) is multi-threaded, use of fork() may lead to deadlocks in the child.\n",
      "\u001b[36m(ClientAppActor pid=115202)\u001b[0m   self.pid = os.fork()\n"
     ]
    },
    {
     "name": "stdout",
     "output_type": "stream",
     "text": [
      "\n",
      "🕒 Total Time: 16 min 35 sec\n"
     ]
    }
   ],
   "source": [
    "project_root =  os.path.abspath(\"../..\")\n",
    "\n",
    "ray.shutdown()\n",
    "\n",
    "ray.init(\n",
    "    _temp_dir=str(RAY_LOG_DIR),\n",
    "    runtime_env={\n",
    "        \"env_vars\": {\n",
    "            \"PYTHONWARNINGS\": \"ignore::DeprecationWarning\",  # More specific warning filter\n",
    "            \"OMP_NUM_THREADS\": \"1\"  # Prevents thread oversubscription\n",
    "        },\n",
    "        \"working_dir\": project_root,\n",
    "        'excludes': ['data', '.cache', '.docker', '.local', 'logs/model']\n",
    "    },\n",
    "    ignore_reinit_error=True\n",
    ")\n",
    "\n",
    "start_time = time.perf_counter()\n",
    "\n",
    "run_simulation(\n",
    "    server_app = server,\n",
    "    client_app = client,\n",
    "    num_supernodes = fed_config.get(\"num_clients\"),\n",
    "    backend_config=backend_setup\n",
    ")\n",
    "\n",
    "\n",
    "end_time = time.perf_counter()\n",
    "duration = end_time - start_time\n",
    "print(f\"\\n🕒 Total Time: {duration // 60:.0f} min {duration % 60:.0f} sec\")\n",
    "\n",
    "ray.shutdown()"
   ]
  },
  {
   "cell_type": "code",
   "execution_count": null,
   "id": "a5eb78a7",
   "metadata": {},
   "outputs": [],
   "source": []
  }
 ],
 "metadata": {
  "kernelspec": {
   "display_name": "privacybench",
   "language": "python",
   "name": "python3"
  },
  "language_info": {
   "codemirror_mode": {
    "name": "ipython",
    "version": 3
   },
   "file_extension": ".py",
   "mimetype": "text/x-python",
   "name": "python",
   "nbconvert_exporter": "python",
   "pygments_lexer": "ipython3",
   "version": "3.12.11"
  }
 },
 "nbformat": 4,
 "nbformat_minor": 5
}
