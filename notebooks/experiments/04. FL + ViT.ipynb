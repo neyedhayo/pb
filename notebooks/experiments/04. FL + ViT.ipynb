{
 "cells": [
  {
   "cell_type": "markdown",
   "id": "a0f613f4-5943-4e56-904e-cda362a39136",
   "metadata": {},
   "source": [
    "# <center>PrivacyBench: Federated Learning (ViT)</center>"
   ]
  },
  {
   "cell_type": "markdown",
   "id": "0bf67650-39e4-4360-9e2f-cf39a0caa147",
   "metadata": {},
   "source": [
    "## Evaluating Federated Learning with ViT\n",
    "\n",
    "As part of the PrivacyBench benchmarking suite, this notebook implements Federated Learning (FL) using a Vision Transformer (ViT) to evaluate how privacy-preserving decentralization impacts transformer-based model utility, training efficiency, and energy consumption.\n",
    "\n",
    "--- "
   ]
  },
  {
   "cell_type": "code",
   "execution_count": 1,
   "id": "f468caec-9c59-47a3-bebb-5d015797d6c6",
   "metadata": {},
   "outputs": [
    {
     "name": "stdout",
     "output_type": "stream",
     "text": [
      "Python implementation: CPython\n",
      "Python version       : 3.12.10\n",
      "IPython version      : 9.1.0\n",
      "\n",
      "torch: 2.6.0\n",
      "flwr : 1.18.0\n",
      "\n"
     ]
    }
   ],
   "source": [
    "%load_ext autoreload\n",
    "%load_ext watermark\n",
    "    \n",
    "%autoreload 2\n",
    "%watermark --python -p torch,flwr"
   ]
  },
  {
   "cell_type": "markdown",
   "id": "e77b8f0e-b1c2-4d8a-b7ef-18596e7db564",
   "metadata": {},
   "source": [
    "--------\n",
    "\n",
    "## Loading Dependencies"
   ]
  },
  {
   "cell_type": "code",
   "execution_count": 2,
   "id": "ecfe546a-a455-4deb-b375-297379eaa142",
   "metadata": {},
   "outputs": [],
   "source": [
    "import os\n",
    "import sys\n",
    "sys.path.append(\"../..\")\n",
    "\n",
    "import ray\n",
    "import time\n",
    "\n",
    "import torch.nn as nn\n",
    "from transformers import ViTForImageClassification\n",
    "\n",
    "from logging import ERROR\n",
    "\n",
    "from flwr.common import ndarrays_to_parameters, Context \n",
    "from flwr.client import Client, ClientApp\n",
    "from flwr.server import ServerApp, ServerConfig, ServerAppComponents\n",
    "from flwr.server.strategy import FedAvg \n",
    "from flwr.simulation import run_simulation \n",
    "\n",
    "from src.config import ExperimentName\n",
    "from src.FL_client import MedicalImageClient\n",
    "from src.FL_server import weighted_average, build_evaluate_fn\n",
    "from src.paths import RAY_LOG_DIR\n",
    "from src.local_utility import load_yaml_config, get_weights, set_device, prepare_FL_dataset\n",
    "from src.tracker import reset_base_memory_csv"
   ]
  },
  {
   "cell_type": "markdown",
   "id": "b610703b-c121-49f7-b720-18cc701d53ff",
   "metadata": {},
   "source": [
    "------"
   ]
  },
  {
   "cell_type": "code",
   "execution_count": 3,
   "id": "5eb74caf",
   "metadata": {},
   "outputs": [],
   "source": [
    "# Replace with appropritate values\n",
    "data_name_ = \"skin_lesions\" #'alzheimer' #\n",
    "base_type_ = \"vit\"       \n",
    "exp_name_ = \"FL\"\n",
    "num_labels_ = 8 #Alzheimer-4 & skin_lesions-8 classlabels\n",
    "experiment_name_ = ExperimentName.FL_VIT "
   ]
  },
  {
   "cell_type": "code",
   "execution_count": 4,
   "id": "1895626e-dc20-41b9-82c2-fc3e1abb9f9b",
   "metadata": {},
   "outputs": [],
   "source": [
    "DEVICE = set_device()\n",
    "reset_base_memory_csv()\n",
    "\n",
    "fed_config = load_yaml_config(key=\"experiments\", item_name=experiment_name_)\n",
    "client_dataloaders = prepare_FL_dataset(exp_name = exp_name_, data_name=data_name_, base_type=base_type_, augment_data=True)"
   ]
  },
  {
   "cell_type": "markdown",
   "id": "001407f0-4658-4c2b-a1c8-3a14db891204",
   "metadata": {},
   "source": [
    "------"
   ]
  },
  {
   "cell_type": "code",
   "execution_count": 5,
   "id": "4f1d14b1-ebd0-49eb-9167-2201e121039b",
   "metadata": {},
   "outputs": [],
   "source": [
    "def client_fn(context: Context) -> Client:\n",
    "    \"\"\"\n",
    "    Creates and initializes a federated learning client.\n",
    "\n",
    "    This function initializes a client in the federated learning setup by \n",
    "    assigning a unique partitioned dataset and a machine learning model \n",
    "    for training and validation.\n",
    "\n",
    "    Args:\n",
    "        context (Context): The execution context containing client-specific configurations.\n",
    "\n",
    "    Returns:\n",
    "        Client: A configured federated learning client ready to participate in training.\n",
    "    \"\"\"\n",
    "    partition_id = int(context.node_config[\"partition-id\"]) #<--- Get the client partition ID\n",
    "    \n",
    "    model = ViTForImageClassification.from_pretrained(\"google/vit-base-patch16-224-in21k\", \n",
    "                                                      num_labels=num_labels_, \n",
    "                                                      ignore_mismatched_sizes=True\n",
    "                                                      )\n",
    "\n",
    "    # Assign partitioned client dataset\n",
    "    train_loader, val_loader, test_loader = client_dataloaders[partition_id]\n",
    "    \n",
    "    return MedicalImageClient(model, train_loader, val_loader, exp_name=exp_name_, data_name=data_name_, base_type=base_type_, client_id=partition_id).to_client()\n",
    "\n",
    "client = ClientApp(client_fn)"
   ]
  },
  {
   "cell_type": "code",
   "execution_count": 6,
   "id": "73ee8108-0f95-4630-be07-c51376f3668b",
   "metadata": {},
   "outputs": [],
   "source": [
    "def server_fn(context: Context):\n",
    "    \"\"\"\n",
    "    Creates and configures the federated learning server using the FedAvg strategy.\n",
    "\n",
    "    This function initializes the federated learning server with a FedAvg strategy,\n",
    "    specifying the parameters for client participation in training and evaluation,\n",
    "    the global model evaluation function, and the metric aggregation function.\n",
    "\n",
    "    Args:\n",
    "        context (Context): The execution context for the federated learning server.\n",
    "\n",
    "    Returns:\n",
    "        ServerAppComponents: A configured server application with the defined strategy\n",
    "        and server settings.\n",
    "    \"\"\"\n",
    "    model = ViTForImageClassification.from_pretrained(\"google/vit-base-patch16-224-in21k\", num_labels=num_labels_)\n",
    "    params = ndarrays_to_parameters(get_weights(model))\n",
    "\n",
    "    # Create FedAvg strategy\n",
    "    strategy = FedAvg(\n",
    "        fraction_fit=1.0,                 #<--- Sample 100% of available clients for training\n",
    "        fraction_evaluate=1.0,            #<--- Sample 100% of available clients for evaluation\n",
    "        initial_parameters=params,        #<--- Initial model parameters\n",
    "        evaluate_fn=build_evaluate_fn(    #<--- Global evaluation function\n",
    "            exp_name = exp_name_, \n",
    "            base_type = base_type_,\n",
    "            data_name=data_name_, \n",
    "            experiment_item=experiment_name_, \n",
    "            num_labels=num_labels_\n",
    "            ), \n",
    "        evaluate_metrics_aggregation_fn=weighted_average,  #<-- pass the metric aggregation function\n",
    "    )\n",
    "\n",
    "    # Configure the server with the specified number of federated rounds\n",
    "    sever_config = ServerConfig(num_rounds=fed_config['num_rounds']) #<--- no. of federated rounds\n",
    "    \n",
    "    return ServerAppComponents(strategy = strategy, config = sever_config)\n",
    "\n",
    "\n",
    "# Wrap the server function in a ServerApp, and instantiate it\n",
    "server = ServerApp(server_fn = server_fn) "
   ]
  },
  {
   "cell_type": "markdown",
   "id": "c55a4ea4-e96f-43c5-be23-94726f89e786",
   "metadata": {},
   "source": [
    "----- \n",
    "\n",
    "Set up our backend configurations before running the simulation\n",
    "\n",
    "> - `init_args`: filter logging coming from the Simulation Engine so it's more readable in notebooks\n",
    "> - `client_resources`: by default, allocate to each client 1x CPU and 0x GPUs. However, when running on GPU, assign an entire GPU for each client"
   ]
  },
  {
   "cell_type": "code",
   "execution_count": 7,
   "id": "aa863db4-8ec3-4a7d-9b0e-690276674543",
   "metadata": {},
   "outputs": [],
   "source": [
    "backend_setup = {\n",
    "    \"init_args\": {\n",
    "        \"logging_level\": ERROR, \n",
    "        \"log_to_driver\": fed_config.get(\"log_to_driver\")\n",
    "    },\n",
    "    \"client_resources\": {\n",
    "        \"num_cpus\": fed_config.get(\"num_cpus\"), \n",
    "        \"num_gpus\": fed_config.get(\"num_gpus\")            \n",
    "    },\n",
    "}\n",
    "\n",
    "# When running on GPU, assign an entire GPU for each client\n",
    "if DEVICE == \"cuda\": \n",
    "    backend_setup[\"client_resources\"] = {\"num_cpus\": 1, \"num_gpus\": 1.0}"
   ]
  },
  {
   "cell_type": "markdown",
   "id": "107149ba-21f2-4940-9884-21e44089cc4e",
   "metadata": {},
   "source": [
    "--- \n",
    "\n",
    "## Initiate the Simulation \n",
    "\n",
    "Initiate the simulation by passing the server and client apps, and specify the number of supernodes that will be selected on every round. "
   ]
  },
  {
   "cell_type": "code",
   "execution_count": 8,
   "id": "fe733cda-85d3-4a63-a9d8-56eed6d2f78a",
   "metadata": {},
   "outputs": [
    {
     "name": "stderr",
     "output_type": "stream",
     "text": [
      "2025-05-14 14:45:41,131\tINFO worker.py:1771 -- Started a local Ray instance.\n",
      "2025-05-14 14:45:41,635\tINFO packaging.py:530 -- Creating a file package for local directory '/home/emeka/PrivacyBench'.\n",
      "2025-05-14 14:45:42,315\tINFO packaging.py:358 -- Pushing file package 'gcs://_ray_pkg_ed9f9355efc932e1.zip' (24.80MiB) to Ray cluster...\n",
      "2025-05-14 14:45:42,391\tINFO packaging.py:371 -- Successfully pushed file package 'gcs://_ray_pkg_ed9f9355efc932e1.zip'.\n",
      "05/14/2025 14:45:43:DEBUG:Asyncio event loop already running.\n",
      "Some weights of ViTForImageClassification were not initialized from the model checkpoint at google/vit-base-patch16-224-in21k and are newly initialized: ['classifier.bias', 'classifier.weight']\n",
      "You should probably TRAIN this model on a down-stream task to be able to use it for predictions and inference.\n",
      "\u001b[92mINFO \u001b[0m:      Starting Flower ServerApp, config: num_rounds=5, no round_timeout\n",
      "\u001b[92mINFO \u001b[0m:      \n",
      "\u001b[92mINFO \u001b[0m:      [INIT]\n",
      "\u001b[92mINFO \u001b[0m:      Using initial global parameters provided by strategy\n",
      "\u001b[92mINFO \u001b[0m:      Starting evaluation of initial global parameters\n",
      "[codecarbon WARNING @ 14:45:44] Multiple instances of codecarbon are allowed to run at the same time.\n",
      "Some weights of ViTForImageClassification were not initialized from the model checkpoint at google/vit-base-patch16-224-in21k and are newly initialized: ['classifier.bias', 'classifier.weight']\n",
      "You should probably TRAIN this model on a down-stream task to be able to use it for predictions and inference.\n",
      "/home/emeka/.local/share/uv/python/cpython-3.12.10-linux-x86_64-gnu/lib/python3.12/multiprocessing/popen_fork.py:66: DeprecationWarning: This process (pid=124021) is multi-threaded, use of fork() may lead to deadlocks in the child.\n",
      "  self.pid = os.fork()\n",
      "/home/emeka/PrivacyBench/.venv/lib/python3.12/site-packages/codecarbon/output_methods/file.py:52: FutureWarning: The behavior of DataFrame concatenation with empty or all-NA entries is deprecated. In a future version, this will no longer exclude empty or all-NA columns when determining the result dtypes. To retain the old behavior, exclude the relevant entries before the concat operation.\n",
      "  df = pd.concat([df, pd.DataFrame.from_records([dict(total.values)])])\n",
      "/home/emeka/PrivacyBench/notebooks/experiments/../../src/tracker.py:89: FutureWarning: The behavior of DataFrame concatenation with empty or all-NA entries is deprecated. In a future version, this will no longer exclude empty or all-NA columns when determining the result dtypes. To retain the old behavior, exclude the relevant entries before the concat operation.\n",
      "  df = pd.concat([df, pd.DataFrame([new_row])], ignore_index=True)\n",
      "\u001b[92mINFO \u001b[0m:      initial parameters (loss, other metrics): 2.1145646212852163, {'accuracy': 0.08774193548387096}\n",
      "\u001b[92mINFO \u001b[0m:      \n",
      "\u001b[92mINFO \u001b[0m:      [ROUND 1]\n",
      "\u001b[92mINFO \u001b[0m:      configure_fit: strategy sampled 3 clients (out of 3)\n",
      "\u001b[36m(ClientAppActor pid=126283)\u001b[0m Some weights of ViTForImageClassification were not initialized from the model checkpoint at google/vit-base-patch16-224-in21k and are newly initialized: ['classifier.bias', 'classifier.weight']\n",
      "\u001b[36m(ClientAppActor pid=126283)\u001b[0m You should probably TRAIN this model on a down-stream task to be able to use it for predictions and inference.\n",
      "\u001b[36m(ClientAppActor pid=126282)\u001b[0m Seed set to 42\n",
      "\u001b[36m(ClientAppActor pid=126282)\u001b[0m [codecarbon WARNING @ 14:46:47] Multiple instances of codecarbon are allowed to run at the same time.\n",
      "\u001b[36m(ClientAppActor pid=126282)\u001b[0m /home/emeka/.local/share/uv/python/cpython-3.12.10-linux-x86_64-gnu/lib/python3.12/multiprocessing/popen_fork.py:66: DeprecationWarning: This process (pid=126282) is multi-threaded, use of fork() may lead to deadlocks in the child.\n",
      "\u001b[36m(ClientAppActor pid=126282)\u001b[0m   self.pid = os.fork()\n",
      "\u001b[36m(ClientAppActor pid=126282)\u001b[0m Some weights of ViTForImageClassification were not initialized from the model checkpoint at google/vit-base-patch16-224-in21k and are newly initialized: ['classifier.bias', 'classifier.weight']\n",
      "\u001b[36m(ClientAppActor pid=126282)\u001b[0m You should probably TRAIN this model on a down-stream task to be able to use it for predictions and inference.\n",
      "\u001b[36m(ClientAppActor pid=126283)\u001b[0m Seed set to 42\n",
      "\u001b[36m(ClientAppActor pid=126283)\u001b[0m [codecarbon WARNING @ 14:46:47] Multiple instances of codecarbon are allowed to run at the same time.\n",
      "\u001b[36m(ClientAppActor pid=126283)\u001b[0m /home/emeka/.local/share/uv/python/cpython-3.12.10-linux-x86_64-gnu/lib/python3.12/multiprocessing/popen_fork.py:66: DeprecationWarning: This process (pid=126283) is multi-threaded, use of fork() may lead to deadlocks in the child.\u001b[32m [repeated 2x across cluster] (Ray deduplicates logs by default. Set RAY_DEDUP_LOGS=0 to disable log deduplication, or see https://docs.ray.io/en/master/ray-observability/user-guides/configure-logging.html#log-deduplication for more options.)\u001b[0m\n",
      "\u001b[36m(ClientAppActor pid=126283)\u001b[0m   self.pid = os.fork()\u001b[32m [repeated 2x across cluster]\u001b[0m\n",
      "\u001b[36m(ClientAppActor pid=126282)\u001b[0m /home/emeka/.local/share/uv/python/cpython-3.12.10-linux-x86_64-gnu/lib/python3.12/multiprocessing/popen_fork.py:66: DeprecationWarning: This process (pid=126282) is multi-threaded, use of fork() may lead to deadlocks in the child.\n",
      "\u001b[36m(ClientAppActor pid=126282)\u001b[0m   self.pid = os.fork()\n",
      "\u001b[36m(ClientAppActor pid=126282)\u001b[0m /home/emeka/.local/share/uv/python/cpython-3.12.10-linux-x86_64-gnu/lib/python3.12/multiprocessing/popen_fork.py:66: DeprecationWarning: This process (pid=126282) is multi-threaded, use of fork() may lead to deadlocks in the child.\n",
      "\u001b[36m(ClientAppActor pid=126282)\u001b[0m   self.pid = os.fork()\n",
      "\u001b[36m(ClientAppActor pid=126283)\u001b[0m /home/emeka/.local/share/uv/python/cpython-3.12.10-linux-x86_64-gnu/lib/python3.12/multiprocessing/popen_fork.py:66: DeprecationWarning: This process (pid=126283) is multi-threaded, use of fork() may lead to deadlocks in the child.\n",
      "\u001b[36m(ClientAppActor pid=126283)\u001b[0m   self.pid = os.fork()\n",
      "\u001b[36m(ClientAppActor pid=126283)\u001b[0m /home/emeka/.local/share/uv/python/cpython-3.12.10-linux-x86_64-gnu/lib/python3.12/multiprocessing/popen_fork.py:66: DeprecationWarning: This process (pid=126283) is multi-threaded, use of fork() may lead to deadlocks in the child.\n",
      "\u001b[36m(ClientAppActor pid=126283)\u001b[0m   self.pid = os.fork()\n",
      "\u001b[36m(ClientAppActor pid=126282)\u001b[0m /home/emeka/.local/share/uv/python/cpython-3.12.10-linux-x86_64-gnu/lib/python3.12/multiprocessing/popen_fork.py:66: DeprecationWarning: This process (pid=126282) is multi-threaded, use of fork() may lead to deadlocks in the child.\n",
      "\u001b[36m(ClientAppActor pid=126282)\u001b[0m   self.pid = os.fork()\n",
      "\u001b[36m(ClientAppActor pid=126282)\u001b[0m /home/emeka/.local/share/uv/python/cpython-3.12.10-linux-x86_64-gnu/lib/python3.12/multiprocessing/popen_fork.py:66: DeprecationWarning: This process (pid=126282) is multi-threaded, use of fork() may lead to deadlocks in the child.\n",
      "\u001b[36m(ClientAppActor pid=126282)\u001b[0m   self.pid = os.fork()\n",
      "\u001b[36m(ClientAppActor pid=126283)\u001b[0m /home/emeka/.local/share/uv/python/cpython-3.12.10-linux-x86_64-gnu/lib/python3.12/multiprocessing/popen_fork.py:66: DeprecationWarning: This process (pid=126283) is multi-threaded, use of fork() may lead to deadlocks in the child.\n",
      "\u001b[36m(ClientAppActor pid=126283)\u001b[0m   self.pid = os.fork()\n",
      "\u001b[36m(ClientAppActor pid=126283)\u001b[0m /home/emeka/.local/share/uv/python/cpython-3.12.10-linux-x86_64-gnu/lib/python3.12/multiprocessing/popen_fork.py:66: DeprecationWarning: This process (pid=126283) is multi-threaded, use of fork() may lead to deadlocks in the child.\n",
      "\u001b[36m(ClientAppActor pid=126283)\u001b[0m   self.pid = os.fork()\n",
      "\u001b[36m(ClientAppActor pid=126282)\u001b[0m /home/emeka/.local/share/uv/python/cpython-3.12.10-linux-x86_64-gnu/lib/python3.12/multiprocessing/popen_fork.py:66: DeprecationWarning: This process (pid=126282) is multi-threaded, use of fork() may lead to deadlocks in the child.\n",
      "\u001b[36m(ClientAppActor pid=126282)\u001b[0m   self.pid = os.fork()\n",
      "\u001b[36m(ClientAppActor pid=126282)\u001b[0m /home/emeka/.local/share/uv/python/cpython-3.12.10-linux-x86_64-gnu/lib/python3.12/multiprocessing/popen_fork.py:66: DeprecationWarning: This process (pid=126282) is multi-threaded, use of fork() may lead to deadlocks in the child.\n",
      "\u001b[36m(ClientAppActor pid=126282)\u001b[0m   self.pid = os.fork()\n",
      "\u001b[36m(ClientAppActor pid=126283)\u001b[0m /home/emeka/.local/share/uv/python/cpython-3.12.10-linux-x86_64-gnu/lib/python3.12/multiprocessing/popen_fork.py:66: DeprecationWarning: This process (pid=126283) is multi-threaded, use of fork() may lead to deadlocks in the child.\n",
      "\u001b[36m(ClientAppActor pid=126283)\u001b[0m   self.pid = os.fork()\n"
     ]
    },
    {
     "name": "stdout",
     "output_type": "stream",
     "text": [
      "\u001b[36m(ClientAppActor pid=126283)\u001b[0m \n",
      "\u001b[36m(ClientAppActor pid=126283)\u001b[0m 🔎 Tracker: FL (ViT)\n",
      "\u001b[36m(ClientAppActor pid=126283)\u001b[0m 📁 Logs saved to: /home/emeka/PrivacyBench/logs/emissions/skin_lesions/FL_ViT/client_emissions.csv\n",
      "\u001b[36m(ClientAppActor pid=126283)\u001b[0m ⏱️ Total training time: 8 minutes 46 seconds\n"
     ]
    },
    {
     "name": "stderr",
     "output_type": "stream",
     "text": [
      "\u001b[36m(ClientAppActor pid=126283)\u001b[0m /home/emeka/PrivacyBench/.venv/lib/python3.12/site-packages/codecarbon/output_methods/file.py:52: FutureWarning: The behavior of DataFrame concatenation with empty or all-NA entries is deprecated. In a future version, this will no longer exclude empty or all-NA columns when determining the result dtypes. To retain the old behavior, exclude the relevant entries before the concat operation.\n",
      "\u001b[36m(ClientAppActor pid=126283)\u001b[0m   df = pd.concat([df, pd.DataFrame.from_records([dict(total.values)])])\n",
      "\u001b[36m(ClientAppActor pid=126283)\u001b[0m Some weights of ViTForImageClassification were not initialized from the model checkpoint at google/vit-base-patch16-224-in21k and are newly initialized: ['classifier.bias', 'classifier.weight']\n",
      "\u001b[36m(ClientAppActor pid=126283)\u001b[0m You should probably TRAIN this model on a down-stream task to be able to use it for predictions and inference.\n",
      "\u001b[36m(ClientAppActor pid=126283)\u001b[0m Seed set to 42\n",
      "\u001b[36m(ClientAppActor pid=126283)\u001b[0m /home/emeka/.local/share/uv/python/cpython-3.12.10-linux-x86_64-gnu/lib/python3.12/multiprocessing/popen_fork.py:66: DeprecationWarning: This process (pid=126283) is multi-threaded, use of fork() may lead to deadlocks in the child.\n",
      "\u001b[36m(ClientAppActor pid=126283)\u001b[0m   self.pid = os.fork()\n"
     ]
    },
    {
     "name": "stdout",
     "output_type": "stream",
     "text": [
      "\u001b[36m(ClientAppActor pid=126282)\u001b[0m \n",
      "\u001b[36m(ClientAppActor pid=126282)\u001b[0m 🔎 Tracker: FL (ViT)\n",
      "\u001b[36m(ClientAppActor pid=126282)\u001b[0m 📁 Logs saved to: /home/emeka/PrivacyBench/logs/emissions/skin_lesions/FL_ViT/client_emissions.csv\n",
      "\u001b[36m(ClientAppActor pid=126282)\u001b[0m ⏱️ Total training time: 9 minutes 15 seconds\n"
     ]
    },
    {
     "name": "stderr",
     "output_type": "stream",
     "text": [
      "\u001b[36m(ClientAppActor pid=126283)\u001b[0m /home/emeka/.local/share/uv/python/cpython-3.12.10-linux-x86_64-gnu/lib/python3.12/multiprocessing/popen_fork.py:66: DeprecationWarning: This process (pid=126283) is multi-threaded, use of fork() may lead to deadlocks in the child.\n",
      "\u001b[36m(ClientAppActor pid=126283)\u001b[0m   self.pid = os.fork()\n",
      "\u001b[36m(ClientAppActor pid=126283)\u001b[0m /home/emeka/.local/share/uv/python/cpython-3.12.10-linux-x86_64-gnu/lib/python3.12/multiprocessing/popen_fork.py:66: DeprecationWarning: This process (pid=126283) is multi-threaded, use of fork() may lead to deadlocks in the child.\n",
      "\u001b[36m(ClientAppActor pid=126283)\u001b[0m   self.pid = os.fork()\n",
      "\u001b[36m(ClientAppActor pid=126283)\u001b[0m /home/emeka/.local/share/uv/python/cpython-3.12.10-linux-x86_64-gnu/lib/python3.12/multiprocessing/popen_fork.py:66: DeprecationWarning: This process (pid=126283) is multi-threaded, use of fork() may lead to deadlocks in the child.\n",
      "\u001b[36m(ClientAppActor pid=126283)\u001b[0m   self.pid = os.fork()\n",
      "\u001b[36m(ClientAppActor pid=126283)\u001b[0m /home/emeka/.local/share/uv/python/cpython-3.12.10-linux-x86_64-gnu/lib/python3.12/multiprocessing/popen_fork.py:66: DeprecationWarning: This process (pid=126283) is multi-threaded, use of fork() may lead to deadlocks in the child.\n",
      "\u001b[36m(ClientAppActor pid=126283)\u001b[0m   self.pid = os.fork()\n",
      "\u001b[36m(ClientAppActor pid=126283)\u001b[0m /home/emeka/.local/share/uv/python/cpython-3.12.10-linux-x86_64-gnu/lib/python3.12/multiprocessing/popen_fork.py:66: DeprecationWarning: This process (pid=126283) is multi-threaded, use of fork() may lead to deadlocks in the child.\n",
      "\u001b[36m(ClientAppActor pid=126283)\u001b[0m   self.pid = os.fork()\n",
      "\u001b[36m(ClientAppActor pid=126283)\u001b[0m /home/emeka/.local/share/uv/python/cpython-3.12.10-linux-x86_64-gnu/lib/python3.12/multiprocessing/popen_fork.py:66: DeprecationWarning: This process (pid=126283) is multi-threaded, use of fork() may lead to deadlocks in the child.\n",
      "\u001b[36m(ClientAppActor pid=126283)\u001b[0m   self.pid = os.fork()\n"
     ]
    },
    {
     "name": "stdout",
     "output_type": "stream",
     "text": [
      "\u001b[36m(ClientAppActor pid=126283)\u001b[0m \n",
      "\u001b[36m(ClientAppActor pid=126283)\u001b[0m 🔎 Tracker: FL (ViT)\n",
      "\u001b[36m(ClientAppActor pid=126283)\u001b[0m 📁 Logs saved to: /home/emeka/PrivacyBench/logs/emissions/skin_lesions/FL_ViT/client_emissions.csv\n",
      "\u001b[36m(ClientAppActor pid=126283)\u001b[0m ⏱️ Total training time: 8 minutes 51 seconds\n"
     ]
    },
    {
     "name": "stderr",
     "output_type": "stream",
     "text": [
      "\u001b[92mINFO \u001b[0m:      aggregate_fit: received 3 results and 0 failures\n",
      "\u001b[93mWARNING \u001b[0m:   No fit_metrics_aggregation_fn provided\n",
      "Some weights of ViTForImageClassification were not initialized from the model checkpoint at google/vit-base-patch16-224-in21k and are newly initialized: ['classifier.bias', 'classifier.weight']\n",
      "You should probably TRAIN this model on a down-stream task to be able to use it for predictions and inference.\n",
      "/home/emeka/.local/share/uv/python/cpython-3.12.10-linux-x86_64-gnu/lib/python3.12/multiprocessing/popen_fork.py:66: DeprecationWarning: This process (pid=124021) is multi-threaded, use of fork() may lead to deadlocks in the child.\n",
      "  self.pid = os.fork()\n",
      "\u001b[92mINFO \u001b[0m:      fit progress: (1, 0.6292397684883326, {'accuracy': 0.8027956989247312}, 1125.4803097889999)\n",
      "\u001b[92mINFO \u001b[0m:      configure_evaluate: strategy sampled 3 clients (out of 3)\n",
      "\u001b[36m(ClientAppActor pid=126282)\u001b[0m Some weights of ViTForImageClassification were not initialized from the model checkpoint at google/vit-base-patch16-224-in21k and are newly initialized: ['classifier.bias', 'classifier.weight']\n",
      "\u001b[36m(ClientAppActor pid=126282)\u001b[0m You should probably TRAIN this model on a down-stream task to be able to use it for predictions and inference.\n",
      "\u001b[36m(ClientAppActor pid=126282)\u001b[0m /home/emeka/.local/share/uv/python/cpython-3.12.10-linux-x86_64-gnu/lib/python3.12/multiprocessing/popen_fork.py:66: DeprecationWarning: This process (pid=126282) is multi-threaded, use of fork() may lead to deadlocks in the child.\n",
      "\u001b[36m(ClientAppActor pid=126282)\u001b[0m   self.pid = os.fork()\n",
      "\u001b[36m(ClientAppActor pid=126282)\u001b[0m Some weights of ViTForImageClassification were not initialized from the model checkpoint at google/vit-base-patch16-224-in21k and are newly initialized: ['classifier.bias', 'classifier.weight']\u001b[32m [repeated 2x across cluster]\u001b[0m\n",
      "\u001b[36m(ClientAppActor pid=126282)\u001b[0m You should probably TRAIN this model on a down-stream task to be able to use it for predictions and inference.\u001b[32m [repeated 2x across cluster]\u001b[0m\n",
      "\u001b[36m(ClientAppActor pid=126283)\u001b[0m /home/emeka/.local/share/uv/python/cpython-3.12.10-linux-x86_64-gnu/lib/python3.12/multiprocessing/popen_fork.py:66: DeprecationWarning: This process (pid=126283) is multi-threaded, use of fork() may lead to deadlocks in the child.\n",
      "\u001b[36m(ClientAppActor pid=126283)\u001b[0m   self.pid = os.fork()\n",
      "\u001b[92mINFO \u001b[0m:      aggregate_evaluate: received 3 results and 0 failures\n",
      "\u001b[92mINFO \u001b[0m:      \n",
      "\u001b[92mINFO \u001b[0m:      [ROUND 2]\n",
      "\u001b[92mINFO \u001b[0m:      configure_fit: strategy sampled 3 clients (out of 3)\n",
      "\u001b[36m(ClientAppActor pid=126282)\u001b[0m Some weights of ViTForImageClassification were not initialized from the model checkpoint at google/vit-base-patch16-224-in21k and are newly initialized: ['classifier.bias', 'classifier.weight']\n",
      "\u001b[36m(ClientAppActor pid=126282)\u001b[0m You should probably TRAIN this model on a down-stream task to be able to use it for predictions and inference.\n",
      "\u001b[36m(ClientAppActor pid=126283)\u001b[0m Some weights of ViTForImageClassification were not initialized from the model checkpoint at google/vit-base-patch16-224-in21k and are newly initialized: ['classifier.bias', 'classifier.weight']\n",
      "\u001b[36m(ClientAppActor pid=126283)\u001b[0m You should probably TRAIN this model on a down-stream task to be able to use it for predictions and inference.\n",
      "\u001b[36m(ClientAppActor pid=126282)\u001b[0m Seed set to 42\n",
      "\u001b[36m(ClientAppActor pid=126282)\u001b[0m /home/emeka/.local/share/uv/python/cpython-3.12.10-linux-x86_64-gnu/lib/python3.12/multiprocessing/popen_fork.py:66: DeprecationWarning: This process (pid=126282) is multi-threaded, use of fork() may lead to deadlocks in the child.\n",
      "\u001b[36m(ClientAppActor pid=126282)\u001b[0m   self.pid = os.fork()\n",
      "\u001b[36m(ClientAppActor pid=126283)\u001b[0m Seed set to 42\n",
      "\u001b[36m(ClientAppActor pid=126283)\u001b[0m /home/emeka/.local/share/uv/python/cpython-3.12.10-linux-x86_64-gnu/lib/python3.12/multiprocessing/popen_fork.py:66: DeprecationWarning: This process (pid=126283) is multi-threaded, use of fork() may lead to deadlocks in the child.\u001b[32m [repeated 2x across cluster]\u001b[0m\n",
      "\u001b[36m(ClientAppActor pid=126283)\u001b[0m   self.pid = os.fork()\u001b[32m [repeated 2x across cluster]\u001b[0m\n",
      "\u001b[36m(ClientAppActor pid=126282)\u001b[0m /home/emeka/.local/share/uv/python/cpython-3.12.10-linux-x86_64-gnu/lib/python3.12/multiprocessing/popen_fork.py:66: DeprecationWarning: This process (pid=126282) is multi-threaded, use of fork() may lead to deadlocks in the child.\u001b[32m [repeated 2x across cluster]\u001b[0m\n",
      "\u001b[36m(ClientAppActor pid=126282)\u001b[0m   self.pid = os.fork()\u001b[32m [repeated 2x across cluster]\u001b[0m\n",
      "\u001b[36m(ClientAppActor pid=126283)\u001b[0m /home/emeka/.local/share/uv/python/cpython-3.12.10-linux-x86_64-gnu/lib/python3.12/multiprocessing/popen_fork.py:66: DeprecationWarning: This process (pid=126283) is multi-threaded, use of fork() may lead to deadlocks in the child.\n",
      "\u001b[36m(ClientAppActor pid=126283)\u001b[0m   self.pid = os.fork()\n",
      "\u001b[36m(ClientAppActor pid=126283)\u001b[0m /home/emeka/.local/share/uv/python/cpython-3.12.10-linux-x86_64-gnu/lib/python3.12/multiprocessing/popen_fork.py:66: DeprecationWarning: This process (pid=126283) is multi-threaded, use of fork() may lead to deadlocks in the child.\n",
      "\u001b[36m(ClientAppActor pid=126283)\u001b[0m   self.pid = os.fork()\n",
      "\u001b[36m(ClientAppActor pid=126282)\u001b[0m /home/emeka/.local/share/uv/python/cpython-3.12.10-linux-x86_64-gnu/lib/python3.12/multiprocessing/popen_fork.py:66: DeprecationWarning: This process (pid=126282) is multi-threaded, use of fork() may lead to deadlocks in the child.\n",
      "\u001b[36m(ClientAppActor pid=126282)\u001b[0m   self.pid = os.fork()\n",
      "\u001b[36m(ClientAppActor pid=126282)\u001b[0m /home/emeka/.local/share/uv/python/cpython-3.12.10-linux-x86_64-gnu/lib/python3.12/multiprocessing/popen_fork.py:66: DeprecationWarning: This process (pid=126282) is multi-threaded, use of fork() may lead to deadlocks in the child.\n",
      "\u001b[36m(ClientAppActor pid=126282)\u001b[0m   self.pid = os.fork()\n",
      "\u001b[36m(ClientAppActor pid=126283)\u001b[0m /home/emeka/.local/share/uv/python/cpython-3.12.10-linux-x86_64-gnu/lib/python3.12/multiprocessing/popen_fork.py:66: DeprecationWarning: This process (pid=126283) is multi-threaded, use of fork() may lead to deadlocks in the child.\n",
      "\u001b[36m(ClientAppActor pid=126283)\u001b[0m   self.pid = os.fork()\n",
      "\u001b[36m(ClientAppActor pid=126283)\u001b[0m /home/emeka/.local/share/uv/python/cpython-3.12.10-linux-x86_64-gnu/lib/python3.12/multiprocessing/popen_fork.py:66: DeprecationWarning: This process (pid=126283) is multi-threaded, use of fork() may lead to deadlocks in the child.\n",
      "\u001b[36m(ClientAppActor pid=126283)\u001b[0m   self.pid = os.fork()\n",
      "\u001b[36m(ClientAppActor pid=126282)\u001b[0m /home/emeka/.local/share/uv/python/cpython-3.12.10-linux-x86_64-gnu/lib/python3.12/multiprocessing/popen_fork.py:66: DeprecationWarning: This process (pid=126282) is multi-threaded, use of fork() may lead to deadlocks in the child.\n",
      "\u001b[36m(ClientAppActor pid=126282)\u001b[0m   self.pid = os.fork()\n",
      "\u001b[36m(ClientAppActor pid=126282)\u001b[0m /home/emeka/.local/share/uv/python/cpython-3.12.10-linux-x86_64-gnu/lib/python3.12/multiprocessing/popen_fork.py:66: DeprecationWarning: This process (pid=126282) is multi-threaded, use of fork() may lead to deadlocks in the child.\n",
      "\u001b[36m(ClientAppActor pid=126282)\u001b[0m   self.pid = os.fork()\n",
      "\u001b[36m(ClientAppActor pid=126283)\u001b[0m /home/emeka/.local/share/uv/python/cpython-3.12.10-linux-x86_64-gnu/lib/python3.12/multiprocessing/popen_fork.py:66: DeprecationWarning: This process (pid=126283) is multi-threaded, use of fork() may lead to deadlocks in the child.\n",
      "\u001b[36m(ClientAppActor pid=126283)\u001b[0m   self.pid = os.fork()\n"
     ]
    },
    {
     "name": "stdout",
     "output_type": "stream",
     "text": [
      "\u001b[36m(ClientAppActor pid=126283)\u001b[0m \n",
      "\u001b[36m(ClientAppActor pid=126283)\u001b[0m 🔎 Tracker: FL (ViT)\n",
      "\u001b[36m(ClientAppActor pid=126283)\u001b[0m 📁 Logs saved to: /home/emeka/PrivacyBench/logs/emissions/skin_lesions/FL_ViT/client_emissions.csv\n",
      "\u001b[36m(ClientAppActor pid=126283)\u001b[0m ⏱️ Total training time: 8 minutes 51 seconds\n"
     ]
    },
    {
     "name": "stderr",
     "output_type": "stream",
     "text": [
      "\u001b[36m(ClientAppActor pid=126283)\u001b[0m Some weights of ViTForImageClassification were not initialized from the model checkpoint at google/vit-base-patch16-224-in21k and are newly initialized: ['classifier.bias', 'classifier.weight']\n",
      "\u001b[36m(ClientAppActor pid=126283)\u001b[0m You should probably TRAIN this model on a down-stream task to be able to use it for predictions and inference.\n",
      "\u001b[36m(ClientAppActor pid=126283)\u001b[0m Seed set to 42\n",
      "\u001b[36m(ClientAppActor pid=126283)\u001b[0m /home/emeka/.local/share/uv/python/cpython-3.12.10-linux-x86_64-gnu/lib/python3.12/multiprocessing/popen_fork.py:66: DeprecationWarning: This process (pid=126283) is multi-threaded, use of fork() may lead to deadlocks in the child.\n",
      "\u001b[36m(ClientAppActor pid=126283)\u001b[0m   self.pid = os.fork()\n"
     ]
    },
    {
     "name": "stdout",
     "output_type": "stream",
     "text": [
      "\u001b[36m(ClientAppActor pid=126282)\u001b[0m \n",
      "\u001b[36m(ClientAppActor pid=126282)\u001b[0m 🔎 Tracker: FL (ViT)\n",
      "\u001b[36m(ClientAppActor pid=126282)\u001b[0m 📁 Logs saved to: /home/emeka/PrivacyBench/logs/emissions/skin_lesions/FL_ViT/client_emissions.csv\n",
      "\u001b[36m(ClientAppActor pid=126282)\u001b[0m ⏱️ Total training time: 9 minutes 15 seconds\n"
     ]
    },
    {
     "name": "stderr",
     "output_type": "stream",
     "text": [
      "\u001b[36m(ClientAppActor pid=126283)\u001b[0m /home/emeka/.local/share/uv/python/cpython-3.12.10-linux-x86_64-gnu/lib/python3.12/multiprocessing/popen_fork.py:66: DeprecationWarning: This process (pid=126283) is multi-threaded, use of fork() may lead to deadlocks in the child.\n",
      "\u001b[36m(ClientAppActor pid=126283)\u001b[0m   self.pid = os.fork()\n",
      "\u001b[36m(ClientAppActor pid=126283)\u001b[0m /home/emeka/.local/share/uv/python/cpython-3.12.10-linux-x86_64-gnu/lib/python3.12/multiprocessing/popen_fork.py:66: DeprecationWarning: This process (pid=126283) is multi-threaded, use of fork() may lead to deadlocks in the child.\n",
      "\u001b[36m(ClientAppActor pid=126283)\u001b[0m   self.pid = os.fork()\n",
      "\u001b[36m(ClientAppActor pid=126283)\u001b[0m /home/emeka/.local/share/uv/python/cpython-3.12.10-linux-x86_64-gnu/lib/python3.12/multiprocessing/popen_fork.py:66: DeprecationWarning: This process (pid=126283) is multi-threaded, use of fork() may lead to deadlocks in the child.\n",
      "\u001b[36m(ClientAppActor pid=126283)\u001b[0m   self.pid = os.fork()\n",
      "\u001b[36m(ClientAppActor pid=126283)\u001b[0m /home/emeka/.local/share/uv/python/cpython-3.12.10-linux-x86_64-gnu/lib/python3.12/multiprocessing/popen_fork.py:66: DeprecationWarning: This process (pid=126283) is multi-threaded, use of fork() may lead to deadlocks in the child.\n",
      "\u001b[36m(ClientAppActor pid=126283)\u001b[0m   self.pid = os.fork()\n",
      "\u001b[36m(ClientAppActor pid=126283)\u001b[0m /home/emeka/.local/share/uv/python/cpython-3.12.10-linux-x86_64-gnu/lib/python3.12/multiprocessing/popen_fork.py:66: DeprecationWarning: This process (pid=126283) is multi-threaded, use of fork() may lead to deadlocks in the child.\n",
      "\u001b[36m(ClientAppActor pid=126283)\u001b[0m   self.pid = os.fork()\n",
      "\u001b[36m(ClientAppActor pid=126283)\u001b[0m /home/emeka/.local/share/uv/python/cpython-3.12.10-linux-x86_64-gnu/lib/python3.12/multiprocessing/popen_fork.py:66: DeprecationWarning: This process (pid=126283) is multi-threaded, use of fork() may lead to deadlocks in the child.\n",
      "\u001b[36m(ClientAppActor pid=126283)\u001b[0m   self.pid = os.fork()\n"
     ]
    },
    {
     "name": "stdout",
     "output_type": "stream",
     "text": [
      "\u001b[36m(ClientAppActor pid=126283)\u001b[0m \n",
      "\u001b[36m(ClientAppActor pid=126283)\u001b[0m 🔎 Tracker: FL (ViT)\n",
      "\u001b[36m(ClientAppActor pid=126283)\u001b[0m 📁 Logs saved to: /home/emeka/PrivacyBench/logs/emissions/skin_lesions/FL_ViT/client_emissions.csv\n",
      "\u001b[36m(ClientAppActor pid=126283)\u001b[0m ⏱️ Total training time: 8 minutes 51 seconds\n"
     ]
    },
    {
     "name": "stderr",
     "output_type": "stream",
     "text": [
      "\u001b[92mINFO \u001b[0m:      aggregate_fit: received 3 results and 0 failures\n",
      "Some weights of ViTForImageClassification were not initialized from the model checkpoint at google/vit-base-patch16-224-in21k and are newly initialized: ['classifier.bias', 'classifier.weight']\n",
      "You should probably TRAIN this model on a down-stream task to be able to use it for predictions and inference.\n",
      "/home/emeka/.local/share/uv/python/cpython-3.12.10-linux-x86_64-gnu/lib/python3.12/multiprocessing/popen_fork.py:66: DeprecationWarning: This process (pid=124021) is multi-threaded, use of fork() may lead to deadlocks in the child.\n",
      "  self.pid = os.fork()\n",
      "\u001b[92mINFO \u001b[0m:      fit progress: (2, 0.5811095370732452, {'accuracy': 0.8440860215053764}, 2259.955491110999)\n",
      "\u001b[92mINFO \u001b[0m:      configure_evaluate: strategy sampled 3 clients (out of 3)\n",
      "\u001b[36m(ClientAppActor pid=126282)\u001b[0m Some weights of ViTForImageClassification were not initialized from the model checkpoint at google/vit-base-patch16-224-in21k and are newly initialized: ['classifier.bias', 'classifier.weight']\n",
      "\u001b[36m(ClientAppActor pid=126282)\u001b[0m You should probably TRAIN this model on a down-stream task to be able to use it for predictions and inference.\n",
      "\u001b[36m(ClientAppActor pid=126282)\u001b[0m /home/emeka/.local/share/uv/python/cpython-3.12.10-linux-x86_64-gnu/lib/python3.12/multiprocessing/popen_fork.py:66: DeprecationWarning: This process (pid=126282) is multi-threaded, use of fork() may lead to deadlocks in the child.\n",
      "\u001b[36m(ClientAppActor pid=126282)\u001b[0m   self.pid = os.fork()\n",
      "\u001b[36m(ClientAppActor pid=126282)\u001b[0m Some weights of ViTForImageClassification were not initialized from the model checkpoint at google/vit-base-patch16-224-in21k and are newly initialized: ['classifier.bias', 'classifier.weight']\u001b[32m [repeated 2x across cluster]\u001b[0m\n",
      "\u001b[36m(ClientAppActor pid=126282)\u001b[0m You should probably TRAIN this model on a down-stream task to be able to use it for predictions and inference.\u001b[32m [repeated 2x across cluster]\u001b[0m\n",
      "\u001b[36m(ClientAppActor pid=126283)\u001b[0m /home/emeka/.local/share/uv/python/cpython-3.12.10-linux-x86_64-gnu/lib/python3.12/multiprocessing/popen_fork.py:66: DeprecationWarning: This process (pid=126283) is multi-threaded, use of fork() may lead to deadlocks in the child.\n",
      "\u001b[36m(ClientAppActor pid=126283)\u001b[0m   self.pid = os.fork()\n",
      "\u001b[92mINFO \u001b[0m:      aggregate_evaluate: received 3 results and 0 failures\n",
      "\u001b[92mINFO \u001b[0m:      \n",
      "\u001b[92mINFO \u001b[0m:      [ROUND 3]\n",
      "\u001b[92mINFO \u001b[0m:      configure_fit: strategy sampled 3 clients (out of 3)\n",
      "\u001b[36m(ClientAppActor pid=126282)\u001b[0m Some weights of ViTForImageClassification were not initialized from the model checkpoint at google/vit-base-patch16-224-in21k and are newly initialized: ['classifier.bias', 'classifier.weight']\n",
      "\u001b[36m(ClientAppActor pid=126282)\u001b[0m You should probably TRAIN this model on a down-stream task to be able to use it for predictions and inference.\n",
      "\u001b[36m(ClientAppActor pid=126283)\u001b[0m Some weights of ViTForImageClassification were not initialized from the model checkpoint at google/vit-base-patch16-224-in21k and are newly initialized: ['classifier.bias', 'classifier.weight']\n",
      "\u001b[36m(ClientAppActor pid=126283)\u001b[0m You should probably TRAIN this model on a down-stream task to be able to use it for predictions and inference.\n",
      "\u001b[36m(ClientAppActor pid=126282)\u001b[0m Seed set to 42\n",
      "\u001b[36m(ClientAppActor pid=126282)\u001b[0m /home/emeka/.local/share/uv/python/cpython-3.12.10-linux-x86_64-gnu/lib/python3.12/multiprocessing/popen_fork.py:66: DeprecationWarning: This process (pid=126282) is multi-threaded, use of fork() may lead to deadlocks in the child.\n",
      "\u001b[36m(ClientAppActor pid=126282)\u001b[0m   self.pid = os.fork()\n",
      "\u001b[36m(ClientAppActor pid=126283)\u001b[0m Seed set to 42\n",
      "\u001b[36m(ClientAppActor pid=126283)\u001b[0m /home/emeka/.local/share/uv/python/cpython-3.12.10-linux-x86_64-gnu/lib/python3.12/multiprocessing/popen_fork.py:66: DeprecationWarning: This process (pid=126283) is multi-threaded, use of fork() may lead to deadlocks in the child.\u001b[32m [repeated 2x across cluster]\u001b[0m\n",
      "\u001b[36m(ClientAppActor pid=126283)\u001b[0m   self.pid = os.fork()\u001b[32m [repeated 2x across cluster]\u001b[0m\n",
      "\u001b[36m(ClientAppActor pid=126282)\u001b[0m /home/emeka/.local/share/uv/python/cpython-3.12.10-linux-x86_64-gnu/lib/python3.12/multiprocessing/popen_fork.py:66: DeprecationWarning: This process (pid=126282) is multi-threaded, use of fork() may lead to deadlocks in the child.\u001b[32m [repeated 2x across cluster]\u001b[0m\n",
      "\u001b[36m(ClientAppActor pid=126282)\u001b[0m   self.pid = os.fork()\u001b[32m [repeated 2x across cluster]\u001b[0m\n",
      "\u001b[36m(ClientAppActor pid=126283)\u001b[0m /home/emeka/.local/share/uv/python/cpython-3.12.10-linux-x86_64-gnu/lib/python3.12/multiprocessing/popen_fork.py:66: DeprecationWarning: This process (pid=126283) is multi-threaded, use of fork() may lead to deadlocks in the child.\n",
      "\u001b[36m(ClientAppActor pid=126283)\u001b[0m   self.pid = os.fork()\n",
      "\u001b[36m(ClientAppActor pid=126283)\u001b[0m /home/emeka/.local/share/uv/python/cpython-3.12.10-linux-x86_64-gnu/lib/python3.12/multiprocessing/popen_fork.py:66: DeprecationWarning: This process (pid=126283) is multi-threaded, use of fork() may lead to deadlocks in the child.\n",
      "\u001b[36m(ClientAppActor pid=126283)\u001b[0m   self.pid = os.fork()\n",
      "\u001b[36m(ClientAppActor pid=126282)\u001b[0m /home/emeka/.local/share/uv/python/cpython-3.12.10-linux-x86_64-gnu/lib/python3.12/multiprocessing/popen_fork.py:66: DeprecationWarning: This process (pid=126282) is multi-threaded, use of fork() may lead to deadlocks in the child.\n",
      "\u001b[36m(ClientAppActor pid=126282)\u001b[0m   self.pid = os.fork()\n",
      "\u001b[36m(ClientAppActor pid=126282)\u001b[0m /home/emeka/.local/share/uv/python/cpython-3.12.10-linux-x86_64-gnu/lib/python3.12/multiprocessing/popen_fork.py:66: DeprecationWarning: This process (pid=126282) is multi-threaded, use of fork() may lead to deadlocks in the child.\n",
      "\u001b[36m(ClientAppActor pid=126282)\u001b[0m   self.pid = os.fork()\n",
      "\u001b[36m(ClientAppActor pid=126283)\u001b[0m /home/emeka/.local/share/uv/python/cpython-3.12.10-linux-x86_64-gnu/lib/python3.12/multiprocessing/popen_fork.py:66: DeprecationWarning: This process (pid=126283) is multi-threaded, use of fork() may lead to deadlocks in the child.\n",
      "\u001b[36m(ClientAppActor pid=126283)\u001b[0m   self.pid = os.fork()\n",
      "\u001b[36m(ClientAppActor pid=126283)\u001b[0m /home/emeka/.local/share/uv/python/cpython-3.12.10-linux-x86_64-gnu/lib/python3.12/multiprocessing/popen_fork.py:66: DeprecationWarning: This process (pid=126283) is multi-threaded, use of fork() may lead to deadlocks in the child.\n",
      "\u001b[36m(ClientAppActor pid=126283)\u001b[0m   self.pid = os.fork()\n",
      "\u001b[36m(ClientAppActor pid=126282)\u001b[0m /home/emeka/.local/share/uv/python/cpython-3.12.10-linux-x86_64-gnu/lib/python3.12/multiprocessing/popen_fork.py:66: DeprecationWarning: This process (pid=126282) is multi-threaded, use of fork() may lead to deadlocks in the child.\n",
      "\u001b[36m(ClientAppActor pid=126282)\u001b[0m   self.pid = os.fork()\n",
      "\u001b[36m(ClientAppActor pid=126282)\u001b[0m /home/emeka/.local/share/uv/python/cpython-3.12.10-linux-x86_64-gnu/lib/python3.12/multiprocessing/popen_fork.py:66: DeprecationWarning: This process (pid=126282) is multi-threaded, use of fork() may lead to deadlocks in the child.\n",
      "\u001b[36m(ClientAppActor pid=126282)\u001b[0m   self.pid = os.fork()\n",
      "\u001b[36m(ClientAppActor pid=126283)\u001b[0m /home/emeka/.local/share/uv/python/cpython-3.12.10-linux-x86_64-gnu/lib/python3.12/multiprocessing/popen_fork.py:66: DeprecationWarning: This process (pid=126283) is multi-threaded, use of fork() may lead to deadlocks in the child.\n",
      "\u001b[36m(ClientAppActor pid=126283)\u001b[0m   self.pid = os.fork()\n"
     ]
    },
    {
     "name": "stdout",
     "output_type": "stream",
     "text": [
      "\u001b[36m(ClientAppActor pid=126283)\u001b[0m \n",
      "\u001b[36m(ClientAppActor pid=126283)\u001b[0m 🔎 Tracker: FL (ViT)\n",
      "\u001b[36m(ClientAppActor pid=126283)\u001b[0m 📁 Logs saved to: /home/emeka/PrivacyBench/logs/emissions/skin_lesions/FL_ViT/client_emissions.csv\n",
      "\u001b[36m(ClientAppActor pid=126283)\u001b[0m ⏱️ Total training time: 8 minutes 51 seconds\n"
     ]
    },
    {
     "name": "stderr",
     "output_type": "stream",
     "text": [
      "\u001b[36m(ClientAppActor pid=126283)\u001b[0m Some weights of ViTForImageClassification were not initialized from the model checkpoint at google/vit-base-patch16-224-in21k and are newly initialized: ['classifier.bias', 'classifier.weight']\n",
      "\u001b[36m(ClientAppActor pid=126283)\u001b[0m You should probably TRAIN this model on a down-stream task to be able to use it for predictions and inference.\n",
      "\u001b[36m(ClientAppActor pid=126283)\u001b[0m Seed set to 42\n",
      "\u001b[36m(ClientAppActor pid=126283)\u001b[0m /home/emeka/.local/share/uv/python/cpython-3.12.10-linux-x86_64-gnu/lib/python3.12/multiprocessing/popen_fork.py:66: DeprecationWarning: This process (pid=126283) is multi-threaded, use of fork() may lead to deadlocks in the child.\n",
      "\u001b[36m(ClientAppActor pid=126283)\u001b[0m   self.pid = os.fork()\n"
     ]
    },
    {
     "name": "stdout",
     "output_type": "stream",
     "text": [
      "\u001b[36m(ClientAppActor pid=126282)\u001b[0m \n",
      "\u001b[36m(ClientAppActor pid=126282)\u001b[0m 🔎 Tracker: FL (ViT)\n",
      "\u001b[36m(ClientAppActor pid=126282)\u001b[0m 📁 Logs saved to: /home/emeka/PrivacyBench/logs/emissions/skin_lesions/FL_ViT/client_emissions.csv\n",
      "\u001b[36m(ClientAppActor pid=126282)\u001b[0m ⏱️ Total training time: 9 minutes 13 seconds\n"
     ]
    },
    {
     "name": "stderr",
     "output_type": "stream",
     "text": [
      "\u001b[36m(ClientAppActor pid=126283)\u001b[0m /home/emeka/.local/share/uv/python/cpython-3.12.10-linux-x86_64-gnu/lib/python3.12/multiprocessing/popen_fork.py:66: DeprecationWarning: This process (pid=126283) is multi-threaded, use of fork() may lead to deadlocks in the child.\n",
      "\u001b[36m(ClientAppActor pid=126283)\u001b[0m   self.pid = os.fork()\n",
      "\u001b[36m(ClientAppActor pid=126283)\u001b[0m /home/emeka/.local/share/uv/python/cpython-3.12.10-linux-x86_64-gnu/lib/python3.12/multiprocessing/popen_fork.py:66: DeprecationWarning: This process (pid=126283) is multi-threaded, use of fork() may lead to deadlocks in the child.\n",
      "\u001b[36m(ClientAppActor pid=126283)\u001b[0m   self.pid = os.fork()\n",
      "\u001b[36m(ClientAppActor pid=126283)\u001b[0m /home/emeka/.local/share/uv/python/cpython-3.12.10-linux-x86_64-gnu/lib/python3.12/multiprocessing/popen_fork.py:66: DeprecationWarning: This process (pid=126283) is multi-threaded, use of fork() may lead to deadlocks in the child.\n",
      "\u001b[36m(ClientAppActor pid=126283)\u001b[0m   self.pid = os.fork()\n",
      "\u001b[36m(ClientAppActor pid=126283)\u001b[0m /home/emeka/.local/share/uv/python/cpython-3.12.10-linux-x86_64-gnu/lib/python3.12/multiprocessing/popen_fork.py:66: DeprecationWarning: This process (pid=126283) is multi-threaded, use of fork() may lead to deadlocks in the child.\n",
      "\u001b[36m(ClientAppActor pid=126283)\u001b[0m   self.pid = os.fork()\n",
      "\u001b[36m(ClientAppActor pid=126283)\u001b[0m /home/emeka/.local/share/uv/python/cpython-3.12.10-linux-x86_64-gnu/lib/python3.12/multiprocessing/popen_fork.py:66: DeprecationWarning: This process (pid=126283) is multi-threaded, use of fork() may lead to deadlocks in the child.\n",
      "\u001b[36m(ClientAppActor pid=126283)\u001b[0m   self.pid = os.fork()\n",
      "\u001b[36m(ClientAppActor pid=126283)\u001b[0m /home/emeka/.local/share/uv/python/cpython-3.12.10-linux-x86_64-gnu/lib/python3.12/multiprocessing/popen_fork.py:66: DeprecationWarning: This process (pid=126283) is multi-threaded, use of fork() may lead to deadlocks in the child.\n",
      "\u001b[36m(ClientAppActor pid=126283)\u001b[0m   self.pid = os.fork()\n"
     ]
    },
    {
     "name": "stdout",
     "output_type": "stream",
     "text": [
      "\u001b[36m(ClientAppActor pid=126283)\u001b[0m \n",
      "\u001b[36m(ClientAppActor pid=126283)\u001b[0m 🔎 Tracker: FL (ViT)\n",
      "\u001b[36m(ClientAppActor pid=126283)\u001b[0m 📁 Logs saved to: /home/emeka/PrivacyBench/logs/emissions/skin_lesions/FL_ViT/client_emissions.csv\n",
      "\u001b[36m(ClientAppActor pid=126283)\u001b[0m ⏱️ Total training time: 8 minutes 51 seconds\n"
     ]
    },
    {
     "name": "stderr",
     "output_type": "stream",
     "text": [
      "\u001b[92mINFO \u001b[0m:      aggregate_fit: received 3 results and 0 failures\n",
      "Some weights of ViTForImageClassification were not initialized from the model checkpoint at google/vit-base-patch16-224-in21k and are newly initialized: ['classifier.bias', 'classifier.weight']\n",
      "You should probably TRAIN this model on a down-stream task to be able to use it for predictions and inference.\n",
      "/home/emeka/.local/share/uv/python/cpython-3.12.10-linux-x86_64-gnu/lib/python3.12/multiprocessing/popen_fork.py:66: DeprecationWarning: This process (pid=124021) is multi-threaded, use of fork() may lead to deadlocks in the child.\n",
      "  self.pid = os.fork()\n",
      "\u001b[92mINFO \u001b[0m:      fit progress: (3, 0.5638351049597139, {'accuracy': 0.8604301075268818}, 3393.4347768869993)\n",
      "\u001b[92mINFO \u001b[0m:      configure_evaluate: strategy sampled 3 clients (out of 3)\n",
      "\u001b[36m(ClientAppActor pid=126282)\u001b[0m Some weights of ViTForImageClassification were not initialized from the model checkpoint at google/vit-base-patch16-224-in21k and are newly initialized: ['classifier.bias', 'classifier.weight']\n",
      "\u001b[36m(ClientAppActor pid=126282)\u001b[0m You should probably TRAIN this model on a down-stream task to be able to use it for predictions and inference.\n",
      "\u001b[36m(ClientAppActor pid=126282)\u001b[0m /home/emeka/.local/share/uv/python/cpython-3.12.10-linux-x86_64-gnu/lib/python3.12/multiprocessing/popen_fork.py:66: DeprecationWarning: This process (pid=126282) is multi-threaded, use of fork() may lead to deadlocks in the child.\n",
      "\u001b[36m(ClientAppActor pid=126282)\u001b[0m   self.pid = os.fork()\n",
      "\u001b[36m(ClientAppActor pid=126283)\u001b[0m Some weights of ViTForImageClassification were not initialized from the model checkpoint at google/vit-base-patch16-224-in21k and are newly initialized: ['classifier.bias', 'classifier.weight']\u001b[32m [repeated 2x across cluster]\u001b[0m\n",
      "\u001b[36m(ClientAppActor pid=126283)\u001b[0m You should probably TRAIN this model on a down-stream task to be able to use it for predictions and inference.\u001b[32m [repeated 2x across cluster]\u001b[0m\n",
      "\u001b[36m(ClientAppActor pid=126283)\u001b[0m /home/emeka/.local/share/uv/python/cpython-3.12.10-linux-x86_64-gnu/lib/python3.12/multiprocessing/popen_fork.py:66: DeprecationWarning: This process (pid=126283) is multi-threaded, use of fork() may lead to deadlocks in the child.\n",
      "\u001b[36m(ClientAppActor pid=126283)\u001b[0m   self.pid = os.fork()\n",
      "\u001b[92mINFO \u001b[0m:      aggregate_evaluate: received 3 results and 0 failures\n",
      "\u001b[92mINFO \u001b[0m:      \n",
      "\u001b[92mINFO \u001b[0m:      [ROUND 4]\n",
      "\u001b[92mINFO \u001b[0m:      configure_fit: strategy sampled 3 clients (out of 3)\n",
      "\u001b[36m(ClientAppActor pid=126282)\u001b[0m Some weights of ViTForImageClassification were not initialized from the model checkpoint at google/vit-base-patch16-224-in21k and are newly initialized: ['classifier.bias', 'classifier.weight']\n",
      "\u001b[36m(ClientAppActor pid=126282)\u001b[0m You should probably TRAIN this model on a down-stream task to be able to use it for predictions and inference.\n",
      "\u001b[36m(ClientAppActor pid=126283)\u001b[0m Some weights of ViTForImageClassification were not initialized from the model checkpoint at google/vit-base-patch16-224-in21k and are newly initialized: ['classifier.bias', 'classifier.weight']\n",
      "\u001b[36m(ClientAppActor pid=126283)\u001b[0m You should probably TRAIN this model on a down-stream task to be able to use it for predictions and inference.\n",
      "\u001b[36m(ClientAppActor pid=126282)\u001b[0m Seed set to 42\n",
      "\u001b[36m(ClientAppActor pid=126282)\u001b[0m /home/emeka/.local/share/uv/python/cpython-3.12.10-linux-x86_64-gnu/lib/python3.12/multiprocessing/popen_fork.py:66: DeprecationWarning: This process (pid=126282) is multi-threaded, use of fork() may lead to deadlocks in the child.\n",
      "\u001b[36m(ClientAppActor pid=126282)\u001b[0m   self.pid = os.fork()\n",
      "\u001b[36m(ClientAppActor pid=126283)\u001b[0m Seed set to 42\n",
      "\u001b[36m(ClientAppActor pid=126283)\u001b[0m /home/emeka/.local/share/uv/python/cpython-3.12.10-linux-x86_64-gnu/lib/python3.12/multiprocessing/popen_fork.py:66: DeprecationWarning: This process (pid=126283) is multi-threaded, use of fork() may lead to deadlocks in the child.\u001b[32m [repeated 2x across cluster]\u001b[0m\n",
      "\u001b[36m(ClientAppActor pid=126283)\u001b[0m   self.pid = os.fork()\u001b[32m [repeated 2x across cluster]\u001b[0m\n",
      "\u001b[36m(ClientAppActor pid=126282)\u001b[0m /home/emeka/.local/share/uv/python/cpython-3.12.10-linux-x86_64-gnu/lib/python3.12/multiprocessing/popen_fork.py:66: DeprecationWarning: This process (pid=126282) is multi-threaded, use of fork() may lead to deadlocks in the child.\u001b[32m [repeated 2x across cluster]\u001b[0m\n",
      "\u001b[36m(ClientAppActor pid=126282)\u001b[0m   self.pid = os.fork()\u001b[32m [repeated 2x across cluster]\u001b[0m\n",
      "\u001b[36m(ClientAppActor pid=126283)\u001b[0m /home/emeka/.local/share/uv/python/cpython-3.12.10-linux-x86_64-gnu/lib/python3.12/multiprocessing/popen_fork.py:66: DeprecationWarning: This process (pid=126283) is multi-threaded, use of fork() may lead to deadlocks in the child.\n",
      "\u001b[36m(ClientAppActor pid=126283)\u001b[0m   self.pid = os.fork()\n",
      "\u001b[36m(ClientAppActor pid=126283)\u001b[0m /home/emeka/.local/share/uv/python/cpython-3.12.10-linux-x86_64-gnu/lib/python3.12/multiprocessing/popen_fork.py:66: DeprecationWarning: This process (pid=126283) is multi-threaded, use of fork() may lead to deadlocks in the child.\n",
      "\u001b[36m(ClientAppActor pid=126283)\u001b[0m   self.pid = os.fork()\n",
      "\u001b[36m(ClientAppActor pid=126282)\u001b[0m /home/emeka/.local/share/uv/python/cpython-3.12.10-linux-x86_64-gnu/lib/python3.12/multiprocessing/popen_fork.py:66: DeprecationWarning: This process (pid=126282) is multi-threaded, use of fork() may lead to deadlocks in the child.\n",
      "\u001b[36m(ClientAppActor pid=126282)\u001b[0m   self.pid = os.fork()\n",
      "\u001b[36m(ClientAppActor pid=126282)\u001b[0m /home/emeka/.local/share/uv/python/cpython-3.12.10-linux-x86_64-gnu/lib/python3.12/multiprocessing/popen_fork.py:66: DeprecationWarning: This process (pid=126282) is multi-threaded, use of fork() may lead to deadlocks in the child.\n",
      "\u001b[36m(ClientAppActor pid=126282)\u001b[0m   self.pid = os.fork()\n",
      "\u001b[36m(ClientAppActor pid=126283)\u001b[0m /home/emeka/.local/share/uv/python/cpython-3.12.10-linux-x86_64-gnu/lib/python3.12/multiprocessing/popen_fork.py:66: DeprecationWarning: This process (pid=126283) is multi-threaded, use of fork() may lead to deadlocks in the child.\n",
      "\u001b[36m(ClientAppActor pid=126283)\u001b[0m   self.pid = os.fork()\n",
      "\u001b[36m(ClientAppActor pid=126283)\u001b[0m /home/emeka/.local/share/uv/python/cpython-3.12.10-linux-x86_64-gnu/lib/python3.12/multiprocessing/popen_fork.py:66: DeprecationWarning: This process (pid=126283) is multi-threaded, use of fork() may lead to deadlocks in the child.\n",
      "\u001b[36m(ClientAppActor pid=126283)\u001b[0m   self.pid = os.fork()\n",
      "\u001b[36m(ClientAppActor pid=126282)\u001b[0m /home/emeka/.local/share/uv/python/cpython-3.12.10-linux-x86_64-gnu/lib/python3.12/multiprocessing/popen_fork.py:66: DeprecationWarning: This process (pid=126282) is multi-threaded, use of fork() may lead to deadlocks in the child.\n",
      "\u001b[36m(ClientAppActor pid=126282)\u001b[0m   self.pid = os.fork()\n",
      "\u001b[36m(ClientAppActor pid=126282)\u001b[0m /home/emeka/.local/share/uv/python/cpython-3.12.10-linux-x86_64-gnu/lib/python3.12/multiprocessing/popen_fork.py:66: DeprecationWarning: This process (pid=126282) is multi-threaded, use of fork() may lead to deadlocks in the child.\n",
      "\u001b[36m(ClientAppActor pid=126282)\u001b[0m   self.pid = os.fork()\n",
      "\u001b[36m(ClientAppActor pid=126283)\u001b[0m /home/emeka/.local/share/uv/python/cpython-3.12.10-linux-x86_64-gnu/lib/python3.12/multiprocessing/popen_fork.py:66: DeprecationWarning: This process (pid=126283) is multi-threaded, use of fork() may lead to deadlocks in the child.\n",
      "\u001b[36m(ClientAppActor pid=126283)\u001b[0m   self.pid = os.fork()\n"
     ]
    },
    {
     "name": "stdout",
     "output_type": "stream",
     "text": [
      "\u001b[36m(ClientAppActor pid=126283)\u001b[0m \n",
      "\u001b[36m(ClientAppActor pid=126283)\u001b[0m 🔎 Tracker: FL (ViT)\n",
      "\u001b[36m(ClientAppActor pid=126283)\u001b[0m 📁 Logs saved to: /home/emeka/PrivacyBench/logs/emissions/skin_lesions/FL_ViT/client_emissions.csv\n",
      "\u001b[36m(ClientAppActor pid=126283)\u001b[0m ⏱️ Total training time: 8 minutes 51 seconds\n"
     ]
    },
    {
     "name": "stderr",
     "output_type": "stream",
     "text": [
      "\u001b[36m(ClientAppActor pid=126283)\u001b[0m Some weights of ViTForImageClassification were not initialized from the model checkpoint at google/vit-base-patch16-224-in21k and are newly initialized: ['classifier.bias', 'classifier.weight']\n",
      "\u001b[36m(ClientAppActor pid=126283)\u001b[0m You should probably TRAIN this model on a down-stream task to be able to use it for predictions and inference.\n",
      "\u001b[36m(ClientAppActor pid=126283)\u001b[0m Seed set to 42\n",
      "\u001b[36m(ClientAppActor pid=126283)\u001b[0m /home/emeka/.local/share/uv/python/cpython-3.12.10-linux-x86_64-gnu/lib/python3.12/multiprocessing/popen_fork.py:66: DeprecationWarning: This process (pid=126283) is multi-threaded, use of fork() may lead to deadlocks in the child.\n",
      "\u001b[36m(ClientAppActor pid=126283)\u001b[0m   self.pid = os.fork()\n"
     ]
    },
    {
     "name": "stdout",
     "output_type": "stream",
     "text": [
      "\u001b[36m(ClientAppActor pid=126282)\u001b[0m \n",
      "\u001b[36m(ClientAppActor pid=126282)\u001b[0m 🔎 Tracker: FL (ViT)\n",
      "\u001b[36m(ClientAppActor pid=126282)\u001b[0m 📁 Logs saved to: /home/emeka/PrivacyBench/logs/emissions/skin_lesions/FL_ViT/client_emissions.csv\n",
      "\u001b[36m(ClientAppActor pid=126282)\u001b[0m ⏱️ Total training time: 9 minutes 12 seconds\n"
     ]
    },
    {
     "name": "stderr",
     "output_type": "stream",
     "text": [
      "\u001b[36m(ClientAppActor pid=126283)\u001b[0m /home/emeka/.local/share/uv/python/cpython-3.12.10-linux-x86_64-gnu/lib/python3.12/multiprocessing/popen_fork.py:66: DeprecationWarning: This process (pid=126283) is multi-threaded, use of fork() may lead to deadlocks in the child.\n",
      "\u001b[36m(ClientAppActor pid=126283)\u001b[0m   self.pid = os.fork()\n",
      "\u001b[36m(ClientAppActor pid=126283)\u001b[0m /home/emeka/.local/share/uv/python/cpython-3.12.10-linux-x86_64-gnu/lib/python3.12/multiprocessing/popen_fork.py:66: DeprecationWarning: This process (pid=126283) is multi-threaded, use of fork() may lead to deadlocks in the child.\n",
      "\u001b[36m(ClientAppActor pid=126283)\u001b[0m   self.pid = os.fork()\n",
      "\u001b[36m(ClientAppActor pid=126283)\u001b[0m /home/emeka/.local/share/uv/python/cpython-3.12.10-linux-x86_64-gnu/lib/python3.12/multiprocessing/popen_fork.py:66: DeprecationWarning: This process (pid=126283) is multi-threaded, use of fork() may lead to deadlocks in the child.\n",
      "\u001b[36m(ClientAppActor pid=126283)\u001b[0m   self.pid = os.fork()\n",
      "\u001b[36m(ClientAppActor pid=126283)\u001b[0m /home/emeka/.local/share/uv/python/cpython-3.12.10-linux-x86_64-gnu/lib/python3.12/multiprocessing/popen_fork.py:66: DeprecationWarning: This process (pid=126283) is multi-threaded, use of fork() may lead to deadlocks in the child.\n",
      "\u001b[36m(ClientAppActor pid=126283)\u001b[0m   self.pid = os.fork()\n",
      "\u001b[36m(ClientAppActor pid=126283)\u001b[0m /home/emeka/.local/share/uv/python/cpython-3.12.10-linux-x86_64-gnu/lib/python3.12/multiprocessing/popen_fork.py:66: DeprecationWarning: This process (pid=126283) is multi-threaded, use of fork() may lead to deadlocks in the child.\n",
      "\u001b[36m(ClientAppActor pid=126283)\u001b[0m   self.pid = os.fork()\n",
      "\u001b[36m(ClientAppActor pid=126283)\u001b[0m /home/emeka/.local/share/uv/python/cpython-3.12.10-linux-x86_64-gnu/lib/python3.12/multiprocessing/popen_fork.py:66: DeprecationWarning: This process (pid=126283) is multi-threaded, use of fork() may lead to deadlocks in the child.\n",
      "\u001b[36m(ClientAppActor pid=126283)\u001b[0m   self.pid = os.fork()\n"
     ]
    },
    {
     "name": "stdout",
     "output_type": "stream",
     "text": [
      "\u001b[36m(ClientAppActor pid=126283)\u001b[0m \n",
      "\u001b[36m(ClientAppActor pid=126283)\u001b[0m 🔎 Tracker: FL (ViT)\n",
      "\u001b[36m(ClientAppActor pid=126283)\u001b[0m 📁 Logs saved to: /home/emeka/PrivacyBench/logs/emissions/skin_lesions/FL_ViT/client_emissions.csv\n",
      "\u001b[36m(ClientAppActor pid=126283)\u001b[0m ⏱️ Total training time: 8 minutes 50 seconds\n"
     ]
    },
    {
     "name": "stderr",
     "output_type": "stream",
     "text": [
      "\u001b[92mINFO \u001b[0m:      aggregate_fit: received 3 results and 0 failures\n",
      "Some weights of ViTForImageClassification were not initialized from the model checkpoint at google/vit-base-patch16-224-in21k and are newly initialized: ['classifier.bias', 'classifier.weight']\n",
      "You should probably TRAIN this model on a down-stream task to be able to use it for predictions and inference.\n",
      "/home/emeka/.local/share/uv/python/cpython-3.12.10-linux-x86_64-gnu/lib/python3.12/multiprocessing/popen_fork.py:66: DeprecationWarning: This process (pid=124021) is multi-threaded, use of fork() may lead to deadlocks in the child.\n",
      "  self.pid = os.fork()\n",
      "\u001b[92mINFO \u001b[0m:      fit progress: (4, 0.5644124354090707, {'accuracy': 0.8651612903225806}, 4526.881250081)\n",
      "\u001b[92mINFO \u001b[0m:      configure_evaluate: strategy sampled 3 clients (out of 3)\n",
      "\u001b[36m(ClientAppActor pid=126282)\u001b[0m Some weights of ViTForImageClassification were not initialized from the model checkpoint at google/vit-base-patch16-224-in21k and are newly initialized: ['classifier.bias', 'classifier.weight']\n",
      "\u001b[36m(ClientAppActor pid=126282)\u001b[0m You should probably TRAIN this model on a down-stream task to be able to use it for predictions and inference.\n",
      "\u001b[36m(ClientAppActor pid=126282)\u001b[0m /home/emeka/.local/share/uv/python/cpython-3.12.10-linux-x86_64-gnu/lib/python3.12/multiprocessing/popen_fork.py:66: DeprecationWarning: This process (pid=126282) is multi-threaded, use of fork() may lead to deadlocks in the child.\n",
      "\u001b[36m(ClientAppActor pid=126282)\u001b[0m   self.pid = os.fork()\n",
      "\u001b[36m(ClientAppActor pid=126283)\u001b[0m Some weights of ViTForImageClassification were not initialized from the model checkpoint at google/vit-base-patch16-224-in21k and are newly initialized: ['classifier.bias', 'classifier.weight']\u001b[32m [repeated 2x across cluster]\u001b[0m\n",
      "\u001b[36m(ClientAppActor pid=126283)\u001b[0m You should probably TRAIN this model on a down-stream task to be able to use it for predictions and inference.\u001b[32m [repeated 2x across cluster]\u001b[0m\n",
      "\u001b[36m(ClientAppActor pid=126283)\u001b[0m /home/emeka/.local/share/uv/python/cpython-3.12.10-linux-x86_64-gnu/lib/python3.12/multiprocessing/popen_fork.py:66: DeprecationWarning: This process (pid=126283) is multi-threaded, use of fork() may lead to deadlocks in the child.\n",
      "\u001b[36m(ClientAppActor pid=126283)\u001b[0m   self.pid = os.fork()\n",
      "\u001b[92mINFO \u001b[0m:      aggregate_evaluate: received 3 results and 0 failures\n",
      "\u001b[92mINFO \u001b[0m:      \n",
      "\u001b[92mINFO \u001b[0m:      [ROUND 5]\n",
      "\u001b[92mINFO \u001b[0m:      configure_fit: strategy sampled 3 clients (out of 3)\n",
      "\u001b[36m(ClientAppActor pid=126282)\u001b[0m Some weights of ViTForImageClassification were not initialized from the model checkpoint at google/vit-base-patch16-224-in21k and are newly initialized: ['classifier.bias', 'classifier.weight']\n",
      "\u001b[36m(ClientAppActor pid=126282)\u001b[0m You should probably TRAIN this model on a down-stream task to be able to use it for predictions and inference.\n",
      "\u001b[36m(ClientAppActor pid=126283)\u001b[0m Some weights of ViTForImageClassification were not initialized from the model checkpoint at google/vit-base-patch16-224-in21k and are newly initialized: ['classifier.bias', 'classifier.weight']\n",
      "\u001b[36m(ClientAppActor pid=126283)\u001b[0m You should probably TRAIN this model on a down-stream task to be able to use it for predictions and inference.\n",
      "\u001b[36m(ClientAppActor pid=126282)\u001b[0m Seed set to 42\n",
      "\u001b[36m(ClientAppActor pid=126282)\u001b[0m /home/emeka/.local/share/uv/python/cpython-3.12.10-linux-x86_64-gnu/lib/python3.12/multiprocessing/popen_fork.py:66: DeprecationWarning: This process (pid=126282) is multi-threaded, use of fork() may lead to deadlocks in the child.\n",
      "\u001b[36m(ClientAppActor pid=126282)\u001b[0m   self.pid = os.fork()\n",
      "\u001b[36m(ClientAppActor pid=126283)\u001b[0m Seed set to 42\n",
      "\u001b[36m(ClientAppActor pid=126283)\u001b[0m /home/emeka/.local/share/uv/python/cpython-3.12.10-linux-x86_64-gnu/lib/python3.12/multiprocessing/popen_fork.py:66: DeprecationWarning: This process (pid=126283) is multi-threaded, use of fork() may lead to deadlocks in the child.\u001b[32m [repeated 2x across cluster]\u001b[0m\n",
      "\u001b[36m(ClientAppActor pid=126283)\u001b[0m   self.pid = os.fork()\u001b[32m [repeated 2x across cluster]\u001b[0m\n",
      "\u001b[36m(ClientAppActor pid=126282)\u001b[0m /home/emeka/.local/share/uv/python/cpython-3.12.10-linux-x86_64-gnu/lib/python3.12/multiprocessing/popen_fork.py:66: DeprecationWarning: This process (pid=126282) is multi-threaded, use of fork() may lead to deadlocks in the child.\u001b[32m [repeated 2x across cluster]\u001b[0m\n",
      "\u001b[36m(ClientAppActor pid=126282)\u001b[0m   self.pid = os.fork()\u001b[32m [repeated 2x across cluster]\u001b[0m\n",
      "\u001b[36m(ClientAppActor pid=126283)\u001b[0m /home/emeka/.local/share/uv/python/cpython-3.12.10-linux-x86_64-gnu/lib/python3.12/multiprocessing/popen_fork.py:66: DeprecationWarning: This process (pid=126283) is multi-threaded, use of fork() may lead to deadlocks in the child.\n",
      "\u001b[36m(ClientAppActor pid=126283)\u001b[0m   self.pid = os.fork()\n",
      "\u001b[36m(ClientAppActor pid=126283)\u001b[0m /home/emeka/.local/share/uv/python/cpython-3.12.10-linux-x86_64-gnu/lib/python3.12/multiprocessing/popen_fork.py:66: DeprecationWarning: This process (pid=126283) is multi-threaded, use of fork() may lead to deadlocks in the child.\n",
      "\u001b[36m(ClientAppActor pid=126283)\u001b[0m   self.pid = os.fork()\n",
      "\u001b[36m(ClientAppActor pid=126282)\u001b[0m /home/emeka/.local/share/uv/python/cpython-3.12.10-linux-x86_64-gnu/lib/python3.12/multiprocessing/popen_fork.py:66: DeprecationWarning: This process (pid=126282) is multi-threaded, use of fork() may lead to deadlocks in the child.\n",
      "\u001b[36m(ClientAppActor pid=126282)\u001b[0m   self.pid = os.fork()\n",
      "\u001b[36m(ClientAppActor pid=126282)\u001b[0m /home/emeka/.local/share/uv/python/cpython-3.12.10-linux-x86_64-gnu/lib/python3.12/multiprocessing/popen_fork.py:66: DeprecationWarning: This process (pid=126282) is multi-threaded, use of fork() may lead to deadlocks in the child.\n",
      "\u001b[36m(ClientAppActor pid=126282)\u001b[0m   self.pid = os.fork()\n",
      "\u001b[36m(ClientAppActor pid=126283)\u001b[0m /home/emeka/.local/share/uv/python/cpython-3.12.10-linux-x86_64-gnu/lib/python3.12/multiprocessing/popen_fork.py:66: DeprecationWarning: This process (pid=126283) is multi-threaded, use of fork() may lead to deadlocks in the child.\n",
      "\u001b[36m(ClientAppActor pid=126283)\u001b[0m   self.pid = os.fork()\n",
      "\u001b[36m(ClientAppActor pid=126283)\u001b[0m /home/emeka/.local/share/uv/python/cpython-3.12.10-linux-x86_64-gnu/lib/python3.12/multiprocessing/popen_fork.py:66: DeprecationWarning: This process (pid=126283) is multi-threaded, use of fork() may lead to deadlocks in the child.\n",
      "\u001b[36m(ClientAppActor pid=126283)\u001b[0m   self.pid = os.fork()\n",
      "\u001b[36m(ClientAppActor pid=126282)\u001b[0m /home/emeka/.local/share/uv/python/cpython-3.12.10-linux-x86_64-gnu/lib/python3.12/multiprocessing/popen_fork.py:66: DeprecationWarning: This process (pid=126282) is multi-threaded, use of fork() may lead to deadlocks in the child.\n",
      "\u001b[36m(ClientAppActor pid=126282)\u001b[0m   self.pid = os.fork()\n",
      "\u001b[36m(ClientAppActor pid=126282)\u001b[0m /home/emeka/.local/share/uv/python/cpython-3.12.10-linux-x86_64-gnu/lib/python3.12/multiprocessing/popen_fork.py:66: DeprecationWarning: This process (pid=126282) is multi-threaded, use of fork() may lead to deadlocks in the child.\n",
      "\u001b[36m(ClientAppActor pid=126282)\u001b[0m   self.pid = os.fork()\n",
      "\u001b[36m(ClientAppActor pid=126283)\u001b[0m /home/emeka/.local/share/uv/python/cpython-3.12.10-linux-x86_64-gnu/lib/python3.12/multiprocessing/popen_fork.py:66: DeprecationWarning: This process (pid=126283) is multi-threaded, use of fork() may lead to deadlocks in the child.\n",
      "\u001b[36m(ClientAppActor pid=126283)\u001b[0m   self.pid = os.fork()\n"
     ]
    },
    {
     "name": "stdout",
     "output_type": "stream",
     "text": [
      "\u001b[36m(ClientAppActor pid=126283)\u001b[0m \n",
      "\u001b[36m(ClientAppActor pid=126283)\u001b[0m 🔎 Tracker: FL (ViT)\n",
      "\u001b[36m(ClientAppActor pid=126283)\u001b[0m 📁 Logs saved to: /home/emeka/PrivacyBench/logs/emissions/skin_lesions/FL_ViT/client_emissions.csv\n",
      "\u001b[36m(ClientAppActor pid=126283)\u001b[0m ⏱️ Total training time: 8 minutes 51 seconds\n"
     ]
    },
    {
     "name": "stderr",
     "output_type": "stream",
     "text": [
      "\u001b[36m(ClientAppActor pid=126283)\u001b[0m Some weights of ViTForImageClassification were not initialized from the model checkpoint at google/vit-base-patch16-224-in21k and are newly initialized: ['classifier.bias', 'classifier.weight']\n",
      "\u001b[36m(ClientAppActor pid=126283)\u001b[0m You should probably TRAIN this model on a down-stream task to be able to use it for predictions and inference.\n",
      "\u001b[36m(ClientAppActor pid=126283)\u001b[0m Seed set to 42\n",
      "\u001b[36m(ClientAppActor pid=126283)\u001b[0m /home/emeka/.local/share/uv/python/cpython-3.12.10-linux-x86_64-gnu/lib/python3.12/multiprocessing/popen_fork.py:66: DeprecationWarning: This process (pid=126283) is multi-threaded, use of fork() may lead to deadlocks in the child.\n",
      "\u001b[36m(ClientAppActor pid=126283)\u001b[0m   self.pid = os.fork()\n"
     ]
    },
    {
     "name": "stdout",
     "output_type": "stream",
     "text": [
      "\u001b[36m(ClientAppActor pid=126282)\u001b[0m \n",
      "\u001b[36m(ClientAppActor pid=126282)\u001b[0m 🔎 Tracker: FL (ViT)\n",
      "\u001b[36m(ClientAppActor pid=126282)\u001b[0m 📁 Logs saved to: /home/emeka/PrivacyBench/logs/emissions/skin_lesions/FL_ViT/client_emissions.csv\n",
      "\u001b[36m(ClientAppActor pid=126282)\u001b[0m ⏱️ Total training time: 9 minutes 12 seconds\n"
     ]
    },
    {
     "name": "stderr",
     "output_type": "stream",
     "text": [
      "\u001b[36m(ClientAppActor pid=126283)\u001b[0m /home/emeka/.local/share/uv/python/cpython-3.12.10-linux-x86_64-gnu/lib/python3.12/multiprocessing/popen_fork.py:66: DeprecationWarning: This process (pid=126283) is multi-threaded, use of fork() may lead to deadlocks in the child.\n",
      "\u001b[36m(ClientAppActor pid=126283)\u001b[0m   self.pid = os.fork()\n",
      "\u001b[36m(ClientAppActor pid=126283)\u001b[0m /home/emeka/.local/share/uv/python/cpython-3.12.10-linux-x86_64-gnu/lib/python3.12/multiprocessing/popen_fork.py:66: DeprecationWarning: This process (pid=126283) is multi-threaded, use of fork() may lead to deadlocks in the child.\n",
      "\u001b[36m(ClientAppActor pid=126283)\u001b[0m   self.pid = os.fork()\n",
      "\u001b[36m(ClientAppActor pid=126283)\u001b[0m /home/emeka/.local/share/uv/python/cpython-3.12.10-linux-x86_64-gnu/lib/python3.12/multiprocessing/popen_fork.py:66: DeprecationWarning: This process (pid=126283) is multi-threaded, use of fork() may lead to deadlocks in the child.\n",
      "\u001b[36m(ClientAppActor pid=126283)\u001b[0m   self.pid = os.fork()\n",
      "\u001b[36m(ClientAppActor pid=126283)\u001b[0m /home/emeka/.local/share/uv/python/cpython-3.12.10-linux-x86_64-gnu/lib/python3.12/multiprocessing/popen_fork.py:66: DeprecationWarning: This process (pid=126283) is multi-threaded, use of fork() may lead to deadlocks in the child.\n",
      "\u001b[36m(ClientAppActor pid=126283)\u001b[0m   self.pid = os.fork()\n",
      "\u001b[36m(ClientAppActor pid=126283)\u001b[0m /home/emeka/.local/share/uv/python/cpython-3.12.10-linux-x86_64-gnu/lib/python3.12/multiprocessing/popen_fork.py:66: DeprecationWarning: This process (pid=126283) is multi-threaded, use of fork() may lead to deadlocks in the child.\n",
      "\u001b[36m(ClientAppActor pid=126283)\u001b[0m   self.pid = os.fork()\n",
      "\u001b[36m(ClientAppActor pid=126283)\u001b[0m /home/emeka/.local/share/uv/python/cpython-3.12.10-linux-x86_64-gnu/lib/python3.12/multiprocessing/popen_fork.py:66: DeprecationWarning: This process (pid=126283) is multi-threaded, use of fork() may lead to deadlocks in the child.\n",
      "\u001b[36m(ClientAppActor pid=126283)\u001b[0m   self.pid = os.fork()\n"
     ]
    },
    {
     "name": "stdout",
     "output_type": "stream",
     "text": [
      "\u001b[36m(ClientAppActor pid=126283)\u001b[0m \n",
      "\u001b[36m(ClientAppActor pid=126283)\u001b[0m 🔎 Tracker: FL (ViT)\n",
      "\u001b[36m(ClientAppActor pid=126283)\u001b[0m 📁 Logs saved to: /home/emeka/PrivacyBench/logs/emissions/skin_lesions/FL_ViT/client_emissions.csv\n",
      "\u001b[36m(ClientAppActor pid=126283)\u001b[0m ⏱️ Total training time: 8 minutes 50 seconds\n"
     ]
    },
    {
     "name": "stderr",
     "output_type": "stream",
     "text": [
      "\u001b[92mINFO \u001b[0m:      aggregate_fit: received 3 results and 0 failures\n",
      "Some weights of ViTForImageClassification were not initialized from the model checkpoint at google/vit-base-patch16-224-in21k and are newly initialized: ['classifier.bias', 'classifier.weight']\n",
      "You should probably TRAIN this model on a down-stream task to be able to use it for predictions and inference.\n",
      "/home/emeka/.local/share/uv/python/cpython-3.12.10-linux-x86_64-gnu/lib/python3.12/multiprocessing/popen_fork.py:66: DeprecationWarning: This process (pid=124021) is multi-threaded, use of fork() may lead to deadlocks in the child.\n",
      "  self.pid = os.fork()\n",
      "\u001b[34m\u001b[1mwandb\u001b[0m: \u001b[33mWARNING\u001b[0m If you're specifying your api key in code, ensure this code is not shared publicly.\n",
      "\u001b[34m\u001b[1mwandb\u001b[0m: \u001b[33mWARNING\u001b[0m Consider setting the WANDB_API_KEY environment variable, or running `wandb login` from the command line.\n",
      "\u001b[34m\u001b[1mwandb\u001b[0m: Appending key for api.wandb.ai to your netrc file: /home/emeka/.netrc\n",
      "\u001b[34m\u001b[1mwandb\u001b[0m: Currently logged in as: \u001b[33memyrs\u001b[0m to \u001b[32mhttps://api.wandb.ai\u001b[0m. Use \u001b[1m`wandb login --relogin`\u001b[0m to force relogin\n",
      "/home/emeka/PrivacyBench/.venv/lib/python3.12/site-packages/wandb/analytics/sentry.py:259: DeprecationWarning: The `Scope.user` setter is deprecated in favor of `Scope.set_user()`.\n",
      "  self.scope.user = {\"email\": email}  # noqa\n",
      "/home/emeka/PrivacyBench/.venv/lib/python3.12/site-packages/wandb/analytics/sentry.py:259: DeprecationWarning: The `Scope.user` setter is deprecated in favor of `Scope.set_user()`.\n",
      "  self.scope.user = {\"email\": email}  # noqa\n"
     ]
    },
    {
     "data": {
      "text/html": [
       "Tracking run with wandb version 0.19.11"
      ],
      "text/plain": [
       "<IPython.core.display.HTML object>"
      ]
     },
     "metadata": {},
     "output_type": "display_data"
    },
    {
     "data": {
      "text/html": [
       "Run data is saved locally in <code>/home/emeka/PrivacyBench/logs/wandb/run-20250514_162057-4el8v4s1</code>"
      ],
      "text/plain": [
       "<IPython.core.display.HTML object>"
      ]
     },
     "metadata": {},
     "output_type": "display_data"
    },
    {
     "data": {
      "text/html": [
       "Syncing run <strong><a href='https://wandb.ai/MLC-FedML/PrivacyBench/runs/4el8v4s1' target=\"_blank\">FL_ViT_skin_lesions</a></strong> to <a href='https://wandb.ai/MLC-FedML/PrivacyBench' target=\"_blank\">Weights & Biases</a> (<a href='https://wandb.me/developer-guide' target=\"_blank\">docs</a>)<br>"
      ],
      "text/plain": [
       "<IPython.core.display.HTML object>"
      ]
     },
     "metadata": {},
     "output_type": "display_data"
    },
    {
     "data": {
      "text/html": [
       " View project at <a href='https://wandb.ai/MLC-FedML/PrivacyBench' target=\"_blank\">https://wandb.ai/MLC-FedML/PrivacyBench</a>"
      ],
      "text/plain": [
       "<IPython.core.display.HTML object>"
      ]
     },
     "metadata": {},
     "output_type": "display_data"
    },
    {
     "data": {
      "text/html": [
       " View run at <a href='https://wandb.ai/MLC-FedML/PrivacyBench/runs/4el8v4s1' target=\"_blank\">https://wandb.ai/MLC-FedML/PrivacyBench/runs/4el8v4s1</a>"
      ],
      "text/plain": [
       "<IPython.core.display.HTML object>"
      ]
     },
     "metadata": {},
     "output_type": "display_data"
    },
    {
     "name": "stderr",
     "output_type": "stream",
     "text": [
      "/home/emeka/.local/share/uv/python/cpython-3.12.10-linux-x86_64-gnu/lib/python3.12/multiprocessing/popen_fork.py:66: DeprecationWarning: This process (pid=124021) is multi-threaded, use of fork() may lead to deadlocks in the child.\n",
      "  self.pid = os.fork()\n"
     ]
    },
    {
     "name": "stdout",
     "output_type": "stream",
     "text": [
      "\n",
      " ___________________________________________________________________________________________________\n",
      "ExperimentName.FL_VIT Model Final Evaluation \n",
      "\n",
      "Test Accuracy: 87.31% | Precision: 0.87 | Recall: 0.87 | F1-Score: 0.87 | ROC-AUC: 0.98 | MCC: 0.82\n",
      " \n"
     ]
    },
    {
     "data": {
      "image/png": "[encoded data removed]",
      "text/plain": [
       "<Figure size 1500x600 with 2 Axes>"
      ]
     },
     "metadata": {},
     "output_type": "display_data"
    },
    {
     "name": "stdout",
     "output_type": "stream",
     "text": [
      "\n",
      " ___________________________________________________________________________________________________\n",
      "ExperimentName.FL_VIT--skin_lesions Model Classification Report\n",
      "              precision    recall  f1-score   support\n",
      "\n",
      "           0       0.87      0.80      0.83       853\n",
      "           1       0.92      0.95      0.93      2242\n",
      "           2       0.83      0.90      0.87       674\n",
      "           3       0.68      0.62      0.65       155\n",
      "           4       0.78      0.78      0.78       476\n",
      "           5       0.90      0.80      0.85        55\n",
      "           6       0.87      1.00      0.93        52\n",
      "           7       0.91      0.48      0.62       143\n",
      "\n",
      "    accuracy                           0.87      4650\n",
      "   macro avg       0.84      0.79      0.81      4650\n",
      "weighted avg       0.87      0.87      0.87      4650\n",
      "\n",
      "___________________________________________________________________________________________________\n",
      "\n",
      "📊 Consolidated Metrics:\n",
      "⏱️ Total Duration: 8325.04 sec\n",
      "✅ Total Energy: 0.36175 kWh\n",
      "🌍 Total CO₂ Emitted: 0.15555 kg\n",
      "🧠 Peak CPU RAM: 0.0012 GB\n",
      "🖥️ Peak GPU VRAM: 3.7202 GB\n",
      "\n",
      " ___________________________________________________________________________________________________\n"
     ]
    },
    {
     "data": {
      "text/html": [],
      "text/plain": [
       "<IPython.core.display.HTML object>"
      ]
     },
     "metadata": {},
     "output_type": "display_data"
    },
    {
     "data": {
      "text/html": [
       "<br>    <style><br>        .wandb-row {<br>            display: flex;<br>            flex-direction: row;<br>            flex-wrap: wrap;<br>            justify-content: flex-start;<br>            width: 100%;<br>        }<br>        .wandb-col {<br>            display: flex;<br>            flex-direction: column;<br>            flex-basis: 100%;<br>            flex: 1;<br>            padding: 10px;<br>        }<br>    </style><br><div class=\"wandb-row\"><div class=\"wandb-col\"><h3>Run history:</h3><br/><table class=\"wandb\"><tr><td>Accuracy</td><td>▁</td></tr><tr><td>F1-Score</td><td>▁</td></tr><tr><td>MCC</td><td>▁</td></tr><tr><td>Peak FL CPU RAM (GB)</td><td>▁</td></tr><tr><td>Peak FL GPU VRAM (GB)</td><td>▁</td></tr><tr><td>Precision</td><td>▁</td></tr><tr><td>ROC-AUC</td><td>▁</td></tr><tr><td>Recall</td><td>▁</td></tr><tr><td>Total FL CO2 Emitted (kg)</td><td>▁</td></tr><tr><td>Total FL Duration (sec)</td><td>▁</td></tr><tr><td>Total FL Energy (kWh)</td><td>▁</td></tr></table><br/></div><div class=\"wandb-col\"><h3>Run summary:</h3><br/><table class=\"wandb\"><tr><td>Accuracy</td><td>0.87</td></tr><tr><td>Experiment Name</td><td>FL_ViT</td></tr><tr><td>F1-Score</td><td>0.87</td></tr><tr><td>MCC</td><td>0.82</td></tr><tr><td>Model</td><td>FL (ViT)</td></tr><tr><td>Peak FL CPU RAM (GB)</td><td>0.00122</td></tr><tr><td>Peak FL GPU VRAM (GB)</td><td>3.72018</td></tr><tr><td>Precision</td><td>0.87</td></tr><tr><td>ROC-AUC</td><td>0.98</td></tr><tr><td>Recall</td><td>0.87</td></tr><tr><td>Total FL CO2 Emitted (kg)</td><td>0.15555</td></tr><tr><td>Total FL Duration (sec)</td><td>8325.04385</td></tr><tr><td>Total FL Energy (kWh)</td><td>0.36175</td></tr></table><br/></div></div>"
      ],
      "text/plain": [
       "<IPython.core.display.HTML object>"
      ]
     },
     "metadata": {},
     "output_type": "display_data"
    },
    {
     "data": {
      "text/html": [
       " View run <strong style=\"color:#cdcd00\">FL_ViT_skin_lesions</strong> at: <a href='https://wandb.ai/MLC-FedML/PrivacyBench/runs/4el8v4s1' target=\"_blank\">https://wandb.ai/MLC-FedML/PrivacyBench/runs/4el8v4s1</a><br> View project at: <a href='https://wandb.ai/MLC-FedML/PrivacyBench' target=\"_blank\">https://wandb.ai/MLC-FedML/PrivacyBench</a><br>Synced 5 W&B file(s), 0 media file(s), 0 artifact file(s) and 0 other file(s)"
      ],
      "text/plain": [
       "<IPython.core.display.HTML object>"
      ]
     },
     "metadata": {},
     "output_type": "display_data"
    },
    {
     "data": {
      "text/html": [
       "Find logs at: <code>/home/emeka/PrivacyBench/logs/wandb/run-20250514_162057-4el8v4s1/logs</code>"
      ],
      "text/plain": [
       "<IPython.core.display.HTML object>"
      ]
     },
     "metadata": {},
     "output_type": "display_data"
    },
    {
     "name": "stderr",
     "output_type": "stream",
     "text": [
      "/home/emeka/PrivacyBench/.venv/lib/python3.12/site-packages/codecarbon/output_methods/file.py:52: FutureWarning: The behavior of DataFrame concatenation with empty or all-NA entries is deprecated. In a future version, this will no longer exclude empty or all-NA columns when determining the result dtypes. To retain the old behavior, exclude the relevant entries before the concat operation.\n",
      "  df = pd.concat([df, pd.DataFrame.from_records([dict(total.values)])])\n",
      "\u001b[92mINFO \u001b[0m:      fit progress: (5, 0.5616748299663377, {'accuracy': 0.8731182795698925}, 5715.654092818)\n",
      "\u001b[92mINFO \u001b[0m:      configure_evaluate: strategy sampled 3 clients (out of 3)\n",
      "\u001b[36m(ClientAppActor pid=126282)\u001b[0m Some weights of ViTForImageClassification were not initialized from the model checkpoint at google/vit-base-patch16-224-in21k and are newly initialized: ['classifier.bias', 'classifier.weight']\n",
      "\u001b[36m(ClientAppActor pid=126282)\u001b[0m You should probably TRAIN this model on a down-stream task to be able to use it for predictions and inference.\n",
      "\u001b[36m(ClientAppActor pid=126282)\u001b[0m /home/emeka/.local/share/uv/python/cpython-3.12.10-linux-x86_64-gnu/lib/python3.12/multiprocessing/popen_fork.py:66: DeprecationWarning: This process (pid=126282) is multi-threaded, use of fork() may lead to deadlocks in the child.\n",
      "\u001b[36m(ClientAppActor pid=126282)\u001b[0m   self.pid = os.fork()\n",
      "\u001b[36m(ClientAppActor pid=126283)\u001b[0m Some weights of ViTForImageClassification were not initialized from the model checkpoint at google/vit-base-patch16-224-in21k and are newly initialized: ['classifier.bias', 'classifier.weight']\u001b[32m [repeated 2x across cluster]\u001b[0m\n",
      "\u001b[36m(ClientAppActor pid=126283)\u001b[0m You should probably TRAIN this model on a down-stream task to be able to use it for predictions and inference.\u001b[32m [repeated 2x across cluster]\u001b[0m\n",
      "\u001b[36m(ClientAppActor pid=126283)\u001b[0m /home/emeka/.local/share/uv/python/cpython-3.12.10-linux-x86_64-gnu/lib/python3.12/multiprocessing/popen_fork.py:66: DeprecationWarning: This process (pid=126283) is multi-threaded, use of fork() may lead to deadlocks in the child.\n",
      "\u001b[36m(ClientAppActor pid=126283)\u001b[0m   self.pid = os.fork()\n",
      "\u001b[92mINFO \u001b[0m:      aggregate_evaluate: received 3 results and 0 failures\n",
      "\u001b[92mINFO \u001b[0m:      \n",
      "\u001b[92mINFO \u001b[0m:      [SUMMARY]\n",
      "\u001b[92mINFO \u001b[0m:      Run finished 5 round(s) in 5730.05s\n",
      "\u001b[92mINFO \u001b[0m:      \tHistory (loss, distributed):\n",
      "\u001b[92mINFO \u001b[0m:      \t\tround 1: 0.7139676831041774\n",
      "\u001b[92mINFO \u001b[0m:      \t\tround 2: 0.7397041328561803\n",
      "\u001b[92mINFO \u001b[0m:      \t\tround 3: 0.7244150425152233\n",
      "\u001b[92mINFO \u001b[0m:      \t\tround 4: 0.7852088510990143\n",
      "\u001b[92mINFO \u001b[0m:      \t\tround 5: 0.7328538506990299\n",
      "\u001b[92mINFO \u001b[0m:      \tHistory (loss, centralized):\n",
      "\u001b[92mINFO \u001b[0m:      \t\tround 0: 2.1145646212852163\n",
      "\u001b[92mINFO \u001b[0m:      \t\tround 1: 0.6292397684883326\n",
      "\u001b[92mINFO \u001b[0m:      \t\tround 2: 0.5811095370732452\n",
      "\u001b[92mINFO \u001b[0m:      \t\tround 3: 0.5638351049597139\n",
      "\u001b[92mINFO \u001b[0m:      \t\tround 4: 0.5644124354090707\n",
      "\u001b[92mINFO \u001b[0m:      \t\tround 5: 0.5616748299663377\n",
      "\u001b[92mINFO \u001b[0m:      \tHistory (metrics, distributed, evaluate):\n",
      "\u001b[92mINFO \u001b[0m:      \t{'accuracy': [(1, 0.7896505376344086),\n",
      "\u001b[92mINFO \u001b[0m:      \t              (2, 0.8145161290322581),\n",
      "\u001b[92mINFO \u001b[0m:      \t              (3, 0.8286290322580645),\n",
      "\u001b[92mINFO \u001b[0m:      \t              (4, 0.8353494623655914),\n",
      "\u001b[92mINFO \u001b[0m:      \t              (5, 0.8299731182795699)]}\n",
      "\u001b[92mINFO \u001b[0m:      \tHistory (metrics, centralized):\n",
      "\u001b[92mINFO \u001b[0m:      \t{'accuracy': [(0, 0.08774193548387096),\n",
      "\u001b[92mINFO \u001b[0m:      \t              (1, 0.8027956989247312),\n",
      "\u001b[92mINFO \u001b[0m:      \t              (2, 0.8440860215053764),\n",
      "\u001b[92mINFO \u001b[0m:      \t              (3, 0.8604301075268818),\n",
      "\u001b[92mINFO \u001b[0m:      \t              (4, 0.8651612903225806),\n",
      "\u001b[92mINFO \u001b[0m:      \t              (5, 0.8731182795698925)]}\n",
      "\u001b[92mINFO \u001b[0m:      \n"
     ]
    },
    {
     "name": "stdout",
     "output_type": "stream",
     "text": [
      "\n",
      "🕒 Total Time: 96 min 25 sec\n"
     ]
    }
   ],
   "source": [
    "project_root =  os.path.abspath(\"../..\")\n",
    "\n",
    "ray.shutdown()\n",
    "\n",
    "ray.init(\n",
    "    _temp_dir=str(RAY_LOG_DIR),\n",
    "    runtime_env={\"working_dir\": project_root, 'excludes': ['data', '.cache', '.docker', '.local', 'logs/model']}\n",
    "    )\n",
    "\n",
    "start_time = time.perf_counter()\n",
    "\n",
    "run_simulation(\n",
    "    server_app = server,\n",
    "    client_app = client,\n",
    "    num_supernodes = fed_config.get(\"num_clients\"),\n",
    "    backend_config=backend_setup\n",
    ")\n",
    "\n",
    "end_time = time.perf_counter()\n",
    "duration = end_time - start_time\n",
    "print(f\"\\n🕒 Total Time: {duration // 60:.0f} min {duration % 60:.0f} sec\")\n",
    "\n",
    "ray.shutdown()"
   ]
  },
  {
   "cell_type": "markdown",
   "id": "677b3cee-3a6b-4278-9f81-1b0c66aa9232",
   "metadata": {},
   "source": [
    "-----"
   ]
  },
  {
   "cell_type": "code",
   "execution_count": null,
   "id": "0d279911-4046-4612-bbf1-42354908436a",
   "metadata": {},
   "outputs": [],
   "source": []
  }
 ],
 "metadata": {
  "kernelspec": {
   "display_name": ".venv",
   "language": "python",
   "name": "python3"
  },
  "language_info": {
   "codemirror_mode": {
    "name": "ipython",
    "version": 3
   },
   "file_extension": ".py",
   "mimetype": "text/x-python",
   "name": "python",
   "nbconvert_exporter": "python",
   "pygments_lexer": "ipython3",
   "version": "3.12.10"
  }
 },
 "nbformat": 4,
 "nbformat_minor": 5
}
